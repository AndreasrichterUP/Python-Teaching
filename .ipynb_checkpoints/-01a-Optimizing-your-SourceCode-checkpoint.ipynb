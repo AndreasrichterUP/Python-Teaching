{
 "cells": [
  {
   "cell_type": "markdown",
   "metadata": {},
   "source": [
    "**Optimizing Source Code ** \n",
    "==="
   ]
  },
  {
   "cell_type": "markdown",
   "metadata": {},
   "source": [
    "Many code-snippets and examples make not full use of the computational power within a programming language\n",
    "\n",
    "A successful optimization presumes the profiling and exact analyses of the used source code. Different version of the used language also play an important role as function implementations may differ e.g. between python 2.7 and python 3.0.\n",
    "\n",
    "\n"
   ]
  },
  {
   "cell_type": "markdown",
   "metadata": {},
   "source": [
    "Sources: \n",
    "\n",
    "Hans Petter Langtangen - \"Python Scripting for Computational Science\" (https://www.amazon.de/Python-Scripting-Computational-Science-Engineering/dp/3540739157)"
   ]
  },
  {
   "cell_type": "markdown",
   "metadata": {},
   "source": [
    "http://www.scipy-lectures.org/advanced/optimizing/index.html\n",
    "    \n",
    "https://wiki.python.org/moin/PythonSpeed/PerformanceTips\n"
   ]
  },
  {
   "cell_type": "markdown",
   "metadata": {},
   "source": [
    "**Overview of the notebook:**\n",
    "    - Loops\n",
    "    - module prefixes\n",
    "    - numpy functions with scalars\n",
    "    - resizing arrays\n",
    "    - if-then-try-except\n",
    "    "
   ]
  },
  {
   "cell_type": "code",
   "execution_count": 1,
   "metadata": {},
   "outputs": [],
   "source": [
    "import numpy as np"
   ]
  },
  {
   "cell_type": "code",
   "execution_count": 2,
   "metadata": {},
   "outputs": [
    {
     "name": "stdout",
     "output_type": "stream",
     "text": [
      "The slowest run took 5502.65 times longer than the fastest. This could mean that an intermediate result is being cached.\n",
      "1000000 loops, best of 3: 1.27 µs per loop\n"
     ]
    }
   ],
   "source": [
    "a = np.arange(1000)\n",
    "%timeit a**2"
   ]
  },
  {
   "cell_type": "markdown",
   "metadata": {},
   "source": [
    "**Doing things in parallel**\n",
    "\n",
    "https://sebastianraschka.com/Articles/2014_multiprocessing.html\n",
    "\n",
    "https://medium.com/@urban_institute/using-multiprocessing-to-make-python-code-faster-23ea5ef996ba\n",
    "\n",
    "https://nnc3.com/mags/LJ_1994-2014/LJ/217/11238.html"
   ]
  },
  {
   "cell_type": "code",
   "execution_count": 3,
   "metadata": {},
   "outputs": [
    {
     "name": "stdout",
     "output_type": "stream",
     "text": [
      "You have 4 CPUs\n",
      "Process::  Process1\n",
      "Was assigned PID::  2395\n",
      "Process::  Process2\n",
      "Was assigned PID::  2396\n",
      "Process::  Process3\n",
      "Was assigned PID::  2397\n",
      "Process::  Process4\n",
      "Was assigned PID::  2398\n"
     ]
    }
   ],
   "source": [
    "'''\n",
    "Create number of processes using the multiprocessing module\n",
    "'''\n",
    "\n",
    "import multiprocessing\n",
    "from multiprocessing import Process\n",
    "\n",
    "# dummy function\n",
    "def f(id):\n",
    "    #This is a dummy function taking a parameter\n",
    "    return\n",
    "\n",
    "if __name__ == '__main__':\n",
    "\n",
    "    # get the number of CPUs\n",
    "    np = multiprocessing.cpu_count()\n",
    "    print('You have {0:1d} CPUs'.format(np))\n",
    "\n",
    "    # Create the processes\n",
    "    p_list=[]\n",
    "    for i in range(1,np+1):\n",
    "        p = Process(target=f, name='Process'+str(i), args=(i,))\n",
    "        p_list.append(p)\n",
    "        print( 'Process:: ', p.name)\n",
    "        p.start()\n",
    "        print ('Was assigned PID:: ', p.pid)\n",
    "\n",
    "    # Wait for all the processes to finish\n",
    "    for p in p_list:\n",
    "        p.join()"
   ]
  },
  {
   "cell_type": "code",
   "execution_count": 6,
   "metadata": {},
   "outputs": [
    {
     "name": "stdout",
     "output_type": "stream",
     "text": [
      "<concurrent.futures.thread.ThreadPoolExecutor object at 0x10cfea390>_0: sleeping 5main: starting\n",
      "<concurrent.futures.thread.ThreadPoolExecutor object at 0x10cfea390>_1: sleeping 4<concurrent.futures.thread.ThreadPoolExecutor object at 0x10cfea390>_2: sleeping 3\n",
      "\n",
      "\n",
      "main: unprocessed results <generator object Executor.map.<locals>.result_iterator at 0x10cf42ba0>\n",
      "main: waiting for real results\n",
      "<concurrent.futures.thread.ThreadPoolExecutor object at 0x10cfea390>_2: done with 3\n",
      "<concurrent.futures.thread.ThreadPoolExecutor object at 0x10cfea390>_2: sleeping 2\n",
      "<concurrent.futures.thread.ThreadPoolExecutor object at 0x10cfea390>_1: done with 4\n",
      "<concurrent.futures.thread.ThreadPoolExecutor object at 0x10cfea390>_1: sleeping 1\n",
      "<concurrent.futures.thread.ThreadPoolExecutor object at 0x10cfea390>_0: done with 5<concurrent.futures.thread.ThreadPoolExecutor object at 0x10cfea390>_2: done with 2\n",
      "\n",
      "<concurrent.futures.thread.ThreadPoolExecutor object at 0x10cfea390>_1: done with 1\n",
      "main: results: [0.5, 0.4, 0.3, 0.2, 0.1]\n"
     ]
    }
   ],
   "source": [
    "\n",
    "#futures_thread_pool_map.py\n",
    "\n",
    "from concurrent import futures\n",
    "import threading\n",
    "import time\n",
    "\n",
    "\n",
    "def task(n):\n",
    "    print('{}: sleeping {}'.format(\n",
    "        threading.current_thread().name,\n",
    "        n)\n",
    "    )\n",
    "    time.sleep(n / 10)\n",
    "    print('{}: done with {}'.format(\n",
    "        threading.current_thread().name,\n",
    "        n)\n",
    "    )\n",
    "    return n / 10\n",
    "\n",
    "\n",
    "ex = futures.ThreadPoolExecutor(max_workers=3)\n",
    "print('main: starting')\n",
    "results = ex.map(task, range(5, 0, -1))\n",
    "print('main: unprocessed results {}'.format(results))\n",
    "print('main: waiting for real results')\n",
    "real_results = list(results)\n",
    "print('main: results: {}'.format(real_results))\n",
    "\n"
   ]
  },
  {
   "cell_type": "markdown",
   "metadata": {},
   "source": [
    "1) Avoiding Loops\n",
    "==="
   ]
  },
  {
   "cell_type": "markdown",
   "metadata": {},
   "source": [
    "When there are for example vectorized NumPy expressions that can do the same job, use those!\n",
    "\n",
    "Do not loop over lists or arrays when there methods available that get the same result:\n",
    "\n",
    "\n"
   ]
  },
  {
   "cell_type": "code",
   "execution_count": null,
   "metadata": {},
   "outputs": [],
   "source": []
  },
  {
   "cell_type": "markdown",
   "metadata": {},
   "source": [
    "2) Avoid module prefixes in loops\n",
    "==="
   ]
  },
  {
   "cell_type": "markdown",
   "metadata": {},
   "source": [
    "import mod <br/>\n",
    "func = mod.func<br/>\n",
    "\n",
    "for x in hugelist:<br/>\n",
    "    func(x)\n",
    "    \n",
    "    \n",
    "   \n",
    "**will run faster than**\n",
    "\n",
    "\n",
    "import mod<br/>\n",
    "for x in hugelist:<br/>\n",
    "    mod.func(x)    "
   ]
  },
  {
   "cell_type": "code",
   "execution_count": 22,
   "metadata": {},
   "outputs": [],
   "source": [
    "import math\n",
    "def fu(d):\n",
    "    for x in range(1,d):\n",
    "        math.sin(x)"
   ]
  },
  {
   "cell_type": "code",
   "execution_count": 28,
   "metadata": {},
   "outputs": [
    {
     "name": "stdout",
     "output_type": "stream",
     "text": [
      "1 loop, best of 3: 1.47 s per loop\n"
     ]
    }
   ],
   "source": [
    "%timeit fu(10000000)"
   ]
  },
  {
   "cell_type": "code",
   "execution_count": 20,
   "metadata": {},
   "outputs": [],
   "source": [
    "import math\n",
    "sin=math.sin\n",
    "\n",
    "def fu2(d):\n",
    "    for x in range(1,d):\n",
    "        sin(x)"
   ]
  },
  {
   "cell_type": "code",
   "execution_count": 29,
   "metadata": {},
   "outputs": [
    {
     "name": "stdout",
     "output_type": "stream",
     "text": [
      "1 loop, best of 3: 1.21 s per loop\n"
     ]
    }
   ],
   "source": [
    "%timeit fu2(10000000)"
   ]
  },
  {
   "cell_type": "markdown",
   "metadata": {},
   "source": [
    "3) Avoid using NumPy functions with scalar arguments\n",
    "===\n"
   ]
  },
  {
   "cell_type": "markdown",
   "metadata": {},
   "source": []
  },
  {
   "cell_type": "code",
   "execution_count": 7,
   "metadata": {},
   "outputs": [
    {
     "name": "stdout",
     "output_type": "stream",
     "text": [
      "np.sin(2) :  0.909297426826\n",
      "--------------------\n",
      "The slowest run took 18.98 times longer than the fastest. This could mean that an intermediate result is being cached.\n",
      "1000000 loops, best of 3: 966 ns per loop\n",
      "====================\n",
      "math.sin(2) :  0.9092974268256817\n",
      "--------------------\n",
      "The slowest run took 14.21 times longer than the fastest. This could mean that an intermediate result is being cached.\n",
      "10000000 loops, best of 3: 119 ns per loop\n"
     ]
    }
   ],
   "source": [
    "import numpy as np\n",
    "import math\n",
    "\n",
    "print('np.sin(2) : ',np.sin(2))\n",
    "print(20*'-')\n",
    "%timeit np.sin(2)\n",
    "\n",
    "print(20*'=')\n",
    "\n",
    "print('math.sin(2) : ',math.sin(2))\n",
    "print(20*'-')\n",
    "%timeit math.sin(2)"
   ]
  },
  {
   "cell_type": "code",
   "execution_count": null,
   "metadata": {},
   "outputs": [],
   "source": []
  },
  {
   "cell_type": "markdown",
   "metadata": {},
   "source": [
    "4) Avoid resizing NumPy arrays\n",
    "==="
   ]
  },
  {
   "cell_type": "code",
   "execution_count": null,
   "metadata": {},
   "outputs": [],
   "source": []
  },
  {
   "cell_type": "code",
   "execution_count": null,
   "metadata": {},
   "outputs": [],
   "source": []
  },
  {
   "cell_type": "code",
   "execution_count": null,
   "metadata": {},
   "outputs": [],
   "source": []
  },
  {
   "cell_type": "markdown",
   "metadata": {},
   "source": [
    "5) if-else statements are faster than try-except\n",
    "==="
   ]
  },
  {
   "cell_type": "code",
   "execution_count": 10,
   "metadata": {},
   "outputs": [],
   "source": [
    "from math import sqrt\n",
    "def f1(x):\n",
    "    if x > 0:\n",
    "        return sqrt(x)\n",
    "    else:\n",
    "        return 0.0\n",
    "    \n",
    "    \n",
    "def f2(x):\n",
    "    try:\n",
    "        return sqrt(x)\n",
    "    except:\n",
    "        return 0.0"
   ]
  },
  {
   "cell_type": "code",
   "execution_count": 11,
   "metadata": {},
   "outputs": [
    {
     "name": "stdout",
     "output_type": "stream",
     "text": [
      "The slowest run took 14.75 times longer than the fastest. This could mean that an intermediate result is being cached.\n",
      "1000000 loops, best of 3: 181 ns per loop\n"
     ]
    }
   ],
   "source": [
    "%timeit f1(2)"
   ]
  },
  {
   "cell_type": "code",
   "execution_count": 12,
   "metadata": {},
   "outputs": [
    {
     "name": "stdout",
     "output_type": "stream",
     "text": [
      "The slowest run took 19.08 times longer than the fastest. This could mean that an intermediate result is being cached.\n",
      "10000000 loops, best of 3: 157 ns per loop\n"
     ]
    }
   ],
   "source": [
    "%timeit f2(2)"
   ]
  },
  {
   "cell_type": "code",
   "execution_count": 13,
   "metadata": {},
   "outputs": [
    {
     "name": "stdout",
     "output_type": "stream",
     "text": [
      "The slowest run took 17.02 times longer than the fastest. This could mean that an intermediate result is being cached.\n",
      "10000000 loops, best of 3: 109 ns per loop\n"
     ]
    }
   ],
   "source": [
    "%timeit f1(-1)"
   ]
  },
  {
   "cell_type": "code",
   "execution_count": 14,
   "metadata": {},
   "outputs": [
    {
     "name": "stdout",
     "output_type": "stream",
     "text": [
      "The slowest run took 10.45 times longer than the fastest. This could mean that an intermediate result is being cached.\n",
      "1000000 loops, best of 3: 396 ns per loop\n"
     ]
    }
   ],
   "source": [
    "%timeit f2(-1)"
   ]
  },
  {
   "cell_type": "markdown",
   "metadata": {},
   "source": [
    "If a valid condition is requested like shown above the **√2** than if-else and try-except are equally fast.\n",
    "\n",
    "But if the condition is going to be not true like shown above **√-1** the **if-else construction is 4-times faster** than the try-except block. \n",
    "\n",
    "The **except** statement is complex and takes more time. So if such constructions are used on large datasets if-else tests are to priviledge and can increase the performance of the source code."
   ]
  },
  {
   "cell_type": "code",
   "execution_count": null,
   "metadata": {},
   "outputs": [],
   "source": []
  },
  {
   "cell_type": "code",
   "execution_count": null,
   "metadata": {},
   "outputs": [],
   "source": []
  },
  {
   "cell_type": "code",
   "execution_count": null,
   "metadata": {},
   "outputs": [],
   "source": []
  },
  {
   "cell_type": "code",
   "execution_count": 31,
   "metadata": {},
   "outputs": [],
   "source": [
    "import numpy as np\n",
    "a = np.random.rand(20, 2**18)\n",
    "b = np.random.rand(20, 2**18)\n",
    "c = np.ascontiguousarray(a.T)"
   ]
  },
  {
   "cell_type": "code",
   "execution_count": 34,
   "metadata": {},
   "outputs": [
    {
     "name": "stdout",
     "output_type": "stream",
     "text": [
      "100 loops, best of 3: 13.7 ms per loop\n"
     ]
    }
   ],
   "source": [
    "%timeit c = np.ascontiguousarray(a.T)"
   ]
  },
  {
   "cell_type": "code",
   "execution_count": 32,
   "metadata": {},
   "outputs": [
    {
     "name": "stdout",
     "output_type": "stream",
     "text": [
      "The slowest run took 7.62 times longer than the fastest. This could mean that an intermediate result is being cached.\n",
      "100 loops, best of 3: 8.21 ms per loop\n"
     ]
    }
   ],
   "source": [
    "%timeit np.dot(b, a.T)"
   ]
  },
  {
   "cell_type": "code",
   "execution_count": 33,
   "metadata": {},
   "outputs": [
    {
     "name": "stdout",
     "output_type": "stream",
     "text": [
      "100 loops, best of 3: 9.1 ms per loop\n"
     ]
    }
   ],
   "source": [
    "%timeit np.dot(b, c)"
   ]
  },
  {
   "cell_type": "code",
   "execution_count": null,
   "metadata": {},
   "outputs": [],
   "source": []
  },
  {
   "cell_type": "code",
   "execution_count": null,
   "metadata": {},
   "outputs": [],
   "source": []
  },
  {
   "cell_type": "code",
   "execution_count": null,
   "metadata": {},
   "outputs": [],
   "source": []
  },
  {
   "cell_type": "code",
   "execution_count": 36,
   "metadata": {},
   "outputs": [
    {
     "name": "stdout",
     "output_type": "stream",
     "text": [
      "10000000.0\n"
     ]
    }
   ],
   "source": [
    "print(1e7)"
   ]
  },
  {
   "cell_type": "code",
   "execution_count": 38,
   "metadata": {},
   "outputs": [],
   "source": [
    "a = np.zeros(10000000)"
   ]
  },
  {
   "cell_type": "code",
   "execution_count": 39,
   "metadata": {},
   "outputs": [
    {
     "name": "stdout",
     "output_type": "stream",
     "text": [
      "The slowest run took 5.36 times longer than the fastest. This could mean that an intermediate result is being cached.\n",
      "10 loops, best of 3: 24.7 ms per loop\n"
     ]
    }
   ],
   "source": [
    "%timeit a.copy()"
   ]
  },
  {
   "cell_type": "code",
   "execution_count": 43,
   "metadata": {},
   "outputs": [
    {
     "name": "stdout",
     "output_type": "stream",
     "text": [
      "10 loops, best of 3: 25.1 ms per loop\n"
     ]
    }
   ],
   "source": [
    "%timeit a+1"
   ]
  },
  {
   "cell_type": "code",
   "execution_count": 44,
   "metadata": {},
   "outputs": [
    {
     "name": "stdout",
     "output_type": "stream",
     "text": [
      "[ 0.  0.  0. ...,  0.  0.  0.]\n"
     ]
    }
   ],
   "source": [
    "print(a)"
   ]
  },
  {
   "cell_type": "code",
   "execution_count": 45,
   "metadata": {},
   "outputs": [
    {
     "name": "stdout",
     "output_type": "stream",
     "text": [
      "10 loops, best of 3: 26.9 ms per loop\n"
     ]
    }
   ],
   "source": [
    "%timeit global a ; a = 0*a"
   ]
  },
  {
   "cell_type": "code",
   "execution_count": 46,
   "metadata": {},
   "outputs": [
    {
     "name": "stdout",
     "output_type": "stream",
     "text": [
      "100 loops, best of 3: 7.06 ms per loop\n"
     ]
    }
   ],
   "source": [
    "%timeit global a ; a *= 0"
   ]
  },
  {
   "cell_type": "code",
   "execution_count": null,
   "metadata": {},
   "outputs": [],
   "source": []
  },
  {
   "cell_type": "code",
   "execution_count": null,
   "metadata": {},
   "outputs": [],
   "source": []
  },
  {
   "cell_type": "code",
   "execution_count": null,
   "metadata": {},
   "outputs": [],
   "source": []
  },
  {
   "cell_type": "code",
   "execution_count": 19,
   "metadata": {},
   "outputs": [
    {
     "name": "stdout",
     "output_type": "stream",
     "text": [
      "[[ 2  4  3]\n",
      " [ 1  2  3]\n",
      " [-2  4  5]]\n",
      "--------------------\n",
      "[[ 1.  1.  1.]\n",
      " [ 1.  1.  1.]\n",
      " [ 1.  1.  1.]]\n",
      "--------------------\n",
      "[[ 2.  4.  3.]\n",
      " [ 1.  2.  3.]\n",
      " [-2.  4.  5.]]\n",
      "--------------------\n",
      "[[ 9.  9.  9.]\n",
      " [ 6.  6.  6.]\n",
      " [ 7.  7.  7.]]\n"
     ]
    }
   ],
   "source": [
    "import numpy as np\n",
    "A=np.array([[2,4,3],[1,2,3],[-2,4,5]])\n",
    "#A=np.ones((3,3))\n",
    "B=np.ones((3,3))\n",
    "\n",
    "\n",
    "\n",
    "print(A)\n",
    "print(20*'-')\n",
    "print(B)\n",
    "print(20*'-')\n",
    "print(A*B)\n",
    "print(20*'-')\n",
    "print(np.dot(A,B))"
   ]
  },
  {
   "cell_type": "code",
   "execution_count": null,
   "metadata": {},
   "outputs": [],
   "source": []
  }
 ],
 "metadata": {
  "kernelspec": {
   "display_name": "Python 3",
   "language": "python",
   "name": "python3"
  },
  "language_info": {
   "codemirror_mode": {
    "name": "ipython",
    "version": 3
   },
   "file_extension": ".py",
   "mimetype": "text/x-python",
   "name": "python",
   "nbconvert_exporter": "python",
   "pygments_lexer": "ipython3",
   "version": "3.6.1"
  }
 },
 "nbformat": 4,
 "nbformat_minor": 2
}
