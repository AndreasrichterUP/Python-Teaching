{
 "cells": [
  {
   "cell_type": "markdown",
   "metadata": {},
   "source": [
    "-03-Basics-of-Statistical-Distributions-and-Analysis © by A.Richter\n",
    "---"
   ]
  },
  {
   "cell_type": "markdown",
   "metadata": {},
   "source": [
    "Import of modules and libraries..."
   ]
  },
  {
   "cell_type": "code",
   "execution_count": 1,
   "metadata": {
    "collapsed": true
   },
   "outputs": [],
   "source": [
    "import numpy as np                   # numeric python\n",
    "import matplotlib.pyplot as plt      # plot library\n",
    "import matplotlib.mlab as mlab       \n",
    " \n",
    "import scipy as sp                   # scientific python\n",
    "#import scipy.stats as sts\n",
    "from scipy import stats              # statistical distributions\n",
    "\n",
    "import pandas as pd                  # dataframes, data containers\n",
    "import skimage.io as skio            # images\n",
    "import glob\n",
    "%matplotlib inline"
   ]
  },
  {
   "cell_type": "markdown",
   "metadata": {},
   "source": [
    "Basics of Error Types\n",
    "---"
   ]
  },
  {
   "cell_type": "markdown",
   "metadata": {},
   "source": [
    "The task of a (physical) measurement is to determine the value of a physical quantity (length, velocity, concentration,...)\n",
    "\n",
    "On the one hand human senses are limited and on the other hand every measurement is exposed to the\n",
    "(sometimes non-controllable) influences of it's nearby environment. This is why measuring results **x** tend to vary from its error-free but always unknown **true value X** of the physical quantity.\n"
   ]
  },
  {
   "cell_type": "markdown",
   "metadata": {},
   "source": [
    "We generally distinguish between **gross errors**, **systemstic errors** and **random errors**.\n",
    "\n",
    "A **gross error (or Blunder)**  for example is a datapoint that does not fit in a bunch of other measurements, e.g. as shown in the graphic below...A reason for such a mistake can be the human operator (humans tend to make mistakes) or general unlucky circumstances for a measurement. There are lots of statistical tools to eleminate blunders, e.g. Bootstrapping or Jack-Knife as shown below.\n",
    "\n",
    "( see also later: a gross error exites more than **three times the standard deviation** of a measurement)"
   ]
  },
  {
   "cell_type": "markdown",
   "metadata": {},
   "source": [
    "<img src=\"figures/blunder.png\">"
   ]
  },
  {
   "cell_type": "markdown",
   "metadata": {},
   "source": []
  },
  {
   "cell_type": "markdown",
   "metadata": {},
   "source": [
    "**Systemstic errors** can be traced back to the measureing instrument itself. They are always reproduceable in size and direction. Examples are wrongly calibrated scales, a shifted origin of a scale or lenght-delations of scales because of temperature variations and environmental influences. Systematic errors can be eliminated or minimized by improvements of the meassuring system."
   ]
  },
  {
   "cell_type": "markdown",
   "metadata": {},
   "source": [
    "**Random error**... can not be eliminated! Inside a series of measurements there will always be small variations differing in size and direction. Only by repetition of measurements these form of errors can be lowered and controlled but never eliminated... "
   ]
  },
  {
   "cell_type": "markdown",
   "metadata": {},
   "source": [
    "**Statistical-Distributions**\n",
    "---"
   ]
  },
  {
   "cell_type": "markdown",
   "metadata": {},
   "source": [
    "The analysis of statistical distributions in datasets is a basic tool for data analysts."
   ]
  },
  {
   "cell_type": "markdown",
   "metadata": {},
   "source": [
    "a very basic distribution is the **uniform distribution**. (german Gleichverteilung). Numeric Python offers a function called **np.random.rand()** to generate uniformly distributed numbers. The following diagrams will proide a visual impression about this form of distribution. Try it yourself with a increasing number of n."
   ]
  },
  {
   "cell_type": "markdown",
   "metadata": {},
   "source": [
    "Equal or **uniform distribution** : Random numbers between 0 and 1\n",
    "---"
   ]
  },
  {
   "cell_type": "code",
   "execution_count": 22,
   "metadata": {
    "collapsed": false
   },
   "outputs": [
    {
     "data": {
      "image/png": "[encoded data removed]",
      "text/plain": [
       "<matplotlib.figure.Figure at 0x10d2f6860>"
      ]
     },
     "metadata": {},
     "output_type": "display_data"
    },
    {
     "data": {
      "image/png": "[encoded data removed]",
      "text/plain": [
       "<matplotlib.figure.Figure at 0x1126cb588>"
      ]
     },
     "metadata": {},
     "output_type": "display_data"
    }
   ],
   "source": [
    "import numpy as np\n",
    "import matplotlib.pyplot as plt\n",
    "%matplotlib inline\n",
    "n=50  # n=100 #n=1000 #n=10000      #change number of drawn examples \"n\" \n",
    "Nums=np.random.rand(n)\n",
    "#print Nums\n",
    "a=np.arange(0,1.25,0.25)            # make all 0.25 units a vertical dash\n",
    "y=np.zeros(a.shape)\n",
    "fig=plt.figure(figsize=(20,3))\n",
    "plt.plot(a,y,'k|',ms = 30)          # plot verticale dashes in the Graphic \n",
    "\n",
    "plt.hlines(0,0,1)\n",
    "plt.plot(Nums,np.zeros((n)),'ro')   # plot r=red;   o = big filled Point;   .= small filled Point\n",
    "plt.xlim(-0.1,1.1)\n",
    "plt.ylim(-0.5,0.5)\n",
    "plt.yticks([])                     # no y-Axis Annotations\n",
    "plt.show()\n",
    "\n",
    "fig=plt.figure(figsize=(20,3))\n",
    "hist, bins = np.histogram(Nums, bins=25)         #Number of Intervalls, change \"bins\" \n",
    "width = 0.7 * (bins[1] - bins[0])\n",
    "center = (bins[:-1] + bins[1:]) / 2\n",
    "plt.bar(center, hist, align='center', width=width)\n",
    "plt.show()"
   ]
  },
  {
   "cell_type": "code",
   "execution_count": null,
   "metadata": {},
   "outputs": [],
   "source": []
  },
  {
   "cell_type": "markdown",
   "metadata": {},
   "source": [
    "But measured data is in general much more complex as nature loves to generate complexity based on very simple rules..."
   ]
  },
  {
   "cell_type": "code",
   "execution_count": null,
   "metadata": {},
   "outputs": [],
   "source": []
  },
  {
   "cell_type": "markdown",
   "metadata": {},
   "source": [
    "**Standard Normal distribution (Gaussian Distribution)**: random numbers with Mean $\\mu$ = 0 and Standarddeviation $\\sigma$ = 1\n",
    "---"
   ]
  },
  {
   "cell_type": "markdown",
   "metadata": {},
   "source": [
    "The gaussian or normal distribution is one of the most important distributions in science. It was published by **Carl Friedrich Gauss in 1809** \"Theoria motus corporum coelestium in sectionibus conicis solem ambientium\" (dt.: Theorie der Bewegung der in Kegelschnitten sich um die Sonne bewegenden Himmelskörper)\n",
    "which defined the **Normal Distribution** just next to the **Least Squares Method** and the **Maximum-Likelihood-Estimation**"
   ]
  },
  {
   "cell_type": "markdown",
   "metadata": {},
   "source": [
    "It's so called **Probability Desity Function (PDF)** is shown here:"
   ]
  },
  {
   "cell_type": "markdown",
   "metadata": {},
   "source": [
    "$ P(x|\\mu, \\sigma) = \\frac{1}{{\\sigma \\sqrt {2\\pi } }}exp (-\\frac{ (x - \\mu )^2}  {2\\sigma^2 }  )$\n",
    "\n",
    "If the data X follows a normal dist you can write it like this:\n",
    "$ X \\sim \\mathcal{N}(\\mu,\\,\\sigma^{2})\\,.$\n",
    "\n",
    "$ X \\sim \\mathcal{N}(0,1)$ is called the Standard Normal distribution"
   ]
  },
  {
   "cell_type": "markdown",
   "metadata": {},
   "source": [
    "https://de.wikipedia.org/wiki/Normalverteilung"
   ]
  },
  {
   "cell_type": "markdown",
   "metadata": {},
   "source": [
    "Numeric Python also offers a function called **np.random.randn()** to generate normally distributed numbers.\n",
    "\n",
    "Don't mixed it up with **np.random.rand()**, there is an extra **n**!"
   ]
  },
  {
   "cell_type": "markdown",
   "metadata": {},
   "source": [
    "Try it yourselv and play with the source code below..."
   ]
  },
  {
   "cell_type": "code",
   "execution_count": 19,
   "metadata": {
    "collapsed": false
   },
   "outputs": [
    {
     "data": {
      "image/png": "[encoded data removed]",
      "text/plain": [
       "<matplotlib.figure.Figure at 0x111f4ff98>"
      ]
     },
     "metadata": {},
     "output_type": "display_data"
    },
    {
     "data": {
      "image/png": "[encoded data removed]",
      "text/plain": [
       "<matplotlib.figure.Figure at 0x111fdb2e8>"
      ]
     },
     "metadata": {},
     "output_type": "display_data"
    }
   ],
   "source": [
    "import numpy as np\n",
    "import matplotlib.pyplot as plt\n",
    "%matplotlib inline\n",
    "\n",
    "n=50 # n=100 #n=1000 #n=10000           #change number of drawn examples \"n\", start with small\n",
    "Nums=np.random.randn(n)                 # Difference!!! : randn() instead of rand()\n",
    "#print Nums\n",
    "a=np.arange(-3,3.25,0.25)\n",
    "y=np.zeros(a.shape)\n",
    "fig=plt.figure(figsize=(20,3))\n",
    "plt.plot(a,y,'k|',ms = 30)\n",
    "\n",
    "plt.hlines(0,-3,3)\n",
    "plt.plot(Nums,np.zeros((n)),'ro')\n",
    "plt.xlim(-3.25,3.25)\n",
    "plt.ylim(-0.5,0.5)\n",
    "plt.yticks([])\n",
    "plt.show()\n",
    "\n",
    "fig=plt.figure(figsize=(20,3))\n",
    "hist, bins = np.histogram(Nums, bins=25)          #change number of Intervalls \"bins=\" \n",
    "width = 0.7 * (bins[1] - bins[0])\n",
    "center = (bins[:-1] + bins[1:]) / 2\n",
    "plt.bar(center, hist, align='center', width=width)\n",
    "plt.show()"
   ]
  },
  {
   "cell_type": "markdown",
   "metadata": {},
   "source": [
    "Explanation of Graphics of normal dist:\n",
    "    "
   ]
  },
  {
   "cell_type": "markdown",
   "metadata": {},
   "source": [
    "Graphics of std norm with percentage sign and explanations"
   ]
  },
  {
   "cell_type": "markdown",
   "metadata": {},
   "source": [
    " - Bernoulli Dist.\n",
    " \n",
    " - Poisson Dist.  \n",
    " \n",
    " - Log-Normal Dist.\n",
    " \n",
    " - "
   ]
  },
  {
   "cell_type": "markdown",
   "metadata": {},
   "source": [
    "there are a lot of distributions that can be used, e.g."
   ]
  },
  {
   "cell_type": "markdown",
   "metadata": {},
   "source": [
    "https://docs.scipy.org/doc/scipy-0.14.0/reference/stats.html#module-scipy.stats "
   ]
  },
  {
   "cell_type": "code",
   "execution_count": null,
   "metadata": {},
   "outputs": [],
   "source": []
  },
  {
   "cell_type": "code",
   "execution_count": null,
   "metadata": {},
   "outputs": [],
   "source": []
  },
  {
   "cell_type": "markdown",
   "metadata": {},
   "source": [
    "A little review of histogramms\n",
    "---"
   ]
  },
  {
   "cell_type": "markdown",
   "metadata": {},
   "source": [
    "Histograms are a special view to display data. I have allready used them in the examples of statistical distributions above. Its based on a 2D diagram where the horizontal axis shows each data-value and the vertical axis show the \"Häufigkeit\" of each value (how often is this value present in the dataset) \n",
    "\n",
    "By the review of the histogram you can guess what might be the underlying distribution in the data. You can also determine wheater there is just one or two paeks in the histogram....\n",
    "\n",
    "For image data contrast can be easily assessed in this way. An image shows a good contrast when all possible values are present or on the other hand a low contrast when only few values are present.\n",
    "\n",
    "But by a review of the histogram you can not say where a pixel is located in an Image(row/col)"
   ]
  },
  {
   "cell_type": "markdown",
   "metadata": {},
   "source": [
    "http://matplotlib.org/1.2.1/examples/pylab_examples/histogram_demo.html\n",
    "\n",
    "https://plot.ly/matplotlib/histograms/"
   ]
  },
  {
   "cell_type": "markdown",
   "metadata": {},
   "source": [
    "There are multiple options and software libraries to generate the histogram of a dataset like np, plt or pandas,...but I will only display two of them here...  \n",
    "\n",
    "...just like before we start with random values and add an offset and multiplier...\n",
    "\n",
    "pass over the data to the function that calculates the histogram and generate a best fit line for comparison"
   ]
  },
  {
   "cell_type": "markdown",
   "metadata": {},
   "source": [
    "The number of **bins** (here bins=50) describes the interval in which the data is sampled."
   ]
  },
  {
   "cell_type": "markdown",
   "metadata": {},
   "source": [
    "The parameter **normed=1** in plt.hist() ensures a standard curved, this means the area under the curve is always eq. 1\n",
    "\n",
    "If this parameter is deactivated the best fit line is not over the data in the plot..."
   ]
  },
  {
   "cell_type": "code",
   "execution_count": 24,
   "metadata": {
    "collapsed": false
   },
   "outputs": [
    {
     "data": {
      "image/png": "[encoded data removed]",
      "text/plain": [
       "<matplotlib.figure.Figure at 0x1127d0128>"
      ]
     },
     "metadata": {},
     "output_type": "display_data"
    }
   ],
   "source": [
    "#Histogram mittels Funktion  plt.hist()  aus matplotlib\n",
    "\n",
    "import numpy as np\n",
    "import matplotlib.pyplot as plt\n",
    "import matplotlib.mlab as mlab\n",
    "\n",
    "mu, sigma = 100, 15\n",
    "x = mu + sigma*np.random.randn(1000)\n",
    "\n",
    "                                          # generate the histogram of the data\n",
    "n, bins, patches = plt.hist(x, 50, normed=1, facecolor='green', alpha=0.75)\n",
    "#n, bins, patches = plt.hist(x, 50, facecolor='green', alpha=0.75)\n",
    "\n",
    "                                           # add a 'best fit' line, normed=1 has to be set!!!!\n",
    "y = mlab.normpdf( bins, mu, sigma)\n",
    "l = plt.plot(bins, y, 'r--', linewidth=1)\n",
    "\n",
    "plt.xlabel('Smarts')\n",
    "plt.ylabel('Probability')\n",
    "plt.title(r'$\\mathrm{Histogram\\ of\\ IQ:}\\ \\mu=100,\\ \\sigma=15$')\n",
    "#plt.axis([40, 160, 0, 0.03])\n",
    "plt.grid(True)\n",
    "\n",
    "plt.show()\n",
    "#=================================================================================\n"
   ]
  },
  {
   "cell_type": "markdown",
   "metadata": {},
   "source": [
    "The second option to draw a histogram is based on plain numeric python **np.histogram()** and uses  less complex parameters..."
   ]
  },
  {
   "cell_type": "code",
   "execution_count": 25,
   "metadata": {
    "collapsed": false
   },
   "outputs": [
    {
     "data": {
      "image/png": "[encoded data removed]",
      "text/plain": [
       "<matplotlib.figure.Figure at 0x11280eac8>"
      ]
     },
     "metadata": {},
     "output_type": "display_data"
    }
   ],
   "source": [
    "# 2. Option is np.histogram() \n",
    "mu, sigma = 100, 15\n",
    "x = mu + sigma * np.random.randn(1000)\n",
    "\n",
    "                                        # generate the histogram of the data\n",
    "hist, bins = np.histogram(x, bins=50, normed=True)\n",
    "\n",
    "width = 0.7 * (bins[1] - bins[0])\n",
    "center = (bins[:-1] + bins[1:]) / 2\n",
    "plt.bar(center, hist, align='center', width=width)\n",
    "\n",
    "\n",
    "# add a 'best fit' line\n",
    "y = mlab.normpdf( bins, mu, sigma)\n",
    "l = plt.plot(bins, y, 'r--', linewidth=1)\n",
    "\n",
    "plt.xlabel('Smarts')\n",
    "plt.ylabel('Probability')\n",
    "plt.title(r'$\\mathrm{Histogram\\ of\\ IQ:}\\ \\mu=100,\\ \\sigma=15$')\n",
    "#plt.axis([40, 160, 0, 0.03])\n",
    "plt.grid(True)\n",
    "\n",
    "plt.show()"
   ]
  },
  {
   "cell_type": "markdown",
   "metadata": {},
   "source": [
    "choose for you which histigram is best fitting for you and apply it on a dataset of your choice"
   ]
  },
  {
   "cell_type": "code",
   "execution_count": null,
   "metadata": {},
   "outputs": [],
   "source": []
  },
  {
   "cell_type": "markdown",
   "metadata": {},
   "source": [
    "Variance and Covariance\n",
    "----"
   ]
  },
  {
   "cell_type": "markdown",
   "metadata": {},
   "source": [
    "compare the end of the Notebook -01-Basics-of-Python-... there was an example how to calculate \n",
    "the standard deviation of a dataseries.\n",
    "\n",
    "In the following example I will generate **two dataseries** instaed of one and see if I can use the same approach"
   ]
  },
  {
   "cell_type": "markdown",
   "metadata": {},
   "source": [
    "$ std = \\sqrt{\\frac{\\sum\\nolimits_{i=1}^{20}(x_i - \\bar{X})^2}{20-1}}$\n",
    "\n",
    "$ var = std^2 =\\frac{\\sum\\nolimits_{i=1}^{20}(x_i - \\bar{X})^2}{20-1}$ \n",
    "\n",
    "$ cov(x_1,x_2) = \\frac{\\sum\\nolimits_{i=1}^{20}((x_{1i} - \\bar{X_1})\\cdot(x_{2i} - \\bar{X_2}) )}{20-1}$"
   ]
  },
  {
   "cell_type": "code",
   "execution_count": 36,
   "metadata": {},
   "outputs": [
    {
     "name": "stdout",
     "output_type": "stream",
     "text": [
      "           x1         x2\n",
      "0   46.511006  28.799531\n",
      "1   43.266587  28.804536\n",
      "2   44.422259  29.380545\n",
      "3   39.867106  22.856582\n",
      "4   45.225063  30.664442\n",
      "5   55.329253  35.842620\n",
      "6   32.844258  30.807953\n",
      "7   60.740131  26.457877\n",
      "8   50.773094  20.759826\n",
      "9   34.190436  13.947530\n",
      "10  55.023881  43.269816\n",
      "11  49.738645  28.504801\n",
      "12  49.473137  38.759340\n",
      "13  47.664541  35.306789\n",
      "14  50.981708  31.511462\n",
      "15  47.127515  20.190771\n",
      "16  41.603553  41.912030\n",
      "17  59.023745  49.009570\n",
      "18  54.565315  52.498487\n",
      "19  59.674190  42.596172\n"
     ]
    }
   ],
   "source": [
    "#import pandas as pd\n",
    "x1=50+10*np.random.randn(20,1)\n",
    "x2=30+10*np.random.randn(20,1)   \n",
    "\n",
    "# to display the dataseries just next to each other a pandas dataframe can be used\n",
    "\n",
    "df=pd.DataFrame(x1,columns=['x1'])\n",
    "df['x2'] = pd.DataFrame(x2)\n",
    "print(df)"
   ]
  },
  {
   "cell_type": "markdown",
   "metadata": {},
   "source": [
    "**Calculate the mean for each dataseries **"
   ]
  },
  {
   "cell_type": "code",
   "execution_count": 37,
   "metadata": {},
   "outputs": [
    {
     "name": "stdout",
     "output_type": "stream",
     "text": [
      "X1mean: 48.40227125756816\n",
      "X2mean: 32.59403403572277\n",
      "std(x1)=7.80778855351245\n",
      "std(x2)=9.895147007932334\n",
      "var(x1)=60.961562096360026\n",
      "var(x2)=97.91393430859222\n"
     ]
    }
   ],
   "source": [
    "X1mean=np.sum(x1)/20\n",
    "X2mean=np.sum(x2)/20\n",
    "\n",
    "print('X1mean: {}'.format(X1mean))\n",
    "print('X2mean: {}'.format(X2mean))\n",
    "print('std(x1)={}'.format(np.std(x1,ddof=1)))\n",
    "print('std(x2)={}'.format(np.std(x2,ddof=1)))\n",
    "\n",
    "print('var(x1)={}'.format(np.var(x1,ddof=1)))\n",
    "print('var(x2)={}'.format(np.var(x2,ddof=1)))\n"
   ]
  },
  {
   "cell_type": "markdown",
   "metadata": {},
   "source": [
    "**Calculate the residuals from the mean for each datapoint **"
   ]
  },
  {
   "cell_type": "code",
   "execution_count": 38,
   "metadata": {},
   "outputs": [
    {
     "data": {
      "text/html": [
       "<div>\n",
       "<table border=\"1\" class=\"dataframe\">\n",
       "  <thead>\n",
       "    <tr style=\"text-align: right;\">\n",
       "      <th></th>\n",
       "      <th>x1</th>\n",
       "      <th>x2</th>\n",
       "      <th>x1Res</th>\n",
       "      <th>x2Res</th>\n",
       "    </tr>\n",
       "  </thead>\n",
       "  <tbody>\n",
       "    <tr>\n",
       "      <th>0</th>\n",
       "      <td>46.511006</td>\n",
       "      <td>28.799531</td>\n",
       "      <td>-1.891265</td>\n",
       "      <td>-3.794503</td>\n",
       "    </tr>\n",
       "    <tr>\n",
       "      <th>1</th>\n",
       "      <td>43.266587</td>\n",
       "      <td>28.804536</td>\n",
       "      <td>-5.135684</td>\n",
       "      <td>-3.789498</td>\n",
       "    </tr>\n",
       "    <tr>\n",
       "      <th>2</th>\n",
       "      <td>44.422259</td>\n",
       "      <td>29.380545</td>\n",
       "      <td>-3.980013</td>\n",
       "      <td>-3.213489</td>\n",
       "    </tr>\n",
       "    <tr>\n",
       "      <th>3</th>\n",
       "      <td>39.867106</td>\n",
       "      <td>22.856582</td>\n",
       "      <td>-8.535166</td>\n",
       "      <td>-9.737452</td>\n",
       "    </tr>\n",
       "    <tr>\n",
       "      <th>4</th>\n",
       "      <td>45.225063</td>\n",
       "      <td>30.664442</td>\n",
       "      <td>-3.177208</td>\n",
       "      <td>-1.929592</td>\n",
       "    </tr>\n",
       "    <tr>\n",
       "      <th>5</th>\n",
       "      <td>55.329253</td>\n",
       "      <td>35.842620</td>\n",
       "      <td>6.926981</td>\n",
       "      <td>3.248586</td>\n",
       "    </tr>\n",
       "    <tr>\n",
       "      <th>6</th>\n",
       "      <td>32.844258</td>\n",
       "      <td>30.807953</td>\n",
       "      <td>-15.558013</td>\n",
       "      <td>-1.786081</td>\n",
       "    </tr>\n",
       "    <tr>\n",
       "      <th>7</th>\n",
       "      <td>60.740131</td>\n",
       "      <td>26.457877</td>\n",
       "      <td>12.337860</td>\n",
       "      <td>-6.136157</td>\n",
       "    </tr>\n",
       "    <tr>\n",
       "      <th>8</th>\n",
       "      <td>50.773094</td>\n",
       "      <td>20.759826</td>\n",
       "      <td>2.370823</td>\n",
       "      <td>-11.834208</td>\n",
       "    </tr>\n",
       "    <tr>\n",
       "      <th>9</th>\n",
       "      <td>34.190436</td>\n",
       "      <td>13.947530</td>\n",
       "      <td>-14.211835</td>\n",
       "      <td>-18.646504</td>\n",
       "    </tr>\n",
       "    <tr>\n",
       "      <th>10</th>\n",
       "      <td>55.023881</td>\n",
       "      <td>43.269816</td>\n",
       "      <td>6.621610</td>\n",
       "      <td>10.675782</td>\n",
       "    </tr>\n",
       "    <tr>\n",
       "      <th>11</th>\n",
       "      <td>49.738645</td>\n",
       "      <td>28.504801</td>\n",
       "      <td>1.336374</td>\n",
       "      <td>-4.089233</td>\n",
       "    </tr>\n",
       "    <tr>\n",
       "      <th>12</th>\n",
       "      <td>49.473137</td>\n",
       "      <td>38.759340</td>\n",
       "      <td>1.070866</td>\n",
       "      <td>6.165306</td>\n",
       "    </tr>\n",
       "    <tr>\n",
       "      <th>13</th>\n",
       "      <td>47.664541</td>\n",
       "      <td>35.306789</td>\n",
       "      <td>-0.737730</td>\n",
       "      <td>2.712755</td>\n",
       "    </tr>\n",
       "    <tr>\n",
       "      <th>14</th>\n",
       "      <td>50.981708</td>\n",
       "      <td>31.511462</td>\n",
       "      <td>2.579437</td>\n",
       "      <td>-1.082572</td>\n",
       "    </tr>\n",
       "    <tr>\n",
       "      <th>15</th>\n",
       "      <td>47.127515</td>\n",
       "      <td>20.190771</td>\n",
       "      <td>-1.274756</td>\n",
       "      <td>-12.403263</td>\n",
       "    </tr>\n",
       "    <tr>\n",
       "      <th>16</th>\n",
       "      <td>41.603553</td>\n",
       "      <td>41.912030</td>\n",
       "      <td>-6.798718</td>\n",
       "      <td>9.317996</td>\n",
       "    </tr>\n",
       "    <tr>\n",
       "      <th>17</th>\n",
       "      <td>59.023745</td>\n",
       "      <td>49.009570</td>\n",
       "      <td>10.621474</td>\n",
       "      <td>16.415536</td>\n",
       "    </tr>\n",
       "    <tr>\n",
       "      <th>18</th>\n",
       "      <td>54.565315</td>\n",
       "      <td>52.498487</td>\n",
       "      <td>6.163044</td>\n",
       "      <td>19.904453</td>\n",
       "    </tr>\n",
       "    <tr>\n",
       "      <th>19</th>\n",
       "      <td>59.674190</td>\n",
       "      <td>42.596172</td>\n",
       "      <td>11.271919</td>\n",
       "      <td>10.002138</td>\n",
       "    </tr>\n",
       "    <tr>\n",
       "      <th>0</th>\n",
       "      <td>48.402271</td>\n",
       "      <td>32.594034</td>\n",
       "      <td>7.807789</td>\n",
       "      <td>9.895147</td>\n",
       "    </tr>\n",
       "  </tbody>\n",
       "</table>\n",
       "</div>"
      ],
      "text/plain": [
       "           x1         x2      x1Res      x2Res\n",
       "0   46.511006  28.799531  -1.891265  -3.794503\n",
       "1   43.266587  28.804536  -5.135684  -3.789498\n",
       "2   44.422259  29.380545  -3.980013  -3.213489\n",
       "3   39.867106  22.856582  -8.535166  -9.737452\n",
       "4   45.225063  30.664442  -3.177208  -1.929592\n",
       "5   55.329253  35.842620   6.926981   3.248586\n",
       "6   32.844258  30.807953 -15.558013  -1.786081\n",
       "7   60.740131  26.457877  12.337860  -6.136157\n",
       "8   50.773094  20.759826   2.370823 -11.834208\n",
       "9   34.190436  13.947530 -14.211835 -18.646504\n",
       "10  55.023881  43.269816   6.621610  10.675782\n",
       "11  49.738645  28.504801   1.336374  -4.089233\n",
       "12  49.473137  38.759340   1.070866   6.165306\n",
       "13  47.664541  35.306789  -0.737730   2.712755\n",
       "14  50.981708  31.511462   2.579437  -1.082572\n",
       "15  47.127515  20.190771  -1.274756 -12.403263\n",
       "16  41.603553  41.912030  -6.798718   9.317996\n",
       "17  59.023745  49.009570  10.621474  16.415536\n",
       "18  54.565315  52.498487   6.163044  19.904453\n",
       "19  59.674190  42.596172  11.271919  10.002138\n",
       "0   48.402271  32.594034   7.807789   9.895147"
      ]
     },
     "execution_count": 38,
     "metadata": {},
     "output_type": "execute_result"
    }
   ],
   "source": [
    "x1Res=x1-X1mean\n",
    "x2Res=x2-X2mean\n",
    "# add the residuals to the dataframe\n",
    "df['x1Res'] = pd.DataFrame(x1Res)\n",
    "df['x2Res'] = pd.DataFrame(x2Res)\n",
    "\n",
    "# add Means and std's in the last line of the DataFrame\n",
    "pd.concat([df,pd.DataFrame([[X1mean,X2mean,np.std(x1,ddof=1),np.std(x2,ddof=1)]],columns=['x1','x2','x1Res','x2Res' ])])"
   ]
  },
  {
   "cell_type": "markdown",
   "metadata": {},
   "source": [
    "calc the elementwise product of column 2 & column 3 and sum it up"
   ]
  },
  {
   "cell_type": "code",
   "execution_count": 43,
   "metadata": {},
   "outputs": [
    {
     "name": "stdout",
     "output_type": "stream",
     "text": [
      "[[   7.17641132]\n",
      " [  19.46166732]\n",
      " [  12.78972478]\n",
      " [  83.11077002]\n",
      " [   6.13071605]\n",
      " [  22.50289333]\n",
      " [  27.78786944]\n",
      " [ -75.70704556]\n",
      " [ -28.05681523]\n",
      " [ 265.00103806]\n",
      " [  70.69086254]\n",
      " [  -5.46474516]\n",
      " [   6.60221769]\n",
      " [  -2.0012815 ]\n",
      " [  -2.79242543]\n",
      " [  15.81113205]\n",
      " [ -63.35042564]\n",
      " [ 174.35718852]\n",
      " [ 122.67201659]\n",
      " [ 112.74329333]]\n",
      "--------------------\n",
      "Sum: 769.4650625034179\n",
      "Cov: 40.49816118439042\n",
      "std(x1)=7.80778855351245| std(x2)=9.895147007932334 \n",
      "var(x1)=60.961562096360026| var(x2)=97.91393430859222 \n"
     ]
    }
   ],
   "source": [
    "print(x1Res*x2Res)\n",
    "print(20*'-') \n",
    "print('Sum: {}'.format(np.sum(x1Res*x2Res)))\n",
    "print('Cov: {}'.format(np.sum(x1Res*x2Res)/19))\n",
    "print('std(x1)={}| std(x2)={} '.format(np.std(x1,ddof=1),np.std(x2,ddof=1)))\n",
    "print('var(x1)={}| var(x2)={} '.format(np.var(x1,ddof=1),np.var(x2,ddof=1)))"
   ]
  },
  {
   "cell_type": "markdown",
   "metadata": {},
   "source": [
    "Compare the Value of the calculated Cov with the output of the build-in numpy fuction **np.cov()**"
   ]
  },
  {
   "cell_type": "markdown",
   "metadata": {},
   "source": [
    "keep in mind that the numpy arrays x1 and x2 must be transposed to calculate the inner-Matrixproduct, for details see the documentation of numpy.cov(): https://..."
   ]
  },
  {
   "cell_type": "code",
   "execution_count": 40,
   "metadata": {},
   "outputs": [
    {
     "data": {
      "text/plain": [
       "array([[ 60.9615621 ,  40.49816118],\n",
       "       [ 40.49816118,  97.91393431]])"
      ]
     },
     "execution_count": 40,
     "metadata": {},
     "output_type": "execute_result"
    }
   ],
   "source": [
    "np.cov(x1.T,x2.T)"
   ]
  },
  {
   "cell_type": "markdown",
   "metadata": {},
   "source": [
    "Analysis of Correlations\n",
    "---"
   ]
  },
  {
   "cell_type": "markdown",
   "metadata": {},
   "source": [
    "Correlation is widely used in statistics to assess the dependencies of dataseries. In the following examples three different coefficients are show and compared to display the ...\n",
    "\n",
    "The basisc assumption is here that only linear dependencies are in the data."
   ]
  },
  {
   "cell_type": "markdown",
   "metadata": {},
   "source": [
    "nach Pearson: https://de.wikipedia.org/wiki/Korrelationskoeffizient  | nach Spearman oder Kendall: https://de.wikipedia.org/wiki/Rangkorrelationskoeffizient  "
   ]
  },
  {
   "cell_type": "markdown",
   "metadata": {},
   "source": [
    "**Pearson's Correlation**"
   ]
  },
  {
   "cell_type": "markdown",
   "metadata": {},
   "source": [
    "The oftern used and most famous correlation was introduced by Bravis Pearson in ... \n",
    "\n",
    "It is closely related to the calculation of the variance and the covariance as shown above..."
   ]
  },
  {
   "cell_type": "code",
   "execution_count": 45,
   "metadata": {
    "collapsed": false
   },
   "outputs": [
    {
     "name": "stdout",
     "output_type": "stream",
     "text": [
      "                \n",
      "Create normal distributed data : \n",
      "x1: [ 1.76405235  0.40015721  0.97873798  2.2408932   1.86755799 -0.97727788\n",
      "  0.95008842 -0.15135721 -0.10321885  0.4105985   0.14404357  1.45427351\n",
      "  0.76103773  0.12167502  0.44386323  0.33367433  1.49407907 -0.20515826\n",
      "  0.3130677  -0.85409574]\n",
      "-----------------\n",
      "x2: [-2.55298982  0.6536186   0.8644362  -0.74216502  2.26975462 -1.45436567\n",
      "  0.04575852 -0.18718385  1.53277921  1.46935877  0.15494743  0.37816252\n",
      " -0.88778575 -1.98079647 -0.34791215  0.15634897  1.23029068  1.20237985\n",
      " -0.38732682 -0.30230275]\n"
     ]
    },
    {
     "data": {
      "image/png": "[encoded data removed]",
      "text/plain": [
       "<matplotlib.figure.Figure at 0x111045f28>"
      ]
     },
     "metadata": {},
     "output_type": "display_data"
    },
    {
     "name": "stdout",
     "output_type": "stream",
     "text": [
      "Correlationsmatrix (Pearson): \n",
      "                \n",
      "[[ 1.          0.08738675]\n",
      " [ 0.08738675  1.        ]]\n",
      "___________________________________\n",
      "                \n",
      " Pearsons Correlation Coefficient: 0.08738675035810137\n"
     ]
    }
   ],
   "source": [
    "# Pearson Correlation Coef\n",
    "# scipy.stats.spearmanr()    # Spearman Correlation Coef\n",
    "print('                ')\n",
    "print('Create normal distributed data : ')\n",
    "np.random.seed(0)\n",
    "x1=np.random.randn(20,1)      # generate 20 random numbers for x1 and x2\n",
    "x2=np.random.randn(20,1)\n",
    "\n",
    "print('x1:', np.ravel(x1) )    # np.ravel() macht z.B. aus einem 2x2 array eine 1x4 Liste...\n",
    "print( '-----------------')\n",
    "print('x2:', np.ravel(x2))\n",
    "\n",
    "plt.plot(x1,x2,'bo')         # plotten b=blau   o=großer ausgefüllter Punkt   .= kleiner ausgefüllter Punkt\n",
    "plt.xlim(-3,25)          #Anzeigebereich festlegen\n",
    "plt.ylim(-3,25)\n",
    "plt.show()\n",
    "\n",
    "print( 'Correlationsmatrix (Pearson): ')\n",
    "print('                ')\n",
    "print( np.corrcoef(np.ravel(x1),np.ravel(x2) ) )  # np.corrcoef() erzeugt eine 2x2 Korrelationsmatrix Element 1,2 ist der gewünschte Korrelationskoeffizient \n",
    "print( '___________________________________')\n",
    "print( '                ')\n",
    "pr =np.corrcoef(np.ravel(x1),np.ravel(x2) )[0,1]   # Python fängt bei 0 an zu zählen \n",
    "print(' Pearsons Correlation Coefficient: {}'.format(pr))\n"
   ]
  },
  {
   "cell_type": "code",
   "execution_count": null,
   "metadata": {
    "collapsed": true
   },
   "outputs": [],
   "source": []
  },
  {
   "cell_type": "markdown",
   "metadata": {},
   "source": [
    "Compare the Correlations of Pearson, Spearman and Kendall in one example\n",
    "---"
   ]
  },
  {
   "cell_type": "code",
   "execution_count": 47,
   "metadata": {
    "collapsed": false
   },
   "outputs": [
    {
     "name": "stdout",
     "output_type": "stream",
     "text": [
      "                \n",
      "generate Normalverteilte Data: \n",
      "x1: [ 1.76405235  0.40015721  0.97873798  2.2408932   1.86755799 -0.97727788\n",
      "  0.95008842 -0.15135721 -0.10321885  0.4105985   0.14404357  1.45427351\n",
      "  0.76103773  0.12167502  0.44386323  0.33367433  1.49407907 -0.20515826\n",
      "  0.3130677  -0.85409574]\n",
      "-----------------\n",
      "x2: [-2.55298982  0.6536186   0.8644362  -0.74216502  2.26975462 -1.45436567\n",
      "  0.04575852 -0.18718385  1.53277921  1.46935877  0.15494743  0.37816252\n",
      " -0.88778575 -1.98079647 -0.34791215  0.15634897  1.23029068  1.20237985\n",
      " -0.38732682 -0.30230275]\n"
     ]
    },
    {
     "data": {
      "image/png": "[encoded data removed]",
      "text/plain": [
       "<matplotlib.figure.Figure at 0x1113fcc50>"
      ]
     },
     "metadata": {},
     "output_type": "display_data"
    },
    {
     "name": "stdout",
     "output_type": "stream",
     "text": [
      "Correlationsmatrix (Pearson): \n",
      "                \n",
      "[[ 1.          0.08738675]\n",
      " [ 0.08738675  1.        ]]\n",
      "___________________________________\n",
      "                \n",
      " Pearsons Correlation: 0.08738675035810137\n",
      "Spearmans Correlation: 0.10827067669172932\n",
      "  Kendall Correlation: 0.11578947368421053\n",
      "_____________________________________\n",
      "                \n"
     ]
    }
   ],
   "source": [
    "print( '                ')\n",
    "print( 'generate Normalverteilte Data: ')\n",
    "np.random.seed(0)\n",
    "x1=np.random.randn(20,1)\n",
    "x2=np.random.randn(20,1)\n",
    "\n",
    "print( 'x1:', np.ravel(x1))\n",
    "print( '-----------------')\n",
    "print( 'x2:', np.ravel(x2))\n",
    "\n",
    "plt.plot(x1,x2,'bo')\n",
    "plt.xlim(-3,5)\n",
    "plt.ylim(-3,5)\n",
    "plt.show()\n",
    "print( 'Correlationsmatrix (Pearson): ')\n",
    "print('                ')\n",
    "print( np.corrcoef(np.ravel(x1),np.ravel(x2) ))\n",
    "print( '___________________________________')\n",
    "print( '                ')\n",
    "pr =np.corrcoef(np.ravel(x1),np.ravel(x2) )[0,1]\n",
    "print( ' Pearsons Correlation: {}'.format(pr))\n",
    "\n",
    "sr,sp = stats.spearmanr(x1,x2)\n",
    "\n",
    "print( 'Spearmans Correlation: {}'.format(sr))\n",
    "\n",
    "kr,kp = stats.kendalltau(x1,x2)\n",
    "\n",
    "print( '  Kendall Correlation: {}'.format(kr))\n",
    "print( '_____________________________________')\n",
    "print( '                ')"
   ]
  },
  {
   "cell_type": "markdown",
   "metadata": {},
   "source": [
    "Adding a Datapoint (Outliner/Blunder/gross error) to the data series"
   ]
  },
  {
   "cell_type": "code",
   "execution_count": 54,
   "metadata": {
    "collapsed": false
   },
   "outputs": [
    {
     "name": "stdout",
     "output_type": "stream",
     "text": [
      "                \n",
      "                \n",
      "_____________________________________\n",
      "                \n",
      "insert false datapoint (Outliner) at position 10 in the set:\n",
      "x1[10] = 18\n",
      "x2[10] = 18 \n",
      "calculate Correlationmatrix (Pearson) again: \n",
      "                \n",
      "[[ 1.          0.93971012]\n",
      " [ 0.93971012  1.        ]]\n",
      "                \n",
      " Pearson's Correlation: 0.9397101187830161 !!!! 1 wrong Point, totally different result than before!\n",
      "_____________________________________\n"
     ]
    },
    {
     "data": {
      "image/png": "[encoded data removed]",
      "text/plain": [
       "<matplotlib.figure.Figure at 0x1122d7400>"
      ]
     },
     "metadata": {},
     "output_type": "display_data"
    },
    {
     "name": "stdout",
     "output_type": "stream",
     "text": [
      "!!!But:                \n",
      "_____________________________________\n",
      "                \n",
      "Spearman's Correlation: 0.23308270676691725\n",
      "  Kendall's Correlation: 0.19999999999999998\n"
     ]
    }
   ],
   "source": [
    "print( '                ')\n",
    "print( '                ')\n",
    "print( '_____________________________________')\n",
    "print( '                ')\n",
    "print( 'insert false datapoint (Outliner) at position 10 in the set:')\n",
    "      \n",
    "print( 'x1[10] = 18')\n",
    "print( 'x2[10] = 18 ')\n",
    "x1[10]=18\n",
    "x2[10]=18\n",
    "\n",
    "print( 'calculate Correlationmatrix (Pearson) again: ')\n",
    "print( '                ')\n",
    "print(np.corrcoef(np.ravel(x1),np.ravel(x2) ))\n",
    "pr =np.corrcoef(np.ravel(x1),np.ravel(x2) )[0,1]\n",
    "print( '                ')\n",
    "print( \" Pearson's Correlation: {}\".format(pr), '!!!! 1 wrong Point, totally different result than before!')\n",
    "print( '_____________________________________')\n",
    "\n",
    "plt.plot(x1,x2,'bo')\n",
    "plt.xlim(-3,20)\n",
    "plt.ylim(-3,20)\n",
    "plt.show()\n",
    "print( '!!!But:                ')\n",
    "print( '_____________________________________')\n",
    "print ('                ')\n",
    "sr,sp= stats.spearmanr(x1,x2)\n",
    "print (\"Spearman's Correlation: {}\".format(sr))\n",
    "kr,kp = stats.kendalltau(x1,x2)\n",
    "print( \"  Kendall's Correlation: {}\".format(kr))\n",
    "\n"
   ]
  },
  {
   "cell_type": "markdown",
   "metadata": {},
   "source": [
    "The Correlation calculated by the Pearson coefficient is missleading and showing a high linear \n",
    "dependency of the data, just because there is one false datapoint in the set.\n",
    "\n",
    "\n",
    "Spearman's and Kendall's coefficients are more robuts against gross errors."
   ]
  },
  {
   "cell_type": "code",
   "execution_count": null,
   "metadata": {},
   "outputs": [],
   "source": []
  },
  {
   "cell_type": "code",
   "execution_count": null,
   "metadata": {},
   "outputs": [],
   "source": []
  },
  {
   "cell_type": "code",
   "execution_count": null,
   "metadata": {},
   "outputs": [],
   "source": []
  },
  {
   "cell_type": "code",
   "execution_count": null,
   "metadata": {},
   "outputs": [],
   "source": []
  },
  {
   "cell_type": "markdown",
   "metadata": {},
   "source": [
    "**Jack-Knife Estimation of a Correlations coefficient and display of the histogram**\n",
    "---"
   ]
  },
  {
   "cell_type": "markdown",
   "metadata": {},
   "source": [
    "https://de.wikipedia.org/wiki/Jackknife_%28Statistik%29"
   ]
  },
  {
   "cell_type": "markdown",
   "metadata": {},
   "source": [
    "The idea of the Jack-Knife Method is very simple. For example if you have to check a bunch of **n** measurements with the pearson correlation (compare above) and you don't know if there is a blunder in the data...\n",
    "\n",
    "Just delete the first data point in the list and calculate the pearson correlation again with (n-1) datapoints.\n",
    "\n",
    "Than put the first datapoint back to the list and now delete the second datapoint and calculate the pearson correlation. Continue this procedure until all datapoints were ones deleted from the set and observe if the pearson correlation changes.\n",
    "\n",
    "Assuming that there is just one false point in the data, you will definitly find the gross error.\n",
    "\n",
    "Try it yourself below:\n"
   ]
  },
  {
   "cell_type": "code",
   "execution_count": 11,
   "metadata": {
    "collapsed": false
   },
   "outputs": [
    {
     "name": "stdout",
     "output_type": "stream",
     "text": [
      "...löschen von Punkt 0 --> r =   0.9621104807\n",
      "...löschen von Punkt 1 --> r =   0.940652434923\n",
      "...löschen von Punkt 2 --> r =   0.939969315517\n",
      "...löschen von Punkt 3 --> r =   0.949348009716\n",
      "...löschen von Punkt 4 --> r =   0.940795274363\n",
      "...löschen von Punkt 5 --> r =   0.938557777273\n",
      "...löschen von Punkt 6 --> r =   0.939814047699\n",
      "...löschen von Punkt 7 --> r =   0.939815165439\n",
      "...löschen von Punkt 8 --> r =   0.947301723575\n",
      "...löschen von Punkt 9 --> r =   0.943748469344\n",
      "...löschen von Punkt 10 --> r =   0.0901978413034\n",
      "...löschen von Punkt 11 --> r =   0.940176182253\n",
      "...löschen von Punkt 12 --> r =   0.941256967022\n",
      "...löschen von Punkt 13 --> r =   0.942436471688\n",
      "...löschen von Punkt 14 --> r =   0.939520935119\n",
      "...löschen von Punkt 15 --> r =   0.939763777128\n",
      "...löschen von Punkt 16 --> r =   0.93979983832\n",
      "...löschen von Punkt 17 --> r =   0.945801494962\n",
      "...löschen von Punkt 18 --> r =   0.939426161379\n",
      "...löschen von Punkt 19 --> r =   0.941253472115\n",
      "___________________________\n",
      "   \n",
      "Index of Outliner: [10]\n",
      "Correlation without Outliner: 0.09019784130341511\n",
      "  \n",
      "  \n",
      "Histogram of Jack-Knife Coorelation Coefficients\n"
     ]
    },
    {
     "data": {
      "image/png": "[encoded data removed]",
      "text/plain": [
       "<matplotlib.figure.Figure at 0x111c8bf28>"
      ]
     },
     "metadata": {},
     "output_type": "display_data"
    }
   ],
   "source": [
    "CorrArr=[]\n",
    "for i in range(0,len(x1)):\n",
    "    xjk=[]\n",
    "    yjk=[]\n",
    "    xjk=np.delete(x1,i)                  # i-ten Punkt löschen und mit dem Rest die Korrelation berechnen\n",
    "    yjk=np.delete(x2,i)\n",
    "    CorrArr.append(np.corrcoef(xjk,yjk)[0,1])\n",
    "    print( '...löschen von Punkt', i , '--> r =  ' ,np.corrcoef(xjk,yjk)[0,1])\n",
    "\n",
    "#http://docs.scipy.org/doc/numpy-1.10.1/reference/generated/numpy.where.html\n",
    "\n",
    "print('___________________________')\n",
    "print('   ')\n",
    "print( 'Index of Outliner: {}'.format(np.where(CorrArr==np.min(CorrArr))[0] ))\n",
    "print( 'Correlation without Outliner: {}'.format(np.min(CorrArr)))\n",
    "print( '  ')\n",
    "print( '  ')\n",
    "print( 'Histogram of Jack-Knife Coorelation Coefficients')\n",
    "hist, bins = np.histogram(CorrArr, bins=5)\n",
    "width = 0.7 * (bins[1] - bins[0])\n",
    "center = (bins[:-1] + bins[1:]) / 2\n",
    "plt.bar(center, hist, align='center', width=width)\n",
    "plt.show()"
   ]
  },
  {
   "cell_type": "markdown",
   "metadata": {},
   "source": [
    "Bootstrapping Estimation of a  Correlations coefficient and Display in a histogram\n",
    "-------"
   ]
  },
  {
   "cell_type": "markdown",
   "metadata": {},
   "source": [
    "<img src='figures/Bootstrapp_Example2.png'>"
   ]
  },
  {
   "cell_type": "markdown",
   "metadata": {},
   "source": [
    "https://de.wikipedia.org/wiki/Bootstrapping_%28Statistik%29"
   ]
  },
  {
   "cell_type": "code",
   "execution_count": 57,
   "metadata": {
    "collapsed": false
   },
   "outputs": [
    {
     "name": "stdout",
     "output_type": "stream",
     "text": [
      "Mean: 0.001821648742860046\n",
      "std: 0.22890391397432838\n",
      "Histogram of Bootstrap Estimation of Correlation\n"
     ]
    },
    {
     "data": {
      "image/png": "[encoded data removed]",
      "text/plain": [
       "<matplotlib.figure.Figure at 0x111504668>"
      ]
     },
     "metadata": {},
     "output_type": "display_data"
    }
   ],
   "source": [
    "CorrArr2=[]\n",
    "for i in range(0,10000):           # range(0,100)  range(0,1000)   range(0,10000)\n",
    "    \n",
    "    x1bs=[]\n",
    "    x2bs=[]\n",
    "    x1bs =  np.random.choice(np.ravel(x1),20, replace=True)\n",
    "    x2bs =  np.random.choice(np.ravel(x2),20, replace=True)\n",
    "    \n",
    "    CorrArr2.append(np.corrcoef(x1bs,x2bs)[0,1])\n",
    "\n",
    "#print len(CorrArr2) \n",
    "print( 'Mean: {}'.format(np.mean(CorrArr2)))\n",
    "print( 'std: {}'.format(np.std(CorrArr2)))\n",
    "\n",
    "print('Histogram of Bootstrap Estimation of Correlation')\n",
    "hist, bins = np.histogram(CorrArr2, bins=50)\n",
    "width = 0.7 * (bins[1] - bins[0])\n",
    "center = (bins[:-1] + bins[1:]) / 2\n",
    "plt.bar(center, hist, align='center', width=width)\n",
    "plt.show()"
   ]
  },
  {
   "cell_type": "markdown",
   "metadata": {},
   "source": [
    "Bootstrapping - Schätzung für Regressionsanalyses\n",
    "----"
   ]
  },
  {
   "cell_type": "markdown",
   "metadata": {},
   "source": [
    "http://nbviewer.jupyter.org/gist/aflaxman/6871948  | http://people.duke.edu/~ccc14/pcfb/analysis.html"
   ]
  },
  {
   "cell_type": "markdown",
   "metadata": {},
   "source": [
    "Untersuchung der linearen Funktion: $ y=6.3 \\cdot x + 15            $"
   ]
  },
  {
   "cell_type": "markdown",
   "metadata": {},
   "source": [
    "Untersuchung der quadratischen Funktion: $yq=3 \\cdot x^2 + 4 \\cdot x + 7$"
   ]
  },
  {
   "cell_type": "code",
   "execution_count": 61,
   "metadata": {},
   "outputs": [],
   "source": [
    "import pandas as pd\n",
    "from matplotlib.pyplot import *\n",
    "np.random.seed(0)\n",
    "x=10*np.random.rand(20,1)   # uniform distributed samples zwischen [0,10]\n",
    "\n",
    "y=6.3*x+15\n",
    "\n",
    "yq = 3*x*x + 4*x + 7\n",
    "\n",
    "y=y+5*np.random.randn(20,1)\n",
    "\n",
    "yq=yq+5*np.random.randn(20,1)\n",
    "#print x,y\n",
    "\n",
    "xyData3 = pd.DataFrame(x)                    # PANDAS Dataframe Spalten mit den zufälligen Werten x,y belegen\n",
    "xyData3['1'] = pd.DataFrame(y)\n",
    "#print xyData3\n",
    "x=np.ravel(x)\n",
    "y=np.ravel(y)"
   ]
  },
  {
   "cell_type": "markdown",
   "metadata": {},
   "source": [
    "Schätzung der Funktion durch eine Regressionsanalyse (Polynomial-Fit)\n",
    "---"
   ]
  },
  {
   "cell_type": "code",
   "execution_count": null,
   "metadata": {
    "collapsed": false
   },
   "outputs": [],
   "source": [
    "#http://docs.scipy.org/doc/numpy-1.10.0/reference/generated/numpy.polyfit.html\n",
    "m,b=np.polyfit(x,y,1)\n",
    "\n",
    "coefficients=np.polyfit(x,yq,2)   \n",
    "#print coefficients\n",
    "polynomial = np.poly1d(np.ravel(coefficients))\n",
    "xs = np.arange(0, 10, 0.1)\n",
    "ys = polynomial(xs)\n",
    "\n",
    "#print ' Steigung: {} / y-Schnittpunkt  {}'.format(m,b)\n",
    "#print b0,b1,b2\n",
    "#plotten der verteilungen\n",
    "plt.figure(figsize=(20,10))\n",
    "plt.plot(x,y,'ro', label='Lineare Funktion, geschaetzte Steigung: {} / y-Schnittpunkt  {}'.format(m,b))\n",
    "plt.plot(x,yq,'b.',label='quadratische Funktion, geschaetzte Koeffizienten b2,b1,b0={} '.format(np.ravel(coefficients)))\n",
    "# plotten der Regressionsgeraden darüber\n",
    "plt.plot(x,m*x+b,'b')\n",
    "\n",
    "plt.legend()\n",
    "plt.plot(xs,ys,'g')\n",
    "plt.show()\n"
   ]
  },
  {
   "cell_type": "markdown",
   "metadata": {},
   "source": [
    "Bootstrapping\n",
    "---"
   ]
  },
  {
   "cell_type": "code",
   "execution_count": null,
   "metadata": {
    "collapsed": false
   },
   "outputs": [],
   "source": [
    "\n",
    "marr=[]\n",
    "barr=[]\n",
    "\n",
    "#zufällige Ziehung von Daten kann unterschiedlich erreicht werden... am besten mal ausprobieren\n",
    "# xbs=np.random.choice(np.ravel(x),20, replace=True)\n",
    "# ybs=np.random.choice(np.ravel(y),20, replace=True)      # Über np.random()\n",
    "\n",
    "# data1 = xyData3.sample(20,replace=True)                 # Über pd.sample()  PANDAS Dataframe \n",
    "\n",
    "for i in range(0,1000):\n",
    "    data1=[]\n",
    "    xbs=[]\n",
    "    ybs=[]\n",
    "    data1 = xyData3.sample(20,replace=True)    #ziehen von 20 Werte-Paaren aus dem Pandas Datenrahmen \n",
    "    xbs=np.ravel(data1[0])\n",
    "    ybs=np.ravel(data1[1])\n",
    "    mbs=0\n",
    "    bbs=0\n",
    "    #punktpaar müssen zusammen gezogen werden, nicht x,y Zuordnung mixen \n",
    "    mbs,bbs = np.polyfit(xbs,ybs,1)\n",
    "    marr.append(mbs)\n",
    "    barr.append(bbs)\n",
    "print ' Mean: Steigung: {} /Mean: y-Schnittpunkt  {}'.format(np.mean(marr),np.mean(barr))\n",
    "print ' Std: Steigung   {} /Std:  y-Schnittpunkt  {}'.format(np.std(marr),np.std(barr))\n",
    "print '      '\n",
    "print ' Wahre Werte: y=6.3*x+15 (siehe oben)'\n",
    "\n",
    "#schleife über i...1000 durchläufe\n",
    "    # random.choice()  mit zurücklegen über die Daten x,y\n",
    "    # m[i],b[i] = np.polyfit(xbs,ybs,1)\n",
    "    #\n",
    "#mean m,b berechnen \n",
    "#var m,b berechnen\n",
    "#histogramm m\n",
    "#histogramm b\n",
    "\n",
    "plt.plot(x,y,'ro')\n",
    "plt.plot(x,m*x+b,'b')\n",
    "plt.plot(x,np.mean(marr)*x + np.mean(barr),'g')\n",
    "plt.plot(x,np.mean(marr)*x + np.mean(barr)+ 2*np.std(barr),'b--')\n",
    "plt.plot(x,np.mean(marr)*x + np.mean(barr)- 2*np.std(barr),'b--')\n",
    "#plotten der verteilungen\n",
    "\n",
    "# plotten der Regressionsgeraden darüber\n",
    "plt.show()\n"
   ]
  },
  {
   "cell_type": "code",
   "execution_count": null,
   "metadata": {
    "collapsed": false
   },
   "outputs": [],
   "source": [
    "print 'Histogram Bootstrap Steigungs-Paramter'\n",
    "hist, bins = np.histogram(marr, bins=15)\n",
    "width = 0.7 * (bins[1] - bins[0])\n",
    "center = (bins[:-1] + bins[1:]) / 2\n",
    "plt.bar(center, hist, align='center', width=width)\n",
    "plt.show()\n",
    "\n",
    "print ' Mean(Steigung) :  {} '.format(np.mean(marr))\n",
    "print '  Std(Steigung) : ±{} '.format(np.std(marr))\n",
    "print '      '\n",
    "print ' Wahre Werte: m = 6.3'\n"
   ]
  },
  {
   "cell_type": "code",
   "execution_count": null,
   "metadata": {
    "collapsed": false
   },
   "outputs": [],
   "source": [
    "print 'Histogram Bootstrap y-Schnittpunkt'\n",
    "hist, bins = np.histogram(barr, bins=15)\n",
    "width = 0.7 * (bins[1] - bins[0])\n",
    "center = (bins[:-1] + bins[1:]) / 2\n",
    "plt.bar(center, hist, align='center', width=width)\n",
    "plt.show()\n",
    "\n",
    "print ' Mean(y-Schnitt) :  {} '.format(np.mean(barr))\n",
    "print '  Std(y-Schnitt) : ±{} '.format(np.std(barr))\n",
    "print '      '\n",
    "print ' Wahre Werte: n = 15'\n"
   ]
  },
  {
   "cell_type": "markdown",
   "metadata": {},
   "source": [
    "\n",
    "\\usepackage{pgfplots}\n",
    "\\usepackage{amssymb, amsmath}\n",
    "\\usepackage{tikz}\n",
    "\\usepackage{xcolor}\n",
    "\\pgfplotsset{compat=1.7}\n",
    "\\begin{document}\n",
    "\\pgfmathdeclarefunction{gauss}{2}{\\pgfmathparse{1/(#2*sqrt(2*pi))*exp(-((x-#1)^2)/(2*#2^2))}%\n",
    "}\n",
    "\\begin{tikzpicture}\n",
    "\\begin{axis}[no markers, domain=0:10, samples=100,\n",
    "axis lines*=left, xlabel=Standard deviations, ylabel=Frequency,,\n",
    "height=6cm, width=10cm,\n",
    "xtick={-3, -2, -1, 0, 1, 2, 3}, ytick=\\empty,\n",
    "enlargelimits=false, clip=false, axis on top,\n",
    "grid = major]\n",
    "\\addplot [fill=cyan!20, draw=none, domain=-3:3] {gauss(0,1)} \\closedcycle;\n",
    "\\addplot [fill=orange!20, draw=none, domain=-3:-2] {gauss(0,1)} \\closedcycle;\n",
    "\\addplot [fill=orange!20, draw=none, domain=2:3] {gauss(0,1)} \\closedcycle;\n",
    "\\addplot [fill=blue!20, draw=none, domain=-2:-1] {gauss(0,1)} \\closedcycle;\n",
    "\\addplot [fill=blue!20, draw=none, domain=1:2] {gauss(0,1)} \\closedcycle;\n",
    "\\addplot[] coordinates {(-1,0.4) (1,0.4)};\n",
    "\\addplot[] coordinates {(-2,0.3) (2,0.3)};\n",
    "\\addplot[] coordinates {(-3,0.2) (3,0.2)};\n",
    "\\node[coordinate, pin={68.2\\%}] at (axis cs: 0, 0.4){};\n",
    "\\node[coordinate, pin={95\\%}] at (axis cs: 0, 0.3){};\n",
    "\\node[coordinate, pin={99.7\\%}] at (axis cs: 0, 0.2){};\n",
    "\\node[coordinate, pin={34.1\\%}] at (axis cs: -0.5, 0){};\n",
    "\\node[coordinate, pin={34.1\\%}] at (axis cs: 0.5, 0){};\n",
    "\\node[coordinate, pin={13.6\\%}] at (axis cs: 1.5, 0){};\n",
    "\\node[coordinate, pin={13.6\\%}] at (axis cs: -1.5, 0){};\n",
    "\\node[coordinate, pin={2.1\\%}] at (axis cs: 2.5, 0){};\n",
    "\\node[coordinate, pin={2.1\\%}] at (axis cs: -2.5, 0){};\n",
    "\\end{axis}\n",
    "\\end{tikzpicture}\n"
   ]
  },
  {
   "cell_type": "markdown",
   "metadata": {},
   "source": [
    "Kolmogorow-Smirnow Test (KS-Test)\n",
    "---"
   ]
  },
  {
   "cell_type": "markdown",
   "metadata": {},
   "source": [
    "There are also many ways to test a dataset if it is normally distributed. The KS-Test is only one Option"
   ]
  },
  {
   "cell_type": "code",
   "execution_count": 13,
   "metadata": {},
   "outputs": [],
   "source": [
    "from scipy import stats"
   ]
  },
  {
   "cell_type": "code",
   "execution_count": 18,
   "metadata": {},
   "outputs": [
    {
     "data": {
      "text/plain": [
       "KstestResult(statistic=0.013144653190702349, pvalue=0.35335033429137258)"
      ]
     },
     "execution_count": 18,
     "metadata": {},
     "output_type": "execute_result"
    }
   ],
   "source": [
    "stats.kstest(Nums, 'norm')"
   ]
  },
  {
   "cell_type": "code",
   "execution_count": null,
   "metadata": {
    "collapsed": true
   },
   "outputs": [],
   "source": []
  }
 ],
 "metadata": {
  "kernelspec": {
   "display_name": "Python 3",
   "language": "python",
   "name": "python3"
  },
  "language_info": {
   "codemirror_mode": {
    "name": "ipython",
    "version": 3
   },
   "file_extension": ".py",
   "mimetype": "text/x-python",
   "name": "python",
   "nbconvert_exporter": "python",
   "pygments_lexer": "ipython3",
   "version": "3.4.5"
  }
 },
 "nbformat": 4,
 "nbformat_minor": 2
}
