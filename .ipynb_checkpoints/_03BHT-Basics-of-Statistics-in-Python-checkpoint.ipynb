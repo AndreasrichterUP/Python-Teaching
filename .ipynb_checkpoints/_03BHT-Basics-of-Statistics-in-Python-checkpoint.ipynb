{
 "cells": [
  {
   "cell_type": "markdown",
   "metadata": {},
   "source": [
    "-03-Basics-of-Statistical-Distributions-and-Analysis © by A.Richter\n",
    "---"
   ]
  },
  {
   "cell_type": "markdown",
   "metadata": {},
   "source": [
    "Import of modules and libraries..."
   ]
  },
  {
   "cell_type": "code",
   "execution_count": 1,
   "metadata": {
    "collapsed": true
   },
   "outputs": [],
   "source": [
    "import numpy as np                   # numeric python\n",
    "import matplotlib.pyplot as plt      # plot library\n",
    "import matplotlib.mlab as mlab       \n",
    " \n",
    "import scipy as sp                   # scientific python\n",
    "#import scipy.stats as sts\n",
    "from scipy import stats              # statistical distributions\n",
    "\n",
    "import pandas as pd                  # dataframes, data containers\n",
    "import skimage.io as skio            # images\n",
    "import glob\n",
    "%matplotlib inline"
   ]
  },
  {
   "cell_type": "markdown",
   "metadata": {},
   "source": [
    "Basics of Error Types\n",
    "---"
   ]
  },
  {
   "cell_type": "markdown",
   "metadata": {},
   "source": [
    "The task of a (physical) measurement is to determine the value of a physical quantity (length, velocity, concentration,...)\n",
    "\n",
    "On the one hand human senses are limited and on the other hand every measurement is exposed to the\n",
    "(sometimes non-controllable) influences of it's nearby environment. This is why measuring results **x** tend to vary from its error-free but always unknown **true value X** of the physical quantity.\n"
   ]
  },
  {
   "cell_type": "markdown",
   "metadata": {},
   "source": [
    "We generally distinguish between **gross errors**, **systemstic errors** and **random errors**.\n",
    "\n",
    "A **gross error (or Blunder)**  for example is a datapoint that does not fit in a bunch of other measurements, e.g. as shown in the graphic below...A reason for such a mistake can be the human operator (humans tend to make mistakes) or general unlucky circumstances for a measurement. There are lots of statistical tools to eleminate blunders, e.g. Bootstrapping or Jack-Knife as shown below.\n",
    "\n",
    "( see also later: a gross error exites more than **three times the standard deviation** of a measurement)"
   ]
  },
  {
   "cell_type": "markdown",
   "metadata": {},
   "source": [
    "<img src=\"figures/blunder.png\">"
   ]
  },
  {
   "cell_type": "markdown",
   "metadata": {},
   "source": [
    "**Systemstic errors** can be traced back to the measureing instrument itself. They are always reproduceable in size and direction. Examples are wrongly calibrated scales, a shifted origin of a scale or lenght-delations of scales because of temperature variations and environmental influences. Systematic errors can be eliminated or minimized by improvements of the meassuring system."
   ]
  },
  {
   "cell_type": "markdown",
   "metadata": {},
   "source": [
    "**Random error**... can not be eliminated! Inside a series of measurements there will always be small variations differing in size and direction. Only by repetition of measurements these form of errors can be lowered and controlled but never eliminated... "
   ]
  },
  {
   "cell_type": "markdown",
   "metadata": {},
   "source": [
    "**Statistical-Distributions**\n",
    "---"
   ]
  },
  {
   "cell_type": "markdown",
   "metadata": {},
   "source": [
    "The analysis of statistical distributions in datasets is a basic tool for data analysts."
   ]
  },
  {
   "cell_type": "markdown",
   "metadata": {},
   "source": [
    "a very basic distribution is the **uniform distribution**. (german Gleichverteilung). Numeric Python offers a function called **np.random.rand()** to generate uniformly distributed numbers. The following diagrams will proide a visual impression about this form of distribution. Try it yourself with a increasing number of n."
   ]
  },
  {
   "cell_type": "markdown",
   "metadata": {},
   "source": [
    "Equal or **uniform distribution** : Random numbers between 0 and 1\n",
    "---"
   ]
  },
  {
   "cell_type": "code",
   "execution_count": 2,
   "metadata": {
    "collapsed": false
   },
   "outputs": [
    {
     "data": {
      "image/png": "[encoded data removed]",
      "text/plain": [
       "<matplotlib.figure.Figure at 0x10e69a048>"
      ]
     },
     "metadata": {},
     "output_type": "display_data"
    },
    {
     "data": {
      "image/png": "[encoded data removed]",
      "text/plain": [
       "<matplotlib.figure.Figure at 0x110cc7b70>"
      ]
     },
     "metadata": {},
     "output_type": "display_data"
    }
   ],
   "source": [
    "import numpy as np\n",
    "import matplotlib.pyplot as plt\n",
    "%matplotlib inline\n",
    "n=50  # n=100 #n=1000 #n=10000      #change number of drawn examples \"n\" \n",
    "Nums=np.random.rand(n)\n",
    "#print Nums\n",
    "a=np.arange(0,1.25,0.25)            # make all 0.25 units a vertical dash\n",
    "y=np.zeros(a.shape)\n",
    "fig=plt.figure(figsize=(20,3))\n",
    "plt.plot(a,y,'k|',ms = 30)          # plot verticale dashes in the Graphic \n",
    "\n",
    "plt.hlines(0,0,1)\n",
    "plt.plot(Nums,np.zeros((n)),'ro')   # plot r=red;   o = big filled Point;   .= small filled Point\n",
    "plt.xlim(-0.1,1.1)\n",
    "plt.ylim(-0.5,0.5)\n",
    "plt.yticks([])                     # no y-Axis Annotations\n",
    "plt.show()\n",
    "\n",
    "fig=plt.figure(figsize=(20,3))\n",
    "hist, bins = np.histogram(Nums, bins=25)         #Number of Intervalls, change \"bins\" \n",
    "width = 0.7 * (bins[1] - bins[0])\n",
    "center = (bins[:-1] + bins[1:]) / 2\n",
    "plt.bar(center, hist, align='center', width=width)\n",
    "plt.show()"
   ]
  },
  {
   "cell_type": "code",
   "execution_count": null,
   "metadata": {},
   "outputs": [],
   "source": []
  },
  {
   "cell_type": "markdown",
   "metadata": {},
   "source": [
    "But measured data is in general much more complex as nature loves to generate complexity based on very simple rules..."
   ]
  },
  {
   "cell_type": "code",
   "execution_count": null,
   "metadata": {},
   "outputs": [],
   "source": []
  },
  {
   "cell_type": "markdown",
   "metadata": {},
   "source": [
    "**Standard Normal distribution (Gaussian Distribution)**: random numbers with Mean $\\mu$ = 0 and Standarddeviation $\\sigma$ = 1\n",
    "---"
   ]
  },
  {
   "cell_type": "markdown",
   "metadata": {},
   "source": [
    "The gaussian or normal distribution is one of the most important distributions in science. It was published by **Carl Friedrich Gauss in 1809** \"Theoria motus corporum coelestium in sectionibus conicis solem ambientium\" (dt.: Theorie der Bewegung der in Kegelschnitten sich um die Sonne bewegenden Himmelskörper)\n",
    "which defined the **Normal Distribution** just next to the **Least Squares Method** and the **Maximum-Likelihood-Estimation**"
   ]
  },
  {
   "cell_type": "markdown",
   "metadata": {},
   "source": [
    "It's so called **Probability Desity Function (PDF)** is shown here:"
   ]
  },
  {
   "cell_type": "markdown",
   "metadata": {},
   "source": [
    "$ P(x|\\mu, \\sigma) = \\frac{1}{{\\sigma \\sqrt {2\\pi } }}exp (-\\frac{ (x - \\mu )^2}  {2\\sigma^2 }  )$\n",
    "\n",
    "If the data X follows a normal dist you can write it like this:\n",
    "$ X \\sim \\mathcal{N}(\\mu,\\,\\sigma^{2})\\,.$\n",
    "\n",
    "$ X \\sim \\mathcal{N}(0,1)$ is called the Standard Normal distribution (https://de.wikipedia.org/wiki/Normalverteilung)"
   ]
  },
  {
   "cell_type": "markdown",
   "metadata": {},
   "source": []
  },
  {
   "cell_type": "markdown",
   "metadata": {},
   "source": [
    "Numeric Python also offers a function called **np.random.randn()** to generate normally distributed numbers.\n",
    "\n",
    "Don't mixed it up with **np.random.rand()**, there is an extra **n**!"
   ]
  },
  {
   "cell_type": "markdown",
   "metadata": {},
   "source": [
    "Try it yourselv and play with the source code below..."
   ]
  },
  {
   "cell_type": "code",
   "execution_count": 3,
   "metadata": {
    "collapsed": false
   },
   "outputs": [
    {
     "data": {
      "image/png": "[encoded data removed]",
      "text/plain": [
       "<matplotlib.figure.Figure at 0x110cc7e48>"
      ]
     },
     "metadata": {},
     "output_type": "display_data"
    },
    {
     "data": {
      "image/png": "[encoded data removed]",
      "text/plain": [
       "<matplotlib.figure.Figure at 0x110ca58d0>"
      ]
     },
     "metadata": {},
     "output_type": "display_data"
    }
   ],
   "source": [
    "import numpy as np\n",
    "import matplotlib.pyplot as plt\n",
    "%matplotlib inline\n",
    "\n",
    "n=50 # n=100 #n=1000 #n=10000           #change number of drawn examples \"n\", start with small\n",
    "Nums=np.random.randn(n)                 # Difference!!! : randn() instead of rand()\n",
    "#print Nums\n",
    "a=np.arange(-3,3.25,0.25)\n",
    "y=np.zeros(a.shape)\n",
    "fig=plt.figure(figsize=(20,3))\n",
    "plt.plot(a,y,'k|',ms = 30)\n",
    "\n",
    "plt.hlines(0,-3,3)\n",
    "plt.plot(Nums,np.zeros((n)),'ro')\n",
    "plt.xlim(-3.25,3.25)\n",
    "plt.ylim(-0.5,0.5)\n",
    "plt.yticks([])\n",
    "plt.show()\n",
    "\n",
    "fig=plt.figure(figsize=(20,3))\n",
    "hist, bins = np.histogram(Nums, bins=25)          #change number of Intervalls \"bins=\" \n",
    "width = 0.7 * (bins[1] - bins[0])\n",
    "center = (bins[:-1] + bins[1:]) / 2\n",
    "plt.bar(center, hist, align='center', width=width)\n",
    "plt.show()"
   ]
  },
  {
   "cell_type": "markdown",
   "metadata": {},
   "source": [
    "Explanation of Graphics of normal dist: ...to be continued...\n",
    "    "
   ]
  },
  {
   "cell_type": "markdown",
   "metadata": {},
   "source": [
    "Graphics of std norm with percentage sign and explanations"
   ]
  },
  {
   "cell_type": "markdown",
   "metadata": {},
   "source": [
    "there are a lot of distributions that can be used, e.g."
   ]
  },
  {
   "cell_type": "markdown",
   "metadata": {},
   "source": [
    " - Bernoulli Dist.\n",
    " \n",
    " - Poisson Dist.  \n",
    " \n",
    " - Log-Normal Dist.\n",
    " \n",
    " - "
   ]
  },
  {
   "cell_type": "markdown",
   "metadata": {},
   "source": [
    "https://docs.scipy.org/doc/scipy-0.14.0/reference/stats.html#module-scipy.stats "
   ]
  },
  {
   "cell_type": "code",
   "execution_count": null,
   "metadata": {},
   "outputs": [],
   "source": []
  },
  {
   "cell_type": "code",
   "execution_count": null,
   "metadata": {},
   "outputs": [],
   "source": []
  },
  {
   "cell_type": "markdown",
   "metadata": {},
   "source": [
    "A little review of histogramms\n",
    "---"
   ]
  },
  {
   "cell_type": "markdown",
   "metadata": {},
   "source": [
    "Histograms are a special view to display data. I have allready used them in the examples of statistical distributions above. Its based on a 2D diagram where the horizontal axis shows each data-value and the vertical axis show the frequency of each value (how often is this value present in the dataset) \n",
    "\n",
    "By the review of the histogram you can guess what might be the underlying distribution in the data. You can also determine wheater there is just one or two paeks in the histogram....\n",
    "\n",
    "For image data contrast can be easily assessed in this way. An image shows a good contrast when all possible values are present or on the other hand a low contrast when only few values are present.\n",
    "\n",
    "But by a review of the histogram you can not say where a pixel is located in an Image(row/col)"
   ]
  },
  {
   "cell_type": "markdown",
   "metadata": {},
   "source": [
    "http://matplotlib.org/1.2.1/examples/pylab_examples/histogram_demo.html\n",
    "\n",
    "https://plot.ly/matplotlib/histograms/"
   ]
  },
  {
   "cell_type": "markdown",
   "metadata": {},
   "source": [
    "There are multiple options and software libraries to generate the histogram of a dataset like np, plt or pandas,...but I will only display two of them here...  \n",
    "\n",
    "...just like before we start with random values and add an offset and multiplier...\n",
    "\n",
    "pass over the data to the function that calculates the histogram and generate a best fit line for comparison"
   ]
  },
  {
   "cell_type": "markdown",
   "metadata": {},
   "source": [
    "The number of **bins** (here bins=50) describes the interval in which the data is sampled."
   ]
  },
  {
   "cell_type": "markdown",
   "metadata": {},
   "source": [
    "The parameter **normed=1** in plt.hist() ensures a standard curved, this means the area under the curve is always eq. 1\n",
    "\n",
    "If this parameter is deactivated the best fit line is not over the data in the plot..."
   ]
  },
  {
   "cell_type": "code",
   "execution_count": 4,
   "metadata": {
    "collapsed": false
   },
   "outputs": [
    {
     "data": {
      "image/png": "[encoded data removed]",
      "text/plain": [
       "<matplotlib.figure.Figure at 0x110ec6128>"
      ]
     },
     "metadata": {},
     "output_type": "display_data"
    }
   ],
   "source": [
    "import numpy as np\n",
    "import matplotlib.pyplot as plt\n",
    "import matplotlib.mlab as mlab\n",
    "\n",
    "mu, sigma = 100, 15\n",
    "x = mu + sigma*np.random.randn(1000)\n",
    "\n",
    "                                          # generate the histogram of the data\n",
    "n, bins, patches = plt.hist(x, 50, normed=1, facecolor='green', alpha=0.75)\n",
    "#n, bins, patches = plt.hist(x, 50, facecolor='green', alpha=0.75)\n",
    "\n",
    "                                           # add a 'best fit' line, normed=1 has to be set!!!!\n",
    "y = mlab.normpdf( bins, mu, sigma)\n",
    "l = plt.plot(bins, y, 'r--', linewidth=1)\n",
    "\n",
    "plt.xlabel('Smarts')\n",
    "plt.ylabel('Probability')\n",
    "plt.title(r'$\\mathrm{Histogram\\ of\\ IQ:}\\ \\mu=100,\\ \\sigma=15$')\n",
    "#plt.axis([40, 160, 0, 0.03])\n",
    "plt.grid(True)\n",
    "\n",
    "plt.show()\n",
    "#=================================================================================\n"
   ]
  },
  {
   "cell_type": "markdown",
   "metadata": {},
   "source": [
    "The second option to draw a histogram is based on plain numeric python **np.histogram()** and uses  less complex parameters..."
   ]
  },
  {
   "cell_type": "code",
   "execution_count": 5,
   "metadata": {
    "collapsed": false
   },
   "outputs": [
    {
     "data": {
      "image/png": "[encoded data removed]",
      "text/plain": [
       "<matplotlib.figure.Figure at 0x110d7aa90>"
      ]
     },
     "metadata": {},
     "output_type": "display_data"
    }
   ],
   "source": [
    "# 2. Option is np.histogram() \n",
    "mu, sigma = 100, 15\n",
    "x = mu + sigma * np.random.randn(1000)\n",
    "\n",
    "                                        # generate the histogram of the data\n",
    "hist, bins = np.histogram(x, bins=50, normed=True)\n",
    "\n",
    "width = 0.7 * (bins[1] - bins[0])\n",
    "center = (bins[:-1] + bins[1:]) / 2\n",
    "plt.bar(center, hist, align='center', width=width)\n",
    "\n",
    "\n",
    "# add a 'best fit' line\n",
    "y = mlab.normpdf( bins, mu, sigma)\n",
    "l = plt.plot(bins, y, 'r--', linewidth=1)\n",
    "\n",
    "plt.xlabel('Smarts')\n",
    "plt.ylabel('Probability')\n",
    "plt.title(r'$\\mathrm{Histogram\\ of\\ IQ:}\\ \\mu=100,\\ \\sigma=15$')\n",
    "#plt.axis([40, 160, 0, 0.03])\n",
    "plt.grid(True)\n",
    "\n",
    "plt.show()"
   ]
  },
  {
   "cell_type": "markdown",
   "metadata": {},
   "source": [
    "choose for you which histigram is best fitting for you and apply it on a dataset of your choice"
   ]
  },
  {
   "cell_type": "code",
   "execution_count": null,
   "metadata": {},
   "outputs": [],
   "source": []
  },
  {
   "cell_type": "markdown",
   "metadata": {},
   "source": [
    "Variance and Covariance\n",
    "----"
   ]
  },
  {
   "cell_type": "markdown",
   "metadata": {},
   "source": [
    "compare the end of the Notebook -01-Basics-of-Python-... there was an example how to calculate \n",
    "the standard deviation of a dataseries.\n",
    "\n",
    "In the following example I will generate **two dataseries** instaed of one and see if I can use the same approach"
   ]
  },
  {
   "cell_type": "markdown",
   "metadata": {},
   "source": [
    "$ std = \\sqrt{\\frac{\\sum\\nolimits_{i=1}^{20}(x_i - \\bar{X})^2}{20-1}}$\n",
    "\n",
    "$ var = std^2 =\\frac{\\sum\\nolimits_{i=1}^{20}(x_i - \\bar{X})^2}{20-1}$ \n",
    "\n",
    "$ cov(x_1,x_2) = \\frac{\\sum\\nolimits_{i=1}^{20}((x_{1i} - \\bar{X_1})\\cdot(x_{2i} - \\bar{X_2}) )}{20-1}$"
   ]
  },
  {
   "cell_type": "code",
   "execution_count": 6,
   "metadata": {},
   "outputs": [
    {
     "name": "stdout",
     "output_type": "stream",
     "text": [
      "           x1         x2\n",
      "0   54.041308  28.248188\n",
      "1   58.701152  22.299834\n",
      "2   47.767934  32.423764\n",
      "3   37.861054  40.383665\n",
      "4   48.720228  20.721984\n",
      "5   52.521508  30.008291\n",
      "6   51.353073  24.300569\n",
      "7   57.655400  27.356445\n",
      "8   60.811471  37.185254\n",
      "9   43.711233  31.393753\n",
      "10  51.141685  56.183006\n",
      "11  55.176001  13.759586\n",
      "12  56.798489  33.083757\n",
      "13  41.060511  35.544592\n",
      "14  46.935691  23.584201\n",
      "15  60.085588  33.413953\n",
      "16  43.660620  17.677199\n",
      "17  46.686350  34.892287\n",
      "18  61.077806  53.470257\n",
      "19  43.559225  33.100200\n"
     ]
    }
   ],
   "source": [
    "#import pandas as pd\n",
    "x1=50+10*np.random.randn(20,1)\n",
    "x2=30+10*np.random.randn(20,1)   \n",
    "\n",
    "# to display the dataseries just next to each other a pandas dataframe can be used\n",
    "\n",
    "df=pd.DataFrame(x1,columns=['x1'])\n",
    "df['x2'] = pd.DataFrame(x2)\n",
    "print(df)"
   ]
  },
  {
   "cell_type": "markdown",
   "metadata": {},
   "source": [
    "**Calculate the mean for each dataseries **"
   ]
  },
  {
   "cell_type": "code",
   "execution_count": 7,
   "metadata": {},
   "outputs": [
    {
     "name": "stdout",
     "output_type": "stream",
     "text": [
      "X1mean: 50.966316244531725\n",
      "X2mean: 31.45153916436027\n",
      "std(x1)=7.001045329721881\n",
      "std(x2)=10.492257084034494\n",
      "var(x1)=49.01463570882056\n",
      "var(x2)=110.087458717472\n"
     ]
    }
   ],
   "source": [
    "X1mean=np.sum(x1)/20\n",
    "X2mean=np.sum(x2)/20\n",
    "\n",
    "print('X1mean: {}'.format(X1mean))\n",
    "print('X2mean: {}'.format(X2mean))\n",
    "print('std(x1)={}'.format(np.std(x1,ddof=1)))\n",
    "print('std(x2)={}'.format(np.std(x2,ddof=1)))\n",
    "\n",
    "print('var(x1)={}'.format(np.var(x1,ddof=1)))\n",
    "print('var(x2)={}'.format(np.var(x2,ddof=1)))\n"
   ]
  },
  {
   "cell_type": "markdown",
   "metadata": {},
   "source": [
    "**Calculate the residuals from the mean for each datapoint **"
   ]
  },
  {
   "cell_type": "code",
   "execution_count": 8,
   "metadata": {},
   "outputs": [
    {
     "data": {
      "text/html": [
       "<div>\n",
       "<table border=\"1\" class=\"dataframe\">\n",
       "  <thead>\n",
       "    <tr style=\"text-align: right;\">\n",
       "      <th></th>\n",
       "      <th>x1</th>\n",
       "      <th>x2</th>\n",
       "      <th>x1Res</th>\n",
       "      <th>x2Res</th>\n",
       "    </tr>\n",
       "  </thead>\n",
       "  <tbody>\n",
       "    <tr>\n",
       "      <th>0</th>\n",
       "      <td>54.041308</td>\n",
       "      <td>28.248188</td>\n",
       "      <td>3.074992</td>\n",
       "      <td>-3.203352</td>\n",
       "    </tr>\n",
       "    <tr>\n",
       "      <th>1</th>\n",
       "      <td>58.701152</td>\n",
       "      <td>22.299834</td>\n",
       "      <td>7.734835</td>\n",
       "      <td>-9.151705</td>\n",
       "    </tr>\n",
       "    <tr>\n",
       "      <th>2</th>\n",
       "      <td>47.767934</td>\n",
       "      <td>32.423764</td>\n",
       "      <td>-3.198382</td>\n",
       "      <td>0.972225</td>\n",
       "    </tr>\n",
       "    <tr>\n",
       "      <th>3</th>\n",
       "      <td>37.861054</td>\n",
       "      <td>40.383665</td>\n",
       "      <td>-13.105262</td>\n",
       "      <td>8.932126</td>\n",
       "    </tr>\n",
       "    <tr>\n",
       "      <th>4</th>\n",
       "      <td>48.720228</td>\n",
       "      <td>20.721984</td>\n",
       "      <td>-2.246088</td>\n",
       "      <td>-10.729556</td>\n",
       "    </tr>\n",
       "    <tr>\n",
       "      <th>5</th>\n",
       "      <td>52.521508</td>\n",
       "      <td>30.008291</td>\n",
       "      <td>1.555191</td>\n",
       "      <td>-1.443248</td>\n",
       "    </tr>\n",
       "    <tr>\n",
       "      <th>6</th>\n",
       "      <td>51.353073</td>\n",
       "      <td>24.300569</td>\n",
       "      <td>0.386757</td>\n",
       "      <td>-7.150970</td>\n",
       "    </tr>\n",
       "    <tr>\n",
       "      <th>7</th>\n",
       "      <td>57.655400</td>\n",
       "      <td>27.356445</td>\n",
       "      <td>6.689083</td>\n",
       "      <td>-4.095094</td>\n",
       "    </tr>\n",
       "    <tr>\n",
       "      <th>8</th>\n",
       "      <td>60.811471</td>\n",
       "      <td>37.185254</td>\n",
       "      <td>9.845154</td>\n",
       "      <td>5.733715</td>\n",
       "    </tr>\n",
       "    <tr>\n",
       "      <th>9</th>\n",
       "      <td>43.711233</td>\n",
       "      <td>31.393753</td>\n",
       "      <td>-7.255083</td>\n",
       "      <td>-0.057786</td>\n",
       "    </tr>\n",
       "    <tr>\n",
       "      <th>10</th>\n",
       "      <td>51.141685</td>\n",
       "      <td>56.183006</td>\n",
       "      <td>0.175369</td>\n",
       "      <td>24.731467</td>\n",
       "    </tr>\n",
       "    <tr>\n",
       "      <th>11</th>\n",
       "      <td>55.176001</td>\n",
       "      <td>13.759586</td>\n",
       "      <td>4.209685</td>\n",
       "      <td>-17.691953</td>\n",
       "    </tr>\n",
       "    <tr>\n",
       "      <th>12</th>\n",
       "      <td>56.798489</td>\n",
       "      <td>33.083757</td>\n",
       "      <td>5.832173</td>\n",
       "      <td>1.632218</td>\n",
       "    </tr>\n",
       "    <tr>\n",
       "      <th>13</th>\n",
       "      <td>41.060511</td>\n",
       "      <td>35.544592</td>\n",
       "      <td>-9.905805</td>\n",
       "      <td>4.093053</td>\n",
       "    </tr>\n",
       "    <tr>\n",
       "      <th>14</th>\n",
       "      <td>46.935691</td>\n",
       "      <td>23.584201</td>\n",
       "      <td>-4.030625</td>\n",
       "      <td>-7.867338</td>\n",
       "    </tr>\n",
       "    <tr>\n",
       "      <th>15</th>\n",
       "      <td>60.085588</td>\n",
       "      <td>33.413953</td>\n",
       "      <td>9.119272</td>\n",
       "      <td>1.962413</td>\n",
       "    </tr>\n",
       "    <tr>\n",
       "      <th>16</th>\n",
       "      <td>43.660620</td>\n",
       "      <td>17.677199</td>\n",
       "      <td>-7.305697</td>\n",
       "      <td>-13.774340</td>\n",
       "    </tr>\n",
       "    <tr>\n",
       "      <th>17</th>\n",
       "      <td>46.686350</td>\n",
       "      <td>34.892287</td>\n",
       "      <td>-4.279967</td>\n",
       "      <td>3.440748</td>\n",
       "    </tr>\n",
       "    <tr>\n",
       "      <th>18</th>\n",
       "      <td>61.077806</td>\n",
       "      <td>53.470257</td>\n",
       "      <td>10.111490</td>\n",
       "      <td>22.018717</td>\n",
       "    </tr>\n",
       "    <tr>\n",
       "      <th>19</th>\n",
       "      <td>43.559225</td>\n",
       "      <td>33.100200</td>\n",
       "      <td>-7.407092</td>\n",
       "      <td>1.648661</td>\n",
       "    </tr>\n",
       "    <tr>\n",
       "      <th>0</th>\n",
       "      <td>50.966316</td>\n",
       "      <td>31.451539</td>\n",
       "      <td>7.001045</td>\n",
       "      <td>10.492257</td>\n",
       "    </tr>\n",
       "  </tbody>\n",
       "</table>\n",
       "</div>"
      ],
      "text/plain": [
       "           x1         x2      x1Res      x2Res\n",
       "0   54.041308  28.248188   3.074992  -3.203352\n",
       "1   58.701152  22.299834   7.734835  -9.151705\n",
       "2   47.767934  32.423764  -3.198382   0.972225\n",
       "3   37.861054  40.383665 -13.105262   8.932126\n",
       "4   48.720228  20.721984  -2.246088 -10.729556\n",
       "5   52.521508  30.008291   1.555191  -1.443248\n",
       "6   51.353073  24.300569   0.386757  -7.150970\n",
       "7   57.655400  27.356445   6.689083  -4.095094\n",
       "8   60.811471  37.185254   9.845154   5.733715\n",
       "9   43.711233  31.393753  -7.255083  -0.057786\n",
       "10  51.141685  56.183006   0.175369  24.731467\n",
       "11  55.176001  13.759586   4.209685 -17.691953\n",
       "12  56.798489  33.083757   5.832173   1.632218\n",
       "13  41.060511  35.544592  -9.905805   4.093053\n",
       "14  46.935691  23.584201  -4.030625  -7.867338\n",
       "15  60.085588  33.413953   9.119272   1.962413\n",
       "16  43.660620  17.677199  -7.305697 -13.774340\n",
       "17  46.686350  34.892287  -4.279967   3.440748\n",
       "18  61.077806  53.470257  10.111490  22.018717\n",
       "19  43.559225  33.100200  -7.407092   1.648661\n",
       "0   50.966316  31.451539   7.001045  10.492257"
      ]
     },
     "execution_count": 8,
     "metadata": {},
     "output_type": "execute_result"
    }
   ],
   "source": [
    "x1Res=x1-X1mean\n",
    "x2Res=x2-X2mean\n",
    "# add the residuals to the dataframe\n",
    "df['x1Res'] = pd.DataFrame(x1Res)\n",
    "df['x2Res'] = pd.DataFrame(x2Res)\n",
    "\n",
    "# add Means and std's in the last line of the DataFrame\n",
    "pd.concat([df,pd.DataFrame([[X1mean,X2mean,np.std(x1,ddof=1),np.std(x2,ddof=1)]],columns=['x1','x2','x1Res','x2Res' ])])"
   ]
  },
  {
   "cell_type": "markdown",
   "metadata": {},
   "source": [
    "calc the elementwise product of column 2 & column 3 and sum it up"
   ]
  },
  {
   "cell_type": "code",
   "execution_count": 9,
   "metadata": {},
   "outputs": [
    {
     "name": "stdout",
     "output_type": "stream",
     "text": [
      "[[  -9.85027881]\n",
      " [ -70.78693213]\n",
      " [  -3.10954606]\n",
      " [-117.05785359]\n",
      " [  24.09953044]\n",
      " [  -2.24452737]\n",
      " [  -2.76568735]\n",
      " [ -27.39242442]\n",
      " [  56.44930453]\n",
      " [   0.41924502]\n",
      " [   4.3371334 ]\n",
      " [ -74.4775425 ]\n",
      " [   9.51937757]\n",
      " [ -40.54498483]\n",
      " [  31.71029304]\n",
      " [  17.8957818 ]\n",
      " [ 100.63115058]\n",
      " [ -14.72628525]\n",
      " [ 222.64204538]\n",
      " [ -12.21178447]]\n",
      "--------------------\n",
      "Sum: 92.53601497191958\n",
      "Cov: 4.870316577469452\n",
      "std(x1)=7.001045329721881| std(x2)=10.492257084034494 \n",
      "var(x1)=49.01463570882056| var(x2)=110.087458717472 \n"
     ]
    }
   ],
   "source": [
    "print(x1Res*x2Res)\n",
    "print(20*'-') \n",
    "print('Sum: {}'.format(np.sum(x1Res*x2Res)))\n",
    "print('Cov: {}'.format(np.sum(x1Res*x2Res)/19))\n",
    "print('std(x1)={}| std(x2)={} '.format(np.std(x1,ddof=1),np.std(x2,ddof=1)))\n",
    "print('var(x1)={}| var(x2)={} '.format(np.var(x1,ddof=1),np.var(x2,ddof=1)))"
   ]
  },
  {
   "cell_type": "markdown",
   "metadata": {},
   "source": [
    "Compare the Value of the calculated Cov with the output of the build-in numpy fuction **np.cov()**"
   ]
  },
  {
   "cell_type": "markdown",
   "metadata": {},
   "source": [
    "keep in mind that the numpy arrays x1 and x2 must be transposed to calculate the inner-Matrixproduct, for details see the documentation of numpy.cov(): https://..."
   ]
  },
  {
   "cell_type": "code",
   "execution_count": 10,
   "metadata": {},
   "outputs": [
    {
     "data": {
      "text/plain": [
       "array([[  49.01463571,    4.87031658],\n",
       "       [   4.87031658,  110.08745872]])"
      ]
     },
     "execution_count": 10,
     "metadata": {},
     "output_type": "execute_result"
    }
   ],
   "source": [
    "np.cov(x1.T,x2.T)"
   ]
  },
  {
   "cell_type": "markdown",
   "metadata": {},
   "source": [
    "**Analysis of Correlations**\n",
    "---"
   ]
  },
  {
   "cell_type": "markdown",
   "metadata": {},
   "source": [
    "Correlation is widely used in statistics to assess the dependencies of dataseries. In the following examples three different coefficients are show and compared to display the ...\n",
    "\n",
    "The basisc assumption is here that only linear dependencies are in the data."
   ]
  },
  {
   "cell_type": "markdown",
   "metadata": {},
   "source": [
    "Pearson: https://en.wikipedia.org/wiki/Pearson_correlation_coefficient\n",
    "\n",
    "Spearman or Kendall: https://de.wikipedia.org/wiki/Rangkorrelationskoeffizient  "
   ]
  },
  {
   "cell_type": "markdown",
   "metadata": {},
   "source": [
    "**Pearson's Correlation**\n",
    "---"
   ]
  },
  {
   "cell_type": "markdown",
   "metadata": {},
   "source": [
    "$\\rho(x_1,x_2) = \\frac{\\text{cov}(x_1,x_2)}{\\sigma_{x1} \\sigma_{x2}}$"
   ]
  },
  {
   "cell_type": "markdown",
   "metadata": {},
   "source": [
    "The idea of the correlation was introduced by Auguste Bravis and later **Karl Pearson** about 1895\n",
    "\n",
    "It is closely related to the calculation of the variance and the covariance as shown above, compare the given formula"
   ]
  },
  {
   "cell_type": "code",
   "execution_count": 11,
   "metadata": {
    "collapsed": false
   },
   "outputs": [
    {
     "name": "stdout",
     "output_type": "stream",
     "text": [
      "                \n",
      "Create normal distributed data : \n",
      "x1: [ 1.76405235  0.40015721  0.97873798  2.2408932   1.86755799 -0.97727788\n",
      "  0.95008842 -0.15135721 -0.10321885  0.4105985   0.14404357  1.45427351\n",
      "  0.76103773  0.12167502  0.44386323  0.33367433  1.49407907 -0.20515826\n",
      "  0.3130677  -0.85409574]\n",
      "-----------------\n",
      "x2: [-2.55298982  0.6536186   0.8644362  -0.74216502  2.26975462 -1.45436567\n",
      "  0.04575852 -0.18718385  1.53277921  1.46935877  0.15494743  0.37816252\n",
      " -0.88778575 -1.98079647 -0.34791215  0.15634897  1.23029068  1.20237985\n",
      " -0.38732682 -0.30230275]\n"
     ]
    },
    {
     "data": {
      "image/png": "[encoded data removed]",
      "text/plain": [
       "<matplotlib.figure.Figure at 0x1115df6a0>"
      ]
     },
     "metadata": {},
     "output_type": "display_data"
    },
    {
     "name": "stdout",
     "output_type": "stream",
     "text": [
      "Correlationsmatrix (Pearson): \n",
      "                \n",
      "[[ 1.          0.08738675]\n",
      " [ 0.08738675  1.        ]]\n",
      "___________________________________\n",
      "                \n",
      " Pearsons Correlation Coefficient: 0.08738675035810137\n"
     ]
    }
   ],
   "source": [
    "# Pearson Correlation Coef\n",
    "# scipy.stats.spearmanr()    # Spearman Correlation Coef\n",
    "print('                ')\n",
    "print('Create normal distributed data : ')\n",
    "np.random.seed(0)\n",
    "x1=np.random.randn(20,1)      # generate 20 random numbers for x1 and x2\n",
    "x2=np.random.randn(20,1)\n",
    "\n",
    "print('x1:', np.ravel(x1) )    # np.ravel() macht z.B. aus einem 2x2 array eine 1x4 Liste...\n",
    "print( '-----------------')\n",
    "print('x2:', np.ravel(x2))\n",
    "\n",
    "plt.plot(x1,x2,'bo')         # plotten b=blau   o=großer ausgefüllter Punkt   .= kleiner ausgefüllter Punkt\n",
    "plt.xlim(-3,25)          #Anzeigebereich festlegen\n",
    "plt.ylim(-3,25)\n",
    "plt.show()\n",
    "\n",
    "print( 'Correlationsmatrix (Pearson): ')\n",
    "print('                ')\n",
    "print( np.corrcoef(np.ravel(x1),np.ravel(x2) ) )  # np.corrcoef() erzeugt eine 2x2 Korrelationsmatrix Element 1,2 ist der gewünschte Korrelationskoeffizient \n",
    "print( '___________________________________')\n",
    "print( '                ')\n",
    "pr =np.corrcoef(np.ravel(x1),np.ravel(x2) )[0,1]   # Python fängt bei 0 an zu zählen \n",
    "print(' Pearsons Correlation Coefficient: {}'.format(pr))\n"
   ]
  },
  {
   "cell_type": "code",
   "execution_count": null,
   "metadata": {
    "collapsed": true
   },
   "outputs": [],
   "source": []
  },
  {
   "cell_type": "markdown",
   "metadata": {},
   "source": [
    "Compare the Correlations of Pearson, Spearman and Kendall in one example\n",
    "---"
   ]
  },
  {
   "cell_type": "code",
   "execution_count": 12,
   "metadata": {
    "collapsed": false
   },
   "outputs": [
    {
     "name": "stdout",
     "output_type": "stream",
     "text": [
      "                \n",
      "generate Normalverteilte Data: \n",
      "x1: [ 1.76405235  0.40015721  0.97873798  2.2408932   1.86755799 -0.97727788\n",
      "  0.95008842 -0.15135721 -0.10321885  0.4105985   0.14404357  1.45427351\n",
      "  0.76103773  0.12167502  0.44386323  0.33367433  1.49407907 -0.20515826\n",
      "  0.3130677  -0.85409574]\n",
      "-----------------\n",
      "x2: [-2.55298982  0.6536186   0.8644362  -0.74216502  2.26975462 -1.45436567\n",
      "  0.04575852 -0.18718385  1.53277921  1.46935877  0.15494743  0.37816252\n",
      " -0.88778575 -1.98079647 -0.34791215  0.15634897  1.23029068  1.20237985\n",
      " -0.38732682 -0.30230275]\n"
     ]
    },
    {
     "data": {
      "image/png": "[encoded data removed]",
      "text/plain": [
       "<matplotlib.figure.Figure at 0x110e5df60>"
      ]
     },
     "metadata": {},
     "output_type": "display_data"
    },
    {
     "name": "stdout",
     "output_type": "stream",
     "text": [
      "Correlationsmatrix (Pearson): \n",
      "                \n",
      "[[ 1.          0.08738675]\n",
      " [ 0.08738675  1.        ]]\n",
      "___________________________________\n",
      "                \n",
      " Pearsons Correlation: 0.08738675035810137\n",
      "Spearmans Correlation: 0.10827067669172932\n",
      "  Kendall Correlation: 0.11578947368421053\n",
      "_____________________________________\n",
      "                \n"
     ]
    }
   ],
   "source": [
    "print( '                ')\n",
    "print( 'generate Normalverteilte Data: ')\n",
    "np.random.seed(0)\n",
    "x1=np.random.randn(20,1)\n",
    "x2=np.random.randn(20,1)\n",
    "\n",
    "print( 'x1:', np.ravel(x1))\n",
    "print( '-----------------')\n",
    "print( 'x2:', np.ravel(x2))\n",
    "\n",
    "plt.plot(x1,x2,'bo')\n",
    "plt.xlim(-3,5)\n",
    "plt.ylim(-3,5)\n",
    "plt.show()\n",
    "print( 'Correlationsmatrix (Pearson): ')\n",
    "print('                ')\n",
    "print( np.corrcoef(np.ravel(x1),np.ravel(x2) ))\n",
    "print( '___________________________________')\n",
    "print( '                ')\n",
    "pr =np.corrcoef(np.ravel(x1),np.ravel(x2) )[0,1]\n",
    "print( ' Pearsons Correlation: {}'.format(pr))\n",
    "\n",
    "sr,sp = stats.spearmanr(x1,x2)\n",
    "\n",
    "print( 'Spearmans Correlation: {}'.format(sr))\n",
    "\n",
    "kr,kp = stats.kendalltau(x1,x2)\n",
    "\n",
    "print( '  Kendall Correlation: {}'.format(kr))\n",
    "print( '_____________________________________')\n",
    "print( '                ')"
   ]
  },
  {
   "cell_type": "markdown",
   "metadata": {},
   "source": [
    "Adding a Datapoint (Outliner/Blunder/gross error) to the data series"
   ]
  },
  {
   "cell_type": "code",
   "execution_count": 13,
   "metadata": {
    "collapsed": false
   },
   "outputs": [
    {
     "name": "stdout",
     "output_type": "stream",
     "text": [
      "                \n",
      "                \n",
      "_____________________________________\n",
      "                \n",
      "insert false datapoint (Outliner) at position 10 in the set:\n",
      "x1[10] = 18\n",
      "x2[10] = 18 \n",
      "calculate Correlationmatrix (Pearson) again: \n",
      "                \n",
      "[[ 1.          0.93971012]\n",
      " [ 0.93971012  1.        ]]\n",
      "                \n",
      " Pearson's Correlation: 0.9397101187830161 !!!! 1 wrong Point, totally different result than before!\n",
      "_____________________________________\n"
     ]
    },
    {
     "data": {
      "image/png": "[encoded data removed]",
      "text/plain": [
       "<matplotlib.figure.Figure at 0x111e64048>"
      ]
     },
     "metadata": {},
     "output_type": "display_data"
    },
    {
     "name": "stdout",
     "output_type": "stream",
     "text": [
      "!!!But:                \n",
      "_____________________________________\n",
      "                \n",
      "Spearman's Correlation: 0.23308270676691725\n",
      "  Kendall's Correlation: 0.19999999999999998\n"
     ]
    }
   ],
   "source": [
    "print( '                ')\n",
    "print( '                ')\n",
    "print( '_____________________________________')\n",
    "print( '                ')\n",
    "print( 'insert false datapoint (Outliner) at position 10 in the set:')\n",
    "      \n",
    "print( 'x1[10] = 18')\n",
    "print( 'x2[10] = 18 ')\n",
    "x1[10]=18\n",
    "x2[10]=18\n",
    "\n",
    "print( 'calculate Correlationmatrix (Pearson) again: ')\n",
    "print( '                ')\n",
    "print(np.corrcoef(np.ravel(x1),np.ravel(x2) ))\n",
    "pr =np.corrcoef(np.ravel(x1),np.ravel(x2) )[0,1]\n",
    "print( '                ')\n",
    "print( \" Pearson's Correlation: {}\".format(pr), '!!!! 1 wrong Point, totally different result than before!')\n",
    "print( '_____________________________________')\n",
    "\n",
    "plt.plot(x1,x2,'bo')\n",
    "plt.xlim(-3,20)\n",
    "plt.ylim(-3,20)\n",
    "plt.show()\n",
    "print( '!!!But:                ')\n",
    "print( '_____________________________________')\n",
    "print ('                ')\n",
    "sr,sp= stats.spearmanr(x1,x2)\n",
    "print (\"Spearman's Correlation: {}\".format(sr))\n",
    "kr,kp = stats.kendalltau(x1,x2)\n",
    "print( \"  Kendall's Correlation: {}\".format(kr))\n",
    "\n"
   ]
  },
  {
   "cell_type": "markdown",
   "metadata": {},
   "source": [
    "The Correlation calculated by the Pearson coefficient is missleading and showing a high linear \n",
    "dependency of the data, just because there is one false datapoint in the set.\n",
    "\n",
    "\n",
    "Spearman's and Kendall's coefficients are more robuts against gross errors."
   ]
  },
  {
   "cell_type": "code",
   "execution_count": null,
   "metadata": {},
   "outputs": [],
   "source": []
  },
  {
   "cell_type": "code",
   "execution_count": null,
   "metadata": {},
   "outputs": [],
   "source": []
  },
  {
   "cell_type": "code",
   "execution_count": null,
   "metadata": {},
   "outputs": [],
   "source": []
  },
  {
   "cell_type": "code",
   "execution_count": null,
   "metadata": {},
   "outputs": [],
   "source": []
  }
 ],
 "metadata": {
  "kernelspec": {
   "display_name": "Python 3",
   "language": "python",
   "name": "python3"
  },
  "language_info": {
   "codemirror_mode": {
    "name": "ipython",
    "version": 3
   },
   "file_extension": ".py",
   "mimetype": "text/x-python",
   "name": "python",
   "nbconvert_exporter": "python",
   "pygments_lexer": "ipython3",
   "version": "3.4.5"
  }
 },
 "nbformat": 4,
 "nbformat_minor": 2
}
