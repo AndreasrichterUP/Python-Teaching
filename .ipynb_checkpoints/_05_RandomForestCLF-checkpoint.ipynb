{
 "cells": [
  {
   "cell_type": "code",
   "execution_count": 1,
   "metadata": {
    "collapsed": true
   },
   "outputs": [],
   "source": [
    "#Import der notwendigen Bibliotheken \n",
    "import math\n",
    "import time\n",
    "import numpy as np\n",
    "import statsmodels.api as sm\n",
    "import matplotlib.pyplot as plt\n",
    "import scipy.io as sio\n",
    "from sklearn.metrics import roc_curve, auc\n",
    "from sklearn.ensemble import RandomForestClassifier\n",
    "#from sklearn import cross_validation"
   ]
  },
  {
   "cell_type": "code",
   "execution_count": 2,
   "metadata": {
    "collapsed": false
   },
   "outputs": [],
   "source": [
    "#Einlesen der Datensätze aus den Matlab Binary Files\n",
    "#DataAOI=sio.loadmat('Train_Test_Data_AOI2_small_5.mat')\n",
    "DataAOI=sio.loadmat('Train_Test_Data_2_AOI2_small_5.mat')"
   ]
  },
  {
   "cell_type": "code",
   "execution_count": 3,
   "metadata": {
    "collapsed": false
   },
   "outputs": [
    {
     "name": "stdout",
     "output_type": "stream",
     "text": [
      "(92400, 1)\n"
     ]
    }
   ],
   "source": [
    "# Datensätze in Array importieren\n",
    "y_Train=np.array(DataAOI['y_Test'])\n",
    "X_Train=np.array(DataAOI['X_Test'])\n",
    "\n",
    "y_Test=np.array(DataAOI['y_Train'])\n",
    "X_Test=np.array(DataAOI['X_Train'])\n",
    "\n",
    "print y_Test.shape"
   ]
  },
  {
   "cell_type": "code",
   "execution_count": 4,
   "metadata": {
    "collapsed": false
   },
   "outputs": [
    {
     "name": "stdout",
     "output_type": "stream",
     "text": [
      "(92400, 25)\n",
      "(92400, 25)\n",
      "(89569, 26)\n"
     ]
    }
   ],
   "source": [
    "#Train und Testdaten splitten\n",
    "#X_Train,X_Test,y_Train,y_Test=train_test_split(X1, y1, test_size=0.5,random_state=42)\n",
    "\n",
    "print X_Train.shape\n",
    "print X_Test.shape\n",
    "# Umwandeln der Werte größer als 0 in 1\n",
    "y_Train=(y_Train > 0)*1\n",
    "y_Test =(y_Test > 0)*1\n",
    "XD=np.zeros([X_Train.shape[0],26])\n",
    "XD[:,0:25]=X_Train\n",
    "XD[:,25]=y_Train.T\n",
    "idx_pos = XD[:,25] > 0\n",
    "XD_pos=XD[idx_pos]\n",
    "XD_neg=XD[~idx_pos]\n",
    "print XD_neg.shape"
   ]
  },
  {
   "cell_type": "code",
   "execution_count": 8,
   "metadata": {
    "collapsed": false
   },
   "outputs": [
    {
     "name": "stdout",
     "output_type": "stream",
     "text": [
      "r1: 1, r2:19, stepp 20: time used 0.000823020935059\n",
      "r1: 3, r2:117, stepp 120: time used 28.1551780701\n",
      "r1: 6, r2:214, stepp 220: time used 29.3929109573\n",
      "r1: 8, r2:312, stepp 320: time used 33.0769920349\n",
      "r1: 11, r2:409, stepp 420: time used 34.9385619164\n",
      "r1: 14, r2:506, stepp 520: time used 33.6990652084\n",
      "r1: 16, r2:604, stepp 620: time used 35.300896883\n",
      "r1: 19, r2:701, stepp 720: time used 34.72747612\n",
      "r1: 21, r2:799, stepp 820: time used 34.6623649597\n",
      "r1: 24, r2:896, stepp 920: time used 35.2424209118\n",
      "r1: 27, r2:993, stepp 1020: time used 37.0308821201\n",
      "r1: 29, r2:1091, stepp 1120: time used 37.1676270962\n",
      "r1: 32, r2:1188, stepp 1220: time used 37.7912321091\n",
      "r1: 34, r2:1286, stepp 1320: time used 129.447966099\n",
      "r1: 37, r2:1383, stepp 1420: time used 39.5397071838\n",
      "r1: 40, r2:1480, stepp 1520: time used 37.1356730461\n",
      "r1: 42, r2:1578, stepp 1620: time used 36.8899700642\n",
      "r1: 45, r2:1675, stepp 1720: time used 36.385848999\n",
      "r1: 47, r2:1773, stepp 1820: time used 38.541023016\n",
      "r1: 50, r2:1870, stepp 1920: time used 37.4449551105\n",
      "r1: 53, r2:1967, stepp 2020: time used 38.0125119686\n",
      "r1: 55, r2:2065, stepp 2120: time used 37.9440040588\n",
      "r1: 58, r2:2162, stepp 2220: time used 38.5810649395\n",
      "r1: 60, r2:2260, stepp 2320: time used 38.7484409809\n",
      "r1: 63, r2:2357, stepp 2420: time used 42.1310930252\n",
      "r1: 66, r2:2454, stepp 2520: time used 38.5354349613\n",
      "r1: 68, r2:2552, stepp 2620: time used 38.9775121212\n",
      "r1: 71, r2:2649, stepp 2720: time used 39.3219709396\n",
      "r1: 73, r2:2747, stepp 2820: time used 39.4997189045\n",
      "r1: 76, r2:2844, stepp 2920: time used 39.6205151081\n",
      "r1: 79, r2:2941, stepp 3020: time used 39.8255560398\n",
      "r1: 81, r2:3039, stepp 3120: time used 39.9036490917\n",
      "r1: 84, r2:3136, stepp 3220: time used 40.1773710251\n",
      "r1: 86, r2:3234, stepp 3320: time used 41.6063299179\n",
      "r1: 89, r2:3331, stepp 3420: time used 41.2139568329\n",
      "r1: 92, r2:3428, stepp 3520: time used 41.0032351017\n",
      "r1: 94, r2:3526, stepp 3620: time used 41.4641470909\n",
      "r1: 97, r2:3623, stepp 3720: time used 42.428647995\n",
      "r1: 99, r2:3721, stepp 3820: time used 42.3058590889\n",
      "r1: 102, r2:3818, stepp 3920: time used 42.7429771423\n",
      "r1: 105, r2:3915, stepp 4020: time used 42.578510046\n",
      "r1: 107, r2:4013, stepp 4120: time used 42.6673731804\n",
      "r1: 110, r2:4110, stepp 4220: time used 43.6798949242\n",
      "r1: 112, r2:4208, stepp 4320: time used 43.7360651493\n",
      "r1: 115, r2:4305, stepp 4420: time used 43.9331297874\n",
      "r1: 118, r2:4402, stepp 4520: time used 44.0844559669\n",
      "r1: 120, r2:4500, stepp 4620: time used 44.6234550476\n",
      "r1: 123, r2:4597, stepp 4720: time used 44.9680829048\n",
      "r1: 125, r2:4695, stepp 4820: time used 45.0577640533\n",
      "r1: 128, r2:4792, stepp 4920: time used 45.290364027\n",
      "r1: 131, r2:4889, stepp 5020: time used 45.7314221859\n",
      "r1: 133, r2:4987, stepp 5120: time used 46.0930109024\n",
      "r1: 136, r2:5084, stepp 5220: time used 46.4726638794\n",
      "r1: 138, r2:5182, stepp 5320: time used 46.613478899\n",
      "r1: 141, r2:5279, stepp 5420: time used 46.850124836\n",
      "r1: 144, r2:5376, stepp 5520: time used 47.1229870319\n",
      "r1: 146, r2:5474, stepp 5620: time used 47.2695429325\n",
      "r1: 149, r2:5571, stepp 5720: time used 47.4745950699\n",
      "r1: 151, r2:5669, stepp 5820: time used 47.7871179581\n",
      "r1: 154, r2:5766, stepp 5920: time used 48.0648889542\n",
      "r1: 157, r2:5863, stepp 6020: time used 48.5865809917\n",
      "r1: 159, r2:5961, stepp 6120: time used 48.7012171745\n",
      "r1: 162, r2:6058, stepp 6220: time used 48.7890028954\n",
      "r1: 164, r2:6156, stepp 6320: time used 48.9541549683\n",
      "r1: 167, r2:6253, stepp 6420: time used 49.6223111153\n",
      "r1: 170, r2:6350, stepp 6520: time used 49.8744130135\n",
      "r1: 172, r2:6448, stepp 6620: time used 49.9330580235\n",
      "r1: 175, r2:6545, stepp 6720: time used 50.1197690964\n",
      "r1: 177, r2:6643, stepp 6820: time used 53.538007021\n",
      "r1: 180, r2:6740, stepp 6920: time used 52.9714570045\n",
      "r1: 183, r2:6837, stepp 7020: time used 54.351583004\n",
      "r1: 185, r2:6935, stepp 7120: time used 52.1674101353\n",
      "r1: 188, r2:7032, stepp 7220: time used 52.0944161415\n",
      "r1: 190, r2:7130, stepp 7320: time used 53.1874608994\n",
      "r1: 193, r2:7227, stepp 7420: time used 53.3192381859\n",
      "r1: 196, r2:7324, stepp 7520: time used 53.0633888245\n",
      "r1: 198, r2:7422, stepp 7620: time used 52.943518877\n",
      "r1: 201, r2:7519, stepp 7720: time used 53.566546917\n",
      "r1: 203, r2:7617, stepp 7820: time used 54.6946289539\n",
      "r1: 206, r2:7714, stepp 7920: time used 55.0192668438\n",
      "r1: 209, r2:7811, stepp 8020: time used 58.6244239807\n",
      "r1: 211, r2:7909, stepp 8120: time used 56.4547069073\n",
      "r1: 214, r2:8006, stepp 8220: time used 54.5993220806\n",
      "r1: 216, r2:8104, stepp 8320: time used 55.7340960503\n",
      "r1: 219, r2:8201, stepp 8420: time used 59.2614820004\n",
      "r1: 222, r2:8298, stepp 8520: time used 56.128579855\n",
      "r1: 224, r2:8396, stepp 8620: time used 56.6005308628\n",
      "r1: 227, r2:8493, stepp 8720: time used 56.6029012203\n",
      "r1: 229, r2:8591, stepp 8820: time used 56.8913359642\n",
      "r1: 232, r2:8688, stepp 8920: time used 56.9713728428\n",
      "r1: 235, r2:8785, stepp 9020: time used 57.2797558308\n",
      "r1: 237, r2:8883, stepp 9120: time used 57.3150141239\n",
      "r1: 240, r2:8980, stepp 9220: time used 57.6973648071\n",
      "r1: 242, r2:9078, stepp 9320: time used 58.0785849094\n",
      "r1: 245, r2:9175, stepp 9420: time used 58.3637480736\n",
      "r1: 248, r2:9272, stepp 9520: time used 59.2946259975\n",
      "r1: 250, r2:9370, stepp 9620: time used 59.0351409912\n",
      "r1: 253, r2:9467, stepp 9720: time used 59.5817627907\n",
      "r1: 255, r2:9565, stepp 9820: time used 59.3539919853\n",
      "r1: 258, r2:9662, stepp 9920: time used 59.8092980385\n",
      "fertig...\n",
      "all time used: 4729.92365217 sec /78.8320608695 min\n"
     ]
    }
   ],
   "source": [
    "#==========================================================================\n",
    "#   Test Random Forrest Clf\n",
    "#==========================================================================\n",
    "examplesRFC =[]\n",
    "rocValues_RFC_Mean=[]\n",
    "rocValues_RFC_Var=[]\n",
    "r1=0\n",
    "r2=0\n",
    "t0 = time.time()\n",
    "ti_1=t0\n",
    "\n",
    "for i in range(20,10000,100):        # Schleife, die die Anzahl der Trainingssamples, die verarbeitet werden, erhöht\n",
    "    rocValuesRFC=[]                   # in hunderter Schritten durchlaufen\n",
    "    ti=time.time()\n",
    "    \n",
    "    # ziehen von genau x positiven Beispielen und y negativen Beispielen bei dieser Anzahl von Trainingsbeispielen\n",
    "    # r1+r2 =i\n",
    "    r1 = int(round(0.026*i))    # 1. Bestimmung der Anzahl der positiv Beispiele, die zu ziehen sind für dieses i        \n",
    "    if r1 ==0:                  # r1 muss mindestens 1 sein!\n",
    "        r1=1\n",
    "    r2 = i - r1                 # 2. Bestimmung der Anzahl der negativ Beispiele, die zu ziehen sind für dieses i\n",
    "    \n",
    "    # Liste der Indizes aller positiven Trainingsbeispiele \n",
    "    #y_Train[Idx_pos]\n",
    "    # Liste der Indizes aller negativen Trainingsbeispiele\n",
    "    #y_Train[Idx_neg]\n",
    "    print 'r1: {}, r2:{}, stepp {}: time used {}'.format(r1,r2,i,ti - ti_1) \n",
    "    ti_1=time.time()\n",
    "    \n",
    "    for j in range(1,21):              # Schleife, die 20x diese Anzahl permutiert und die LogReg rechnet, 20x AUC bestimmt für Examples = i  \n",
    "       \n",
    "        # scoreOfModel_i=0\n",
    "        # r1 positive Beispiel & r2 negative Beispiel zufällig aus Train und Test ziehen\n",
    "        \n",
    "        X_Train_LRLIN1=XD_pos[np.random.choice(XD_pos.shape[0], r1)]\n",
    "        X_Train_LRLIN1=np.concatenate((X_Train_LRLIN1,XD_neg[np.random.choice(XD_neg.shape[0], r2)]), axis=0) \n",
    "        #-------------------------------------------------------------\n",
    "        X_Train_LRLIN1=X_Train_LRLIN1[np.random.permutation(i),:]     # Durchmischen der Reihenfolge\n",
    "        #-------------------------------------------------------------\n",
    "        X_Train_RFC =X_Train_LRLIN1[:,0:25]\n",
    "        y_Train_RFC =X_Train_LRLIN1[:,25]\n",
    "        \n",
    "        y_Train_RFC = np.ravel(y_Train_RFC)\n",
    "        \n",
    "        mdl_RFC = RandomForestClassifier(max_depth=10, n_estimators=200, max_features='auto', criterion='gini',n_jobs=1)\n",
    "        #mdl_LinLR = mdl_LinLR.fit(X_Train_LRLIN, y_Train_LRLIN)\n",
    "        #y_scoreLR = mdl_LinLR.fit(X_Train_LRLIN, y_Train_LRLIN).predict_proba(X_Test)[:,1]\n",
    "        y_scoreRFC = mdl_RFC.fit(X_Train_RFC, y_Train_RFC).predict_proba(X_Test)[:,1]\n",
    "        \n",
    "        fprRFC = dict()\n",
    "        tprRFC = dict()\n",
    "        #roc_aucRFC = dict()\n",
    "        #fprLR, tprLR, _ = roc_curve(y_Test_LRLIN, y_scoreLR,pos_label=1)\n",
    "        fprRFC, tprRFC, _ = roc_curve(y_Test, y_scoreRFC,pos_label=1)\n",
    "        rocValuesRFC.append(auc(fprRFC, tprRFC))\n",
    "        \n",
    "        X_Train_LRLIN1=[]\n",
    "        X_Train_RFC=[]\n",
    "        y_Train_RFC=[]\n",
    "         \n",
    "    rocValues_RFC_Mean.append(np.mean(rocValuesRFC))             # Mittelwert der 20 AUC Berechnungen\n",
    "    rocValues_RFC_Var.append(np.var(rocValuesRFC)/20.0 )           # Varianz des Mittelwertes!  \n",
    "    examplesRFC.append(i)    \n",
    "te=time.time()        \n",
    "X_Train_LRLIN=None\n",
    "\n",
    "sio.savemat('RandomForrest_MeanAUC_examples_20160126_c.mat',{'examplesRFC':examplesRFC,'rocValues_RFC_Mean':rocValues_RFC_Mean,'rocValues_RFC_Var':rocValues_RFC_Var})\n",
    "print \"fertig...\"\n",
    "print 'all time used: {} sec /{} min'.format(te-t0,(te-t0)/60.0) \n"
   ]
  },
  {
   "cell_type": "code",
   "execution_count": 9,
   "metadata": {
    "collapsed": false
   },
   "outputs": [
    {
     "data": {
      "image/png": "[encoded data removed]",
      "text/plain": [
       "<matplotlib.figure.Figure at 0x112030a10>"
      ]
     },
     "metadata": {},
     "output_type": "display_data"
    }
   ],
   "source": [
    "%matplotlib inline\n",
    "plt.xlabel('Anzahl der Trainingsbeispiele')\n",
    "plt.ylabel('AUC Wert')\n",
    "plt.title('Lernkurve')\n",
    "\n",
    "plt.grid()\n",
    "plt.fill_between(examplesRFC, rocValues_RFC_Mean - 3*np.sqrt(rocValues_RFC_Var),rocValues_RFC_Mean + 3*np.sqrt(rocValues_RFC_Var), alpha=0.1,color=\"b\")\n",
    "#plt.fill_between(examplesSVM, rocValuesSVM_Mean - np.sqrt(rocValuesSVM_Var),rocValuesSVM_Mean + np.sqrt(rocValuesSVM_Var), alpha=0.3,color=\"g\")\n",
    "#plt.fill_between(examplesLin, rocValues_Mean - np.sqrt(rocValues_Var),rocValues_Mean + np.sqrt(rocValues_Var), alpha=0.3,color=\"r\")\n",
    "\n",
    "plt.plot(examplesRFC,rocValues_RFC_Mean,label='RandomForrest CLF')   #darüber sollte dann die Var des Mittelwerten als Fläche dargestellt werden\n",
    "#plt.plot(examplesSVM,rocValuesSVM_Mean,label='SVM (RBF-Kernel) ')   #darüber sollte dann die Var des Mittelwerten als Fläche dargestellt werden\n",
    "#plt.plot(examplesLin,rocValues_Mean,label='LogReg (linear) ')\n",
    "# error bars anzeigen lassen!!!\n",
    "plt.ylim([0.3, 1])\n",
    "#plt.xlim([1000, 150000])\n",
    "plt.legend(loc=\"best\")\n",
    "plt.show()"
   ]
  },
  {
   "cell_type": "code",
   "execution_count": null,
   "metadata": {
    "collapsed": true
   },
   "outputs": [],
   "source": [
    "#helpful functions\n",
    "#-------------------------------------------------------\n",
    "# helper to plot ROC curves\n",
    "def plot_roc_curves(fprs, tprs):\n",
    "    fig = plt.figure(figsize=(20,10))\n",
    "    for fpr, tpr in zip(fprs, tprs):\n",
    "        plt.plot(fpr, tpr, label='ROC curve (area = %0.2f)' % auc(fpr, tpr))\n",
    "    plt.plot([0, 1], [0, 1], 'k--')\n",
    "    plt.xlim([0.0, 1.0])\n",
    "    plt.ylim([0.0, 1.05])\n",
    "    plt.xlabel('False Positive Rate')\n",
    "    plt.ylabel('True Positive Rate')\n",
    "    plt.title('Receiver operating characteristic')\n",
    "    plt.legend(loc=\"lower right\")\n",
    "    plt.show()\n"
   ]
  },
  {
   "cell_type": "code",
   "execution_count": null,
   "metadata": {
    "collapsed": false
   },
   "outputs": [],
   "source": [
    "#==========================================================================\n",
    "#   Test Random Forrest Clf\n",
    "#==========================================================================\n",
    "examplesRFC =[]\n",
    "rocValues_RFC_Mean=[]\n",
    "rocValues_RFC_Var=[]\n",
    "r1=0\n",
    "r2=0\n",
    "t0 = time.time()\n",
    "ti_1=t0\n",
    "Vekt=[5000]\n",
    "for i in Vekt:        # Schleife, die die Anzahl der Trainingssamples, die verarbeitet werden, erhöht\n",
    "    rocValuesRFC=[]                   # in hunderter Schritten durchlaufen\n",
    "    ti=time.time()\n",
    "    \n",
    "    # ziehen von genau x positiven Beispielen und y negativen Beispielen bei dieser Anzahl von Trainingsbeispielen\n",
    "    # r1+r2 =i\n",
    "    r1 = int(round(0.026*i))    # 1. Bestimmung der Anzahl der positiv Beispiele, die zu ziehen sind für dieses i        \n",
    "    if r1 ==0:                  # r1 muss mindestens 1 sein!\n",
    "        r1=1\n",
    "    r2 = i - r1                 # 2. Bestimmung der Anzahl der negativ Beispiele, die zu ziehen sind für dieses i\n",
    "    \n",
    "    # Liste der Indizes aller positiven Trainingsbeispiele \n",
    "    #y_Train[Idx_pos]\n",
    "    # Liste der Indizes aller negativen Trainingsbeispiele\n",
    "    #y_Train[Idx_neg]\n",
    "    print 'r1: {}, r2:{}, stepp {}: time used {}'.format(r1,r2,i,ti - ti_1) \n",
    "    ti_1=time.time()\n",
    "    Rep=[1]\n",
    "    for j in Rep:              # Schleife, die 20x diese Anzahl permutiert und die LogReg rechnet, 20x AUC bestimmt für Examples = i  \n",
    "       \n",
    "        # scoreOfModel_i=0\n",
    "        # r1 positive Beispiel & r2 negative Beispiel zufällig aus Train und Test ziehen\n",
    "        \n",
    "        X_Train_LRLIN1=XD_pos[np.random.choice(XD_pos.shape[0], r1)]\n",
    "        X_Train_LRLIN1=np.concatenate((X_Train_LRLIN1,XD_neg[np.random.choice(XD_neg.shape[0], r2)]), axis=0) \n",
    "        #-------------------------------------------------------------\n",
    "        X_Train_LRLIN1=X_Train_LRLIN1[np.random.permutation(i),:]     # Durchmischen der Reihenfolge\n",
    "        #-------------------------------------------------------------\n",
    "        X_Train_RFC =X_Train_LRLIN1[:,0:25]\n",
    "        y_Train_RFC =X_Train_LRLIN1[:,25]\n",
    "        \n",
    "        y_Train_RFC = np.ravel(y_Train_RFC)\n",
    "        \n",
    "        mdl_RFC = RandomForestClassifier(max_depth=10, n_estimators=50, max_features='auto', criterion='gini',n_jobs=1)\n",
    "        #mdl_LinLR = mdl_LinLR.fit(X_Train_LRLIN, y_Train_LRLIN)\n",
    "        #y_scoreLR = mdl_LinLR.fit(X_Train_LRLIN, y_Train_LRLIN).predict_proba(X_Test)[:,1]\n",
    "        y_scoreRFC = mdl_RFC.fit(X_Train_RFC, y_Train_RFC).predict_proba(X_Test)[:,1]\n",
    "        \n",
    "        fprRFC = dict()\n",
    "        tprRFC = dict()\n",
    "        #roc_aucRFC = dict()\n",
    "        #fprLR, tprLR, _ = roc_curve(y_Test_LRLIN, y_scoreLR,pos_label=1)\n",
    "        fprRFC, tprRFC, _ = roc_curve(y_Test, y_scoreRFC,pos_label=1)\n",
    "        print auc(fprRFC, tprRFC)\n",
    "        \n",
    "        X_Train_LRLIN1=[]\n",
    "        X_Train_RFC=[]\n",
    "        y_Train_RFC=[]\n",
    "         \n",
    "\n",
    "te=time.time()        \n",
    "X_Train_LRLIN=None\n",
    "\n",
    "print \"fertig...\"\n",
    "print 'all time used: {} sec /{} min'.format(te-t0,(te-t0)/60.0) \n"
   ]
  },
  {
   "cell_type": "code",
   "execution_count": null,
   "metadata": {
    "collapsed": false
   },
   "outputs": [],
   "source": [
    "%matplotlib inline\n",
    "plot_roc_curves([fprRFC], [tprRFC])"
   ]
  },
  {
   "cell_type": "code",
   "execution_count": null,
   "metadata": {
    "collapsed": true
   },
   "outputs": [],
   "source": []
  }
 ],
 "metadata": {
  "kernelspec": {
   "display_name": "Python 2",
   "language": "python",
   "name": "python2"
  },
  "language_info": {
   "codemirror_mode": {
    "name": "ipython",
    "version": 2
   },
   "file_extension": ".py",
   "mimetype": "text/x-python",
   "name": "python",
   "nbconvert_exporter": "python",
   "pygments_lexer": "ipython2",
   "version": "2.7.11"
  }
 },
 "nbformat": 4,
 "nbformat_minor": 0
}
