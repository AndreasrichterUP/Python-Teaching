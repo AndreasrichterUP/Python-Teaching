{
 "cells": [
  {
   "cell_type": "code",
   "execution_count": 9,
   "metadata": {},
   "outputs": [],
   "source": [
    "import scripts.QuaternionTools as quad\n",
    "import scripts.RotationMatrixTools as rotMat\n",
    "\n",
    "import numpy as np\n",
    "import math"
   ]
  },
  {
   "cell_type": "code",
   "execution_count": 10,
   "metadata": {},
   "outputs": [],
   "source": [
    "#quad.Q_conj()\n",
    "\n",
    "q1=quad.Q_make(90,np.array([0,0,1]))\n",
    "\n",
    "#rotMat.Rypr()"
   ]
  },
  {
   "cell_type": "code",
   "execution_count": 11,
   "metadata": {},
   "outputs": [
    {
     "data": {
      "text/plain": [
       "array([ 0.70710678,  0.        ,  0.        ,  0.70710678])"
      ]
     },
     "execution_count": 11,
     "metadata": {},
     "output_type": "execute_result"
    }
   ],
   "source": [
    "q1"
   ]
  },
  {
   "cell_type": "code",
   "execution_count": 12,
   "metadata": {},
   "outputs": [
    {
     "name": "stdout",
     "output_type": "stream",
     "text": [
      "[-0.96592583 -0.         -0.         -0.25881905]\n"
     ]
    }
   ],
   "source": [
    "L2=30\n",
    "qZ=quad.Q_normalize(quad.Q_make(360+L2,[0,0,1]))  # dreht um Z (R3) um Längengrad L\n",
    "print(qZ)"
   ]
  },
  {
   "cell_type": "markdown",
   "metadata": {},
   "source": [
    "# Der Punkt P(0, 2, 6) soll um 60° bzgl. der z-Achse rotiert werden. "
   ]
  },
  {
   "cell_type": "code",
   "execution_count": 13,
   "metadata": {
    "collapsed": false
   },
   "outputs": [
    {
     "name": "stdout",
     "output_type": "stream",
     "text": [
      "[ 0.8660254  0.         0.        -0.5      ]\n",
      "1.0\n",
      "[ 0.8660254  0.         0.        -0.5      ]\n",
      "Prüfung:  1.0\n",
      "[0 0 2 6]\n",
      "[ 0.8660254 -0.        -0.         0.5      ]\n",
      "[ 0.          1.73205081  1.          6.        ]\n",
      "[ 0.          1.73205081  1.          6.        ]\n"
     ]
    }
   ],
   "source": [
    "w=60\n",
    "x=0\n",
    "y=2\n",
    "z=6\n",
    "\n",
    "#Rotationsachse = Z-Achse\n",
    "# --> Quaternion Imaginärteil [0,0,1]  is die Rotationachse um die gedreht wird\n",
    "\n",
    "#Einheitsquaternion erstellen\n",
    "q=np.array([ np.cos((60*math.pi)/(2*180)),0,0,-1*np.sin((60*math.pi)/(2*180)) ] )\n",
    "print(q)\n",
    "\n",
    "# Normieren des Quaternions\n",
    "print( np.sqrt(np.dot(q,q)))\n",
    "\n",
    "qE=q/np.sqrt(np.dot(q,q))\n",
    "print( qE)\n",
    "\n",
    "print(\"Prüfung: \" , np.sqrt(np.dot(qE,qE)))\n",
    "\n",
    "\n",
    "## Rotation des Vektors [0,2,6] um 60°\n",
    "# Erweitern des Vektors auf 4.Dim, einfach 0 als erste Komponente hinzufügen\n",
    "p=np.array([0,0,2,6])\n",
    "print( p)\n",
    "# inverse von qE bilden, ist gleich dem konjugierten weil Einheitsquaternion\n",
    "iqE=-qE\n",
    "iqE[0]=-iqE[0]\n",
    "print (iqE)\n",
    "\n",
    "#ausführen der Rotation als quaternionen Multiplikation\n",
    "pr=quad.Q_mult(quad.Q_mult(qE,p),iqE)\n",
    "print( pr)\n",
    "\n",
    "pr=quad.Q_mult(qE,quad.Q_mult(p,iqE))\n",
    "print(pr)"
   ]
  },
  {
   "cell_type": "code",
   "execution_count": null,
   "metadata": {},
   "outputs": [],
   "source": []
  },
  {
   "cell_type": "markdown",
   "metadata": {},
   "source": [
    "# First Tests"
   ]
  },
  {
   "cell_type": "code",
   "execution_count": 14,
   "metadata": {
    "collapsed": false
   },
   "outputs": [
    {
     "name": "stdout",
     "output_type": "stream",
     "text": [
      "[ 0.8660254  0.         0.         2.5      ]\n",
      "[ 0.8660254 -0.        -0.        -2.5      ]\n",
      "[ 0.32732684 -0.         -0.         -0.94491118]\n"
     ]
    }
   ],
   "source": [
    "q1=quad.Q_make(60,[0,0,5])\n",
    "print (q1)\n",
    "q2=quad.Q_conj(q1)\n",
    "print( q2)\n",
    "print( quad.Q_normalize(q2))"
   ]
  },
  {
   "cell_type": "code",
   "execution_count": 15,
   "metadata": {
    "collapsed": false
   },
   "outputs": [
    {
     "name": "stdout",
     "output_type": "stream",
     "text": [
      "Prüfung:  1.0\n"
     ]
    },
    {
     "data": {
      "text/plain": [
       "array([ 1.73205081,  1.        ,  6.        ])"
      ]
     },
     "execution_count": 15,
     "metadata": {},
     "output_type": "execute_result"
    }
   ],
   "source": [
    "\n",
    "#makeQuat(60,[2,3,4])\n",
    "\n",
    "qE=quad.Q_normalize(quad.Q_make(60,[0,0,-1]))\n",
    "print(\"Prüfung: \" , np.sqrt(np.dot(qE,qE)))\n",
    "\n",
    "iQE=quad.Q_inv(qE)\n",
    "\n",
    "quad.Q_rotateVector([0,0,-1],60,[0,2,6])"
   ]
  },
  {
   "cell_type": "code",
   "execution_count": 16,
   "metadata": {
    "collapsed": false
   },
   "outputs": [
    {
     "name": "stdout",
     "output_type": "stream",
     "text": [
      "[ 0.          1.73205081  1.          6.        ]\n"
     ]
    }
   ],
   "source": [
    "p=np.array([0,0,2,6])\n",
    "pr=quad.Q_mult(quad.Q_mult(qE,p),iQE)\n",
    "print( pr)"
   ]
  },
  {
   "cell_type": "code",
   "execution_count": 17,
   "metadata": {
    "collapsed": false
   },
   "outputs": [
    {
     "data": {
      "text/plain": [
       "array([0, 0, 2, 6])"
      ]
     },
     "execution_count": 17,
     "metadata": {},
     "output_type": "execute_result"
    }
   ],
   "source": [
    "arr=np.array([0,2,6])\n",
    "np.append([0],arr)"
   ]
  },
  {
   "cell_type": "code",
   "execution_count": null,
   "metadata": {},
   "outputs": [],
   "source": []
  },
  {
   "cell_type": "code",
   "execution_count": 18,
   "metadata": {
    "collapsed": false
   },
   "outputs": [
    {
     "name": "stdout",
     "output_type": "stream",
     "text": [
      "[ 0.98480775  0.          0.14448402  0.09632268]\n",
      "[ 0.98480775 -0.         -0.14448402 -0.09632268]\n",
      "[ 0.98480775 -0.         -0.14448402 -0.09632268]\n"
     ]
    }
   ],
   "source": [
    "q1=quad.Q_make(20,[0,3/np.sqrt(13),2/np.sqrt(13)])\n",
    "print (q1)\n",
    "q2=quad.Q_conj(q1)\n",
    "print( q2)\n",
    "print( quad.Q_normalize(q2))"
   ]
  },
  {
   "cell_type": "code",
   "execution_count": null,
   "metadata": {},
   "outputs": [],
   "source": []
  },
  {
   "cell_type": "code",
   "execution_count": null,
   "metadata": {},
   "outputs": [],
   "source": []
  },
  {
   "cell_type": "markdown",
   "metadata": {},
   "source": [
    "The vector $[2,3,4]$ is rotated 20° over the axis $\\frac{1}{\\sqrt{13}}[0,3,2]$"
   ]
  },
  {
   "cell_type": "code",
   "execution_count": 19,
   "metadata": {},
   "outputs": [
    {
     "data": {
      "text/plain": [
       "array([ 2.44854116,  3.43510563,  3.34734155])"
      ]
     },
     "execution_count": 19,
     "metadata": {},
     "output_type": "execute_result"
    }
   ],
   "source": [
    "quad.Q_rotateVector([0,3/np.sqrt(13),2/np.sqrt(13)],20,[2,3,4])"
   ]
  },
  {
   "cell_type": "code",
   "execution_count": null,
   "metadata": {},
   "outputs": [],
   "source": []
  },
  {
   "cell_type": "code",
   "execution_count": 20,
   "metadata": {
    "collapsed": true
   },
   "outputs": [],
   "source": [
    "Q1=quad.Q_make(1,[2,3,4])"
   ]
  },
  {
   "cell_type": "code",
   "execution_count": 21,
   "metadata": {
    "collapsed": true
   },
   "outputs": [],
   "source": [
    "Q2=quad.Q_make(2,[4,6,8])"
   ]
  },
  {
   "cell_type": "code",
   "execution_count": 23,
   "metadata": {
    "collapsed": false
   },
   "outputs": [
    {
     "name": "stdout",
     "output_type": "stream",
     "text": [
      "[ 0.99996192  0.01745307  0.02617961  0.03490614]\n",
      "[ 0.9998477   0.06980963  0.10471444  0.13961925]\n"
     ]
    }
   ],
   "source": [
    "print(Q1)\n",
    "print(Q2)"
   ]
  },
  {
   "cell_type": "code",
   "execution_count": 24,
   "metadata": {
    "collapsed": false
   },
   "outputs": [
    {
     "data": {
      "text/plain": [
       "array([ 1.99980962,  0.0872627 ,  0.13089405,  0.17452539])"
      ]
     },
     "execution_count": 24,
     "metadata": {},
     "output_type": "execute_result"
    }
   ],
   "source": [
    "Q1+Q2"
   ]
  },
  {
   "cell_type": "code",
   "execution_count": 27,
   "metadata": {
    "collapsed": true
   },
   "outputs": [
    {
     "name": "stdout",
     "output_type": "stream",
     "text": [
      "[ 0.99965732  0.15706169  0.23559253  0.31412338]\n"
     ]
    }
   ],
   "source": [
    "Q3=quad.Q_make(3,[6,9,12])\n",
    "print(Q3)"
   ]
  },
  {
   "cell_type": "code",
   "execution_count": 28,
   "metadata": {
    "collapsed": true
   },
   "outputs": [],
   "source": [
    "qa=quad.Q_make(1,[0,1,1])\n",
    "qb=quad.Q_make(1,[1,0,0])"
   ]
  },
  {
   "cell_type": "code",
   "execution_count": 29,
   "metadata": {
    "collapsed": false
   },
   "outputs": [
    {
     "name": "stdout",
     "output_type": "stream",
     "text": [
      "[ 0.99992385  0.0087262   0.00880236  0.00865005]\n"
     ]
    }
   ],
   "source": [
    "q=quad.Q_mult(qa,qb)\n",
    "print( q)"
   ]
  },
  {
   "cell_type": "markdown",
   "metadata": {},
   "source": [
    "RotationsMatrix: "
   ]
  },
  {
   "cell_type": "code",
   "execution_count": 32,
   "metadata": {
    "collapsed": true
   },
   "outputs": [
    {
     "name": "stdout",
     "output_type": "stream",
     "text": [
      "[[ 0.99977154 -0.01714516  0.01775433]\n",
      " [ 0.01745241  0.99977421 -0.0172988 ]\n",
      " [-0.01745241  0.01760336  0.9997689 ]]\n"
     ]
    }
   ],
   "source": [
    "Rq=rotMat.QtoR(q)\n",
    "print(Rq)"
   ]
  },
  {
   "cell_type": "code",
   "execution_count": 33,
   "metadata": {
    "collapsed": false
   },
   "outputs": [
    {
     "data": {
      "text/plain": [
       "matrix([[  1.00000000e+00,   0.00000000e+00,   0.00000000e+00],\n",
       "        [  0.00000000e+00,   6.12323400e-17,   1.00000000e+00],\n",
       "        [  0.00000000e+00,  -1.00000000e+00,   6.12323400e-17]])"
      ]
     },
     "execution_count": 33,
     "metadata": {},
     "output_type": "execute_result"
    }
   ],
   "source": [
    "rotMat.Rypr(0,0,-90)"
   ]
  },
  {
   "cell_type": "code",
   "execution_count": 34,
   "metadata": {
    "collapsed": false
   },
   "outputs": [
    {
     "name": "stdout",
     "output_type": "stream",
     "text": [
      "6.12323399574e-17\n",
      "1.0\n"
     ]
    }
   ],
   "source": [
    "print(np.cos(90*np.pi/180))\n",
    "print( np.sin(90*np.pi/180))"
   ]
  },
  {
   "cell_type": "code",
   "execution_count": 46,
   "metadata": {
    "collapsed": false
   },
   "outputs": [
    {
     "name": "stdout",
     "output_type": "stream",
     "text": [
      "[ 1.  0.  0.  0.]\n"
     ]
    }
   ],
   "source": [
    "z=quad.Q_make(0,[0,0,1])\n",
    "print(z)"
   ]
  },
  {
   "cell_type": "code",
   "execution_count": 37,
   "metadata": {
    "collapsed": false
   },
   "outputs": [
    {
     "name": "stdout",
     "output_type": "stream",
     "text": [
      "[[  0.00000000e+00]\n",
      " [ -1.00000000e+00]\n",
      " [  6.12323400e-17]]\n"
     ]
    }
   ],
   "source": [
    "z3=rotMat.Rypr(0,0,90)*np.matrix([0,0,1]).T\n",
    "print( z3)"
   ]
  },
  {
   "cell_type": "code",
   "execution_count": null,
   "metadata": {},
   "outputs": [],
   "source": []
  },
  {
   "cell_type": "markdown",
   "metadata": {},
   "source": [
    "**Ein Einfaches Beispiel: rotiere den Einheitsvektor \"z\" um \"x\" mit einem Winkel von -90°  := \"-y\" \n",
    "**"
   ]
  },
  {
   "cell_type": "code",
   "execution_count": 38,
   "metadata": {
    "collapsed": false
   },
   "outputs": [
    {
     "name": "stdout",
     "output_type": "stream",
     "text": [
      "[ 0.99999536  0.          0.00253457  0.00168971]\n",
      "0.984807753012\n",
      "0.173648177667\n"
     ]
    }
   ],
   "source": [
    "x=[0,3./np.sqrt(13),2./np.sqrt(13)]\n",
    "winkel=20*np.pi/180\n",
    "\n",
    "q=quad.Q_make(winkel,x)\n",
    "print(q)\n",
    "print(np.cos(10*np.pi/180))\n",
    "print(np.sin(10*np.pi/180))"
   ]
  },
  {
   "cell_type": "code",
   "execution_count": 47,
   "metadata": {
    "collapsed": false
   },
   "outputs": [
    {
     "name": "stdout",
     "output_type": "stream",
     "text": [
      "[ 0.99999536  0.          0.00253457  0.00168971]\n",
      "[ 1.  0.  0.  0.]\n"
     ]
    }
   ],
   "source": [
    "neuZ1=quad.Q_mult(q,z)\n",
    "print( neuZ1)\n",
    "neuZ2=quad.Q_mult(neuZ1,quad.Q_inv(q))\n",
    "print( neuZ2)"
   ]
  },
  {
   "cell_type": "code",
   "execution_count": 43,
   "metadata": {},
   "outputs": [
    {
     "name": "stdout",
     "output_type": "stream",
     "text": [
      "No variables match your requested type.\n"
     ]
    }
   ],
   "source": [
    "who"
   ]
  },
  {
   "cell_type": "code",
   "execution_count": null,
   "metadata": {},
   "outputs": [],
   "source": []
  }
 ],
 "metadata": {
  "kernelspec": {
   "display_name": "Python 3",
   "language": "python",
   "name": "python3"
  },
  "language_info": {
   "codemirror_mode": {
    "name": "ipython",
    "version": 3
   },
   "file_extension": ".py",
   "mimetype": "text/x-python",
   "name": "python",
   "nbconvert_exporter": "python",
   "pygments_lexer": "ipython3",
   "version": "3.4.5"
  }
 },
 "nbformat": 4,
 "nbformat_minor": 2
}
