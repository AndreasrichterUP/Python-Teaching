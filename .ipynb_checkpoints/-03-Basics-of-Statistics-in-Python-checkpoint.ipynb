{
 "cells": [
  {
   "cell_type": "markdown",
   "metadata": {},
   "source": [
    "-03-Basics-of-Statistical-Distributions-and-Analysis © by A.Richter\n",
    "---"
   ]
  },
  {
   "cell_type": "markdown",
   "metadata": {},
   "source": [
    "Import of modules and libraries..."
   ]
  },
  {
   "cell_type": "code",
   "execution_count": 57,
   "metadata": {
    "collapsed": true
   },
   "outputs": [],
   "source": [
    "import numpy as np                   # numeric python\n",
    "import matplotlib.pyplot as plt      # plot library\n",
    "import matplotlib.mlab as mlab       \n",
    " \n",
    "import scipy as sp                   # scientific python\n",
    "#import scipy.stats as sts\n",
    "from scipy import stats              # statistical distributions\n",
    "\n",
    "import pandas as pd                  # dataframes, data containers\n",
    "import skimage.io as skio            # images\n",
    "import glob\n",
    "%matplotlib inline"
   ]
  },
  {
   "cell_type": "markdown",
   "metadata": {},
   "source": [
    "Basics of Error Types\n",
    "---"
   ]
  },
  {
   "cell_type": "markdown",
   "metadata": {},
   "source": [
    "The task of a (physical) measurement is to determine the value of a physical quantity (length, velocity, concentration,...)\n",
    "\n",
    "On the one hand human senses are limited and on the other hand every measurement is exposed to the\n",
    "(sometimes non-controllable) influences of it's nearby environment. This is why measuring results **x** tend to vary from its error-free but always unknown **true value X** of the physical quantity.\n"
   ]
  },
  {
   "cell_type": "markdown",
   "metadata": {},
   "source": [
    "We generally distinguish between **gross errors**, **systemstic errors** and **random errors**.\n",
    "\n",
    "A **gross error (or Blunder)**  for example is a datapoint that does not fit in a bunch of other measurements, e.g. as shown in the graphic below...A reason for such a mistake can be the human operator (humans tend to make mistakes) or general unlucky circumstances for a measurement. There are lots of statistical tools to eleminate blunders, e.g. Bootstrapping or Jack-Knife as shown below.\n",
    "\n",
    "( see also later: a gross error exites more than **three times the standard deviation** of a measurement)"
   ]
  },
  {
   "cell_type": "markdown",
   "metadata": {},
   "source": [
    "<img src=\"figures/blunder.png\">"
   ]
  },
  {
   "cell_type": "markdown",
   "metadata": {},
   "source": [
    "**Systemstic errors** can be traced back to the measureing instrument itself. They are always reproduceable in size and direction. Examples are wrongly calibrated scales, a shifted origin of a scale or lenght-delations of scales because of temperature variations and environmental influences. Systematic errors can be eliminated or minimized by improvements of the meassuring system."
   ]
  },
  {
   "cell_type": "markdown",
   "metadata": {},
   "source": [
    "**Random errors** can not be eliminated! Inside a series of measurements there will always be small variations differing in size and direction. Only by repetition of measurements these form of errors can be lowered and controlled but never eliminated... "
   ]
  },
  {
   "cell_type": "markdown",
   "metadata": {},
   "source": [
    "**Statistical-Distributions**\n",
    "---"
   ]
  },
  {
   "cell_type": "markdown",
   "metadata": {},
   "source": [
    "The analysis of statistical distributions in datasets is a basic tool for data analysts."
   ]
  },
  {
   "cell_type": "markdown",
   "metadata": {},
   "source": [
    "a very basic distribution is the **uniform distribution**. (german Gleichverteilung). Numeric Python offers a function called **np.random.rand()** to generate uniformly distributed numbers. The following diagrams will proide a visual impression about this form of distribution. Try it yourself with a increasing number of n."
   ]
  },
  {
   "cell_type": "markdown",
   "metadata": {},
   "source": [
    "Equal or **uniform distribution** : Random numbers between 0 and 1\n",
    "---"
   ]
  },
  {
   "cell_type": "code",
   "execution_count": 58,
   "metadata": {
    "collapsed": false
   },
   "outputs": [
    {
     "data": {
      "image/png": "[encoded data removed]",
      "text/plain": [
       "<matplotlib.figure.Figure at 0x112adf080>"
      ]
     },
     "metadata": {},
     "output_type": "display_data"
    },
    {
     "data": {
      "image/png": "[encoded data removed]",
      "text/plain": [
       "<matplotlib.figure.Figure at 0x1121cfe10>"
      ]
     },
     "metadata": {},
     "output_type": "display_data"
    }
   ],
   "source": [
    "import numpy as np\n",
    "import matplotlib.pyplot as plt\n",
    "%matplotlib inline\n",
    "n=50  # n=100 #n=1000 #n=10000      #change number of drawn examples \"n\" \n",
    "Nums=np.random.rand(n)\n",
    "#print Nums\n",
    "a=np.arange(0,1.25,0.25)            # make all 0.25 units a vertical dash\n",
    "y=np.zeros(a.shape)\n",
    "fig=plt.figure(figsize=(20,3))\n",
    "plt.plot(a,y,'k|',ms = 30)          # plot verticale dashes in the Graphic \n",
    "\n",
    "plt.hlines(0,0,1)\n",
    "plt.plot(Nums,np.zeros((n)),'ro')   # plot r=red;   o = big filled Point;   .= small filled Point\n",
    "plt.xlim(-0.1,1.1)\n",
    "plt.ylim(-0.5,0.5)\n",
    "plt.yticks([])                     # no y-Axis Annotations\n",
    "plt.show()\n",
    "\n",
    "fig=plt.figure(figsize=(20,3))\n",
    "hist, bins = np.histogram(Nums, bins=25)         #Number of Intervalls, change \"bins\" \n",
    "width = 0.7 * (bins[1] - bins[0])\n",
    "center = (bins[:-1] + bins[1:]) / 2\n",
    "plt.bar(center, hist, align='center', width=width)\n",
    "plt.show()"
   ]
  },
  {
   "cell_type": "code",
   "execution_count": null,
   "metadata": {},
   "outputs": [],
   "source": []
  },
  {
   "cell_type": "markdown",
   "metadata": {},
   "source": [
    "But measured data is in general much more complex as nature loves to generate complexity based on very simple rules..."
   ]
  },
  {
   "cell_type": "code",
   "execution_count": null,
   "metadata": {},
   "outputs": [],
   "source": []
  },
  {
   "cell_type": "markdown",
   "metadata": {},
   "source": [
    "**Standard Normal distribution (Gaussian Distribution)**: random numbers with Mean $\\mu$ = 0 and Standarddeviation $\\sigma$ = 1\n",
    "---"
   ]
  },
  {
   "cell_type": "markdown",
   "metadata": {},
   "source": [
    "The gaussian or normal distribution is one of the most important distributions in science. It was published by **Carl Friedrich Gauss in 1809** \"Theoria motus corporum coelestium in sectionibus conicis solem ambientium\" (dt.: Theorie der Bewegung der in Kegelschnitten sich um die Sonne bewegenden Himmelskörper)\n",
    "which defined the **Normal Distribution** just next to the **Least Squares Method** and the **Maximum-Likelihood-Estimation**"
   ]
  },
  {
   "cell_type": "markdown",
   "metadata": {},
   "source": [
    "It's so called **Probability Desity Function (PDF)** is shown here:"
   ]
  },
  {
   "cell_type": "markdown",
   "metadata": {},
   "source": [
    "$ P(x|\\mu, \\sigma) = \\frac{1}{{\\sigma \\sqrt {2\\pi } }}exp (-\\frac{ (x - \\mu )^2}  {2\\sigma^2 }  )$\n",
    "\n",
    "If the data X follows a normal distribution you can write it like this:\n",
    "$ X \\sim \\mathcal{N}(\\mu,\\,\\sigma^{2})\\,.$\n",
    "\n",
    "$ X \\sim \\mathcal{N}(0,1)$ is called the Standard Normal distribution (source: https://de.wikipedia.org/wiki/Normalverteilung)"
   ]
  },
  {
   "cell_type": "markdown",
   "metadata": {},
   "source": [
    "Numeric Python also offers a function called **np.random.randn()** to generate normally distributed numbers.\n",
    "\n",
    "Don't mixed it up with **np.random.rand()**, there is an extra **n**!"
   ]
  },
  {
   "cell_type": "markdown",
   "metadata": {},
   "source": [
    "Try it yourselv and play with the source code below by changing the number **n**..."
   ]
  },
  {
   "cell_type": "code",
   "execution_count": 59,
   "metadata": {
    "collapsed": false
   },
   "outputs": [
    {
     "data": {
      "image/png": "[encoded data removed]",
      "text/plain": [
       "<matplotlib.figure.Figure at 0x1115bf860>"
      ]
     },
     "metadata": {},
     "output_type": "display_data"
    },
    {
     "data": {
      "image/png": "[encoded data removed]",
      "text/plain": [
       "<matplotlib.figure.Figure at 0x1128cc240>"
      ]
     },
     "metadata": {},
     "output_type": "display_data"
    }
   ],
   "source": [
    "import numpy as np\n",
    "import matplotlib.pyplot as plt\n",
    "%matplotlib inline\n",
    "\n",
    "n=50 # n=100 #n=1000 #n=10000           #change number of drawn examples \"n\", start with small\n",
    "Nums=np.random.randn(n)                 # Difference!!! : randn() instead of rand()\n",
    "\n",
    "a=np.arange(-3,3.25,0.25)\n",
    "y=np.zeros(a.shape)\n",
    "fig=plt.figure(figsize=(20,3))\n",
    "plt.plot(a,y,'k|',ms = 30)\n",
    "\n",
    "plt.hlines(0,-3,3)\n",
    "plt.plot(Nums,np.zeros((n)),'ro')\n",
    "plt.xlim(-3.25,3.25)\n",
    "plt.ylim(-0.5,0.5)\n",
    "plt.yticks([])\n",
    "plt.show()\n",
    "\n",
    "fig=plt.figure(figsize=(20,3))\n",
    "hist, bins = np.histogram(Nums, bins=25)          #change number of Intervalls \"bins=\" \n",
    "width = 0.7 * (bins[1] - bins[0])\n",
    "center = (bins[:-1] + bins[1:]) / 2\n",
    "plt.bar(center, hist, align='center', width=width)\n",
    "plt.show()"
   ]
  },
  {
   "cell_type": "markdown",
   "metadata": {},
   "source": [
    "Explanation of Graphics of the normal dist:\n",
    "    "
   ]
  },
  {
   "cell_type": "code",
   "execution_count": 60,
   "metadata": {},
   "outputs": [
    {
     "data": {
      "text/plain": [
       "range(-10, 11)"
      ]
     },
     "execution_count": 60,
     "metadata": {},
     "output_type": "execute_result"
    }
   ],
   "source": [
    "range(-10,11)"
   ]
  },
  {
   "cell_type": "code",
   "execution_count": 61,
   "metadata": {},
   "outputs": [
    {
     "data": {
      "image/png": "[encoded data removed]",
      "text/plain": [
       "<matplotlib.figure.Figure at 0x111df1470>"
      ]
     },
     "metadata": {},
     "output_type": "display_data"
    }
   ],
   "source": [
    "bins=np.arange(-4,4,0.05)\n",
    "\n",
    "y = mlab.normpdf( bins, 0, 1)\n",
    "l = plt.plot(bins, y, 'r--', linewidth=1)\n",
    "\n",
    "plt.xlabel('')\n",
    "plt.ylabel('Probability')\n",
    "plt.title(r'Standard Normaldistribution  ($\\mu=0,\\ \\sigma=1$)')\n",
    "#plt.axis([40, 160, 0, 0.03])\n",
    "plt.grid(True)\n",
    "\n",
    "plt.show()\n"
   ]
  },
  {
   "cell_type": "markdown",
   "metadata": {},
   "source": [
    "Graphics of std norm with percentage sign and explanations"
   ]
  },
  {
   "cell_type": "markdown",
   "metadata": {},
   "source": [
    "The general Probability density function as shown above:\n",
    "$ P(x|\\mu, \\sigma) = \\frac{1}{{\\sigma \\sqrt {2\\pi } }}exp (-\\frac{ (x - \\mu )^2}  {2\\sigma^2 }  )$\n",
    "\n",
    "will be much less complex"
   ]
  },
  {
   "cell_type": "markdown",
   "metadata": {},
   "source": [
    "$ P(x|0, 1) = \\frac{1}{{1 \\sqrt {2\\pi } }}exp (-\\frac{ (x - 0 )^2}  {2\\cdot1^2 }  )$\n",
    "\n",
    "If the data X follows a normal distribution you can write it like this:\n",
    "$ X \\sim \\mathcal{N}(\\mu,\\,\\sigma^{2})\\,.$\n",
    "\n",
    "$ X \\sim \\mathcal{N}(0,1)$ is called the Standard Normal distribution (source: https://de.wikipedia.org/wiki/Normalverteilung)"
   ]
  },
  {
   "cell_type": "markdown",
   "metadata": {},
   "source": [
    "Furthermore there are many more distributions that can be used in numpy, e.g."
   ]
  },
  {
   "cell_type": "markdown",
   "metadata": {},
   "source": [
    " - Bernoulli Dist.\n",
    " \n",
    " - Poisson Dist.  \n",
    " \n",
    " - Log-Normal Dist.\n",
    " \n",
    " - "
   ]
  },
  {
   "cell_type": "markdown",
   "metadata": {},
   "source": [
    "https://docs.scipy.org/doc/scipy-0.14.0/reference/stats.html#module-scipy.stats "
   ]
  },
  {
   "cell_type": "code",
   "execution_count": null,
   "metadata": {},
   "outputs": [],
   "source": []
  },
  {
   "cell_type": "code",
   "execution_count": null,
   "metadata": {},
   "outputs": [],
   "source": []
  },
  {
   "cell_type": "markdown",
   "metadata": {},
   "source": [
    "A little review of histogramms\n",
    "---"
   ]
  },
  {
   "cell_type": "markdown",
   "metadata": {},
   "source": [
    "Histograms are a special view to display data. I have allready used them in the examples of statistical distributions above. Its based on a 2D diagram where the horizontal axis shows each data-value and the vertical axis show the frequency of each value (how often is this value present in the dataset) \n",
    "\n",
    "By the review of the histogram you can guess what might be the underlying distribution in the data. You can also determine wheater there is just one or two paeks in the histogram....\n",
    "\n",
    "For image data contrast can be easily assessed in this way. An image shows a good contrast when all possible values are present or on the other hand a low contrast when only few values are present.\n",
    "\n",
    "But by a review of the histogram you can not say where a pixel is located in an Image(row/col)"
   ]
  },
  {
   "cell_type": "markdown",
   "metadata": {},
   "source": [
    "http://matplotlib.org/1.2.1/examples/pylab_examples/histogram_demo.html\n",
    "\n",
    "https://plot.ly/matplotlib/histograms/"
   ]
  },
  {
   "cell_type": "markdown",
   "metadata": {},
   "source": [
    "There are multiple options and software libraries to generate the histogram of a dataset like np, plt or pandas,...but I will only display two of them here...  \n",
    "\n",
    "...just like before we start with random values and add an offset and multiplier...\n",
    "\n",
    "pass over the data to the function that calculates the histogram and generate a best fit line for comparison"
   ]
  },
  {
   "cell_type": "markdown",
   "metadata": {},
   "source": [
    "The number of **bins** (here bins=50) describes the interval in which the data is sampled."
   ]
  },
  {
   "cell_type": "markdown",
   "metadata": {},
   "source": [
    "The parameter **normed=1** in plt.hist() ensures a standard curved, this means the area under the curve is always eq. 1\n",
    "\n",
    "If this parameter is deactivated the best fit line is not over the data in the plot..."
   ]
  },
  {
   "cell_type": "code",
   "execution_count": 62,
   "metadata": {
    "collapsed": false
   },
   "outputs": [
    {
     "data": {
      "image/png": "[encoded data removed]",
      "text/plain": [
       "<matplotlib.figure.Figure at 0x111473b38>"
      ]
     },
     "metadata": {},
     "output_type": "display_data"
    }
   ],
   "source": [
    "#Histogram mittels Funktion  plt.hist()  aus matplotlib\n",
    "\n",
    "import numpy as np\n",
    "import matplotlib.pyplot as plt\n",
    "import matplotlib.mlab as mlab\n",
    "\n",
    "mu, sigma = 100, 15\n",
    "x = mu + sigma*np.random.randn(1000)\n",
    "\n",
    "                                          # generate the histogram of the data\n",
    "n, bins, patches = plt.hist(x, 50, normed=1, facecolor='green', alpha=0.75)\n",
    "#n, bins, patches = plt.hist(x, 50, facecolor='green', alpha=0.75)\n",
    "\n",
    "                                           # add a 'best fit' line, normed=1 has to be set!!!!\n",
    "y = mlab.normpdf( bins, mu, sigma)\n",
    "l = plt.plot(bins, y, 'r--', linewidth=1)\n",
    "\n",
    "plt.xlabel('Smarts')\n",
    "plt.ylabel('Probability')\n",
    "plt.title(r'$\\mathrm{Histogram\\ of\\ IQ:}\\ \\mu=100,\\ \\sigma=15$')\n",
    "#plt.axis([40, 160, 0, 0.03])\n",
    "plt.grid(True)\n",
    "\n",
    "plt.show()\n",
    "#=================================================================================\n"
   ]
  },
  {
   "cell_type": "markdown",
   "metadata": {},
   "source": [
    "The second option to draw a histogram is based on plain numeric python **np.histogram()** and uses  less complex parameters..."
   ]
  },
  {
   "cell_type": "code",
   "execution_count": 63,
   "metadata": {
    "collapsed": false
   },
   "outputs": [
    {
     "data": {
      "image/png": "[encoded data removed]",
      "text/plain": [
       "<matplotlib.figure.Figure at 0x1137128d0>"
      ]
     },
     "metadata": {},
     "output_type": "display_data"
    }
   ],
   "source": [
    "# 2. Option is np.histogram() \n",
    "mu, sigma = 100, 15\n",
    "x = mu + sigma * np.random.randn(1000)\n",
    "\n",
    "                                        # generate the histogram of the data\n",
    "hist, bins = np.histogram(x, bins=50, normed=True)\n",
    "\n",
    "width = 0.7 * (bins[1] - bins[0])\n",
    "center = (bins[:-1] + bins[1:]) / 2\n",
    "plt.bar(center, hist, align='center', width=width)\n",
    "\n",
    "\n",
    "# add a 'best fit' line\n",
    "y = mlab.normpdf( bins, mu, sigma)\n",
    "l = plt.plot(bins, y, 'r--', linewidth=1)\n",
    "\n",
    "plt.xlabel('Smarts')\n",
    "plt.ylabel('Probability')\n",
    "plt.title(r'$\\mathrm{Histogram\\ of\\ IQ:}\\ \\mu=100,\\ \\sigma=15$')\n",
    "#plt.axis([40, 160, 0, 0.03])\n",
    "plt.grid(True)\n",
    "\n",
    "plt.show()"
   ]
  },
  {
   "cell_type": "markdown",
   "metadata": {},
   "source": [
    "choose for you which histigram is best fitting for you and apply it on a dataset of your choice"
   ]
  },
  {
   "cell_type": "code",
   "execution_count": null,
   "metadata": {},
   "outputs": [],
   "source": []
  },
  {
   "cell_type": "markdown",
   "metadata": {},
   "source": [
    "Variance and Covariance\n",
    "----"
   ]
  },
  {
   "cell_type": "markdown",
   "metadata": {},
   "source": [
    "compare the end of the Notebook -01-Basics-of-Python-... there was an example how to calculate \n",
    "the standard deviation of a dataseries.\n",
    "\n",
    "In the following example I will generate **two dataseries** instaed of one and see if I can use the same approach of formulas:"
   ]
  },
  {
   "cell_type": "markdown",
   "metadata": {},
   "source": [
    "$ std = \\sqrt{\\frac{\\sum\\nolimits_{i=1}^{20}(x_i - \\bar{X})^2}{20-1}}$  where $\\bar{X}$ is the Mean of the dataseries\n",
    "\n",
    "$ var = std^2 =\\frac{\\sum\\nolimits_{i=1}^{20}(x_i - \\bar{X})^2}{20-1}$ ! Remember Variance is only the squared value of the standard-deviation !\n",
    "\n",
    "$ cov(x_1,x_2) = \\frac{\\sum\\nolimits_{i=1}^{20}((x_{1i} - \\bar{X_1})\\cdot(x_{2i} - \\bar{X_2}) )}{20-1}$  where $\\bar{X_1}$ and $\\bar{X_2}$ are the Means of the dataseries"
   ]
  },
  {
   "cell_type": "markdown",
   "metadata": {},
   "source": [
    "compare the formula of the variance and the covariance, there is no squared $(...)^2$ Term in the Covariance instead of two terms $(x_i - \\bar{X})$\n",
    "\n",
    "to format the display of the dataseries aligned just next to each other a **pandas dataframe** can be used. Pandas is a library for easily handling of datasets (see: https://pandas.org ) \n"
   ]
  },
  {
   "cell_type": "code",
   "execution_count": 85,
   "metadata": {},
   "outputs": [
    {
     "data": {
      "text/html": [
       "<div>\n",
       "<table border=\"1\" class=\"dataframe\">\n",
       "  <thead>\n",
       "    <tr style=\"text-align: right;\">\n",
       "      <th></th>\n",
       "      <th>x1</th>\n",
       "      <th>x2</th>\n",
       "    </tr>\n",
       "  </thead>\n",
       "  <tbody>\n",
       "    <tr>\n",
       "      <th>0</th>\n",
       "      <td>67.640523</td>\n",
       "      <td>4.470102</td>\n",
       "    </tr>\n",
       "    <tr>\n",
       "      <th>1</th>\n",
       "      <td>54.001572</td>\n",
       "      <td>36.536186</td>\n",
       "    </tr>\n",
       "    <tr>\n",
       "      <th>2</th>\n",
       "      <td>59.787380</td>\n",
       "      <td>38.644362</td>\n",
       "    </tr>\n",
       "    <tr>\n",
       "      <th>3</th>\n",
       "      <td>72.408932</td>\n",
       "      <td>22.578350</td>\n",
       "    </tr>\n",
       "    <tr>\n",
       "      <th>4</th>\n",
       "      <td>68.675580</td>\n",
       "      <td>52.697546</td>\n",
       "    </tr>\n",
       "    <tr>\n",
       "      <th>5</th>\n",
       "      <td>40.227221</td>\n",
       "      <td>15.456343</td>\n",
       "    </tr>\n",
       "    <tr>\n",
       "      <th>6</th>\n",
       "      <td>59.500884</td>\n",
       "      <td>30.457585</td>\n",
       "    </tr>\n",
       "    <tr>\n",
       "      <th>7</th>\n",
       "      <td>48.486428</td>\n",
       "      <td>28.128161</td>\n",
       "    </tr>\n",
       "    <tr>\n",
       "      <th>8</th>\n",
       "      <td>48.967811</td>\n",
       "      <td>45.327792</td>\n",
       "    </tr>\n",
       "    <tr>\n",
       "      <th>9</th>\n",
       "      <td>54.105985</td>\n",
       "      <td>44.693588</td>\n",
       "    </tr>\n",
       "    <tr>\n",
       "      <th>10</th>\n",
       "      <td>51.440436</td>\n",
       "      <td>31.549474</td>\n",
       "    </tr>\n",
       "    <tr>\n",
       "      <th>11</th>\n",
       "      <td>64.542735</td>\n",
       "      <td>33.781625</td>\n",
       "    </tr>\n",
       "    <tr>\n",
       "      <th>12</th>\n",
       "      <td>57.610377</td>\n",
       "      <td>21.122143</td>\n",
       "    </tr>\n",
       "    <tr>\n",
       "      <th>13</th>\n",
       "      <td>51.216750</td>\n",
       "      <td>10.192035</td>\n",
       "    </tr>\n",
       "    <tr>\n",
       "      <th>14</th>\n",
       "      <td>54.438632</td>\n",
       "      <td>26.520879</td>\n",
       "    </tr>\n",
       "    <tr>\n",
       "      <th>15</th>\n",
       "      <td>53.336743</td>\n",
       "      <td>31.563490</td>\n",
       "    </tr>\n",
       "    <tr>\n",
       "      <th>16</th>\n",
       "      <td>64.940791</td>\n",
       "      <td>42.302907</td>\n",
       "    </tr>\n",
       "    <tr>\n",
       "      <th>17</th>\n",
       "      <td>47.948417</td>\n",
       "      <td>42.023798</td>\n",
       "    </tr>\n",
       "    <tr>\n",
       "      <th>18</th>\n",
       "      <td>53.130677</td>\n",
       "      <td>26.126732</td>\n",
       "    </tr>\n",
       "    <tr>\n",
       "      <th>19</th>\n",
       "      <td>41.459043</td>\n",
       "      <td>26.976972</td>\n",
       "    </tr>\n",
       "  </tbody>\n",
       "</table>\n",
       "</div>"
      ],
      "text/plain": [
       "           x1         x2\n",
       "0   67.640523   4.470102\n",
       "1   54.001572  36.536186\n",
       "2   59.787380  38.644362\n",
       "3   72.408932  22.578350\n",
       "4   68.675580  52.697546\n",
       "5   40.227221  15.456343\n",
       "6   59.500884  30.457585\n",
       "7   48.486428  28.128161\n",
       "8   48.967811  45.327792\n",
       "9   54.105985  44.693588\n",
       "10  51.440436  31.549474\n",
       "11  64.542735  33.781625\n",
       "12  57.610377  21.122143\n",
       "13  51.216750  10.192035\n",
       "14  54.438632  26.520879\n",
       "15  53.336743  31.563490\n",
       "16  64.940791  42.302907\n",
       "17  47.948417  42.023798\n",
       "18  53.130677  26.126732\n",
       "19  41.459043  26.976972"
      ]
     },
     "execution_count": 85,
     "metadata": {},
     "output_type": "execute_result"
    }
   ],
   "source": [
    "#import pandas as pd\n",
    "np.random.seed(0)\n",
    "x1=50+10*np.random.randn(20,1)\n",
    "x2=30+10*np.random.randn(20,1)   \n",
    "\n",
    "df=pd.DataFrame(x1,columns=['x1'])\n",
    "df['x2'] = pd.DataFrame(x2)\n",
    "df"
   ]
  },
  {
   "cell_type": "markdown",
   "metadata": {},
   "source": [
    "**Now Calculate the mean for each dataseries, it's Standard deviation and Variance **"
   ]
  },
  {
   "cell_type": "code",
   "execution_count": 65,
   "metadata": {},
   "outputs": [
    {
     "name": "stdout",
     "output_type": "stream",
     "text": [
      "X1mean: 55.69334592945635\n",
      "X2mean: 30.557503534867134\n",
      "std(x1)=8.722691485249856\n",
      "std(x2)=12.186782902269126\n",
      "var(x1)=76.08534674685032\n",
      "var(x2)=148.5176775070391\n"
     ]
    }
   ],
   "source": [
    "X1mean=np.sum(x1)/20\n",
    "X2mean=np.sum(x2)/20\n",
    "\n",
    "print('X1mean: {}'.format(X1mean))\n",
    "print('X2mean: {}'.format(X2mean))\n",
    "print('std(x1)={}'.format(np.std(x1,ddof=1)))\n",
    "print('std(x2)={}'.format(np.std(x2,ddof=1)))\n",
    "\n",
    "print('var(x1)={}'.format(np.var(x1,ddof=1)))\n",
    "print('var(x2)={}'.format(np.var(x2,ddof=1)))\n"
   ]
  },
  {
   "cell_type": "markdown",
   "metadata": {},
   "source": [
    "Now Calculate the **residuals from the mean to each datapoint ** and add it to the DataFrame"
   ]
  },
  {
   "cell_type": "code",
   "execution_count": 66,
   "metadata": {},
   "outputs": [
    {
     "data": {
      "text/html": [
       "<div>\n",
       "<table border=\"1\" class=\"dataframe\">\n",
       "  <thead>\n",
       "    <tr style=\"text-align: right;\">\n",
       "      <th></th>\n",
       "      <th>x1</th>\n",
       "      <th>x2</th>\n",
       "      <th>x1Res</th>\n",
       "      <th>x2Res</th>\n",
       "    </tr>\n",
       "  </thead>\n",
       "  <tbody>\n",
       "    <tr>\n",
       "      <th>0</th>\n",
       "      <td>67.640523</td>\n",
       "      <td>4.470102</td>\n",
       "      <td>11.947178</td>\n",
       "      <td>-26.087402</td>\n",
       "    </tr>\n",
       "    <tr>\n",
       "      <th>1</th>\n",
       "      <td>54.001572</td>\n",
       "      <td>36.536186</td>\n",
       "      <td>-1.691774</td>\n",
       "      <td>5.978682</td>\n",
       "    </tr>\n",
       "    <tr>\n",
       "      <th>2</th>\n",
       "      <td>59.787380</td>\n",
       "      <td>38.644362</td>\n",
       "      <td>4.094034</td>\n",
       "      <td>8.086858</td>\n",
       "    </tr>\n",
       "    <tr>\n",
       "      <th>3</th>\n",
       "      <td>72.408932</td>\n",
       "      <td>22.578350</td>\n",
       "      <td>16.715586</td>\n",
       "      <td>-7.979154</td>\n",
       "    </tr>\n",
       "    <tr>\n",
       "      <th>4</th>\n",
       "      <td>68.675580</td>\n",
       "      <td>52.697546</td>\n",
       "      <td>12.982234</td>\n",
       "      <td>22.140043</td>\n",
       "    </tr>\n",
       "    <tr>\n",
       "      <th>5</th>\n",
       "      <td>40.227221</td>\n",
       "      <td>15.456343</td>\n",
       "      <td>-15.466125</td>\n",
       "      <td>-15.101160</td>\n",
       "    </tr>\n",
       "    <tr>\n",
       "      <th>6</th>\n",
       "      <td>59.500884</td>\n",
       "      <td>30.457585</td>\n",
       "      <td>3.807538</td>\n",
       "      <td>-0.099918</td>\n",
       "    </tr>\n",
       "    <tr>\n",
       "      <th>7</th>\n",
       "      <td>48.486428</td>\n",
       "      <td>28.128161</td>\n",
       "      <td>-7.206918</td>\n",
       "      <td>-2.429342</td>\n",
       "    </tr>\n",
       "    <tr>\n",
       "      <th>8</th>\n",
       "      <td>48.967811</td>\n",
       "      <td>45.327792</td>\n",
       "      <td>-6.725534</td>\n",
       "      <td>14.770289</td>\n",
       "    </tr>\n",
       "    <tr>\n",
       "      <th>9</th>\n",
       "      <td>54.105985</td>\n",
       "      <td>44.693588</td>\n",
       "      <td>-1.587361</td>\n",
       "      <td>14.136084</td>\n",
       "    </tr>\n",
       "    <tr>\n",
       "      <th>10</th>\n",
       "      <td>51.440436</td>\n",
       "      <td>31.549474</td>\n",
       "      <td>-4.252910</td>\n",
       "      <td>0.991971</td>\n",
       "    </tr>\n",
       "    <tr>\n",
       "      <th>11</th>\n",
       "      <td>64.542735</td>\n",
       "      <td>33.781625</td>\n",
       "      <td>8.849389</td>\n",
       "      <td>3.224122</td>\n",
       "    </tr>\n",
       "    <tr>\n",
       "      <th>12</th>\n",
       "      <td>57.610377</td>\n",
       "      <td>21.122143</td>\n",
       "      <td>1.917031</td>\n",
       "      <td>-9.435361</td>\n",
       "    </tr>\n",
       "    <tr>\n",
       "      <th>13</th>\n",
       "      <td>51.216750</td>\n",
       "      <td>10.192035</td>\n",
       "      <td>-4.476596</td>\n",
       "      <td>-20.365468</td>\n",
       "    </tr>\n",
       "    <tr>\n",
       "      <th>14</th>\n",
       "      <td>54.438632</td>\n",
       "      <td>26.520879</td>\n",
       "      <td>-1.254714</td>\n",
       "      <td>-4.036625</td>\n",
       "    </tr>\n",
       "    <tr>\n",
       "      <th>15</th>\n",
       "      <td>53.336743</td>\n",
       "      <td>31.563490</td>\n",
       "      <td>-2.356603</td>\n",
       "      <td>1.005986</td>\n",
       "    </tr>\n",
       "    <tr>\n",
       "      <th>16</th>\n",
       "      <td>64.940791</td>\n",
       "      <td>42.302907</td>\n",
       "      <td>9.247445</td>\n",
       "      <td>11.745403</td>\n",
       "    </tr>\n",
       "    <tr>\n",
       "      <th>17</th>\n",
       "      <td>47.948417</td>\n",
       "      <td>42.023798</td>\n",
       "      <td>-7.744929</td>\n",
       "      <td>11.466295</td>\n",
       "    </tr>\n",
       "    <tr>\n",
       "      <th>18</th>\n",
       "      <td>53.130677</td>\n",
       "      <td>26.126732</td>\n",
       "      <td>-2.562669</td>\n",
       "      <td>-4.430772</td>\n",
       "    </tr>\n",
       "    <tr>\n",
       "      <th>19</th>\n",
       "      <td>41.459043</td>\n",
       "      <td>26.976972</td>\n",
       "      <td>-14.234303</td>\n",
       "      <td>-3.580531</td>\n",
       "    </tr>\n",
       "    <tr>\n",
       "      <th>0</th>\n",
       "      <td>55.693346</td>\n",
       "      <td>30.557504</td>\n",
       "      <td>8.722691</td>\n",
       "      <td>12.186783</td>\n",
       "    </tr>\n",
       "    <tr>\n",
       "      <th>0</th>\n",
       "      <td>55.693346</td>\n",
       "      <td>30.557504</td>\n",
       "      <td>8.722691</td>\n",
       "      <td>12.186783</td>\n",
       "    </tr>\n",
       "  </tbody>\n",
       "</table>\n",
       "</div>"
      ],
      "text/plain": [
       "           x1         x2      x1Res      x2Res\n",
       "0   67.640523   4.470102  11.947178 -26.087402\n",
       "1   54.001572  36.536186  -1.691774   5.978682\n",
       "2   59.787380  38.644362   4.094034   8.086858\n",
       "3   72.408932  22.578350  16.715586  -7.979154\n",
       "4   68.675580  52.697546  12.982234  22.140043\n",
       "5   40.227221  15.456343 -15.466125 -15.101160\n",
       "6   59.500884  30.457585   3.807538  -0.099918\n",
       "7   48.486428  28.128161  -7.206918  -2.429342\n",
       "8   48.967811  45.327792  -6.725534  14.770289\n",
       "9   54.105985  44.693588  -1.587361  14.136084\n",
       "10  51.440436  31.549474  -4.252910   0.991971\n",
       "11  64.542735  33.781625   8.849389   3.224122\n",
       "12  57.610377  21.122143   1.917031  -9.435361\n",
       "13  51.216750  10.192035  -4.476596 -20.365468\n",
       "14  54.438632  26.520879  -1.254714  -4.036625\n",
       "15  53.336743  31.563490  -2.356603   1.005986\n",
       "16  64.940791  42.302907   9.247445  11.745403\n",
       "17  47.948417  42.023798  -7.744929  11.466295\n",
       "18  53.130677  26.126732  -2.562669  -4.430772\n",
       "19  41.459043  26.976972 -14.234303  -3.580531\n",
       "0   55.693346  30.557504   8.722691  12.186783\n",
       "0   55.693346  30.557504   8.722691  12.186783"
      ]
     },
     "execution_count": 66,
     "metadata": {},
     "output_type": "execute_result"
    }
   ],
   "source": [
    "x1Res=x1-X1mean\n",
    "x2Res=x2-X2mean\n",
    "x1STD=np.sqrt(np.sum(x1Res**2)/19)\n",
    "x2STD=np.sqrt(np.sum(x2Res**2)/19)\n",
    "\n",
    "\n",
    "# add the residuals to the dataframe\n",
    "df['x1Res'] = pd.DataFrame(x1Res)\n",
    "df['x2Res'] = pd.DataFrame(x2Res)\n",
    "# add Means and std's in the last line of the DataFrame\n",
    "df=pd.concat([df,pd.DataFrame([[X1mean,X2mean,x1STD,x2STD]],columns=['x1','x2','x1Res','x2Res' ])])\n",
    "df=pd.concat([df,pd.DataFrame([[X1mean,X2mean,np.std(x1,ddof=1),np.std(x2,ddof=1)]],columns=['x1','x2','x1Res','x2Res' ])])\n",
    "df"
   ]
  },
  {
   "cell_type": "markdown",
   "metadata": {},
   "source": [
    "In the last two rows the mean-values of x1 and x2 as well as their std-dev are shown once calculated by hand and once by the numpy function. As we can see the results are equal.\n",
    "\n",
    "If we calculate the **elementwise product** of column **x1Res** and column **x2Res** from the first **row to 19** and **sum the products up** we have a connection value of the two dataseries.\n",
    "\n",
    "When this sum is divided by (n-1)=(20-1)=**19** (remember we have 20 meassurements) just like in the formula of the standard deviation the result is called the **Covariance** of the two dataseries. It describes their linear dependency."
   ]
  },
  {
   "cell_type": "code",
   "execution_count": 67,
   "metadata": {},
   "outputs": [
    {
     "name": "stdout",
     "output_type": "stream",
     "text": [
      "[[-311.67081933]\n",
      " [ -10.11457855]\n",
      " [  33.10787275]\n",
      " [-133.37623103]\n",
      " [ 287.42721455]\n",
      " [ 233.55642844]\n",
      " [  -0.38044298]\n",
      " [  17.50806887]\n",
      " [ -99.33808484]\n",
      " [ -22.43906742]\n",
      " [  -4.21876242]\n",
      " [  28.53150721]\n",
      " [ -18.08788259]\n",
      " [  91.16796876]\n",
      " [   5.06480833]\n",
      " [  -2.37070965]\n",
      " [ 108.61496844]\n",
      " [ -88.80563534]\n",
      " [  11.35460092]\n",
      " [  50.96636489]]\n",
      "--------------------\n",
      "Sum: 176.4975890111599\n",
      "Cov: 9.289346790061048\n",
      "std(x1)=8.722691485249856| std(x2)=12.186782902269126 \n",
      "var(x1)=76.08534674685032| var(x2)=148.5176775070391 \n"
     ]
    }
   ],
   "source": [
    "print(x1Res*x2Res)\n",
    "print(20*'-') \n",
    "print('Sum: {}'.format(np.sum(x1Res*x2Res)))\n",
    "print('Cov: {}'.format(np.sum(x1Res*x2Res)/19))\n",
    "print('std(x1)={}| std(x2)={} '.format(np.std(x1,ddof=1),np.std(x2,ddof=1)))\n",
    "print('var(x1)={}| var(x2)={} '.format(np.var(x1,ddof=1),np.var(x2,ddof=1)))"
   ]
  },
  {
   "cell_type": "markdown",
   "metadata": {},
   "source": [
    "Compare the Value of the calculated Covariance with the output of the build-in numpy fuction **np.cov()**"
   ]
  },
  {
   "cell_type": "markdown",
   "metadata": {},
   "source": [
    "keep in mind that the numpy arrays x1 and x2 must be transposed to calculate the inner-Matrixproduct, for details see the documentation of numpy.cov(): https://numpy.cov"
   ]
  },
  {
   "cell_type": "code",
   "execution_count": 68,
   "metadata": {},
   "outputs": [
    {
     "data": {
      "text/plain": [
       "array([[  76.08534675,    9.28934679],\n",
       "       [   9.28934679,  148.51767751]])"
      ]
     },
     "execution_count": 68,
     "metadata": {},
     "output_type": "execute_result"
    }
   ],
   "source": [
    "np.cov(x1.T,x2.T)"
   ]
  },
  {
   "cell_type": "markdown",
   "metadata": {},
   "source": [
    "**numpy.cov()** calcultes the so called Covariance matrix which displays the **Variances on the main diagonal** and the **Covariance on the second diagonal**"
   ]
  },
  {
   "cell_type": "markdown",
   "metadata": {},
   "source": [
    "**Analysis of Correlations**\n",
    "---"
   ]
  },
  {
   "cell_type": "markdown",
   "metadata": {},
   "source": [
    "The next step after you understood the relation between Variance and Covariance is the Correlation.\n",
    "\n",
    "Correlation is widely used in statistics to assess the **dependencies of dataseries**. In the following examples three different coefficients are show and compared to display the ...\n",
    "\n",
    "The basisc assumption is here that only **linear dependencies** are in the data."
   ]
  },
  {
   "cell_type": "markdown",
   "metadata": {},
   "source": [
    "Pearson: https://en.wikipedia.org/wiki/Pearson_correlation_coefficient\n",
    "\n",
    "Spearman or Kendall: https://de.wikipedia.org/wiki/Rangkorrelationskoeffizient  "
   ]
  },
  {
   "cell_type": "markdown",
   "metadata": {},
   "source": [
    "**Pearson's Correlation**\n"
   ]
  },
  {
   "cell_type": "markdown",
   "metadata": {},
   "source": [
    "The idea of the correlation coefficient $\\rho(x_1,x_2) = \\frac{\\text{cov}(x_1,x_2)}{\\sigma_{x1} \\sigma_{x2}}$ was introduced by Auguste Bravis 1880 and later on in 1895 by **Karl Pearson**. Today it's widely known as **Pearsons Correlation**. \n",
    "\n",
    "It is closely related to the calculation of the variance and the covariance as shown above, compare the given formulas and try the source code below yourself:\n",
    "\n",
    "generate different random numbers by activating the commented lines\n",
    "**np.random.seed(0)** must stay in comment because this line is making the seed for the random process permanent"
   ]
  },
  {
   "cell_type": "code",
   "execution_count": 69,
   "metadata": {
    "collapsed": false
   },
   "outputs": [
    {
     "name": "stdout",
     "output_type": "stream",
     "text": [
      "                \n",
      "Create normal distributed data : \n",
      "x1: [ 67.64052346  54.00157208  59.78737984  72.40893199  68.6755799\n",
      "  40.2272212   59.50088418  48.48642792  48.96781148  54.10598502\n",
      "  51.44043571  64.54273507  57.61037725  51.21675016  54.43863233\n",
      "  53.33674327  64.94079073  47.94841736  53.13067702  41.45904261]\n",
      "-----------------\n",
      "x2: [  4.47010184  36.53618595  38.64436199  22.5783498   52.69754624\n",
      "  15.45634325  30.45758517  28.1281615   45.32779214  44.6935877\n",
      "  31.54947426  33.7816252   21.12214252  10.19203532  26.52087851\n",
      "  31.56348969  42.30290681  42.02379849  26.12673183  26.97697249]\n"
     ]
    },
    {
     "data": {
      "image/png": "[encoded data removed]",
      "text/plain": [
       "<matplotlib.figure.Figure at 0x11211f278>"
      ]
     },
     "metadata": {},
     "output_type": "display_data"
    },
    {
     "name": "stdout",
     "output_type": "stream",
     "text": [
      "Correlationsmatrix (Pearson): \n",
      "                \n",
      "[[ 1.          0.08738675]\n",
      " [ 0.08738675  1.        ]]\n",
      "___________________________________\n",
      "                \n",
      " Pearsons Correlation Coefficient: 0.08738675035810144\n"
     ]
    }
   ],
   "source": [
    "# Pearson Correlation Coef\n",
    "# scipy.stats.spearmanr()    # Spearman Correlation Coef\n",
    "print('                ')\n",
    "print('Create normal distributed data : ')\n",
    "#np.random.seed(0)\n",
    "#x1=np.random.randn(20,1)      # generate 20 random numbers for x1 and x2\n",
    "#x2=np.random.randn(20,1)\n",
    "\n",
    "print('x1:', np.ravel(x1) )    # np.ravel() macht z.B. aus einem 2x2 array eine 1x4 Liste...\n",
    "print( '-----------------')\n",
    "print('x2:', np.ravel(x2))\n",
    "\n",
    "plt.plot(x1,x2,'bo')         # plotten b=blau   o=großer ausgefüllter Punkt   .= kleiner ausgefüllter Punkt\n",
    "#plt.xlim(-3,25)          #Anzeigebereich festlegen\n",
    "#plt.ylim(-3,25)\n",
    "plt.show()\n",
    "\n",
    "print( 'Correlationsmatrix (Pearson): ')\n",
    "print('                ')\n",
    "print( np.corrcoef(np.ravel(x1),np.ravel(x2) ) )  # np.corrcoef() erzeugt eine 2x2 Korrelationsmatrix Element 1,2 ist der gewünschte Korrelationskoeffizient \n",
    "print( '___________________________________')\n",
    "print( '                ')\n",
    "pr =np.corrcoef(np.ravel(x1),np.ravel(x2) )[0,1]   # Python fängt bei 0 an zu zählen \n",
    "print(' Pearsons Correlation Coefficient: {}'.format(pr))\n"
   ]
  },
  {
   "cell_type": "markdown",
   "metadata": {},
   "source": [
    "The correlation matrix shown above has the same structure as the covariance matrix used before. \n",
    "The only difference is that main diagonal is **\"besetzt\"** with **'1'** and on the **nebendiagonale** you can find the pearson correlation coefficient."
   ]
  },
  {
   "cell_type": "markdown",
   "metadata": {},
   "source": [
    "Compare the Correlations of Pearson, Spearman and Kendall in one example\n",
    "---"
   ]
  },
  {
   "cell_type": "code",
   "execution_count": 70,
   "metadata": {
    "collapsed": false
   },
   "outputs": [
    {
     "name": "stdout",
     "output_type": "stream",
     "text": [
      "                \n",
      "generate Normalverteilte Data: \n",
      "x1: [ 67.64052346  54.00157208  59.78737984  72.40893199  68.6755799\n",
      "  40.2272212   59.50088418  48.48642792  48.96781148  54.10598502\n",
      "  51.44043571  64.54273507  57.61037725  51.21675016  54.43863233\n",
      "  53.33674327  64.94079073  47.94841736  53.13067702  41.45904261]\n",
      "-----------------\n",
      "x2: [  4.47010184  36.53618595  38.64436199  22.5783498   52.69754624\n",
      "  15.45634325  30.45758517  28.1281615   45.32779214  44.6935877\n",
      "  31.54947426  33.7816252   21.12214252  10.19203532  26.52087851\n",
      "  31.56348969  42.30290681  42.02379849  26.12673183  26.97697249]\n"
     ]
    },
    {
     "data": {
      "image/png": "[encoded data removed]",
      "text/plain": [
       "<matplotlib.figure.Figure at 0x1119fcac8>"
      ]
     },
     "metadata": {},
     "output_type": "display_data"
    },
    {
     "name": "stdout",
     "output_type": "stream",
     "text": [
      "Correlationsmatrix (Pearson): \n",
      "                \n",
      "[[ 1.          0.08738675]\n",
      " [ 0.08738675  1.        ]]\n",
      "___________________________________\n",
      "                \n",
      " Pearsons Correlation: 0.08738675035810144\n",
      "Spearmans Correlation: 0.10827067669172932\n",
      "  Kendall Correlation: 0.11578947368421053\n",
      "_____________________________________\n",
      "                \n"
     ]
    }
   ],
   "source": [
    "print( '                ')\n",
    "print( 'generate Normalverteilte Data: ')\n",
    "#np.random.seed(0)\n",
    "#x1=np.random.randn(20,1)\n",
    "#x2=np.random.randn(20,1)\n",
    "\n",
    "print( 'x1:', np.ravel(x1))\n",
    "print( '-----------------')\n",
    "print( 'x2:', np.ravel(x2))\n",
    "\n",
    "plt.plot(x1,x2,'bo')\n",
    "#plt.xlim(-3,5)\n",
    "#plt.ylim(-3,5)\n",
    "plt.show()\n",
    "print( 'Correlationsmatrix (Pearson): ')\n",
    "print('                ')\n",
    "print( np.corrcoef(np.ravel(x1),np.ravel(x2) ))\n",
    "print( '___________________________________')\n",
    "print( '                ')\n",
    "pr =np.corrcoef(np.ravel(x1),np.ravel(x2) )[0,1]\n",
    "print( ' Pearsons Correlation: {}'.format(pr))\n",
    "\n",
    "sr,sp = stats.spearmanr(x1,x2)\n",
    "\n",
    "print( 'Spearmans Correlation: {}'.format(sr))\n",
    "\n",
    "kr,kp = stats.kendalltau(x1,x2)\n",
    "\n",
    "print( '  Kendall Correlation: {}'.format(kr))\n",
    "print( '_____________________________________')\n",
    "print( '                ')"
   ]
  },
  {
   "cell_type": "markdown",
   "metadata": {},
   "source": [
    "Adding a Datapoint (Outliner/Blunder/gross error) to the data series"
   ]
  },
  {
   "cell_type": "code",
   "execution_count": 71,
   "metadata": {
    "collapsed": false
   },
   "outputs": [
    {
     "name": "stdout",
     "output_type": "stream",
     "text": [
      "                \n",
      "                \n",
      "_____________________________________\n",
      "                \n",
      "insert false datapoint (Outliner) at position 10 in the set:\n",
      "x1[10] = -150\n",
      "x2[10] = -150 \n",
      "calculate Correlationmatrix (Pearson) again: \n",
      "                \n",
      "[[ 1.          0.94563584]\n",
      " [ 0.94563584  1.        ]]\n",
      "                \n",
      " Pearson's Correlation: 0.9456358372825819 !!!! 1 wrong Point, totally different result than before!\n",
      "_____________________________________\n"
     ]
    },
    {
     "data": {
      "image/png": "[encoded data removed]",
      "text/plain": [
       "<matplotlib.figure.Figure at 0x112325278>"
      ]
     },
     "metadata": {},
     "output_type": "display_data"
    },
    {
     "name": "stdout",
     "output_type": "stream",
     "text": [
      "!!!But:                \n",
      "_____________________________________\n",
      "                \n",
      "  Spearman's Correlation: 0.23308270676691725\n",
      "  Kendall's Correlation: 0.19999999999999998\n"
     ]
    }
   ],
   "source": [
    "print( '                ')\n",
    "print( '                ')\n",
    "print( '_____________________________________')\n",
    "print( '                ')\n",
    "print( 'insert false datapoint (Outliner) at position 10 in the set:')\n",
    "      \n",
    "print( 'x1[10] = -150')\n",
    "print( 'x2[10] = -150 ')\n",
    "x1[10]=-150\n",
    "x2[10]=-150\n",
    "\n",
    "print( 'calculate Correlationmatrix (Pearson) again: ')\n",
    "print( '                ')\n",
    "print(np.corrcoef(np.ravel(x1),np.ravel(x2) ))\n",
    "pr =np.corrcoef(np.ravel(x1),np.ravel(x2) )[0,1]\n",
    "print( '                ')\n",
    "print( \" Pearson's Correlation: {}\".format(pr), '!!!! 1 wrong Point, totally different result than before!')\n",
    "print( '_____________________________________')\n",
    "\n",
    "plt.plot(x1,x2,'bo')\n",
    "#plt.xlim(-3,20)\n",
    "#plt.ylim(-3,20)\n",
    "plt.show()\n",
    "print( '!!!But:                ')\n",
    "print( '_____________________________________')\n",
    "print ('                ')\n",
    "sr,sp= stats.spearmanr(x1,x2)\n",
    "print (\"  Spearman's Correlation: {}\".format(sr))\n",
    "kr,kp = stats.kendalltau(x1,x2)\n",
    "print( \"  Kendall's Correlation: {}\".format(kr))"
   ]
  },
  {
   "cell_type": "markdown",
   "metadata": {},
   "source": [
    "The Correlation calculated by the Pearson coefficient is missleading and showing a high linear \n",
    "dependency of the data, just because there is one false datapoint in the set.\n",
    "\n",
    "Spearman's and Kendall's coefficients are more robuts against gross errors.\n",
    "\n",
    "\n",
    "**Therefor keep in mind never to rely on only one of the coefficents...**\n",
    "\n",
    "**Check the dataseries for consistency and eleminate gross errors.**\n",
    "\n",
    "**Take care of the measuring system to find systematic errors.**"
   ]
  },
  {
   "cell_type": "markdown",
   "metadata": {},
   "source": []
  },
  {
   "cell_type": "markdown",
   "metadata": {},
   "source": []
  },
  {
   "cell_type": "markdown",
   "metadata": {},
   "source": [
    "The following very simple techniques allow to find gross errors in a dataset. Try to apply these test always before you work with a dataset..."
   ]
  },
  {
   "cell_type": "markdown",
   "metadata": {},
   "source": [
    "**Jack-Knife Techniques**\n",
    "---"
   ]
  },
  {
   "cell_type": "markdown",
   "metadata": {},
   "source": [
    "https://de.wikipedia.org/wiki/Jackknife_%28Statistik%29"
   ]
  },
  {
   "cell_type": "markdown",
   "metadata": {},
   "source": [
    "of a Correlations coefficient and display of the histogram"
   ]
  },
  {
   "cell_type": "markdown",
   "metadata": {},
   "source": [
    "Imagine you have a simple set of data and one gross error in it..."
   ]
  },
  {
   "cell_type": "code",
   "execution_count": 72,
   "metadata": {},
   "outputs": [
    {
     "name": "stdout",
     "output_type": "stream",
     "text": [
      "3.12\n",
      "0.0\n",
      "1.57\n",
      "19.67\n",
      "0.22\n",
      "2.2\n"
     ]
    }
   ],
   "source": [
    "import numpy as np\n",
    "x=np.array([3.12,0,1.57,19.67,0.22,2.20])\n",
    "for i in x: print(i)"
   ]
  },
  {
   "cell_type": "markdown",
   "metadata": {},
   "source": [
    "Obviously the **gross error is 19.67** as it does not fit in the set. With a small dataset like this the error can be easily found but in a large one you need an automatic technique to find it."
   ]
  },
  {
   "cell_type": "markdown",
   "metadata": {},
   "source": [
    "The consequenses of the error in the set can be reviewd by calculating the mean.  "
   ]
  },
  {
   "cell_type": "code",
   "execution_count": 73,
   "metadata": {},
   "outputs": [
    {
     "name": "stdout",
     "output_type": "stream",
     "text": [
      "Mean(x |with error):     4.463333333333334\n",
      "Mean(x |without error ): 1.4220000000000002\n"
     ]
    }
   ],
   "source": [
    "print('Mean(x |with error):     {}'.format(np.mean(x)))\n",
    "print('Mean(x |without error ): {}'.format(np.mean(np.delete(x,3))))"
   ]
  },
  {
   "cell_type": "markdown",
   "metadata": {},
   "source": [
    "you can see the Mean value is directly affected by a gross error. **np.delete()** is used here to delete the 3rd point from the array"
   ]
  },
  {
   "cell_type": "markdown",
   "metadata": {},
   "source": [
    "How can such an error be found automaticly??"
   ]
  },
  {
   "cell_type": "markdown",
   "metadata": {},
   "source": [
    "**Think about the following idea:** "
   ]
  },
  {
   "cell_type": "markdown",
   "metadata": {},
   "source": [
    "Just delete the first data point in the list and calculate the mean value again with (n-1) datapoints.\n",
    "\n",
    "Than put the first datapoint back to the list and now delete the second datapoint and calculate \n",
    "the mean again. Continue this procedure until all datapoints were ones deleted from the set and \n",
    "observe if the Mean value changes.\n"
   ]
  },
  {
   "cell_type": "markdown",
   "metadata": {},
   "source": [
    "we can do this with a loop in a single line: "
   ]
  },
  {
   "cell_type": "code",
   "execution_count": 74,
   "metadata": {},
   "outputs": [
    {
     "name": "stdout",
     "output_type": "stream",
     "text": [
      "Mean(x without point 0): 4.732\n",
      "Mean(x without point 1): 5.356\n",
      "Mean(x without point 2): 5.042\n",
      "Mean(x without point 3): 1.4220000000000002\n",
      "Mean(x without point 4): 5.312\n",
      "Mean(x without point 5): 4.916\n"
     ]
    }
   ],
   "source": [
    "for i in range(x.shape[0]) : print('Mean(x without point {}): {}'.format(i,np.mean(np.delete(x,i))))"
   ]
  },
  {
   "cell_type": "markdown",
   "metadata": {},
   "source": [
    "you can obseve a **change in the mean Value** when the **blunder was deleted** from the list,  "
   ]
  },
  {
   "cell_type": "markdown",
   "metadata": {},
   "source": [
    "**Now apply Jack Knife to the correlation from above**"
   ]
  },
  {
   "cell_type": "markdown",
   "metadata": {},
   "source": [
    "You can use the Jack-Knife technique in the same way to check a bunch of **n** measurements with the pearson correlation (compare above) and you don't know if there is a blunder in the data...\n",
    "\n",
    "Just delete the first data point in the list and calculate the pearson correlation again with (n-1) datapoints.\n",
    "\n",
    "Than put the first datapoint back to the list and now delete the second datapoint and calculate the pearson correlation. Continue this procedure until all datapoints were ones deleted from the set and observe if the pearson correlation changes.\n",
    "\n",
    "Assuming that there is just one false point in the data, you will definitly find the gross error.\n",
    "\n",
    "Try it yourself below:\n"
   ]
  },
  {
   "cell_type": "code",
   "execution_count": 75,
   "metadata": {
    "collapsed": false
   },
   "outputs": [
    {
     "name": "stdout",
     "output_type": "stream",
     "text": [
      "...löschen von Punkt 0 --> r =   0.96641186748\n",
      "...löschen von Punkt 1 --> r =   0.946281888588\n",
      "...löschen von Punkt 2 --> r =   0.945554010823\n",
      "...löschen von Punkt 3 --> r =   0.953501899572\n",
      "...löschen von Punkt 4 --> r =   0.946201623482\n",
      "...löschen von Punkt 5 --> r =   0.945606449518\n",
      "...löschen von Punkt 6 --> r =   0.945628260979\n",
      "...löschen von Punkt 7 --> r =   0.945851224087\n",
      "...löschen von Punkt 8 --> r =   0.952005890629\n",
      "...löschen von Punkt 9 --> r =   0.948969770609\n",
      "...löschen von Punkt 10 --> r =   0.0901978413034\n",
      "...löschen von Punkt 11 --> r =   0.94561201899\n",
      "...löschen von Punkt 12 --> r =   0.947478174978\n",
      "...löschen von Punkt 13 --> r =   0.949669368754\n",
      "...löschen von Punkt 14 --> r =   0.945691690964\n",
      "...löschen von Punkt 15 --> r =   0.945662960455\n",
      "...löschen von Punkt 16 --> r =   0.945193570817\n",
      "...löschen von Punkt 17 --> r =   0.950632540834\n",
      "...löschen von Punkt 18 --> r =   0.945648366808\n",
      "...löschen von Punkt 19 --> r =   0.94693046478\n",
      "___________________________\n",
      "   \n",
      "Index of Outliner: [10]\n",
      "Correlation without Outliner: 0.09019784130341503\n",
      "  \n",
      "  \n",
      "Histogram of Jack-Knife Coorelation Coefficients\n"
     ]
    },
    {
     "data": {
      "image/png": "[encoded data removed]",
      "text/plain": [
       "<matplotlib.figure.Figure at 0x11299eeb8>"
      ]
     },
     "metadata": {},
     "output_type": "display_data"
    }
   ],
   "source": [
    "CorrArr=[]\n",
    "for i in range(0,len(x1)):\n",
    "    xjk=[]\n",
    "    yjk=[]\n",
    "    xjk=np.delete(x1,i)                  # i-ten Punkt löschen und mit dem Rest die Korrelation berechnen\n",
    "    yjk=np.delete(x2,i)\n",
    "    CorrArr.append(np.corrcoef(xjk,yjk)[0,1])\n",
    "    print( '...löschen von Punkt', i , '--> r =  ' ,np.corrcoef(xjk,yjk)[0,1])\n",
    "\n",
    "#http://docs.scipy.org/doc/numpy-1.10.1/reference/generated/numpy.where.html\n",
    "\n",
    "print('___________________________')\n",
    "print('   ')\n",
    "print( 'Index of Outliner: {}'.format(np.where(CorrArr==np.min(CorrArr))[0] ))\n",
    "print( 'Correlation without Outliner: {}'.format(np.min(CorrArr)))\n",
    "print( '  ')\n",
    "print( '  ')\n",
    "print( 'Histogram of Jack-Knife Coorelation Coefficients')\n",
    "hist, bins = np.histogram(CorrArr, bins=5)\n",
    "width = 0.7 * (bins[1] - bins[0])\n",
    "center = (bins[:-1] + bins[1:]) / 2\n",
    "plt.bar(center, hist, align='center', width=width)\n",
    "plt.show()"
   ]
  },
  {
   "cell_type": "markdown",
   "metadata": {},
   "source": [
    "Bootstrapping techniques\n",
    "-------"
   ]
  },
  {
   "cell_type": "markdown",
   "metadata": {},
   "source": [
    "beside the Jack-Knife method there are several other that can be used in the same way...\n",
    "\n",
    "**Bootstrapping** is one of them."
   ]
  },
  {
   "cell_type": "markdown",
   "metadata": {},
   "source": [
    "Bootstrapping is based on the idea of choosing datapoints randomly from the set.\n",
    "\n",
    "e.g. we have the same set x as before with the known blunder at index 3\n"
   ]
  },
  {
   "cell_type": "code",
   "execution_count": 76,
   "metadata": {},
   "outputs": [
    {
     "name": "stdout",
     "output_type": "stream",
     "text": [
      "3.12\n",
      "0.0\n",
      "1.57\n",
      "19.67\n",
      "0.22\n",
      "2.2\n"
     ]
    }
   ],
   "source": [
    "x=np.array([3.12,0,1.57,19.67,0.22,2.20])\n",
    "for i in x: print(i)"
   ]
  },
  {
   "cell_type": "markdown",
   "metadata": {},
   "source": [
    "you can pik random datapoints from the list with the function **np.random.choice()**"
   ]
  },
  {
   "cell_type": "code",
   "execution_count": 77,
   "metadata": {},
   "outputs": [
    {
     "data": {
      "text/plain": [
       "array([ 19.67,   2.2 ,   0.22,   0.  ,   1.57,   0.22])"
      ]
     },
     "execution_count": 77,
     "metadata": {},
     "output_type": "execute_result"
    }
   ],
   "source": [
    "np.random.choice(x, 6)"
   ]
  },
  {
   "cell_type": "markdown",
   "metadata": {},
   "source": [
    "everytime you apply the function the specified number of samples is drawn from the dataset. Some points are piked double which is allowed and wanted.\n",
    "\n",
    "The idea is now to apply this random choice several times (e.g. 1000x) and to calculate the mean value with the drawn points. Then we obseve the histogram of the calculated Mean. \n",
    "\n",
    "Every time the blunder is drawn the calculated Mean value is affected, but everytime the set is free of the blunder the mean value will be lower. This is what we can observe in the histogram..."
   ]
  },
  {
   "cell_type": "markdown",
   "metadata": {},
   "source": [
    "https://de.wikipedia.org/wiki/Bootstrapping_%28Statistik%29"
   ]
  },
  {
   "cell_type": "markdown",
   "metadata": {},
   "source": [
    "<img src='figures/Bootstrapp_Example2.png'>"
   ]
  },
  {
   "cell_type": "code",
   "execution_count": 78,
   "metadata": {},
   "outputs": [],
   "source": [
    "MeanOfX=np.zeros(1000)\n",
    "for i in range(0,1000) : MeanOfX[i]=np.mean(np.random.choice(x, 6)) "
   ]
  },
  {
   "cell_type": "code",
   "execution_count": 79,
   "metadata": {},
   "outputs": [
    {
     "name": "stdout",
     "output_type": "stream",
     "text": [
      "[  6.70333333   4.17         1.98666667   4.685        4.725        1.77666667\n",
      "   7.86166667  10.35833333   7.11666667   3.83833333]\n"
     ]
    }
   ],
   "source": [
    "print(MeanOfX[0:10])"
   ]
  },
  {
   "cell_type": "code",
   "execution_count": 80,
   "metadata": {},
   "outputs": [
    {
     "data": {
      "image/png": "[encoded data removed]",
      "text/plain": [
       "<matplotlib.figure.Figure at 0x111d734a8>"
      ]
     },
     "metadata": {},
     "output_type": "display_data"
    }
   ],
   "source": [
    "hist, bins = np.histogram(MeanOfX, bins=50)\n",
    "width = 0.7 * (bins[1] - bins[0])\n",
    "center = (bins[:-1] + bins[1:]) / 2\n",
    "plt.bar(center, hist, align='center', width=width)\n",
    "plt.show()"
   ]
  },
  {
   "cell_type": "code",
   "execution_count": null,
   "metadata": {},
   "outputs": [],
   "source": []
  },
  {
   "cell_type": "markdown",
   "metadata": {},
   "source": [
    "**Bootstrapping Estimation of a  Correlations coefficient and display in a histogram**"
   ]
  },
  {
   "cell_type": "code",
   "execution_count": 81,
   "metadata": {
    "collapsed": false
   },
   "outputs": [
    {
     "name": "stdout",
     "output_type": "stream",
     "text": [
      "Mean: 0.002363991314234709\n",
      "std: 0.22825737841248153\n",
      "Histogram of Bootstrap Estimation of Correlation\n"
     ]
    },
    {
     "data": {
      "image/png": "[encoded data removed]",
      "text/plain": [
       "<matplotlib.figure.Figure at 0x111868128>"
      ]
     },
     "metadata": {},
     "output_type": "display_data"
    }
   ],
   "source": [
    "CorrArr2=[]\n",
    "for i in range(0,10000):           # range(0,100)  range(0,1000)   range(0,10000)\n",
    "    \n",
    "    x1bs=[]\n",
    "    x2bs=[]\n",
    "    x1bs =  np.random.choice(np.ravel(x1),20, replace=True)\n",
    "    x2bs =  np.random.choice(np.ravel(x2),20, replace=True)\n",
    "    \n",
    "    CorrArr2.append(np.corrcoef(x1bs,x2bs)[0,1])\n",
    "\n",
    "#print len(CorrArr2) \n",
    "print( 'Mean: {}'.format(np.mean(CorrArr2)))\n",
    "print( 'std: {}'.format(np.std(CorrArr2)))\n",
    "\n",
    "print('Histogram of Bootstrap Estimation of Correlation')\n",
    "hist, bins = np.histogram(CorrArr2, bins=50)\n",
    "width = 0.7 * (bins[1] - bins[0])\n",
    "center = (bins[:-1] + bins[1:]) / 2\n",
    "plt.bar(center, hist, align='center', width=width)\n",
    "plt.show()"
   ]
  },
  {
   "cell_type": "markdown",
   "metadata": {},
   "source": [
    "Bootstrapping - Schätzung für Regressionsanalyses\n",
    "----"
   ]
  },
  {
   "cell_type": "markdown",
   "metadata": {},
   "source": [
    "http://nbviewer.jupyter.org/gist/aflaxman/6871948  | http://people.duke.edu/~ccc14/pcfb/analysis.html"
   ]
  },
  {
   "cell_type": "markdown",
   "metadata": {},
   "source": [
    "Untersuchung der linearen Funktion: $ y=6.3 \\cdot x + 15            $"
   ]
  },
  {
   "cell_type": "markdown",
   "metadata": {},
   "source": [
    "Untersuchung der quadratischen Funktion: $yq=3 \\cdot x^2 + 4 \\cdot x + 7$"
   ]
  },
  {
   "cell_type": "code",
   "execution_count": 82,
   "metadata": {},
   "outputs": [],
   "source": [
    "import pandas as pd\n",
    "from matplotlib.pyplot import *\n",
    "np.random.seed(0)\n",
    "x=10*np.random.rand(20,1)   # uniform distributed samples zwischen [0,10]\n",
    "\n",
    "y=6.3*x+15\n",
    "\n",
    "yq = 3*x*x + 4*x + 7\n",
    "\n",
    "y=y+5*np.random.randn(20,1)\n",
    "\n",
    "yq=yq+5*np.random.randn(20,1)\n",
    "#print x,y\n",
    "\n",
    "xyData3 = pd.DataFrame(x)                    # PANDAS Dataframe Spalten mit den zufälligen Werten x,y belegen\n",
    "xyData3['1'] = pd.DataFrame(y)\n",
    "#print xyData3\n",
    "x=np.ravel(x)\n",
    "y=np.ravel(y)"
   ]
  },
  {
   "cell_type": "markdown",
   "metadata": {},
   "source": [
    "Schätzung der Funktion durch eine Regressionsanalyse (Polynomial-Fit)\n",
    "---"
   ]
  },
  {
   "cell_type": "code",
   "execution_count": 83,
   "metadata": {
    "collapsed": false
   },
   "outputs": [
    {
     "data": {
      "image/png": "[encoded data removed]",
      "text/plain": [
       "<matplotlib.figure.Figure at 0x111dbeac8>"
      ]
     },
     "metadata": {},
     "output_type": "display_data"
    }
   ],
   "source": [
    "#http://docs.scipy.org/doc/numpy-1.10.0/reference/generated/numpy.polyfit.html\n",
    "m,b=np.polyfit(x,y,1)\n",
    "\n",
    "coefficients=np.polyfit(x,yq,2)   \n",
    "#print coefficients\n",
    "polynomial = np.poly1d(np.ravel(coefficients))\n",
    "xs = np.arange(0, 10, 0.1)\n",
    "ys = polynomial(xs)\n",
    "\n",
    "#print ' Steigung: {} / y-Schnittpunkt  {}'.format(m,b)\n",
    "#print b0,b1,b2\n",
    "#plotten der verteilungen\n",
    "plt.figure(figsize=(20,10))\n",
    "plt.plot(x,y,'ro', label='Lineare Funktion, geschaetzte Steigung: {} / y-Schnittpunkt  {}'.format(m,b))\n",
    "plt.plot(x,yq,'b.',label='quadratische Funktion, geschaetzte Koeffizienten b2,b1,b0={} '.format(np.ravel(coefficients)))\n",
    "# plotten der Regressionsgeraden darüber\n",
    "plt.plot(x,m*x+b,'b')\n",
    "\n",
    "plt.legend()\n",
    "plt.plot(xs,ys,'g')\n",
    "plt.show()\n"
   ]
  },
  {
   "cell_type": "markdown",
   "metadata": {},
   "source": [
    "Bootstrapping\n",
    "---"
   ]
  },
  {
   "cell_type": "code",
   "execution_count": 84,
   "metadata": {
    "collapsed": false
   },
   "outputs": [
    {
     "ename": "SyntaxError",
     "evalue": "invalid syntax (<ipython-input-84-ed15ca8c2ddd>, line 24)",
     "output_type": "error",
     "traceback": [
      "\u001b[0;36m  File \u001b[0;32m\"<ipython-input-84-ed15ca8c2ddd>\"\u001b[0;36m, line \u001b[0;32m24\u001b[0m\n\u001b[0;31m    print ' Mean: Steigung: {} /Mean: y-Schnittpunkt  {}'.format(np.mean(marr),np.mean(barr))\u001b[0m\n\u001b[0m                                                        ^\u001b[0m\n\u001b[0;31mSyntaxError\u001b[0m\u001b[0;31m:\u001b[0m invalid syntax\n"
     ]
    }
   ],
   "source": [
    "\n",
    "marr=[]\n",
    "barr=[]\n",
    "\n",
    "#zufällige Ziehung von Daten kann unterschiedlich erreicht werden... am besten mal ausprobieren\n",
    "# xbs=np.random.choice(np.ravel(x),20, replace=True)\n",
    "# ybs=np.random.choice(np.ravel(y),20, replace=True)      # Über np.random()\n",
    "\n",
    "# data1 = xyData3.sample(20,replace=True)                 # Über pd.sample()  PANDAS Dataframe \n",
    "\n",
    "for i in range(0,1000):\n",
    "    data1=[]\n",
    "    xbs=[]\n",
    "    ybs=[]\n",
    "    data1 = xyData3.sample(20,replace=True)    #ziehen von 20 Werte-Paaren aus dem Pandas Datenrahmen \n",
    "    xbs=np.ravel(data1[0])\n",
    "    ybs=np.ravel(data1[1])\n",
    "    mbs=0\n",
    "    bbs=0\n",
    "    #punktpaar müssen zusammen gezogen werden, nicht x,y Zuordnung mixen \n",
    "    mbs,bbs = np.polyfit(xbs,ybs,1)\n",
    "    marr.append(mbs)\n",
    "    barr.append(bbs)\n",
    "print ' Mean: Steigung: {} /Mean: y-Schnittpunkt  {}'.format(np.mean(marr),np.mean(barr))\n",
    "print ' Std: Steigung   {} /Std:  y-Schnittpunkt  {}'.format(np.std(marr),np.std(barr))\n",
    "print '      '\n",
    "print ' Wahre Werte: y=6.3*x+15 (siehe oben)'\n",
    "\n",
    "#schleife über i...1000 durchläufe\n",
    "    # random.choice()  mit zurücklegen über die Daten x,y\n",
    "    # m[i],b[i] = np.polyfit(xbs,ybs,1)\n",
    "    #\n",
    "#mean m,b berechnen \n",
    "#var m,b berechnen\n",
    "#histogramm m\n",
    "#histogramm b\n",
    "\n",
    "plt.plot(x,y,'ro')\n",
    "plt.plot(x,m*x+b,'b')\n",
    "plt.plot(x,np.mean(marr)*x + np.mean(barr),'g')\n",
    "plt.plot(x,np.mean(marr)*x + np.mean(barr)+ 2*np.std(barr),'b--')\n",
    "plt.plot(x,np.mean(marr)*x + np.mean(barr)- 2*np.std(barr),'b--')\n",
    "#plotten der verteilungen\n",
    "\n",
    "# plotten der Regressionsgeraden darüber\n",
    "plt.show()\n"
   ]
  },
  {
   "cell_type": "code",
   "execution_count": null,
   "metadata": {
    "collapsed": false
   },
   "outputs": [],
   "source": [
    "print 'Histogram Bootstrap Steigungs-Paramter'\n",
    "hist, bins = np.histogram(marr, bins=15)\n",
    "width = 0.7 * (bins[1] - bins[0])\n",
    "center = (bins[:-1] + bins[1:]) / 2\n",
    "plt.bar(center, hist, align='center', width=width)\n",
    "plt.show()\n",
    "\n",
    "print ' Mean(Steigung) :  {} '.format(np.mean(marr))\n",
    "print '  Std(Steigung) : ±{} '.format(np.std(marr))\n",
    "print '      '\n",
    "print ' Wahre Werte: m = 6.3'\n"
   ]
  },
  {
   "cell_type": "code",
   "execution_count": null,
   "metadata": {
    "collapsed": false
   },
   "outputs": [],
   "source": [
    "print 'Histogram Bootstrap y-Schnittpunkt'\n",
    "hist, bins = np.histogram(barr, bins=15)\n",
    "width = 0.7 * (bins[1] - bins[0])\n",
    "center = (bins[:-1] + bins[1:]) / 2\n",
    "plt.bar(center, hist, align='center', width=width)\n",
    "plt.show()\n",
    "\n",
    "print ' Mean(y-Schnitt) :  {} '.format(np.mean(barr))\n",
    "print '  Std(y-Schnitt) : ±{} '.format(np.std(barr))\n",
    "print '      '\n",
    "print ' Wahre Werte: n = 15'\n"
   ]
  },
  {
   "cell_type": "markdown",
   "metadata": {},
   "source": [
    "\n",
    "\\usepackage{pgfplots}\n",
    "\\usepackage{amssymb, amsmath}\n",
    "\\usepackage{tikz}\n",
    "\\usepackage{xcolor}\n",
    "\\pgfplotsset{compat=1.7}\n",
    "\\begin{document}\n",
    "\\pgfmathdeclarefunction{gauss}{2}{\\pgfmathparse{1/(#2*sqrt(2*pi))*exp(-((x-#1)^2)/(2*#2^2))}%\n",
    "}\n",
    "\\begin{tikzpicture}\n",
    "\\begin{axis}[no markers, domain=0:10, samples=100,\n",
    "axis lines*=left, xlabel=Standard deviations, ylabel=Frequency,,\n",
    "height=6cm, width=10cm,\n",
    "xtick={-3, -2, -1, 0, 1, 2, 3}, ytick=\\empty,\n",
    "enlargelimits=false, clip=false, axis on top,\n",
    "grid = major]\n",
    "\\addplot [fill=cyan!20, draw=none, domain=-3:3] {gauss(0,1)} \\closedcycle;\n",
    "\\addplot [fill=orange!20, draw=none, domain=-3:-2] {gauss(0,1)} \\closedcycle;\n",
    "\\addplot [fill=orange!20, draw=none, domain=2:3] {gauss(0,1)} \\closedcycle;\n",
    "\\addplot [fill=blue!20, draw=none, domain=-2:-1] {gauss(0,1)} \\closedcycle;\n",
    "\\addplot [fill=blue!20, draw=none, domain=1:2] {gauss(0,1)} \\closedcycle;\n",
    "\\addplot[] coordinates {(-1,0.4) (1,0.4)};\n",
    "\\addplot[] coordinates {(-2,0.3) (2,0.3)};\n",
    "\\addplot[] coordinates {(-3,0.2) (3,0.2)};\n",
    "\\node[coordinate, pin={68.2\\%}] at (axis cs: 0, 0.4){};\n",
    "\\node[coordinate, pin={95\\%}] at (axis cs: 0, 0.3){};\n",
    "\\node[coordinate, pin={99.7\\%}] at (axis cs: 0, 0.2){};\n",
    "\\node[coordinate, pin={34.1\\%}] at (axis cs: -0.5, 0){};\n",
    "\\node[coordinate, pin={34.1\\%}] at (axis cs: 0.5, 0){};\n",
    "\\node[coordinate, pin={13.6\\%}] at (axis cs: 1.5, 0){};\n",
    "\\node[coordinate, pin={13.6\\%}] at (axis cs: -1.5, 0){};\n",
    "\\node[coordinate, pin={2.1\\%}] at (axis cs: 2.5, 0){};\n",
    "\\node[coordinate, pin={2.1\\%}] at (axis cs: -2.5, 0){};\n",
    "\\end{axis}\n",
    "\\end{tikzpicture}\n"
   ]
  },
  {
   "cell_type": "markdown",
   "metadata": {},
   "source": [
    "Kolmogorow-Smirnow Test (KS-Test)\n",
    "---"
   ]
  },
  {
   "cell_type": "markdown",
   "metadata": {},
   "source": [
    "There are also many ways to test a dataset if it is normally distributed. The KS-Test is only one Option"
   ]
  },
  {
   "cell_type": "code",
   "execution_count": null,
   "metadata": {},
   "outputs": [],
   "source": [
    "from scipy import stats"
   ]
  },
  {
   "cell_type": "code",
   "execution_count": null,
   "metadata": {},
   "outputs": [],
   "source": [
    "stats.kstest(Nums, 'norm')"
   ]
  },
  {
   "cell_type": "code",
   "execution_count": null,
   "metadata": {
    "collapsed": true
   },
   "outputs": [],
   "source": []
  }
 ],
 "metadata": {
  "kernelspec": {
   "display_name": "Python 3",
   "language": "python",
   "name": "python3"
  },
  "language_info": {
   "codemirror_mode": {
    "name": "ipython",
    "version": 3
   },
   "file_extension": ".py",
   "mimetype": "text/x-python",
   "name": "python",
   "nbconvert_exporter": "python",
   "pygments_lexer": "ipython3",
   "version": "3.4.5"
  }
 },
 "nbformat": 4,
 "nbformat_minor": 2
}
