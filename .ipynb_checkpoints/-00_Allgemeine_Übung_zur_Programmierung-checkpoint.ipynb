{
 "cells": [
  {
   "cell_type": "markdown",
   "metadata": {},
   "source": [
    "LV Digitale Photogrammetrie und Bildverarbeitung\n",
    "------------------------------------------\n",
    "Übung zur Programmierung\n",
    "------------------------------"
   ]
  },
  {
   "cell_type": "markdown",
   "metadata": {},
   "source": [
    "I) Einstig \n",
    "1. Erstellen Sie einen Vektor x=[ 1 2 3 4 5 6 7 8 9 10 ]\n",
    "2. Berechnen Sie daraus den Vektor y = sin(x)\n",
    "3. Sortieren Sie den Vektor y in absteigender/ aufsteigender Reihenfolge\n",
    "4. Wenden Sie die Sortierung ebenfalls auf den Vektor x an.\n",
    "5. Vertauschen Sie die Reihenfolge der Einträge in Vektor y\n",
    "6. Plotten Sie x gegen y "
   ]
  },
  {
   "cell_type": "code",
   "execution_count": null,
   "metadata": {
    "collapsed": true
   },
   "outputs": [],
   "source": []
  },
  {
   "cell_type": "markdown",
   "metadata": {},
   "source": [
    "II) Indizierung\n",
    "1. Erstellen Sie zwei Vektoren:\n",
    "     A = [2 4 5 34 3 2 4 5 ] und\n",
    "     B = [2 3 45 54 56 6 7 20 19 3 6]\n",
    "2. Finden Sie die Elemente in A die auch in B vorkommen\n",
    "3. Extrahieren Sie die Elemente aus B mit dem linearen Index A\n",
    "4. Extrahieren Sie die Elemente in B, die nicht in A vorkommen.\n",
    "5. Extrahieren Sie jedes 2. Element aus B und jedes dritte Element aus A und fügen Sie diese hintereinander zu einem neuen Spaltenvektor C zusammen."
   ]
  },
  {
   "cell_type": "code",
   "execution_count": null,
   "metadata": {
    "collapsed": true
   },
   "outputs": [],
   "source": []
  },
  {
   "cell_type": "markdown",
   "metadata": {},
   "source": [
    "III) Strings\n",
    "1. Erstellen Sie eine Textvariable mit dem Text: 'Programmieren ist leichter als ich dachte.'\n",
    "2. Zählen Sie automatisch die Anzahl der Wörter.\n",
    "3. Tauschen Sie den Begriff 'leichter' gegen 'einfacher' aus "
   ]
  },
  {
   "cell_type": "code",
   "execution_count": null,
   "metadata": {
    "collapsed": true
   },
   "outputs": [],
   "source": [
    "\n",
    "\n",
    "\n"
   ]
  },
  {
   "cell_type": "markdown",
   "metadata": {},
   "source": [
    "IV) Statistik\n",
    "1. Erstellen Sie einen Spaltenvektor x mit 50 Zufallszahlen aus einer Normalverteilung mit dem Mittelwert 3 und der Standardabweichung 1,5\n",
    "2. Schätzen Sie den Mittelwert und die Standardabweichung aus der Stichprobe\n",
    "3. Berechnen Sie den Standardfehler des Mittelwertes der Stichprobe. Liegt der theoretische Mittelwert (3) innerhalb des Standardfehlers des geschätzten Mittelwertes?\n",
    "4. Erstellen Sie einen weiteren Vektor y = 4*x+3. Addieren Sie normalverteilte Fehler mit der Standardabweichung 2.\n",
    "5. Berechnen Sie eine Regressionsgerade zwischen x (unabhängig) und y (abhängige Variable) und plotten Sie die Ergebnisse zusammen mit den Daten x und y.\n",
    "6. Erstellen Sie einen Spaltenvektor mit den Gruppenbezeichnungen G = [1 1 1 3 3 2 2 2 2 1 1 1 3 3 3 3 ]\n",
    "und einen Spaltenvektor gleicher Größe mit einer gleichverteilten stetigen Zufallsvariable zwischen den Werten 5 und 10.\n",
    "7. Berechnen Sie den Mittelwert und die Standardabweichung in den Gruppen 1-3"
   ]
  },
  {
   "cell_type": "code",
   "execution_count": null,
   "metadata": {
    "collapsed": true
   },
   "outputs": [],
   "source": []
  }
 ],
 "metadata": {
  "kernelspec": {
   "display_name": "Python 3",
   "language": "python",
   "name": "python3"
  },
  "language_info": {
   "codemirror_mode": {
    "name": "ipython",
    "version": 3
   },
   "file_extension": ".py",
   "mimetype": "text/x-python",
   "name": "python",
   "nbconvert_exporter": "python",
   "pygments_lexer": "ipython3",
   "version": "3.6.1"
  }
 },
 "nbformat": 4,
 "nbformat_minor": 2
}
