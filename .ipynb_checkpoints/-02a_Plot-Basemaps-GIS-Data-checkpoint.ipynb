{
 "cells": [
  {
   "cell_type": "markdown",
   "metadata": {},
   "source": [
    "Basemap plots - plotting maps and geographic datasets\n",
    "---"
   ]
  },
  {
   "cell_type": "markdown",
   "metadata": {},
   "source": [
    "**Overview of the notebook:**\n",
    "    - Basic Library imports and variables\n",
    "    - Printing\n",
    "    - Intro to bits and bytes\n",
    "    - Math in Python\n",
    "    - Python modules closer\n",
    "    - Python datatypes\n",
    "    - If Then-constructs\n",
    "    - Loops\n",
    "    - Folder and File operations\n",
    "    - Functions\n",
    "    - Basics of nummeric python\n",
    "    - Statistics review"
   ]
  },
  {
   "cell_type": "code",
   "execution_count": null,
   "metadata": {},
   "outputs": [],
   "source": []
  },
  {
   "cell_type": "code",
   "execution_count": null,
   "metadata": {},
   "outputs": [],
   "source": []
  },
  {
   "cell_type": "code",
   "execution_count": null,
   "metadata": {},
   "outputs": [],
   "source": []
  },
  {
   "cell_type": "code",
   "execution_count": 11,
   "metadata": {},
   "outputs": [
    {
     "ename": "ImportError",
     "evalue": "No module named 'mpl_toolkits.basemap'",
     "output_type": "error",
     "traceback": [
      "\u001b[0;31m---------------------------------------------------------------------------\u001b[0m",
      "\u001b[0;31mImportError\u001b[0m                               Traceback (most recent call last)",
      "\u001b[0;32m<ipython-input-11-20aec2a9ef3b>\u001b[0m in \u001b[0;36m<module>\u001b[0;34m()\u001b[0m\n\u001b[1;32m      1\u001b[0m \u001b[0;31m#http://matplotlib.org/basemap/api/basemap_api.html\u001b[0m\u001b[0;34m\u001b[0m\u001b[0;34m\u001b[0m\u001b[0m\n\u001b[1;32m      2\u001b[0m \u001b[0mget_ipython\u001b[0m\u001b[0;34m(\u001b[0m\u001b[0;34m)\u001b[0m\u001b[0;34m.\u001b[0m\u001b[0mmagic\u001b[0m\u001b[0;34m(\u001b[0m\u001b[0;34m'matplotlib inline'\u001b[0m\u001b[0;34m)\u001b[0m\u001b[0;34m\u001b[0m\u001b[0m\n\u001b[0;32m----> 3\u001b[0;31m \u001b[0;32mfrom\u001b[0m \u001b[0mmpl_toolkits\u001b[0m\u001b[0;34m.\u001b[0m\u001b[0mbasemap\u001b[0m \u001b[0;32mimport\u001b[0m \u001b[0mBasemap\u001b[0m\u001b[0;34m,\u001b[0m \u001b[0mshiftgrid\u001b[0m\u001b[0;34m,\u001b[0m \u001b[0mcm\u001b[0m\u001b[0;34m\u001b[0m\u001b[0m\n\u001b[0m\u001b[1;32m      4\u001b[0m \u001b[0;32mimport\u001b[0m \u001b[0mnumpy\u001b[0m \u001b[0;32mas\u001b[0m \u001b[0mnp\u001b[0m\u001b[0;34m\u001b[0m\u001b[0m\n\u001b[1;32m      5\u001b[0m \u001b[0;32mimport\u001b[0m \u001b[0mmatplotlib\u001b[0m\u001b[0;34m.\u001b[0m\u001b[0mpyplot\u001b[0m \u001b[0;32mas\u001b[0m \u001b[0mplt\u001b[0m\u001b[0;34m\u001b[0m\u001b[0m\n",
      "\u001b[0;31mImportError\u001b[0m: No module named 'mpl_toolkits.basemap'"
     ]
    }
   ],
   "source": [
    "#http://matplotlib.org/basemap/api/basemap_api.html\n",
    "%matplotlib inline\n",
    "from mpl_toolkits.basemap import Basemap, shiftgrid, cm\n",
    "import numpy as np\n",
    "import matplotlib.pyplot as plt\n",
    "#from netCDF4 import Dataset\n",
    "\n",
    "# read in etopo5 topography/bathymetry.\n",
    "#url = 'http://ferret.pmel.noaa.gov/thredds/dodsC/data/PMEL/etopo5.nc'\n",
    "#etopodata = Dataset(url)\n",
    "\n",
    "#topoin = etopodata.variables['ROSE'][:]\n",
    "#lons = etopodata.variables['ETOPO05_X'][:]\n",
    "#lats = etopodata.variables['ETOPO05_Y'][:]\n",
    "# shift data so lons go from -180 to 180 instead of 20 to 380.\n",
    "#topoin,lons = shiftgrid(180.,topoin,lons,start=False)\n",
    "\n",
    "# plot topography/bathymetry as an image.\n",
    "\n",
    "# create the figure and axes instances.\n",
    "fig = plt.figure()\n",
    "ax = fig.add_axes([0.1,0.1,0.8,0.8])\n",
    "# setup of basemap ('lcc' = lambert conformal conic).\n",
    "# use major and minor sphere radii from WGS84 ellipsoid.\n",
    "m = Basemap(llcrnrlon=-145.5,llcrnrlat=1.,urcrnrlon=-2.566,urcrnrlat=46.352,\\\n",
    "            rsphere=(6378137.00,6356752.3142),\\\n",
    "            resolution='l',area_thresh=1000.,projection='lcc',\\\n",
    "            lat_1=50.,lon_0=-107.,ax=ax)\n",
    "# transform to nx x ny regularly spaced 5km native projection grid\n",
    "nx = int((m.xmax-m.xmin)/5000.)+1; ny = int((m.ymax-m.ymin)/5000.)+1\n",
    "#topodat = m.transform_scalar(topoin,lons,lats,nx,ny)\n",
    "# plot image over map with imshow.\n",
    "#im = m.imshow(topodat,cm.GMT_haxby)\n",
    "# draw coastlines and political boundaries.\n",
    "m.drawcoastlines()\n",
    "m.drawcountries()\n",
    "#m.drawstates()\n",
    "# draw parallels and meridians.\n",
    "# label on left and bottom of map.\n",
    "parallels = np.arange(0.,80,20.)\n",
    "m.drawparallels(parallels,labels=[1,0,0,1])\n",
    "meridians = np.arange(10.,360.,30.)\n",
    "m.drawmeridians(meridians,labels=[1,0,0,1])\n",
    "# add colorbar\n",
    "#cb = m.colorbar(im,\"right\", size=\"5%\", pad='2%')\n",
    "ax.set_title('ETOPO5 Topography - Lambert Conformal Conic')\n",
    "\n",
    "plt.show()"
   ]
  },
  {
   "cell_type": "code",
   "execution_count": 12,
   "metadata": {},
   "outputs": [
    {
     "ename": "ImportError",
     "evalue": "No module named 'mpl_toolkits.basemap'",
     "output_type": "error",
     "traceback": [
      "\u001b[0;31m---------------------------------------------------------------------------\u001b[0m",
      "\u001b[0;31mImportError\u001b[0m                               Traceback (most recent call last)",
      "\u001b[0;32m<ipython-input-12-7d584c7edaef>\u001b[0m in \u001b[0;36m<module>\u001b[0;34m()\u001b[0m\n\u001b[1;32m      3\u001b[0m \u001b[0;31m#http://download.geofabrik.de/europe/germany/berlin.html\u001b[0m\u001b[0;34m\u001b[0m\u001b[0;34m\u001b[0m\u001b[0m\n\u001b[1;32m      4\u001b[0m \u001b[0mget_ipython\u001b[0m\u001b[0;34m(\u001b[0m\u001b[0;34m)\u001b[0m\u001b[0;34m.\u001b[0m\u001b[0mmagic\u001b[0m\u001b[0;34m(\u001b[0m\u001b[0;34m'matplotlib inline'\u001b[0m\u001b[0;34m)\u001b[0m\u001b[0;34m\u001b[0m\u001b[0m\n\u001b[0;32m----> 5\u001b[0;31m \u001b[0;32mfrom\u001b[0m \u001b[0mmpl_toolkits\u001b[0m\u001b[0;34m.\u001b[0m\u001b[0mbasemap\u001b[0m \u001b[0;32mimport\u001b[0m \u001b[0mBasemap\u001b[0m\u001b[0;34m\u001b[0m\u001b[0m\n\u001b[0m\u001b[1;32m      6\u001b[0m \u001b[0;32mimport\u001b[0m \u001b[0mmatplotlib\u001b[0m\u001b[0;34m.\u001b[0m\u001b[0mpyplot\u001b[0m \u001b[0;32mas\u001b[0m \u001b[0mplt\u001b[0m\u001b[0;34m\u001b[0m\u001b[0m\n\u001b[1;32m      7\u001b[0m \u001b[0;34m\u001b[0m\u001b[0m\n",
      "\u001b[0;31mImportError\u001b[0m: No module named 'mpl_toolkits.basemap'"
     ]
    }
   ],
   "source": [
    "# Plotting points,lines polygones from shapefiles\n",
    "#http://basemaptutorial.readthedocs.org/en/latest/shapefile.html\n",
    "#http://download.geofabrik.de/europe/germany/berlin.html\n",
    "%matplotlib inline\n",
    "from mpl_toolkits.basemap import Basemap\n",
    "import matplotlib.pyplot as plt\n",
    "\n",
    "map = Basemap(llcrnrlon=11.5,llcrnrlat=52.,urcrnrlon=14.,urcrnrlat=55.,\n",
    "             resolution='i', projection='tmerc', lat_0 = 52, lon_0 = 12.5)\n",
    "\n",
    "map.drawmapboundary(fill_color='aqua')\n",
    "map.fillcontinents(color='#ddaa66',lake_color='aqua')\n",
    "map.drawcoastlines()\n",
    "\n",
    "# hier dann das shapefile angeben Pfad von der Platte\n",
    "map.readshapefile('berlin-latest/railways', 'points')\n",
    "\n",
    "plt.show()"
   ]
  },
  {
   "cell_type": "code",
   "execution_count": null,
   "metadata": {},
   "outputs": [],
   "source": [
    "%matplotlib inline\n",
    "from mpl_toolkits.basemap import Basemap\n",
    "import matplotlib.pyplot as plt\n",
    "\n",
    "map = Basemap(projection='ortho', \n",
    "              lat_0=0, lon_0=45)\n",
    "\n",
    "map.drawmapboundary(fill_color='aqua')\n",
    "map.fillcontinents(color='coral',lake_color='aqua')\n",
    "map.drawcoastlines()\n",
    "\n",
    "x, y = map(0, 0) # Koordinaten in der jeweiligen Projektion berechnen!!! (Eingaben in Lon/Lat )\n",
    "\n",
    "map.plot(x, y, marker='D',color='m')\n",
    "\n",
    "plt.show()"
   ]
  },
  {
   "cell_type": "code",
   "execution_count": 13,
   "metadata": {},
   "outputs": [
    {
     "ename": "ImportError",
     "evalue": "No module named 'mpl_toolkits.basemap'",
     "output_type": "error",
     "traceback": [
      "\u001b[0;31m---------------------------------------------------------------------------\u001b[0m",
      "\u001b[0;31mImportError\u001b[0m                               Traceback (most recent call last)",
      "\u001b[0;32m<ipython-input-13-455d3979de68>\u001b[0m in \u001b[0;36m<module>\u001b[0;34m()\u001b[0m\n\u001b[1;32m      7\u001b[0m \u001b[0;34m\u001b[0m\u001b[0m\n\u001b[1;32m      8\u001b[0m \u001b[0mget_ipython\u001b[0m\u001b[0;34m(\u001b[0m\u001b[0;34m)\u001b[0m\u001b[0;34m.\u001b[0m\u001b[0mmagic\u001b[0m\u001b[0;34m(\u001b[0m\u001b[0;34m'matplotlib inline'\u001b[0m\u001b[0;34m)\u001b[0m\u001b[0;34m\u001b[0m\u001b[0m\n\u001b[0;32m----> 9\u001b[0;31m \u001b[0;32mfrom\u001b[0m \u001b[0mmpl_toolkits\u001b[0m\u001b[0;34m.\u001b[0m\u001b[0mbasemap\u001b[0m \u001b[0;32mimport\u001b[0m \u001b[0mBasemap\u001b[0m\u001b[0;34m\u001b[0m\u001b[0m\n\u001b[0m\u001b[1;32m     10\u001b[0m \u001b[0;32mimport\u001b[0m \u001b[0mmatplotlib\u001b[0m\u001b[0;34m.\u001b[0m\u001b[0mpyplot\u001b[0m \u001b[0;32mas\u001b[0m \u001b[0mplt\u001b[0m\u001b[0;34m\u001b[0m\u001b[0m\n\u001b[1;32m     11\u001b[0m \u001b[0;34m\u001b[0m\u001b[0m\n",
      "\u001b[0;31mImportError\u001b[0m: No module named 'mpl_toolkits.basemap'"
     ]
    }
   ],
   "source": [
    "#http://de.mathworks.com/help/map/examples/georeferencing-an-image-to-an-orthotile-base-layer.html?requestedDomain=www.mathworks.com\n",
    "# vielleicht geht auch das ja\n",
    "\n",
    "#http://introtopython.org/visualization_earthquakes.html\n",
    "\n",
    "#http://basemaptutorial.readthedocs.org/en/latest/plotting_data.html\n",
    "\n",
    "%matplotlib inline\n",
    "from mpl_toolkits.basemap import Basemap\n",
    "import matplotlib.pyplot as plt\n",
    "\n",
    "# Make this plot larger.\n",
    "plt.figure(figsize=(16,12))   # Stellt die Größe des Plots ein\n",
    "\n",
    "map = Basemap(llcrnrlon=10,llcrnrlat=50.,urcrnrlon=15.,urcrnrlat=55.,\n",
    "             resolution='i', projection='tmerc', lat_0 = 52, lon_0 = 12.5)\n",
    "\n",
    "#map.drawmapboundary(fill_color='aqua')\n",
    "#map.fillcontinents(color='#ddaa66',lake_color='aqua')\n",
    "\n",
    "#map.bluemarble()   # Rasterdaten im Hintergrund anzeigen, weltweit Bluemarble Mosaik\n",
    "map.shadedrelief()\n",
    "map.drawcoastlines()\n",
    "map.drawcountries()\n",
    "parallels = np.arange(50.,60,1.)\n",
    "map.drawparallels(parallels,labels=[1,0,0,1])\n",
    "meridians = np.arange(0.,20.,2.)\n",
    "map.drawmeridians(meridians,labels=[1,0,0,1])\n",
    "\n",
    "# Einen Punkt zeichnen\n",
    "lon = 13.3318\n",
    "lat = 52.0799\n",
    "x,y = map(lon, lat)  #damit werden die Längen und Breitengrade in Kartenkoordinaten umgerechnet \n",
    "map.plot(x, y, 'bo', markersize=6)\n",
    "\n",
    "# mehrere Punkte zeichnen\n",
    "lons = [13.53318, 11.8331, 13.46572]\n",
    "lats = [51.0799, 52.894, 53.2399]\n",
    "xs,ys = map(lons, lats)\n",
    "map.plot(xs, ys, 'ro', markersize=4)\n",
    "\n",
    "# Punkte mit Beschriftungen versehen\n",
    "labels = ['Sitka', 'Baranof', 'Port Alexander']\n",
    "for label, xpt, ypt in zip(labels, xs, ys):\n",
    "    plt.text(xpt, ypt, label)\n",
    "    #plt.text(xpt+10000, ypt+5000, label)   # um Labels etwas vom punkt entfernt zu plotten\n",
    "\n",
    "# eine Linie zeichnen im Plot\n",
    "lons1 = [11.1, 12.83, 13.1, 13.3]\n",
    "lats1 = [51.9, 52.44, 53.2, 51.3]\n",
    "xs1,ys1 = map(lons1, lats1)\n",
    "map.plot(xs1, ys1, marker=None,color='m')\n",
    "\n",
    "\n",
    "# ein geschlossenen Linienzug (Polygon) zeichnen im Plot\n",
    "lons1 = [11.1, 11.3, 11.2, 11.1]\n",
    "lats1 = [51.5, 51.3, 51.8, 51.5]\n",
    "xs1,ys1 = map(lons1, lats1)\n",
    "map.plot(xs1, ys1, marker=None,color='r')\n",
    "\n",
    "plt.show()"
   ]
  }
 ],
 "metadata": {
  "kernelspec": {
   "display_name": "Python 3",
   "language": "python",
   "name": "python3"
  },
  "language_info": {
   "codemirror_mode": {
    "name": "ipython",
    "version": 3
   },
   "file_extension": ".py",
   "mimetype": "text/x-python",
   "name": "python",
   "nbconvert_exporter": "python",
   "pygments_lexer": "ipython3",
   "version": "3.6.1"
  }
 },
 "nbformat": 4,
 "nbformat_minor": 2
}
