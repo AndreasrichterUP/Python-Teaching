{
 "cells": [
  {
   "cell_type": "markdown",
   "metadata": {},
   "source": [
    "-04-Basics-of-image-processing  © by A.Richter\n",
    "------------------------------------------"
   ]
  },
  {
   "cell_type": "markdown",
   "metadata": {},
   "source": [
    "Intro to Image Analysis\n",
    "--"
   ]
  },
  {
   "cell_type": "code",
   "execution_count": 2,
   "metadata": {
    "collapsed": true
   },
   "outputs": [],
   "source": [
    "import skimage\n",
    "import skimage.io as skio\n",
    "from skimage import exposure\n",
    "from scipy.misc import bytescale\n",
    "\n",
    "#import cv2\n",
    "import numpy as np\n",
    "import matplotlib.pyplot as plt\n",
    "import scipy as sp\n",
    "import glob\n",
    "\n",
    "%matplotlib inline"
   ]
  },
  {
   "cell_type": "markdown",
   "metadata": {},
   "source": [
    "Import of Images with **Scikit-Image**\n",
    "--"
   ]
  },
  {
   "cell_type": "markdown",
   "metadata": {},
   "source": [
    "The following images are multi-channel IKONOS with a resolution of 4m multi and 1m pan"
   ]
  },
  {
   "cell_type": "code",
   "execution_count": 5,
   "metadata": {
    "collapsed": false
   },
   "outputs": [
    {
     "ename": "FileNotFoundError",
     "evalue": "[Errno 2] No such file or directory: '../FE-ImageData/po_221141_pan_sub.TIF'",
     "output_type": "error",
     "traceback": [
      "\u001b[0;31m---------------------------------------------------------------------------\u001b[0m",
      "\u001b[0;31mFileNotFoundError\u001b[0m                         Traceback (most recent call last)",
      "\u001b[0;32m<ipython-input-5-2d64f0a91281>\u001b[0m in \u001b[0;36m<module>\u001b[0;34m()\u001b[0m\n\u001b[1;32m      1\u001b[0m \u001b[0mFolder\u001b[0m\u001b[0;34m=\u001b[0m\u001b[0;34m'../FE-ImageData/'\u001b[0m\u001b[0;34m\u001b[0m\u001b[0m\n\u001b[0;32m----> 2\u001b[0;31m \u001b[0mIKOPan\u001b[0m\u001b[0;34m=\u001b[0m\u001b[0mskio\u001b[0m\u001b[0;34m.\u001b[0m\u001b[0mimread\u001b[0m\u001b[0;34m(\u001b[0m\u001b[0mFolder\u001b[0m\u001b[0;34m+\u001b[0m\u001b[0;34m'po_221141_pan_sub.TIF'\u001b[0m\u001b[0;34m)\u001b[0m\u001b[0;34m\u001b[0m\u001b[0m\n\u001b[0m\u001b[1;32m      3\u001b[0m \u001b[0mIKORed\u001b[0m\u001b[0;34m=\u001b[0m\u001b[0mskio\u001b[0m\u001b[0;34m.\u001b[0m\u001b[0mimread\u001b[0m\u001b[0;34m(\u001b[0m\u001b[0mFolder\u001b[0m\u001b[0;34m+\u001b[0m\u001b[0;34m'po_221141_red_sub.TIF'\u001b[0m\u001b[0;34m)\u001b[0m\u001b[0;34m\u001b[0m\u001b[0m\n\u001b[1;32m      4\u001b[0m \u001b[0mIKOGreen\u001b[0m\u001b[0;34m=\u001b[0m\u001b[0mskio\u001b[0m\u001b[0;34m.\u001b[0m\u001b[0mimread\u001b[0m\u001b[0;34m(\u001b[0m\u001b[0mFolder\u001b[0m\u001b[0;34m+\u001b[0m\u001b[0;34m'po_221141_green_sub.TIF'\u001b[0m\u001b[0;34m)\u001b[0m\u001b[0;34m\u001b[0m\u001b[0m\n\u001b[1;32m      5\u001b[0m \u001b[0mIKOBlue\u001b[0m\u001b[0;34m=\u001b[0m\u001b[0mskio\u001b[0m\u001b[0;34m.\u001b[0m\u001b[0mimread\u001b[0m\u001b[0;34m(\u001b[0m\u001b[0mFolder\u001b[0m\u001b[0;34m+\u001b[0m\u001b[0;34m'po_221141_blue_sub.TIF'\u001b[0m\u001b[0;34m)\u001b[0m\u001b[0;34m\u001b[0m\u001b[0m\n",
      "\u001b[0;32m/anaconda/lib/python3.6/site-packages/skimage/io/_io.py\u001b[0m in \u001b[0;36mimread\u001b[0;34m(fname, as_grey, plugin, flatten, **plugin_args)\u001b[0m\n\u001b[1;32m     59\u001b[0m \u001b[0;34m\u001b[0m\u001b[0m\n\u001b[1;32m     60\u001b[0m     \u001b[0;32mwith\u001b[0m \u001b[0mfile_or_url_context\u001b[0m\u001b[0;34m(\u001b[0m\u001b[0mfname\u001b[0m\u001b[0;34m)\u001b[0m \u001b[0;32mas\u001b[0m \u001b[0mfname\u001b[0m\u001b[0;34m:\u001b[0m\u001b[0;34m\u001b[0m\u001b[0m\n\u001b[0;32m---> 61\u001b[0;31m         \u001b[0mimg\u001b[0m \u001b[0;34m=\u001b[0m \u001b[0mcall_plugin\u001b[0m\u001b[0;34m(\u001b[0m\u001b[0;34m'imread'\u001b[0m\u001b[0;34m,\u001b[0m \u001b[0mfname\u001b[0m\u001b[0;34m,\u001b[0m \u001b[0mplugin\u001b[0m\u001b[0;34m=\u001b[0m\u001b[0mplugin\u001b[0m\u001b[0;34m,\u001b[0m \u001b[0;34m**\u001b[0m\u001b[0mplugin_args\u001b[0m\u001b[0;34m)\u001b[0m\u001b[0;34m\u001b[0m\u001b[0m\n\u001b[0m\u001b[1;32m     62\u001b[0m \u001b[0;34m\u001b[0m\u001b[0m\n\u001b[1;32m     63\u001b[0m     \u001b[0;32mif\u001b[0m \u001b[0;32mnot\u001b[0m \u001b[0mhasattr\u001b[0m\u001b[0;34m(\u001b[0m\u001b[0mimg\u001b[0m\u001b[0;34m,\u001b[0m \u001b[0;34m'ndim'\u001b[0m\u001b[0;34m)\u001b[0m\u001b[0;34m:\u001b[0m\u001b[0;34m\u001b[0m\u001b[0m\n",
      "\u001b[0;32m/anaconda/lib/python3.6/site-packages/skimage/io/manage_plugins.py\u001b[0m in \u001b[0;36mcall_plugin\u001b[0;34m(kind, *args, **kwargs)\u001b[0m\n\u001b[1;32m    209\u001b[0m                                (plugin, kind))\n\u001b[1;32m    210\u001b[0m \u001b[0;34m\u001b[0m\u001b[0m\n\u001b[0;32m--> 211\u001b[0;31m     \u001b[0;32mreturn\u001b[0m \u001b[0mfunc\u001b[0m\u001b[0;34m(\u001b[0m\u001b[0;34m*\u001b[0m\u001b[0margs\u001b[0m\u001b[0;34m,\u001b[0m \u001b[0;34m**\u001b[0m\u001b[0mkwargs\u001b[0m\u001b[0;34m)\u001b[0m\u001b[0;34m\u001b[0m\u001b[0m\n\u001b[0m\u001b[1;32m    212\u001b[0m \u001b[0;34m\u001b[0m\u001b[0m\n\u001b[1;32m    213\u001b[0m \u001b[0;34m\u001b[0m\u001b[0m\n",
      "\u001b[0;32m/anaconda/lib/python3.6/site-packages/skimage/io/_plugins/tifffile_plugin.py\u001b[0m in \u001b[0;36mimread\u001b[0;34m(fname, dtype, **kwargs)\u001b[0m\n\u001b[1;32m     27\u001b[0m     \u001b[0;32mif\u001b[0m \u001b[0;34m'img_num'\u001b[0m \u001b[0;32min\u001b[0m \u001b[0mkwargs\u001b[0m\u001b[0;34m:\u001b[0m\u001b[0;34m\u001b[0m\u001b[0m\n\u001b[1;32m     28\u001b[0m         \u001b[0mkwargs\u001b[0m\u001b[0;34m[\u001b[0m\u001b[0;34m'key'\u001b[0m\u001b[0;34m]\u001b[0m \u001b[0;34m=\u001b[0m \u001b[0mkwargs\u001b[0m\u001b[0;34m.\u001b[0m\u001b[0mpop\u001b[0m\u001b[0;34m(\u001b[0m\u001b[0;34m'img_num'\u001b[0m\u001b[0;34m)\u001b[0m\u001b[0;34m\u001b[0m\u001b[0m\n\u001b[0;32m---> 29\u001b[0;31m     \u001b[0;32mwith\u001b[0m \u001b[0mopen\u001b[0m\u001b[0;34m(\u001b[0m\u001b[0mfname\u001b[0m\u001b[0;34m,\u001b[0m \u001b[0;34m'rb'\u001b[0m\u001b[0;34m)\u001b[0m \u001b[0;32mas\u001b[0m \u001b[0mf\u001b[0m\u001b[0;34m:\u001b[0m\u001b[0;34m\u001b[0m\u001b[0m\n\u001b[0m\u001b[1;32m     30\u001b[0m         \u001b[0mtif\u001b[0m \u001b[0;34m=\u001b[0m \u001b[0mTiffFile\u001b[0m\u001b[0;34m(\u001b[0m\u001b[0mf\u001b[0m\u001b[0;34m)\u001b[0m\u001b[0;34m\u001b[0m\u001b[0m\n\u001b[1;32m     31\u001b[0m         \u001b[0;32mreturn\u001b[0m \u001b[0mtif\u001b[0m\u001b[0;34m.\u001b[0m\u001b[0masarray\u001b[0m\u001b[0;34m(\u001b[0m\u001b[0;34m**\u001b[0m\u001b[0mkwargs\u001b[0m\u001b[0;34m)\u001b[0m\u001b[0;34m\u001b[0m\u001b[0m\n",
      "\u001b[0;31mFileNotFoundError\u001b[0m: [Errno 2] No such file or directory: '../FE-ImageData/po_221141_pan_sub.TIF'"
     ]
    }
   ],
   "source": [
    "Folder='../FE-ImageData/'\n",
    "IKOPan=skio.imread(Folder+'po_221141_pan_sub.TIF')\n",
    "IKORed=skio.imread(Folder+'po_221141_red_sub.TIF')\n",
    "IKOGreen=skio.imread(Folder+'po_221141_green_sub.TIF')\n",
    "IKOBlue=skio.imread(Folder+'po_221141_blue_sub.TIF')\n",
    "IKONir=skio.imread(Folder+'po_221141_nir_sub.TIF')\n",
    "print(IKORed.shape, IKORed.dtype, np.max(IKORed))\n",
    "\n",
    "print(IKORed[100:110,100:110])\n",
    "plt.imshow(IKORed[100:110,100:110])"
   ]
  },
  {
   "cell_type": "markdown",
   "metadata": {},
   "source": [
    "Images in python are handled in form of matrix structures"
   ]
  },
  {
   "cell_type": "markdown",
   "metadata": {},
   "source": [
    "the data in the files is 16bit integer"
   ]
  },
  {
   "cell_type": "markdown",
   "metadata": {},
   "source": [
    "Import the Images with **OpenCV (CV2)**\n",
    "--"
   ]
  },
  {
   "cell_type": "code",
   "execution_count": null,
   "metadata": {},
   "outputs": [],
   "source": [
    "Folder='../FE-ImageData/'\n",
    "#IKOPan=skio.imread(Folder+'IKONOS2_dodola_Pan_Kanal/_Tif/po_221141_pan_sub.TIF')\n",
    "IKORedcv2=cv2.imread(Folder+'po_221141_red_sub.TIF',-1)\n",
    "print(IKORedcv2.shape, IKORedcv2.dtype, np.max(IKORedcv2))\n",
    "print(25*'-')\n",
    "print(IKORedcv2[100:110,100:110])"
   ]
  },
  {
   "cell_type": "markdown",
   "metadata": {},
   "source": [
    "the parameter **cv2.imread(...,-1)** is needed to import the data unchanged. Try to import the image without the -1 parameter and you will have an 8bit instead of a 16bit array"
   ]
  },
  {
   "cell_type": "code",
   "execution_count": null,
   "metadata": {},
   "outputs": [],
   "source": [
    "IKORedcv2=cv2.imread(Folder+'po_221141_red_sub.TIF')\n",
    "print(IKORedcv2.shape, IKORedcv2.dtype, np.max(IKORedcv2))\n",
    "print(25*'-')\n",
    "print(IKORedcv2[100:110,100:110,1])\n"
   ]
  },
  {
   "cell_type": "markdown",
   "metadata": {},
   "source": [
    "Read images from a folder and plot images\n",
    "---"
   ]
  },
  {
   "cell_type": "code",
   "execution_count": null,
   "metadata": {},
   "outputs": [],
   "source": [
    "Folder='../FE-ImageData/'             # define Folder\n",
    "\n",
    "TIFs=glob.glob(Folder+\"*.tif\")                    # generate list of the files with the Ending .tif\n",
    "#TFWs=glob.glob(Folder+\"*.tfw\")\n",
    "#OVRs=glob.glob(Folder+\"*.ovr\")\n",
    "\n",
    "for filename in TIFs:                             # For loop to print the list of images\n",
    "        print(filename)\n",
    "        Bild=skio.imread(filename)\n",
    "        plt.imshow(Bild, cmap = 'gray')\n",
    "        plt.show()"
   ]
  },
  {
   "cell_type": "code",
   "execution_count": null,
   "metadata": {
    "collapsed": false
   },
   "outputs": [],
   "source": [
    "print IKOPan[1000:1010,1000:1010]\n",
    "print '-----'\n",
    "\n",
    "print 'max Value: {}'.format(np.max(IKOPan))"
   ]
  },
  {
   "cell_type": "markdown",
   "metadata": {},
   "source": [
    "8-bit Data vs. 16-Bit Data\n",
    "---"
   ]
  },
  {
   "cell_type": "code",
   "execution_count": null,
   "metadata": {
    "collapsed": false
   },
   "outputs": [],
   "source": [
    "\n",
    "#IKOPan8bit=skimage.img_as_ubyte(np.float32(IKOPan))\n",
    "#IKORed8bit=skimage.img_as_ubyte(np.float32(IKORed))\n",
    "#IKOGreen8bit=skimage.img_as_ubyte(IKOGreen)\n",
    "#IKOBlue8bit=skimage.img_as_ubyte(IKOBlue)\n",
    "\n",
    "\n",
    "IKOPan8bit=bytescale(IKOPan)\n",
    "print( IKOPan8bit.shape, IKOPan8bit.dtype)\n",
    "print( IKOPan8bit[1000:1010,1000:1010])\n",
    "print( '-----')\n",
    "print( 'max Value: {}'.format(np.max(IKOPan8bit)))\n",
    "\n",
    "print( IKORed.shape, IKORed.dtype)\n",
    "print( 5*'-----')\n",
    "print(IKORed[1000:1010,1000:1010])\n",
    "print( 5*'-----')\n",
    "print( 'max Value: {}'.format(np.max(IKORed)))\n",
    "\n",
    "img8 = (img16/256).astype('uint8')\n",
    "\n",
    "\n",
    "img_8bit = cv2.imread(imagePath).astype(np.uint8)\n"
   ]
  },
  {
   "cell_type": "code",
   "execution_count": null,
   "metadata": {},
   "outputs": [],
   "source": []
  },
  {
   "cell_type": "markdown",
   "metadata": {},
   "source": [
    "Output of Histogramms of the PAN or Red Channel\n",
    "---"
   ]
  },
  {
   "cell_type": "code",
   "execution_count": 4,
   "metadata": {
    "collapsed": false
   },
   "outputs": [
    {
     "name": "stdout",
     "output_type": "stream",
     "text": [
      "16 bit - Histogramm\n"
     ]
    },
    {
     "ename": "NameError",
     "evalue": "name 'IKOPan' is not defined",
     "output_type": "error",
     "traceback": [
      "\u001b[0;31m---------------------------------------------------------------------------\u001b[0m",
      "\u001b[0;31mNameError\u001b[0m                                 Traceback (most recent call last)",
      "\u001b[0;32m<ipython-input-4-3c81ea32a4f0>\u001b[0m in \u001b[0;36m<module>\u001b[0;34m()\u001b[0m\n\u001b[1;32m      3\u001b[0m \u001b[0mfig\u001b[0m\u001b[0;34m=\u001b[0m\u001b[0mplt\u001b[0m\u001b[0;34m.\u001b[0m\u001b[0mfigure\u001b[0m\u001b[0;34m(\u001b[0m\u001b[0mfigsize\u001b[0m\u001b[0;34m=\u001b[0m\u001b[0;34m(\u001b[0m\u001b[0;36m10\u001b[0m\u001b[0;34m,\u001b[0m\u001b[0;36m3\u001b[0m\u001b[0;34m)\u001b[0m\u001b[0;34m)\u001b[0m\u001b[0;34m\u001b[0m\u001b[0m\n\u001b[1;32m      4\u001b[0m \u001b[0;31m#hist, bins = np.histogram(IKOPan, bins=100)         #Anzahl der Intervalle, \"bins\" verändern\u001b[0m\u001b[0;34m\u001b[0m\u001b[0;34m\u001b[0m\u001b[0m\n\u001b[0;32m----> 5\u001b[0;31m \u001b[0mhist\u001b[0m\u001b[0;34m,\u001b[0m \u001b[0mbins\u001b[0m \u001b[0;34m=\u001b[0m \u001b[0mnp\u001b[0m\u001b[0;34m.\u001b[0m\u001b[0mhistogram\u001b[0m\u001b[0;34m(\u001b[0m\u001b[0mIKOPan\u001b[0m\u001b[0;34m,\u001b[0m \u001b[0mbins\u001b[0m\u001b[0;34m=\u001b[0m\u001b[0;36m100\u001b[0m\u001b[0;34m)\u001b[0m         \u001b[0;31m#Anzahl der Intervalle, \"bins\" verändern\u001b[0m\u001b[0;34m\u001b[0m\u001b[0m\n\u001b[0m\u001b[1;32m      6\u001b[0m \u001b[0;34m\u001b[0m\u001b[0m\n\u001b[1;32m      7\u001b[0m \u001b[0mwidth\u001b[0m \u001b[0;34m=\u001b[0m \u001b[0;36m0.7\u001b[0m \u001b[0;34m*\u001b[0m \u001b[0;34m(\u001b[0m\u001b[0mbins\u001b[0m\u001b[0;34m[\u001b[0m\u001b[0;36m1\u001b[0m\u001b[0;34m]\u001b[0m \u001b[0;34m-\u001b[0m \u001b[0mbins\u001b[0m\u001b[0;34m[\u001b[0m\u001b[0;36m0\u001b[0m\u001b[0;34m]\u001b[0m\u001b[0;34m)\u001b[0m\u001b[0;34m\u001b[0m\u001b[0m\n",
      "\u001b[0;31mNameError\u001b[0m: name 'IKOPan' is not defined"
     ]
    },
    {
     "data": {
      "text/plain": [
       "<matplotlib.figure.Figure at 0x11423b860>"
      ]
     },
     "metadata": {},
     "output_type": "display_data"
    }
   ],
   "source": [
    "print('16 bit - Histogramm')\n",
    "\n",
    "fig=plt.figure(figsize=(10,3))\n",
    "#hist, bins = np.histogram(IKOPan, bins=100)         #Anzahl der Intervalle, \"bins\" verändern\n",
    "hist, bins = np.histogram(IKOPan, bins=100)         #Anzahl der Intervalle, \"bins\" verändern\n",
    "\n",
    "width = 0.7 * (bins[1] - bins[0])\n",
    "center = (bins[:-1] + bins[1:]) / 2\n",
    "plt.bar(center, hist, align='center', width=width)\n",
    "plt.show()\n",
    "\n",
    "print( '----------------')\n",
    "print('8 bit - Histogramm')\n",
    "\n",
    "\n",
    "fig=plt.figure(figsize=(10,3))\n",
    "#hist, bins = np.histogram(IKOPan, bins=100)         #Anzahl der Intervalle, \"bins\" verändern\n",
    "hist, bins = np.histogram(IKOPan8bit, bins=100)         #Anzahl der Intervalle, \"bins\" verändern\n",
    "\n",
    "width = 0.7 * (bins[1] - bins[0])\n",
    "center = (bins[:-1] + bins[1:]) / 2\n",
    "plt.bar(center, hist, align='center', width=width)\n",
    "plt.show()"
   ]
  },
  {
   "cell_type": "markdown",
   "metadata": {},
   "source": [
    "Function to build an RBG TrueColor Image from scratch\n",
    "---"
   ]
  },
  {
   "cell_type": "markdown",
   "metadata": {},
   "source": [
    "http://gis.stackexchange.com/questions/120951/merging-multiple-16-bit-image-bands-to-create-a-true-color-tiff'\n"
   ]
  },
  {
   "cell_type": "code",
   "execution_count": null,
   "metadata": {
    "collapsed": false
   },
   "outputs": [],
   "source": [
    "def create_composite(red_band, green_band, blue_band):\n",
    "\n",
    "    img=np.dstack((red_band,green_band,blue_band))\n",
    "    \n",
    "    #p2, p98 = np.percentile(img, (2, 98)) \n",
    "    #img_rescale = exposure.rescale_intensity(img, in_range=(p2, p98))\n",
    "    img_rescale = exposure.rescale_intensity(img, in_range='uint16')\n",
    "\n",
    "    return bytescale(img_rescale)   # Konverting to 8bit for output in jupyter\n",
    "    #return img_rescale\n",
    "\n",
    "\n",
    "image = create_composite(IKORed, IKOGreen, IKOBlue)\n",
    "plt.figure(figsize=(20,10))  \n",
    "plt.imshow(image)\n",
    "plt.show()\n",
    "\n",
    "# see http://stackoverflow.com/questions/10388462/matplotlib-different-size-subplots\n",
    "  \n",
    "f, ((ax1, ax2), (ax3, ax4)) = plt.subplots(2, 2)\n",
    "ax1.imshow(image[0:50,0:50,0:3])\n",
    "ax1.set_title('Details of the Scene')\n",
    "ax2.imshow(image[0:400,0:400,0:3])\n",
    "ax3.imshow(image[0:500,0:500,0:3])\n",
    "ax4.imshow(image[0:500,0:500,0:3])\n",
    "plt.show()"
   ]
  },
  {
   "cell_type": "code",
   "execution_count": null,
   "metadata": {},
   "outputs": [],
   "source": [
    "image = create_composite(IKORed, IKOGreen, IKOBlue)\n",
    "plt.figure(figsize=(20,10))  \n",
    "#plt.imshow(bytescale(image))\n",
    "plt.imshow(image)\n",
    "\n",
    "plt.show()\n",
    "\n",
    "# see http://stackoverflow.com/questions/10388462/matplotlib-different-size-subplots\n",
    "  \n",
    "f, ((ax1, ax2), (ax3, ax4)) = plt.subplots(2, 2)\n",
    "ax1.imshow(image[0:50,0:50,0:3])\n",
    "ax1.set_title('Details of the Scene')\n",
    "ax2.imshow(image[0:400,0:400,0:3])\n",
    "ax3.imshow(image[0:500,0:500,0:3])\n",
    "ax4.imshow(image[0:500,0:500,0:3])\n",
    "plt.show()"
   ]
  },
  {
   "cell_type": "code",
   "execution_count": null,
   "metadata": {
    "collapsed": false
   },
   "outputs": [],
   "source": [
    "print(image.dtype)\n"
   ]
  },
  {
   "cell_type": "code",
   "execution_count": null,
   "metadata": {
    "collapsed": true
   },
   "outputs": [],
   "source": []
  },
  {
   "cell_type": "markdown",
   "metadata": {},
   "source": [
    "Analyse the Correlation between two Channels\n",
    "---"
   ]
  },
  {
   "cell_type": "code",
   "execution_count": null,
   "metadata": {
    "collapsed": false
   },
   "outputs": [],
   "source": [
    "np.corrcoef(np.ravel(IKORed),np.ravel(IKOGreen))"
   ]
  },
  {
   "cell_type": "markdown",
   "metadata": {},
   "source": [
    "Filtering\n",
    "---"
   ]
  },
  {
   "cell_type": "code",
   "execution_count": null,
   "metadata": {
    "collapsed": false
   },
   "outputs": [],
   "source": [
    "from skimage import data,filters,feature\n",
    "image = data.coins() # or any NumPy array!\n",
    "#edges = filters.median(image)\n",
    "plt.imshow(image,cmap='gray')\n",
    "plt.show()\n",
    "\n",
    "edges = filters.prewitt(image)\n",
    "skio.imshow(edges)\n",
    "skio.show()\n",
    "\n",
    "\n",
    "edges = filters.sobel(image)\n",
    "skio.imshow(edges)\n",
    "skio.show()\n",
    "\n",
    "edges = feature.canny(image)\n",
    "skio.imshow(edges)\n",
    "skio.show()"
   ]
  },
  {
   "cell_type": "markdown",
   "metadata": {},
   "source": [
    "Annimation of Convolution"
   ]
  },
  {
   "cell_type": "code",
   "execution_count": null,
   "metadata": {
    "collapsed": true
   },
   "outputs": [],
   "source": []
  }
 ],
 "metadata": {
  "kernelspec": {
   "display_name": "Python 3",
   "language": "python",
   "name": "python3"
  },
  "language_info": {
   "codemirror_mode": {
    "name": "ipython",
    "version": 3
   },
   "file_extension": ".py",
   "mimetype": "text/x-python",
   "name": "python",
   "nbconvert_exporter": "python",
   "pygments_lexer": "ipython3",
   "version": "3.6.1"
  }
 },
 "nbformat": 4,
 "nbformat_minor": 2
}
