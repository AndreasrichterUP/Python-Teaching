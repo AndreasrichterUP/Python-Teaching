{
 "cells": [
  {
   "cell_type": "code",
   "execution_count": 2,
   "metadata": {},
   "outputs": [],
   "source": [
    "###\n",
    "import sys\n",
    "import numpy as np\n",
    "import pandas as pd\n",
    "import scripts.rrws as RRWS\n",
    "\n",
    "#as spin\n",
    "# https://mail.python.org/pipermail/tutor/2004-November/033608.html \n",
    "    \n",
    "    \n",
    "    "
   ]
  },
  {
   "cell_type": "code",
   "execution_count": 3,
   "metadata": {},
   "outputs": [
    {
     "name": "stdout",
     "output_type": "stream",
     "text": [
      "                                 c[m]  x0[m]   y0[m]\n",
      "0                                  0.15  0.0     0.0\n",
      "1            PNR X[m]     Y[m]    Z[m]   x[m]   y[m]\n",
      "2         5 1361.29  -1402.17  200   0.110   0.110  \n",
      "3           6 1337.27  -1019.37  210   0.080   0.110\n",
      "4           7  977.48  -1029.61  205   0.080   0.080\n",
      "5           8  999.37  -1421.83  190   0.110   0.080\n",
      "6  X0[m]  Y0[m]   Z0[m]     omega[gon] phi[gon] k...\n",
      "7  1.132  1.132  2002.264  -2.0          1.0     ...\n"
     ]
    }
   ],
   "source": [
    "#\n",
    "\n",
    "\n",
    "inputFile=pd.read_csv('figures/Beo.dat')\n",
    "\n",
    "print(inputFile)\n"
   ]
  },
  {
   "cell_type": "code",
   "execution_count": null,
   "metadata": {},
   "outputs": [],
   "source": []
  },
  {
   "cell_type": "code",
   "execution_count": null,
   "metadata": {},
   "outputs": [],
   "source": []
  },
  {
   "cell_type": "code",
   "execution_count": 5,
   "metadata": {},
   "outputs": [],
   "source": [
    "p1 = RRWS.Point(1,  1361.29,  -1402.17,   200,   0.110,   0.110)  \n",
    "p2 = RRWS.Point(2,  1038.53,    1026.25,  500,  -0.110,   0.110)\n",
    "p3 = RRWS.Point(3, -1253.46,    1139.02,  300,  -0.110,  -0.110)\n",
    "p4 = RRWS.Point(4, -1325.27,   -1421.83,  250,   0.110,  -0.110)\n",
    "\n",
    "\n",
    "c=0.15  \n",
    "x0IO=0.0     \n",
    "y0IO=0.0\n",
    "#1.132  1.132  2002.264    -2.0        1.0     -98.0\n",
    "\n",
    "X0EO=1.132  \n",
    "Y0EO=1.132  \n",
    "Z0EO=2002.264  \n",
    "omegaEO=-2.0          \n",
    "phiEO=1.0     \n",
    "kappaEO=-98.0"
   ]
  },
  {
   "cell_type": "code",
   "execution_count": 8,
   "metadata": {},
   "outputs": [
    {
     "data": {
      "text/plain": [
       "0.11"
      ]
     },
     "execution_count": 8,
     "metadata": {},
     "output_type": "execute_result"
    }
   ],
   "source": [
    "p1.xI\n"
   ]
  },
  {
   "cell_type": "code",
   "execution_count": null,
   "metadata": {},
   "outputs": [],
   "source": []
  }
 ],
 "metadata": {
  "kernelspec": {
   "display_name": "Python 3",
   "language": "python",
   "name": "python3"
  },
  "language_info": {
   "codemirror_mode": {
    "name": "ipython",
    "version": 3
   },
   "file_extension": ".py",
   "mimetype": "text/x-python",
   "name": "python",
   "nbconvert_exporter": "python",
   "pygments_lexer": "ipython3",
   "version": "3.4.5"
  }
 },
 "nbformat": 4,
 "nbformat_minor": 2
}
