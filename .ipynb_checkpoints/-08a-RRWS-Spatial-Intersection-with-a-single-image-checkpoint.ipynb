{
 "cells": [
  {
   "cell_type": "markdown",
   "metadata": {},
   "source": [
    "Spatial Intersection in Photogrammetry\n",
    "==="
   ]
  },
  {
   "cell_type": "markdown",
   "metadata": {},
   "source": [
    "**Overview of the notebook:**\n",
    "    - Reading the input files\n",
    "    - making the observations vector\n",
    "    - calculate observations from stereo view equations\n",
    "    - make the Delta Vector between observations and calculated observations\n",
    "    - generate A-Matrix\n",
    "    - Adjustment Iterations"
   ]
  },
  {
   "cell_type": "markdown",
   "metadata": {},
   "source": [
    "**Todos**\n",
    " - documentation of matrix structure and computing strategy\n",
    " - script rrws.py function calcDifferentials\n",
    " - compare results of python with old protocolls\n",
    " - "
   ]
  },
  {
   "cell_type": "code",
   "execution_count": 1,
   "metadata": {},
   "outputs": [],
   "source": [
    "###\n",
    "import sys,math\n",
    "import numpy as np\n",
    "import pandas as pd\n",
    "import scripts.rrws as RRWS\n",
    "import scripts.RotationMatrixTools as rotMat\n",
    "\n",
    "#as spin\n",
    "# https://mail.python.org/pipermail/tutor/2004-November/033608.html \n",
    "    \n",
    "    \n",
    "    "
   ]
  },
  {
   "cell_type": "code",
   "execution_count": 2,
   "metadata": {},
   "outputs": [],
   "source": [
    "#inputFile=pd.read_csv('figures/Beo.dat')\n",
    "\n",
    "#print(inputFile)\n"
   ]
  },
  {
   "cell_type": "code",
   "execution_count": 3,
   "metadata": {},
   "outputs": [],
   "source": [
    "#np.dot(PointMatIn[1,1:4],PointMatIn[1,1:4])"
   ]
  },
  {
   "cell_type": "code",
   "execution_count": 4,
   "metadata": {},
   "outputs": [],
   "source": [
    "#PointMatIn[1,1]**2 +PointMatIn[1,2]**2+PointMatIn[1,3]**2"
   ]
  },
  {
   "cell_type": "markdown",
   "metadata": {},
   "source": [
    "**reading input data**"
   ]
  },
  {
   "cell_type": "code",
   "execution_count": 5,
   "metadata": {},
   "outputs": [
    {
     "name": "stdout",
     "output_type": "stream",
     "text": [
      "[[ 0.  0.  0.  0.  0.  0.  0.  0.  0.  0.  0.  0.  0.  0.  0.  0.  0.  0.\n",
      "   0.  0.  0.  0.  0.]\n",
      " [ 0.  0.  0.  0.  0.  0.  0.  0.  0.  0.  0.  0.  0.  0.  0.  0.  0.  0.\n",
      "   0.  0.  0.  0.  0.]\n",
      " [ 0.  0.  0.  0.  0.  0.  0.  0.  0.  0.  0.  0.  0.  0.  0.  0.  0.  0.\n",
      "   0.  0.  0.  0.  0.]\n",
      " [ 0.  0.  0.  0.  0.  0.  0.  0.  0.  0.  0.  0.  0.  0.  0.  0.  0.  0.\n",
      "   0.  0.  0.  0.  0.]\n",
      " [ 0.  0.  0.  0.  0.  0.  0.  0.  0.  0.  0.  0.  0.  0.  0.  0.  0.  0.\n",
      "   0.  0.  0.  0.  0.]\n",
      " [ 0.  0.  0.  0.  0.  0.  0.  0.  0.  0.  0.  0.  0.  0.  0.  0.  0.  0.\n",
      "   0.  0.  0.  0.  0.]]\n",
      "Input Array has Dims: (6, 23) \n",
      "calc deltas of Points\n",
      "===========================\n",
      "calc UVW\n",
      "===========================\n",
      "calc lger\n",
      "calc A-Matrix x-equations\n",
      "calc A-Matrix y-equations\n",
      "===========================\n",
      "[[  1.50000000e-01   0.00000000e+00   0.00000000e+00   0.00000000e+00\n",
      "    0.00000000e+00   0.00000000e+00   0.00000000e+00   0.00000000e+00\n",
      "    0.00000000e+00   0.00000000e+00   0.00000000e+00   0.00000000e+00\n",
      "    0.00000000e+00   0.00000000e+00   0.00000000e+00   0.00000000e+00\n",
      "    0.00000000e+00   0.00000000e+00   0.00000000e+00   0.00000000e+00\n",
      "    0.00000000e+00   0.00000000e+00   0.00000000e+00]\n",
      " [  1.00000000e+00   1.36015800e+03  -1.40330200e+03  -1.80226400e+03\n",
      "    1.10000000e-01   1.10000000e-01   1.47346358e+03   1.37064939e+03\n",
      "   -1.73714339e+03   1.27231602e-01   1.18353735e-01  -5.04750744e-06\n",
      "    8.73724374e-05  -7.18403762e-05   2.58417330e-01   1.02739289e-01\n",
      "    1.24261938e-01  -4.88453820e-06   8.72972849e-05  -6.67329155e-05\n",
      "    1.10653833e-01   2.52546433e-01  -1.33582988e-01]\n",
      " [  2.00000000e+00   1.03739800e+03   1.02511800e+03  -1.50226400e+03\n",
      "   -1.10000000e-01   1.10000000e-01  -9.68307786e+02   1.11622919e+03\n",
      "   -1.48333108e+03  -9.79189139e-02   1.12877281e-01  -1.07093798e-06\n",
      "    1.00090651e-04   6.75605211e-05   4.02571469e-01  -6.64268206e-02\n",
      "    1.10557528e-01  -5.60259814e-06   1.02180404e-04  -7.44618435e-05\n",
      "   -5.33493970e-02   4.10821384e-01   9.59065720e-02]\n",
      " [  3.00000000e+00  -1.25459200e+03   1.13788800e+03  -1.70226400e+03\n",
      "   -1.10000000e-01  -1.10000000e-01  -1.14985104e+03  -1.16358650e+03\n",
      "   -1.75795391e+03  -9.81127288e-02  -9.92847275e-02  -9.00123225e-07\n",
      "    8.44531368e-05   5.71165802e-05   2.71967373e-01   7.80280914e-02\n",
      "   -9.51748070e-02  -8.78863760e-07   8.44433331e-05   5.77828525e-05\n",
      "    8.07933851e-02   2.76406594e-01   9.40513235e-02]\n",
      " [  4.00000000e+00  -1.32640200e+03  -1.42296200e+03  -1.75226400e+03\n",
      "    1.10000000e-01  -1.10000000e-01   1.40794961e+03  -1.31541559e+03\n",
      "   -1.77255521e+03   1.19145762e-01  -1.11315200e-01  -4.80120432e-06\n",
      "    8.55598446e-05  -6.58462884e-05   2.53901707e-01  -7.52622266e-02\n",
      "   -1.14087984e-01  -6.55195113e-07   8.36479319e-05   6.40897638e-05\n",
      "   -7.85598027e-02   2.45340051e-01  -1.22113599e-01]\n",
      " [  0.00000000e+00   1.13200000e+00   1.13200000e+00   2.00226400e+03\n",
      "   -3.14159265e-02   1.57079633e-02  -1.53938040e+00   0.00000000e+00\n",
      "    0.00000000e+00   0.00000000e+00   0.00000000e+00   0.00000000e+00\n",
      "    0.00000000e+00   0.00000000e+00   0.00000000e+00   0.00000000e+00\n",
      "    0.00000000e+00   0.00000000e+00   0.00000000e+00   0.00000000e+00\n",
      "    0.00000000e+00   0.00000000e+00   0.00000000e+00]]\n"
     ]
    }
   ],
   "source": [
    "#p1 = RRWS.Point(1,    1361.29,  -1402.17,       200,   0.110,   0.110)  \n",
    "#p2 = RRWS.Point(2,    1038.53,    1026.25,      500,  -0.110,   0.110)\n",
    "#p3 = RRWS.Point(3,   -1253.46,    1139.02,      300,  -0.110,  -0.110)\n",
    "#p4 = RRWS.Point(4,   -1325.27,   -1421.83,      250,   0.110,  -0.110)\n",
    "#pEO= RRWS.Point('EO',   1.132,      1.132, 2002.264,       0,       0)  \n",
    " \n",
    "\n",
    "c=0.15  \n",
    "x0IO=0.0     \n",
    "y0IO=0.0\n",
    "#1.132  1.132  2002.264    -2.0        1.0     -98.0\n",
    "\n",
    "omegaEO=-2.0*np.pi/200.0          \n",
    "phiEO=1.0*np.pi/200.0     \n",
    "kappaEO=-98.0*np.pi/200.0\n",
    "\n",
    "\n",
    "PointMatIn=np.zeros((6,23))\n",
    "print(PointMatIn)\n",
    "PointMatIn[0,:]=[c,x0IO,y0IO,0,0,0,0,0,0,0,0,0,0,0,0,0,0,0,0,0,0,0,0]\n",
    "PointMatIn[1,:]=[1,    1361.29,  -1402.17,       200,   0.110,   0.110,0,0,0,0,0,0,0,0,0,0,0,0,0,0,0,0,0]\n",
    "PointMatIn[2,:]=[2,    1038.53,    1026.25,      500,  -0.110,   0.110,0,0,0,0,0,0,0,0,0,0,0,0,0,0,0,0,0]\n",
    "PointMatIn[3,:]=[3,   -1253.46,    1139.02,      300,  -0.110,  -0.110,0,0,0,0,0,0,0,0,0,0,0,0,0,0,0,0,0]\n",
    "PointMatIn[4,:]=[4,   -1325.27,   -1421.83,      250,   0.110,  -0.110,0,0,0,0,0,0,0,0,0,0,0,0,0,0,0,0,0]\n",
    "PointMatIn[5,:]=[0,      1.132,      1.132, 2002.264,  omegaEO,  phiEO,kappaEO,0,0,0,0,0,0,0,0,0,0,0,0,0,0,0,0]  \n",
    "\n",
    "#print(PointMatIn)\n",
    "#print('Input Array has Dims: {} '.format(PointMatIn.shape))\n",
    "# rotMat.RyprG(   kappaEO     ,   phiEO       , omegaEO       )\n",
    "R=rotMat.RyprG(PointMatIn[5,6],PointMatIn[5,5],PointMatIn[5,4])\n",
    "\n",
    "Alger=RRWS.calcDifferentials(PointMatIn,R)\n",
    "\n",
    "print('===========================')\n",
    "print(Alger)\n",
    "#Storring all input data in a Matrix Structure"
   ]
  },
  {
   "cell_type": "code",
   "execution_count": 6,
   "metadata": {},
   "outputs": [
    {
     "name": "stdout",
     "output_type": "stream",
     "text": [
      "-0.00000504751 0.00008737244 -0.00007184038\n"
     ]
    }
   ],
   "source": [
    "print(\"%0.11f\" % PointMatIn[1,11],  \"%0.11f\" %PointMatIn[1,12] , \"%0.11f\" %PointMatIn[1,13])"
   ]
  },
  {
   "cell_type": "code",
   "execution_count": 7,
   "metadata": {},
   "outputs": [
    {
     "data": {
      "text/plain": [
       "array([[ -5.04750744e-06,   8.73724374e-05,  -7.18403762e-05],\n",
       "       [ -1.07093798e-06,   1.00090651e-04,   6.75605211e-05],\n",
       "       [ -9.00123225e-07,   8.44531368e-05,   5.71165802e-05],\n",
       "       [ -4.80120432e-06,   8.55598446e-05,  -6.58462884e-05]])"
      ]
     },
     "execution_count": 7,
     "metadata": {},
     "output_type": "execute_result"
    }
   ],
   "source": [
    "PointMatIn[1:5,11:14]"
   ]
  },
  {
   "cell_type": "markdown",
   "metadata": {},
   "source": [
    "**make observation vector**"
   ]
  },
  {
   "cell_type": "code",
   "execution_count": 8,
   "metadata": {},
   "outputs": [
    {
     "name": "stdout",
     "output_type": "stream",
     "text": [
      "[[ 0.11]\n",
      " [-0.11]\n",
      " [-0.11]\n",
      " [ 0.11]\n",
      " [ 0.11]\n",
      " [ 0.11]\n",
      " [-0.11]\n",
      " [-0.11]]\n"
     ]
    }
   ],
   "source": [
    "lgem=np.zeros((8,1))\n",
    "lgem[0:4,0]=Alger[1:5,4]\n",
    "lgem[4:9,0]=Alger[1:5,5]\n",
    "\n",
    "print(lgem)\n"
   ]
  },
  {
   "cell_type": "markdown",
   "metadata": {},
   "source": [
    "**calculate observations from stereo view equations**"
   ]
  },
  {
   "cell_type": "code",
   "execution_count": 9,
   "metadata": {},
   "outputs": [
    {
     "name": "stdout",
     "output_type": "stream",
     "text": [
      "===========================\n",
      "[[ 0.1272316 ]\n",
      " [-0.09791891]\n",
      " [-0.09811273]\n",
      " [ 0.11914576]\n",
      " [ 0.11835373]\n",
      " [ 0.11287728]\n",
      " [-0.09928473]\n",
      " [-0.1113152 ]]\n",
      "[[ 0.0172316 ]\n",
      " [ 0.01208109]\n",
      " [ 0.01188727]\n",
      " [ 0.00914576]\n",
      " [ 0.00835373]\n",
      " [ 0.00287728]\n",
      " [ 0.01071527]\n",
      " [-0.0013152 ]]\n"
     ]
    }
   ],
   "source": [
    "lger=np.zeros((8,1))\n",
    "lger[0:4,0]=Alger[1:5,9]\n",
    "lger[4:9,0]=Alger[1:5,10]\n",
    "\n",
    "print('===========================')\n",
    "print(lger)\n",
    "\n",
    "dl=lger - lgem\n",
    "print(dl)\n",
    "\n",
    "#https://support.pcigeomatics.com/hc/en-us/articles/203483349-Heading-Pitch-Roll-vs-Omega-Phi-Kappa"
   ]
  },
  {
   "cell_type": "code",
   "execution_count": 5,
   "metadata": {},
   "outputs": [
    {
     "data": {
      "text/plain": [
       "matrix([[ 0.03140688,  0.99899787,  0.0318884 ],\n",
       "        [-0.99938325,  0.0318884 , -0.01470518],\n",
       "        [-0.01570732, -0.03140688,  0.99938325]])"
      ]
     },
     "execution_count": 5,
     "metadata": {},
     "output_type": "execute_result"
    }
   ],
   "source": [
    "omegaEO=-2.0*math.pi/200.0          \n",
    "phiEO=1.0*math.pi/200.0     \n",
    "kappaEO=-98.0*math.pi/200.0\n",
    "\n",
    "rotMat.RyprG(kappaEO,phiEO,omegaEO)\n"
   ]
  },
  {
   "cell_type": "code",
   "execution_count": 4,
   "metadata": {},
   "outputs": [
    {
     "name": "stdout",
     "output_type": "stream",
     "text": [
      "[[ 0.03140688  0.99899787  0.0318884 ]\n",
      " [-0.99938325  0.0318884  -0.01470518]\n",
      " [-0.01570732 -0.03140688  0.99938325]]\n"
     ]
    }
   ],
   "source": [
    "r=omegaEO\n",
    "p=phiEO\n",
    "y=kappaEO\n",
    "Rr = np.matrix([[1.0, 0.0, 0.0],[0.0, math.cos(r), -math.sin(r)],[0.0, math.sin(r), math.cos(r)]])\n",
    "Rp = np.matrix([[math.cos(p), 0.0, math.sin(p)],[0.0, 1.0, 0.0],[-math.sin(p), 0.0, math.cos(p)]])\n",
    "Ry = np.matrix([[math.cos(y), -math.sin(y), 0.0],[math.sin(y), math.cos(y), 0.0],[0.0, 0.0, 1.0]])\n",
    "\n",
    "R= np.dot(np.dot(Ry,Rp),Rr)\n",
    "\n",
    "print(R)\n"
   ]
  },
  {
   "cell_type": "code",
   "execution_count": 11,
   "metadata": {},
   "outputs": [
    {
     "name": "stdout",
     "output_type": "stream",
     "text": [
      "[ 0.]\n"
     ]
    }
   ],
   "source": [
    "delta = np.zeros((3,1))\n",
    "print(delta[1])"
   ]
  },
  {
   "cell_type": "markdown",
   "metadata": {},
   "source": [
    "generate A-Matrix\n",
    "==="
   ]
  },
  {
   "cell_type": "code",
   "execution_count": 12,
   "metadata": {},
   "outputs": [
    {
     "name": "stdout",
     "output_type": "stream",
     "text": [
      "(8, 6)\n"
     ]
    }
   ],
   "source": [
    "A1=Alger[1:5,11:17]\n",
    "A2=Alger[1:5,17:23]\n",
    "A=np.concatenate(( A1,A2),axis=0)\n",
    "\n",
    "print(A.shape)"
   ]
  },
  {
   "cell_type": "markdown",
   "metadata": {},
   "source": [
    "Cal Adjustment Interation\n",
    "==="
   ]
  },
  {
   "cell_type": "code",
   "execution_count": 13,
   "metadata": {},
   "outputs": [
    {
     "name": "stdout",
     "output_type": "stream",
     "text": [
      "[[ -8.19200000e+03]\n",
      " [ -3.72000000e+02]\n",
      " [  2.08000000e+02]\n",
      " [  5.52320040e-02]\n",
      " [  2.96961109e-02]\n",
      " [  3.29426194e-03]]\n"
     ]
    }
   ],
   "source": [
    "N=np.dot(A.T,A)\n",
    "Qxx=np.linalg.inv(N)\n",
    "dx=np.dot(Qxx,np.dot(A.T,dl))\n",
    "print(dx)"
   ]
  },
  {
   "cell_type": "markdown",
   "metadata": {},
   "source": [
    "Update Unknowns\n",
    "==="
   ]
  },
  {
   "cell_type": "code",
   "execution_count": 14,
   "metadata": {},
   "outputs": [
    {
     "name": "stdout",
     "output_type": "stream",
     "text": [
      "(6, 23)\n",
      "(6, 23)\n"
     ]
    }
   ],
   "source": [
    "print(PointMatIn.shape)\n",
    "PointMatUpdate=PointMatIn\n",
    "print(PointMatUpdate.shape)\n",
    "PointMatUpdate[5,:]=[0,      dx[0,0],      dx[1,0], dx[2,0],  dx[3,0],  dx[5,0],dx[5,0],0,0,0,0,0,0,0,0,0,0,0,0,0,0,0,0]  \n"
   ]
  },
  {
   "cell_type": "code",
   "execution_count": 15,
   "metadata": {},
   "outputs": [
    {
     "name": "stdout",
     "output_type": "stream",
     "text": [
      "0.00329426193674\n"
     ]
    }
   ],
   "source": [
    "print(dx[5,0])"
   ]
  },
  {
   "cell_type": "code",
   "execution_count": 16,
   "metadata": {},
   "outputs": [
    {
     "name": "stdout",
     "output_type": "stream",
     "text": [
      "Input Array has Dims: (6, 23) \n",
      "calc deltas of Points\n",
      "===========================\n",
      "calc UVW\n",
      "===========================\n",
      "calc lger\n",
      "calc A-Matrix x-equations\n",
      "calc A-Matrix y-equations\n",
      "===========================\n",
      "[[  1.50000000e-01   0.00000000e+00   0.00000000e+00   0.00000000e+00\n",
      "    0.00000000e+00   0.00000000e+00   0.00000000e+00   0.00000000e+00\n",
      "    0.00000000e+00   0.00000000e+00   0.00000000e+00   0.00000000e+00\n",
      "    0.00000000e+00   0.00000000e+00   0.00000000e+00   0.00000000e+00\n",
      "    0.00000000e+00   0.00000000e+00   0.00000000e+00   0.00000000e+00\n",
      "    0.00000000e+00   0.00000000e+00   0.00000000e+00]\n",
      " [  1.00000000e+00   9.55215800e+03  -1.03130200e+03  -2.01026400e+03\n",
      "    1.10000000e-01   1.10000000e-01   9.55527931e+03  -1.17038043e+03\n",
      "   -1.91711101e+03   7.47631144e-01  -9.15737603e-02  -7.95955227e-05\n",
      "    2.12662251e-05  -3.89123473e-04   4.43319760e-01   3.87774507e+00\n",
      "   -9.16539024e-02  -7.80760804e-05  -2.89411889e-06   4.79511940e-05\n",
      "    7.65734282e+00  -4.57803268e-01  -7.48285444e-01]\n",
      " [  2.00000000e+00   9.22939800e+03   1.39711800e+03  -1.71026400e+03\n",
      "   -1.10000000e-01   1.10000000e-01   9.23953433e+03   1.27188880e+03\n",
      "   -1.75272170e+03   7.90730294e-01   1.08849751e-01  -8.71462095e-05\n",
      "    2.46179850e-05  -4.50171916e-04  -5.88673427e-01   4.62366847e+00\n",
      "    1.08952037e-01  -8.57958209e-05   3.14572808e-06  -6.17263067e-05\n",
      "    8.86820257e+00   5.71248867e-01  -7.91473343e-01]\n",
      " [  3.00000000e+00   6.93740800e+03   1.50988800e+03  -1.91026400e+03\n",
      "   -1.10000000e-01  -1.10000000e-01   6.94859954e+03   1.38056765e+03\n",
      "   -1.96659539e+03   5.29997139e-01   1.05301349e-01  -7.72085760e-05\n",
      "    1.46231839e-05  -2.68836152e-04  -3.83773591e-01   3.66175579e+00\n",
      "    1.05367905e-01  -7.64589815e-05   2.70403343e-06  -5.32117925e-05\n",
      "    5.60644298e+00   3.65564061e-01  -5.30332126e-01]\n",
      " [  4.00000000e+00   6.86559800e+03  -1.05096200e+03  -1.96026400e+03\n",
      "    1.10000000e-01  -1.10000000e-01   6.86851899e+03  -1.17890201e+03\n",
      "   -1.87542767e+03   5.49356215e-01  -9.42906542e-02  -8.09976458e-05\n",
      "    1.59037684e-05  -2.92211422e-04   3.31644852e-01   4.05077179e+00\n",
      "   -9.43511146e-02  -7.98063742e-05  -3.03840038e-06   5.04634219e-05\n",
      "    6.12004141e+00  -3.52616219e-01  -5.49708470e-01]\n",
      " [  0.00000000e+00  -8.19200000e+03  -3.72000000e+02   2.08000000e+02\n",
      "    5.52320040e-02   3.29426194e-03   3.29426194e-03   0.00000000e+00\n",
      "    0.00000000e+00   0.00000000e+00   0.00000000e+00   0.00000000e+00\n",
      "    0.00000000e+00   0.00000000e+00   0.00000000e+00   0.00000000e+00\n",
      "    0.00000000e+00   0.00000000e+00   0.00000000e+00   0.00000000e+00\n",
      "    0.00000000e+00   0.00000000e+00   0.00000000e+00]]\n"
     ]
    }
   ],
   "source": [
    "R=rotMat.RyprG(PointMatUpdate[5,6],PointMatUpdate[5,5],PointMatUpdate[5,4])\n",
    "\n",
    "Alger2=RRWS.calcDifferentials(PointMatUpdate,R)\n",
    "\n",
    "print('===========================')\n",
    "print(Alger2)\n"
   ]
  },
  {
   "cell_type": "code",
   "execution_count": 17,
   "metadata": {},
   "outputs": [
    {
     "name": "stdout",
     "output_type": "stream",
     "text": [
      "(8, 6)\n"
     ]
    }
   ],
   "source": [
    "A1=Alger2[1:5,11:17]\n",
    "A2=Alger2[1:5,17:23]\n",
    "A=np.concatenate(( A1,A2),axis=0)\n",
    "\n",
    "print(A.shape)"
   ]
  },
  {
   "cell_type": "markdown",
   "metadata": {},
   "source": [
    "**make the Delta Vector between observations and calculated observations**"
   ]
  },
  {
   "cell_type": "code",
   "execution_count": 18,
   "metadata": {},
   "outputs": [
    {
     "name": "stdout",
     "output_type": "stream",
     "text": [
      "===========================\n",
      "[[ 0.74763114]\n",
      " [ 0.79073029]\n",
      " [ 0.52999714]\n",
      " [ 0.54935622]\n",
      " [-0.09157376]\n",
      " [ 0.10884975]\n",
      " [ 0.10530135]\n",
      " [-0.09429065]]\n",
      "[[ 0.63763114]\n",
      " [ 0.90073029]\n",
      " [ 0.63999714]\n",
      " [ 0.43935622]\n",
      " [-0.20157376]\n",
      " [-0.00115025]\n",
      " [ 0.21530135]\n",
      " [ 0.01570935]]\n"
     ]
    }
   ],
   "source": [
    "lger=np.zeros((8,1))\n",
    "lger[0:4,0]=Alger2[1:5,9]\n",
    "lger[4:9,0]=Alger2[1:5,10]\n",
    "\n",
    "print('===========================')\n",
    "print(lger)\n",
    "\n",
    "dl=lger - lgem\n",
    "print(dl)\n"
   ]
  },
  {
   "cell_type": "code",
   "execution_count": 19,
   "metadata": {},
   "outputs": [
    {
     "name": "stdout",
     "output_type": "stream",
     "text": [
      "[[ -3.90400000e+03]\n",
      " [ -7.53664000e+05]\n",
      " [ -4.50560000e+04]\n",
      " [  5.03911598e-02]\n",
      " [ -1.41308375e-01]\n",
      " [  1.30878805e+00]]\n"
     ]
    }
   ],
   "source": [
    "N=np.dot(A.T,A)\n",
    "Qxx=np.linalg.inv(N)\n",
    "dx=np.dot(Qxx,np.dot(A.T,dl))\n",
    "print(dx)"
   ]
  },
  {
   "cell_type": "code",
   "execution_count": 20,
   "metadata": {},
   "outputs": [
    {
     "name": "stdout",
     "output_type": "stream",
     "text": [
      "-45056.0\n"
     ]
    }
   ],
   "source": [
    "print(dx[2,0])"
   ]
  },
  {
   "cell_type": "code",
   "execution_count": null,
   "metadata": {},
   "outputs": [],
   "source": []
  }
 ],
 "metadata": {
  "kernelspec": {
   "display_name": "Python 3",
   "language": "python",
   "name": "python3"
  },
  "language_info": {
   "codemirror_mode": {
    "name": "ipython",
    "version": 3
   },
   "file_extension": ".py",
   "mimetype": "text/x-python",
   "name": "python",
   "nbconvert_exporter": "python",
   "pygments_lexer": "ipython3",
   "version": "3.6.1"
  }
 },
 "nbformat": 4,
 "nbformat_minor": 2
}
