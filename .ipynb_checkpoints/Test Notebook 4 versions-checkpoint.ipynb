{
 "cells": [
  {
   "cell_type": "code",
   "execution_count": 1,
   "metadata": {},
   "outputs": [
    {
     "name": "stdout",
     "output_type": "stream",
     "text": [
      "3.6.1 |Anaconda 4.4.0 (x86_64)| (default, May 11 2017, 13:04:09) \n",
      "[GCC 4.2.1 Compatible Apple LLVM 6.0 (clang-600.0.57)]\n"
     ]
    }
   ],
   "source": [
    "import sys\n",
    "print(sys.version)"
   ]
  },
  {
   "cell_type": "code",
   "execution_count": 2,
   "metadata": {},
   "outputs": [
    {
     "name": "stdout",
     "output_type": "stream",
     "text": [
      "3.6.1\n"
     ]
    }
   ],
   "source": [
    "import platform\n",
    "print(platform.python_version())\n"
   ]
  },
  {
   "cell_type": "code",
   "execution_count": 1,
   "metadata": {
    "collapsed": true
   },
   "outputs": [],
   "source": [
    "import scipy\n"
   ]
  },
  {
   "cell_type": "code",
   "execution_count": 2,
   "metadata": {
    "collapsed": true
   },
   "outputs": [],
   "source": [
    "import numpy"
   ]
  },
  {
   "cell_type": "code",
   "execution_count": 1,
   "metadata": {
    "collapsed": true
   },
   "outputs": [],
   "source": [
    "import matplotlib.pyplot as plt\n"
   ]
  },
  {
   "cell_type": "code",
   "execution_count": 2,
   "metadata": {},
   "outputs": [
    {
     "ename": "ModuleNotFoundError",
     "evalue": "No module named 'icalendar'",
     "output_type": "error",
     "traceback": [
      "\u001b[0;31m---------------------------------------------------------------------------\u001b[0m",
      "\u001b[0;31mModuleNotFoundError\u001b[0m                       Traceback (most recent call last)",
      "\u001b[0;32m<ipython-input-2-c50f114cc9f3>\u001b[0m in \u001b[0;36m<module>\u001b[0;34m()\u001b[0m\n\u001b[0;32m----> 1\u001b[0;31m \u001b[0;32mimport\u001b[0m \u001b[0micalendar\u001b[0m\u001b[0;34m\u001b[0m\u001b[0m\n\u001b[0m",
      "\u001b[0;31mModuleNotFoundError\u001b[0m: No module named 'icalendar'"
     ]
    }
   ],
   "source": [
    "import icalendar\n"
   ]
  },
  {
   "cell_type": "code",
   "execution_count": 2,
   "metadata": {
    "collapsed": true
   },
   "outputs": [],
   "source": [
    "import pandas as pd"
   ]
  },
  {
   "cell_type": "code",
   "execution_count": 5,
   "metadata": {
    "collapsed": true
   },
   "outputs": [],
   "source": [
    "usr=pd.read_csv('new_afs_active_user.txt')"
   ]
  },
  {
   "cell_type": "code",
   "execution_count": 9,
   "metadata": {},
   "outputs": [
    {
     "name": "stdout",
     "output_type": "stream",
     "text": [
      "                     user\n",
      "0            user.chschub\n",
      "1            user.cschell\n",
      "2            user.korovin\n",
      "3            user.mahdigo\n",
      "4             user.marcof\n",
      "5           user.npurnima\n",
      "6               user.siva\n",
      "7            user.support\n",
      "10          user.devchand\n",
      "17          user.skrueger\n",
      "23       user.ctroessaert\n",
      "24            user.komors\n",
      "29         user.cscharrer\n",
      "33            user.lahiri\n",
      "45           user.cmaurei\n",
      "56         user.msantilli\n",
      "78               user.ute\n",
      "85          user.sheinich\n",
      "96             user.menne\n",
      "98          user.moncrief\n",
      "102            user.barta\n",
      "121           user.ghanem\n",
      "122          user.koholka\n",
      "140           user.stefan\n",
      "154           user.ianhin\n",
      "158        user.saghapour\n",
      "164         user.matthias\n",
      "172            user.mrose\n",
      "173         user.ndadhich\n",
      "185           user.goessl\n",
      "186            user.iracz\n",
      "195         user.vraymond\n",
      "203   user.rbhattacharyya\n",
      "212            user.zbo3b\n",
      "228        user.tdietrich\n",
      "242            user.yfang\n",
      "255           user.fhaase\n",
      "268              user.pau\n",
      "273          user.alibeck\n",
      "275        user.dkorotkin\n",
      "303        user.mlaurisch\n",
      "307          user.stefgru\n",
      "341     user.alewandowski\n",
      "379             user.axkl\n",
      "44\n"
     ]
    }
   ],
   "source": [
    "print(usr.drop_duplicates(subset=None, keep='first'))\n",
    "print(len(usr.drop_duplicates(subset=None, keep='first')))"
   ]
  },
  {
   "cell_type": "code",
   "execution_count": 3,
   "metadata": {
    "collapsed": true
   },
   "outputs": [],
   "source": [
    "import icalendar as cal"
   ]
  },
  {
   "cell_type": "code",
   "execution_count": 5,
   "metadata": {},
   "outputs": [
    {
     "name": "stdout",
     "output_type": "stream",
     "text": [
      "Connected to Zabbix API Version 3.4.12\n",
      "10392\n",
      "10322\n",
      "10337\n",
      "10340\n",
      "10265\n",
      "10380\n",
      "10383\n",
      "10360\n",
      "10266\n",
      "10267\n",
      "10268\n",
      "10269\n",
      "10270\n",
      "10271\n",
      "10272\n",
      "10384\n",
      "10385\n",
      "10361\n",
      "10349\n",
      "10355\n",
      "10351\n",
      "10342\n",
      "10343\n",
      "10341\n",
      "10345\n",
      "10346\n",
      "10347\n",
      "10348\n",
      "10338\n",
      "10364\n",
      "10395\n",
      "10334\n",
      "10283\n",
      "10284\n",
      "10273\n",
      "10309\n",
      "10310\n",
      "10311\n",
      "10312\n",
      "10313\n",
      "10314\n",
      "10315\n",
      "10286\n",
      "10303\n",
      "10304\n",
      "10305\n",
      "10306\n",
      "10307\n",
      "10308\n",
      "10399\n",
      "10403\n",
      "10382\n",
      "10319\n",
      "10320\n",
      "10324\n",
      "10279\n",
      "10406\n",
      "10326\n",
      "10327\n",
      "10328\n",
      "10365\n",
      "10366\n",
      "10329\n",
      "10297\n",
      "10339\n",
      "10376\n",
      "10405\n",
      "10368\n",
      "10377\n",
      "10369\n",
      "10378\n",
      "10370\n",
      "10371\n",
      "10373\n",
      "10379\n",
      "10352\n",
      "10374\n",
      "10084\n",
      "10296\n",
      "10325\n",
      "10404\n",
      "10353\n",
      "10354\n",
      "10358\n",
      "10362\n",
      "10293\n",
      "10294\n",
      "10295\n",
      "10333\n",
      "10390\n",
      "10299\n",
      "10302\n",
      "10330\n",
      "10331\n",
      "10332\n",
      "10359\n",
      "10335\n",
      "10336\n",
      "10344\n",
      "10356\n",
      "10357\n",
      "10363\n",
      "10367\n",
      "10372\n",
      "10375\n",
      "10300\n",
      "10280\n",
      "10389\n",
      "10281\n",
      "10282\n",
      "10287\n",
      "10288\n",
      "10289\n",
      "10290\n",
      "10291\n",
      "10292\n",
      "10386\n",
      "10387\n",
      "10285\n",
      "10323\n",
      "10388\n",
      "10407\n",
      "10298\n"
     ]
    }
   ],
   "source": [
    "\n",
    "from pyzabbix import ZabbixAPI\n",
    "\n",
    "zapi = ZabbixAPI(\"https://monitoring.aei.mpg.de\")\n",
    "\n",
    "#https://monitoring.aei.mpg.de/screens.php?elementid=51\n",
    "    \n",
    "    \n",
    "zapi.login(\"richter\", \"\")\n",
    "print(\"Connected to Zabbix API Version %s\" % zapi.api_version())\n",
    "\n",
    "for h in zapi.host.get(output=\"extend\"):\n",
    "    print(h['hostid'])"
   ]
  },
  {
   "cell_type": "code",
   "execution_count": 3,
   "metadata": {},
   "outputs": [],
   "source": [
    "from pyzabbix import ZabbixAPI\n",
    "\n",
    "# Create ZabbixAPI class instance\n",
    "zapi = ZabbixAPI(\"https://monitoring.aei.mpg.de\")\n",
    "zapi.login(\"richter\", \"\")\n",
    "# Get all disabled hosts\n",
    "result = zapi.host.get(status=1)\n",
    "hostnames = [host['host'] for host in result]\n",
    "for hostname in hostnames:\n",
    "    if \"Math-\" in hostname:\n",
    "        print(hostname)\n",
    "# Other way to get all disabled hosts\n",
    "#result2 = zapi.do_request('host.get', {'status':1})\n",
    "#hostnames2 = [host['host'] for host in result2['result']]"
   ]
  },
  {
   "cell_type": "code",
   "execution_count": 4,
   "metadata": {},
   "outputs": [
    {
     "data": {
      "text/plain": [
       "['Kentix42',\n",
       " 'zfs-JBOD1',\n",
       " 'cohort',\n",
       " 'db1',\n",
       " '192.168.17.11',\n",
       " '192.168.17.19',\n",
       " 'enviromux_U66',\n",
       " 'mailgate',\n",
       " '192.168.17.1',\n",
       " '192.168.17.20',\n",
       " '192.168.17.21',\n",
       " '192.168.17.22',\n",
       " '192.168.17.30',\n",
       " '192.168.17.31',\n",
       " '192.168.17.32',\n",
       " 'enviromux_U67',\n",
       " 'enviromux_U69',\n",
       " 'mailgate2',\n",
       " 'google',\n",
       " 'lea',\n",
       " 'heise',\n",
       " 'debian-repo.aei.mpg.de',\n",
       " 'dnsserv',\n",
       " 'db2',\n",
       " 'dwight2',\n",
       " 'eo',\n",
       " 'flexo',\n",
       " 'git',\n",
       " 'cumulus',\n",
       " 'plonedev',\n",
       " 'backupi-01',\n",
       " 'athene',\n",
       " 'Kentix25',\n",
       " 'Kentix26',\n",
       " '192.168.17.10',\n",
       " 'Ricoh-C430DN_bib-1og',\n",
       " 'Ricoh-C430DN_bib-eg',\n",
       " 'Ricoh-C830_0.25',\n",
       " 'secretary_1.003',\n",
       " 'secretary_1.007',\n",
       " 'secretary_1.009',\n",
       " 'secretary_1.14',\n",
       " 'Kentix28',\n",
       " 'Lehmann_drucker',\n",
       " 'Ricoh-C305_1.25',\n",
       " 'Ricoh-C305_1.61',\n",
       " 'Ricoh-C430DN_0.61',\n",
       " 'Ricoh-C430DN_2.25',\n",
       " 'Ricoh-C430DN_2.61',\n",
       " 'zero.aei.mpg.de',\n",
       " 'web-prode-01',\n",
       " 'enviromux_0.13',\n",
       " 'ESX-Store-3',\n",
       " 'ESX-Store-2',\n",
       " 'zfs-serv1.aei.mpg.de',\n",
       " 'Kentix21',\n",
       " '192.168.17.41',\n",
       " '4c4c4544-004e-4a10-8030-b2c04f595831',\n",
       " '4c4c4544-004e-4810-8058-b4c04f585831',\n",
       " '4c4c4544-004e-4810-8059-b4c04f585831',\n",
       " 'printg',\n",
       " 'radius',\n",
       " 'sbrainslug10',\n",
       " 'kentix40',\n",
       " 'datamover4',\n",
       " 'veeambackup2',\n",
       " '192.168.17.14',\n",
       " 'sshserv.aei.mpg.de',\n",
       " 'veeamrepo',\n",
       " 'sshserv2.aei.mpg.de',\n",
       " 'veeamrepo2',\n",
       " 'sucs',\n",
       " 'svn',\n",
       " 'ucs',\n",
       " 'wolke7',\n",
       " 'intranet',\n",
       " 'umail2',\n",
       " 'monitoring.aei.mpg.de',\n",
       " 'Kentix39',\n",
       " 'zfs-serv2.aei.mpg.de',\n",
       " 'web-prode-02',\n",
       " 'intranet.aei.uni-hannover.de',\n",
       " 'it-web',\n",
       " 'lns01',\n",
       " 'minerva.aei.mpg.de',\n",
       " 'Kentix35',\n",
       " 'Kentix36',\n",
       " 'Kentix37',\n",
       " 'ahvzabbix.aei.uni-hannover.de',\n",
       " 'Kentix43',\n",
       " 'APOSTAR 1.13',\n",
       " 'IT_103',\n",
       " 'afs1',\n",
       " 'afs2',\n",
       " 'afs3',\n",
       " 'luke',\n",
       " 'bucs',\n",
       " 'calculon',\n",
       " 'dnsserv2',\n",
       " 'licenses',\n",
       " 'lists',\n",
       " 'phpdev',\n",
       " 'ringo',\n",
       " 'swift',\n",
       " 'vamy',\n",
       " 'Main_USV',\n",
       " 'Kentix22',\n",
       " 'Kentix44',\n",
       " 'Kentix23',\n",
       " 'Kentix24',\n",
       " 'Kentix29',\n",
       " 'Kentix30',\n",
       " 'Kentix31',\n",
       " 'Kentix32',\n",
       " 'Kentix33',\n",
       " 'Kentix34',\n",
       " 'Lab C008 ParticleCounter',\n",
       " 'Kentix38',\n",
       " 'Kentix27',\n",
       " 'zfs-JBOD2',\n",
       " 'Kentix41',\n",
       " 'koha',\n",
       " 'Kentix119']"
      ]
     },
     "execution_count": 4,
     "metadata": {},
     "output_type": "execute_result"
    }
   ],
   "source": [
    "hostnames"
   ]
  },
  {
   "cell_type": "code",
   "execution_count": null,
   "metadata": {
    "collapsed": true
   },
   "outputs": [],
   "source": []
  }
 ],
 "metadata": {
  "kernelspec": {
   "display_name": "Python 3",
   "language": "python",
   "name": "python3"
  },
  "language_info": {
   "codemirror_mode": {
    "name": "ipython",
    "version": 3
   },
   "file_extension": ".py",
   "mimetype": "text/x-python",
   "name": "python",
   "nbconvert_exporter": "python",
   "pygments_lexer": "ipython3",
   "version": "3.6.1"
  }
 },
 "nbformat": 4,
 "nbformat_minor": 2
}
