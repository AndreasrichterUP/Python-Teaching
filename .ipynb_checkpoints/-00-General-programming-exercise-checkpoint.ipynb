{
 "cells": [
  {
   "cell_type": "markdown",
   "metadata": {},
   "source": [
    "General exercises in programming   (2018)\n",
    "------------------------------"
   ]
  },
  {
   "cell_type": "markdown",
   "metadata": {},
   "source": [
    "**I) Intro **\n",
    "1. Create a vector x=[ 1 2 3 4 5 6 7 8 9 10 ]\n",
    "2. Calculate the vector y = sin(x)\n",
    "3. Sort the vektor y in ascending/ decending order\n",
    "4. Sort x in the same way\n",
    "5. Change the elements order in vector y\n",
    "6. Plot x against y "
   ]
  },
  {
   "cell_type": "code",
   "execution_count": null,
   "metadata": {
    "collapsed": true
   },
   "outputs": [],
   "source": []
  },
  {
   "cell_type": "markdown",
   "metadata": {},
   "source": [
    "**II) Indexing**\n",
    "1. Create two vectors:\n",
    "     A = [2 4 5 7 3 2 4 5 ] and\n",
    "     B = [2 3 45 54 56 6 7 20 19 3 6]\n",
    "2. Find the elements in A which are also present in B\n",
    "3. Extract the elements in B with the linear Index A\n",
    "4. Extract the elements in B which are not in A\n",
    "5. Extract every second element from B and every third element from A and put them together in a new column vector C."
   ]
  },
  {
   "cell_type": "code",
   "execution_count": null,
   "metadata": {
    "collapsed": true
   },
   "outputs": [],
   "source": []
  },
  {
   "cell_type": "markdown",
   "metadata": {},
   "source": [
    "**III) Strings**\n",
    "1. Create a  textvariable with the Text: **'Programming is easier than I thought.'**\n",
    "2. Count the number of words automaticaly.\n",
    "3. Exchange the word 'easier' to 'simpler'  "
   ]
  },
  {
   "cell_type": "code",
   "execution_count": null,
   "metadata": {
    "collapsed": true
   },
   "outputs": [],
   "source": []
  },
  {
   "cell_type": "markdown",
   "metadata": {},
   "source": [
    "**IV) Statistics**\n",
    "1. Create a column vector **x** with 50 random numbers from a normal distribution with a mean value of 3 and a standard deviation of 1.5\n",
    "2. Estimate the mean value and the std from the random sample\n",
    "3. Calculate the standard error of the mean value from the sample. Is the theoretical mean (3) inside the standard error intervall of the estimated mean value?\n",
    "4. Create another vector **y = 4*x+3** and add normally distributed errors with a standard deviation of 2\n",
    "5. Calculate a regression line between x (independent) and y (dependent variable) and plot the results together with the data x and y.\n",
    "6. Create a column vector with the group-numbers  G = [1 1 1 3 3 2 2 2 2 1 1 1 3 3 3 3 ] and a row vector of equal size with a equaly distributed continous random variable between the values 5 and 10\n",
    "7. Calculate the mean values and the standard deviations in the groups 1 - 3"
   ]
  },
  {
   "cell_type": "code",
   "execution_count": null,
   "metadata": {
    "collapsed": true
   },
   "outputs": [],
   "source": []
  }
 ],
 "metadata": {
  "kernelspec": {
   "display_name": "Python 3",
   "language": "python",
   "name": "python3"
  },
  "language_info": {
   "codemirror_mode": {
    "name": "ipython",
    "version": 3
   },
   "file_extension": ".py",
   "mimetype": "text/x-python",
   "name": "python",
   "nbconvert_exporter": "python",
   "pygments_lexer": "ipython3",
   "version": "3.6.1"
  }
 },
 "nbformat": 4,
 "nbformat_minor": 2
}
