{
 "cells": [
  {
   "cell_type": "code",
   "execution_count": 11,
   "metadata": {},
   "outputs": [
    {
     "name": "stdout",
     "output_type": "stream",
     "text": [
      "1\n",
      "0\n",
      "y\n"
     ]
    }
   ],
   "source": [
    "import string\n",
    "\n",
    "print(string.ascii_uppercase.index('B'))\n",
    "\n",
    "print(string.ascii_lowercase.index('a'))\n",
    "\n",
    "print(string.ascii_letters[24])\n",
    "\n",
    "#print(string.lowercase.index('b'))"
   ]
  },
  {
   "cell_type": "markdown",
   "metadata": {},
   "source": [
    "**Chiffre**"
   ]
  },
  {
   "cell_type": "code",
   "execution_count": 7,
   "metadata": {},
   "outputs": [
    {
     "name": "stdout",
     "output_type": "stream",
     "text": [
      "[12, 14, 13, 3]\n",
      "npoe\n"
     ]
    }
   ],
   "source": [
    "Wort='mond'\n",
    "#print(Wort)\n",
    "WortIndex=getIndexOfLetter(list(Wort))\n",
    "print(WortIndex)\n",
    "WortIndex1=[item+1 for item in WortIndex]\n",
    "#print(WortIndex1)\n",
    "Wortchif=getLetter(WortIndex1)    \n",
    "str1 = ''.join(Wortchif)\n",
    "print(str1)"
   ]
  },
  {
   "cell_type": "markdown",
   "metadata": {},
   "source": [
    "**DeChiffre**"
   ]
  },
  {
   "cell_type": "code",
   "execution_count": 3,
   "metadata": {},
   "outputs": [
    {
     "name": "stdout",
     "output_type": "stream",
     "text": [
      "Bnfjtf\n",
      "[27, 13, 5, 9, 19, 5]\n",
      "[26, 12, 4, 8, 18, 4]\n",
      "Ameise\n"
     ]
    }
   ],
   "source": [
    "Wort='Bnfjtf'\n",
    "print(Wort)\n",
    "WortIndex=getIndexOfLetter(list(Wort))\n",
    "print(WortIndex)\n",
    "\n",
    "WortIndex1=[item-1 for item in WortIndex]\n",
    "\n",
    "print(WortIndex1)\n",
    "\n",
    "Wortchif=getLetter(WortIndex1)    \n",
    "str1 = ''.join(Wortchif)\n",
    "print(str1)\n",
    "      \n",
    "      \n",
    "#WortIndex=WortIndex+1"
   ]
  },
  {
   "cell_type": "code",
   "execution_count": 1,
   "metadata": {},
   "outputs": [],
   "source": [
    "import string\n",
    "def getIndexOfLetter(w):\n",
    "    ind=[]\n",
    "    for let in w: ind.append(string.ascii_letters.index(let))\n",
    "    return ind\n",
    "\n",
    "def getLetter(w):\n",
    "    ind=[]\n",
    "    for let in w: ind.append(string.ascii_letters[let])\n",
    "    return ind\n"
   ]
  },
  {
   "cell_type": "code",
   "execution_count": 47,
   "metadata": {},
   "outputs": [
    {
     "data": {
      "text/plain": [
       "'b'"
      ]
     },
     "execution_count": 47,
     "metadata": {},
     "output_type": "execute_result"
    }
   ],
   "source": [
    "string.ascii_letters[1]"
   ]
  },
  {
   "cell_type": "code",
   "execution_count": 1,
   "metadata": {},
   "outputs": [
    {
     "data": {
      "text/plain": [
       "6.2208"
      ]
     },
     "execution_count": 1,
     "metadata": {},
     "output_type": "execute_result"
    }
   ],
   "source": [
    "(2*2*18*2.7*(10**9) *32)/10**12"
   ]
  },
  {
   "cell_type": "code",
   "execution_count": 2,
   "metadata": {},
   "outputs": [
    {
     "data": {
      "text/plain": [
       "5.9136"
      ]
     },
     "execution_count": 2,
     "metadata": {},
     "output_type": "execute_result"
    }
   ],
   "source": [
    "(2*2*22*2.1*(10**9) *32)/10**12"
   ]
  },
  {
   "cell_type": "code",
   "execution_count": 3,
   "metadata": {},
   "outputs": [
    {
     "data": {
      "text/plain": [
       "6.912"
      ]
     },
     "execution_count": 3,
     "metadata": {},
     "output_type": "execute_result"
    }
   ],
   "source": [
    "(2*2*18*3*(10**9) *32)/10**12"
   ]
  },
  {
   "cell_type": "code",
   "execution_count": 38,
   "metadata": {},
   "outputs": [
    {
     "data": {
      "text/plain": [
       "6.2208"
      ]
     },
     "execution_count": 38,
     "metadata": {},
     "output_type": "execute_result"
    }
   ],
   "source": [
    "(2*2*18*2.7*(10**9) *32)/10**12"
   ]
  },
  {
   "cell_type": "code",
   "execution_count": 40,
   "metadata": {},
   "outputs": [
    {
     "data": {
      "text/plain": [
       "1.024"
      ]
     },
     "execution_count": 40,
     "metadata": {},
     "output_type": "execute_result"
    }
   ],
   "source": [
    "(2*32*2.0*(10**9) *8)/10**12"
   ]
  },
  {
   "cell_type": "markdown",
   "metadata": {},
   "source": [
    "$\\sum$\n"
   ]
  },
  {
   "cell_type": "code",
   "execution_count": null,
   "metadata": {},
   "outputs": [],
   "source": []
  },
  {
   "cell_type": "code",
   "execution_count": null,
   "metadata": {},
   "outputs": [],
   "source": []
  },
  {
   "cell_type": "code",
   "execution_count": 8,
   "metadata": {},
   "outputs": [
    {
     "name": "stdout",
     "output_type": "stream",
     "text": [
      "b'  \\r\\n<!DOCTYPE html>\\r\\n<script async=\\'async\\' src=\\'https://www.googletagservices.com/tag/js/gpt.js\\'></script>\\r\\n<script>\\r\\n    var googletag = googletag || {};\\r\\n    googletag.cmd = googletag.cmd || [];\\r\\n</script>\\r\\n<SCRIPT >\\r\\n  \\r\\nfunction go(street)\\r\\n{\\r\\n\\tvar lat=window.document.forms[\\'dlg\\'].lat.value;\\r\\n\\tvar lon=window.document.forms[\\'dlg\\'].lon.value\\r\\n\\twindow.location.href=\\'mobilelist.php?street=\\'+street+\\'&lat=\\'+lat+\\'&lon=\\'+lon;\\r\\n}\\r\\n\\r\\nfunction goumkreis()\\r\\n{\\r\\n\\tvar lat=window.document.forms[\\'dlg\\'].lat.value;\\r\\n\\tvar lon=window.document.forms[\\'dlg\\'].lon.value\\r\\n\\twindow.location.href=\\'mobilelist.php?lat=\\'+lat+\\'&lon=\\'+lon;\\r\\n}\\r\\n\\r\\nfunction gobl(bl)\\r\\n{\\r\\n\\tvar lat=window.document.forms[\\'dlg\\'].lat.value;\\r\\n\\tvar lon=window.document.forms[\\'dlg\\'].lon.value;\\r\\n\\twindow.location.href=\\'mobilelist.php?bl=\\'+bl+\\'&lat=\\'+lat+\\'&lon=\\'+lon;\\r\\n}\\r\\n\\r\\nfunction gohome(nr)\\r\\n{\\r\\n\\tvar lat=window.document.forms[\\'dlg\\'].lat.value;\\r\\n\\tvar lon=window.document.forms[\\'dlg\\'].lon.value;\\r\\n\\twindow.location.href=\\'index.php?c=\\'+nr+\\'&lat=\\'+lat+\\'&lon=\\'+lon;\\r\\n}\\r\\n\\r\\nfunction gobenzin()\\r\\n{\\r\\n\\tvar lat=window.document.forms[\\'dlg\\'].lat.value;\\r\\n\\tvar lon=window.document.forms[\\'dlg\\'].lon.value;\\r\\n\\twindow.location.href=\\'index.php?c=benzin\\'+\\'&lat=\\'+lat+\\'&lon=\\'+lon+\"&w=\"+window.innerWidth;;\\r\\n}\\r\\nfunction goradar()\\r\\n{\\r\\n\\tvar lat=window.document.forms[\\'dlg\\'].lat.value;\\r\\n\\tvar lon=window.document.forms[\\'dlg\\'].lon.value;\\r\\n\\twindow.location.href=\\'index.php?c=radar\\'+\\'&lat=\\'+lat+\\'&lon=\\'+lon;\\r\\n}\\r\\n\\r\\nfunction goeingabe()\\r\\n{\\r\\n\\tvar lat=window.document.forms[\\'dlg\\'].lat.value;\\r\\n\\tvar lon=window.document.forms[\\'dlg\\'].lon.value;\\r\\n\\twindow.location.href=\\'index.php?c=eingabe\\'+\\'&lat=\\'+lat+\\'&lon=\\'+lon;\\r\\n}\\r\\nfunction getLocation()\\r\\n{  \\t\\t \\t\\r\\n  var options = { enableHighAccuracy: true, maximumAge: 100, timeout: 60000 };\\r\\n  if (navigator.geolocation)\\r\\n  {\\r\\n  \\t    // navigator.geolocation.getCurrentPosition(showPosition);\\r\\n\\t     var watchID = navigator.geolocation.watchPosition( showPosition, gotErr, options );\\t   \\r\\n\\t     var timeout = setTimeout( function() { navigator.geolocation.clearWatch( watchID ); }, 5000 );\\t     \\r\\n\\t  } else {\\r\\n\\t\\t  document.getElementById(\\'ubtn\\').style.visibility=\\'hidden\\';\\t\\t  \\r\\n\\t  }\\r\\n}\\r\\n\\r\\n\\r\\nfunction getLocation_test()\\r\\n{  \\t\\t \\t\\r\\n  if (navigator.geolocation)\\r\\n  {\\r\\n  \\t    // navigator.geolocation.getCurrentPosition(showPosition);\\r\\n\\t     var watchID = navigator.geolocation.watchPosition( showPosition, gotErr, options );\\t   \\r\\n\\t     var timeout = setTimeout( function() { navigator.geolocation.clearWatch( watchID ); }, 5000 );\\t     \\r\\n\\t  } else {\\r\\n\\t\\t  document.getElementById(\\'ubtn\\').style.visibility=\\'hidden\\';\\t\\t  \\r\\n\\t  }\\r\\n}\\r\\n\\r\\nfunction showPosition(position)\\r\\n{  \\t\\r\\n\\twindow.document.forms[\\'dlg\\'].lat.value=position.coords.latitude;\\r\\n\\twindow.document.forms[\\'dlg\\'].lon.value=position.coords.longitude;  \\r\\n\\tdocument.getElementById(\\'ubtn\\').style.visibility=\\'visible\\';\\r\\n}\\r\\n\\r\\nfunction gotErr(err)\\r\\n{  \\t\\r\\n\\tvar msg=\\'\\';\\r\\n\\tif (err.code==1) msg=\\'Zugriff auf die Postion nicht erlaubt.\\';\\r\\n\\tif (err.code==2) msg=\\'Position nicht verf\\xfcgbar\\'\\r\\n\\talert(msg);\\r\\n}\\r\\n\\r\\nfunction goRadarDetail(id,entfernung) \\r\\n{\\r\\n   window.location.href=\"index.php?c=radarDetail&id=\"+id+\"&distance=\"+entfernung+\"&w=\"+window.innerWidth;\\r\\n}\\r\\n\\r\\nfunction confirmRadar(id, state) \\r\\n{\\r\\n\\twindow.location.href=\"index.php?c=radarDetail&id=\"+id+\"&confirm=\"+state+\"&w=\"+window.innerWidth;\\r\\n}\\r\\n\\r\\nfunction picUpload(id,backlink) \\r\\n{\\r\\n\\twindow.location.href=\"index.php?c=radarPicUpload&rid=\"+id+\"&backlink=\"+backlink;\\r\\n}\\r\\n\\r\\n\\r\\n\\r\\n\\r\\n</script>\\r\\n\\r\\n<html>\\r\\n<head>\\r\\n\\r\\n    <link rel=\\'stylesheet\\' href=\\'css/bootstrap.min.css\\'>\\r\\n    <link rel=\"stylesheet\" href=\"css/default.css\">\\r\\n    <link rel=\"stylesheet\" href=\"css/glyphicons.css\">\\r\\n    <link rel=\"stylesheet\" href=\"css/glyphicons-bootstrap.css\">\\r\\n    <script src=\"https://ajax.googleapis.com/ajax/libs/jquery/2.1.3/jquery.min.js\"></script>\\r\\n    <script src=\"js/jquery.mobile.custom.min.js\"></script>\\r\\n    <script src=\"js/main.js\"></script>\\r\\n    <meta name=\"viewport\" content=\"width=device-width, initial-scale=1\">\\r\\n    <meta http-equiv=\"Content-Type\" content=\"text/html; charset=utf-8\">\\r\\n</head>\\r\\n<body>\\r\\n    <div id=\"main_menu\">\\r\\n        <ul>\\r\\n            <li>                \\r\\n                <span>&nbsp;&nbsp;Verkehrsinfo.de</span>\\r\\n            </li>\\r\\n            <li class=\"dark\" data-category=\"\">\\r\\n                <i class=\"glyphicons glyphicons-alert\"></i>\\r\\n                <span>Verkehrsinfos</span>\\r\\n            </li>\\r\\n            <li class=\"dark\" data-category=\"eingabe\">\\r\\n                <i class=\"glyphicons glyphicons-cars\"></i>\\r\\n                <span>Staueingabe</span>\\r\\n            </li>\\r\\n            <li class=\"dark\" data-category=\"benzin\">\\r\\n                <i class=\"glyphicons glyphicons-gas-station\"></i>\\r\\n                <span>Benzinpreise</span>\\r\\n            </li>\\r\\n            <li class=\"dark\" data-category=\"radar\">\\r\\n                <i class=\"glyphicons glyphicons-camera\"></i>\\r\\n                <span>Radarfallen</span>\\r\\n            </li>\\r\\n            <li class=\"dark\" data-category=\"config\">\\r\\n                <i class=\"glyphicons glyphicons-cogwheel\"></i>\\r\\n                <span>Einstellungen</span>\\r\\n            </li>\\r\\n            <li class=\"dark\" data-category=\"help\">\\r\\n                <i class=\"glyphicons glyphicons-circle-question-mark\"></i>\\r\\n                <span>Hilfe</span>\\r\\n            </li>\\r\\n            <li class=\"dark\" data-category=\"datenschutz\">\\r\\n                <i class=\"glyphicons glyphicons-keys\"></i>\\r\\n                <span>Datenschutz</span>\\r\\n            </li>\\r\\n            <li class=\"dark\" data-category=\"impressum\">\\r\\n                <i class=\"glyphicons glyphicons-notes-2\"></i>\\r\\n                <span>Impressum</span>\\r\\n            </li>\\r\\n        </ul>\\r\\n    </div>\\r\\n    \\r\\n    <div class=\"container\" id=\"content\">\\r\\n        <div class=\"panel panel-default\">\\r\\n            <div class=\"panel-heading\">\\r\\n                <span  class=\\'glyphicons glyphicons-show-lines\\' id=\"menu_bars\"></span>\\r\\n                <h3 class=\"panel-title\">Verkehrsinfo.de</h3>\\r\\n            </div>            \\r\\n            <div class=\"panel-body\">\\r\\n                <ul>\\r\\n                <li>\\r\\n<script async src=\"//pagead2.googlesyndication.com/pagead/js/adsbygoogle.js\"></script>\\r\\n\\t\\t\\t\\t<!-- Verkehrsinfo mobil -->\\r\\n\\t\\t\\t\\t<ins class=\"adsbygoogle\"\\r\\n    \\t\\t\\t style=\"display:block\"\\r\\n                 data-ad-client=\"ca-pub-6381658997512213\"\\r\\n                 data-ad-slot=\"7754434552\"\\r\\n                 data-ad-format=\"auto\"></ins>\\r\\n                <script>\\r\\n                (adsbygoogle = window.adsbygoogle || []).push({});\\r\\n                </script>\\r\\n                </li>   \\r\\n                </ul>             \\r\\n                <hr>\\r\\n<SCRIPT>\\r\\nfunction handleResponse() \\r\\n{\\r\\n\\tswitch(req.readyState) {\\r\\n   \\tcase 4:  if(req.status!=200) { ;}\\r\\n   \\telse window.location.reload();\\r\\n   \\t\\r\\n\\t}\\r\\n}\\r\\n\\r\\nfunction setok(id)\\r\\n{\\r\\n   if (confirm(\"Meldung best\\xc3\\xa4tigen?\\\\nMehrfache Aufrufe werden nur einmal gez\\xc3\\xa4hlt.\"))\\r\\n\\t   {\\r\\n \\t    req.open(\"POST\",\"ajax_handle.php?c=ok&id=\"+id, true);\\r\\n\\t\\treq.onreadystatechange = handleResponse;\\r\\n\\t\\treq.send(null);\\r\\n\\t   }\\r\\n}\\r\\n\\r\\n\\r\\n\\r\\nfunction setedit(id)\\r\\n{\\r\\n\\twindow.location.href=\\'index.php?c=eingabe&step=4&id=\\'+id;\\r\\n}\\r\\n\\r\\nfunction setdelete(id)\\r\\n{\\r\\n   if (confirm(\"Meldung abmelden?\\\\nMehrfache Aufrufe werden nur einmal gez\\xc3\\xa4hlt.\\\\nSofern die Meldung von Ihnen angelegt wurde, wird sie aus dem Bestand entfernt!\"))\\r\\n   {\\r\\n\\t    req.open(\"POST\",\"ajax_handle.php?c=del&id=\"+id, true);\\r\\n\\t\\treq.onreadystatechange = handleResponse;\\r\\n\\t\\treq.send(null);\\r\\n\\t}\\r\\n}\\r\\n\\r\\n\\r\\ntry{\\r\\n    req = new XMLHttpRequest();\\r\\n}\\r\\ncatch (ms){\\r\\n    try{\\r\\n        req = new ActiveXObject(\"Msxml2.XMLHTTP\");\\r\\n    } \\r\\n    catch (nonms){\\r\\n        try{\\r\\n            req = new ActiveXObject(\"Microsoft.XMLHTTP\");\\r\\n        } \\r\\n        catch (failed){\\r\\n            req = null;\\r\\n        }\\r\\n    }  \\r\\n}\\r\\n\\r\\n</script>\\r\\n<ul>\\r\\n<li><div class=\\'icon_container\\'>\\r\\n              <div class=\\'autobahn small\\'>A10</div></div>\\r\\n                    <div class=\\'message\\'>\\r\\n                        <span class=\\'message_heading\\'>S\\xc3\\xbcdlicher Berliner Ring, Dreieck Spreeau Richtung Sch\\xc3\\xb6nefelder Kreuz</span><br>\\r\\n                        <span>zwischen K\\xc3\\xb6nigs Wusterhausen (10) und Sch\\xc3\\xb6nefelder Kreuz (11) Gefahr durch defekten LKW, Gefahr durch Gegenst\\xc3\\xa4nde auf der Fahrbahn [Gefahr durch Reifenteile auf allen Fahrstreifen]</span>\\r\\n                    </div>\\r\\n                    <div class=\\'clearfix\\'>\\r\\n                    <div class=\\'user_message_menu\\'>\\r\\n                         <button class=\\'btn\\' onclick=\\'setok(37724270)\\'><i class=\\'glyphicon glyphicon-ok\\'></i><span>0</span></button>&nbsp;<button class=\\'btn\\' onclick=\\'setdelete(37724270)\\'><i class=\\'glyphicon glyphicon-trash\\'></i><span>0</span></button>\\r\\n                    </div>\\r\\n                    </div>                     \\r\\n                    <hr>\\r\\n\\r\\n                </li>            \\r\\n            </ul>\\r\\n        </div>\\r\\n    </div>\\r\\n</div>\\r\\n\\r\\n\\r\\n\\r\\n</div></div></div><br><br>\\r\\n      <div id=\\'menu_panel\\' class=\\'panel panel-default\\'>\\r\\n      <div class=\\'panel-body\\'>\\r\\n      <div class=\\'info_box_eingabe\\' style=\\'display:none\\' id=\\'bottombox\\'>\\r\\n           <span id=\\'start_position\\'><font color=\\'#F00\\'><b>Bitte Startpunkt ausw\\xc3\\xa4hlen (von)</b></font></span><br>\\r\\n           <span id=\\'stop_position\\'></span>\\r\\n           <i class=\\'glyphicons glyphicons-chevron-right pull-right\\' style=\\'display:none\\' id=\\'weiter\\' onclick=\\'completemessage()\\'></i>\\r\\n      </div><button class=\\'btn\\' onclick=\\'window.location.href=\"index.php\"\\' >\\r\\n              <span class=\\'glyphicons glyphicons-alert\\' aria-hidden=\\'true\\'>\\r\\n      </button>\\r\\n      <button class=\\'btn\\' onclick=\\'goeingabe()\\' >\\r\\n              <span class=\\'glyphicons glyphicons-cars\\' aria-hidden=\\'true\\'>\\r\\n      </button>\\r\\n      <button class=\\'btn\\' onclick=\\'gobenzin()\\' >\\r\\n              <span class=\\'glyphicons glyphicons-gas-station\\' aria-hidden=\\'true\\'>\\r\\n      </button>\\r\\n      <button class=\\'btn\\' onclick=\\'goradar()\\' >\\r\\n              <span class=\\'echo glyphicons glyphicons-camera\\' aria-hidden=\\'true\\'>\\r\\n      </button></div>\\r\\n        </div>\\r\\n    <form name=\\'dlg\\'>\\r\\n    <input type=\\'hidden\\' name=\\'lat\\' value=\\'0\\'>\\r\\n    <input type=\\'hidden\\' name=\\'lon\\' value=\\'360000000\\'>    \\r\\n    </form>\\r\\n    </body>\\r\\n    </html><script>\\r\\n\\t getLocation(); \\r\\n\\t </script><br>'\n"
     ]
    }
   ],
   "source": [
    "#https://www.verkehrsinfo.de/\n",
    "    \n",
    "import urllib.request\n",
    "url = 'https://www.verkehrsinfo.de/httpsmobil/index.php?c=staulist&street=A10&lat=&lon=3600'\n",
    "data = urllib.request.urlopen(url).read()\n",
    "print(data.)"
   ]
  },
  {
   "cell_type": "code",
   "execution_count": 3,
   "metadata": {},
   "outputs": [],
   "source": [
    "import urllib.request\n",
    "with urllib.request.urlopen('https://www.verkehrsinfo.de/httpsmobil/index.php?c=staulist&street=A10&lat=&lon=3600') as response:\n",
    "   html = response.read()"
   ]
  },
  {
   "cell_type": "code",
   "execution_count": 5,
   "metadata": {},
   "outputs": [
    {
     "name": "stdout",
     "output_type": "stream",
     "text": [
      "b'  \\r\\n<!DOCTYPE html>\\r\\n<script async=\\'async\\' src=\\'https://www.googletagservices.com/tag/js/gpt.js\\'></script>\\r\\n<script>\\r\\n    var googletag = googletag || {};\\r\\n    googletag.cmd = googletag.cmd || [];\\r\\n</script>\\r\\n<SCRIPT >\\r\\n  \\r\\nfunction go(street)\\r\\n{\\r\\n\\tvar lat=window.document.forms[\\'dlg\\'].lat.value;\\r\\n\\tvar lon=window.document.forms[\\'dlg\\'].lon.value\\r\\n\\twindow.location.href=\\'mobilelist.php?street=\\'+street+\\'&lat=\\'+lat+\\'&lon=\\'+lon;\\r\\n}\\r\\n\\r\\nfunction goumkreis()\\r\\n{\\r\\n\\tvar lat=window.document.forms[\\'dlg\\'].lat.value;\\r\\n\\tvar lon=window.document.forms[\\'dlg\\'].lon.value\\r\\n\\twindow.location.href=\\'mobilelist.php?lat=\\'+lat+\\'&lon=\\'+lon;\\r\\n}\\r\\n\\r\\nfunction gobl(bl)\\r\\n{\\r\\n\\tvar lat=window.document.forms[\\'dlg\\'].lat.value;\\r\\n\\tvar lon=window.document.forms[\\'dlg\\'].lon.value;\\r\\n\\twindow.location.href=\\'mobilelist.php?bl=\\'+bl+\\'&lat=\\'+lat+\\'&lon=\\'+lon;\\r\\n}\\r\\n\\r\\nfunction gohome(nr)\\r\\n{\\r\\n\\tvar lat=window.document.forms[\\'dlg\\'].lat.value;\\r\\n\\tvar lon=window.document.forms[\\'dlg\\'].lon.value;\\r\\n\\twindow.location.href=\\'index.php?c=\\'+nr+\\'&lat=\\'+lat+\\'&lon=\\'+lon;\\r\\n}\\r\\n\\r\\nfunction gobenzin()\\r\\n{\\r\\n\\tvar lat=window.document.forms[\\'dlg\\'].lat.value;\\r\\n\\tvar lon=window.document.forms[\\'dlg\\'].lon.value;\\r\\n\\twindow.location.href=\\'index.php?c=benzin\\'+\\'&lat=\\'+lat+\\'&lon=\\'+lon+\"&w=\"+window.innerWidth;;\\r\\n}\\r\\nfunction goradar()\\r\\n{\\r\\n\\tvar lat=window.document.forms[\\'dlg\\'].lat.value;\\r\\n\\tvar lon=window.document.forms[\\'dlg\\'].lon.value;\\r\\n\\twindow.location.href=\\'index.php?c=radar\\'+\\'&lat=\\'+lat+\\'&lon=\\'+lon;\\r\\n}\\r\\n\\r\\nfunction goeingabe()\\r\\n{\\r\\n\\tvar lat=window.document.forms[\\'dlg\\'].lat.value;\\r\\n\\tvar lon=window.document.forms[\\'dlg\\'].lon.value;\\r\\n\\twindow.location.href=\\'index.php?c=eingabe\\'+\\'&lat=\\'+lat+\\'&lon=\\'+lon;\\r\\n}\\r\\nfunction getLocation()\\r\\n{  \\t\\t \\t\\r\\n  var options = { enableHighAccuracy: true, maximumAge: 100, timeout: 60000 };\\r\\n  if (navigator.geolocation)\\r\\n  {\\r\\n  \\t    // navigator.geolocation.getCurrentPosition(showPosition);\\r\\n\\t     var watchID = navigator.geolocation.watchPosition( showPosition, gotErr, options );\\t   \\r\\n\\t     var timeout = setTimeout( function() { navigator.geolocation.clearWatch( watchID ); }, 5000 );\\t     \\r\\n\\t  } else {\\r\\n\\t\\t  document.getElementById(\\'ubtn\\').style.visibility=\\'hidden\\';\\t\\t  \\r\\n\\t  }\\r\\n}\\r\\n\\r\\n\\r\\nfunction getLocation_test()\\r\\n{  \\t\\t \\t\\r\\n  if (navigator.geolocation)\\r\\n  {\\r\\n  \\t    // navigator.geolocation.getCurrentPosition(showPosition);\\r\\n\\t     var watchID = navigator.geolocation.watchPosition( showPosition, gotErr, options );\\t   \\r\\n\\t     var timeout = setTimeout( function() { navigator.geolocation.clearWatch( watchID ); }, 5000 );\\t     \\r\\n\\t  } else {\\r\\n\\t\\t  document.getElementById(\\'ubtn\\').style.visibility=\\'hidden\\';\\t\\t  \\r\\n\\t  }\\r\\n}\\r\\n\\r\\nfunction showPosition(position)\\r\\n{  \\t\\r\\n\\twindow.document.forms[\\'dlg\\'].lat.value=position.coords.latitude;\\r\\n\\twindow.document.forms[\\'dlg\\'].lon.value=position.coords.longitude;  \\r\\n\\tdocument.getElementById(\\'ubtn\\').style.visibility=\\'visible\\';\\r\\n}\\r\\n\\r\\nfunction gotErr(err)\\r\\n{  \\t\\r\\n\\tvar msg=\\'\\';\\r\\n\\tif (err.code==1) msg=\\'Zugriff auf die Postion nicht erlaubt.\\';\\r\\n\\tif (err.code==2) msg=\\'Position nicht verf\\xfcgbar\\'\\r\\n\\talert(msg);\\r\\n}\\r\\n\\r\\nfunction goRadarDetail(id,entfernung) \\r\\n{\\r\\n   window.location.href=\"index.php?c=radarDetail&id=\"+id+\"&distance=\"+entfernung+\"&w=\"+window.innerWidth;\\r\\n}\\r\\n\\r\\nfunction confirmRadar(id, state) \\r\\n{\\r\\n\\twindow.location.href=\"index.php?c=radarDetail&id=\"+id+\"&confirm=\"+state+\"&w=\"+window.innerWidth;\\r\\n}\\r\\n\\r\\nfunction picUpload(id,backlink) \\r\\n{\\r\\n\\twindow.location.href=\"index.php?c=radarPicUpload&rid=\"+id+\"&backlink=\"+backlink;\\r\\n}\\r\\n\\r\\n\\r\\n\\r\\n\\r\\n</script>\\r\\n\\r\\n<html>\\r\\n<head>\\r\\n\\r\\n    <link rel=\\'stylesheet\\' href=\\'css/bootstrap.min.css\\'>\\r\\n    <link rel=\"stylesheet\" href=\"css/default.css\">\\r\\n    <link rel=\"stylesheet\" href=\"css/glyphicons.css\">\\r\\n    <link rel=\"stylesheet\" href=\"css/glyphicons-bootstrap.css\">\\r\\n    <script src=\"https://ajax.googleapis.com/ajax/libs/jquery/2.1.3/jquery.min.js\"></script>\\r\\n    <script src=\"js/jquery.mobile.custom.min.js\"></script>\\r\\n    <script src=\"js/main.js\"></script>\\r\\n    <meta name=\"viewport\" content=\"width=device-width, initial-scale=1\">\\r\\n    <meta http-equiv=\"Content-Type\" content=\"text/html; charset=utf-8\">\\r\\n</head>\\r\\n<body>\\r\\n    <div id=\"main_menu\">\\r\\n        <ul>\\r\\n            <li>                \\r\\n                <span>&nbsp;&nbsp;Verkehrsinfo.de</span>\\r\\n            </li>\\r\\n            <li class=\"dark\" data-category=\"\">\\r\\n                <i class=\"glyphicons glyphicons-alert\"></i>\\r\\n                <span>Verkehrsinfos</span>\\r\\n            </li>\\r\\n            <li class=\"dark\" data-category=\"eingabe\">\\r\\n                <i class=\"glyphicons glyphicons-cars\"></i>\\r\\n                <span>Staueingabe</span>\\r\\n            </li>\\r\\n            <li class=\"dark\" data-category=\"benzin\">\\r\\n                <i class=\"glyphicons glyphicons-gas-station\"></i>\\r\\n                <span>Benzinpreise</span>\\r\\n            </li>\\r\\n            <li class=\"dark\" data-category=\"radar\">\\r\\n                <i class=\"glyphicons glyphicons-camera\"></i>\\r\\n                <span>Radarfallen</span>\\r\\n            </li>\\r\\n            <li class=\"dark\" data-category=\"config\">\\r\\n                <i class=\"glyphicons glyphicons-cogwheel\"></i>\\r\\n                <span>Einstellungen</span>\\r\\n            </li>\\r\\n            <li class=\"dark\" data-category=\"help\">\\r\\n                <i class=\"glyphicons glyphicons-circle-question-mark\"></i>\\r\\n                <span>Hilfe</span>\\r\\n            </li>\\r\\n            <li class=\"dark\" data-category=\"datenschutz\">\\r\\n                <i class=\"glyphicons glyphicons-keys\"></i>\\r\\n                <span>Datenschutz</span>\\r\\n            </li>\\r\\n            <li class=\"dark\" data-category=\"impressum\">\\r\\n                <i class=\"glyphicons glyphicons-notes-2\"></i>\\r\\n                <span>Impressum</span>\\r\\n            </li>\\r\\n        </ul>\\r\\n    </div>\\r\\n    \\r\\n    <div class=\"container\" id=\"content\">\\r\\n        <div class=\"panel panel-default\">\\r\\n            <div class=\"panel-heading\">\\r\\n                <span  class=\\'glyphicons glyphicons-show-lines\\' id=\"menu_bars\"></span>\\r\\n                <h3 class=\"panel-title\">Verkehrsinfo.de</h3>\\r\\n            </div>            \\r\\n            <div class=\"panel-body\">\\r\\n                <ul>\\r\\n                <li>\\r\\n<script async src=\"//pagead2.googlesyndication.com/pagead/js/adsbygoogle.js\"></script>\\r\\n\\t\\t\\t\\t<!-- Verkehrsinfo mobil -->\\r\\n\\t\\t\\t\\t<ins class=\"adsbygoogle\"\\r\\n    \\t\\t\\t style=\"display:block\"\\r\\n                 data-ad-client=\"ca-pub-6381658997512213\"\\r\\n                 data-ad-slot=\"7754434552\"\\r\\n                 data-ad-format=\"auto\"></ins>\\r\\n                <script>\\r\\n                (adsbygoogle = window.adsbygoogle || []).push({});\\r\\n                </script>\\r\\n                </li>   \\r\\n                </ul>             \\r\\n                <hr>\\r\\n<SCRIPT>\\r\\nfunction handleResponse() \\r\\n{\\r\\n\\tswitch(req.readyState) {\\r\\n   \\tcase 4:  if(req.status!=200) { ;}\\r\\n   \\telse window.location.reload();\\r\\n   \\t\\r\\n\\t}\\r\\n}\\r\\n\\r\\nfunction setok(id)\\r\\n{\\r\\n   if (confirm(\"Meldung best\\xc3\\xa4tigen?\\\\nMehrfache Aufrufe werden nur einmal gez\\xc3\\xa4hlt.\"))\\r\\n\\t   {\\r\\n \\t    req.open(\"POST\",\"ajax_handle.php?c=ok&id=\"+id, true);\\r\\n\\t\\treq.onreadystatechange = handleResponse;\\r\\n\\t\\treq.send(null);\\r\\n\\t   }\\r\\n}\\r\\n\\r\\n\\r\\n\\r\\nfunction setedit(id)\\r\\n{\\r\\n\\twindow.location.href=\\'index.php?c=eingabe&step=4&id=\\'+id;\\r\\n}\\r\\n\\r\\nfunction setdelete(id)\\r\\n{\\r\\n   if (confirm(\"Meldung abmelden?\\\\nMehrfache Aufrufe werden nur einmal gez\\xc3\\xa4hlt.\\\\nSofern die Meldung von Ihnen angelegt wurde, wird sie aus dem Bestand entfernt!\"))\\r\\n   {\\r\\n\\t    req.open(\"POST\",\"ajax_handle.php?c=del&id=\"+id, true);\\r\\n\\t\\treq.onreadystatechange = handleResponse;\\r\\n\\t\\treq.send(null);\\r\\n\\t}\\r\\n}\\r\\n\\r\\n\\r\\ntry{\\r\\n    req = new XMLHttpRequest();\\r\\n}\\r\\ncatch (ms){\\r\\n    try{\\r\\n        req = new ActiveXObject(\"Msxml2.XMLHTTP\");\\r\\n    } \\r\\n    catch (nonms){\\r\\n        try{\\r\\n            req = new ActiveXObject(\"Microsoft.XMLHTTP\");\\r\\n        } \\r\\n        catch (failed){\\r\\n            req = null;\\r\\n        }\\r\\n    }  \\r\\n}\\r\\n\\r\\n</script>\\r\\n<ul>\\r\\n<li><div class=\\'icon_container\\'>\\r\\n              <div class=\\'autobahn small\\'>A10</div></div>\\r\\n                    <div class=\\'message\\'>\\r\\n                        <span class=\\'message_heading\\'>S\\xc3\\xbcdlicher Berliner Ring, Dreieck Spreeau Richtung Sch\\xc3\\xb6nefelder Kreuz</span><br>\\r\\n                        <span>zwischen K\\xc3\\xb6nigs Wusterhausen (10) und Sch\\xc3\\xb6nefelder Kreuz (11) Gefahr durch defekten LKW, Gefahr durch Gegenst\\xc3\\xa4nde auf der Fahrbahn [Gefahr durch Reifenteile auf allen Fahrstreifen]</span>\\r\\n                    </div>\\r\\n                    <div class=\\'clearfix\\'>\\r\\n                    <div class=\\'user_message_menu\\'>\\r\\n                         <button class=\\'btn\\' onclick=\\'setok(37724270)\\'><i class=\\'glyphicon glyphicon-ok\\'></i><span>0</span></button>&nbsp;<button class=\\'btn\\' onclick=\\'setdelete(37724270)\\'><i class=\\'glyphicon glyphicon-trash\\'></i><span>0</span></button>\\r\\n                    </div>\\r\\n                    </div>                     \\r\\n                    <hr>\\r\\n\\r\\n                </li>            \\r\\n            </ul>\\r\\n        </div>\\r\\n    </div>\\r\\n</div>\\r\\n\\r\\n\\r\\n\\r\\n</div></div></div><br><br>\\r\\n      <div id=\\'menu_panel\\' class=\\'panel panel-default\\'>\\r\\n      <div class=\\'panel-body\\'>\\r\\n      <div class=\\'info_box_eingabe\\' style=\\'display:none\\' id=\\'bottombox\\'>\\r\\n           <span id=\\'start_position\\'><font color=\\'#F00\\'><b>Bitte Startpunkt ausw\\xc3\\xa4hlen (von)</b></font></span><br>\\r\\n           <span id=\\'stop_position\\'></span>\\r\\n           <i class=\\'glyphicons glyphicons-chevron-right pull-right\\' style=\\'display:none\\' id=\\'weiter\\' onclick=\\'completemessage()\\'></i>\\r\\n      </div><button class=\\'btn\\' onclick=\\'window.location.href=\"index.php\"\\' >\\r\\n              <span class=\\'glyphicons glyphicons-alert\\' aria-hidden=\\'true\\'>\\r\\n      </button>\\r\\n      <button class=\\'btn\\' onclick=\\'goeingabe()\\' >\\r\\n              <span class=\\'glyphicons glyphicons-cars\\' aria-hidden=\\'true\\'>\\r\\n      </button>\\r\\n      <button class=\\'btn\\' onclick=\\'gobenzin()\\' >\\r\\n              <span class=\\'glyphicons glyphicons-gas-station\\' aria-hidden=\\'true\\'>\\r\\n      </button>\\r\\n      <button class=\\'btn\\' onclick=\\'goradar()\\' >\\r\\n              <span class=\\'echo glyphicons glyphicons-camera\\' aria-hidden=\\'true\\'>\\r\\n      </button></div>\\r\\n        </div>\\r\\n    <form name=\\'dlg\\'>\\r\\n    <input type=\\'hidden\\' name=\\'lat\\' value=\\'0\\'>\\r\\n    <input type=\\'hidden\\' name=\\'lon\\' value=\\'360000000\\'>    \\r\\n    </form>\\r\\n    </body>\\r\\n    </html><script>\\r\\n\\t getLocation(); \\r\\n\\t </script><br>'\n"
     ]
    }
   ],
   "source": [
    "print(html)"
   ]
  },
  {
   "cell_type": "code",
   "execution_count": null,
   "metadata": {},
   "outputs": [],
   "source": []
  }
 ],
 "metadata": {
  "kernelspec": {
   "display_name": "Python 3",
   "language": "python",
   "name": "python3"
  },
  "language_info": {
   "codemirror_mode": {
    "name": "ipython",
    "version": 3
   },
   "file_extension": ".py",
   "mimetype": "text/x-python",
   "name": "python",
   "nbconvert_exporter": "python",
   "pygments_lexer": "ipython3",
   "version": "3.6.1"
  }
 },
 "nbformat": 4,
 "nbformat_minor": 2
}
