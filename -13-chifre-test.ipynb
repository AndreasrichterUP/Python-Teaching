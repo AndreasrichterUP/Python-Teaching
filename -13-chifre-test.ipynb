{
 "cells": [
  {
   "cell_type": "code",
   "execution_count": 11,
   "metadata": {},
   "outputs": [
    {
     "name": "stdout",
     "output_type": "stream",
     "text": [
      "1\n",
      "0\n",
      "y\n"
     ]
    }
   ],
   "source": [
    "import string\n",
    "\n",
    "print(string.ascii_uppercase.index('B'))\n",
    "\n",
    "print(string.ascii_lowercase.index('a'))\n",
    "\n",
    "print(string.ascii_letters[24])\n",
    "\n",
    "#print(string.lowercase.index('b'))"
   ]
  },
  {
   "cell_type": "markdown",
   "metadata": {},
   "source": [
    "**Chiffre**"
   ]
  },
  {
   "cell_type": "code",
   "execution_count": 55,
   "metadata": {},
   "outputs": [
    {
     "name": "stdout",
     "output_type": "stream",
     "text": [
      "Ameise\n",
      "[26, 12, 4, 8, 18, 4]\n",
      "[27, 13, 5, 9, 19, 5]\n",
      "Bnfjtf\n"
     ]
    }
   ],
   "source": [
    "Wort='Ameise'\n",
    "print(Wort)\n",
    "WortIndex=getIndexOfLetter(list(Wort))\n",
    "print(WortIndex)\n",
    "\n",
    "WortIndex1=[item+1 for item in WortIndex]\n",
    "\n",
    "print(WortIndex1)\n",
    "\n",
    "Wortchif=getLetter(WortIndex1)    \n",
    "str1 = ''.join(Wortchif)\n",
    "print(str1)\n",
    "      \n",
    "      \n",
    "#WortIndex=WortIndex+1\n"
   ]
  },
  {
   "cell_type": "markdown",
   "metadata": {},
   "source": [
    "**DeChiffre**"
   ]
  },
  {
   "cell_type": "code",
   "execution_count": 3,
   "metadata": {},
   "outputs": [
    {
     "name": "stdout",
     "output_type": "stream",
     "text": [
      "Bnfjtf\n",
      "[27, 13, 5, 9, 19, 5]\n",
      "[26, 12, 4, 8, 18, 4]\n",
      "Ameise\n"
     ]
    }
   ],
   "source": [
    "Wort='Bnfjtf'\n",
    "print(Wort)\n",
    "WortIndex=getIndexOfLetter(list(Wort))\n",
    "print(WortIndex)\n",
    "\n",
    "WortIndex1=[item-1 for item in WortIndex]\n",
    "\n",
    "print(WortIndex1)\n",
    "\n",
    "Wortchif=getLetter(WortIndex1)    \n",
    "str1 = ''.join(Wortchif)\n",
    "print(str1)\n",
    "      \n",
    "      \n",
    "#WortIndex=WortIndex+1"
   ]
  },
  {
   "cell_type": "code",
   "execution_count": 2,
   "metadata": {},
   "outputs": [],
   "source": [
    "import string\n",
    "def getIndexOfLetter(w):\n",
    "    ind=[]\n",
    "    for let in w: ind.append(string.ascii_letters.index(let))\n",
    "    return ind\n",
    "\n",
    "def getLetter(w):\n",
    "    ind=[]\n",
    "    for let in w: ind.append(string.ascii_letters[let])\n",
    "    return ind\n"
   ]
  },
  {
   "cell_type": "code",
   "execution_count": 47,
   "metadata": {},
   "outputs": [
    {
     "data": {
      "text/plain": [
       "'b'"
      ]
     },
     "execution_count": 47,
     "metadata": {},
     "output_type": "execute_result"
    }
   ],
   "source": [
    "string.ascii_letters[1]"
   ]
  },
  {
   "cell_type": "code",
   "execution_count": 39,
   "metadata": {},
   "outputs": [
    {
     "data": {
      "text/plain": [
       "4.3008"
      ]
     },
     "execution_count": 39,
     "metadata": {},
     "output_type": "execute_result"
    }
   ],
   "source": [
    "(2*2*16*2.1*(10**9) *32)/10**12"
   ]
  },
  {
   "cell_type": "code",
   "execution_count": 38,
   "metadata": {},
   "outputs": [
    {
     "data": {
      "text/plain": [
       "6.2208"
      ]
     },
     "execution_count": 38,
     "metadata": {},
     "output_type": "execute_result"
    }
   ],
   "source": [
    "(2*2*18*2.7*(10**9) *32)/10**12"
   ]
  },
  {
   "cell_type": "code",
   "execution_count": 40,
   "metadata": {},
   "outputs": [
    {
     "data": {
      "text/plain": [
       "1.024"
      ]
     },
     "execution_count": 40,
     "metadata": {},
     "output_type": "execute_result"
    }
   ],
   "source": [
    "(2*32*2.0*(10**9) *8)/10**12"
   ]
  },
  {
   "cell_type": "code",
   "execution_count": null,
   "metadata": {},
   "outputs": [],
   "source": []
  }
 ],
 "metadata": {
  "kernelspec": {
   "display_name": "Python 3",
   "language": "python",
   "name": "python3"
  },
  "language_info": {
   "codemirror_mode": {
    "name": "ipython",
    "version": 3
   },
   "file_extension": ".py",
   "mimetype": "text/x-python",
   "name": "python",
   "nbconvert_exporter": "python",
   "pygments_lexer": "ipython3",
   "version": "3.6.1"
  }
 },
 "nbformat": 4,
 "nbformat_minor": 2
}
