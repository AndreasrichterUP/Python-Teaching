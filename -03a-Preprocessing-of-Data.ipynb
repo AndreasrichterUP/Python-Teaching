{
 "cells": [
  {
   "cell_type": "markdown",
   "metadata": {},
   "source": [
    "# **Preprocessing of Data**\n",
    "\n"
   ]
  },
  {
   "cell_type": "markdown",
   "metadata": {},
   "source": [
    "© by A.Richter (under construction)\n",
    "\n",
    "<img src=88x31.png  width=\"10%\" style=\"float: left;\"> "
   ]
  },
  {
   "cell_type": "markdown",
   "metadata": {},
   "source": [
    "## Overview of the notebook:\n",
    "\n",
    "   1. [Loading and saving data from Files](#loadfiles)\n",
    "   2. "
   ]
  },
  {
   "cell_type": "code",
   "execution_count": null,
   "metadata": {
    "collapsed": false,
    "jupyter": {
     "outputs_hidden": false
    }
   },
   "outputs": [],
   "source": []
  },
  {
   "cell_type": "markdown",
   "metadata": {},
   "source": [
    "## Loading and saving data from files  <a name=\"loadfiles\" ></a>\n",
    "\n",
    ".csv files by pandas\n",
    ".mat files by scipy.io\n",
    ".hdfd/.h5 files by h5py\n",
    "\n",
    "\n",
    "\n"
   ]
  },
  {
   "cell_type": "code",
   "execution_count": 30,
   "metadata": {},
   "outputs": [
    {
     "name": "stdout",
     "output_type": "stream",
     "text": [
      "             0           1           2\n",
      "0    82.374964   54.755160   44.041052\n",
      "1    64.505316  -32.749486  249.761960\n",
      "2  -206.478580  342.928060   53.118150\n",
      "3    60.821498   78.483574  225.288900\n",
      "4  -134.261620  140.509470  319.428010\n",
      "5    30.257186  240.813720  -30.997058\n",
      "6   -36.978309  119.716610   -2.921758\n",
      "7   -45.032812   69.344704  126.295610\n",
      "8   340.246000 -217.890340  180.076690\n",
      "9   152.696950  -53.432551  419.750330\n",
      "10 -104.581310  221.222150    6.811424\n",
      "11  235.235910 -120.907460  298.516430\n",
      "12   85.698597   48.899382  111.221750\n",
      "13   58.444259  159.378640  129.374990\n",
      "14  -18.499283   38.205772  151.043260\n",
      "15  -45.915636   98.248933   32.879953\n",
      "16  -46.466411   85.276281   36.467578\n",
      "17  186.250110   13.904915  166.863810\n",
      "18  198.389430   -2.446848  116.110140\n",
      "19  192.350170   -6.197726  118.703800\n",
      "20   34.722866  109.143200  229.099210\n",
      "21  -60.296071  237.569610   36.480146\n",
      "22  -11.114630   60.056082  195.698850\n",
      "23   94.491419   29.351747  304.202340\n",
      "24   29.614572   53.056249   93.678141\n",
      "25  223.916350   52.757839  115.561310\n",
      "26   41.677377   81.664586  207.759890\n",
      "27    6.085722  141.118930   57.633598\n",
      "28   25.697141   97.306003  132.941100\n",
      "29    1.276183  160.801680  -37.861815\n",
      "0      82.374964\n",
      "1      64.505316\n",
      "2    -206.478580\n",
      "3      60.821498\n",
      "4    -134.261620\n",
      "5      30.257186\n",
      "6     -36.978309\n",
      "7     -45.032812\n",
      "8     340.246000\n",
      "9     152.696950\n",
      "10   -104.581310\n",
      "11    235.235910\n",
      "12     85.698597\n",
      "13     58.444259\n",
      "14    -18.499283\n",
      "15    -45.915636\n",
      "16    -46.466411\n",
      "17    186.250110\n",
      "18    198.389430\n",
      "19    192.350170\n",
      "20     34.722866\n",
      "21    -60.296071\n",
      "22    -11.114630\n",
      "23     94.491419\n",
      "24     29.614572\n",
      "25    223.916350\n",
      "26     41.677377\n",
      "27      6.085722\n",
      "28     25.697141\n",
      "29      1.276183\n",
      "Name: 0, dtype: float64\n",
      "            0           1           2\n",
      "0   82.374964   54.755160   44.041052\n",
      "1   64.505316  -32.749486  249.761960\n",
      "2 -206.478580  342.928060   53.118150\n",
      "3   60.821498   78.483574  225.288900\n",
      "4 -134.261620  140.509470  319.428010\n",
      "(30, 3)\n",
      "float64\n",
      "47.83757861333333\n",
      "116.91603556848771\n"
     ]
    },
    {
     "data": {
      "text/plain": [
       "array([[<matplotlib.axes._subplots.AxesSubplot object at 0xb1b231a90>,\n",
       "        <matplotlib.axes._subplots.AxesSubplot object at 0xb1afe4ef0>],\n",
       "       [<matplotlib.axes._subplots.AxesSubplot object at 0xb1b061f98>,\n",
       "        <matplotlib.axes._subplots.AxesSubplot object at 0xb1a10f3c8>]],\n",
       "      dtype=object)"
      ]
     },
     "execution_count": 30,
     "metadata": {},
     "output_type": "execute_result"
    },
    {
     "data": {
      "image/png": "[encoded data removed]",
      "text/plain": [
       "<Figure size 432x288 with 4 Axes>"
      ]
     },
     "metadata": {
      "needs_background": "light"
     },
     "output_type": "display_data"
    }
   ],
   "source": [
    "import numpy as np\n",
    "import pandas as pd\n",
    "\n",
    "# eleganter Weg mit dem \n",
    "data=pd.read_csv('data/sediments_1.txt',header=None, delim_whitespace=True)\n",
    "\n",
    "print(data)              # Alle Daten ausgeben\n",
    "print(data[0])          # erste Spalte ausgeben\n",
    "\n",
    "print( data[0:5])\n",
    "print( data.shape)\n",
    "test=data[0:5][0]\n",
    "print( test[0].dtype)\n",
    "\n",
    "print( np.mean(data[0]))     # Mittelwert und\n",
    "print( np.std(data[0]))      # Standardabweichung der ersten Spalte\n",
    "\n",
    "\n",
    "# Histogramme der Datenspalten\n",
    "data.hist() \n",
    "\n"
   ]
  },
  {
   "cell_type": "markdown",
   "metadata": {},
   "source": [
    "load a .mat files"
   ]
  },
  {
   "cell_type": "code",
   "execution_count": 15,
   "metadata": {},
   "outputs": [
    {
     "name": "stdout",
     "output_type": "stream",
     "text": [
      "[[0.         0.09713376 0.77777779 0.         0.61340117 1.        ]\n",
      " [0.02218309 0.11942675 0.77777779 0.02608696 0.69859797 1.        ]\n",
      " [0.04409793 0.13694267 0.77777779 0.05217391 0.39588982 1.        ]\n",
      " [0.06570883 0.1544586  0.77777779 0.06956521 0.39588982 1.        ]\n",
      " [0.08698889 0.18152866 0.77777779 0.09565217 0.53086162 0.        ]\n",
      " [0.10791895 0.21178344 1.         0.12173913 0.58432859 0.        ]\n",
      " [0.12848572 0.23248407 1.         0.14782609 0.51244289 0.        ]\n",
      " [0.14868045 0.23726115 1.         0.17391305 0.40366319 0.        ]\n",
      " [0.16849923 0.23407644 1.         0.2        0.37490278 0.        ]\n",
      " [0.20700443 0.23089172 1.         0.2521739  0.34563395 0.        ]]\n"
     ]
    }
   ],
   "source": [
    "import scipy.io as sio\n",
    "\n",
    "#sio.savemat('LayersTune.mat', LayerTune)\n",
    "#sio.savemat('Matrix_A_Tune.mat',{'A_Tune': A})\n",
    "#sio.savemat('LayersTest.mat', LayerTest)\n",
    "#sio.savemat('Matrix_A_Test.mat',{'A_Test': A})\n",
    "#sio.savemat('LayersTrain.mat', Layers)\n",
    "\n",
    "\n",
    "A_01=sio.loadmat('data/Matrix_A_Tiles/Matrix_A_Tile_01.mat')\n",
    "print(A_01['A_Train'][0:10,15:])\n",
    "\n"
   ]
  },
  {
   "cell_type": "code",
   "execution_count": null,
   "metadata": {},
   "outputs": [],
   "source": []
  },
  {
   "cell_type": "markdown",
   "metadata": {},
   "source": [
    "## Geopandas examples <a name=\"geopandas\" ></a>"
   ]
  },
  {
   "cell_type": "code",
   "execution_count": 1,
   "metadata": {},
   "outputs": [],
   "source": [
    "# https://nbviewer.jupyter.org/gist/perrygeo/c426355e40037c452434"
   ]
  },
  {
   "cell_type": "markdown",
   "metadata": {},
   "source": [
    "importing a shape file with Point features"
   ]
  },
  {
   "cell_type": "code",
   "execution_count": 3,
   "metadata": {},
   "outputs": [],
   "source": [
    "%matplotlib inline\n",
    "import geopandas as gpd"
   ]
  },
  {
   "cell_type": "code",
   "execution_count": 4,
   "metadata": {},
   "outputs": [],
   "source": [
    "pts = gpd.GeoDataFrame.from_file('data/berlin-latest/places.shp')"
   ]
  },
  {
   "cell_type": "code",
   "execution_count": 5,
   "metadata": {
    "jupyter": {
     "source_hidden": true
    }
   },
   "outputs": [
    {
     "data": {
      "text/plain": [
       "<matplotlib.axes._subplots.AxesSubplot at 0x11a49e438>"
      ]
     },
     "execution_count": 5,
     "metadata": {},
     "output_type": "execute_result"
    },
    {
     "data": {
      "image/png": "[encoded data removed]",
      "text/plain": [
       "<Figure size 432x288 with 1 Axes>"
      ]
     },
     "metadata": {
      "needs_background": "light"
     },
     "output_type": "display_data"
    }
   ],
   "source": [
    "pts.plot()"
   ]
  },
  {
   "cell_type": "code",
   "execution_count": null,
   "metadata": {},
   "outputs": [],
   "source": [
    "#\n",
    "# This example writes data to the existing empty dataset created by h5_crtdat.py and then reads it back.\n",
    "#\n",
    "import h5py\n",
    "import numpy as np\n",
    "#\n",
    "# Open an existing file using default properties.\n",
    "#\n",
    "file = h5py.File('dset.h5','r+')\n",
    "#\n",
    "# Open \"dset\" dataset under the root group.\n",
    "#\n",
    "dataset = file['/dset']\n",
    "#\n",
    "# Initialize data object with 0.\n",
    "#\n",
    "data = np.zeros((4,6))\n",
    "#\n",
    "# Assign new values\n",
    "#\n",
    "for i in range(4):\n",
    "    for j in range(6):\n",
    "        data[i][j]= i*6+j+1\t \n",
    "#\n",
    "# Write data\n",
    "#\n",
    "print \"Writing data...\"\n",
    "dataset[...] = data\n",
    "#\n",
    "# Read data back and print it.\n",
    "#\n",
    "print \"Reading data back...\"\n",
    "data_read = dataset[...]\n",
    "print \"Printing data...\"\n",
    "print data_read\n",
    "#\n",
    "# Close the file before exiting\n",
    "#\n",
    "file.close()\n"
   ]
  },
  {
   "cell_type": "markdown",
   "metadata": {},
   "source": [
    "References: \n",
    "\n",
    "   -   https://support.hdfgroup.org/HDF5/examples/intro.html\n",
    "   -   https://support.hdfgroup.org/HDF5/Tutor/HDF5Intro.pdf"
   ]
  },
  {
   "cell_type": "code",
   "execution_count": 1,
   "metadata": {},
   "outputs": [],
   "source": [
    "#Import der notwendigen Bibliotheken \n",
    "import pandas\n",
    "import skimage.io as skio\n",
    "import math\n",
    "import time\n",
    "import numpy as np\n",
    "import statsmodels.api as sm\n",
    "import matplotlib.pyplot as plt\n",
    "import scipy.io as sio\n",
    "from sklearn import svm\n",
    "from sklearn.svm import SVC\n",
    "from sklearn.linear_model import LogisticRegression\n",
    "from sklearn.metrics import roc_curve, auc\n",
    "from sklearn.cross_validation import train_test_split\n",
    "\n",
    "%matplotlib inline\n",
    "#externes funktionsfile BasisFunctions.py bei jeder Änderung im Code neu laden\n",
    "%load_ext autoreload\n",
    "%autoreload 2"
   ]
  },
  {
   "cell_type": "code",
   "execution_count": 2,
   "metadata": {
    "collapsed": false,
    "jupyter": {
     "outputs_hidden": false
    }
   },
   "outputs": [
    {
     "name": "stdout",
     "output_type": "stream",
     "text": [
      "0 TIF_r_AFG_GDEM_V21\n",
      "(608, 948)\n",
      "Anzahl NaN : 0\n",
      "1 TIF_n_ASPE\n",
      "(608, 948)\n",
      "Anzahl NaN : 0\n",
      "2 TIF_n_ASPN\n",
      "(608, 948)\n",
      "Anzahl NaN : 0\n",
      "3 TIF_n_ASPS\n",
      "(608, 948)\n",
      "Anzahl NaN : 0\n",
      "4 TIF_n_ASPW\n",
      "(608, 948)\n",
      "Anzahl NaN : 0\n",
      "5 TIF_r_B1\n",
      "(607, 948)\n",
      "Anzahl NaN : 0\n",
      "6 TIF_r_B10\n",
      "(607, 948)\n",
      "Anzahl NaN : 0\n",
      "7 TIF_r_B11\n",
      "(607, 948)\n",
      "Anzahl NaN : 0\n",
      "8 TIF_r_B2\n",
      "(607, 948)\n",
      "Anzahl NaN : 0\n",
      "9 TIF_r_B3\n",
      "(607, 948)\n",
      "Anzahl NaN : 0\n",
      "10 TIF_r_B4\n",
      "(607, 948)\n",
      "Anzahl NaN : 0\n",
      "11 TIF_r_B5\n",
      "(607, 948)\n",
      "Anzahl NaN : 0\n",
      "12 TIF_r_B6\n",
      "(607, 948)\n",
      "Anzahl NaN : 0\n",
      "13 TIF_r_B7\n",
      "(607, 948)\n",
      "Anzahl NaN : 0\n",
      "14 TIF_r_B8\n",
      "(607, 947)\n",
      "Anzahl NaN : 0\n",
      "15 TIF_r_B9\n",
      "(607, 948)\n",
      "Anzahl NaN : 0\n",
      "16 TIF_r_Curvature\n",
      "(608, 948)\n",
      "Anzahl NaN : 0\n",
      "17 TIF_r_DistStreams\n",
      "(608, 948)\n",
      "Anzahl NaN : 0\n",
      "Anzahl NaN : 0\n",
      "Anzahl infty : 39458\n",
      "Wert infty durch 0 ersetzt / Anzahl infty jetzt: 0\n",
      "18 TIF_r_EucDist_badakhshan\n",
      "(608, 948)\n",
      "Anzahl NaN : 0\n",
      "Anzahl NaN : 0\n",
      "Anzahl infty : 2261\n",
      "Wert infty durch 0 ersetzt / Anzahl infty jetzt: 0\n",
      "19 TIF_r_EucDist_faults\n",
      "(608, 948)\n",
      "Anzahl NaN : 0\n",
      "Anzahl NaN : 0\n",
      "Anzahl infty : 8184\n",
      "Wert infty durch 0 ersetzt / Anzahl infty jetzt: 0\n",
      "20 TIF_r_EucDist_roads\n",
      "(608, 947)\n",
      "Anzahl NaN : 0\n",
      "Anzahl NaN : 0\n",
      "Anzahl infty : 12088\n",
      "Wert infty durch 0 ersetzt / Anzahl infty jetzt: 0\n",
      "21 TIF_n_lc93_32\n",
      "(608, 948)\n",
      "Anzahl NaN : 0\n",
      "TIF_n_LanduseRAL  (608, 948)\n",
      "TIF_n_LanduseRL  (608, 948)\n",
      "TIF_n_LanduseIRA  (608, 948)\n",
      "22 TIF_n_lith_type\n",
      "(608, 948)\n",
      "Anzahl NaN : 0\n",
      "TIF_n_VOLC  (608, 948)\n",
      "TIF_n_SEDI  (608, 948)\n",
      "TIF_n_SEDI  (608, 948)\n",
      "23 TIF_r_NDVI\n",
      "(608, 947)\n",
      "Anzahl NaN : 0\n",
      "24 TIF_r_precip\n",
      "(608, 948)\n",
      "Anzahl NaN : 0\n",
      "25 TIF_r_Slope\n",
      "(608, 948)\n",
      "Anzahl NaN : 0\n",
      "26 TIF_TrueLabels\n",
      "(562, 905)\n",
      "Anzahl NaN : 0\n"
     ]
    }
   ],
   "source": []
  },
  {
   "cell_type": "code",
   "execution_count": 3,
   "metadata": {
    "collapsed": false,
    "jupyter": {
     "outputs_hidden": false
    }
   },
   "outputs": [
    {
     "name": "stdout",
     "output_type": "stream",
     "text": [
      "562 905\n",
      "TIF_n_ASPE\n",
      "(562, 904)\n",
      "TIF_n_ASPN\n",
      "(562, 904)\n",
      "TIF_n_ASPS\n",
      "(562, 904)\n",
      "TIF_n_ASPW\n",
      "(562, 904)\n",
      "TIF_n_LanduseIRA\n",
      "(562, 904)\n",
      "TIF_n_LanduseRAL\n",
      "(562, 904)\n",
      "TIF_n_LanduseRL\n",
      "(562, 904)\n",
      "TIF_n_PLUT\n",
      "(562, 904)\n",
      "TIF_n_SEDI\n",
      "(562, 904)\n",
      "TIF_n_VOLC\n",
      "(562, 904)\n",
      "TIF_r_AFG_GDEM_V21\n",
      "(562, 904)\n",
      "TIF_r_B1\n",
      "(562, 904)\n",
      "TIF_r_B10\n",
      "(562, 904)\n",
      "TIF_r_B11\n",
      "(562, 904)\n",
      "TIF_r_B2\n",
      "(562, 904)\n",
      "TIF_r_B3\n",
      "(562, 904)\n",
      "TIF_r_B4\n",
      "(562, 904)\n",
      "TIF_r_B5\n",
      "(562, 904)\n",
      "TIF_r_B6\n",
      "(562, 904)\n",
      "TIF_r_B7\n",
      "(562, 904)\n",
      "TIF_r_B8\n",
      "(562, 904)\n",
      "TIF_r_B9\n",
      "(562, 904)\n",
      "TIF_r_Curvature\n",
      "(562, 904)\n",
      "TIF_r_DistStreams\n",
      "(562, 904)\n",
      "TIF_r_EucDist_badakhshan\n",
      "(562, 904)\n",
      "TIF_r_EucDist_faults\n",
      "(562, 904)\n",
      "TIF_r_EucDist_roads\n",
      "(562, 904)\n",
      "TIF_r_NDVI\n",
      "(562, 904)\n",
      "TIF_r_Slope\n",
      "(562, 904)\n",
      "TIF_r_precip\n",
      "(562, 904)\n",
      "TIF_TrueLabels shape (562, 905)\n",
      "beheben\n",
      "TIF_TrueLabels shape (562, 904)\n"
     ]
    }
   ],
   "source": [
    "# Ausschneiden und auf die gleiche Größe bringen\n",
    "a,b =LayerTrain['TIF_TrueLabels'].shape \n",
    "print a,b\n",
    "\n",
    "\n",
    "for layer in sorted(LayerTrain.keys()  ) :\n",
    "    if  'TIF_r' in layer or 'TIF_n' in layer:\n",
    "        print layer\n",
    "        LayerTrain[layer]=LayerTrain.get(layer)[0:a,1:b]\n",
    "        print LayerTrain.get(layer).shape\n",
    "    #else :\n",
    "    #    print '---'\n",
    "    #    print layer    \n",
    "    #    LayerTrain[layer]=LayerTrain.get(layer)[:,1:]\n",
    "    #    print LayerTrain.get(layer).shape\n",
    "\n",
    "\n",
    "#print sorted(LayerTrain.keys()  )\n",
    "print 'TIF_TrueLabels shape'  ,LayerTrain['TIF_TrueLabels'].shape   \n",
    "print 'beheben'\n",
    "LayerTrain['TIF_TrueLabels']=LayerTrain.get('TIF_TrueLabels')[:,1:]\n",
    "print 'TIF_TrueLabels shape' , LayerTrain.get('TIF_TrueLabels').shape\n",
    "\n"
   ]
  },
  {
   "cell_type": "code",
   "execution_count": null,
   "metadata": {
    "collapsed": false,
    "jupyter": {
     "outputs_hidden": false
    }
   },
   "outputs": [],
   "source": [
    "\n"
   ]
  },
  {
   "cell_type": "code",
   "execution_count": 15,
   "metadata": {
    "collapsed": false,
    "jupyter": {
     "outputs_hidden": false
    }
   },
   "outputs": [
    {
     "name": "stdout",
     "output_type": "stream",
     "text": [
      "Variable             Type        Data/Info\n",
      "------------------------------------------\n",
      "A                    ndarray     508048x32: 16257536 elems, type `float64`, 130060288 bytes (124 Mb)\n",
      "Folder               str         ../../_Data_ori_Tif/AOI3_V7_Train/\n",
      "LayerTrain           dict        n=31\n",
      "LogisticRegression   type        <class 'sklearn.linear_mo<...>stic.LogisticRegression'>\n",
      "Mat2NormVec          function    <function Mat2NormVec at 0x113338c08>\n",
      "Mat2Vec              function    <function Mat2Vec at 0x113338c80>\n",
      "SVC                  ABCMeta     <class 'sklearn.svm.classes.SVC'>\n",
      "TFWs                 list        n=27\n",
      "TIFs                 list        n=27\n",
      "a                    int         562\n",
      "auc                  function    <function auc at 0x112c2aa28>\n",
      "b                    int         905\n",
      "filr                 str         ../../_Data_ori_Tif/AOI3_<...>_Train/TIF_TrueLabels.tif\n",
      "glob                 module      <module 'glob' from '/Use<...>/lib/python2.7/glob.pyc'>\n",
      "i                    int         31\n",
      "layer                str         TIF_r_precip\n",
      "math                 module      <module 'math' from '/Use<...>2.7/lib-dynload/math.so'>\n",
      "name                 str         TIF_TrueLabels\n",
      "ncols                int         32\n",
      "np                   module      <module 'numpy' from '/Us<...>ages/numpy/__init__.pyc'>\n",
      "pandas               module      <module 'pandas' from '/U<...>ages/pandas/__init__.py'>\n",
      "plt                  module      <module 'matplotlib.pyplo<...>es/matplotlib/pyplot.py'>\n",
      "roc_curve            function    <function roc_curve at 0x112c2a848>\n",
      "sio                  module      <module 'scipy.io' from '<...>s/scipy/io/__init__.pyc'>\n",
      "skio                 module      <module 'skimage.io' from<...>skimage/io/__init__.pyc'>\n",
      "sm                   module      <module 'statsmodels.api'<...>ges/statsmodels/api.pyc'>\n",
      "svm                  module      <module 'sklearn.svm' fro<...>klearn/svm/__init__.pyc'>\n",
      "time                 module      <module 'time' from '/Use<...>2.7/lib-dynload/time.so'>\n",
      "train_test_split     function    <function train_test_split at 0x112d32f50>\n"
     ]
    }
   ],
   "source": [
    "whos"
   ]
  },
  {
   "cell_type": "code",
   "execution_count": null,
   "metadata": {
    "collapsed": false,
    "jupyter": {
     "outputs_hidden": false
    }
   },
   "outputs": [],
   "source": [
    "#Anzeigen der Bilder und Histogramme\n",
    "\n",
    "from BasisFunctions import showImage\n",
    "\n",
    "    \n",
    "    \n",
    "for layer in sorted(LayerTrain):\n",
    "    print layer\n",
    "    showImage( LayerTrain.get(layer))\n",
    "    #print Layers.get(layer)"
   ]
  },
  {
   "cell_type": "code",
   "execution_count": null,
   "metadata": {
    "collapsed": false,
    "jupyter": {
     "outputs_hidden": false
    }
   },
   "outputs": [],
   "source": []
  },
  {
   "cell_type": "code",
   "execution_count": null,
   "metadata": {
    "collapsed": false,
    "jupyter": {
     "outputs_hidden": false
    }
   },
   "outputs": [],
   "source": []
  },
  {
   "cell_type": "markdown",
   "metadata": {},
   "source": [
    "Erster Verarbeitungszweig\n",
    "------------------------\n",
    "- Matrix wird in Vektor reshaped und normalisiert auf [0,1]\n",
    "- Design Matrix wird aus den entstehenden Spalten-Vektoren gebildet.\n"
   ]
  },
  {
   "cell_type": "code",
   "execution_count": 4,
   "metadata": {
    "collapsed": false,
    "jupyter": {
     "outputs_hidden": false
    }
   },
   "outputs": [
    {
     "data": {
      "text/plain": [
       "(508048,)"
      ]
     },
     "execution_count": 4,
     "metadata": {},
     "output_type": "execute_result"
    }
   ],
   "source": [
    "np.ravel(LayerTrain.get('TIF_r_B1')).shape"
   ]
  },
  {
   "cell_type": "code",
   "execution_count": 5,
   "metadata": {
    "collapsed": false,
    "jupyter": {
     "outputs_hidden": false
    }
   },
   "outputs": [
    {
     "name": "stdout",
     "output_type": "stream",
     "text": [
      "32\n",
      "0 TIF_TrueLabels (508048,)\n",
      "1 TIF_n_ASPE (508048,)\n",
      "2 TIF_n_ASPN (508048,)\n",
      "3 TIF_n_ASPS (508048,)\n",
      "4 TIF_n_ASPW (508048,)\n",
      "5 TIF_n_LanduseIRA (508048,)\n",
      "6 TIF_n_LanduseRAL (508048,)\n",
      "7 TIF_n_LanduseRL (508048,)\n",
      "8 TIF_n_PLUT (508048,)\n",
      "9 TIF_n_SEDI (508048,)\n",
      "10 TIF_n_VOLC (508048,)\n",
      "11 TIF_r_AFG_GDEM_V21 (508048,)\n",
      "12 TIF_r_B1 (508048,)\n",
      "13 TIF_r_B10 (508048,)\n",
      "14 TIF_r_B11 (508048,)\n",
      "15 TIF_r_B2 (508048,)\n",
      "16 TIF_r_B3 (508048,)\n",
      "17 TIF_r_B4 (508048,)\n",
      "18 TIF_r_B5 (508048,)\n",
      "19 TIF_r_B6 (508048,)\n",
      "20 TIF_r_B7 (508048,)\n",
      "21 TIF_r_B8 (508048,)\n",
      "22 TIF_r_B9 (508048,)\n",
      "23 TIF_r_Curvature (508048,)\n",
      "24 TIF_r_DistStreams (508048,)\n",
      "25 TIF_r_EucDist_badakhshan (508048,)\n",
      "26 TIF_r_EucDist_faults (508048,)\n",
      "27 TIF_r_EucDist_roads (508048,)\n",
      "28 TIF_r_NDVI (508048,)\n",
      "29 TIF_r_Slope (508048,)\n",
      "30 TIF_r_precip (508048,)\n",
      "[[ 1.          0.          1.         ...,  0.          0.          0.        ]\n",
      " [ 1.          0.          1.         ...,  0.          0.          0.        ]\n",
      " [ 1.          0.          1.         ...,  0.          0.          0.        ]\n",
      " ..., \n",
      " [ 1.          0.          1.         ...,  0.29072893  0.99595141  0.        ]\n",
      " [ 1.          1.          0.         ...,  0.31099081  0.99865049  0.        ]\n",
      " [ 1.          1.          0.         ...,  0.2796905   1.          0.        ]]\n"
     ]
    }
   ],
   "source": [
    "#reshape Matrix in Vektor umwandeln\n",
    "from BasisFunctions import Mat2NormVec,Mat2Vec\n",
    "\n",
    "ncols=len(LayersTRAIN)+1 \n",
    "print ncols\n",
    "A=np.zeros((np.ravel(LayersTRAIN.get('TIF_TrueLabels')).shape[0],ncols))  #Design Matrix Speicher initialisieren\n",
    "\n",
    "A[:,0] = 1.0\n",
    "i=1\n",
    "\n",
    "for layer in sorted(LayersTRAIN):\n",
    "    if 'TIF_r' in layer :\n",
    "        A[:,i]=Mat2NormVec( LayersTRAIN.get(layer))\n",
    "        print i, layer, np.ravel(LayersTRAIN.get(layer)).shape\n",
    "    elif 'TIF_n' in layer :\n",
    "        A[:,i]=Mat2Vec( LayersTRAIN.get(layer))\n",
    "        print i, layer, np.ravel(LayersTRAIN.get(layer)).shape\n",
    "    \n",
    "    else: \n",
    "        i-=1\n",
    "        print i, layer, np.ravel(LayersTRAIN.get(layer)).shape\n",
    "    i+=1\n",
    "A[:,ncols-1]=Mat2Vec(LayersTRAIN.get('TIF_TrueLabels'))\n",
    "\n",
    "\n",
    "print A"
   ]
  },
  {
   "cell_type": "code",
   "execution_count": 6,
   "metadata": {
    "collapsed": false,
    "jupyter": {
     "outputs_hidden": false
    }
   },
   "outputs": [],
   "source": [
    "\n",
    "\n",
    "#sio.savemat('LayersTune.mat', LayerTune)\n",
    "#sio.savemat('Matrix_A_Tune.mat',{'A_Tune': A})\n",
    "\n",
    "#sio.savemat('LayersTest.mat', LayerTest)\n",
    "#sio.savemat('Matrix_A_Test.mat',{'A_Test': A})\n",
    "\n"
   ]
  },
  {
   "cell_type": "code",
   "execution_count": 14,
   "metadata": {
    "collapsed": false,
    "jupyter": {
     "outputs_hidden": false
    }
   },
   "outputs": [
    {
     "name": "stdout",
     "output_type": "stream",
     "text": [
      "[ 0.          0.          0.         ...,  0.29072893  0.31099081\n",
      "  0.2796905 ]\n"
     ]
    }
   ],
   "source": [
    "print A[:,29]"
   ]
  },
  {
   "cell_type": "code",
   "execution_count": 13,
   "metadata": {
    "collapsed": false,
    "jupyter": {
     "outputs_hidden": false
    }
   },
   "outputs": [
    {
     "name": "stdout",
     "output_type": "stream",
     "text": [
      "Maximum Value in DesignMatrix: 1.0\n",
      "    Anzahl TrueLabels A == 0 : 504566\n",
      "    Anzahl TrueLabels A >  0 : 3482\n",
      "                        Summe: 508048\n",
      "  Anz. d. Pixel in ori Image : 508048\n"
     ]
    }
   ],
   "source": [
    "# Kontrolle\n",
    "print 'Maximum Value in DesignMatrix: {}'.format(np.max(A))\n",
    "print '    Anzahl TrueLabels A == 0 : {}'.format( np.sum(A[:,31] ==0))\n",
    "print '    Anzahl TrueLabels A >  0 : {}'.format( np.sum(A[:,31] > 0))\n",
    "print '                        Summe: {}'.format(np.sum(A[:,31] > 0)+np.sum(A[:,31] ==0))\n",
    "\n",
    "print '  Anz. d. Pixel in ori Image : {}'.format(np.ravel(LayerTrain.get('TIF_TrueLabels')).shape[0])\n"
   ]
  },
  {
   "cell_type": "markdown",
   "metadata": {},
   "source": [
    "Zweiter Verabeitungszweig\n",
    "-----------------------\n",
    "- Matrix wird beibehalten und die Werte werden normiert \n",
    "- Es wird ein Layerstack aus allen Ebenen erstellt\n",
    "- Von diesem Layerstack wird dann einen quadratische Teilmenge extrahiert, geschnitten durch alle Ebenen\n",
    "- Auf dieser Teilmenge wird dann 70/30 % geteilt => 70% werden als Trainingsdaten verwendet, 30% zum tunen der Hyperparameter "
   ]
  },
  {
   "cell_type": "code",
   "execution_count": null,
   "metadata": {
    "collapsed": false,
    "jupyter": {
     "outputs_hidden": false
    }
   },
   "outputs": [],
   "source": [
    "NormNDVI=Mat2NormValue(TIF_NDVI)\n",
    "print NormNDVI\n",
    "print NormNDVI.shape\n",
    "showImage(TIF_NDVI)\n",
    "showImage(NormNDVI)"
   ]
  },
  {
   "cell_type": "code",
   "execution_count": null,
   "metadata": {
    "collapsed": false,
    "jupyter": {
     "outputs_hidden": false
    }
   },
   "outputs": [],
   "source": [
    "#kein reshape, nur realvalued Matrix in normalisierte Matrix umwandeln\n",
    "for layer in sorted(Layers):\n",
    "    if 'TIF_r' in layer :\n",
    "        print '---'\n",
    "        Layers[layer]=Mat2NormValue( Layers.get(layer))\n",
    "        print layer, Layers.get(layer).shape\n",
    "    else:  \n",
    "        print '---'\n",
    "        print layer, Layers.get(layer).shape\n",
    "\n",
    "        \n",
    "sio.savemat('LayersTrain.mat', Layers)\n"
   ]
  },
  {
   "cell_type": "code",
   "execution_count": null,
   "metadata": {
    "collapsed": false,
    "jupyter": {
     "outputs_hidden": false
    }
   },
   "outputs": [],
   "source": [
    "print np.max(LayerTrain.get('TIF_r_precip'))"
   ]
  },
  {
   "cell_type": "code",
   "execution_count": null,
   "metadata": {
    "collapsed": false,
    "jupyter": {
     "outputs_hidden": false
    }
   },
   "outputs": [],
   "source": [
    "Layers.get('TIF_r_Slope')"
   ]
  },
  {
   "cell_type": "code",
   "execution_count": null,
   "metadata": {
    "collapsed": false,
    "jupyter": {
     "outputs_hidden": false
    }
   },
   "outputs": [],
   "source": []
  },
  {
   "cell_type": "code",
   "execution_count": null,
   "metadata": {
    "collapsed": false,
    "jupyter": {
     "outputs_hidden": false
    }
   },
   "outputs": [],
   "source": [
    "from BasisFunctions import makeDesignMatrix\n",
    "\n",
    "A[:,0] = 1.0  # konstantes Attribut \n",
    "i=1\n",
    "print A.shape\n",
    "\n",
    "    #reshape Matrix in Vektor umwandeln\n",
    "for layer in sorted(Ebenen):\n",
    "        #print i\n",
    "        if 'TIF_r' in layer :\n",
    "            Ebenen[layer]=Mat2NormVec( Ebenen.get(layer))\n",
    "            #print layer, Ebenen.get(layer).shape,np.min(Ebenen.get(layer)),np.max(Ebenen.get(layer))\n",
    "            A[:,i]=Ebenen.get(layer)[ : np.ceil(np.ravel(Ebenen.get('TrueLabels') ).shape[0]*0.7) ]\n",
    "            B[:c,i]=Ebenen.get(layer)[ np.ceil(np.ravel(Ebenen.get('TrueLabels')).shape[0]*0.7) : ]\n",
    "            #print B.shape\n",
    "        elif ('TIF_n' in layer) or ('TrueLabels' in layer):  \n",
    "            Ebenen[layer]=np.ravel(Ebenen.get(layer))\n",
    "            #print layer, Ebenen.get(layer).shape, np.ceil(np.ravel(Ebenen.get('TrueLabels')).shape[0]*0.7)\n",
    "                #,np.min(Ebenen.get(layer)), np.max(Ebenen.get(layer))\n",
    "            A[:,i]=Ebenen.get(layer)[ : np.ceil(np.ravel(Ebenen.get('TrueLabels')).shape[0]*0.7) ]\n",
    "            B[:c,i]=Ebenen.get(layer)[ np.ceil(np.ravel(Ebenen.get('TrueLabels')).shape[0]*0.7) : ]\n",
    "        else:\n",
    "            i-=1\n",
    "        #    Ebenen[layer]=Mat2Vec(Ebenen.get(layer))\n",
    "        #    print layer, Ebenen.get(layer).shape,np.min(Ebenen.get(layer)), np.max(Ebenen.get(layer))\n",
    "        #    A[i,:]=Ebenen.get(layer)\n",
    "        i+=1\n",
    "     \n",
    "\n",
    "\n"
   ]
  },
  {
   "cell_type": "code",
   "execution_count": null,
   "metadata": {
    "collapsed": true,
    "jupyter": {
     "outputs_hidden": true
    }
   },
   "outputs": [],
   "source": []
  },
  {
   "cell_type": "code",
   "execution_count": null,
   "metadata": {
    "collapsed": true,
    "jupyter": {
     "outputs_hidden": true
    }
   },
   "outputs": [],
   "source": [
    "# Todo'S\n",
    "\n",
    "# 1.)  Color index Tif richtig lesen --> NDVI werte richtig auslesen (falls nötig über matlab machen)... ok\n",
    "# 2.)  Nominale Grids lith-type(Gesteinsarten), lc93_32(Landuse) richtig einbeziehen, falls nur 0 dann rausschmeißen...ok\n",
    "# 3.)  \"is null\" / \"is nan\" Prüfungen machen , Histogramme ausgeben, ......ok    (Test auf Normalverteilung)\n",
    "# 4.)  Grids aus matlab (Slope,Curvature, Hangrichtung, dist_streams ) als tif speichern und importieren... ok\n",
    "# 5.)  dist-Raster logarithmieren....ok\n",
    "# 6.)  geograpische Aufteilung der Train und Testdaten....ok vorher in ArcGIS und dann die Verarbeitung als Funktion 2x ausführen\n",
    "# 7.)  A als .Mat abspeichern...ok\n",
    "#      Train Test splitten ....ok\n",
    "# 8.)  Lineare LogReg anwenden....ok\n",
    "# 9.)  Korrelation zwischen den Attributen untersuchen...ok\n",
    "# 10.) posterior probability plotten "
   ]
  },
  {
   "cell_type": "code",
   "execution_count": null,
   "metadata": {
    "collapsed": false,
    "jupyter": {
     "outputs_hidden": false
    }
   },
   "outputs": [],
   "source": [
    "#Train und Testdaten splitten\n",
    "X_Train,X_Test,y_Train,y_Test=train_test_split(A[:,0:29], A[:,29], test_size=0.5,random_state=42)\n",
    "\n",
    "\n",
    "#Funktion draus machen\n",
    "# n ... Anzahl der logarithmisch erhöhten Trainingssamples (0...50) aus ExamplesTest=np.int16(np.logspace(2,5) )\n",
    "# AnzI... Anzahl der Iterationen, unabhängigen Ziehung AnzI =20\n",
    "def perform_linear_LogReg(n,AnzI,X_Train,X_Test,y_Train,y_Test):\n",
    "        print X_Train.shape\n",
    "        print X_Test.shape\n",
    "        # Umwandeln der Werte größer als 0 in 1\n",
    "        y_Train=(y_Train > 0)*1\n",
    "        y_Test =(y_Test > 0)*1\n",
    "        XD=np.zeros([X_Train.shape[0],30])\n",
    "        XD[:,0:29]=X_Train\n",
    "        XD[:,29]=y_Train.T\n",
    "        idx_pos = XD[:,29] > 0\n",
    "        XD_pos=XD[idx_pos]\n",
    "        XD_neg=XD[~idx_pos]\n",
    "        print XD_neg.shape\n",
    "        if n==0 | n<20 :\n",
    "            n=20\n",
    "        if AnzI ==0:\n",
    "            AnzI=20\n",
    "#---------------------------------------------------------------------\n",
    "# Logistic Regression (linear Model) \n",
    "#---------------------------------------------------------------------\n",
    "        examplesLin =[]\n",
    "        rocValues_Mean=[]\n",
    "        rocValues_Var=[]\n",
    "        X_Train_LRLIN1=[]\n",
    "        r1=0\n",
    "        r2=0\n",
    "        t0=time.time()\n",
    "        ExamplesTest=np.int16(np.logspace(2,5) )\n",
    "        ti_1=t0\n",
    "#for i in range(20,25000,100):        # Schleife, die die Anzahl der Trainingssamples, die verarbeitet werden, erhöht\n",
    "for i in ExamplesTest[0:n]:\n",
    "    rocValues=[]                   # in hunderter Schritten durchlaufen\n",
    "    # ziehen von genau x positiven Beispielen und y negativen Beispielen bei dieser Anzahl von Trainingsbeispielen\n",
    "    # r1+r2 =i\n",
    "    r1 = int(round(0.026*i))    # 1. Bestimmung der Anzahl der positiv Beispiele, die zu ziehen sind für dieses i        \n",
    "    if r1 ==0:                  # r1 muss mindestens 1 sein!\n",
    "        r1=1\n",
    "    r2 = i - r1                 # 2. Bestimmung der Anzahl der negativ Beispiele, die zu ziehen sind für dieses i\n",
    "    \n",
    "    ti=time.time()\n",
    "    print 'step: {} time used: {} sec'.format(i,ti-ti_1)\n",
    "\n",
    "    ti_1=time.time()\n",
    "    for j in range(0,AnzI):              # Schleife, die 20x diese Anzahl permutiert und die LogReg rechnet, 20x AUC bestimmt für Examples = i  \n",
    "       \n",
    "        #scoreOfModel_i=0\n",
    "        # r1 positive Beispiel & r2 negative Beispiel zufällig aus Train und Test ziehen\n",
    "        \n",
    "        X_Train_LRLIN1=XD_pos[np.random.choice(XD_pos.shape[0], r1)]\n",
    "        X_Train_LRLIN1=np.concatenate((X_Train_LRLIN1,XD_neg[np.random.choice(XD_neg.shape[0], r2)]), axis=0) \n",
    "       \n",
    "        X_Train_LRLIN1=X_Train_LRLIN1[np.random.permutation(i),:]\n",
    "        \n",
    "        X_Train_LR =X_Train_LRLIN1[:,0:29]\n",
    "        y_Train_LR =X_Train_LRLIN1[:,29]\n",
    "        \n",
    "        y_Train_LR = np.ravel(y_Train_LR)\n",
    "        \n",
    "        mdl_LinLR = LogisticRegression(penalty='l2',solver='liblinear',n_jobs=1,C=150) \n",
    "        #mdl_LinLR = mdl_LinLR.fit(X_Train_LRLIN, y_Train_LRLIN)\n",
    "        #y_scoreLR = mdl_LinLR.fit(X_Train_LRLIN, y_Train_LRLIN).predict_proba(X_Test)[:,1]\n",
    "        y_scoreLR = mdl_LinLR.fit(X_Train_LR, y_Train_LR).decision_function(X_Test)\n",
    "        #scoreOfModel_i =mdl_LinLR.fit(X_Train_LRLIN, y_Train_LRLIN).score(X_Test,y_Test)\n",
    "        \n",
    "        fprLR = dict()\n",
    "        tprLR = dict()\n",
    "        #roc_aucLR = dict()\n",
    "        fprLR, tprLR, _ = roc_curve(y_Test, y_scoreLR,pos_label=1)\n",
    "        #fprLR, tprLR, _ = roc_curve(y_Test, y_scoreLR,pos_label=1)\n",
    "        rocValues.append(auc(fprLR, tprLR))\n",
    "        #scoreOfModels.append(scoreOfModel_i)\n",
    "        \n",
    "        X_Train_LR=[]\n",
    "        y_Train_LR=[]\n",
    "        X_Train_LRLIN1=[]\n",
    "    rocValues_Mean.append(np.mean(rocValues))             # Mittelwert der 20 AUC Berechnungen\n",
    "    rocValues_Var.append(np.var(rocValues)/AnzI )           # Varianz des Mittelwertes!  \n",
    "    #scoreOfModel_Var.append(np.var(scoreOfModels))   \n",
    "    examplesLin.append(i)    \n",
    "        \n",
    "\n",
    "X_Train_LR=None\n",
    "y_Train_LR=None\n",
    "te=time.time()\n",
    "#sio.savemat('LogREG_Linear_MeanAUC_examples_20160126.mat',{'examples':examplesLin,'rocValues_Mean':rocValues_Mean,'rocValues_Var':rocValues_Var})\n",
    "#print \"fertig...\"\n",
    "#print 'all time used: {} sec / {} min'.format(te-t0, (te-t0)/60.0)\n",
    "perfString='all time used: {} sec / {} min'.format(te-t0, (te-t0)/60.0)\n",
    "return examplesLin,rocValues_Mean,rocValues_Var,perfString"
   ]
  },
  {
   "cell_type": "code",
   "execution_count": null,
   "metadata": {
    "collapsed": false,
    "jupyter": {
     "outputs_hidden": false
    }
   },
   "outputs": [],
   "source": [
    "from scripts.BasisFunctions import plot_learningCurve\n",
    "\n",
    "plot_learningCurve(examplesLin,rocValues_Mean,rocValues_Var)"
   ]
  },
  {
   "cell_type": "code",
   "execution_count": null,
   "metadata": {},
   "outputs": [],
   "source": [
    "#--------------------------------------------------------------------\n",
    "#Anhang\n",
    "Folder='../../_Data_ori_Tif/AOI3_V7_Test/'\n",
    "#Folder='../../_Data_ori_Tif/AOI3_V7_Tune/'\n",
    "#Folder='../../_Data_ori_Tif/AOI3_V7_Train/'\n",
    "\n",
    "\n",
    "Layers=dict()\n",
    "\n",
    "TIF_r_dem=np.float32(skio.imread(Folder+'TIF_AFG_GDEM_V21.tif'))\n",
    "print 'TIF_r_dem Shape: ', TIF_r_dem.shape,TIF_r_dem.dtype\n",
    "#LayerList.append('TIF_r_dem')\n",
    "Layers['TIF_r_dem'] = TIF_r_dem\n",
    "#----------------\n",
    "\n",
    "TIF_r_Slope=np.float32(skio.imread(Folder+'TIF_Slope.tif'))\n",
    "print 'TIF_r_Slope Shape: ', TIF_r_Slope.shape,TIF_r_Slope.dtype\n",
    "Layers['TIF_r_Slope']=TIF_r_Slope\n",
    "#----------------\n",
    "\n",
    "TIF_r_Curvature=np.float32(skio.imread(Folder+'TIF_Curvature.tif'))\n",
    "print 'TIF_r_Curvature Shape: ', TIF_r_Curvature.shape,TIF_r_Curvature.dtype\n",
    "Layers['TIF_r_Curvature']=TIF_r_Curvature\n",
    "#----------------\n",
    "\n",
    "TIF_n_ASPN=np.float32(skio.imread(Folder+'TIF_ASPN.tif'))\n",
    "print 'TIF_n_ASPN Shape: ', TIF_n_ASPN.shape,TIF_n_ASPN.dtype\n",
    "Layers['TIF_n_ASPN']=TIF_n_ASPN\n",
    "#----------------\n",
    "\n",
    "TIF_n_ASPS=np.float32(skio.imread(Folder+'TIF_ASPS.tif'))\n",
    "print 'TIF_n_ASPS Shape: ', TIF_n_ASPS.shape,TIF_n_ASPS.dtype\n",
    "Layers['TIF_n_ASPS']=TIF_n_ASPS\n",
    "#----------------\n",
    "\n",
    "TIF_n_ASPE=np.float32(skio.imread(Folder+'TIF_ASPE.tif'))\n",
    "print 'TIF_n_ASPE Shape: ', TIF_n_ASPE.shape,TIF_n_ASPE.dtype\n",
    "Layers['TIF_n_ASPE']=TIF_n_ASPE\n",
    "#----------------\n",
    "\n",
    "TIF_n_ASPW=np.float32(skio.imread(Folder+'TIF_ASPW.tif'))\n",
    "print 'TIF_n_ASPW Shape: ', TIF_n_ASPW.shape,TIF_n_ASPW.dtype\n",
    "Layers['TIF_n_ASPW']=TIF_n_ASPW\n",
    "#----------------\n",
    "\n",
    "TIF_r_DistStreams=np.float32(skio.imread(Folder+'TIF_DistStreams.tif'))\n",
    "print 'TIF_r_DistStreams Shape: ', TIF_r_DistStreams.shape,TIF_r_DistStreams.dtype\n",
    "#----------------\n",
    "TIF_r_EucDist_faults=np.float32(skio.imread(Folder+'TIF_EucDist_faults.tif'))\n",
    "print 'TIF_r_EucDist_faults Shape: ', TIF_r_EucDist_faults.shape,TIF_r_EucDist_faults.dtype\n",
    "#-----------------------------\n",
    "TIF_r_EucDist_roads=np.float32(skio.imread(Folder+'TIF_EucDist_roads.tif'))\n",
    "print 'TIF_r_EucDist_roads Shape: ', TIF_r_EucDist_roads.shape,TIF_r_EucDist_roads.dtype\n",
    "#-----------------------------\n",
    "TIF_r_EucDist_takhar=np.float32(skio.imread(Folder+'TIF_EucDist_takhar.tif'))\n",
    "print 'TIF_r_EucDist_takhar Shape: ', TIF_r_EucDist_takhar.shape,TIF_r_EucDist_takhar.dtype\n",
    "#---------------------------------------------------------------------\n",
    "\n",
    "print 'Distance Raster logarithmieren'\n",
    "\n",
    "TIF_r_EucDist_faults =np.log(TIF_r_EucDist_faults)\n",
    "TIF_r_EucDist_roads  =np.log(TIF_r_EucDist_roads)\n",
    "TIF_r_EucDist_takhar =np.log(TIF_r_EucDist_takhar)\n",
    "TIF_r_DistStreams    =np.log(TIF_r_DistStreams)\n",
    "\n",
    "#Prüfung auf Datenvollständigkeit\n",
    "#NaN - Not a Number\n",
    "# Infty....\n",
    "print 'Anzahl NaN in TIF_EucDist_faults: {}'.format(np.sum(np.isnan(TIF_r_EucDist_faults)*1))\n",
    "print 'Anzahl NaN in TIF_EucDist_roads: {}'.format(np.sum(np.isnan(TIF_r_EucDist_roads)*1))\n",
    "print 'Anzahl NaN in TIF_EucDist_takhar: {}'.format(np.sum(np.isnan(TIF_r_EucDist_takhar)*1))\n",
    "print 'Anzahl NaN in TIF_DistStreams: {}'.format(np.sum(np.isnan(TIF_r_DistStreams)*1))\n",
    "\n",
    "print 'Anzahl infty in TIF_EucDist_faults: {}'.format(np.sum(np.isinf(TIF_r_EucDist_faults)*1))\n",
    "print 'Anzahl infty in TIF_EucDist_roads: {}'.format(np.sum(np.isinf(TIF_r_EucDist_roads)*1))\n",
    "print 'Anzahl infty in TIF_EucDist_takhar: {}'.format(np.sum(np.isinf(TIF_r_EucDist_takhar)*1))\n",
    "print 'Anzahl infty in TIF_DistStreams: {}'.format(np.sum(np.isinf(TIF_r_DistStreams)*1))\n",
    "\n",
    "print '...diese Stellen werden wieder zu 0 gesetzt:'\n",
    "TIF_r_EucDist_faults[np.isinf(TIF_r_EucDist_faults)]=0\n",
    "TIF_r_EucDist_roads[np.isinf(TIF_r_EucDist_roads)]=0\n",
    "TIF_r_EucDist_takhar[np.isinf(TIF_r_EucDist_takhar)]=0\n",
    "TIF_r_DistStreams[np.isinf(TIF_r_DistStreams)]=0\n",
    "\n",
    "print 'Anzahl infty in TIF_EucDist_faults: {}'.format(np.sum(np.isinf(TIF_r_EucDist_faults)*1))\n",
    "print 'Anzahl infty in TIF_EucDist_roads: {}'.format(np.sum(np.isinf(TIF_r_EucDist_roads)*1))\n",
    "print 'Anzahl infty in TIF_EucDist_takhar: {}'.format(np.sum(np.isinf(TIF_r_EucDist_takhar)*1))\n",
    "print 'Anzahl infty in TIF_DistStreams: {}'.format(np.sum(np.isinf(TIF_r_DistStreams)*1))\n",
    "\n",
    "Layers['TIF_r_DistStreams']   = TIF_r_DistStreams                                           \n",
    "Layers['TIF_r_EucDist_faults']= TIF_r_EucDist_faults                                       # Namensbearbeitung weiter unten\n",
    "Layers['TIF_r_EucDist_roads'] = TIF_r_EucDist_roads                                     # Namensbearbeitung weiter unten\n",
    "Layers['TIF_r_EucDist_takhar']= TIF_r_EucDist_takhar                                     # Namensbearbeitung weiter unten \n",
    "\n",
    "#-------------------------------------------------------------------\n",
    "TIF_r_precip=np.float32(skio.imread(Folder+'TIF_precip.tif'))\n",
    "print 'TIF_r_precip Shape: ', TIF_r_precip.shape,TIF_r_precip.dtype\n",
    "Layers['TIF_r_precip']=TIF_r_precip\n",
    "#-----------------------------\n",
    "\n",
    "\n",
    "TIF_n_lc93_32=np.float32(skio.imread(Folder+'TIF_lc93_32.tif'))\n",
    "print 'TIF_n_lc93_32 Shape: ', TIF_n_lc93_32.shape,TIF_n_lc93_32.dtype\n",
    "Layers['TIF_n_lc93_32']=TIF_n_lc93_32\n",
    "#-----------------------------\n",
    "\n",
    "Layers['TIF_n_LanduseRAL']=((Layers.get('TIF_n_lc93_32') ==1) | (Layers.get('TIF_n_lc93_32') ==5))*1.0\n",
    "print 'TIF_n_LanduseRAL ', Layers['TIF_n_LanduseRAL'].shape\n",
    "        \n",
    "Layers['TIF_n_LanduseRL']=(Layers.get('TIF_n_lc93_32') ==2)*1.0\n",
    "print 'TIF_n_LanduseRL ', Layers['TIF_n_LanduseRL'].shape\n",
    "        \n",
    "Layers['TIF_n_LanduseIRA']=((Layers.get('TIF_n_lc93_32') ==4) | (Layers.get('TIF_n_lc93_32') ==9) |(Layers.get('TIF_n_lc93_32') ==10))*1.0\n",
    "print 'TIF_n_LanduseIRA' ,Layers['TIF_n_LanduseIRA'].shape\n",
    "       \n",
    "del Layers['TIF_n_lc93_32']   \n",
    "\n",
    "TIF_n_lith_type =np.float32(skio.imread(Folder+'TIF_lith_type.tif'))\n",
    "print 'TIF_n_lith_type Shape: ', TIF_n_lith_type.shape,TIF_n_lith_type.dtype\n",
    "Layers['TIF_n_lith_type']=TIF_n_lith_type\n",
    "#-----------------------------\n",
    "#        Layers[layer]=Layers.get(layer)[0:(TrueLabels.shape[0]-1),0:(TrueLabels.shape[1]-1)]\n",
    "    \n",
    "Layers['TIF_n_VOLC']= (Layers.get('TIF_n_lith_type') == 1)*1.0  # % Volcanic ...... Vulkanisches Gestein\n",
    "print 'TIF_n_VOLC ', Layers['TIF_n_VOLC'].shape\n",
    "        \n",
    "Layers['TIF_n_SEDI']= (Layers.get('TIF_n_lith_type') == 2)*1.0  # % Sedimentary ... Sedimente\n",
    "print 'TIF_n_SEDI ', Layers['TIF_n_SEDI'].shape\n",
    "       \n",
    "Layers['TIF_n_PLUT']= (Layers.get('TIF_n_lith_type') == 3)*1.0  # % Plutonic....... Plutonisches Gestein\n",
    "print 'TIF_n_PLUT ', Layers['TIF_n_PLUT'].shape\n",
    "\n",
    "#TIF_META= (TIF_lith_type == 4) # % Metamorphic.... Metamorphes Gestein .... nicht vorhanden!!!! \n",
    "  \n",
    "del Layers['TIF_n_lith_type'] \n",
    "\n",
    "\n",
    "TIF_r_NDVI=np.float32(skio.imread(Folder+'TIF_NDVI.tif'))\n",
    "print 'TIF_r_NDVI Shape: ', TIF_r_NDVI.shape,TIF_r_NDVI.dtype\n",
    "Layers['TIF_r_NDVI']=TIF_r_NDVI\n",
    "#-----------------------------\n",
    "\n",
    "TIF_r_B1=np.float32(skio.imread(Folder+'TIF_B1.tif'))\n",
    "print 'TIF_r_B1 Shape: ', TIF_r_B1.shape,TIF_r_B1.dtype\n",
    "Layers['TIF_r_B1']=TIF_r_B1\n",
    "#-----------------------------\n",
    "\n",
    "TIF_r_B2=np.float32(skio.imread(Folder+'TIF_B2.tif'))\n",
    "print 'TIF_r_B2 Shape: ', TIF_r_B2.shape,TIF_r_B2.dtype\n",
    "Layers['TIF_r_B2']=TIF_r_B2\n",
    "#-----------------------------\n",
    "\n",
    "TIF_r_B3=np.float32(skio.imread(Folder+'TIF_B3.tif'))\n",
    "print 'TIF_r_B3 Shape: ', TIF_r_B3.shape,TIF_r_B3.dtype\n",
    "Layers['TIF_r_B3']=TIF_r_B3\n",
    "#-----------------------------\n",
    "\n",
    "TIF_r_B4=np.float32(skio.imread(Folder+'TIF_B4.tif'))\n",
    "print 'TIF_r_B4 Shape: ', TIF_r_B4.shape,TIF_r_B4.dtype\n",
    "Layers['TIF_r_B4']=TIF_r_B4\n",
    "#-----------------------------\n",
    "\n",
    "TIF_r_B5=np.float32(skio.imread(Folder+'TIF_B5.tif'))\n",
    "print 'TIF_r_B5 Shape: ', TIF_r_B5.shape,TIF_r_B5.dtype\n",
    "Layers['TIF_r_B5']=TIF_r_B5\n",
    "#-----------------------------\n",
    "\n",
    "TIF_r_B6=np.float32(skio.imread(Folder+'TIF_B6.tif'))\n",
    "print 'TIF_r_B6 Shape: ', TIF_r_B6.shape,TIF_r_B6.dtype\n",
    "Layers['TIF_r_B6']=TIF_r_B6\n",
    "#-----------------------------\n",
    "\n",
    "TIF_r_B7=np.float32(skio.imread(Folder+'TIF_B7.tif'))\n",
    "print 'TIF_r_B7 Shape: ', TIF_r_B7.shape,TIF_r_B7.dtype\n",
    "Layers['TIF_r_B7']=TIF_r_B7\n",
    "#-----------------------------\n",
    "\n",
    "TIF_r_B8=np.float32(skio.imread(Folder+'TIF_B8.tif'))\n",
    "print 'TIF_r_B8 Shape: ', TIF_r_B8.shape,TIF_r_B8.dtype\n",
    "Layers['TIF_r_B8']=TIF_r_B8\n",
    "#-----------------------------\n",
    "\n",
    "TIF_r_B9=np.float32(skio.imread(Folder+'TIF_B9.tif'))\n",
    "print 'TIF_r_B9 Shape: ', TIF_r_B9.shape,TIF_r_B9.dtype\n",
    "Layers['TIF_r_B9']=TIF_r_B9\n",
    "#-----------------------------\n",
    "\n",
    "\n",
    "TIF_r_B10=np.float32(skio.imread(Folder+'TIF_B10.tif'))\n",
    "print 'TIF_r_B10 Shape: ', TIF_r_B10.shape,TIF_r_B10.dtype\n",
    "Layers['TIF_r_B10']=TIF_r_B10\n",
    "#-----------------------------\n",
    "\n",
    "TIF_r_B11=np.float32(skio.imread(Folder+'TIF_B11.tif'))\n",
    "print 'TIF_r_B11 Shape: ', TIF_r_B11.shape,TIF_r_B11.dtype\n",
    "Layers['TIF_r_B11']=TIF_r_B11\n",
    "#-----------------------------\n",
    "\n",
    "\n",
    "print '----------------------------'\n",
    "\n",
    "TrueLabels=np.float32(skio.imread(Folder+'TIF_TrueLabels.tif'))\n",
    "print 'TrueLabels Shape: ', TrueLabels.shape,TrueLabels.dtype\n",
    "Layers['TrueLabels']=TrueLabels\n",
    "\n",
    "Layers['TrueLabels']=(Layers.get('TrueLabels') > 0)*1.0\n",
    "#-----------------------------\n",
    "\n",
    "\n",
    "print 'Arrays auf gleiche Größe bringen.... '\n",
    "print '----------------------------------'\n",
    "TIF_r_B1=TIF_r_B1[1:(TrueLabels.shape[0]-1),1:TrueLabels.shape[1]]\n",
    "print TIF_r_B1.shape\n",
    "TIF_r_B2=TIF_r_B2[0:(TrueLabels.shape[0]-1),0:TrueLabels.shape[1]]\n",
    "print TIF_r_B2.shape\n",
    "TIF_r_B3=TIF_r_B3[0:(TrueLabels.shape[0]-1),0:TrueLabels.shape[1]]\n",
    "print TIF_r_B3.shape\n",
    "TIF_r_B4=TIF_r_B4[0:(TrueLabels.shape[0]-1),0:TrueLabels.shape[1]]\n",
    "print TIF_r_B4.shape\n",
    "TIF_r_B5=TIF_r_B5[0:(TrueLabels.shape[0]-1),0:TrueLabels.shape[1]]\n",
    "print TIF_r_B5.shape\n",
    "TIF_r_B6=TIF_r_B6[0:(TrueLabels.shape[0]-1),0:TrueLabels.shape[1]]\n",
    "print TIF_r_B6.shape\n",
    "TIF_r_B7=TIF_r_B7[0:(TrueLabels.shape[0]-1),0:TrueLabels.shape[1]]\n",
    "print TIF_r_B7.shape\n",
    "TIF_r_B8=TIF_r_B8[0:(TrueLabels.shape[0]-1),0:TrueLabels.shape[1]]\n",
    "print TIF_r_B8.shape\n",
    "TIF_r_B9=TIF_r_B9[0:(TrueLabels.shape[0]-1),0:TrueLabels.shape[1]]\n",
    "print TIF_r_B9.shape\n",
    "TIF_r_B10=TIF_r_B10[0:(TrueLabels.shape[0]-1),0:TrueLabels.shape[1]]\n",
    "print TIF_r_B10.shape\n",
    "TIF_r_B11=TIF_r_B11[0:(TrueLabels.shape[0]-1),0:TrueLabels.shape[1]]\n",
    "print TIF_r_B11.shape\n",
    "#--------------------------------------------------------------------------------\n",
    "\n",
    "TIF_r_dem=TIF_r_dem[0:(TrueLabels.shape[0]-2),0:TrueLabels.shape[1]]\n",
    "print TIF_r_dem.shape\n",
    "TIF_r_EucDist_takhar=TIF_r_EucDist_takhar[0:(TrueLabels.shape[0]-2),0:TrueLabels.shape[1]]\n",
    "print TIF_r_EucDist_takhar.shape\n",
    "TIF_r_NDVI=TIF_r_NDVI[0:(TrueLabels.shape[0]-2),0:TrueLabels.shape[1]]\n",
    "print TIF_r_NDVI.shape\n",
    "TIF_r_Slope=TIF_r_Slope[0:(TrueLabels.shape[0]-2),0:TrueLabels.shape[1]]\n",
    "print TIF_r_Slope.shape\n",
    "TIF_r_DistStreams=TIF_r_DistStreams[0:(TrueLabels.shape[0]-2),0:TrueLabels.shape[1]]\n",
    "print TIF_r_DistStreams.shape\n",
    "TIF_r_Curvature=TIF_r_Curvature[0:(TrueLabels.shape[0]-2),0:TrueLabels.shape[1]]\n",
    "print TIF_r_DistStreams.shape\n",
    "TIF_n_ASPE=TIF_n_ASPE[0:(TrueLabels.shape[0]-2),0:TrueLabels.shape[1]]\n",
    "print TIF_n_ASPE.shape\n",
    "TIF_n_ASPN=TIF_n_ASPN[0:(TrueLabels.shape[0]-2),0:TrueLabels.shape[1]]\n",
    "print TIF_n_ASPN.shape\n",
    "TIF_n_ASPS=TIF_n_ASPS[0:(TrueLabels.shape[0]-2),0:TrueLabels.shape[1]]\n",
    "print TIF_n_ASPS.shape\n",
    "TIF_n_ASPW=TIF_n_ASPW[0:(TrueLabels.shape[0]-2),0:TrueLabels.shape[1]]\n",
    "print TIF_n_ASPW.shape\n",
    "#--------------------------------------------------------------------------------\n",
    "\n",
    "\n",
    "\n",
    "TIF_r_precip=TIF_r_precip[0:(TrueLabels.shape[0]-2),0:TrueLabels.shape[1]]\n",
    "print TIF_r_precip.shape\n",
    "TIF_r_EucDist_faults=TIF_r_EucDist_faults[0:(TrueLabels.shape[0]-2),0:TrueLabels.shape[1]]\n",
    "print TIF_r_EucDist_faults.shape\n",
    "TIF_r_EucDist_roads=TIF_r_EucDist_roads[0:(TrueLabels.shape[0]-2),0:TrueLabels.shape[1]]\n",
    "print TIF_r_EucDist_roads.shape\n",
    "\n",
    "\n",
    "\n",
    "\n",
    "print '---------TIF_dem, Dist Streams,-------------'\n",
    "\n",
    "showImage(TIF_dem)\n",
    "showImage(TIF_Slope)\n",
    "\n",
    "showImage(TIF_Curvature)\n",
    "showImage(TIF_ASPE)\n",
    "showImage(TIF_ASPN)\n",
    "showImage(TIF_ASPS)\n",
    "showImage(TIF_ASPW)\n",
    "showImage(TIF_DistStreams2)\n",
    "print '---------TIF_precip, Dist faults, Roads, City-------------'\n",
    "\n",
    "showImage(TIF_precip)\n",
    "\n",
    "showImage(TIF_EucDist_faults2)\n",
    "showImage(TIF_EucDist_roads2)\n",
    "showImage(TIF_EucDist_takhar2)\n",
    "print '---------TIF_NDVI-------------'\n",
    "\n",
    "showImage(TIF_NDVI)\n",
    "\n",
    "print '---------TIF_lc93_32--------------'\n",
    "showImage(TIF_lc93_32)\n",
    "showImage(TIF_LanduseRAL)\n",
    "showImage(TIF_LanduseRL)\n",
    "showImage(TIF_LanduseIRA)\n",
    "print '---------TIF_lith_type-------------'\n",
    "showImage(TIF_lith_type)\n",
    "showImage(TIF_VOLC)\n",
    "showImage(TIF_SEDI)\n",
    "showImage(TIF_PLUT)\n",
    "\n",
    "print '---------TIF_LS-------------'\n",
    "\n",
    "showImage(TIF_B1)\n",
    "showImage(TIF_B2)\n",
    "showImage(TIF_B3)\n",
    "showImage(TIF_B4)\n",
    "showImage(TIF_B5)\n",
    "showImage(TIF_B6)\n",
    "showImage(TIF_B7)\n",
    "showImage(TIF_B8)\n",
    "showImage(TIF_B9)\n",
    "showImage(TIF_B10)\n",
    "showImage(TIF_B11)\n",
    "\n",
    "\n",
    "\n",
    "showImage(TrueLabels)\n",
    "\n",
    "\n",
    "\n",
    "ListLayers=['TIF_dem','TIF_Slope','TIF_Curvature','TIF_ASPE','TIF_ASPN','TIF_ASPS','TIF_ASPW','TIF_DistStreams2','TIF_precip','TIF_EucDist_faults2','TIF_EucDist_roads2','TIF_EucDist_takhar2','TIF_NDVI','TIF_LanduseRAL','TIF_LanduseRL','TIF_LanduseIRA','TIF_VOLC','TIF_SEDI','TIF_PLUT','TIF_B1','TIF_B2','TIF_B3','TIF_B4','TIF_B5','TIF_B6','TIF_B7','TIF_B8','TIF_B9','TIF_B10','TIF_B11']\n",
    "for layer in ListLayers:\n",
    "    print layer\n",
    "print '---------------------'\n",
    "\n",
    "ListNormLayers=[]\n",
    "for layer in ListLayers:\n",
    "    print layer\n",
    "    ListNormLayers.append('Norm'+layer)\n",
    "    \n",
    "for Normlayer in ListNormLayers:\n",
    "    print Normlayer    \n",
    "\n",
    "\n",
    "    \n",
    "    \n",
    "TIF_demVec   =Mat2Vec(TIF_dem)\n",
    "TIF_SlopeVec =Mat2Vec(TIF_Slope)\n",
    "\n",
    "TIF_CurvatureVec   =Mat2Vec(TIF_Curvature)\n",
    "TIF_ASPEVec        =Mat2Vec(TIF_ASPE)\n",
    "TIF_ASPNVec        =Mat2Vec(TIF_ASPN)\n",
    "TIF_ASPSVec        =Mat2Vec(TIF_ASPS)\n",
    "TIF_ASPWVec        =Mat2Vec(TIF_ASPW)\n",
    "TIF_DistStreamsVec =Mat2Vec(TIF_DistStreams)\n",
    "\n",
    "#TIF_NDVI=(TIF_NDVI-100.0)/100.0  # ergibt urspünglichen NDVI im Interval [-1,1]\n",
    "TIF_NDVIVec          =Mat2Vec(TIF_NDVI)\n",
    "TIF_precipVec        =Mat2Vec(TIF_precip)\n",
    "TIF_EucDist_faultsVec=Mat2Vec(TIF_EucDist_faults)\n",
    "TIF_EucDist_roadsVec =Mat2Vec(TIF_EucDist_roads)\n",
    "TIF_EucDist_takharVec=Mat2Vec(TIF_EucDist_takhar)\n",
    "\n",
    "TIF_LanduseRALVec  =Mat2Vec(TIF_LanduseRAL)\n",
    "TIF_LanduseRLVec   =Mat2Vec(TIF_LanduseRL)\n",
    "TIF_LanduseIRAVec  =Mat2Vec(TIF_LanduseIRA)\n",
    "TIF_VOLCVec        =Mat2Vec(TIF_VOLC)\n",
    "TIF_SEDIVec        =Mat2Vec(TIF_SEDI)\n",
    "TIF_PLUTVec        =Mat2Vec(TIF_PLUT)\n",
    "\n",
    "TIF_B1Vec  =Mat2Vec(TIF_B1)\n",
    "TIF_B2Vec  =Mat2Vec(TIF_B2)\n",
    "TIF_B3Vec  =Mat2Vec(TIF_B3)\n",
    "TIF_B4Vec  =Mat2Vec(TIF_B4)\n",
    "TIF_B5Vec  =Mat2Vec(TIF_B5)\n",
    "TIF_B6Vec  =Mat2Vec(TIF_B6)\n",
    "TIF_B7Vec  =Mat2Vec(TIF_B7)\n",
    "TIF_B8Vec  =Mat2Vec(TIF_B8)\n",
    "TIF_B9Vec  =Mat2Vec(TIF_B9)\n",
    "TIF_B10Vec =Mat2Vec(TIF_B10)\n",
    "TIF_B11Vec =Mat2Vec(TIF_B11)\n",
    "\n",
    "\n",
    "\n",
    "# Attribute als Zeile, eine Zeile entspricht einem Bild Vektor, nach der Belegung einfach Matrix transponieren \n",
    "\n",
    "A[0,:] =1.0  # konstantes Attribut     \n",
    "A[1,:] =Layers.get('TIF_r_dem') #TIF_demVec\n",
    "A[2,:] =Layers.get('TIF_r_Slope')\n",
    "A[3,:] =Layers.get('TIF_r_Curvature')\n",
    "A[4,:] =Layers.get('TIF_r_DistStreams')\n",
    "A[5,:] =Layers.get('TIF_r_EucDist_faults')\n",
    "A[6,:] =Layers.get('TIF_r_EucDist_roads')\n",
    "A[7,:] =Layers.get('TIF_r_EucDist_takhar')\n",
    "A[8,:] =Layers.get('TIF_r_NDVI')\n",
    "A[9,:] =Layers.get('TIF_r_precip')\n",
    "A[10,:]=Layers.get('TIF_r_B1')\n",
    "A[11,:]=Layers.get('TIF_r_B2')\n",
    "A[12,:]=Layers.get('TIF_r_B3')\n",
    "A[13,:]=Layers.get('TIF_r_B4')\n",
    "A[14,:]=Layers.get('TIF_r_B5')\n",
    "A[15,:]=Layers.get('TIF_r_B6')\n",
    "A[16,:]=Layers.get('TIF_r_B7')\n",
    "A[17,:]=Layers.get('TIF_r_B8')\n",
    "A[18,:]=Layers.get('TIF_r_B9')\n",
    "A[19,:]=Layers.get('TIF_r_B10')\n",
    "A[20,:]=Layers.get('TIF_r_B11')\n",
    "A[21,:]=Layers.get('TIF_n_ASPN')\n",
    "A[22,:]=Layers.get('TIF_n_ASPE')\n",
    "A[23,:]=Layers.get('TIF_n_ASPS')\n",
    "A[24,:]=Layers.get('TIF_n_ASPW')\n",
    "A[25,:]=Layers.get('TIF_n_LanduseIRA')\n",
    "A[26,:]=Layers.get('TIF_n_LanduseRAL')\n",
    "A[27,:]=Layers.get('TIF_n_LanduseRL')\n",
    "A[28,:]=Layers.get('TIF_n_PLUT')\n",
    "A[29,:]=Layers.get('TIF_n_SEDI')\n",
    "A[30,:]=Layers.get('TIF_n_VOLC')\n",
    "A[31,:]=Layers.get('TrueLabels')\n"
   ]
  }
 ],
 "metadata": {
  "kernelspec": {
   "display_name": "Python 3",
   "language": "python",
   "name": "python3"
  },
  "language_info": {
   "codemirror_mode": {
    "name": "ipython",
    "version": 3
   },
   "file_extension": ".py",
   "mimetype": "text/x-python",
   "name": "python",
   "nbconvert_exporter": "python",
   "pygments_lexer": "ipython3",
   "version": "3.6.8"
  }
 },
 "nbformat": 4,
 "nbformat_minor": 4
}
