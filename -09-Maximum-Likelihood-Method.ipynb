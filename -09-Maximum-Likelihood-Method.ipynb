{
 "cells": [
  {
   "cell_type": "markdown",
   "metadata": {},
   "source": [
    "Maximum Likelihood\n",
    "---"
   ]
  },
  {
   "cell_type": "markdown",
   "metadata": {},
   "source": [
    "The Maximum Likelihood Approach or the Maximum Likelihood Method is a very general approach in the field of parameter estimation techniques. Just imagine the following situation. \n",
    "\n",
    "You are buying two completely equal mp3 players one for a friend and one for yourself. Both of you begin to load up some music files on your players. Your friend load twohundred songs (8 albums) and you are loading fivty song (5 albums)  plus there is one song both of you like best so this is the only song which is present on both mp3 players.\n",
    "\n",
    "Later on that day it happened that you and your friend mixed up the players. They are looking completely equal. So you are grabbing one of the mp3-players in your hand and push the Play-Random button and what do you hear? It's your favorite song  which plays in your ears. Whoose Player do you have in your hand? How could you know?\n",
    "\n",
    "Well, very easily we analyse that the chance to hear your favorite song on your friends mp3 player is one of twohundred = $\\frac{1}{200}$ and on your own player it's $\\frac{1}{50}$. So there is a much higher change ($\\frac{1}{50} > \\frac{1}{200}$ ) that you have your own player in hand.\n",
    "\n",
    "Understanding the idea in the this simple example will help you to understand the basic idea of the Maximum Likelihood Method."
   ]
  },
  {
   "cell_type": "code",
   "execution_count": null,
   "metadata": {},
   "outputs": [],
   "source": []
  },
  {
   "cell_type": "markdown",
   "metadata": {},
   "source": [
    "In the following example I will try to explain the Maximum Likelihood Method through the estimation of the paramters of a normal distribution. The parameters Mean and Std "
   ]
  },
  {
   "cell_type": "code",
   "execution_count": null,
   "metadata": {},
   "outputs": [],
   "source": []
  },
  {
   "cell_type": "code",
   "execution_count": null,
   "metadata": {},
   "outputs": [],
   "source": []
  },
  {
   "cell_type": "code",
   "execution_count": 2,
   "metadata": {},
   "outputs": [],
   "source": [
    "import numpy as np"
   ]
  },
  {
   "cell_type": "code",
   "execution_count": 3,
   "metadata": {},
   "outputs": [
    {
     "name": "stdout",
     "output_type": "stream",
     "text": [
      "[ 3  4  5  7 10]\n"
     ]
    }
   ],
   "source": [
    "#data = np.arange(10)+2*np.random.randn(10)\n",
    "data = np.array([3,4,5,7,10])\n",
    "print (data)"
   ]
  },
  {
   "cell_type": "code",
   "execution_count": 4,
   "metadata": {},
   "outputs": [
    {
     "name": "stdout",
     "output_type": "stream",
     "text": [
      "5.8\n"
     ]
    }
   ],
   "source": [
    "print(np.mean(data))"
   ]
  },
  {
   "cell_type": "markdown",
   "metadata": {},
   "source": [
    "the std with n-1"
   ]
  },
  {
   "cell_type": "code",
   "execution_count": 10,
   "metadata": {},
   "outputs": [
    {
     "name": "stdout",
     "output_type": "stream",
     "text": [
      "2.7748873851\n"
     ]
    }
   ],
   "source": [
    "print(np.std(data,ddof=1))"
   ]
  },
  {
   "cell_type": "markdown",
   "metadata": {},
   "source": [
    "the mean of the residuals"
   ]
  },
  {
   "cell_type": "code",
   "execution_count": 11,
   "metadata": {},
   "outputs": [
    {
     "name": "stdout",
     "output_type": "stream",
     "text": [
      "2.4819347292\n"
     ]
    }
   ],
   "source": [
    "print(np.std(data))"
   ]
  },
  {
   "cell_type": "code",
   "execution_count": 26,
   "metadata": {},
   "outputs": [
    {
     "name": "stdout",
     "output_type": "stream",
     "text": [
      "[  7.84   3.24   0.64   1.44  17.64]\n",
      "2.4819347292\n"
     ]
    }
   ],
   "source": [
    "residuals=(data-np.mean(data))**2\n",
    "\n",
    "print(residuals)\n",
    "\n",
    "print(np.sqrt(np.sum((data-np.mean(data))**2)/5))"
   ]
  },
  {
   "cell_type": "code",
   "execution_count": 18,
   "metadata": {},
   "outputs": [
    {
     "name": "stdout",
     "output_type": "stream",
     "text": [
      "0.0\n"
     ]
    }
   ],
   "source": [
    "print(np.mean(data-np.mean(data)))"
   ]
  },
  {
   "cell_type": "markdown",
   "metadata": {},
   "source": [
    "calculating the Maximum Likelihood\n",
    "https://stackoverflow.com/questions/6620471/fitting-empirical-distribution-to-theoretical-ones-with-scipy-python"
   ]
  },
  {
   "cell_type": "code",
   "execution_count": 1,
   "metadata": {},
   "outputs": [],
   "source": [
    "import scipy as sp"
   ]
  },
  {
   "cell_type": "code",
   "execution_count": null,
   "metadata": {},
   "outputs": [],
   "source": [
    "sp."
   ]
  }
 ],
 "metadata": {
  "kernelspec": {
   "display_name": "Python 3",
   "language": "python",
   "name": "python3"
  },
  "language_info": {
   "codemirror_mode": {
    "name": "ipython",
    "version": 3
   },
   "file_extension": ".py",
   "mimetype": "text/x-python",
   "name": "python",
   "nbconvert_exporter": "python",
   "pygments_lexer": "ipython3",
   "version": "3.6.1"
  }
 },
 "nbformat": 4,
 "nbformat_minor": 2
}
