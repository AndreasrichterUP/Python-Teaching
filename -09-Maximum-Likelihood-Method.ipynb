{
 "cells": [
  {
   "cell_type": "markdown",
   "metadata": {},
   "source": [
    "Maximum Likelihood\n",
    "---"
   ]
  },
  {
   "cell_type": "markdown",
   "metadata": {},
   "source": [
    "The Maximum Likelihood Approach or the Maximum Likelihood Method is a very general approach in the field of parameter estimation techniques. Just imagine the following situation. \n",
    "\n",
    "You are buying two completely equal mp3 players one for a friend and one for yourself. Both of you begin to load up some music files on your players. Your friend load twohundred songs (8 albums) and you are loading fivty song (5 albums)  plus there is one song both of you like best so this is the only song which is present on both mp3 players.\n",
    "\n",
    "Later on that day it happened that you and your friend mixed up the players. They are looking completely equal. So you are grabbing one of the mp3-players in your hand and push the Play-Random button and what do you hear? It's your favorite song  which plays in your ears. Whoose Player do you have in your hand? How could you know?\n",
    "\n",
    "Well, very easily we analyse that the chance to hear your favorite song on your friends mp3 player is one of twohundred = $\\frac{1}{200}$ and on your own player it's $\\frac{1}{50}$. So there is a much higher change ($\\frac{1}{50} > \\frac{1}{200}$ ) that you have your own player in hand.\n",
    "\n",
    "Understanding the idea in the this simple example will help you to understand the basic idea of the Maximum Likelihood Method."
   ]
  },
  {
   "cell_type": "code",
   "execution_count": null,
   "metadata": {},
   "outputs": [],
   "source": []
  },
  {
   "cell_type": "markdown",
   "metadata": {},
   "source": [
    "In the following example I will try to explain the Maximum Likelihood Method through the estimation of the paramters of a normal distribution. The parameters Mean and Std "
   ]
  },
  {
   "cell_type": "code",
   "execution_count": null,
   "metadata": {},
   "outputs": [],
   "source": []
  },
  {
   "cell_type": "code",
   "execution_count": null,
   "metadata": {},
   "outputs": [],
   "source": []
  },
  {
   "cell_type": "code",
   "execution_count": 1,
   "metadata": {},
   "outputs": [],
   "source": [
    "import numpy as np"
   ]
  },
  {
   "cell_type": "code",
   "execution_count": 13,
   "metadata": {},
   "outputs": [
    {
     "name": "stdout",
     "output_type": "stream",
     "text": [
      "[  0.2423943    2.49528656   3.34495398   3.8179783    3.16019399\n",
      "   6.44208798   8.67965261   5.58155682   8.30414841  11.18400642]\n"
     ]
    }
   ],
   "source": [
    "data = np.arange(10)+2*np.random.randn(10)\n",
    "print (data)"
   ]
  },
  {
   "cell_type": "code",
   "execution_count": 14,
   "metadata": {},
   "outputs": [
    {
     "name": "stdout",
     "output_type": "stream",
     "text": [
      "5.32522593632\n"
     ]
    }
   ],
   "source": [
    "print(np.mean(data))"
   ]
  },
  {
   "cell_type": "code",
   "execution_count": 15,
   "metadata": {},
   "outputs": [
    {
     "name": "stdout",
     "output_type": "stream",
     "text": [
      "3.34147210648\n"
     ]
    }
   ],
   "source": [
    "print(np.std(data,ddof=1))"
   ]
  },
  {
   "cell_type": "code",
   "execution_count": 16,
   "metadata": {},
   "outputs": [
    {
     "name": "stdout",
     "output_type": "stream",
     "text": [
      "3.16999877832\n"
     ]
    }
   ],
   "source": [
    "print(np.std(data))"
   ]
  },
  {
   "cell_type": "code",
   "execution_count": 19,
   "metadata": {},
   "outputs": [
    {
     "name": "stdout",
     "output_type": "stream",
     "text": [
      "[-5.08283163 -2.82993938 -1.98027196 -1.50724764 -2.16503194  1.11686205\n",
      "  3.35442667  0.25633088  2.97892247  5.85878048]\n",
      "0.0\n"
     ]
    }
   ],
   "source": [
    "print (data-np.mean(data))\n",
    "print(np.sum(data-np.mean(data)))"
   ]
  },
  {
   "cell_type": "code",
   "execution_count": 18,
   "metadata": {},
   "outputs": [
    {
     "name": "stdout",
     "output_type": "stream",
     "text": [
      "0.0\n"
     ]
    }
   ],
   "source": [
    "print(np.mean(data-np.mean(data)))"
   ]
  },
  {
   "cell_type": "code",
   "execution_count": null,
   "metadata": {},
   "outputs": [],
   "source": []
  }
 ],
 "metadata": {
  "kernelspec": {
   "display_name": "Python 3",
   "language": "python",
   "name": "python3"
  },
  "language_info": {
   "codemirror_mode": {
    "name": "ipython",
    "version": 3
   },
   "file_extension": ".py",
   "mimetype": "text/x-python",
   "name": "python",
   "nbconvert_exporter": "python",
   "pygments_lexer": "ipython3",
   "version": "3.6.1"
  }
 },
 "nbformat": 4,
 "nbformat_minor": 2
}
