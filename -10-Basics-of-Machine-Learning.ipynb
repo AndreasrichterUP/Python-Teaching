{
 "cells": [
  {
   "cell_type": "markdown",
   "metadata": {},
   "source": [
    "Basics of Machine Learning\n",
    "==="
   ]
  },
  {
   "cell_type": "markdown",
   "metadata": {},
   "source": [
    "**Overview of the notebook:**\n",
    "    - Perceptrons\n",
    "    - Regression\n",
    "    - Classification\n",
    "    - Cross-Validation\n",
    "    - Visualze Performance\n",
    "  "
   ]
  },
  {
   "cell_type": "markdown",
   "metadata": {},
   "source": [
    "**Perceptrons**\n"
   ]
  },
  {
   "cell_type": "markdown",
   "metadata": {},
   "source": [
    "The very basic beginning of machine learning algorithms was founded by Frank Rosenbaum in the 1950s. He set up a visual/mechanical hardware that was able to separate pictures of...\n",
    "\n",
    "Rosenbaum trained the machine using example datasets (pictures) and offering the right decisions to each datapoint. Than letting the automate decide about unseen datasets to measure the performance....\n",
    "\n",
    "The very basic rule to decide was the zero-one loss ....\n",
    "\n",
    "A very common function to map a random real number to the classes [0,1] is the sigmoid-function:"
   ]
  },
  {
   "cell_type": "code",
   "execution_count": 3,
   "metadata": {},
   "outputs": [
    {
     "data": {
      "image/png": "[encoded data removed]",
      "text/plain": [
       "<matplotlib.figure.Figure at 0x10d67bb70>"
      ]
     },
     "metadata": {},
     "output_type": "display_data"
    }
   ],
   "source": [
    "import numpy as np\n",
    "import matplotlib.pyplot as plt\n",
    "%matplotlib inline \n",
    "x=np.arange(-7.5,7.5,0.2)\n",
    "#print(x)\n",
    "y=1/(1+np.exp(-x))\n",
    "\n",
    "plt.plot(x,y)\n",
    "plt.grid()"
   ]
  },
  {
   "cell_type": "markdown",
   "metadata": {},
   "source": [
    "The sigmiod is defined as the $y(x) = \\frac{1}{1+e^{-x}}$\n",
    "\n",
    "It enabales a the setup of a decision rule like $ y(x) < 0.5 \\Rightarrow $ 0 and \n",
    " $ y(x) \\ge 0.5 \\Rightarrow $ 1.\n",
    " \n",
    "The follwing little function calculates the results of the sigmoid for every real number. "
   ]
  },
  {
   "cell_type": "code",
   "execution_count": 4,
   "metadata": {},
   "outputs": [],
   "source": [
    "import math\n",
    "def sigmoid(a):\n",
    "    b=1/(1+math.exp(-a) )\n",
    "    return b"
   ]
  },
  {
   "cell_type": "markdown",
   "metadata": {},
   "source": [
    "A value of $0$ will result in a sigmoid(0)=0.5"
   ]
  },
  {
   "cell_type": "code",
   "execution_count": 5,
   "metadata": {},
   "outputs": [
    {
     "name": "stdout",
     "output_type": "stream",
     "text": [
      "0.5\n"
     ]
    }
   ],
   "source": [
    "print(sigmoid(0))"
   ]
  },
  {
   "cell_type": "markdown",
   "metadata": {},
   "source": [
    "Any positive number will result in a sigmoid of greater 0.5"
   ]
  },
  {
   "cell_type": "code",
   "execution_count": 6,
   "metadata": {},
   "outputs": [
    {
     "name": "stdout",
     "output_type": "stream",
     "text": [
      "0.549833997312478\n"
     ]
    }
   ],
   "source": [
    "print(sigmoid(0.2))"
   ]
  },
  {
   "cell_type": "markdown",
   "metadata": {},
   "source": [
    "and any negative number will result in a sigmoid of lower than 0.5"
   ]
  },
  {
   "cell_type": "code",
   "execution_count": 7,
   "metadata": {},
   "outputs": [
    {
     "name": "stdout",
     "output_type": "stream",
     "text": [
      "0.45016600268752216\n"
     ]
    }
   ],
   "source": [
    "print(sigmoid(-0.2))"
   ]
  },
  {
   "cell_type": "markdown",
   "metadata": {},
   "source": [
    "The greater or smaller the numbers are the more clear the output of the sigmoid will converge to 1 or to 0\n"
   ]
  },
  {
   "cell_type": "code",
   "execution_count": 8,
   "metadata": {},
   "outputs": [
    {
     "name": "stdout",
     "output_type": "stream",
     "text": [
      "0.9999999979388463\n",
      "2.0611536181902037e-09\n"
     ]
    }
   ],
   "source": [
    "print(sigmoid(20))\n",
    "print(sigmoid(-20))"
   ]
  },
  {
   "cell_type": "markdown",
   "metadata": {},
   "source": [
    "So the sigmoid enables a decision finding interpreted as a probability number between 0 and 1 and a classification rule of lower or higher than 50%"
   ]
  },
  {
   "cell_type": "code",
   "execution_count": null,
   "metadata": {},
   "outputs": [],
   "source": []
  },
  {
   "cell_type": "code",
   "execution_count": null,
   "metadata": {},
   "outputs": [],
   "source": []
  },
  {
   "cell_type": "markdown",
   "metadata": {},
   "source": [
    "**Regression**"
   ]
  },
  {
   "cell_type": "markdown",
   "metadata": {},
   "source": [
    "In the case of regression the model tries to predict a floating point value of a continous variable. Regression is a tool to **deduct** from a sampled dataset to the general **circumstances** in the whole data. In other words I want to know which value I can expect at the positions where I wasn't able to measure a datapoint. \n",
    "\n",
    "Calculation models used in this case provide often exact mathematical solution without any optimizational help."
   ]
  },
  {
   "cell_type": "code",
   "execution_count": null,
   "metadata": {},
   "outputs": [],
   "source": []
  },
  {
   "cell_type": "code",
   "execution_count": null,
   "metadata": {},
   "outputs": [],
   "source": []
  },
  {
   "cell_type": "markdown",
   "metadata": {},
   "source": [
    "**Classification**"
   ]
  },
  {
   "cell_type": "markdown",
   "metadata": {},
   "source": [
    "In the case of classification the model tries to predict a nominal value, a class number a true/false decision or category in a taxometric system. \n",
    "\n",
    "Calculation model used in this case are often not able to find local/global minima by direct or exact mathematical aproaches and need the help of optimization techniques like gradient decent, stochastic gradient decent or others. Classifictions are more computationally expensiv than regression models."
   ]
  },
  {
   "cell_type": "code",
   "execution_count": null,
   "metadata": {},
   "outputs": [],
   "source": []
  },
  {
   "cell_type": "markdown",
   "metadata": {},
   "source": [
    "**Logistic Regression**"
   ]
  },
  {
   "cell_type": "markdown",
   "metadata": {},
   "source": [
    "Despite the name Logistic regression is a classification method. It was first introduced and named in statistics and later on used in an other context by the machine learning community. "
   ]
  },
  {
   "cell_type": "code",
   "execution_count": 9,
   "metadata": {},
   "outputs": [
    {
     "name": "stdout",
     "output_type": "stream",
     "text": [
      "[[ 0.]\n",
      " [ 0.]\n",
      " [ 0.]\n",
      " [ 0.]]\n",
      "[[ 1.  ]\n",
      " [ 0.2 ]\n",
      " [ 0.5 ]\n",
      " [ 0.91]]\n"
     ]
    }
   ],
   "source": [
    "xa=np.zeros((4,1))\n",
    "print(xa)\n",
    "xa[0,0]= 1\n",
    "xa[1,0]= 0.2\n",
    "xa[2,0]= 0.5\n",
    "xa[3,0]= 0.91\n",
    "print(xa)"
   ]
  },
  {
   "cell_type": "code",
   "execution_count": 10,
   "metadata": {},
   "outputs": [
    {
     "name": "stdout",
     "output_type": "stream",
     "text": [
      "[[ 0.]\n",
      " [ 0.]\n",
      " [ 0.]\n",
      " [ 0.]]\n",
      "[[ 1.  ]\n",
      " [ 0.4 ]\n",
      " [ 0.01]\n",
      " [ 0.5 ]]\n"
     ]
    }
   ],
   "source": [
    "xb=np.zeros((4,1))\n",
    "print(xb)\n",
    "xb[0,0]= 1\n",
    "xb[1,0]= 0.4\n",
    "xb[2,0]= 0.01\n",
    "xb[3,0]= 0.5\n",
    "\n",
    "print(xb)"
   ]
  },
  {
   "cell_type": "code",
   "execution_count": 11,
   "metadata": {},
   "outputs": [
    {
     "name": "stdout",
     "output_type": "stream",
     "text": [
      "[[ 0.]\n",
      " [ 0.]\n",
      " [ 0.]\n",
      " [ 0.]]\n",
      "[[ 1. ]\n",
      " [ 0.3]\n",
      " [ 1.1]\n",
      " [ 0.8]]\n"
     ]
    }
   ],
   "source": [
    "xc=np.zeros((4,1))\n",
    "print(xc)\n",
    "xc[0,0]= 1\n",
    "xc[1,0]= 0.3\n",
    "xc[2,0]= 1.1\n",
    "xc[3,0]= 0.8\n",
    "print(xc)"
   ]
  },
  {
   "cell_type": "code",
   "execution_count": 12,
   "metadata": {},
   "outputs": [
    {
     "name": "stdout",
     "output_type": "stream",
     "text": [
      "[[ 0.]\n",
      " [ 0.]\n",
      " [ 0.]\n",
      " [ 0.]]\n",
      "[[ 0.66]\n",
      " [ 0.1 ]\n",
      " [ 0.35]\n",
      " [ 0.7 ]]\n"
     ]
    }
   ],
   "source": [
    "w=np.zeros((4,1))\n",
    "print(w)\n",
    "w[0,0]= 0.66\n",
    "w[1,0]= 0.1\n",
    "w[2,0]= 0.35\n",
    "w[3,0]= 0.7\n",
    "print(w)"
   ]
  },
  {
   "cell_type": "code",
   "execution_count": 13,
   "metadata": {},
   "outputs": [
    {
     "data": {
      "text/plain": [
       "0.8163782718851771"
      ]
     },
     "execution_count": 13,
     "metadata": {},
     "output_type": "execute_result"
    }
   ],
   "source": [
    "sigmoid(np.dot(xa.T,w))"
   ]
  },
  {
   "cell_type": "markdown",
   "metadata": {},
   "source": [
    "but the label was \"1\""
   ]
  },
  {
   "cell_type": "code",
   "execution_count": 14,
   "metadata": {},
   "outputs": [
    {
     "data": {
      "text/plain": [
       "0.7414464286583212"
      ]
     },
     "execution_count": 14,
     "metadata": {},
     "output_type": "execute_result"
    }
   ],
   "source": [
    "sigmoid(np.dot(xb.T,w))"
   ]
  },
  {
   "cell_type": "markdown",
   "metadata": {},
   "source": [
    "but the label was \"0\""
   ]
  },
  {
   "cell_type": "code",
   "execution_count": 15,
   "metadata": {},
   "outputs": [
    {
     "data": {
      "text/plain": [
       "0.8368534378594309"
      ]
     },
     "execution_count": 15,
     "metadata": {},
     "output_type": "execute_result"
    }
   ],
   "source": [
    "sigmoid(np.dot(xc.T,w))"
   ]
  },
  {
   "cell_type": "markdown",
   "metadata": {},
   "source": [
    "but the label was \"0\""
   ]
  },
  {
   "cell_type": "markdown",
   "metadata": {},
   "source": [
    "If we calculate the sum of the squared error by \n",
    "\n",
    "$\\frac{1}{2}[ (1 - 0.8163 )^2  + (0 - 0.7414)^2 +  (0 - 0.8368 )^2 ]$\n",
    "\n",
    "we get a quite bad result:"
   ]
  },
  {
   "cell_type": "code",
   "execution_count": 16,
   "metadata": {},
   "outputs": [
    {
     "data": {
      "text/plain": [
       "0.6418269449999999"
      ]
     },
     "execution_count": 16,
     "metadata": {},
     "output_type": "execute_result"
    }
   ],
   "source": [
    "1/2* ((1 - 0.8163 )**2  + (0 - 0.7414)**2 +  (0 - 0.8368 )**2)"
   ]
  },
  {
   "cell_type": "markdown",
   "metadata": {},
   "source": [
    "**==============================**"
   ]
  },
  {
   "cell_type": "markdown",
   "metadata": {},
   "source": [
    "Now update the weights vector $\\vec w$ e.g. to"
   ]
  },
  {
   "cell_type": "code",
   "execution_count": 17,
   "metadata": {},
   "outputs": [
    {
     "name": "stdout",
     "output_type": "stream",
     "text": [
      "[[ 0.]\n",
      " [ 0.]\n",
      " [ 0.]\n",
      " [ 0.]]\n",
      "[[ 0.25]\n",
      " [ 0.1 ]\n",
      " [ 0.36]\n",
      " [ 0.3 ]]\n"
     ]
    }
   ],
   "source": [
    "w=np.zeros((4,1))\n",
    "print(w)\n",
    "w[0,0]= 0.25\n",
    "w[1,0]= 0.1\n",
    "w[2,0]= 0.36\n",
    "w[3,0]= 0.3\n",
    "print(w)"
   ]
  },
  {
   "cell_type": "code",
   "execution_count": 18,
   "metadata": {},
   "outputs": [],
   "source": [
    "import numpy as np\n",
    "def np_sigmoid(a):\n",
    "    b=1/(1+np.exp(-a) )\n",
    "    return b"
   ]
  },
  {
   "cell_type": "code",
   "execution_count": 19,
   "metadata": {},
   "outputs": [
    {
     "data": {
      "text/plain": [
       "0.673267295119654"
      ]
     },
     "execution_count": 19,
     "metadata": {},
     "output_type": "execute_result"
    }
   ],
   "source": [
    "sigmoid(np.dot(xa.T,w))"
   ]
  },
  {
   "cell_type": "code",
   "execution_count": 20,
   "metadata": {},
   "outputs": [
    {
     "data": {
      "text/plain": [
       "0.6091165035715496"
      ]
     },
     "execution_count": 20,
     "metadata": {},
     "output_type": "execute_result"
    }
   ],
   "source": [
    "sigmoid(np.dot(xb.T,w))"
   ]
  },
  {
   "cell_type": "code",
   "execution_count": 21,
   "metadata": {},
   "outputs": [
    {
     "data": {
      "text/plain": [
       "0.7142263775539306"
      ]
     },
     "execution_count": 21,
     "metadata": {},
     "output_type": "execute_result"
    }
   ],
   "source": [
    "sigmoid(np.dot(xc.T,w))"
   ]
  },
  {
   "cell_type": "markdown",
   "metadata": {},
   "source": [
    "and recalculate the squared error:"
   ]
  },
  {
   "cell_type": "code",
   "execution_count": 22,
   "metadata": {},
   "outputs": [
    {
     "data": {
      "text/plain": [
       "0.4939413449999999"
      ]
     },
     "execution_count": 22,
     "metadata": {},
     "output_type": "execute_result"
    }
   ],
   "source": [
    "1/2* ((1 - 0.6732 )**2  + (0 - 0.6091)**2 +  (0 - 0.7142 )**2)"
   ]
  },
  {
   "cell_type": "code",
   "execution_count": 23,
   "metadata": {},
   "outputs": [
    {
     "name": "stdout",
     "output_type": "stream",
     "text": [
      "[[ 1.    1.    1.  ]\n",
      " [ 0.2   0.4   0.3 ]\n",
      " [ 0.5   0.01  1.1 ]\n",
      " [ 0.91  0.5   0.8 ]]\n"
     ]
    }
   ],
   "source": [
    "x=np.concatenate((xa,xb,xc),axis=1)\n",
    "print(x)"
   ]
  },
  {
   "cell_type": "code",
   "execution_count": 24,
   "metadata": {},
   "outputs": [
    {
     "name": "stdout",
     "output_type": "stream",
     "text": [
      "[[ 0.723 ]\n",
      " [ 0.4436]\n",
      " [ 0.916 ]]\n"
     ]
    }
   ],
   "source": [
    "print(np.dot(x.T,w))"
   ]
  },
  {
   "cell_type": "code",
   "execution_count": 25,
   "metadata": {},
   "outputs": [
    {
     "name": "stdout",
     "output_type": "stream",
     "text": [
      "[[ 0.6732673 ]\n",
      " [ 0.6091165 ]\n",
      " [ 0.71422638]]\n"
     ]
    }
   ],
   "source": [
    "print(np_sigmoid(np.dot(x.T,w)))"
   ]
  },
  {
   "cell_type": "code",
   "execution_count": null,
   "metadata": {},
   "outputs": [],
   "source": []
  },
  {
   "cell_type": "code",
   "execution_count": null,
   "metadata": {},
   "outputs": [],
   "source": []
  },
  {
   "cell_type": "markdown",
   "metadata": {},
   "source": [
    "**Cross-Validation**\n"
   ]
  },
  {
   "cell_type": "markdown",
   "metadata": {},
   "source": [
    "Cross-validation is a technique to estimate the goodness-of-fit of a model to the given data or in other words how good the model will generalize on an independent dataset. It is mainly used in settings were the accuracy of a predictive model has to be estimated. Therefore the dataset is divided into k random subsets for k experiments using each time k-1 subsets to train k models which are tested on the respectively remaining subset. Figure 11 shows this approach for k=5 subsets/experiments. The testing errors are averaged which provides an estimate on how good the model generalizes on the whole dataset. This technique is called k-Fold cross-validation.\n"
   ]
  },
  {
   "cell_type": "code",
   "execution_count": null,
   "metadata": {},
   "outputs": [],
   "source": []
  },
  {
   "cell_type": "code",
   "execution_count": null,
   "metadata": {},
   "outputs": [],
   "source": []
  },
  {
   "cell_type": "code",
   "execution_count": null,
   "metadata": {},
   "outputs": [],
   "source": []
  },
  {
   "cell_type": "markdown",
   "metadata": {},
   "source": [
    "**ROC Cuves and Tuckey Box plots**"
   ]
  },
  {
   "cell_type": "markdown",
   "metadata": {},
   "source": [
    "In case of unbalanced classes, e.g. only few positive and a lot of negative data-points the classification accuracy is an insuffi- cient performance measure as a classifier that would predict the negative class for the whole dataset would earn a very high accu- racy without any correct prediction of the positive class. Receiver Operator Characteristics (ROC- curves) serve as basis for an in- dependent measure of performance (ROCAUC) which is widely used for such cases in machine learning. The ROC-curve shows a diagram with the false-positive rate ( P(FP), specificity or FPR, horizontal axis) vs. the true-positive rate ( P(TP), sensitivity or TPR, vertical axis) of a classifier. Both relative frequencies speci- ficity & sensitivity are evaluated at any cutpoint between the two class distributions and displayed in a diagram which represents the trade-off between them. (cf. figure 13) For practical usage a two-digit number of cutpoints is sufficient to approximate the ROC-curve. The interpretation of the curve is easy comprehensi- ble if for example the discrimination of the used classifier is very good the false-positive rate is very low while the true-positive rate is relative high. This results in a very steep curve which also means that the area under the curve is high"
   ]
  },
  {
   "cell_type": "code",
   "execution_count": null,
   "metadata": {
    "collapsed": true
   },
   "outputs": [],
   "source": []
  }
 ],
 "metadata": {
  "kernelspec": {
   "display_name": "Python 3",
   "language": "python",
   "name": "python3"
  },
  "language_info": {
   "codemirror_mode": {
    "name": "ipython",
    "version": 3
   },
   "file_extension": ".py",
   "mimetype": "text/x-python",
   "name": "python",
   "nbconvert_exporter": "python",
   "pygments_lexer": "ipython3",
   "version": "3.6.1"
  }
 },
 "nbformat": 4,
 "nbformat_minor": 2
}
