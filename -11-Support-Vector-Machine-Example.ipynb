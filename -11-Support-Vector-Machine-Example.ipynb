{
 "cells": [
  {
   "cell_type": "markdown",
   "metadata": {},
   "source": [
    "# Machine Learning: \n",
    "A simple example of a Suport Vector Maschine (SVM)\n",
    "---"
   ]
  },
  {
   "cell_type": "markdown",
   "metadata": {},
   "source": [
    "Task:\n",
    "---\n",
    "separate a set of 2D points in two classes\n",
    "---"
   ]
  },
  {
   "cell_type": "markdown",
   "metadata": {},
   "source": [
    "Datenrepräsentation im Maschinellen Lernen wir häufig so gewählt\n",
    "---"
   ]
  },
  {
   "cell_type": "markdown",
   "metadata": {},
   "source": [
    "Bsp: Emails auf einem Webserver wurden durchsucht und deren Inhalte in Zahlen abstahiert, so dass Sie in einem 2D Koordinatensystem dargestellt werden können. Wir wollen nun SPAM von normalen eMails unterscheiden.\n",
    "\n",
    "<img src=\"figures/data_representation.svg\" width=\"75%\">  \n",
    "\n",
    "Data = X (Matrix) und Labels = y (Vektor)\n",
    "---\n",
    "<img src=\"figures/supervised_scikit_learn.png\" width=\"100%\"> \n"
   ]
  },
  {
   "cell_type": "markdown",
   "metadata": {},
   "source": [
    "Bedeutung des Zahlenbeispiels könnte auch sein:\n",
    "---\n",
    "Bsp2: Ein Biologe sammelt eine bestimmte Sorte Blumen und bestimmt die Maße der Blütenblätter, die gegeneinander in einem 2D Koordinatensystem aufgetragen werden können. Ziel ist es nun die zwei Unterarten der Blumen aus den Maßen zu klassifizieren.\n",
    "<img src=\"figures/petal_sepal.jpg\" width=\"20%\">\n"
   ]
  },
  {
   "cell_type": "code",
   "execution_count": 5,
   "metadata": {
    "collapsed": false
   },
   "outputs": [
    {
     "data": {
      "image/png": "[encoded data removed]",
      "text/plain": [
       "<matplotlib.figure.Figure at 0x1100b82b0>"
      ]
     },
     "metadata": {},
     "output_type": "display_data"
    }
   ],
   "source": [
    "import numpy as np\n",
    "import matplotlib.pyplot as plt\n",
    "%matplotlib inline\n",
    "from sklearn import svm\n",
    "from sklearn.datasets import load_iris\n",
    "\n",
    "iris = load_iris()\n",
    "# import some data to play with\n",
    "#iris = datasets.load_iris()\n",
    "X = iris.data[:, 2:]  # we only take the first two features. We could\n",
    "                      # avoid this ugly slicing by using a two-dim dataset\n",
    "y = iris.target\n",
    "plt.scatter(X[:, 0], X[:, 1], c=y, cmap=plt.cm.Paired,label=iris.target_names)\n",
    "plt.legend()\n",
    "plt.show()"
   ]
  },
  {
   "cell_type": "markdown",
   "metadata": {},
   "source": [
    "Bsp3: Fernerkundung \n",
    "---\n",
    "Pixel Messwerte aus zwei Kanälen werden gegeneinander in einem 2D Koordinatensystem dargestellt. Nun wollen wir bspw. Wasser von Vegetation unterscheiden...  \n",
    "\n",
    "<img src=\"figures/FE_Class.png\" width=\"100%\">\n",
    "\n"
   ]
  },
  {
   "cell_type": "markdown",
   "metadata": {},
   "source": [
    "Experimente mit Zufallszahlen\n",
    "---"
   ]
  },
  {
   "cell_type": "code",
   "execution_count": null,
   "metadata": {
    "collapsed": false
   },
   "outputs": [],
   "source": [
    "import numpy as np\n",
    "import matplotlib.pyplot as plt\n",
    "%matplotlib inline\n",
    "\n",
    "#externes funktionsfile Functions.py bei jeder Änderung im Code neu laden\n",
    "%load_ext autoreload\n",
    "%autoreload 2\n",
    "\n",
    "# we create 40 separable points\n",
    "np.random.seed(0)\n",
    "X = np.r_[np.random.randn(20, 2) - [2, 2], np.random.randn(20, 2) + [2, 2]]\n",
    "Y = [0] * 20 + [1] * 20\n",
    "\n",
    "print 'X : {}'.format(X.T)\n",
    "print 'Y : {}'.format(Y)\n",
    "plt.plot(X[:,0],X[:,1],'r.')\n",
    "plt.xlabel('1.Spalte von X')\n",
    "plt.ylabel('2.Spalte von X')\n",
    "plt.title('Keine Klassen bzgl. Y nicht unterschieden...')\n",
    "plt.show()"
   ]
  },
  {
   "cell_type": "markdown",
   "metadata": {},
   "source": [
    "Diese Punkte sollen nun in zwei Klassen eingeteilt werden, die von einander zu trennen sind.\n",
    "Wir suchen also nach einer Linie (im 2D), die den 2D Raum in zwei Bereiche (Klassen) aufteilt. Eine Linie, die einen Punkthaufen links von sich und den anderen Punkthaufen rechts von sich hat, also die beide Punkthaufen eindeutig von einander trennt. Diese Linie könnte z.B. eine Gerade sein."
   ]
  },
  {
   "cell_type": "code",
   "execution_count": null,
   "metadata": {
    "collapsed": false
   },
   "outputs": [],
   "source": [
    "plt.scatter(X[:, 0], X[:, 1], c=Y, cmap=plt.cm.Paired)\n",
    "plt.plot(X[:, 0],-3*X[:,0]-0.6,'g--',label='zufaellige, manuelle Trennung')\n",
    "plt.xlabel('1.Spalte von X')\n",
    "plt.ylabel('2.Spalte von X')\n",
    "plt.legend()\n",
    "plt.ylim(-4,4)\n",
    "plt.title('Farbgebung signalisiert die Klasse')\n"
   ]
  },
  {
   "cell_type": "markdown",
   "metadata": {},
   "source": [
    "Wie kann die Trennung der Klassen erreicht werden?"
   ]
  },
  {
   "cell_type": "code",
   "execution_count": null,
   "metadata": {
    "collapsed": false
   },
   "outputs": [],
   "source": [
    "s,p=np.polyfit(X[:, 0], X[:, 1],1)\n",
    "\n",
    "plt.figure(figsize=(20,5))\n",
    "plt.subplot(121),plt.scatter(X[:, 0], X[:, 1], c=Y, cmap=plt.cm.Paired),plt.xlabel('1.Spalte von X'),plt.ylabel('2.Spalte von X')\n",
    "\n",
    "plt.title('Punkte der 2 Klassen...')#, plt.xticks([]), plt.yticks([])\n",
    "plt.subplot(122),plt.plot(X[:, 0],s*X[:,0]+p,'g-',label='Linear Fit'),plt.scatter(X[:, 0], X[:, 1], c=Y, cmap=plt.cm.Paired), plt.xlabel('1.Spalte von X'), plt.ylabel('2.Spalte von X')\n",
    "plt.title('Lineare Regression...passt hier nicht!')#, plt.xticks([]), plt.yticks([])\n",
    "#plt.gca().axes.get_xaxis().set_visible(True)\n",
    "#plt.gca().axes.get_yaxis().set_visible(True)\n",
    "plt.axis(\"on\")\n",
    "plt.show()\n"
   ]
  },
  {
   "cell_type": "markdown",
   "metadata": {},
   "source": [
    "Die trennende Linie, die wir suchen, kann z.B. durch eine lineare Support Vektor Maschine (https://de.wikipedia.org/wiki/Support_Vector_Machine)  (zur Klassifikation) bestimmt werden. Die SVM liefert einen Normalenvektor (https://de.wikipedia.org/wiki/Normalenform), der eine trennende Gerade eindeutig bestimmt. \n"
   ]
  },
  {
   "cell_type": "markdown",
   "metadata": {},
   "source": [
    "Eine SVM wird durch die Minimierung einer ganz bestimmten Verlustfunktion berechnet. Sehr ähnlich zu dem Ansatz der linearen Regression, die die Quadratsumme der Verbesserungen minimierte.\n",
    "\n",
    "Bei einer SVM sieht das allerdings so aus:\n",
    "\n",
    "\\begin{align}\n",
    "    \\underset{\\theta} {argmin} \\sum_{i=1}^{n}   l \\bigl (  f_{ \\theta}(x_i),y_i  \\bigr) + \\frac{1}{\\lambda} \\cdot \\Omega(\\theta)\n",
    " \\end{align}\n",
    " \n",
    "dabei ist $\\theta$ der Parameter Vektor (Normalen Vektor) den wir suchen, $l$ ist die Verlustfunktion, $ f_{ \\theta}(x_i)$ die Modelvorhersage , $y_i$ sind die wahren Werte, $\\lambda$ die Regularisierungstärke und $\\Omega(\\theta)$ der Regularisierungs-Term. Abhängig vom Regularisierungs-Term und der Verlustfunktion beschreibt die obige Gleichung verschiedene lineare Modelle wie z.B.  Perceptron, lineare SVM oder Ridge-Regression bzw. Logistic-Regression.\n",
    "\n",
    "\n",
    "Bei einer SVM ist die Verlustfunktion der sog. Hinge-Loss: $l_{hinge} $\n",
    "\n",
    "\n",
    "\\begin{align}\n",
    "l_{hinge} \\big (f_{\\theta}(x_i), y_i \\big ) = \\begin{cases} 0, & \\mbox{ if   }   1 - y_i \\cdot f_{\\theta}(x_i) \\le 0 \\\\ 1 - y_i \\cdot  f_{\\theta}(x_i) , & \\mbox{ if   } 1 - y_i \\cdot f_{\\theta}(x_i) > 0 \\end{cases} = max \\big( 0 , 1 - y_i \\cdot  f_{\\theta}(x_i)  \\big )\n",
    "\\end{align}\n",
    "\n",
    "\n",
    "$y_i$            ... TrueLabel, wahrer Wert, richtige Klasse, korrekte bekannte Antwort\n",
    "\n",
    "$f_{\\theta}(x_i)$... Modell $f_{\\theta}$ angewendet auf die Daten $x_i$, Vorhersage des Models \n",
    "\n",
    "Die Verlustfunktion dient zur Messung der Güte der Vorhersagen des Modells.\n",
    "SVM's können auch für Regressionsprobleme verwendet werden...  "
   ]
  },
  {
   "cell_type": "markdown",
   "metadata": {},
   "source": [
    "https://de.wikipedia.org/wiki/Geradengleichung   |  http://scikit-learn.org/stable/modules/generated/sklearn.svm.SVC.html"
   ]
  },
  {
   "cell_type": "code",
   "execution_count": null,
   "metadata": {
    "collapsed": false
   },
   "outputs": [],
   "source": [
    "import numpy as np\n",
    "import matplotlib.pyplot as plt\n",
    "%matplotlib inline\n",
    "from sklearn import svm\n",
    "#  Eine SVM erstellt man mit folgenden Ziele, clf... steht für Klassifikator, engl. Classifier \n",
    "clf = svm.SVC(kernel='linear')      # SVC \n",
    "\n",
    "# SVM an die Trainingsdaten anpassen mit...\n",
    "clf.fit(X, Y)\n",
    "\n",
    "\n",
    "# get the separating hyperplane, Berechnung nachvollziehen\n",
    "w = clf.coef_[0]\n",
    "print 'Normalenvektor: {} '.format(w)\n",
    "print '       '\n",
    "a = -w[0] / w[1]\n",
    "print 'Steigung: {} und y-Schnittpunkt: {} der Trennlinie'.format(a, (clf.intercept_[0]) / w[1] )\n",
    "print '       '\n",
    "xx = np.linspace(-5, 5)\n",
    "yy = a * xx - (clf.intercept_[0]) / w[1]\n",
    "\n",
    "# plot the parallels to the separating hyperplane that pass through the\n",
    "# support vectors\n",
    "b = clf.support_vectors_[0]\n",
    "#print b\n",
    "yy_down = a * xx + (b[1] - a * b[0])\n",
    "b = clf.support_vectors_[-1]\n",
    "yy_up = a * xx + (b[1] - a * b[0])\n",
    "\n",
    "# plot the line, the points, and the nearest vectors to the plane\n",
    "plt.figure(figsize=(20,10))\n",
    "plt.scatter(clf.support_vectors_[:, 0], clf.support_vectors_[:, 1],s=120, facecolors='none',label='Support-Vectors')\n",
    "plt.scatter(X[:, 0], X[:, 1], c=Y, cmap=plt.cm.Paired)\n",
    "plt.xlim(-4,4)\n",
    "plt.ylim(-7,7)\n",
    "\n",
    "plt.plot(xx, yy, 'k-',label='SVM - Trennlinie der Klassen')         #... Trennlinie, Ergebnis der SVM\n",
    "plt.plot(xx, yy_down, 'k--')   #... unterer Rand (lower Margin)  \n",
    "plt.plot(xx, yy_up, 'k--')     #... oberer Rand (upper Margin)  \n",
    "plt.xlabel('1.Spalte von X')\n",
    "plt.ylabel('2.Spalte von X')\n",
    "plt.title('Farbgebung signalisiert die Klasse')\n",
    "plt.legend()\n",
    "# Kenntlichmachung der Support-Vektors, Punkte die den Margin festlegen\n",
    "plt.show()"
   ]
  },
  {
   "cell_type": "markdown",
   "metadata": {},
   "source": [
    "Ist die Trennline durch die SVM einmal gefunden, kann dieses Modell zur Vorhersage der Klasse für neue noch nicht gesehene Daten genutzt werden. Siehe folgendes Beispiel:\n"
   ]
  },
  {
   "cell_type": "markdown",
   "metadata": {},
   "source": [
    "Punkte sehr leicht linear trennbar\n",
    "---"
   ]
  },
  {
   "cell_type": "code",
   "execution_count": null,
   "metadata": {
    "collapsed": false
   },
   "outputs": [],
   "source": [
    "Xnew = np.r_[np.random.randn(10, 2) - [2.2, 1.9], np.random.randn(10, 2) + [2.5, 2.4]]\n",
    "Ynew = [0] * 10 + [1] * 10\n",
    "\n",
    "plt.plot(Xnew[:,0],Xnew[:,1],'r.')\n",
    "plt.show()\n",
    "\n",
    "plt.scatter(Xnew[:, 0], Xnew[:, 1], c=Ynew, cmap=plt.cm.Paired)\n",
    "plt.show()\n",
    "\n",
    "\n",
    "Ynew_pred=clf.predict(Xnew)\n",
    "\n",
    "plt.plot(xx, yy, 'k-',label='SVM - Trennlinie der Klassen')\n",
    "plt.scatter(Xnew[:, 0], Xnew[:, 1], c=Ynew_pred, cmap=plt.cm.Paired)\n",
    "plt.ylim(-5,5)\n",
    "plt.show()"
   ]
  },
  {
   "cell_type": "markdown",
   "metadata": {},
   "source": [
    "diese Punkte liegen näher beieinander - Unterscheidung der Klassen schwieriger\n",
    "---"
   ]
  },
  {
   "cell_type": "code",
   "execution_count": null,
   "metadata": {
    "collapsed": false
   },
   "outputs": [],
   "source": [
    "Xnew = np.r_[np.random.randn(10, 2) - [1.2, 1.0], np.random.randn(10, 2) + [0.5, 1.4]]\n",
    "Ynew = [0] * 10 + [1] * 10\n",
    "\n",
    "plt.plot(Xnew[:,0],Xnew[:,1],'r.')\n",
    "plt.show()\n",
    "\n",
    "plt.scatter(Xnew[:, 0], Xnew[:, 1], c=Ynew, cmap=plt.cm.Paired)\n",
    "plt.show()\n",
    "\n",
    "\n",
    "Ynew_pred=clf.predict(Xnew)\n",
    "\n",
    "plt.plot(xx, yy, 'k-',label='SVM - Trennlinie der Klassen')\n",
    "plt.scatter(Xnew[:, 0], Xnew[:, 1], c=Ynew_pred, cmap=plt.cm.Paired)\n",
    "plt.ylim(-5,5)\n",
    "plt.show()"
   ]
  },
  {
   "cell_type": "markdown",
   "metadata": {},
   "source": [
    "Überlappung sehr stark - nicht mehr linear trennbar, ohne Fehlklassifizierung\n",
    "--"
   ]
  },
  {
   "cell_type": "code",
   "execution_count": null,
   "metadata": {
    "collapsed": false
   },
   "outputs": [],
   "source": [
    "Xnew = np.r_[np.random.randn(10, 2), np.random.randn(10, 2)]\n",
    "Ynew = [0] * 10 + [1] * 10\n",
    "\n",
    "plt.plot(Xnew[:,0],Xnew[:,1],'r.')\n",
    "plt.show()\n",
    "\n",
    "plt.scatter(Xnew[:, 0], Xnew[:, 1], c=Ynew, cmap=plt.cm.Paired)\n",
    "plt.show()\n",
    "\n",
    "\n",
    "Ynew_pred=clf.predict(Xnew)\n",
    "\n",
    "plt.plot(xx, yy, 'k-',label='SVM - Trennlinie der Klassen')\n",
    "plt.scatter(Xnew[:, 0], Xnew[:, 1], c=Ynew_pred, cmap=plt.cm.Paired)\n",
    "plt.ylim(-5,5)\n",
    "plt.show()"
   ]
  },
  {
   "cell_type": "markdown",
   "metadata": {},
   "source": [
    "zweites Beispiel\n",
    "----"
   ]
  },
  {
   "cell_type": "code",
   "execution_count": 2,
   "metadata": {
    "collapsed": false
   },
   "outputs": [
    {
     "ename": "NameError",
     "evalue": "name 'np' is not defined",
     "output_type": "error",
     "traceback": [
      "\u001b[0;31m---------------------------------------------------------------------------\u001b[0m",
      "\u001b[0;31mNameError\u001b[0m                                 Traceback (most recent call last)",
      "\u001b[0;32m<ipython-input-2-09e3972657dd>\u001b[0m in \u001b[0;36m<module>\u001b[0;34m()\u001b[0m\n\u001b[1;32m      1\u001b[0m \u001b[0mn\u001b[0m \u001b[0;34m=\u001b[0m \u001b[0;36m200\u001b[0m\u001b[0;34m\u001b[0m\u001b[0m\n\u001b[1;32m      2\u001b[0m \u001b[0;31m# two normal distributions\u001b[0m\u001b[0;34m\u001b[0m\u001b[0;34m\u001b[0m\u001b[0m\n\u001b[0;32m----> 3\u001b[0;31m \u001b[0mclass_1\u001b[0m \u001b[0;34m=\u001b[0m \u001b[0;36m0.6\u001b[0m \u001b[0;34m*\u001b[0m \u001b[0mnp\u001b[0m\u001b[0;34m.\u001b[0m\u001b[0mrandom\u001b[0m\u001b[0;34m.\u001b[0m\u001b[0mrandn\u001b[0m\u001b[0;34m(\u001b[0m\u001b[0mn\u001b[0m\u001b[0;34m,\u001b[0m\u001b[0;36m2\u001b[0m\u001b[0;34m)\u001b[0m\u001b[0;34m\u001b[0m\u001b[0m\n\u001b[0m\u001b[1;32m      4\u001b[0m \u001b[0;32mprint\u001b[0m \u001b[0mclass_1\u001b[0m\u001b[0;34m.\u001b[0m\u001b[0mshape\u001b[0m\u001b[0;34m\u001b[0m\u001b[0m\n\u001b[1;32m      5\u001b[0m \u001b[0mclass_2\u001b[0m \u001b[0;34m=\u001b[0m \u001b[0;36m1.2\u001b[0m \u001b[0;34m*\u001b[0m \u001b[0mnp\u001b[0m\u001b[0;34m.\u001b[0m\u001b[0mrandom\u001b[0m\u001b[0;34m.\u001b[0m\u001b[0mrandn\u001b[0m\u001b[0;34m(\u001b[0m\u001b[0mn\u001b[0m\u001b[0;34m,\u001b[0m\u001b[0;36m2\u001b[0m\u001b[0;34m)\u001b[0m \u001b[0;34m+\u001b[0m \u001b[0mnp\u001b[0m\u001b[0;34m.\u001b[0m\u001b[0marray\u001b[0m\u001b[0;34m(\u001b[0m\u001b[0;34m[\u001b[0m\u001b[0;36m5\u001b[0m\u001b[0;34m,\u001b[0m\u001b[0;36m1\u001b[0m\u001b[0;34m]\u001b[0m\u001b[0;34m)\u001b[0m\u001b[0;34m\u001b[0m\u001b[0m\n",
      "\u001b[0;31mNameError\u001b[0m: name 'np' is not defined"
     ]
    }
   ],
   "source": [
    "n = 200\n",
    "# two normal distributions\n",
    "class_1 = 0.6 * np.random.randn(n,2)\n",
    "print class_1.shape\n",
    "class_2 = 1.2 * np.random.randn(n,2) + np.array([5,1])\n",
    "labels_a = np.hstack((np.ones(n),-np.ones(n)))\n",
    "\n",
    "X2=np.r_[class_1, class_2]\n",
    "print X2.shape\n",
    "print labels_a.shape\n",
    "plt.plot(class_1[:,0],class_1[:,1],'r.')\n",
    "plt.plot(class_2[:,0],class_2[:,1],'b.')\n",
    "#print class_1"
   ]
  },
  {
   "cell_type": "code",
   "execution_count": 1,
   "metadata": {
    "collapsed": false
   },
   "outputs": [],
   "source": [
    "#externes funktionsfile Functions.py bei jeder Änderung im Code neu laden\n",
    "%load_ext autoreload\n",
    "%autoreload 2\n",
    "from sklearn import svm\n",
    "from DarstellungsFunktionen import plot_2d_separator"
   ]
  },
  {
   "cell_type": "code",
   "execution_count": null,
   "metadata": {
    "collapsed": false,
    "scrolled": true
   },
   "outputs": [],
   "source": [
    "clf2 = svm.SVC(kernel='linear')\n",
    "\n",
    "# SVM mit Trainingsdaten füttern\n",
    "clf2.fit(X2, labels_a)\n",
    "# get the separating hyperplane\n",
    "w = clf2.coef_[0]\n",
    "a = -w[0] / w[1]\n",
    "xx = np.linspace(-5, 5)\n",
    "yy = a * xx - (clf2.intercept_[0]) / w[1]\n",
    "\n",
    "# plot the parallels to the separating hyperplane that pass through the\n",
    "# support vectors\n",
    "#print clf.support_vectors_\n",
    "\n",
    "b = clf2.support_vectors_[0]\n",
    "yy_down = a * xx + (b[1] - a * b[0])\n",
    "b = clf2.support_vectors_[-1]\n",
    "yy_up = a * xx + (b[1] - a * b[0])\n",
    "\n",
    "# plot the line, the points, and the nearest vectors to the plane\n",
    "plt.figure(figsize=(20,10))\n",
    "plt.plot(class_1[:,0],class_1[:,1],'r.')\n",
    "plt.plot(class_2[:,0],class_2[:,1],'b.')\n",
    "\n",
    "plt.plot(xx, yy, 'k-')\n",
    "plt.plot(xx, yy_down, 'k--')\n",
    "plt.plot(xx, yy_up, 'k--')\n",
    "plt.ylim(-5,7)\n",
    "plt.xlim(-4,9)\n",
    "plt.show()"
   ]
  },
  {
   "cell_type": "markdown",
   "metadata": {},
   "source": [
    "Die lineare Lösung ist hier nicht perfekt, da zwei blaue Punkte falsch klassifiziert werden! Dennoch 2 von 400 Punkten falsch klassifiziert ist ein sehr gutes Ergebnis, entspr. einem Fehler von 0,5% !!!"
   ]
  },
  {
   "cell_type": "markdown",
   "metadata": {},
   "source": [
    "Wie aber trennt man zwei Klassen, die so liegen? - ...Nicht-lineare SVM\n",
    "---"
   ]
  },
  {
   "cell_type": "code",
   "execution_count": 3,
   "metadata": {
    "collapsed": false
   },
   "outputs": [],
   "source": [
    "import numpy as np\n",
    "import matplotlib.pyplot as plt\n",
    "n=200\n",
    "# normal distribution and ring around it\n",
    "class_3 = 0.6 * np.random.randn(n,2)\n",
    "r = 0.8 * np.random.randn(n,1) + 5\n",
    "angle = 2*np.pi * np.random.randn(n,1)\n",
    "class_4 = np.hstack((r*np.cos(angle),r*np.sin(angle))) \n",
    "labels_b = np.hstack((np.ones(n),-np.ones(n)))\n",
    "\n",
    "plt.figure(figsize=(20,10))\n",
    "plt.plot(class_3[:,0],class_3[:,1],'r.')\n",
    "plt.plot(class_4[:,0],class_4[:,1],'b.')\n",
    "plt.xlim(-10,10)\n",
    "plt.show()\n",
    "\n",
    "\n",
    "plt.figure(figsize=(20,10))\n",
    "plt.plot(class_3[:,0],class_3[:,1],'r.')\n",
    "plt.plot(class_4[:,0],class_4[:,1],'b.')\n",
    "\n",
    "X=np.r_[class_3,class_4]\n",
    "plot_2d_separator( svm.SVC(kernel='rbf').fit(X,labels_b) , X)\n",
    "\n",
    "plt.xlim(-10,10)\n",
    "plt.show()\n"
   ]
  },
  {
   "cell_type": "markdown",
   "metadata": {},
   "source": [
    "Trick: Darstellung dieser Punkte im 3D Raum als interaktive Graphik\n",
    "---"
   ]
  },
  {
   "cell_type": "code",
   "execution_count": 4,
   "metadata": {
    "collapsed": false
   },
   "outputs": [],
   "source": [
    "# Hinweis : vorher Python-Kern neu starten, damit matplotlib inline nicht mehr wirkt!\n",
    "\n",
    "#import matplotlib as mpl\n",
    "from mpl_toolkits.mplot3d import Axes3D\n",
    "import numpy as np\n",
    "import matplotlib.pyplot as plt\n",
    "\n",
    "x1=np.power(class_3[:,0],2)\n",
    "y1=np.power(class_3[:,1],2)\n",
    "z1=class_3[:,1]*class_3[:,1]\n",
    "\n",
    "\n",
    "x2=np.power(class_4[:,0],2)\n",
    "y2=np.power(class_4[:,1],2)\n",
    "z2=class_4[:,1]*class_4[:,1]\n",
    "\n",
    "\n",
    "fig = plt.figure()\n",
    "ax = fig.gca(projection='3d')\n",
    "\n",
    "ax.plot(x1, y1, z1,'r.', label='r')\n",
    "ax.plot(x2, y2, z2,'b.', label='b')\n",
    "\n",
    "ax.legend()\n",
    "\n",
    "\n",
    "for angle in range(0, 360):\n",
    "    ax.view_init(30, angle)\n",
    "    plt.draw()\n",
    "    \n",
    "plt.show()\n"
   ]
  },
  {
   "cell_type": "markdown",
   "metadata": {},
   "source": [
    "Nicht-lineare SVM\n",
    "---"
   ]
  },
  {
   "cell_type": "markdown",
   "metadata": {},
   "source": [
    "http://www.analyticsvidhya.com/blog/2015/10/understaing-support-vector-machine-example-code/"
   ]
  },
  {
   "cell_type": "code",
   "execution_count": 5,
   "metadata": {
    "collapsed": false
   },
   "outputs": [],
   "source": [
    "from DarstellungsFunktionen import plot_2d_separator, show_decision_function\n",
    "#import numpy as np\n",
    "#import matplotlib.pyplot as plt\n",
    "#from sklearn import svm\n",
    "#%matplotlib inline\n",
    "\n",
    "X_train =np.r_[class_3,class_4]\n",
    "y_train =labels_b\n",
    "\n",
    "# fit the model\n",
    "clf3 = svm.SVC(kernel='rbf',gamma=0.5, C=1)\n",
    "clf3.fit(X_train, y_train)\n",
    "\n",
    "# get the separating hyperplane\n",
    "#w = clf.coef_[0]\n",
    "#a = -w[0] / w[1]\n",
    "xx = np.linspace(-5, 5)\n",
    "#yy = a * xx - (clf.intercept_[0]) / w[1]\n",
    "\n",
    "# plot the parallels to the separating hyperplane that pass through the\n",
    "# support vectors\n",
    "#print clf.support_vectors_\n",
    "\n",
    "#b = clf.support_vectors_[0]\n",
    "#yy_down = a * xx + (b[1] - a * b[0])\n",
    "#b = clf.support_vectors_[-1]\n",
    "#yy_up = a * xx + (b[1] - a * b[0])\n",
    "\n",
    "# plot the line, the points, and the nearest vectors to the plane\n",
    "#plt.plot(xx, yy, 'k-')\n",
    "#plt.plot(xx, yy_down, 'k--')\n",
    "#plt.plot(xx, yy_up, 'k--')\n",
    "\n",
    "#plt.scatter(X[:, 0], X[:, 1], c=Y, cmap=plt.cm.Paired)\n",
    "\n",
    "#plt.axis('tight')\n",
    "#plt.show()\n",
    "\n",
    "\n",
    "fig = plt.figure(figsize=(20, 10))\n",
    "ax = fig.add_subplot(111)\n",
    "plt.plot(class_3[:,0],class_3[:,1],'b.', label='Class 3')\n",
    "plt.plot(class_4[:,0],class_4[:,1],'r.',label = 'class 4')\n",
    "show_decision_function(clf3, ax)\n",
    "plot_2d_separator(clf3, X_train)\n",
    "plt.scatter(clf3.support_vectors_[:, 0], clf3.support_vectors_[:, 1], s=100, facecolors='none', label='Support Vectors')\n",
    "ax.set_xlim(-10, 10)\n",
    "#ax.set_ylim(-10, 10)\n",
    "ax.set_title('Decision function of a SVM classifier with gamma = 0.20, C = 15')\n",
    "plt.legend()\n",
    "plt.show()"
   ]
  },
  {
   "cell_type": "code",
   "execution_count": null,
   "metadata": {
    "collapsed": true
   },
   "outputs": [],
   "source": []
  },
  {
   "cell_type": "markdown",
   "metadata": {},
   "source": [
    "Einkomplexes Beispiel mit verschieden Methoden im Vergleich\n",
    "---"
   ]
  },
  {
   "cell_type": "code",
   "execution_count": 6,
   "metadata": {
    "collapsed": false
   },
   "outputs": [
    {
     "data": {
      "image/png": "[encoded data removed]",
      "text/plain": [
       "<matplotlib.figure.Figure at 0x1154c1610>"
      ]
     },
     "metadata": {},
     "output_type": "display_data"
    }
   ],
   "source": [
    "import numpy as np\n",
    "import matplotlib.pyplot as plt\n",
    "%matplotlib inline\n",
    "from sklearn import svm\n",
    "from sklearn.datasets import load_iris\n",
    "\n",
    "iris = load_iris()\n",
    "# import some data to play with\n",
    "#iris = datasets.load_iris()\n",
    "X = iris.data[:, :2]  # we only take the first two features. We could\n",
    "                      # avoid this ugly slicing by using a two-dim dataset\n",
    "y = iris.target\n",
    "\n",
    "h = .02  # step size in the mesh\n",
    "\n",
    "# we create an instance of SVM and fit out data. We do not scale our\n",
    "# data since we want to plot the support vectors\n",
    "\n",
    "C = 1.0  # SVM regularization parameter\n",
    "svc = svm.SVC(kernel='linear', C=C).fit(X, y)\n",
    "rbf_svc = svm.SVC(kernel='rbf', gamma=0.7, C=C).fit(X, y)\n",
    "poly_svc = svm.SVC(kernel='poly', degree=3, C=C).fit(X, y)\n",
    "lin_svc = svm.LinearSVC(C=C).fit(X, y)\n",
    "\n",
    "# create a mesh to plot in\n",
    "x_min, x_max = X[:, 0].min() - 1, X[:, 0].max() + 1\n",
    "y_min, y_max = X[:, 1].min() - 1, X[:, 1].max() + 1\n",
    "xx, yy = np.meshgrid(np.arange(x_min, x_max, h),\n",
    "                     np.arange(y_min, y_max, h))\n",
    "\n",
    "# title for the plots\n",
    "titles = ['SVC with linear kernel',\n",
    "          'LinearSVC (linear kernel)',\n",
    "          'SVC with RBF kernel',\n",
    "          'SVC with polynomial (degree 3) kernel']\n",
    "\n",
    "plt.figure(figsize=(20,10))\n",
    "for i, clf in enumerate((svc, lin_svc, rbf_svc, poly_svc)):\n",
    "    # Plot the decision boundary. For that, we will assign a color to each\n",
    "    # point in the mesh [x_min, m_max]x[y_min, y_max].\n",
    "    \n",
    "    \n",
    "    plt.subplot(2, 2, i + 1)\n",
    "    plt.subplots_adjust(wspace=0.4, hspace=0.4)\n",
    "\n",
    "    Z = clf.predict(np.c_[xx.ravel(), yy.ravel()])\n",
    "\n",
    "    # Put the result into a color plot\n",
    "    Z = Z.reshape(xx.shape)\n",
    "    plt.contourf(xx, yy, Z, cmap=plt.cm.Paired, alpha=0.8)\n",
    "\n",
    "    # Plot also the training points\n",
    "    plt.scatter(X[:, 0], X[:, 1], c=y, cmap=plt.cm.Paired)\n",
    "    plt.xlabel('Sepal length')\n",
    "    plt.ylabel('Sepal width')\n",
    "    plt.xlim(xx.min(), xx.max())\n",
    "    plt.ylim(yy.min(), yy.max())\n",
    "    plt.xticks(())\n",
    "    plt.yticks(())\n",
    "    plt.title(titles[i])\n",
    "\n",
    "plt.show()"
   ]
  },
  {
   "cell_type": "code",
   "execution_count": null,
   "metadata": {
    "collapsed": false
   },
   "outputs": [],
   "source": []
  },
  {
   "cell_type": "code",
   "execution_count": null,
   "metadata": {
    "collapsed": false
   },
   "outputs": [],
   "source": []
  },
  {
   "cell_type": "code",
   "execution_count": null,
   "metadata": {
    "collapsed": false
   },
   "outputs": [],
   "source": []
  },
  {
   "cell_type": "code",
   "execution_count": null,
   "metadata": {
    "collapsed": true
   },
   "outputs": [],
   "source": []
  }
 ],
 "metadata": {
  "kernelspec": {
   "display_name": "Python 3",
   "language": "python",
   "name": "python3"
  },
  "language_info": {
   "codemirror_mode": {
    "name": "ipython",
    "version": 3
   },
   "file_extension": ".py",
   "mimetype": "text/x-python",
   "name": "python",
   "nbconvert_exporter": "python",
   "pygments_lexer": "ipython3",
   "version": "3.6.1"
  }
 },
 "nbformat": 4,
 "nbformat_minor": 2
}
