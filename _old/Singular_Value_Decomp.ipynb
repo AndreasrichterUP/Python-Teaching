{
 "cells": [
  {
   "cell_type": "markdown",
   "metadata": {},
   "source": [
    "Singular Value Decomposition\n",
    "---"
   ]
  },
  {
   "cell_type": "code",
   "execution_count": null,
   "metadata": {
    "collapsed": false
   },
   "outputs": [],
   "source": [
    "# Singular Value Decomp Example\n",
    "#===============================================\n",
    "#http://stackoverflow.com/questions/1730600/principal-component-analysis-in-python\n",
    "#http://sebastianraschka.com/Articles/2014_pca_step_by_step.html\n",
    "import numpy as np\n",
    "import numpy.linalg as lina\n",
    "from   scipy.misc import bytescale\n",
    "import skimage.io as skio\n",
    "import matplotlib.pyplot as plt\n",
    "\n",
    "#%matplotlib inline\n",
    "\n",
    "Im=skio.imread('feynman.png')\n",
    "print 'Image Dimension: {}'.format(Im.shape)\n",
    "print '              '\n",
    "\n",
    "\n",
    "\n",
    "U,s,V = lina.svd(Im)\n",
    "\n",
    "\n",
    "\n",
    "\n",
    "print 'Matrix U & Dim(U) :{}'.format(U.shape)\n",
    "print '              '\n",
    "print U\n",
    "print '              '\n",
    "print 'Vektor s & Dim(s) :{}'.format(s.shape)\n",
    "print '              '\n",
    "print s\n",
    "print '              '\n",
    "print 'Matrix V & Dim(V) :{}'.format(V.shape)\n",
    "print '              '\n",
    "print V\n",
    "print '              '\n",
    "\n",
    "\n",
    "\n",
    "plt.figure(figsize=(20,10))\n",
    "plt.imshow(Im, cmap = 'gray')\n",
    "plt.title('feynman')\n",
    "plt.show()\n",
    "print 'V:', V.shape[0]\n",
    "\n",
    "# Full image \n",
    "S=np.zeros(Im.shape);\n",
    "#S[0:V.shape[0],:] = np.diag(s)\n",
    "\n",
    "# some eigenvalues\n",
    "n=7;  \n",
    "for i in range(0,n):\n",
    "    S[i,i]=s[i]\n",
    "\n",
    "print S[0:5,0:5]\n",
    "\n",
    "#A= np.mat(U)* np.mat(S)\n",
    "#A.shape\n",
    "#BildPCA=np.uint8(np.mat(U)* np.mat(S)*np.mat(V))\n",
    "\n",
    "#BildPCA = np.mat(U) * np.mat(S) * np.mat(V)      \n",
    "BildSVD = bytescale(np.dot(np.dot(U,S),V)   )   \n",
    "\n",
    "print 'Shape of Output:{}  Type of Output:{}'.format(BildSVD.shape, BildSVD.dtype)\n",
    "\n",
    "\n",
    "plt.figure(figsize=(20,10))\n",
    "plt.imshow(BildSVD,cmap='gray')\n",
    "\n",
    "plt.title('feynman')\n",
    "\n",
    "plt.show()\n",
    "#===============================================\n"
   ]
  },
  {
   "cell_type": "code",
   "execution_count": null,
   "metadata": {
    "collapsed": false
   },
   "outputs": [],
   "source": [
    "whos"
   ]
  },
  {
   "cell_type": "code",
   "execution_count": null,
   "metadata": {
    "collapsed": false
   },
   "outputs": [],
   "source": [
    "print ord('a')"
   ]
  },
  {
   "cell_type": "code",
   "execution_count": null,
   "metadata": {
    "collapsed": false
   },
   "outputs": [],
   "source": [
    "import cv2\n",
    "while(1):\n",
    "    cv2.startWindowThread()\n",
    "    \n",
    "    k = cv2.waitKey(33)\n",
    "    print 1\n",
    "    if k==27:    # Esc key to stop\n",
    "        break\n",
    "    elif k==-1:  # normally -1 returned,so don't print it\n",
    "        continue\n",
    "    else:\n",
    "        print k # else print its value"
   ]
  },
  {
   "cell_type": "code",
   "execution_count": null,
   "metadata": {
    "collapsed": false
   },
   "outputs": [],
   "source": [
    "import cv2\n",
    "import skimage.io as skio\n",
    "import matplotlib.pyplot as plt\n",
    "\n",
    "cv2.startWindowThread()\n",
    "Im=skio.imread('feynman.png')\n",
    "cv2.imshow('Image', Im)\n",
    "\n",
    "\n",
    "k = cv2.waitKey(27)\n",
    "    #print 1\n",
    "if k==27:    # Esc key to stop\n",
    "        break\n",
    "cv2.destroyAllWindows()"
   ]
  },
  {
   "cell_type": "code",
   "execution_count": 3,
   "metadata": {
    "collapsed": false
   },
   "outputs": [],
   "source": [
    "import cv2,time\n",
    "cv2.startWindowThread()\n",
    "img = cv2.imread('feynman.png')\n",
    "cv2.namedWindow(\"preview\")\n",
    "cv2.imshow(\"preview\", img)\n",
    "time.sleep(200)\n",
    "cv2.destroyAllWindows()\n",
    "for i in range (1,5):\n",
    "    cv2.waitKey(1)"
   ]
  },
  {
   "cell_type": "code",
   "execution_count": null,
   "metadata": {
    "collapsed": true
   },
   "outputs": [],
   "source": [
    " "
   ]
  },
  {
   "cell_type": "code",
   "execution_count": null,
   "metadata": {
    "collapsed": true
   },
   "outputs": [],
   "source": [
    "a"
   ]
  }
 ],
 "metadata": {
  "kernelspec": {
   "display_name": "Python 3",
   "language": "python",
   "name": "python3"
  },
  "language_info": {
   "codemirror_mode": {
    "name": "ipython",
    "version": 3
   },
   "file_extension": ".py",
   "mimetype": "text/x-python",
   "name": "python",
   "nbconvert_exporter": "python",
   "pygments_lexer": "ipython3",
   "version": "3.6.1"
  }
 },
 "nbformat": 4,
 "nbformat_minor": 2
}
