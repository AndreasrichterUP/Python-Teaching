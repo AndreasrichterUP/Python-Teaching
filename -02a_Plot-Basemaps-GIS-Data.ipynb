{
 "cells": [
  {
   "cell_type": "markdown",
   "metadata": {},
   "source": [
    "Basemap plots - plotting maps and geographic datasets\n",
    "---"
   ]
  },
  {
   "cell_type": "markdown",
   "metadata": {},
   "source": [
    "**Overview of the notebook:**\n",
    "    - A simple Basemap plot\n",
    "    - Plotting points,lines polygones from shapefiles\n",
    "    - Plotting points at position (lat/lon)\n",
    "    - Importing of a list of TIF files from a folder\n",
    "    - Align all raster datasets\n",
    "    - Display each raster file next to it's histogram\n",
    "    - Raster to Design-Matrix\n"
   ]
  },
  {
   "cell_type": "code",
   "execution_count": null,
   "metadata": {},
   "outputs": [],
   "source": []
  },
  {
   "cell_type": "code",
   "execution_count": null,
   "metadata": {},
   "outputs": [],
   "source": []
  },
  {
   "cell_type": "markdown",
   "metadata": {},
   "source": [
    "A simple Basemap plot\n",
    "==="
   ]
  },
  {
   "cell_type": "code",
   "execution_count": 11,
   "metadata": {},
   "outputs": [
    {
     "ename": "ImportError",
     "evalue": "No module named 'mpl_toolkits.basemap'",
     "output_type": "error",
     "traceback": [
      "\u001b[0;31m---------------------------------------------------------------------------\u001b[0m",
      "\u001b[0;31mImportError\u001b[0m                               Traceback (most recent call last)",
      "\u001b[0;32m<ipython-input-11-20aec2a9ef3b>\u001b[0m in \u001b[0;36m<module>\u001b[0;34m()\u001b[0m\n\u001b[1;32m      1\u001b[0m \u001b[0;31m#http://matplotlib.org/basemap/api/basemap_api.html\u001b[0m\u001b[0;34m\u001b[0m\u001b[0;34m\u001b[0m\u001b[0m\n\u001b[1;32m      2\u001b[0m \u001b[0mget_ipython\u001b[0m\u001b[0;34m(\u001b[0m\u001b[0;34m)\u001b[0m\u001b[0;34m.\u001b[0m\u001b[0mmagic\u001b[0m\u001b[0;34m(\u001b[0m\u001b[0;34m'matplotlib inline'\u001b[0m\u001b[0;34m)\u001b[0m\u001b[0;34m\u001b[0m\u001b[0m\n\u001b[0;32m----> 3\u001b[0;31m \u001b[0;32mfrom\u001b[0m \u001b[0mmpl_toolkits\u001b[0m\u001b[0;34m.\u001b[0m\u001b[0mbasemap\u001b[0m \u001b[0;32mimport\u001b[0m \u001b[0mBasemap\u001b[0m\u001b[0;34m,\u001b[0m \u001b[0mshiftgrid\u001b[0m\u001b[0;34m,\u001b[0m \u001b[0mcm\u001b[0m\u001b[0;34m\u001b[0m\u001b[0m\n\u001b[0m\u001b[1;32m      4\u001b[0m \u001b[0;32mimport\u001b[0m \u001b[0mnumpy\u001b[0m \u001b[0;32mas\u001b[0m \u001b[0mnp\u001b[0m\u001b[0;34m\u001b[0m\u001b[0m\n\u001b[1;32m      5\u001b[0m \u001b[0;32mimport\u001b[0m \u001b[0mmatplotlib\u001b[0m\u001b[0;34m.\u001b[0m\u001b[0mpyplot\u001b[0m \u001b[0;32mas\u001b[0m \u001b[0mplt\u001b[0m\u001b[0;34m\u001b[0m\u001b[0m\n",
      "\u001b[0;31mImportError\u001b[0m: No module named 'mpl_toolkits.basemap'"
     ]
    }
   ],
   "source": [
    "#http://matplotlib.org/basemap/api/basemap_api.html\n",
    "%matplotlib inline\n",
    "from mpl_toolkits.basemap import Basemap, shiftgrid, cm\n",
    "import numpy as np\n",
    "import matplotlib.pyplot as plt\n",
    "#from netCDF4 import Dataset\n",
    "\n",
    "# read in etopo5 topography/bathymetry.\n",
    "#url = 'http://ferret.pmel.noaa.gov/thredds/dodsC/data/PMEL/etopo5.nc'\n",
    "#etopodata = Dataset(url)\n",
    "\n",
    "#topoin = etopodata.variables['ROSE'][:]\n",
    "#lons = etopodata.variables['ETOPO05_X'][:]\n",
    "#lats = etopodata.variables['ETOPO05_Y'][:]\n",
    "# shift data so lons go from -180 to 180 instead of 20 to 380.\n",
    "#topoin,lons = shiftgrid(180.,topoin,lons,start=False)\n",
    "\n",
    "# plot topography/bathymetry as an image.\n",
    "\n",
    "# create the figure and axes instances.\n",
    "fig = plt.figure()\n",
    "ax = fig.add_axes([0.1,0.1,0.8,0.8])\n",
    "# setup of basemap ('lcc' = lambert conformal conic).\n",
    "# use major and minor sphere radii from WGS84 ellipsoid.\n",
    "m = Basemap(llcrnrlon=-145.5,llcrnrlat=1.,urcrnrlon=-2.566,urcrnrlat=46.352,\\\n",
    "            rsphere=(6378137.00,6356752.3142),\\\n",
    "            resolution='l',area_thresh=1000.,projection='lcc',\\\n",
    "            lat_1=50.,lon_0=-107.,ax=ax)\n",
    "# transform to nx x ny regularly spaced 5km native projection grid\n",
    "nx = int((m.xmax-m.xmin)/5000.)+1; ny = int((m.ymax-m.ymin)/5000.)+1\n",
    "#topodat = m.transform_scalar(topoin,lons,lats,nx,ny)\n",
    "# plot image over map with imshow.\n",
    "#im = m.imshow(topodat,cm.GMT_haxby)\n",
    "# draw coastlines and political boundaries.\n",
    "m.drawcoastlines()\n",
    "m.drawcountries()\n",
    "#m.drawstates()\n",
    "# draw parallels and meridians.\n",
    "# label on left and bottom of map.\n",
    "parallels = np.arange(0.,80,20.)\n",
    "m.drawparallels(parallels,labels=[1,0,0,1])\n",
    "meridians = np.arange(10.,360.,30.)\n",
    "m.drawmeridians(meridians,labels=[1,0,0,1])\n",
    "# add colorbar\n",
    "#cb = m.colorbar(im,\"right\", size=\"5%\", pad='2%')\n",
    "ax.set_title('ETOPO5 Topography - Lambert Conformal Conic')\n",
    "\n",
    "plt.show()"
   ]
  },
  {
   "cell_type": "markdown",
   "metadata": {},
   "source": [
    "Plotting points,lines polygones from shapefiles\n",
    "==="
   ]
  },
  {
   "cell_type": "code",
   "execution_count": 12,
   "metadata": {},
   "outputs": [
    {
     "ename": "ImportError",
     "evalue": "No module named 'mpl_toolkits.basemap'",
     "output_type": "error",
     "traceback": [
      "\u001b[0;31m---------------------------------------------------------------------------\u001b[0m",
      "\u001b[0;31mImportError\u001b[0m                               Traceback (most recent call last)",
      "\u001b[0;32m<ipython-input-12-7d584c7edaef>\u001b[0m in \u001b[0;36m<module>\u001b[0;34m()\u001b[0m\n\u001b[1;32m      3\u001b[0m \u001b[0;31m#http://download.geofabrik.de/europe/germany/berlin.html\u001b[0m\u001b[0;34m\u001b[0m\u001b[0;34m\u001b[0m\u001b[0m\n\u001b[1;32m      4\u001b[0m \u001b[0mget_ipython\u001b[0m\u001b[0;34m(\u001b[0m\u001b[0;34m)\u001b[0m\u001b[0;34m.\u001b[0m\u001b[0mmagic\u001b[0m\u001b[0;34m(\u001b[0m\u001b[0;34m'matplotlib inline'\u001b[0m\u001b[0;34m)\u001b[0m\u001b[0;34m\u001b[0m\u001b[0m\n\u001b[0;32m----> 5\u001b[0;31m \u001b[0;32mfrom\u001b[0m \u001b[0mmpl_toolkits\u001b[0m\u001b[0;34m.\u001b[0m\u001b[0mbasemap\u001b[0m \u001b[0;32mimport\u001b[0m \u001b[0mBasemap\u001b[0m\u001b[0;34m\u001b[0m\u001b[0m\n\u001b[0m\u001b[1;32m      6\u001b[0m \u001b[0;32mimport\u001b[0m \u001b[0mmatplotlib\u001b[0m\u001b[0;34m.\u001b[0m\u001b[0mpyplot\u001b[0m \u001b[0;32mas\u001b[0m \u001b[0mplt\u001b[0m\u001b[0;34m\u001b[0m\u001b[0m\n\u001b[1;32m      7\u001b[0m \u001b[0;34m\u001b[0m\u001b[0m\n",
      "\u001b[0;31mImportError\u001b[0m: No module named 'mpl_toolkits.basemap'"
     ]
    }
   ],
   "source": [
    "\n",
    "#http://basemaptutorial.readthedocs.org/en/latest/shapefile.html\n",
    "#http://download.geofabrik.de/europe/germany/berlin.html\n",
    "%matplotlib inline\n",
    "from mpl_toolkits.basemap import Basemap\n",
    "import matplotlib.pyplot as plt\n",
    "\n",
    "map = Basemap(llcrnrlon=11.5,llcrnrlat=52.,urcrnrlon=14.,urcrnrlat=55.,\n",
    "             resolution='i', projection='tmerc', lat_0 = 52, lon_0 = 12.5)\n",
    "\n",
    "map.drawmapboundary(fill_color='aqua')\n",
    "map.fillcontinents(color='#ddaa66',lake_color='aqua')\n",
    "map.drawcoastlines()\n",
    "\n",
    "# hier dann das shapefile angeben Pfad von der Platte\n",
    "map.readshapefile('berlin-latest/railways', 'points')\n",
    "\n",
    "plt.show()"
   ]
  },
  {
   "cell_type": "markdown",
   "metadata": {},
   "source": [
    "Plotting points at position (lat/lon)\n",
    "==="
   ]
  },
  {
   "cell_type": "code",
   "execution_count": null,
   "metadata": {},
   "outputs": [],
   "source": [
    "%matplotlib inline\n",
    "from mpl_toolkits.basemap import Basemap\n",
    "import matplotlib.pyplot as plt\n",
    "\n",
    "map = Basemap(projection='ortho', \n",
    "              lat_0=0, lon_0=45)\n",
    "\n",
    "map.drawmapboundary(fill_color='aqua')\n",
    "map.fillcontinents(color='coral',lake_color='aqua')\n",
    "map.drawcoastlines()\n",
    "\n",
    "x, y = map(0, 0) # Koordinaten in der jeweiligen Projektion berechnen!!! (Eingaben in Lon/Lat )\n",
    "\n",
    "map.plot(x, y, marker='D',color='m')\n",
    "\n",
    "plt.show()"
   ]
  },
  {
   "cell_type": "markdown",
   "metadata": {},
   "source": [
    "**and label them...**"
   ]
  },
  {
   "cell_type": "code",
   "execution_count": 13,
   "metadata": {},
   "outputs": [
    {
     "ename": "ImportError",
     "evalue": "No module named 'mpl_toolkits.basemap'",
     "output_type": "error",
     "traceback": [
      "\u001b[0;31m---------------------------------------------------------------------------\u001b[0m",
      "\u001b[0;31mImportError\u001b[0m                               Traceback (most recent call last)",
      "\u001b[0;32m<ipython-input-13-455d3979de68>\u001b[0m in \u001b[0;36m<module>\u001b[0;34m()\u001b[0m\n\u001b[1;32m      7\u001b[0m \u001b[0;34m\u001b[0m\u001b[0m\n\u001b[1;32m      8\u001b[0m \u001b[0mget_ipython\u001b[0m\u001b[0;34m(\u001b[0m\u001b[0;34m)\u001b[0m\u001b[0;34m.\u001b[0m\u001b[0mmagic\u001b[0m\u001b[0;34m(\u001b[0m\u001b[0;34m'matplotlib inline'\u001b[0m\u001b[0;34m)\u001b[0m\u001b[0;34m\u001b[0m\u001b[0m\n\u001b[0;32m----> 9\u001b[0;31m \u001b[0;32mfrom\u001b[0m \u001b[0mmpl_toolkits\u001b[0m\u001b[0;34m.\u001b[0m\u001b[0mbasemap\u001b[0m \u001b[0;32mimport\u001b[0m \u001b[0mBasemap\u001b[0m\u001b[0;34m\u001b[0m\u001b[0m\n\u001b[0m\u001b[1;32m     10\u001b[0m \u001b[0;32mimport\u001b[0m \u001b[0mmatplotlib\u001b[0m\u001b[0;34m.\u001b[0m\u001b[0mpyplot\u001b[0m \u001b[0;32mas\u001b[0m \u001b[0mplt\u001b[0m\u001b[0;34m\u001b[0m\u001b[0m\n\u001b[1;32m     11\u001b[0m \u001b[0;34m\u001b[0m\u001b[0m\n",
      "\u001b[0;31mImportError\u001b[0m: No module named 'mpl_toolkits.basemap'"
     ]
    }
   ],
   "source": [
    "#http://de.mathworks.com/help/map/examples/georeferencing-an-image-to-an-orthotile-base-layer.html?requestedDomain=www.mathworks.com\n",
    "# vielleicht geht auch das ja\n",
    "\n",
    "#http://introtopython.org/visualization_earthquakes.html\n",
    "\n",
    "#http://basemaptutorial.readthedocs.org/en/latest/plotting_data.html\n",
    "\n",
    "%matplotlib inline\n",
    "from mpl_toolkits.basemap import Basemap\n",
    "import matplotlib.pyplot as plt\n",
    "\n",
    "# Make this plot larger.\n",
    "plt.figure(figsize=(16,12))   # Stellt die Größe des Plots ein\n",
    "\n",
    "map = Basemap(llcrnrlon=10,llcrnrlat=50.,urcrnrlon=15.,urcrnrlat=55.,\n",
    "             resolution='i', projection='tmerc', lat_0 = 52, lon_0 = 12.5)\n",
    "\n",
    "#map.drawmapboundary(fill_color='aqua')\n",
    "#map.fillcontinents(color='#ddaa66',lake_color='aqua')\n",
    "\n",
    "#map.bluemarble()   # Rasterdaten im Hintergrund anzeigen, weltweit Bluemarble Mosaik\n",
    "map.shadedrelief()\n",
    "map.drawcoastlines()\n",
    "map.drawcountries()\n",
    "parallels = np.arange(50.,60,1.)\n",
    "map.drawparallels(parallels,labels=[1,0,0,1])\n",
    "meridians = np.arange(0.,20.,2.)\n",
    "map.drawmeridians(meridians,labels=[1,0,0,1])\n",
    "\n",
    "# Einen Punkt zeichnen\n",
    "lon = 13.3318\n",
    "lat = 52.0799\n",
    "x,y = map(lon, lat)  #damit werden die Längen und Breitengrade in Kartenkoordinaten umgerechnet \n",
    "map.plot(x, y, 'bo', markersize=6)\n",
    "\n",
    "# mehrere Punkte zeichnen\n",
    "lons = [13.53318, 11.8331, 13.46572]\n",
    "lats = [51.0799, 52.894, 53.2399]\n",
    "xs,ys = map(lons, lats)\n",
    "map.plot(xs, ys, 'ro', markersize=4)\n",
    "\n",
    "# Punkte mit Beschriftungen versehen\n",
    "labels = ['Sitka', 'Baranof', 'Port Alexander']\n",
    "for label, xpt, ypt in zip(labels, xs, ys):\n",
    "    plt.text(xpt, ypt, label)\n",
    "    #plt.text(xpt+10000, ypt+5000, label)   # um Labels etwas vom punkt entfernt zu plotten\n",
    "\n",
    "# eine Linie zeichnen im Plot\n",
    "lons1 = [11.1, 12.83, 13.1, 13.3]\n",
    "lats1 = [51.9, 52.44, 53.2, 51.3]\n",
    "xs1,ys1 = map(lons1, lats1)\n",
    "map.plot(xs1, ys1, marker=None,color='m')\n",
    "\n",
    "\n",
    "# ein geschlossenen Linienzug (Polygon) zeichnen im Plot\n",
    "lons1 = [11.1, 11.3, 11.2, 11.1]\n",
    "lats1 = [51.5, 51.3, 51.8, 51.5]\n",
    "xs1,ys1 = map(lons1, lats1)\n",
    "map.plot(xs1, ys1, marker=None,color='r')\n",
    "\n",
    "plt.show()"
   ]
  },
  {
   "cell_type": "code",
   "execution_count": null,
   "metadata": {},
   "outputs": [],
   "source": []
  },
  {
   "cell_type": "markdown",
   "metadata": {},
   "source": [
    "Importing of a list of TIF files from a folder\n",
    "==="
   ]
  },
  {
   "cell_type": "markdown",
   "metadata": {},
   "source": [
    "** and check if 'NaN' Values of 'infinity' are present in the raster, if yes replace them by zero...  **\n",
    "\n",
    "such a previous check of data consistencey is basic for later calculation on the raster-files. If 'NaN' or 'Infty' pixel-values are within the data most numpy functions might fail and cause script crashes."
   ]
  },
  {
   "cell_type": "code",
   "execution_count": null,
   "metadata": {},
   "outputs": [],
   "source": [
    "import glob\n",
    "Folder='../data/AOI3_V7_Train/'\n",
    "#Folder='../../_Data_ori_Tif/AOI2_small_6_Test/'\n",
    "# https://docs.python.org/2/library/glob.html \n",
    "# http://stackoverflow.com/questions/3207219/how-to-list-all-files-of-a-directory-in-python\n",
    "TIFs=glob.glob(Folder+\"*.tif\")\n",
    "TFWs=glob.glob(Folder+\"*.tfw\")\n"
   ]
  },
  {
   "cell_type": "markdown",
   "metadata": {},
   "source": [
    "Now a list of the file names inside the above folder is saved in the variable **\"TIFs\"**.\n",
    "I can now iterate over the files and check each of them for data consistency. "
   ]
  },
  {
   "cell_type": "code",
   "execution_count": null,
   "metadata": {},
   "outputs": [],
   "source": [
    "i=0\n",
    "LayerTrain=dict()\n",
    "\n",
    "for filr in TIFs:\n",
    "    \n",
    "    if '_AF' in filr or '_B' in filr or '_C' in filr or '_Di' in filr or '_E' in filr or '_p' in filr or '_S' in filr or '_N' in filr:\n",
    "        #print i, filr.split(\"/\")[4][0:4]+'r_'+filr.split(\"/\")[4][4:-4]\n",
    "        name=filr.split(\"/\")[4][0:4]+'r_'+filr.split(\"/\")[4][4:-4]\n",
    "        print( i,name)\n",
    "        LayerTrain[name]=np.float32(skio.imread(filr))\n",
    "        print( LayerTrain[name].shape)\n",
    "        print( 'Anzahl NaN : {}'.format(np.sum(np.isnan(LayerTrain[name])*1)))\n",
    "            \n",
    "        if 'DistStreams' in filr or 'faults' in filr or 'roads' in filr or 'badakh' in filr:\n",
    "            LayerTrain[name]=np.log(LayerTrain[name])\n",
    "            \n",
    "            print( 'Anzahl NaN : {}'.format(np.sum(np.isnan(LayerTrain[name])*1)))\n",
    "            print( 'Anzahl infty : {}'.format(np.sum(np.isinf(LayerTrain[name])*1)))\n",
    "            LayerTrain[name][np.isinf(LayerTrain[name])]=0\n",
    "            print( 'Wert infty durch 0 ersetzt / Anzahl infty jetzt: {}'.format(np.sum(np.isinf(LayerTrain[name])*1)))\n",
    "                \n",
    "    elif '_AS' in filr or '_l' in filr :\n",
    "        #print i, filr.split(\"/\")[4][0:4]+'n_'+filr.split(\"/\")[4][4:-4]\n",
    "        name=filr.split(\"/\")[4][0:4]+'n_'+filr.split(\"/\")[4][4:-4]\n",
    "        print( i,name)\n",
    "        LayerTrain[name]=np.float32(skio.imread(filr))\n",
    "        print( LayerTrain[name].shape)\n",
    "        print( 'Anzahl NaN : {}'.format(np.sum(np.isnan(LayerTrain[name])*1)))\n",
    "            \n",
    "        if 'lc93' in filr:\n",
    "            LayerTrain['TIF_n_LanduseRAL'] =((LayerTrain.get(name) == 1) | (LayerTrain.get(name) ==5))*1.0\n",
    "            print( 'TIF_n_LanduseRAL ', LayerTrain['TIF_n_LanduseRAL'].shape)  #Rainfed Agricultural Land....ok\n",
    "            LayerTrain['TIF_n_LanduseRL']  =( LayerTrain.get(name) == 2)*1.0\n",
    "            print( 'TIF_n_LanduseRL ', LayerTrain['TIF_n_LanduseRL'].shape)    #Range Land....ok\n",
    "            LayerTrain['TIF_n_LanduseIRA'] =((LayerTrain.get(name) == 4) | (LayerTrain.get(name) ==9) |(LayerTrain.get(name) ==10))*1.0\n",
    "            print( 'TIF_n_LanduseIRA ', LayerTrain['TIF_n_LanduseIRA'].shape ) #Irrigated Agricultural Land....ok\n",
    "            \n",
    "            # ----------------------------------------------- \n",
    "            #plt.imshow(TIF_lc93_32 ==3)                                            #Sandcover, !!!!!nicht vorhanden\n",
    "            #plt.imshow(TIF_lc93_32 ==6)  ==8) ==14)                               # % Waterbody and Marshland !!!! nicht vorhanden\n",
    "            # TIF_lc93_32==7)  % Fruit Trees.......... Fruchtbäume)  !!!nicht vorhanden\n",
    "            #plt.imshow(TIF_lc93_32 ==11,12,13)  % Vineyards  .......... Weinberge) % Forest and Shrubs ... !!!nicht vorhanden\n",
    "            #plt.show()\n",
    "            \n",
    "            del LayerTrain[name] \n",
    "        if 'lith' in filr:\n",
    "            LayerTrain['TIF_n_VOLC'] =(LayerTrain.get(name) == 1)*1.0  # % Volcanic ...... Vulkanisches Gestein\n",
    "            print( 'TIF_n_VOLC ', LayerTrain['TIF_n_VOLC'].shape)\n",
    "            LayerTrain['TIF_n_SEDI'] =(LayerTrain.get(name) == 2)*1.0  # % Sedimentary ... Sedimente\n",
    "            print( 'TIF_n_SEDI ', LayerTrain['TIF_n_SEDI'].shape)\n",
    "            LayerTrain['TIF_n_PLUT'] =(LayerTrain.get(name) == 3)*1.0  # % Plutonic....... Plutonisches Gestein\n",
    "            print( 'TIF_n_SEDI ', LayerTrain['TIF_n_SEDI'].shape)\n",
    "            \n",
    "            #TIF_META= (TIF_lith_type == 4) # % Metamorphic.... Metamorphes Gestein .... nicht vorhanden!!!! \n",
    "            del LayerTrain[name]                   \n",
    "            \n",
    "\n",
    "    elif '_Tr' in filr:\n",
    "        #print i, filr.split(\"/\")[4][0:-4]\n",
    "        name =filr.split(\"/\")[4][0:-4]\n",
    "        print( i, name)\n",
    "        LayerTrain[name]=np.float32(skio.imread(filr))\n",
    "        LayerTrain[name]=(LayerTrain.get(name) > 0)*1.0             # TrueLabels auf Intervall [0,1] bringen\n",
    "        print( LayerTrain[name].shape)\n",
    "        print( 'Anzahl NaN : {}'.format(np.sum(np.isnan(LayerTrain[name])*1)))\n",
    "            \n",
    "    i+=1"
   ]
  },
  {
   "cell_type": "markdown",
   "metadata": {},
   "source": [
    "The imported TIF raster files can represent layers in a 3D data structure where each layer \n",
    "has another above and below itself. Except for the first and the last layer."
   ]
  },
  {
   "cell_type": "markdown",
   "metadata": {},
   "source": [
    "Align all raster datasets\n",
    "==="
   ]
  },
  {
   "cell_type": "markdown",
   "metadata": {},
   "source": [
    "for further calculations based on these raster datasets each layer has to have \n",
    "the same size and each pixel has to be aligned to the ones above or below them."
   ]
  },
  {
   "cell_type": "code",
   "execution_count": null,
   "metadata": {},
   "outputs": [],
   "source": [
    "# Ausschneiden und auf die gleiche Größe bringen\n",
    "a,b =LayerTrain['TIF_TrueLabels'].shape \n",
    "print a,b\n",
    "\n",
    "for layer in sorted(LayerTrain.keys()  ) :\n",
    "    if  'TIF_r' in layer or 'TIF_n' in layer:\n",
    "        print( layer)\n",
    "        LayerTrain[layer]=LayerTrain.get(layer)[0:a,1:b]\n",
    "        print( LayerTrain.get(layer).shape)\n",
    "    #else :\n",
    "    #    print '---'\n",
    "    #    print layer    \n",
    "    #    LayerTrain[layer]=LayerTrain.get(layer)[:,1:]\n",
    "    #    print LayerTrain.get(layer).shape\n",
    "\n",
    "\n",
    "#print sorted(LayerTrain.keys()  )\n",
    "print( 'TIF_TrueLabels shape'  ,LayerTrain['TIF_TrueLabels'].shape   )\n",
    "print( 'beheben')\n",
    "LayerTrain['TIF_TrueLabels']=LayerTrain.get('TIF_TrueLabels')[:,1:]\n",
    "print('TIF_TrueLabels shape' , LayerTrain.get('TIF_TrueLabels').shape)"
   ]
  },
  {
   "cell_type": "markdown",
   "metadata": {},
   "source": []
  },
  {
   "cell_type": "markdown",
   "metadata": {},
   "source": [
    "Display each raster file next to it's histogram\n",
    "==="
   ]
  },
  {
   "cell_type": "code",
   "execution_count": null,
   "metadata": {},
   "outputs": [],
   "source": [
    "from scripts.BasisFunctions import showImage\n",
    "    \n",
    "for layer in sorted(LayerTrain):\n",
    "    print( layer)\n",
    "    showImage(LayerTrain.get(layer))\n",
    "    #print Layers.get(layer)"
   ]
  },
  {
   "cell_type": "code",
   "execution_count": null,
   "metadata": {},
   "outputs": [],
   "source": []
  },
  {
   "cell_type": "markdown",
   "metadata": {},
   "source": []
  },
  {
   "cell_type": "markdown",
   "metadata": {},
   "source": [
    "Raster to Design-Matrix\n",
    "===\n",
    "- Reshape RasterMatrix to Vector and normalize it [0,1]\n",
    "- make Design Matrix from column-Vectors\n",
    "\n",
    "\n"
   ]
  },
  {
   "cell_type": "markdown",
   "metadata": {},
   "source": [
    "<img src=\"figures/data_representation.svg\" width=\"75%\">  "
   ]
  },
  {
   "cell_type": "code",
   "execution_count": null,
   "metadata": {},
   "outputs": [],
   "source": [
    "#reshape Matrix in Vektor umwandeln\n",
    "from scripts.BasisFunctions import Mat2NormVec,Mat2Vec\n",
    "import scipy.io as sio\n",
    "\n",
    "ncols=len(LayersTRAIN)+1 \n",
    "print( ncols)\n",
    "A=np.zeros((np.ravel(LayersTRAIN.get('TIF_TrueLabels')).shape[0],ncols))  #Design Matrix Speicher initialisieren\n",
    "\n",
    "A[:,0] = 1.0\n",
    "i=1\n",
    "\n",
    "for layer in sorted(LayersTRAIN):\n",
    "    if 'TIF_r' in layer :\n",
    "        A[:,i]=Mat2NormVec( LayersTRAIN.get(layer))\n",
    "        print (i, layer, np.ravel(LayersTRAIN.get(layer)).shape)\n",
    "    elif 'TIF_n' in layer :\n",
    "        A[:,i]=Mat2Vec( LayersTRAIN.get(layer))\n",
    "        print( i, layer, np.ravel(LayersTRAIN.get(layer)).shape)\n",
    "    \n",
    "    else: \n",
    "        i-=1\n",
    "        print(i, layer, np.ravel(LayersTRAIN.get(layer)).shape)\n",
    "    i+=1\n",
    "A[:,ncols-1]=Mat2Vec(LayersTRAIN.get('TIF_TrueLabels'))\n",
    "\n",
    "\n",
    "print( A)\n",
    "\n",
    "# Check stats of disign matrix\n",
    "print('Maximum Value in DesignMatrix: {}'.format(np.max(A)))\n",
    "print( '    Anzahl TrueLabels A == 0 : {}'.format( np.sum(A[:,31] ==0)))\n",
    "print( '    Anzahl TrueLabels A >  0 : {}'.format( np.sum(A[:,31] > 0)))\n",
    "print( '                        Summe: {}'.format(np.sum(A[:,31] > 0)+np.sum(A[:,31] ==0)))\n",
    "\n",
    "print( '  Anz. d. Pixel in ori Image : {}'.format(np.ravel(LayerTrain.get('TIF_TrueLabels')).shape[0]))\n",
    "\n",
    "\n",
    "\n",
    "sio.savemat('LayersTrain.mat', LayerTrain)\n",
    "sio.savemat('Matrix_A_Train.mat',{'A_Train': A})\n",
    "\n"
   ]
  }
 ],
 "metadata": {
  "kernelspec": {
   "display_name": "Python 3",
   "language": "python",
   "name": "python3"
  },
  "language_info": {
   "codemirror_mode": {
    "name": "ipython",
    "version": 3
   },
   "file_extension": ".py",
   "mimetype": "text/x-python",
   "name": "python",
   "nbconvert_exporter": "python",
   "pygments_lexer": "ipython3",
   "version": "3.6.1"
  }
 },
 "nbformat": 4,
 "nbformat_minor": 2
}
