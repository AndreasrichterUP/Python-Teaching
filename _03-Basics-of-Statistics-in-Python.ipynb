{
 "cells": [
  {
   "cell_type": "markdown",
   "metadata": {},
   "source": [
    "-03-Basics-of-Statistical-Distributions-and-Analysis © by A.Richter\n",
    "---"
   ]
  },
  {
   "cell_type": "code",
   "execution_count": 2,
   "metadata": {
    "collapsed": true
   },
   "outputs": [],
   "source": [
    "import numpy as np\n",
    "import matplotlib.pyplot as plt\n",
    "import matplotlib.mlab as mlab\n",
    "\n",
    "import scipy as sp\n",
    "import scipy.stats as sts\n",
    "import pandas as pd\n",
    "import skimage.io as skio\n",
    "import glob\n",
    "%matplotlib inline"
   ]
  },
  {
   "cell_type": "markdown",
   "metadata": {},
   "source": []
  },
  {
   "cell_type": "code",
   "execution_count": null,
   "metadata": {
    "collapsed": false
   },
   "outputs": [],
   "source": []
  },
  {
   "cell_type": "markdown",
   "metadata": {},
   "source": [
    "Equal or **uniform distribution** : Random numbers between 0 and 1\n",
    "---"
   ]
  },
  {
   "cell_type": "code",
   "execution_count": 2,
   "metadata": {
    "collapsed": false
   },
   "outputs": [
    {
     "data": {
      "image/png": "[encoded data removed]",
      "text/plain": [
       "<matplotlib.figure.Figure at 0x1091cbba8>"
      ]
     },
     "metadata": {},
     "output_type": "display_data"
    },
    {
     "data": {
      "image/png": "[encoded data removed]",
      "text/plain": [
       "<matplotlib.figure.Figure at 0x114c2deb8>"
      ]
     },
     "metadata": {},
     "output_type": "display_data"
    }
   ],
   "source": [
    "import numpy as np\n",
    "import matplotlib.pyplot as plt\n",
    "%matplotlib inline\n",
    "n=50  # n=100 #n=1000 #n=10000        #Anzahl der Ziehungen \"n\" verändern\n",
    "Nums=np.random.rand(n)\n",
    "#print Nums\n",
    "a=np.arange(0,1.25,0.25)            # Alle 0.25 Einheiten einen vertikalen Strich\n",
    "y=np.zeros(a.shape)\n",
    "fig=plt.figure(figsize=(20,3))\n",
    "plt.plot(a,y,'k|',ms = 30)          # vertikale Striche in der Graphik plotten\n",
    "\n",
    "plt.hlines(0,0,1)\n",
    "plt.plot(Nums,np.zeros((n)),'ro')   # plotten r=rot   o = großer ausgefüllter Punkt   .= kleiner ausgefüllter Punkt\n",
    "plt.xlim(-0.1,1.1)\n",
    "plt.ylim(-0.5,0.5)\n",
    "plt.yticks([])                     # keine y - Beschriftungen\n",
    "plt.show()\n",
    "\n",
    "fig=plt.figure(figsize=(20,3))\n",
    "hist, bins = np.histogram(Nums, bins=25)         #Anzahl der Intervalle, \"bins\" verändern\n",
    "width = 0.7 * (bins[1] - bins[0])\n",
    "center = (bins[:-1] + bins[1:]) / 2\n",
    "plt.bar(center, hist, align='center', width=width)\n",
    "plt.show()"
   ]
  },
  {
   "cell_type": "markdown",
   "metadata": {},
   "source": [
    "Normalverteilung: Zufallszahlen Mittelwert = 0 und Standardabweichung = 1\n",
    "---"
   ]
  },
  {
   "cell_type": "code",
   "execution_count": 5,
   "metadata": {
    "collapsed": false
   },
   "outputs": [
    {
     "data": {
      "image/png": "[encoded data removed]",
      "text/plain": [
       "<matplotlib.figure.Figure at 0x10a7f54d0>"
      ]
     },
     "metadata": {},
     "output_type": "display_data"
    },
    {
     "data": {
      "image/png": "[encoded data removed]",
      "text/plain": [
       "<matplotlib.figure.Figure at 0x10dfe8e10>"
      ]
     },
     "metadata": {},
     "output_type": "display_data"
    }
   ],
   "source": [
    "#import numpy as np\n",
    "#import matplotlib.pyplot as plt\n",
    "#%matplotlib inline\n",
    "\n",
    "n=5000000 # n=100 #n=1000 #n=10000               #Anzahl der Ziehungen \"n\" verändern\n",
    "Nums=np.random.randn(n)               # Unterschied!!! : randn() statt rand()\n",
    "#print Nums\n",
    "a=np.arange(-3,3.25,0.25)\n",
    "y=np.zeros(a.shape)\n",
    "fig=plt.figure(figsize=(20,3))\n",
    "plt.plot(a,y,'k|',ms = 30)\n",
    "\n",
    "plt.hlines(0,-3,3)\n",
    "plt.plot(Nums,np.zeros((n)),'ro')\n",
    "plt.xlim(-3.25,3.25)\n",
    "plt.ylim(-0.5,0.5)\n",
    "plt.yticks([])\n",
    "plt.show()\n",
    "\n",
    "fig=plt.figure(figsize=(20,3))\n",
    "hist, bins = np.histogram(Nums, bins=25)          #Anzahl der Intervalle \"bins\" verändern\n",
    "width = 0.7 * (bins[1] - bins[0])\n",
    "center = (bins[:-1] + bins[1:]) / 2\n",
    "plt.bar(center, hist, align='center', width=width)\n",
    "plt.show()"
   ]
  },
  {
   "cell_type": "markdown",
   "metadata": {},
   "source": [
    "Histogramme\n",
    "---"
   ]
  },
  {
   "cell_type": "markdown",
   "metadata": {},
   "source": [
    "http://matplotlib.org/1.2.1/examples/pylab_examples/histogram_demo.html\n",
    "\n",
    "https://plot.ly/matplotlib/histograms/"
   ]
  },
  {
   "cell_type": "code",
   "execution_count": null,
   "metadata": {
    "collapsed": false
   },
   "outputs": [],
   "source": [
    "#Histogram mittels Funktion  plt.hist()  aus matplotlib\n",
    "\n",
    "#import numpy as np\n",
    "#import matplotlib.pyplot as plt\n",
    "\n",
    "mu, sigma = 100, 15\n",
    "x = mu + sigma*np.random.randn(10000)\n",
    "\n",
    "# the histogram of the data\n",
    "n, bins, patches = plt.hist(x, 50, normed=1, facecolor='green', alpha=0.75)\n",
    "\n",
    "# add a 'best fit' line\n",
    "y = mlab.normpdf( bins, mu, sigma)\n",
    "l = plt.plot(bins, y, 'r--', linewidth=1)\n",
    "\n",
    "plt.xlabel('Smarts')\n",
    "plt.ylabel('Probability')\n",
    "plt.title(r'$\\mathrm{Histogram\\ of\\ IQ:}\\ \\mu=100,\\ \\sigma=15$')\n",
    "plt.axis([40, 160, 0, 0.03])\n",
    "plt.grid(True)\n",
    "\n",
    "plt.show()\n",
    "#=================================================================================\n"
   ]
  },
  {
   "cell_type": "code",
   "execution_count": null,
   "metadata": {
    "collapsed": false
   },
   "outputs": [],
   "source": [
    "# 2. Möglichkeit über np.histogram()  wie in den Bsp oben schon verwendent\n",
    "mu, sigma = 100, 15\n",
    "x = mu + sigma * np.random.randn(10000)\n",
    "hist, bins = np.histogram(x, bins=25)\n",
    "width = 0.7 * (bins[1] - bins[0])\n",
    "center = (bins[:-1] + bins[1:]) / 2\n",
    "plt.bar(center, hist, align='center', width=width)\n",
    "plt.show()"
   ]
  },
  {
   "cell_type": "markdown",
   "metadata": {},
   "source": [
    "Untersuchung von Korrelationskoeffizienten\n",
    "---"
   ]
  },
  {
   "cell_type": "markdown",
   "metadata": {},
   "source": [
    "nach Pearson: https://de.wikipedia.org/wiki/Korrelationskoeffizient  | nach Spearman oder Kendall: https://de.wikipedia.org/wiki/Rangkorrelationskoeffizient  "
   ]
  },
  {
   "cell_type": "markdown",
   "metadata": {},
   "source": [
    "Korrelation nach Pearson"
   ]
  },
  {
   "cell_type": "code",
   "execution_count": 3,
   "metadata": {
    "collapsed": false
   },
   "outputs": [
    {
     "name": "stdout",
     "output_type": "stream",
     "text": [
      "                \n",
      "Normalverteilte Daten erzeugen: \n",
      "x1: [ 1.76405235  0.40015721  0.97873798  2.2408932   1.86755799 -0.97727788\n",
      "  0.95008842 -0.15135721 -0.10321885  0.4105985   0.14404357  1.45427351\n",
      "  0.76103773  0.12167502  0.44386323  0.33367433  1.49407907 -0.20515826\n",
      "  0.3130677  -0.85409574]\n",
      "-----------------\n",
      "x2: [-2.55298982  0.6536186   0.8644362  -0.74216502  2.26975462 -1.45436567\n",
      "  0.04575852 -0.18718385  1.53277921  1.46935877  0.15494743  0.37816252\n",
      " -0.88778575 -1.98079647 -0.34791215  0.15634897  1.23029068  1.20237985\n",
      " -0.38732682 -0.30230275]\n"
     ]
    },
    {
     "data": {
      "image/png": "[encoded data removed]",
      "text/plain": [
       "<matplotlib.figure.Figure at 0x11121e990>"
      ]
     },
     "metadata": {},
     "output_type": "display_data"
    },
    {
     "name": "stdout",
     "output_type": "stream",
     "text": [
      "Korrelationsmatrix (Pearson): \n",
      "                \n",
      "[[ 1.          0.08738675]\n",
      " [ 0.08738675  1.        ]]\n",
      "___________________________________\n",
      "                \n",
      " Pearsons Correlation Coefficient: 0.0873867503581\n"
     ]
    }
   ],
   "source": [
    "# Pearson Correlation Coef\n",
    "#scipy.stats.spearmanr()    # Spearman Correlation Coef\n",
    "print '                '\n",
    "print 'Normalverteilte Daten erzeugen: '\n",
    "np.random.seed(0)\n",
    "x1=np.random.randn(20,1)      # je 20 normalverteilte Zufallszahlen erzeugen für x1 und x2\n",
    "x2=np.random.randn(20,1)\n",
    "\n",
    "print 'x1:', np.ravel(x1)     # np.ravel() macht z.B. aus einem 2x2 array eine 1x4 Liste...\n",
    "print '-----------------'\n",
    "print 'x2:', np.ravel(x2)\n",
    "\n",
    "plt.plot(x1,x2,'bo')         # plotten b=blau   o=großer ausgefüllter Punkt   .= kleiner ausgefüllter Punkt\n",
    "plt.xlim(-3,25)          #Anzeigebereich festlegen\n",
    "plt.ylim(-3,25)\n",
    "plt.show()\n",
    "\n",
    "print 'Korrelationsmatrix (Pearson): '\n",
    "print '                '\n",
    "print np.corrcoef(np.ravel(x1),np.ravel(x2) )   # np.corrcoef() erzeugt eine 2x2 Korrelationsmatrix Element 1,2 ist der gewünschte Korrelationskoeffizient \n",
    "print '___________________________________'\n",
    "print '                '\n",
    "pr =np.corrcoef(np.ravel(x1),np.ravel(x2) )[0,1]   # Python fängt bei 0 an zu zählen \n",
    "print ' Pearsons Correlation Coefficient: {}'.format(pr)\n"
   ]
  },
  {
   "cell_type": "code",
   "execution_count": null,
   "metadata": {
    "collapsed": true
   },
   "outputs": [],
   "source": []
  },
  {
   "cell_type": "markdown",
   "metadata": {},
   "source": [
    "vgl. Korrelation nach Pearson, Spearman und Kendall"
   ]
  },
  {
   "cell_type": "code",
   "execution_count": 4,
   "metadata": {
    "collapsed": false
   },
   "outputs": [
    {
     "name": "stdout",
     "output_type": "stream",
     "text": [
      "                \n",
      "Normalverteilte Daten erzeugen: \n",
      "x1: [ 1.76405235  0.40015721  0.97873798  2.2408932   1.86755799 -0.97727788\n",
      "  0.95008842 -0.15135721 -0.10321885  0.4105985   0.14404357  1.45427351\n",
      "  0.76103773  0.12167502  0.44386323  0.33367433  1.49407907 -0.20515826\n",
      "  0.3130677  -0.85409574]\n",
      "-----------------\n",
      "x2: [-2.55298982  0.6536186   0.8644362  -0.74216502  2.26975462 -1.45436567\n",
      "  0.04575852 -0.18718385  1.53277921  1.46935877  0.15494743  0.37816252\n",
      " -0.88778575 -1.98079647 -0.34791215  0.15634897  1.23029068  1.20237985\n",
      " -0.38732682 -0.30230275]\n"
     ]
    },
    {
     "data": {
      "image/png": "[encoded data removed]",
      "text/plain": [
       "<matplotlib.figure.Figure at 0x1112bc6d0>"
      ]
     },
     "metadata": {},
     "output_type": "display_data"
    },
    {
     "name": "stdout",
     "output_type": "stream",
     "text": [
      "Korrelationsmatrix (Pearson): \n",
      "                \n",
      "[[ 1.          0.08738675]\n",
      " [ 0.08738675  1.        ]]\n",
      "___________________________________\n",
      "                \n",
      " Pearsons Correlation: 0.0873867503581\n",
      "Spearmans Correlation: 0.108270676692\n",
      "  Kendall Correlation: 0.115789473684\n",
      "_____________________________________\n",
      "                \n"
     ]
    }
   ],
   "source": [
    "print '                '\n",
    "print 'Normalverteilte Daten erzeugen: '\n",
    "np.random.seed(0)\n",
    "x1=np.random.randn(20,1)\n",
    "x2=np.random.randn(20,1)\n",
    "\n",
    "print 'x1:', np.ravel(x1)\n",
    "print '-----------------'\n",
    "print 'x2:', np.ravel(x2)\n",
    "\n",
    "plt.plot(x1,x2,'bo')\n",
    "plt.xlim(-3,5)\n",
    "plt.ylim(-3,5)\n",
    "plt.show()\n",
    "print 'Korrelationsmatrix (Pearson): '\n",
    "print '                '\n",
    "print np.corrcoef(np.ravel(x1),np.ravel(x2) )\n",
    "print '___________________________________'\n",
    "print '                '\n",
    "pr =np.corrcoef(np.ravel(x1),np.ravel(x2) )[0,1]\n",
    "print ' Pearsons Correlation: {}'.format(pr)\n",
    "\n",
    "sr,sp = sts.spearmanr(x1,x2)\n",
    "\n",
    "print 'Spearmans Correlation: {}'.format(sr)\n",
    "\n",
    "kr,kp = sts.kendalltau(x1,x2)\n",
    "\n",
    "print '  Kendall Correlation: {}'.format(kr)\n",
    "print '_____________________________________'\n",
    "print '                '"
   ]
  },
  {
   "cell_type": "markdown",
   "metadata": {},
   "source": [
    "Einfügen eines Fehlers (Outliner) in die Datenreihe"
   ]
  },
  {
   "cell_type": "code",
   "execution_count": 5,
   "metadata": {
    "collapsed": false
   },
   "outputs": [
    {
     "name": "stdout",
     "output_type": "stream",
     "text": [
      "                \n",
      "                \n",
      "_____________________________________\n",
      "                \n",
      "Fehlerwert (Outliner) einfügen, x1[10] = 18, x2[10] = 18 : \n",
      "Korrelationsmatrix (Pearson): \n",
      "                \n",
      "[[ 1.          0.93971012]\n",
      " [ 0.93971012  1.        ]]\n",
      "                \n",
      " Pearsons Correlation: 0.939710118783 !!!! 1 falscher Punkt, völlig anderes Ergebnis (0.08738675 vorher)!\n",
      "_____________________________________\n"
     ]
    },
    {
     "data": {
      "image/png": "[encoded data removed]",
      "text/plain": [
       "<matplotlib.figure.Figure at 0x11171c090>"
      ]
     },
     "metadata": {},
     "output_type": "display_data"
    },
    {
     "name": "stdout",
     "output_type": "stream",
     "text": [
      "!!!ABER:                \n",
      "_____________________________________\n",
      "                \n",
      "Spearmans Correlation: 0.233082706767\n",
      "  Kendall Correlation: 0.2\n",
      "                \n",
      "_____________________________________\n"
     ]
    }
   ],
   "source": [
    "print '                '\n",
    "print '                '\n",
    "print '_____________________________________'\n",
    "\n",
    "print '                '\n",
    "print 'Fehlerwert (Outliner) einfügen, x1[10] = 18, x2[10] = 18 : '\n",
    "\n",
    "x1[10]=18\n",
    "x2[10]=18\n",
    "\n",
    "\n",
    "print 'Korrelationsmatrix (Pearson): '\n",
    "print '                '\n",
    "print np.corrcoef(np.ravel(x1),np.ravel(x2) )\n",
    "pr =np.corrcoef(np.ravel(x1),np.ravel(x2) )[0,1]\n",
    "print '                '\n",
    "print ' Pearsons Correlation: {}'.format(pr), '!!!! 1 falscher Punkt, völlig anderes Ergebnis (0.08738675 vorher)!'\n",
    "print '_____________________________________'\n",
    "\n",
    "plt.plot(x1,x2,'bo')\n",
    "plt.xlim(-3,20)\n",
    "plt.ylim(-3,20)\n",
    "plt.show()\n",
    "print '!!!ABER:                '\n",
    "print '_____________________________________'\n",
    "print '                '\n",
    "sr,sp= sts.spearmanr(x1,x2)\n",
    "print 'Spearmans Correlation: {}'.format(sr)\n",
    "kr,kp = sts.kendalltau(x1,x2)\n",
    "print '  Kendall Correlation: {}'.format(kr)\n",
    "print '                '\n",
    "print '_____________________________________'\n",
    "\n"
   ]
  },
  {
   "cell_type": "code",
   "execution_count": null,
   "metadata": {
    "collapsed": true
   },
   "outputs": [],
   "source": []
  },
  {
   "cell_type": "markdown",
   "metadata": {},
   "source": [
    "Jack-Knife Schätzung des Korrelationskoeffizienten und Darstellung in einem Histogramm\n",
    "-------"
   ]
  },
  {
   "cell_type": "markdown",
   "metadata": {},
   "source": [
    "https://de.wikipedia.org/wiki/Jackknife_%28Statistik%29"
   ]
  },
  {
   "cell_type": "code",
   "execution_count": null,
   "metadata": {
    "collapsed": false
   },
   "outputs": [],
   "source": [
    "CorrArr=[]\n",
    "for i in range(0,len(x1)):\n",
    "    xjk=[]\n",
    "    yjk=[]\n",
    "    xjk=np.delete(x1,i)                  # i-ten Punkt löschen und mit dem Rest die Korrelation berechnen\n",
    "    yjk=np.delete(x2,i)\n",
    "    CorrArr.append(np.corrcoef(xjk,yjk)[0,1])\n",
    "    print '...löschen von Punkt', i , '--> r =  ' ,np.corrcoef(xjk,yjk)[0,1]\n",
    "\n",
    "#http://docs.scipy.org/doc/numpy-1.10.1/reference/generated/numpy.where.html\n",
    "\n",
    "print '___________________________'\n",
    "print '   '\n",
    "print 'Index of Outliner: {}'.format(np.where(CorrArr==np.min(CorrArr))[0] )\n",
    "print 'Correlation without Outliner: {}'.format(np.min(CorrArr))\n",
    "print '  '\n",
    "print '  '\n",
    "print 'Histogram of Jack-Knife Coorelation Coefficients'\n",
    "hist, bins = np.histogram(CorrArr, bins=5)\n",
    "width = 0.7 * (bins[1] - bins[0])\n",
    "center = (bins[:-1] + bins[1:]) / 2\n",
    "plt.bar(center, hist, align='center', width=width)\n",
    "plt.show()"
   ]
  },
  {
   "cell_type": "markdown",
   "metadata": {},
   "source": [
    "Bootstrapping Schätzung des Korrelationskoeffizienten und Darstellung in einem Histogramm\n",
    "-------"
   ]
  },
  {
   "cell_type": "markdown",
   "metadata": {},
   "source": [
    "https://de.wikipedia.org/wiki/Bootstrapping_%28Statistik%29"
   ]
  },
  {
   "cell_type": "code",
   "execution_count": null,
   "metadata": {
    "collapsed": false
   },
   "outputs": [],
   "source": [
    "CorrArr2=[]\n",
    "for i in range(0,10000):           # range(0,100)  range(0,1000)   range(0,10000)\n",
    "    \n",
    "    x1bs=[]\n",
    "    x2bs=[]\n",
    "    x1bs =  np.random.choice(np.ravel(x1),20, replace=True)\n",
    "    x2bs =  np.random.choice(np.ravel(x2),20, replace=True)\n",
    "    \n",
    "    CorrArr2.append(np.corrcoef(x1bs,x2bs)[0,1])\n",
    "\n",
    "#print len(CorrArr2) \n",
    "print 'Mean: {}'.format(np.mean(CorrArr2))\n",
    "print 'std: {}'.format(np.std(CorrArr2))\n",
    "\n",
    "print 'Histogram of Bootstrap Estimation of Correlation'\n",
    "hist, bins = np.histogram(CorrArr2, bins=50)\n",
    "width = 0.7 * (bins[1] - bins[0])\n",
    "center = (bins[:-1] + bins[1:]) / 2\n",
    "plt.bar(center, hist, align='center', width=width)\n",
    "plt.show()"
   ]
  },
  {
   "cell_type": "markdown",
   "metadata": {},
   "source": [
    "Bootstrapping - Schätzung für Regressionsanalyses\n",
    "----"
   ]
  },
  {
   "cell_type": "markdown",
   "metadata": {},
   "source": [
    "http://nbviewer.jupyter.org/gist/aflaxman/6871948  | http://people.duke.edu/~ccc14/pcfb/analysis.html"
   ]
  },
  {
   "cell_type": "code",
   "execution_count": 1,
   "metadata": {
    "collapsed": false
   },
   "outputs": [
    {
     "data": {
      "text/latex": [
       "Untersuchung der linearen Funktion\n",
       "\\begin{align}\n",
       "y=6.3 \\cdot x + 15            \n",
       "\\end{align}"
      ],
      "text/plain": [
       "<IPython.core.display.Latex object>"
      ]
     },
     "metadata": {},
     "output_type": "display_data"
    }
   ],
   "source": [
    "%%latex\n",
    "Untersuchung der linearen Funktion\n",
    "\\begin{align}\n",
    "y=6.3 \\cdot x + 15            \n",
    "\\end{align}"
   ]
  },
  {
   "cell_type": "code",
   "execution_count": 2,
   "metadata": {
    "collapsed": false
   },
   "outputs": [
    {
     "data": {
      "text/latex": [
       "Untersuchung der quadratischen Funktion\n",
       "\\begin{align}\n",
       "yq=3 \\cdot x^2 + 4 \\cdot x + 7\n",
       "\\end{align}"
      ],
      "text/plain": [
       "<IPython.core.display.Latex object>"
      ]
     },
     "metadata": {},
     "output_type": "display_data"
    }
   ],
   "source": [
    "%%latex\n",
    "Untersuchung der quadratischen Funktion\n",
    "\\begin{align}\n",
    "yq=3 \\cdot x^2 + 4 \\cdot x + 7\n",
    "\\end{align}\n"
   ]
  },
  {
   "cell_type": "code",
   "execution_count": null,
   "metadata": {
    "collapsed": false
   },
   "outputs": [],
   "source": [
    "import pandas as pd\n",
    "from matplotlib.pyplot import *\n",
    "np.random.seed(0)\n",
    "x=10*np.random.rand(20,1)   # uniform distributed samples zwischen [0,10]\n",
    "\n",
    "y=6.3*x+15\n",
    "\n",
    "yq = 3*x*x + 4*x + 7\n",
    "\n",
    "y=y+5*np.random.randn(20,1)\n",
    "\n",
    "yq=yq+5*np.random.randn(20,1)\n",
    "#print x,y\n",
    "\n",
    "xyData3 = pd.DataFrame(x)                    # PANDAS Dataframe Spalten mit den zufälligen Werten x,y belegen\n",
    "xyData3['1'] = pd.DataFrame(y)\n",
    "#print xyData3\n",
    "x=np.ravel(x)\n",
    "y=np.ravel(y)"
   ]
  },
  {
   "cell_type": "markdown",
   "metadata": {},
   "source": [
    "Schätzung der Funktion durch eine Regressionsanalyse (Polynomial-Fit)\n",
    "---"
   ]
  },
  {
   "cell_type": "code",
   "execution_count": null,
   "metadata": {
    "collapsed": false
   },
   "outputs": [],
   "source": [
    "#http://docs.scipy.org/doc/numpy-1.10.0/reference/generated/numpy.polyfit.html\n",
    "m,b=np.polyfit(x,y,1)\n",
    "\n",
    "coefficients=np.polyfit(x,yq,2)   \n",
    "#print coefficients\n",
    "polynomial = np.poly1d(np.ravel(coefficients))\n",
    "xs = np.arange(0, 10, 0.1)\n",
    "ys = polynomial(xs)\n",
    "\n",
    "#print ' Steigung: {} / y-Schnittpunkt  {}'.format(m,b)\n",
    "#print b0,b1,b2\n",
    "#plotten der verteilungen\n",
    "plt.figure(figsize=(20,10))\n",
    "plt.plot(x,y,'ro', label='Lineare Funktion, geschaetzte Steigung: {} / y-Schnittpunkt  {}'.format(m,b))\n",
    "plt.plot(x,yq,'b.',label='quadratische Funktion, geschaetzte Koeffizienten b2,b1,b0={} '.format(np.ravel(coefficients)))\n",
    "# plotten der Regressionsgeraden darüber\n",
    "plt.plot(x,m*x+b,'b')\n",
    "\n",
    "plt.legend()\n",
    "plt.plot(xs,ys,'g')\n",
    "plt.show()\n"
   ]
  },
  {
   "cell_type": "markdown",
   "metadata": {},
   "source": [
    "Bootstrapping\n",
    "---"
   ]
  },
  {
   "cell_type": "code",
   "execution_count": null,
   "metadata": {
    "collapsed": false
   },
   "outputs": [],
   "source": [
    "\n",
    "marr=[]\n",
    "barr=[]\n",
    "\n",
    "#zufällige Ziehung von Daten kann unterschiedlich erreicht werden... am besten mal ausprobieren\n",
    "# xbs=np.random.choice(np.ravel(x),20, replace=True)\n",
    "# ybs=np.random.choice(np.ravel(y),20, replace=True)      # Über np.random()\n",
    "\n",
    "# data1 = xyData3.sample(20,replace=True)                 # Über pd.sample()  PANDAS Dataframe \n",
    "\n",
    "for i in range(0,1000):\n",
    "    data1=[]\n",
    "    xbs=[]\n",
    "    ybs=[]\n",
    "    data1 = xyData3.sample(20,replace=True)    #ziehen von 20 Werte-Paaren aus dem Pandas Datenrahmen \n",
    "    xbs=np.ravel(data1[0])\n",
    "    ybs=np.ravel(data1[1])\n",
    "    mbs=0\n",
    "    bbs=0\n",
    "    #punktpaar müssen zusammen gezogen werden, nicht x,y Zuordnung mixen \n",
    "    mbs,bbs = np.polyfit(xbs,ybs,1)\n",
    "    marr.append(mbs)\n",
    "    barr.append(bbs)\n",
    "print ' Mean: Steigung: {} /Mean: y-Schnittpunkt  {}'.format(np.mean(marr),np.mean(barr))\n",
    "print ' Std: Steigung   {} /Std:  y-Schnittpunkt  {}'.format(np.std(marr),np.std(barr))\n",
    "print '      '\n",
    "print ' Wahre Werte: y=6.3*x+15 (siehe oben)'\n",
    "\n",
    "#schleife über i...1000 durchläufe\n",
    "    # random.choice()  mit zurücklegen über die Daten x,y\n",
    "    # m[i],b[i] = np.polyfit(xbs,ybs,1)\n",
    "    #\n",
    "#mean m,b berechnen \n",
    "#var m,b berechnen\n",
    "#histogramm m\n",
    "#histogramm b\n",
    "\n",
    "plt.plot(x,y,'ro')\n",
    "plt.plot(x,m*x+b,'b')\n",
    "plt.plot(x,np.mean(marr)*x + np.mean(barr),'g')\n",
    "plt.plot(x,np.mean(marr)*x + np.mean(barr)+ 2*np.std(barr),'b--')\n",
    "plt.plot(x,np.mean(marr)*x + np.mean(barr)- 2*np.std(barr),'b--')\n",
    "#plotten der verteilungen\n",
    "\n",
    "# plotten der Regressionsgeraden darüber\n",
    "plt.show()\n"
   ]
  },
  {
   "cell_type": "code",
   "execution_count": null,
   "metadata": {
    "collapsed": false
   },
   "outputs": [],
   "source": [
    "print 'Histogram Bootstrap Steigungs-Paramter'\n",
    "hist, bins = np.histogram(marr, bins=15)\n",
    "width = 0.7 * (bins[1] - bins[0])\n",
    "center = (bins[:-1] + bins[1:]) / 2\n",
    "plt.bar(center, hist, align='center', width=width)\n",
    "plt.show()\n",
    "\n",
    "print ' Mean(Steigung) :  {} '.format(np.mean(marr))\n",
    "print '  Std(Steigung) : ±{} '.format(np.std(marr))\n",
    "print '      '\n",
    "print ' Wahre Werte: m = 6.3'\n"
   ]
  },
  {
   "cell_type": "code",
   "execution_count": null,
   "metadata": {
    "collapsed": false
   },
   "outputs": [],
   "source": [
    "print 'Histogram Bootstrap y-Schnittpunkt'\n",
    "hist, bins = np.histogram(barr, bins=15)\n",
    "width = 0.7 * (bins[1] - bins[0])\n",
    "center = (bins[:-1] + bins[1:]) / 2\n",
    "plt.bar(center, hist, align='center', width=width)\n",
    "plt.show()\n",
    "\n",
    "print ' Mean(y-Schnitt) :  {} '.format(np.mean(barr))\n",
    "print '  Std(y-Schnitt) : ±{} '.format(np.std(barr))\n",
    "print '      '\n",
    "print ' Wahre Werte: n = 15'\n"
   ]
  },
  {
   "cell_type": "code",
   "execution_count": null,
   "metadata": {
    "collapsed": true
   },
   "outputs": [],
   "source": []
  }
 ],
 "metadata": {
  "kernelspec": {
   "display_name": "Python 3",
   "language": "python",
   "name": "python3"
  },
  "language_info": {
   "codemirror_mode": {
    "name": "ipython",
    "version": 3
   },
   "file_extension": ".py",
   "mimetype": "text/x-python",
   "name": "python",
   "nbconvert_exporter": "python",
   "pygments_lexer": "ipython3",
   "version": "3.6.1"
  }
 },
 "nbformat": 4,
 "nbformat_minor": 2
}
