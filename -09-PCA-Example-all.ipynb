{
 "cells": [
  {
   "cell_type": "code",
   "execution_count": 1,
   "metadata": {
    "collapsed": true
   },
   "outputs": [],
   "source": [
    "import numpy as np\n",
    "import numpy.linalg as lina\n",
    "import pandas as pd\n",
    "import matplotlib.pyplot as plt\n",
    "%matplotlib inline\n",
    "from sklearn.decomposition import PCA"
   ]
  },
  {
   "cell_type": "code",
   "execution_count": 2,
   "metadata": {
    "collapsed": true
   },
   "outputs": [],
   "source": [
    "data=pd.read_csv('sediments_1.txt',header=None, delim_whitespace=True)"
   ]
  },
  {
   "cell_type": "markdown",
   "metadata": {},
   "source": [
    "# Test mit 2D Daten"
   ]
  },
  {
   "cell_type": "code",
   "execution_count": 3,
   "metadata": {
    "collapsed": true
   },
   "outputs": [],
   "source": [
    "data2=pd.read_csv('agedepth_1.txt',header=None, delim_whitespace=True)"
   ]
  },
  {
   "cell_type": "code",
   "execution_count": 4,
   "metadata": {
    "collapsed": false
   },
   "outputs": [
    {
     "name": "stdout",
     "output_type": "stream",
     "text": [
      "            0           1\n",
      "0    0.574964   -3.387358\n",
      "1    1.190081    2.607426\n",
      "2    1.779235    0.007664\n",
      "3    2.266800   19.777412\n",
      "4    3.228975   19.460857\n",
      "5    4.017528   47.864249\n",
      "6    5.426164   15.663317\n",
      "7    5.461763   28.686956\n",
      "8    6.579106   48.130676\n",
      "9    7.133111   40.977152\n",
      "10   8.181446   58.764541\n",
      "11   8.688811   40.716317\n",
      "12   9.480829   59.144081\n",
      "13   9.563888   75.251810\n",
      "14   9.966092   59.726624\n",
      "15  10.737034   70.804379\n",
      "16  11.249168   44.681634\n",
      "17  11.910960   74.737244\n",
      "18  11.924943   63.437347\n",
      "19  11.943416   74.103329\n",
      "20  12.332423   67.087385\n",
      "21  12.524693   73.214110\n",
      "22  13.400077   76.690174\n",
      "23  15.091028   68.961248\n",
      "24  15.822464   70.582863\n",
      "25  16.299041   88.108010\n",
      "26  16.589485   77.996858\n",
      "27  17.965035  110.094160\n",
      "28  18.179787  119.461610\n",
      "29  19.122448  120.673230\n"
     ]
    },
    {
     "data": {
      "image/png": "[encoded data removed]",
      "text/plain": [
       "<matplotlib.figure.Figure at 0x10fb20310>"
      ]
     },
     "metadata": {},
     "output_type": "display_data"
    },
    {
     "name": "stdout",
     "output_type": "stream",
     "text": [
      "-------------------------------\n",
      "\n",
      "\n",
      "Means of data columns \n",
      " 0     9.954360\n",
      "1    57.134177\n",
      "dtype: float64\n",
      "-------------------------------\n",
      "\n",
      "\n"
     ]
    }
   ],
   "source": [
    "print data2\n",
    "plt.plot(data2[0],data2[1], '.r')\n",
    "plt.show()\n",
    "\n",
    "print '-------------------------------\\n\\n'\n",
    "print 'Means of data columns \\n {}'.format(np.mean(data2,axis=0))\n",
    "print '-------------------------------\\n\\n'"
   ]
  },
  {
   "cell_type": "code",
   "execution_count": 5,
   "metadata": {
    "collapsed": true
   },
   "outputs": [],
   "source": [
    "Cendata=data2 - np.mean(data2,axis=0 )"
   ]
  },
  {
   "cell_type": "code",
   "execution_count": 6,
   "metadata": {
    "collapsed": false
   },
   "outputs": [
    {
     "name": "stdout",
     "output_type": "stream",
     "text": [
      "           0          1\n",
      "0  -9.379396 -60.521535\n",
      "1  -8.764279 -54.526751\n",
      "2  -8.175125 -57.126513\n",
      "3  -7.687560 -37.356765\n",
      "4  -6.725385 -37.673320\n",
      "5  -5.936832  -9.269928\n",
      "6  -4.528196 -41.470860\n",
      "7  -4.492597 -28.447221\n",
      "8  -3.375254  -9.003501\n",
      "9  -2.821249 -16.157025\n",
      "10 -1.772914   1.630364\n",
      "11 -1.265549 -16.417860\n",
      "12 -0.473531   2.009904\n",
      "13 -0.390471  18.117633\n",
      "14  0.011732   2.592447\n",
      "15  0.782674  13.670202\n",
      "16  1.294808 -12.452543\n",
      "17  1.956600  17.603067\n",
      "18  1.970583   6.303170\n",
      "19  1.989056  16.969152\n",
      "20  2.378063   9.953208\n",
      "21  2.570333  16.079933\n",
      "22  3.445717  19.555997\n",
      "23  5.136668  11.827071\n",
      "24  5.868104  13.448686\n",
      "25  6.344681  30.973833\n",
      "26  6.635125  20.862681\n",
      "27  8.010675  52.959983\n",
      "28  8.225427  62.327433\n",
      "29  9.168088  63.539053\n"
     ]
    }
   ],
   "source": [
    "print Cendata"
   ]
  },
  {
   "cell_type": "code",
   "execution_count": 7,
   "metadata": {
    "collapsed": false
   },
   "outputs": [
    {
     "data": {
      "image/png": "[encoded data removed]",
      "text/plain": [
       "<matplotlib.figure.Figure at 0x10fb08e10>"
      ]
     },
     "metadata": {},
     "output_type": "display_data"
    }
   ],
   "source": [
    "plt.plot(Cendata[0],Cendata[1], '.r')\n",
    "plt.show()\n"
   ]
  },
  {
   "cell_type": "code",
   "execution_count": 8,
   "metadata": {
    "collapsed": false
   },
   "outputs": [
    {
     "name": "stdout",
     "output_type": "stream",
     "text": [
      "SingularValues \n",
      " [ 176.56663077   10.19169501]\n",
      "-------------------------------\n",
      "\n",
      "\n",
      "EigenValues \n",
      " [ 31175.77510104    103.87064713]\n",
      "-------------------------------\n",
      "\n",
      "\n",
      "Right Eigenvectors: \n",
      " [[ 0.1534407  -0.98815786]\n",
      " [ 0.98815786  0.1534407 ]]\n",
      "-------------------------------\n",
      "\n",
      "\n"
     ]
    }
   ],
   "source": [
    "U1,s1,V1 = lina.svd(Cendata)\n",
    "\n",
    "print 'SingularValues \\n {}'.format(s1)\n",
    "print '-------------------------------\\n\\n'\n",
    "\n",
    "print 'EigenValues \\n {}'.format(s1**2)\n",
    "print '-------------------------------\\n\\n'\n",
    "\n",
    "#print V1\n",
    "print 'Right Eigenvectors: \\n {}'.format(V1.T)\n",
    "print '-------------------------------\\n\\n'\n",
    "# new observations\n"
   ]
  },
  {
   "cell_type": "code",
   "execution_count": 9,
   "metadata": {
    "collapsed": false
   },
   "outputs": [
    {
     "name": "stdout",
     "output_type": "stream",
     "text": [
      "[[ 0.1534407   0.98815786]\n",
      " [-0.98815786  0.1534407 ]]\n",
      " \n",
      "[[ 0.02354405 -0.97645595]\n",
      " [-0.97645595  0.02354405]]\n",
      " \n",
      "(30, 2)\n"
     ]
    },
    {
     "data": {
      "image/png": "[encoded data removed]",
      "text/plain": [
       "<matplotlib.figure.Figure at 0x103631e50>"
      ]
     },
     "metadata": {},
     "output_type": "display_data"
    }
   ],
   "source": [
    "print V1\n",
    "B=V1.T*V1\n",
    "print \" \"\n",
    "print B\n",
    "print\" \"\n",
    "newData=np.dot(Cendata,V1.T)\n",
    "\n",
    "print newData.shape\n",
    "plt.plot(newData[:,0],newData[:,1], '.b')\n",
    "plt.show()"
   ]
  },
  {
   "cell_type": "code",
   "execution_count": 10,
   "metadata": {
    "collapsed": false
   },
   "outputs": [],
   "source": [
    "from skimage import io as skio"
   ]
  },
  {
   "cell_type": "code",
   "execution_count": 11,
   "metadata": {
    "collapsed": false
   },
   "outputs": [],
   "source": [
    "red=skio.imread(\"_Tif/po_221141_red_sub.tif\")\n",
    "red10x10=red[400:410,50:60]\n",
    "ired=skio.imread(\"_Tif/po_221141_nir_sub.tif\")\n",
    "ired10x10=ired[400:410,50:60]"
   ]
  },
  {
   "cell_type": "code",
   "execution_count": 12,
   "metadata": {
    "collapsed": false
   },
   "outputs": [
    {
     "data": {
      "image/png": "[encoded data removed]",
      "text/plain": [
       "<matplotlib.figure.Figure at 0x112254210>"
      ]
     },
     "metadata": {},
     "output_type": "display_data"
    },
    {
     "data": {
      "image/png": "[encoded data removed]",
      "text/plain": [
       "<matplotlib.figure.Figure at 0x1125aa250>"
      ]
     },
     "metadata": {},
     "output_type": "display_data"
    }
   ],
   "source": [
    "plt.imshow(red10x10,interpolation='none')\n",
    "plt.show()\n",
    "plt.imshow(ired10x10,interpolation='none')\n",
    "plt.show()"
   ]
  },
  {
   "cell_type": "code",
   "execution_count": 13,
   "metadata": {
    "collapsed": false
   },
   "outputs": [
    {
     "name": "stdout",
     "output_type": "stream",
     "text": [
      "[[580 559 594 619 615 626 652 694 695 653]\n",
      " [568 595 600 593 608 597 597 635 672 659]\n",
      " [606 601 601 611 588 566 567 576 620 653]\n",
      " [602 603 598 587 569 557 562 583 598 635]\n",
      " [583 587 576 560 549 539 564 586 587 601]\n",
      " [583 569 557 544 536 553 572 574 579 595]\n",
      " [583 553 546 547 547 558 573 577 574 601]\n",
      " [582 551 545 553 556 560 573 580 576 586]\n",
      " [590 568 556 553 566 578 583 583 573 583]\n",
      " [596 579 572 565 569 574 569 570 574 576]] \n",
      "\n",
      "[[836 792 753 728 718 737 769 794 799 777]\n",
      " [789 726 728 725 721 707 684 717 766 758]\n",
      " [717 719 717 719 696 667 668 696 736 757]\n",
      " [716 726 706 672 662 663 672 688 703 735]\n",
      " [701 694 681 664 646 657 672 683 693 709]\n",
      " [681 671 672 660 648 651 669 685 695 707]\n",
      " [685 667 665 663 658 660 672 695 699 703]\n",
      " [688 663 650 657 664 667 675 686 697 702]\n",
      " [696 672 657 663 671 677 686 683 678 687]\n",
      " [691 678 671 669 665 665 672 681 687 685]]\n"
     ]
    }
   ],
   "source": [
    "print red10x10, \"\\n\"\n",
    "print ired10x10"
   ]
  },
  {
   "cell_type": "code",
   "execution_count": null,
   "metadata": {
    "collapsed": true
   },
   "outputs": [],
   "source": []
  },
  {
   "cell_type": "code",
   "execution_count": 14,
   "metadata": {
    "collapsed": false
   },
   "outputs": [
    {
     "name": "stdout",
     "output_type": "stream",
     "text": [
      "[[ 580.  836.]\n",
      " [ 559.  792.]\n",
      " [ 594.  753.]\n",
      " [ 619.  728.]\n",
      " [ 615.  718.]\n",
      " [ 626.  737.]\n",
      " [ 652.  769.]\n",
      " [ 694.  794.]\n",
      " [ 695.  799.]\n",
      " [ 653.  777.]\n",
      " [ 568.  789.]\n",
      " [ 595.  726.]\n",
      " [ 600.  728.]\n",
      " [ 593.  725.]\n",
      " [ 608.  721.]\n",
      " [ 597.  707.]\n",
      " [ 597.  684.]\n",
      " [ 635.  717.]\n",
      " [ 672.  766.]\n",
      " [ 659.  758.]\n",
      " [ 606.  717.]\n",
      " [ 601.  719.]\n",
      " [ 601.  717.]\n",
      " [ 611.  719.]\n",
      " [ 588.  696.]\n",
      " [ 566.  667.]\n",
      " [ 567.  668.]\n",
      " [ 576.  696.]\n",
      " [ 620.  736.]\n",
      " [ 653.  757.]\n",
      " [ 602.  716.]\n",
      " [ 603.  726.]\n",
      " [ 598.  706.]\n",
      " [ 587.  672.]\n",
      " [ 569.  662.]\n",
      " [ 557.  663.]\n",
      " [ 562.  672.]\n",
      " [ 583.  688.]\n",
      " [ 598.  703.]\n",
      " [ 635.  735.]\n",
      " [ 583.  701.]\n",
      " [ 587.  694.]\n",
      " [ 576.  681.]\n",
      " [ 560.  664.]\n",
      " [ 549.  646.]\n",
      " [ 539.  657.]\n",
      " [ 564.  672.]\n",
      " [ 586.  683.]\n",
      " [ 587.  693.]\n",
      " [ 601.  709.]\n",
      " [ 583.  681.]\n",
      " [ 569.  671.]\n",
      " [ 557.  672.]\n",
      " [ 544.  660.]\n",
      " [ 536.  648.]\n",
      " [ 553.  651.]\n",
      " [ 572.  669.]\n",
      " [ 574.  685.]\n",
      " [ 579.  695.]\n",
      " [ 595.  707.]\n",
      " [ 583.  685.]\n",
      " [ 553.  667.]\n",
      " [ 546.  665.]\n",
      " [ 547.  663.]\n",
      " [ 547.  658.]\n",
      " [ 558.  660.]\n",
      " [ 573.  672.]\n",
      " [ 577.  695.]\n",
      " [ 574.  699.]\n",
      " [ 601.  703.]\n",
      " [ 582.  688.]\n",
      " [ 551.  663.]\n",
      " [ 545.  650.]\n",
      " [ 553.  657.]\n",
      " [ 556.  664.]\n",
      " [ 560.  667.]\n",
      " [ 573.  675.]\n",
      " [ 580.  686.]\n",
      " [ 576.  697.]\n",
      " [ 586.  702.]\n",
      " [ 590.  696.]\n",
      " [ 568.  672.]\n",
      " [ 556.  657.]\n",
      " [ 553.  663.]\n",
      " [ 566.  671.]\n",
      " [ 578.  677.]\n",
      " [ 583.  686.]\n",
      " [ 583.  683.]\n",
      " [ 573.  678.]\n",
      " [ 583.  687.]\n",
      " [ 596.  691.]\n",
      " [ 579.  678.]\n",
      " [ 572.  671.]\n",
      " [ 565.  669.]\n",
      " [ 569.  665.]\n",
      " [ 574.  665.]\n",
      " [ 569.  672.]\n",
      " [ 570.  681.]\n",
      " [ 574.  687.]\n",
      " [ 576.  685.]]\n"
     ]
    }
   ],
   "source": [
    "Data=np.zeros([100,2])\n",
    "\n",
    "Data[:,0]=red10x10.reshape(100,1).ravel()\n",
    "Data[:,1]=ired10x10.reshape(100,1).ravel()\n",
    "print Data\n"
   ]
  },
  {
   "cell_type": "code",
   "execution_count": 19,
   "metadata": {
    "collapsed": false
   },
   "outputs": [
    {
     "data": {
      "text/plain": [
       "array([[ 1.       ,  0.7620819],\n",
       "       [ 0.7620819,  1.       ]])"
      ]
     },
     "execution_count": 19,
     "metadata": {},
     "output_type": "execute_result"
    }
   ],
   "source": [
    "np.corrcoef(Data[:,0],Data[:,1])"
   ]
  },
  {
   "cell_type": "code",
   "execution_count": 28,
   "metadata": {
    "collapsed": false
   },
   "outputs": [
    {
     "name": "stdout",
     "output_type": "stream",
     "text": [
      "[[  970.94989899   897.69414141]\n",
      " [  897.69414141  1429.08040404]]\n",
      "970.94989899\n",
      "1429.08040404\n",
      "Sum of Variances: 2400.03030303\n"
     ]
    }
   ],
   "source": [
    "COV=np.cov(Data[:,0],Data[:,1])\n",
    "print COV\n",
    "print COV[0,0]\n",
    "print COV[1,1]\n",
    "print \"Sum of Variances: {}\".format(COV[0,0]+COV[1,1])"
   ]
  },
  {
   "cell_type": "code",
   "execution_count": 16,
   "metadata": {
    "collapsed": false
   },
   "outputs": [
    {
     "data": {
      "image/png": "[encoded data removed]",
      "text/plain": [
       "<matplotlib.figure.Figure at 0x1127a2750>"
      ]
     },
     "metadata": {},
     "output_type": "display_data"
    }
   ],
   "source": [
    "plt.plot(Data[:,0],Data[:,1],\".r\")\n",
    "plt.show()"
   ]
  },
  {
   "cell_type": "code",
   "execution_count": 17,
   "metadata": {
    "collapsed": false
   },
   "outputs": [
    {
     "name": "stdout",
     "output_type": "stream",
     "text": [
      "-------------------------------\n",
      "\n",
      "Means of data columns \n",
      " [ 584.86  696.48]\n",
      "-------------------------------\n",
      "\n"
     ]
    }
   ],
   "source": [
    "print '-------------------------------\\n'\n",
    "print 'Means of data columns \\n {}'.format(np.mean(Data,axis=0))\n",
    "print '-------------------------------\\n'"
   ]
  },
  {
   "cell_type": "code",
   "execution_count": 18,
   "metadata": {
    "collapsed": false
   },
   "outputs": [
    {
     "name": "stdout",
     "output_type": "stream",
     "text": [
      "[[  -4.86  139.52]\n",
      " [ -25.86   95.52]\n",
      " [   9.14   56.52]\n",
      " [  34.14   31.52]\n",
      " [  30.14   21.52]\n",
      " [  41.14   40.52]\n",
      " [  67.14   72.52]\n",
      " [ 109.14   97.52]\n",
      " [ 110.14  102.52]\n",
      " [  68.14   80.52]\n",
      " [ -16.86   92.52]\n",
      " [  10.14   29.52]\n",
      " [  15.14   31.52]\n",
      " [   8.14   28.52]\n",
      " [  23.14   24.52]\n",
      " [  12.14   10.52]\n",
      " [  12.14  -12.48]\n",
      " [  50.14   20.52]\n",
      " [  87.14   69.52]\n",
      " [  74.14   61.52]\n",
      " [  21.14   20.52]\n",
      " [  16.14   22.52]\n",
      " [  16.14   20.52]\n",
      " [  26.14   22.52]\n",
      " [   3.14   -0.48]\n",
      " [ -18.86  -29.48]\n",
      " [ -17.86  -28.48]\n",
      " [  -8.86   -0.48]\n",
      " [  35.14   39.52]\n",
      " [  68.14   60.52]\n",
      " [  17.14   19.52]\n",
      " [  18.14   29.52]\n",
      " [  13.14    9.52]\n",
      " [   2.14  -24.48]\n",
      " [ -15.86  -34.48]\n",
      " [ -27.86  -33.48]\n",
      " [ -22.86  -24.48]\n",
      " [  -1.86   -8.48]\n",
      " [  13.14    6.52]\n",
      " [  50.14   38.52]\n",
      " [  -1.86    4.52]\n",
      " [   2.14   -2.48]\n",
      " [  -8.86  -15.48]\n",
      " [ -24.86  -32.48]\n",
      " [ -35.86  -50.48]\n",
      " [ -45.86  -39.48]\n",
      " [ -20.86  -24.48]\n",
      " [   1.14  -13.48]\n",
      " [   2.14   -3.48]\n",
      " [  16.14   12.52]\n",
      " [  -1.86  -15.48]\n",
      " [ -15.86  -25.48]\n",
      " [ -27.86  -24.48]\n",
      " [ -40.86  -36.48]\n",
      " [ -48.86  -48.48]\n",
      " [ -31.86  -45.48]\n",
      " [ -12.86  -27.48]\n",
      " [ -10.86  -11.48]\n",
      " [  -5.86   -1.48]\n",
      " [  10.14   10.52]\n",
      " [  -1.86  -11.48]\n",
      " [ -31.86  -29.48]\n",
      " [ -38.86  -31.48]\n",
      " [ -37.86  -33.48]\n",
      " [ -37.86  -38.48]\n",
      " [ -26.86  -36.48]\n",
      " [ -11.86  -24.48]\n",
      " [  -7.86   -1.48]\n",
      " [ -10.86    2.52]\n",
      " [  16.14    6.52]\n",
      " [  -2.86   -8.48]\n",
      " [ -33.86  -33.48]\n",
      " [ -39.86  -46.48]\n",
      " [ -31.86  -39.48]\n",
      " [ -28.86  -32.48]\n",
      " [ -24.86  -29.48]\n",
      " [ -11.86  -21.48]\n",
      " [  -4.86  -10.48]\n",
      " [  -8.86    0.52]\n",
      " [   1.14    5.52]\n",
      " [   5.14   -0.48]\n",
      " [ -16.86  -24.48]\n",
      " [ -28.86  -39.48]\n",
      " [ -31.86  -33.48]\n",
      " [ -18.86  -25.48]\n",
      " [  -6.86  -19.48]\n",
      " [  -1.86  -10.48]\n",
      " [  -1.86  -13.48]\n",
      " [ -11.86  -18.48]\n",
      " [  -1.86   -9.48]\n",
      " [  11.14   -5.48]\n",
      " [  -5.86  -18.48]\n",
      " [ -12.86  -25.48]\n",
      " [ -19.86  -27.48]\n",
      " [ -15.86  -31.48]\n",
      " [ -10.86  -31.48]\n",
      " [ -15.86  -24.48]\n",
      " [ -14.86  -15.48]\n",
      " [ -10.86   -9.48]\n",
      " [  -8.86  -11.48]]\n"
     ]
    }
   ],
   "source": [
    "CenterData=Data - np.mean(Data,axis=0 )\n",
    "print CenterData"
   ]
  },
  {
   "cell_type": "code",
   "execution_count": 76,
   "metadata": {
    "collapsed": false
   },
   "outputs": [
    {
     "data": {
      "text/plain": [
       "array([[ 1.       ,  0.7620819],\n",
       "       [ 0.7620819,  1.       ]])"
      ]
     },
     "execution_count": 76,
     "metadata": {},
     "output_type": "execute_result"
    }
   ],
   "source": [
    "np.corrcoef(CenterData[:,0],CenterData[:,1])"
   ]
  },
  {
   "cell_type": "code",
   "execution_count": 68,
   "metadata": {
    "collapsed": false
   },
   "outputs": [
    {
     "data": {
      "image/png": "[encoded data removed]",
      "text/plain": [
       "<matplotlib.figure.Figure at 0x1140e5e10>"
      ]
     },
     "metadata": {},
     "output_type": "display_data"
    }
   ],
   "source": [
    "plt.plot(CenterData[:,0],CenterData[:,1], '.r')\n",
    "plt.show()"
   ]
  },
  {
   "cell_type": "code",
   "execution_count": 40,
   "metadata": {
    "collapsed": false
   },
   "outputs": [
    {
     "name": "stdout",
     "output_type": "stream",
     "text": [
      "SingularValues \n",
      " [ 458.82557472  164.5663756 ]\n",
      "-------------------------------\n",
      "\n",
      "\n",
      "EigenValues \n",
      " [ 210520.90802148   27082.09197852]\n",
      "-------------------------------\n",
      "\n",
      "\n",
      "Right Eigenvectors: \n",
      " [[ 0.61349482  0.78969875]\n",
      " [ 0.78969875 -0.61349482]]\n",
      "-------------------------------\n",
      "\n",
      "\n"
     ]
    }
   ],
   "source": [
    "U1,s1,V1 = lina.svd(CenterData)\n",
    "\n",
    "print 'SingularValues \\n {}'.format(s1)\n",
    "print '-------------------------------\\n\\n'\n",
    "\n",
    "print 'EigenValues \\n {}'.format(s1**2)\n",
    "print '-------------------------------\\n\\n'\n",
    "\n",
    "#print V1\n",
    "print 'Right Eigenvectors: \\n {}'.format(V1)\n",
    "print '-------------------------------\\n\\n'\n",
    "# new observations"
   ]
  },
  {
   "cell_type": "code",
   "execution_count": 41,
   "metadata": {
    "collapsed": false
   },
   "outputs": [
    {
     "name": "stdout",
     "output_type": "stream",
     "text": [
      "(100, 2)\n"
     ]
    },
    {
     "data": {
      "image/png": "[encoded data removed]",
      "text/plain": [
       "<matplotlib.figure.Figure at 0x11271fd90>"
      ]
     },
     "metadata": {},
     "output_type": "display_data"
    }
   ],
   "source": [
    "newData=np.dot(CenterData,V1)\n",
    "\n",
    "print newData.shape\n",
    "plt.plot(newData[:,0],newData[:,1], '.b')\n",
    "plt.show()"
   ]
  },
  {
   "cell_type": "code",
   "execution_count": 53,
   "metadata": {
    "collapsed": false
   },
   "outputs": [
    {
     "name": "stdout",
     "output_type": "stream",
     "text": [
      "[[  1.00000000e+00   1.56586676e-16]\n",
      " [  1.56586676e-16   1.00000000e+00]] \n",
      "\n",
      "[[  2.12647382e+03   1.19428597e-13]\n",
      " [  1.19428597e-13   2.73556485e+02]] \n",
      "\n",
      "Variance of PC1:  2126.4738184\n",
      "Variance of PC2:  273.556484632\n",
      "Sum of Variances: 2400.03030303 !(compare to Value above before PCA: 2400.03030303 )\n",
      "\n",
      "PC1 explains 88.60% of the variance\n",
      "PC2 explains 11.40% of the variance\n",
      "\n",
      "newData: \n",
      "[[  1.07197184e+02  -8.94327329e+01]\n",
      " [  5.95670481e+01  -7.90226346e+01]\n",
      " [  5.02411157e+01  -2.74568806e+01]\n",
      " [  4.58360175e+01   7.62295849e+00]\n",
      " [  3.54850508e+01   1.05991117e+01]\n",
      " [  5.72377700e+01   7.62939634e+00]\n",
      " [  9.84589951e+01   8.52972952e+00]\n",
      " [  1.43968246e+02   2.63597064e+01]\n",
      " [  1.48530235e+02   2.40819310e+01]\n",
      " [  1.05390080e+02   4.41146972e+00]\n",
      " [  6.27194053e+01  -7.00748614e+01]\n",
      " [  2.95327444e+01  -1.01028218e+01]\n",
      " [  3.41796160e+01  -7.38131767e+00]\n",
      " [  2.75160560e+01  -1.10687244e+01]\n",
      " [  3.35596833e+01   3.23073602e+00]\n",
      " [  1.57554579e+01   3.13297728e+00]\n",
      " [ -2.40761324e+00   1.72433581e+01]\n",
      " [  4.69652484e+01   2.70065814e+01]\n",
      " [  1.08359795e+02   2.61641889e+01]\n",
      " [  9.40667726e+01   2.08060637e+01]\n",
      " [  2.91738987e+01   4.10531780e+00]\n",
      " [  2.76858221e+01  -1.07016556e+00]\n",
      " [  2.61064246e+01   1.56824075e-01]\n",
      " [  3.38207703e+01   6.82682189e+00]\n",
      " [  1.54731833e+00   2.77413157e+00]\n",
      " [ -3.48508313e+01   3.19210891e+00]\n",
      " [ -3.34476377e+01   3.36831284e+00]\n",
      " [ -5.81461949e+00  -6.70225337e+00]\n",
      " [  5.27671023e+01   3.50469868e+00]\n",
      " [  8.95961050e+01   1.66813661e+01]\n",
      " [  2.59302207e+01   1.56001764e+00]\n",
      " [  3.44407030e+01  -3.78523180e+00]\n",
      " [  1.55792540e+01   4.53617084e+00]\n",
      " [ -1.80189464e+01   1.67083085e+01]\n",
      " [ -3.69588405e+01   8.62867924e+00]\n",
      " [ -4.35310796e+01  -1.46120052e+00]\n",
      " [ -3.33563168e+01  -3.03416016e+00]\n",
      " [ -7.83774572e+00   3.73359639e+00]\n",
      " [  1.32101577e+01   6.37665530e+00]\n",
      " [  6.11798258e+01   1.59636747e+01]\n",
      " [  2.42833797e+00  -4.24183624e+00]\n",
      " [ -6.45573977e-01   3.21142246e+00]\n",
      " [ -1.76601007e+01   2.50016891e+00]\n",
      " [ -4.09008964e+01   2.94400895e-01]\n",
      " [ -6.18639168e+01   2.65062143e+00]\n",
      " [ -5.93121788e+01  -1.19948090e+01]\n",
      " [ -3.21293272e+01  -1.45476267e+00]\n",
      " [ -9.94575499e+00   9.17016672e+00]\n",
      " [ -1.43527272e+00   3.82491728e+00]\n",
      " [  1.97888347e+01   5.06478262e+00]\n",
      " [ -1.33656369e+01   8.02806012e+00]\n",
      " [ -2.98515518e+01   3.10722587e+00]\n",
      " [ -3.64237909e+01  -6.98265389e+00]\n",
      " [ -5.38756085e+01  -9.88679975e+00]\n",
      " [ -6.82599520e+01  -8.84245189e+00]\n",
      " [ -5.54614438e+01   2.74194232e+00]\n",
      " [ -2.95904649e+01   6.70331174e+00]\n",
      " [ -1.57282953e+01  -1.53320786e+00]\n",
      " [ -4.76383378e+00  -3.71966232e+00]\n",
      " [  1.45284683e+01   1.55357979e+00]\n",
      " [ -1.02068420e+01   5.57408085e+00]\n",
      " [ -4.28262639e+01  -7.07397478e+00]\n",
      " [ -4.87001251e+01  -1.13748764e+01]\n",
      " [ -4.96660278e+01  -9.35818797e+00]\n",
      " [ -5.36145215e+01  -6.29071388e+00]\n",
      " [ -4.52866810e+01   1.16898268e+00]\n",
      " [ -2.66078738e+01   5.65252603e+00]\n",
      " [ -5.99082341e+00  -5.29905981e+00]\n",
      " [ -4.67251289e+00  -1.01221353e+01]\n",
      " [  1.50506422e+01   8.74575153e+00]\n",
      " [ -8.45124054e+00   2.94389765e+00]\n",
      " [ -4.72120485e+01  -6.19939299e+00]\n",
      " [ -6.11591011e+01  -2.96215283e+00]\n",
      " [ -5.07232514e+01  -9.39026593e-01]\n",
      " [ -4.33548757e+01  -2.86439409e+00]\n",
      " [ -3.85318002e+01  -1.54608356e+00]\n",
      " [ -2.42387776e+01   3.81204158e+00]\n",
      " [ -1.12576277e+01   2.59148979e+00]\n",
      " [ -5.02492074e+00  -7.31574819e+00]\n",
      " [  5.05852117e+00  -2.48623483e+00]\n",
      " [  2.77430797e+00   4.35352906e+00]\n",
      " [ -2.96753479e+01   1.70403231e+00]\n",
      " [ -4.88827669e+01   1.43006964e+00]\n",
      " [ -4.59850589e+01  -4.61999550e+00]\n",
      " [ -3.16920363e+01   7.38129637e-01]\n",
      " [ -1.95919060e+01   6.53354567e+00]\n",
      " [ -9.41714321e+00   4.96058603e+00]\n",
      " [ -1.17862394e+01   6.80107048e+00]\n",
      " [ -2.18696814e+01   1.97155712e+00]\n",
      " [ -8.62744447e+00   4.34709121e+00]\n",
      " [  2.50678315e+00   1.21591956e+01]\n",
      " [ -1.81887124e+01   6.70974960e+00]\n",
      " [ -2.80110674e+01   5.47632211e+00]\n",
      " [ -3.38849286e+01   1.17542053e+00]\n",
      " [ -3.45897443e+01   6.78819478e+00]\n",
      " [ -3.15222702e+01   1.07366885e+01]\n",
      " [ -2.90618531e+01   2.49373105e+00]\n",
      " [ -2.13410696e+01  -2.23802357e+00]\n",
      " [ -1.41488978e+01  -2.76019749e+00]\n",
      " [ -1.45013057e+01   4.61896323e-02]]\n"
     ]
    }
   ],
   "source": [
    "print np.corrcoef(newData[:,0],newData[:,1]), \"\\n\"\n",
    "\n",
    "newCOV=np.cov(newData[:,0],newData[:,1])\n",
    "print newCOV,\"\\n\"\n",
    "print \"Variance of PC1: \",newCOV[0,0]\n",
    "print \"Variance of PC2: \",newCOV[1,1]\n",
    "print \"Sum of Variances: {} !(compare to Value above before PCA: {} )\\n\".format(newCOV[0,0]+newCOV[1,1], COV[0,0]+COV[1,1])\n",
    "\n",
    "print \"PC1 explains {:.2f}% of the variance\".format(newCOV[0,0]*100.0/(newCOV[0,0]+newCOV[1,1]))\n",
    "print \"PC2 explains {:.2f}% of the variance\\n\".format(newCOV[1,1]*100.0/(newCOV[0,0]+newCOV[1,1]))\n",
    "\n",
    "\n",
    "\n",
    "print \"newData: \\n{}\".format(newData)"
   ]
  },
  {
   "cell_type": "markdown",
   "metadata": {},
   "source": [
    "# Add Mean Values and round"
   ]
  },
  {
   "cell_type": "code",
   "execution_count": null,
   "metadata": {
    "collapsed": true
   },
   "outputs": [],
   "source": []
  },
  {
   "cell_type": "code",
   "execution_count": 56,
   "metadata": {
    "collapsed": false
   },
   "outputs": [
    {
     "name": "stdout",
     "output_type": "stream",
     "text": [
      "[[ 692.  607.]\n",
      " [ 644.  617.]\n",
      " [ 635.  669.]\n",
      " [ 631.  704.]\n",
      " [ 620.  707.]\n",
      " [ 642.  704.]\n",
      " [ 683.  705.]\n",
      " [ 729.  723.]\n",
      " [ 733.  721.]\n",
      " [ 690.  701.]\n",
      " [ 648.  626.]\n",
      " [ 614.  686.]\n",
      " [ 619.  689.]\n",
      " [ 612.  685.]\n",
      " [ 618.  700.]\n",
      " [ 601.  700.]\n",
      " [ 582.  714.]\n",
      " [ 632.  723.]\n",
      " [ 693.  723.]\n",
      " [ 679.  717.]\n",
      " [ 614.  701.]\n",
      " [ 613.  695.]\n",
      " [ 611.  697.]\n",
      " [ 619.  703.]\n",
      " [ 586.  699.]\n",
      " [ 550.  700.]\n",
      " [ 551.  700.]\n",
      " [ 579.  690.]\n",
      " [ 638.  700.]\n",
      " [ 674.  713.]\n",
      " [ 611.  698.]\n",
      " [ 619.  693.]\n",
      " [ 600.  701.]\n",
      " [ 567.  713.]\n",
      " [ 548.  705.]\n",
      " [ 541.  695.]\n",
      " [ 552.  693.]\n",
      " [ 577.  700.]\n",
      " [ 598.  703.]\n",
      " [ 646.  712.]\n",
      " [ 587.  692.]\n",
      " [ 584.  700.]\n",
      " [ 567.  699.]\n",
      " [ 544.  697.]\n",
      " [ 523.  699.]\n",
      " [ 526.  684.]\n",
      " [ 553.  695.]\n",
      " [ 575.  706.]\n",
      " [ 583.  700.]\n",
      " [ 605.  702.]\n",
      " [ 571.  705.]\n",
      " [ 555.  700.]\n",
      " [ 548.  689.]\n",
      " [ 531.  687.]\n",
      " [ 517.  688.]\n",
      " [ 529.  699.]\n",
      " [ 555.  703.]\n",
      " [ 569.  695.]\n",
      " [ 580.  693.]\n",
      " [ 599.  698.]\n",
      " [ 575.  702.]\n",
      " [ 542.  689.]\n",
      " [ 536.  685.]\n",
      " [ 535.  687.]\n",
      " [ 531.  690.]\n",
      " [ 540.  698.]\n",
      " [ 558.  702.]\n",
      " [ 579.  691.]\n",
      " [ 580.  686.]\n",
      " [ 600.  705.]\n",
      " [ 576.  699.]\n",
      " [ 538.  690.]\n",
      " [ 524.  694.]\n",
      " [ 534.  696.]\n",
      " [ 542.  694.]\n",
      " [ 546.  695.]\n",
      " [ 561.  700.]\n",
      " [ 574.  699.]\n",
      " [ 580.  689.]\n",
      " [ 590.  694.]\n",
      " [ 588.  701.]\n",
      " [ 555.  698.]\n",
      " [ 536.  698.]\n",
      " [ 539.  692.]\n",
      " [ 553.  697.]\n",
      " [ 565.  703.]\n",
      " [ 575.  701.]\n",
      " [ 573.  703.]\n",
      " [ 563.  698.]\n",
      " [ 576.  701.]\n",
      " [ 587.  709.]\n",
      " [ 567.  703.]\n",
      " [ 557.  702.]\n",
      " [ 551.  698.]\n",
      " [ 550.  703.]\n",
      " [ 553.  707.]\n",
      " [ 556.  699.]\n",
      " [ 564.  694.]\n",
      " [ 571.  694.]\n",
      " [ 570.  697.]]\n"
     ]
    }
   ],
   "source": [
    "Data2=np.round(newData+np.mean(Data,axis=0))\n",
    "print Data2\n"
   ]
  },
  {
   "cell_type": "markdown",
   "metadata": {},
   "source": [
    "# Reshape back to Image"
   ]
  },
  {
   "cell_type": "code",
   "execution_count": 62,
   "metadata": {
    "collapsed": false
   },
   "outputs": [
    {
     "name": "stdout",
     "output_type": "stream",
     "text": [
      "[[ 692.  644.  635.  631.  620.  642.  683.  729.  733.  690.]\n",
      " [ 648.  614.  619.  612.  618.  601.  582.  632.  693.  679.]\n",
      " [ 614.  613.  611.  619.  586.  550.  551.  579.  638.  674.]\n",
      " [ 611.  619.  600.  567.  548.  541.  552.  577.  598.  646.]\n",
      " [ 587.  584.  567.  544.  523.  526.  553.  575.  583.  605.]\n",
      " [ 571.  555.  548.  531.  517.  529.  555.  569.  580.  599.]\n",
      " [ 575.  542.  536.  535.  531.  540.  558.  579.  580.  600.]\n",
      " [ 576.  538.  524.  534.  542.  546.  561.  574.  580.  590.]\n",
      " [ 588.  555.  536.  539.  553.  565.  575.  573.  563.  576.]\n",
      " [ 587.  567.  557.  551.  550.  553.  556.  564.  571.  570.]] \n",
      "\n",
      "[[ 607.  617.  669.  704.  707.  704.  705.  723.  721.  701.]\n",
      " [ 626.  686.  689.  685.  700.  700.  714.  723.  723.  717.]\n",
      " [ 701.  695.  697.  703.  699.  700.  700.  690.  700.  713.]\n",
      " [ 698.  693.  701.  713.  705.  695.  693.  700.  703.  712.]\n",
      " [ 692.  700.  699.  697.  699.  684.  695.  706.  700.  702.]\n",
      " [ 705.  700.  689.  687.  688.  699.  703.  695.  693.  698.]\n",
      " [ 702.  689.  685.  687.  690.  698.  702.  691.  686.  705.]\n",
      " [ 699.  690.  694.  696.  694.  695.  700.  699.  689.  694.]\n",
      " [ 701.  698.  698.  692.  697.  703.  701.  703.  698.  701.]\n",
      " [ 709.  703.  702.  698.  703.  707.  699.  694.  694.  697.]]\n"
     ]
    }
   ],
   "source": [
    "PC1  =Data2[:,0].reshape(10,10)\n",
    "PC2  =Data2[:,1].reshape(10,10)\n",
    "print PC1,\"\\n\"\n",
    "print PC2\n"
   ]
  },
  {
   "cell_type": "code",
   "execution_count": 60,
   "metadata": {
    "collapsed": false
   },
   "outputs": [
    {
     "data": {
      "image/png": "[encoded data removed]",
      "text/plain": [
       "<matplotlib.figure.Figure at 0x1140bef50>"
      ]
     },
     "metadata": {},
     "output_type": "display_data"
    },
    {
     "data": {
      "image/png": "[encoded data removed]",
      "text/plain": [
       "<matplotlib.figure.Figure at 0x114c96910>"
      ]
     },
     "metadata": {},
     "output_type": "display_data"
    }
   ],
   "source": [
    "plt.imshow(PC1,interpolation='none')\n",
    "plt.show()\n",
    "plt.imshow(PC2,interpolation='none')\n",
    "plt.show()"
   ]
  },
  {
   "cell_type": "code",
   "execution_count": null,
   "metadata": {
    "collapsed": true
   },
   "outputs": [],
   "source": []
  }
 ],
 "metadata": {
  "kernelspec": {
   "display_name": "Python 3",
   "language": "python",
   "name": "python3"
  },
  "language_info": {
   "codemirror_mode": {
    "name": "ipython",
    "version": 3
   },
   "file_extension": ".py",
   "mimetype": "text/x-python",
   "name": "python",
   "nbconvert_exporter": "python",
   "pygments_lexer": "ipython3",
   "version": "3.6.1"
  }
 },
 "nbformat": 4,
 "nbformat_minor": 2
}
