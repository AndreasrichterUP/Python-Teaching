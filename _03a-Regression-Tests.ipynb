{
 "cells": [
  {
   "cell_type": "markdown",
   "metadata": {},
   "source": [
    "Regression Tests\n",
    "---"
   ]
  },
  {
   "cell_type": "markdown",
   "metadata": {},
   "source": [
    "import of libraries"
   ]
  },
  {
   "cell_type": "code",
   "execution_count": 2,
   "metadata": {},
   "outputs": [],
   "source": [
    "import numpy as np\n",
    "import pandas as pd\n",
    "import matplotlib.pyplot as plt\n",
    "from matplotlib.pyplot import *\n",
    "%matplotlib inline"
   ]
  },
  {
   "cell_type": "markdown",
   "metadata": {},
   "source": [
    "I can generate random numbers, just like in the exercises before with the function random.rand() and save them to the variable **x**\n",
    "\n",
    "I also multiply **x** by a factor and add an offset --> I get a linear function in **y**"
   ]
  },
  {
   "cell_type": "code",
   "execution_count": 6,
   "metadata": {
    "collapsed": true
   },
   "outputs": [],
   "source": [
    "#np.random.seed(0)\n",
    "x=10*np.random.rand(20,1)   # uniform distributed samples zwischen [0,10]\n",
    "\n",
    "y=6.3*x+15"
   ]
  },
  {
   "cell_type": "markdown",
   "metadata": {},
   "source": [
    "to display the linear function $y=f(x)=b_1 \\cdot x+b_0$ I plot the points:"
   ]
  },
  {
   "cell_type": "code",
   "execution_count": 7,
   "metadata": {},
   "outputs": [
    {
     "data": {
      "image/png": "[encoded data removed]",
      "text/plain": [
       "<matplotlib.figure.Figure at 0x116214160>"
      ]
     },
     "metadata": {},
     "output_type": "display_data"
    }
   ],
   "source": [
    "plt.plot(x,y,'b.')\n",
    "plt.show()"
   ]
  },
  {
   "cell_type": "markdown",
   "metadata": {},
   "source": [
    "all points alligned and very regular because of the linear connection,\n",
    "to make this dataset a little bit more realistic I add some random errors by..."
   ]
  },
  {
   "cell_type": "code",
   "execution_count": 9,
   "metadata": {},
   "outputs": [],
   "source": [
    "y=y+5*np.random.randn(20,1)"
   ]
  },
  {
   "cell_type": "markdown",
   "metadata": {},
   "source": [
    "and plot it again:"
   ]
  },
  {
   "cell_type": "code",
   "execution_count": 10,
   "metadata": {},
   "outputs": [
    {
     "data": {
      "image/png": "[encoded data removed]",
      "text/plain": [
       "<matplotlib.figure.Figure at 0x116133320>"
      ]
     },
     "metadata": {},
     "output_type": "display_data"
    }
   ],
   "source": [
    "plt.plot(x,y,'b.')\n",
    "plt.show()"
   ]
  },
  {
   "cell_type": "code",
   "execution_count": null,
   "metadata": {},
   "outputs": [],
   "source": []
  },
  {
   "cell_type": "code",
   "execution_count": null,
   "metadata": {},
   "outputs": [],
   "source": []
  },
  {
   "cell_type": "markdown",
   "metadata": {},
   "source": [
    "In the same way I designed the linear dataset I can also define a quadratic function **yq** and also add some random errors by:"
   ]
  },
  {
   "cell_type": "code",
   "execution_count": 11,
   "metadata": {},
   "outputs": [],
   "source": [
    "yq = 3*x*x + 4*x + 7\n",
    "yq=yq+15*np.random.randn(20,1)\n",
    "#print x,y\n",
    "\n",
    "#x=np.ravel(x)\n",
    "#y=np.ravel(y)\n"
   ]
  },
  {
   "cell_type": "markdown",
   "metadata": {},
   "source": [
    "we can plot both datasets together:"
   ]
  },
  {
   "cell_type": "code",
   "execution_count": 12,
   "metadata": {
    "collapsed": false
   },
   "outputs": [
    {
     "data": {
      "image/png": "[encoded data removed]",
      "text/plain": [
       "<matplotlib.figure.Figure at 0x1162a3080>"
      ]
     },
     "metadata": {},
     "output_type": "display_data"
    }
   ],
   "source": [
    "plt.plot(x,y,'b.',x,yq,'r.')\n",
    "plt.show()\n"
   ]
  },
  {
   "cell_type": "markdown",
   "metadata": {},
   "source": [
    "Now I have two datasets a linear and non-linear one, but what could such data describe?"
   ]
  },
  {
   "cell_type": "markdown",
   "metadata": {},
   "source": [
    "A linear dataset could be for example"
   ]
  },
  {
   "cell_type": "code",
   "execution_count": null,
   "metadata": {},
   "outputs": [],
   "source": []
  },
  {
   "cell_type": "markdown",
   "metadata": {},
   "source": [
    "A quadratic (non-linear) dataset can be for example"
   ]
  },
  {
   "cell_type": "code",
   "execution_count": null,
   "metadata": {},
   "outputs": [],
   "source": []
  },
  {
   "cell_type": "markdown",
   "metadata": {},
   "source": [
    "Apply a regression to the data by polynomial fitting \n",
    "---"
   ]
  },
  {
   "cell_type": "markdown",
   "metadata": {},
   "source": [
    "Regression is a tool to **deduct** from a sampled dataset to a general **circumstances** in the data. In other words I want to know which value I can expect at the positions where I wasn't able to measure...\n",
    "\n"
   ]
  },
  {
   "cell_type": "markdown",
   "metadata": {},
   "source": [
    "For a linear function like a line kann der Zusammenhang der Größen y (abhängige Variable, vertikale Achse) und x (unabhängige Variable, horizontale Achse) wie folgt ausgedrückt werden: $ y = f(x) = b_0 + b_1 x $\n",
    "\n",
    "\n"
   ]
  },
  {
   "cell_type": "markdown",
   "metadata": {},
   "source": [
    "With this equation for every value-pair $(x_i, y_i)$ with $i=1...n$ an equation can be generated. From the $n$ measured values and therefor $n$ functional equations two parameters should be estimated. In the concrete case of $n = 6$ the  functional equations look like this:\n",
    "\n",
    "$ y_1 = b_0 + b_1 x_1 \\Longrightarrow  0.7 = b_0 + b_1 \\cdot 0$ \n",
    "\n",
    "$ y_2 = b_0 + b_1 x_2 \\Longrightarrow  0.5 = b_0 + b_1 \\cdot 1$ \n",
    "\n",
    "$ y_3 = b_0 + b_1 x_3 \\Longrightarrow  3.9 = b_0 + b_1 \\cdot 2$ \n",
    "\n",
    "$ y_4 = b_0 + b_1 x_4 \\Longrightarrow  3.2 = b_0 + b_1 \\cdot 3$ \n",
    "\n",
    "$ y_5 = b_0 + b_1 x_5 \\Longrightarrow  6 = b_0 + b_1 \\cdot 4$ \n",
    "\n",
    "$ y_6 = b_0 + b_1 x_6 \\Longrightarrow  8 = b_0 + b_1 \\cdot 5$ \n"
   ]
  },
  {
   "cell_type": "markdown",
   "metadata": {},
   "source": [
    "the following Vectors can be assigned based on that:\n",
    "\n",
    "$\\vec x^T= [x_1, x_2, ..., x_n]$ and $\\vec y^T= [y_1, y_2, ..., y_n]$  as well as $\\vec b^T= [b_0, b_1]$ \n",
    "\n",
    "In the example $ \\vec x^T =[0,1,2,3,4,5 ]$, $\\vec y^T=[0.7 , 0.5 , 3.9 , 3.2 , 6.8 ]$ and I'm looking for the values of $\\vec b^T$.\n"
   ]
  },
  {
   "cell_type": "markdown",
   "metadata": {},
   "source": [
    "But in general the function $y = b_0 + b_1 \\cdot x $ is not realy correct, because in every meassured point a little error-value **$\\epsilon$** has to be added to the functional value (e.g. Theory of error propagation ...)\n",
    "\n",
    "Therefore it makes sense to extend the functional Zusammenhang and to write it like this:\n",
    "\n",
    "$y = b_0 + b_1 x + \\epsilon$\n",
    "\n",
    "if I ... this equation to $\\epsilon$, I get a function of the measuring errors.\n",
    "\n",
    "$\\epsilon = y - b_0 - b_1 x $\n",
    "\n",
    "This function only depends on the measured data:\n",
    "$\\epsilon =\\epsilon(b_0,b_1) = y - b_0 - b_1 x $\n",
    "\n",
    "That's why for all meassured points $(x_i,y_i)$ the individual error $\\epsilon_i$ can be calculated by:\n",
    "\n",
    "$\\epsilon_i = y_i - b_0 - b_1 x_i $ which is also called the L2-Norm :$l_2(f_{\\theta}(x_i),y_i)=( y_i - f_{\\theta}(x_i) )^2$\n",
    "\n"
   ]
  },
  {
   "cell_type": "markdown",
   "metadata": {},
   "source": [
    "Die Überlegung an dieser Stelle ist nun den Fehler über alle Messpunkte zu minimieren. Die Idee die quadratischen Fehler aufzusummieren und das Minimum dieser Summe zu suchen geht auf Carl Friedrich Gauss (ca. 1795) und Adrien-Marie Legendre (ca. 1806) zurück und ist unter dem Namen \\textbf{Methoder der kleinsten Quadrate} oder \\textbf{Least Squares Method}/ \\textbf{Méthode des moindres carrés} bekannt geworden. Gauss fand durch seine Überlegungen zur Normalverteilung heraus, das Messfehler in jeder Messung zufällig verteilt sein können und damit das Messergebnis in unerwünschter Weise verkleiner ($\\epsilon_i$ negativ) bzw. vergrößern ($\\epsilon_i$ positiv) können. Den Quadratischen Fehler zu untersuchen ist also im Grunde eine Worst-Case Abschätzung.\n"
   ]
  },
  {
   "cell_type": "markdown",
   "metadata": {},
   "source": [
    "The aim is now to minimize the sum of the quadratic error,\n",
    "\n",
    "$\\sum (\\epsilon_i)^2 \\rightarrow $ Min\n"
   ]
  },
  {
   "cell_type": "markdown",
   "metadata": {},
   "source": [
    "to find a minimum of a function its fist derivative has to be set to zero. Therefor a calculate the fist derivative\n",
    "regarding both of the variables\n",
    "\n",
    "$\\frac{\\partial \\sum (\\epsilon_i)^2}{\\partial b_0 }$ and $\\frac{\\partial \\sum (\\epsilon_i)^2}{\\partial b_1 }$:\n",
    "\n",
    "$\\frac{\\partial \\sum (\\epsilon_i)^2}{\\partial b_0 } = \\frac{\\partial \\sum (y_i - b_0 - b_1 x_i)^2}{\\partial b_0 }= -2 \\sum(y_i - b_0 - b_1 x_i)=0 $\n",
    "\n",
    "$\\frac{\\partial \\sum (\\epsilon_i)^2}{\\partial b_1 } = \\frac{\\partial \\sum (y_i - b_0 - b_1 x_i)^2}{\\partial b_1 }= -2 \\sum(y_i - b_0 - b_1 x_i) \\cdot x_i=0 $ "
   ]
  },
  {
   "cell_type": "markdown",
   "metadata": {},
   "source": [
    "The factor -2 can be ignored and the Sum-equations can be changed to:\n",
    "\n",
    "$  \\sum y_i =  \\sum b_0 + \\sum b_1 x_i $\n",
    "\n",
    "$  \\sum y_i x_i =  \\sum b_0 x_i + \\sum b_1 x_i^2 $\n",
    "\n",
    "These two equations are called the **Normal-equations**"
   ]
  },
  {
   "cell_type": "markdown",
   "metadata": {},
   "source": [
    "writing these equations in a matrix syntax leads to \n",
    "\n",
    "$\n",
    "\\begin{bmatrix}\n",
    "1&...&1\\\\\n",
    "x_1&...&x_n\n",
    "\\end{bmatrix}\n",
    "$\n",
    "$\n",
    "\\begin{bmatrix}\n",
    "y_1\\\\\n",
    ":\\\\\n",
    "y_n\n",
    "\\end{bmatrix}\n",
    "$=\n",
    "$\n",
    "\\begin{bmatrix}\n",
    "n& \\sum x_i\\\\\n",
    "\\sum x_i&\\sum x_i^2\n",
    "\\end{bmatrix}\n",
    "$\n",
    "$\\begin{bmatrix}\n",
    "b_0\\\\\n",
    "b_1\n",
    "\\end{bmatrix}$\n",
    "\n",
    "and \n",
    "\n",
    "$\n",
    "\\begin{bmatrix}\n",
    "1&...&1\\\\\n",
    "x_1&...&x_n\n",
    "\\end{bmatrix}\n",
    "$\n",
    "$\n",
    "\\begin{bmatrix}\n",
    "y_1\\\\\n",
    ":\\\\\n",
    "y_n\n",
    "\\end{bmatrix}\n",
    "$=\n",
    "$\n",
    "\\begin{bmatrix}\n",
    "1&...&1\\\\\n",
    "x_1&...&x_n\n",
    "\\end{bmatrix}\n",
    "$\n",
    "$\n",
    "\\begin{bmatrix}\n",
    "1&x_1\\\\\n",
    ": & :\\\\\n",
    "1&x_n\n",
    "\\end{bmatrix}\n",
    "$\n",
    "$\\begin{bmatrix}\n",
    "b_0\\\\\n",
    "b_1\n",
    "\\end{bmatrix}\n",
    "$"
   ]
  },
  {
   "cell_type": "markdown",
   "metadata": {},
   "source": [
    "I call the matrix \n",
    "A = $\n",
    "\\begin{bmatrix}\n",
    "1&x_1\\\\\n",
    ": & :\\\\\n",
    "1&x_n\n",
    "\\end{bmatrix}\n",
    "$\n",
    "the **Design-Matrix** of the regression problem"
   ]
  },
  {
   "cell_type": "markdown",
   "metadata": {},
   "source": [
    "I call the Vector $ \\vec b =\\begin{bmatrix}\n",
    "b_0\\\\\n",
    "b_1\n",
    "\\end{bmatrix}\n",
    "$  the parameter vector which shall be estimated\n",
    "\n",
    "\n",
    "und the Vector $ \\vec y = \n",
    "\\begin{bmatrix}\n",
    "y_1\\\\\n",
    ":\\\\\n",
    "y_n\n",
    "\\end{bmatrix}\n",
    "$ the observations"
   ]
  },
  {
   "cell_type": "markdown",
   "metadata": {},
   "source": [
    "the equation above can be written like this\n",
    "\n",
    "$A^T \\vec y = A^T A \\vec b$\n"
   ]
  },
  {
   "cell_type": "code",
   "execution_count": null,
   "metadata": {},
   "outputs": [],
   "source": []
  },
  {
   "cell_type": "markdown",
   "metadata": {},
   "source": [
    "$\\vec b =( A^T A )^{-1} A^T \\vec y$\n"
   ]
  },
  {
   "cell_type": "code",
   "execution_count": null,
   "metadata": {},
   "outputs": [],
   "source": []
  },
  {
   "cell_type": "code",
   "execution_count": 16,
   "metadata": {
    "collapsed": true
   },
   "outputs": [
    {
     "name": "stdout",
     "output_type": "stream",
     "text": [
      "[[ 1.          5.89761504]\n",
      " [ 1.          8.46426962]\n",
      " [ 1.          9.32177444]\n",
      " [ 1.          7.80925012]\n",
      " [ 1.          5.92782148]\n",
      " [ 1.          0.56586926]\n",
      " [ 1.          0.08290134]\n",
      " [ 1.          8.04188457]\n",
      " [ 1.          8.18478808]\n",
      " [ 1.          6.47493117]\n",
      " [ 1.          5.98669222]\n",
      " [ 1.          0.87169683]\n",
      " [ 1.          5.31884275]\n",
      " [ 1.          2.86954635]\n",
      " [ 1.          3.3965787 ]\n",
      " [ 1.          7.17093238]\n",
      " [ 1.          7.47343675]\n",
      " [ 1.          9.19747287]\n",
      " [ 1.          4.21256742]\n",
      " [ 1.          6.06323317]]\n"
     ]
    }
   ],
   "source": [
    "A1=np.zeros((20,2))\n",
    "A1[:,0]=1\n",
    "A1[:,1]=np.ravel(x)\n",
    "print(A1)"
   ]
  },
  {
   "cell_type": "code",
   "execution_count": null,
   "metadata": {
    "collapsed": false
   },
   "outputs": [],
   "source": []
  },
  {
   "cell_type": "code",
   "execution_count": null,
   "metadata": {
    "collapsed": false
   },
   "outputs": [],
   "source": []
  },
  {
   "cell_type": "code",
   "execution_count": null,
   "metadata": {
    "collapsed": false
   },
   "outputs": [],
   "source": [
    "A1"
   ]
  },
  {
   "cell_type": "code",
   "execution_count": null,
   "metadata": {
    "collapsed": false
   },
   "outputs": [],
   "source": [
    "b1=np.dot(np.linalg.inv(np.dot(A1.T,A1)),np.dot(A1.T,y))"
   ]
  },
  {
   "cell_type": "code",
   "execution_count": null,
   "metadata": {
    "collapsed": false
   },
   "outputs": [],
   "source": [
    "b1"
   ]
  },
  {
   "cell_type": "code",
   "execution_count": null,
   "metadata": {
    "collapsed": true
   },
   "outputs": [],
   "source": [
    "s,p=np.polyfit(x,y,1)"
   ]
  },
  {
   "cell_type": "code",
   "execution_count": null,
   "metadata": {
    "collapsed": false
   },
   "outputs": [],
   "source": [
    "print 'polyfit:     Steigung: {} und y-Schnittpunkt: {}'.format(s,p)\n",
    "print 'eigene Ber.: Steigung: {} und y-Schnittpunkt: {}'.format(b1[1],b1[0])"
   ]
  },
  {
   "cell_type": "markdown",
   "metadata": {},
   "source": [
    "Quadratic Function \n",
    "---"
   ]
  },
  {
   "cell_type": "code",
   "execution_count": null,
   "metadata": {
    "collapsed": false
   },
   "outputs": [],
   "source": [
    "A2=np.zeros((20,3))\n",
    "A2[:,0:2]=A1\n",
    "A2[:,2]=x*x"
   ]
  },
  {
   "cell_type": "code",
   "execution_count": null,
   "metadata": {
    "collapsed": false
   },
   "outputs": [],
   "source": [
    "A2"
   ]
  },
  {
   "cell_type": "code",
   "execution_count": null,
   "metadata": {
    "collapsed": false
   },
   "outputs": [],
   "source": [
    "b2=np.dot(np.linalg.inv(np.dot(A2.T,A2)),np.dot(A2.T,y))"
   ]
  },
  {
   "cell_type": "code",
   "execution_count": null,
   "metadata": {
    "collapsed": false
   },
   "outputs": [],
   "source": [
    "b2"
   ]
  },
  {
   "cell_type": "code",
   "execution_count": null,
   "metadata": {
    "collapsed": true
   },
   "outputs": [],
   "source": [
    "coos=np.polyfit(x,y,2)"
   ]
  },
  {
   "cell_type": "code",
   "execution_count": null,
   "metadata": {
    "collapsed": false
   },
   "outputs": [],
   "source": [
    "coos"
   ]
  },
  {
   "cell_type": "code",
   "execution_count": null,
   "metadata": {
    "collapsed": false
   },
   "outputs": [],
   "source": [
    "print 'polyfit:     b^2: {}   b^1: {} und b^0: {}'.format(coos[0],coos[1],coos[2])\n",
    "print 'eigene Ber.: b^2: {}   b^1: {} und b^0: {}'.format(b2[2],b2[1],b2[0])"
   ]
  },
  {
   "cell_type": "markdown",
   "metadata": {},
   "source": [
    "make the Plots\n",
    "---"
   ]
  },
  {
   "cell_type": "code",
   "execution_count": null,
   "metadata": {
    "collapsed": true
   },
   "outputs": [],
   "source": [
    "xvals=np.arange(0,20,0.1)"
   ]
  },
  {
   "cell_type": "code",
   "execution_count": null,
   "metadata": {
    "collapsed": false
   },
   "outputs": [],
   "source": [
    "yvals=coos[0]*(xvals*xvals)+coos[1]*xvals+coos[2]"
   ]
  },
  {
   "cell_type": "code",
   "execution_count": null,
   "metadata": {
    "collapsed": false
   },
   "outputs": [],
   "source": [
    "plt.plot(x,y,'b.')\n",
    "plt.plot(xvals,s*xvals+p,'g',label='Linear Fit')\n",
    "plt.plot(xvals,yvals,'r',label='Quadr. Fit')\n",
    "plt.xlim(0,20)\n",
    "plt.ylim(0,150)\n",
    "plt.legend(loc='best')\n",
    "plt.show()"
   ]
  },
  {
   "cell_type": "code",
   "execution_count": null,
   "metadata": {
    "collapsed": true
   },
   "outputs": [],
   "source": []
  },
  {
   "cell_type": "code",
   "execution_count": null,
   "metadata": {},
   "outputs": [],
   "source": []
  }
 ],
 "metadata": {
  "kernelspec": {
   "display_name": "Python 3",
   "language": "python",
   "name": "python3"
  },
  "language_info": {
   "codemirror_mode": {
    "name": "ipython",
    "version": 3
   },
   "file_extension": ".py",
   "mimetype": "text/x-python",
   "name": "python",
   "nbconvert_exporter": "python",
   "pygments_lexer": "ipython3",
   "version": "3.6.1"
  }
 },
 "nbformat": 4,
 "nbformat_minor": 2
}
