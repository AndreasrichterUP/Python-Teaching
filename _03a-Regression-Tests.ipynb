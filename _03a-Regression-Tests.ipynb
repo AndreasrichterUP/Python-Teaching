{
 "cells": [
  {
   "cell_type": "code",
   "execution_count": 1,
   "metadata": {
    "collapsed": true
   },
   "outputs": [],
   "source": [
    "import numpy as np\n",
    "import pandas as pd\n",
    "import matplotlib.pyplot as plt\n",
    "from matplotlib.pyplot import *\n",
    "%matplotlib inline\n",
    "\n",
    "#np.random.seed(0)\n",
    "x=10*np.random.rand(20,1)   # uniform distributed samples zwischen [0,10]\n",
    "\n",
    "y=6.3*x+15\n",
    "\n",
    "yq = 3*x*x + 4*x + 7\n",
    "\n",
    "y=y+5*np.random.randn(20,1)\n",
    "\n",
    "yq=yq+5*np.random.randn(20,1)\n",
    "#print x,y\n",
    "\n",
    "xyData3 = pd.DataFrame(x)                    # PANDAS Dataframe Spalten mit den zufälligen Werten x,y belegen\n",
    "xyData3['1'] = pd.DataFrame(y)\n",
    "#print xyData3\n",
    "x=np.ravel(x)\n",
    "y=np.ravel(y)\n",
    "\n"
   ]
  },
  {
   "cell_type": "code",
   "execution_count": 2,
   "metadata": {
    "collapsed": false
   },
   "outputs": [
    {
     "data": {
      "image/png": "[encoded data removed]",
      "text/plain": [
       "<matplotlib.figure.Figure at 0x1080a3400>"
      ]
     },
     "metadata": {},
     "output_type": "display_data"
    }
   ],
   "source": [
    "plt.plot(x,y,'b.')\n",
    "plt.show()"
   ]
  },
  {
   "cell_type": "markdown",
   "metadata": {},
   "source": [
    "Lineare Funkion\n",
    "---"
   ]
  },
  {
   "cell_type": "code",
   "execution_count": 3,
   "metadata": {
    "collapsed": true
   },
   "outputs": [],
   "source": [
    "A1=np.zeros((20,2))"
   ]
  },
  {
   "cell_type": "code",
   "execution_count": 4,
   "metadata": {
    "collapsed": false
   },
   "outputs": [],
   "source": [
    "A1[:,0]=1"
   ]
  },
  {
   "cell_type": "code",
   "execution_count": 5,
   "metadata": {
    "collapsed": false
   },
   "outputs": [],
   "source": [
    "A1[:,1]=x"
   ]
  },
  {
   "cell_type": "code",
   "execution_count": 6,
   "metadata": {
    "collapsed": false
   },
   "outputs": [
    {
     "data": {
      "text/plain": [
       "array([[ 1.        ,  1.35945043],\n",
       "       [ 1.        ,  1.42870847],\n",
       "       [ 1.        ,  1.19708188],\n",
       "       [ 1.        ,  2.54507279],\n",
       "       [ 1.        ,  0.47112027],\n",
       "       [ 1.        ,  9.50848363],\n",
       "       [ 1.        ,  4.42644333],\n",
       "       [ 1.        ,  9.85960807],\n",
       "       [ 1.        ,  0.39204113],\n",
       "       [ 1.        ,  0.68947503],\n",
       "       [ 1.        ,  8.32302321],\n",
       "       [ 1.        ,  7.12855404],\n",
       "       [ 1.        ,  8.29936537],\n",
       "       [ 1.        ,  7.30285428],\n",
       "       [ 1.        ,  1.81490862],\n",
       "       [ 1.        ,  6.07382334],\n",
       "       [ 1.        ,  2.27584053],\n",
       "       [ 1.        ,  1.09643323],\n",
       "       [ 1.        ,  5.42377495],\n",
       "       [ 1.        ,  3.8994272 ]])"
      ]
     },
     "execution_count": 6,
     "metadata": {},
     "output_type": "execute_result"
    }
   ],
   "source": [
    "A1"
   ]
  },
  {
   "cell_type": "code",
   "execution_count": 7,
   "metadata": {
    "collapsed": false
   },
   "outputs": [],
   "source": [
    "b1=np.dot(np.linalg.inv(np.dot(A1.T,A1)),np.dot(A1.T,y))"
   ]
  },
  {
   "cell_type": "code",
   "execution_count": 8,
   "metadata": {
    "collapsed": false
   },
   "outputs": [
    {
     "data": {
      "text/plain": [
       "array([ 12.56931526,   6.72300801])"
      ]
     },
     "execution_count": 8,
     "metadata": {},
     "output_type": "execute_result"
    }
   ],
   "source": [
    "b1"
   ]
  },
  {
   "cell_type": "code",
   "execution_count": 9,
   "metadata": {
    "collapsed": true
   },
   "outputs": [],
   "source": [
    "s,p=np.polyfit(x,y,1)"
   ]
  },
  {
   "cell_type": "code",
   "execution_count": 13,
   "metadata": {
    "collapsed": false
   },
   "outputs": [
    {
     "name": "stdout",
     "output_type": "stream",
     "text": [
      " \n",
      "polyfit:     Steigung: 6.723008012572102 und y-Schnittpunkt: 12.569315258282376\n",
      " \n",
      "eigene Ber.: Steigung: 6.723008012572102 und y-Schnittpunkt: 12.569315258282373\n"
     ]
    }
   ],
   "source": [
    "print(' ')\n",
    "print('polyfit:     Steigung: {} und y-Schnittpunkt: {}'.format(s,p))\n",
    "print(' ')\n",
    "print('eigene Ber.: Steigung: {} und y-Schnittpunkt: {}'.format(b1[1],b1[0]))"
   ]
  },
  {
   "cell_type": "code",
   "execution_count": null,
   "metadata": {},
   "outputs": [],
   "source": []
  },
  {
   "cell_type": "markdown",
   "metadata": {},
   "source": [
    "Quadratische Funktion \n",
    "---"
   ]
  },
  {
   "cell_type": "code",
   "execution_count": 14,
   "metadata": {
    "collapsed": false
   },
   "outputs": [],
   "source": [
    "A2=np.zeros((20,3))\n",
    "A2[:,0:2]=A1\n",
    "A2[:,2]=x*x"
   ]
  },
  {
   "cell_type": "code",
   "execution_count": 15,
   "metadata": {
    "collapsed": false
   },
   "outputs": [
    {
     "data": {
      "text/plain": [
       "array([[  1.        ,   1.35945043,   1.84810547],\n",
       "       [  1.        ,   1.42870847,   2.0412079 ],\n",
       "       [  1.        ,   1.19708188,   1.43300502],\n",
       "       [  1.        ,   2.54507279,   6.47739548],\n",
       "       [  1.        ,   0.47112027,   0.22195431],\n",
       "       [  1.        ,   9.50848363,  90.411261  ],\n",
       "       [  1.        ,   4.42644333,  19.59340052],\n",
       "       [  1.        ,   9.85960807,  97.21187139],\n",
       "       [  1.        ,   0.39204113,   0.15369625],\n",
       "       [  1.        ,   0.68947503,   0.47537582],\n",
       "       [  1.        ,   8.32302321,  69.27271535],\n",
       "       [  1.        ,   7.12855404,  50.81628264],\n",
       "       [  1.        ,   8.29936537,  68.8794656 ],\n",
       "       [  1.        ,   7.30285428,  53.33168071],\n",
       "       [  1.        ,   1.81490862,   3.29389329],\n",
       "       [  1.        ,   6.07382334,  36.89133001],\n",
       "       [  1.        ,   2.27584053,   5.17945011],\n",
       "       [  1.        ,   1.09643323,   1.20216582],\n",
       "       [  1.        ,   5.42377495,  29.41733471],\n",
       "       [  1.        ,   3.8994272 ,  15.20553248]])"
      ]
     },
     "execution_count": 15,
     "metadata": {},
     "output_type": "execute_result"
    }
   ],
   "source": [
    "A2"
   ]
  },
  {
   "cell_type": "code",
   "execution_count": 16,
   "metadata": {
    "collapsed": false
   },
   "outputs": [],
   "source": [
    "b2=np.dot(np.linalg.inv(np.dot(A2.T,A2)),np.dot(A2.T,y))"
   ]
  },
  {
   "cell_type": "code",
   "execution_count": 17,
   "metadata": {
    "collapsed": false
   },
   "outputs": [
    {
     "data": {
      "text/plain": [
       "array([ 12.02868556,   7.13354271,  -0.04242001])"
      ]
     },
     "execution_count": 17,
     "metadata": {},
     "output_type": "execute_result"
    }
   ],
   "source": [
    "b2"
   ]
  },
  {
   "cell_type": "code",
   "execution_count": 18,
   "metadata": {
    "collapsed": true
   },
   "outputs": [],
   "source": [
    "coos=np.polyfit(x,y,2)"
   ]
  },
  {
   "cell_type": "code",
   "execution_count": 19,
   "metadata": {
    "collapsed": false
   },
   "outputs": [
    {
     "data": {
      "text/plain": [
       "array([ -0.04242001,   7.13354271,  12.02868556])"
      ]
     },
     "execution_count": 19,
     "metadata": {},
     "output_type": "execute_result"
    }
   ],
   "source": [
    "coos"
   ]
  },
  {
   "cell_type": "code",
   "execution_count": 20,
   "metadata": {
    "collapsed": false
   },
   "outputs": [
    {
     "name": "stdout",
     "output_type": "stream",
     "text": [
      "polyfit:     b^2: -0.04242000574653892   b^1: 7.133542710487561 und b^0: 12.028685558225492\n",
      "eigene Ber.: b^2: -0.04242000574652849   b^1: 7.133542710487461 und b^0: 12.028685558225902\n"
     ]
    }
   ],
   "source": [
    "print('polyfit:     b^2: {}   b^1: {} und b^0: {}'.format(coos[0],coos[1],coos[2]))\n",
    "print('eigene Ber.: b^2: {}   b^1: {} und b^0: {}'.format(b2[2],b2[1],b2[0]))"
   ]
  },
  {
   "cell_type": "markdown",
   "metadata": {},
   "source": [
    "Plots erzeugen\n",
    "---"
   ]
  },
  {
   "cell_type": "code",
   "execution_count": 21,
   "metadata": {
    "collapsed": true
   },
   "outputs": [],
   "source": [
    "xvals=np.arange(0,20,0.1)"
   ]
  },
  {
   "cell_type": "code",
   "execution_count": 22,
   "metadata": {
    "collapsed": false
   },
   "outputs": [],
   "source": [
    "yvals=coos[0]*(xvals*xvals)+coos[1]*xvals+coos[2]"
   ]
  },
  {
   "cell_type": "code",
   "execution_count": 23,
   "metadata": {
    "collapsed": false
   },
   "outputs": [
    {
     "data": {
      "image/png": "[encoded data removed]",
      "text/plain": [
       "<matplotlib.figure.Figure at 0x114693978>"
      ]
     },
     "metadata": {},
     "output_type": "display_data"
    }
   ],
   "source": [
    "plt.plot(x,y,'b.')\n",
    "plt.plot(xvals,s*xvals+p,'g',label='Linear Fit')\n",
    "plt.plot(xvals,yvals,'r',label='Quadr. Fit')\n",
    "plt.xlim(0,20)\n",
    "plt.ylim(0,150)\n",
    "plt.legend(loc='best')\n",
    "plt.show()"
   ]
  },
  {
   "cell_type": "code",
   "execution_count": null,
   "metadata": {
    "collapsed": true
   },
   "outputs": [],
   "source": []
  }
 ],
 "metadata": {
  "kernelspec": {
   "display_name": "Python 3",
   "language": "python",
   "name": "python3"
  },
  "language_info": {
   "codemirror_mode": {
    "name": "ipython",
    "version": 3
   },
   "file_extension": ".py",
   "mimetype": "text/x-python",
   "name": "python",
   "nbconvert_exporter": "python",
   "pygments_lexer": "ipython3",
   "version": "3.6.1"
  }
 },
 "nbformat": 4,
 "nbformat_minor": 2
}
