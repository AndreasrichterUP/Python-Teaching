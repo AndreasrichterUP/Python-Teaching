{
 "cells": [
  {
   "cell_type": "markdown",
   "metadata": {},
   "source": [
    "Regression Tests\n",
    "---"
   ]
  },
  {
   "cell_type": "markdown",
   "metadata": {},
   "source": [
    "import of python libraries"
   ]
  },
  {
   "cell_type": "code",
   "execution_count": 1,
   "metadata": {},
   "outputs": [],
   "source": [
    "import numpy as np\n",
    "import pandas as pd\n",
    "import matplotlib.pyplot as plt\n",
    "from matplotlib.pyplot import *\n",
    "%matplotlib inline"
   ]
  },
  {
   "cell_type": "markdown",
   "metadata": {},
   "source": [
    "**Gerating datasets to work with**"
   ]
  },
  {
   "cell_type": "markdown",
   "metadata": {},
   "source": [
    "I can generate random numbers, just like in the exercises before with the function random.rand() and save them to the variable **x**\n",
    "\n",
    "I also multiply **x** by a factor and add an offset --> I get a linear function in **y**"
   ]
  },
  {
   "cell_type": "code",
   "execution_count": 2,
   "metadata": {
    "collapsed": true
   },
   "outputs": [],
   "source": [
    "#np.random.seed(0)\n",
    "x=10*np.random.rand(20,1)   # uniform distributed samples zwischen [0,10]\n",
    "\n",
    "y=6.3*x+15"
   ]
  },
  {
   "cell_type": "markdown",
   "metadata": {},
   "source": [
    "to display the linear function $y=f(x)=b_1 \\cdot x+b_0$ I plot the points:"
   ]
  },
  {
   "cell_type": "code",
   "execution_count": 3,
   "metadata": {},
   "outputs": [
    {
     "data": {
      "image/png": "[encoded data removed]",
      "text/plain": [
       "<matplotlib.figure.Figure at 0x10851d128>"
      ]
     },
     "metadata": {},
     "output_type": "display_data"
    }
   ],
   "source": [
    "plt.plot(x,y,'b.')\n",
    "plt.show()"
   ]
  },
  {
   "cell_type": "markdown",
   "metadata": {},
   "source": [
    "all points are alligned and very regular because of the linear connection,\n",
    "to make this dataset a little bit more realistic I add some random errors by random.randn() ..."
   ]
  },
  {
   "cell_type": "code",
   "execution_count": 4,
   "metadata": {},
   "outputs": [],
   "source": [
    "y=y+5*np.random.randn(20,1)"
   ]
  },
  {
   "cell_type": "markdown",
   "metadata": {},
   "source": [
    "and plot the points again:"
   ]
  },
  {
   "cell_type": "code",
   "execution_count": 5,
   "metadata": {},
   "outputs": [
    {
     "data": {
      "image/png": "[encoded data removed]",
      "text/plain": [
       "<matplotlib.figure.Figure at 0x114b46fd0>"
      ]
     },
     "metadata": {},
     "output_type": "display_data"
    }
   ],
   "source": [
    "plt.plot(x,y,'b.')\n",
    "plt.show()"
   ]
  },
  {
   "cell_type": "markdown",
   "metadata": {},
   "source": [
    "Now I generated a random dataset that could have been the result of a meassurement "
   ]
  },
  {
   "cell_type": "code",
   "execution_count": null,
   "metadata": {},
   "outputs": [],
   "source": []
  },
  {
   "cell_type": "markdown",
   "metadata": {},
   "source": [
    "In the same way I designed the linear dataset I can also define a quadratic function **yq** and add some random errors by:"
   ]
  },
  {
   "cell_type": "code",
   "execution_count": 6,
   "metadata": {},
   "outputs": [],
   "source": [
    "yq = 3*x*x + 4*x + 7\n",
    "yq=yq+15*np.random.randn(20,1)\n",
    "#print x,y"
   ]
  },
  {
   "cell_type": "markdown",
   "metadata": {},
   "source": [
    "now I can plot both datasets together:"
   ]
  },
  {
   "cell_type": "code",
   "execution_count": 7,
   "metadata": {
    "collapsed": false
   },
   "outputs": [
    {
     "data": {
      "image/png": "[encoded data removed]",
      "text/plain": [
       "<matplotlib.figure.Figure at 0x114cc4c18>"
      ]
     },
     "metadata": {},
     "output_type": "display_data"
    }
   ],
   "source": [
    "plt.plot(x,y,'b.',label='linear dataset')\n",
    "plt.plot(x,yq,'r.',label='non-linear dataset')\n",
    "plt.legend()\n",
    "plt.xlabel('independent variable: x')\n",
    "plt.ylabel('meassured value: y or yq')\n",
    "plt.show()"
   ]
  },
  {
   "cell_type": "markdown",
   "metadata": {},
   "source": [
    "Now I have two datasets a linear and non-linear one, but what could such data describe?"
   ]
  },
  {
   "cell_type": "markdown",
   "metadata": {},
   "source": [
    "A linear dataset could be for example"
   ]
  },
  {
   "cell_type": "code",
   "execution_count": null,
   "metadata": {},
   "outputs": [],
   "source": []
  },
  {
   "cell_type": "markdown",
   "metadata": {},
   "source": [
    "A quadratic (non-linear) dataset can be for example"
   ]
  },
  {
   "cell_type": "code",
   "execution_count": null,
   "metadata": {},
   "outputs": [],
   "source": []
  },
  {
   "cell_type": "markdown",
   "metadata": {},
   "source": [
    "Applying a linear regression appraoch to the data by polynomial fitting \n",
    "---"
   ]
  },
  {
   "cell_type": "markdown",
   "metadata": {},
   "source": [
    "Regression is a tool to **deduct** from a sampled dataset to the general **circumstances** in the data. In other words I want to know which value I can expect at the positions where I wasn't able to measure...\n",
    "\n"
   ]
  },
  {
   "cell_type": "markdown",
   "metadata": {},
   "source": [
    "For a **linear function** like a line the connection of the meassured value y (dependent variable, verticale Axis) and x (independent variable, horizontal Axis) can be expressed like this: $ y = f(x) = b_0 + b_1 x $\n",
    "\n",
    "An examplary and very simple linear dataset could look like this:\n",
    "\n",
    "$\n",
    "\\begin{bmatrix}\n",
    "0, & 0.7\\\\\n",
    "1, & 0.5\\\\\n",
    "2, & 3.9\\\\\n",
    "3, & 3.2\\\\\n",
    "4, & 6.0\\\\\n",
    "5, & 8.0\\\\\n",
    "\\end{bmatrix}\n",
    "$"
   ]
  },
  {
   "cell_type": "markdown",
   "metadata": {},
   "source": [
    "With this function for every value-pair $(x_i, y_i)$ with $i=1...n$ an equation can be generated. From the $n$ measured values and therefor $n$ functional equations two parameters $b_0, b_1$ should be estimated. In the concrete case of $n = 6$ the  functional equations look like this:\n",
    "\n",
    "$ y_1 = b_0 + b_1 x_1 \\Longrightarrow  0.7 = b_0 + b_1 \\cdot 0$ \n",
    "\n",
    "$ y_2 = b_0 + b_1 x_2 \\Longrightarrow  0.5 = b_0 + b_1 \\cdot 1$ \n",
    "\n",
    "$ y_3 = b_0 + b_1 x_3 \\Longrightarrow  3.9 = b_0 + b_1 \\cdot 2$ \n",
    "\n",
    "$ y_4 = b_0 + b_1 x_4 \\Longrightarrow  3.2 = b_0 + b_1 \\cdot 3$ \n",
    "\n",
    "$ y_5 = b_0 + b_1 x_5 \\Longrightarrow  6 = b_0 + b_1 \\cdot 4$ \n",
    "\n",
    "$ y_6 = b_0 + b_1 x_6 \\Longrightarrow  8 = b_0 + b_1 \\cdot 5$ \n"
   ]
  },
  {
   "cell_type": "markdown",
   "metadata": {},
   "source": [
    "the following vectors can be assigned based on that:\n",
    "\n",
    "$\\vec x^T= [x_1, x_2, ..., x_n]$ and $\\vec y^T= [y_1, y_2, ..., y_n]$  as well as $\\vec b^T= [b_0, b_1]$ \n",
    "\n",
    "In the example $ \\vec x^T =[0,1,2,3,4,5 ]$, $\\vec y^T=[0.7 , 0.5 , 3.9 , 3.2 , 6.8 ]$ and I'm looking for the values of $\\vec b^T$.\n"
   ]
  },
  {
   "cell_type": "markdown",
   "metadata": {},
   "source": [
    "But in general the function $y = b_0 + b_1 \\cdot x $ is not fully correct, because in every meassured point a little error-value **$\\epsilon$** has to be added to the functional value (e.g. compare Theory of error propagation ...)\n",
    "\n",
    "Therefore it makes sense to extend the functional connection and to write it like this:\n",
    "\n",
    "$y = b_0 + b_1 x + \\epsilon$\n",
    "\n",
    "if I ... this equation to $\\epsilon$, I get a function of the measuring errors.\n",
    "\n",
    "$\\epsilon = y - b_0 - b_1 x $\n",
    "\n",
    "This function only depends on the measured data:\n",
    "$\\epsilon =\\epsilon(b_0,b_1) = y - b_0 - b_1 x $\n",
    "\n",
    "That's why for all meassured points $(x_i,y_i)$ the individual absolute error $\\epsilon_i$ can be calculated by:\n",
    "\n",
    "$\\epsilon_i = y_i - b_0 - b_1 x_i $ \n",
    "\n"
   ]
  },
  {
   "cell_type": "markdown",
   "metadata": {},
   "source": [
    "The idea at this point is to minimize all errors $\\epsilon_i$ over all meassured points. Regarding the quadratic error instaed of the absolut error and summing up the quadratic terms goes back to Carl Friedrich Gauss (ca. 1795) and Adrien-Marie Legendre (ca. 1806) and became famous under the names $\\textbf{Methoder der kleinsten Quadrate}$, $\\textbf{Least Squares Method}$/ or $\\textbf{Méthode des moindres carrés}$. Gauss found that meassuring errors in every measurement can be randomly distributed and effect therefor the meassuring results in an unwanted way by lowering ($\\epsilon_i$ negativ) or extending ($\\epsilon_i$ positiv) the meassured values. Random errors can't be eleminated from outside and even worse they can **eliminate** each other without the knowledge of the observer.\n",
    "\n",
    "To work with the quadratic error is a **Worst-Case estimate** because it's always better to overestimate than underestimating an error influence.\n",
    "\n",
    "The quadratic error is also called the L2-Norm :   $l_2(f_{\\theta}(x_i),y_i)=( y_i - f_{\\theta}(x_i) )^2$"
   ]
  },
  {
   "cell_type": "markdown",
   "metadata": {},
   "source": [
    "So the aim is now to minimize the sum of the quadratic errors,\n",
    "\n",
    "$\\sum (\\epsilon_i)^2 \\rightarrow $ Min\n"
   ]
  },
  {
   "cell_type": "markdown",
   "metadata": {},
   "source": [
    "to find a minimum of a function its fist derivative has to be set to zero. Therefor I calculate the fist derivatives\n",
    "regarding both of the variables\n",
    "\n",
    "$\\frac{\\partial \\sum (\\epsilon_i)^2}{\\partial b_0 }$ and $\\frac{\\partial \\sum (\\epsilon_i)^2}{\\partial b_1 }$:\n",
    "\n",
    "$\\frac{\\partial \\sum (\\epsilon_i)^2}{\\partial b_0 } = \\frac{\\partial \\sum (y_i - b_0 - b_1 x_i)^2}{\\partial b_0 }= -2 \\sum(y_i - b_0 - b_1 x_i)=0 $\n",
    "\n",
    "$\\frac{\\partial \\sum (\\epsilon_i)^2}{\\partial b_1 } = \\frac{\\partial \\sum (y_i - b_0 - b_1 x_i)^2}{\\partial b_1 }= -2 \\sum(y_i - b_0 - b_1 x_i) \\cdot x_i=0 $ "
   ]
  },
  {
   "cell_type": "markdown",
   "metadata": {},
   "source": [
    "The factor -2 can be ignored and the Sum-equations can be changed to:\n",
    "\n",
    "$  \\sum y_i =  \\sum b_0 + \\sum b_1 x_i $\n",
    "\n",
    "$  \\sum y_i x_i =  \\sum b_0 x_i + \\sum b_1 x_i^2 $\n",
    "\n",
    "These two equations are called the **Normal-equations**"
   ]
  },
  {
   "cell_type": "markdown",
   "metadata": {},
   "source": [
    "writing these equations in a matrix syntax leads to \n",
    "\n",
    "$\n",
    "\\begin{bmatrix}\n",
    "1&...&1\\\\\n",
    "x_1&...&x_n\n",
    "\\end{bmatrix}\n",
    "$\n",
    "$\n",
    "\\begin{bmatrix}\n",
    "y_1\\\\\n",
    ":\\\\\n",
    "y_n\n",
    "\\end{bmatrix}\n",
    "$=\n",
    "$\n",
    "\\begin{bmatrix}\n",
    "n& \\sum x_i\\\\\n",
    "\\sum x_i&\\sum x_i^2\n",
    "\\end{bmatrix}\n",
    "$\n",
    "$\\begin{bmatrix}\n",
    "b_0\\\\\n",
    "b_1\n",
    "\\end{bmatrix}$\n",
    "\n",
    "and \n",
    "\n",
    "$\n",
    "\\begin{bmatrix}\n",
    "1&...&1\\\\\n",
    "x_1&...&x_n\n",
    "\\end{bmatrix}\n",
    "$\n",
    "$\n",
    "\\begin{bmatrix}\n",
    "y_1\\\\\n",
    ":\\\\\n",
    "y_n\n",
    "\\end{bmatrix}\n",
    "$=\n",
    "$\n",
    "\\begin{bmatrix}\n",
    "1&...&1\\\\\n",
    "x_1&...&x_n\n",
    "\\end{bmatrix}\n",
    "$\n",
    "$\n",
    "\\begin{bmatrix}\n",
    "1&x_1\\\\\n",
    ": & :\\\\\n",
    "1&x_n\n",
    "\\end{bmatrix}\n",
    "$\n",
    "$\\begin{bmatrix}\n",
    "b_0\\\\\n",
    "b_1\n",
    "\\end{bmatrix}\n",
    "$"
   ]
  },
  {
   "cell_type": "markdown",
   "metadata": {},
   "source": [
    "I call the matrix \n",
    "A = $\n",
    "\\begin{bmatrix}\n",
    "1&x_1\\\\\n",
    ": & :\\\\\n",
    "1&x_n\n",
    "\\end{bmatrix}\n",
    "$\n",
    "the **Design-Matrix** of the regression problem"
   ]
  },
  {
   "cell_type": "markdown",
   "metadata": {},
   "source": [
    "I call the Vector $ \\vec b =\\begin{bmatrix}\n",
    "b_0\\\\\n",
    "b_1\n",
    "\\end{bmatrix}\n",
    "$  the **parameter vector** which shall be estimated\n",
    "\n",
    "\n",
    "und the Vector $ \\vec y = \n",
    "\\begin{bmatrix}\n",
    "y_1\\\\\n",
    ":\\\\\n",
    "y_n\n",
    "\\end{bmatrix}\n",
    "$ the **observations**"
   ]
  },
  {
   "cell_type": "markdown",
   "metadata": {},
   "source": [
    "therefor the equation above can be written as\n",
    "\n",
    "$A^T \\vec y = A^T A \\vec b$\n"
   ]
  },
  {
   "cell_type": "markdown",
   "metadata": {},
   "source": [
    "This Matix equation is just another way of writing the **Normal-equations** from above.\n",
    "\n",
    "The solution to derive the parameter vector $\\vec b$ can be reached fully analytically by inversion of the Design-Matrix product $A^T A $"
   ]
  },
  {
   "cell_type": "markdown",
   "metadata": {},
   "source": [
    "$\\vec b =( A^T A )^{-1} A^T \\vec y$\n"
   ]
  },
  {
   "cell_type": "markdown",
   "metadata": {},
   "source": [
    "This simple approach can now be extended to use higher polynomal degrees (>1) by simply adding more columns to the Design-Matrix $A$ which represent the coefficients $x^m$ and extending the parameter vector $\\vec b$ with the corresponding parameters $b_m$"
   ]
  },
  {
   "cell_type": "markdown",
   "metadata": {},
   "source": [
    "Matrix A = $\n",
    "\\begin{bmatrix}\n",
    "1&x_1&x_1^2&...&x_1^m\\\\\n",
    ": & :&:& ...&:\\\\\n",
    "1&x_n&x_n^2&...&x_n^m\n",
    "\\end{bmatrix}\n",
    "$\n",
    "and Vektor $ \\vec b =\\begin{bmatrix}\n",
    "b_0\\\\\n",
    "b_1\\\\\n",
    ":\\\\\n",
    "b_m\n",
    "\\end{bmatrix}$"
   ]
  },
  {
   "cell_type": "markdown",
   "metadata": {},
   "source": [
    "This general approach is called polynomial fitting but makes of course only sense for lower polynomial degrees (<5) because such models are very much prone for the so called over-fitting. In other words the estimated polynom tends to fit every point in the dataset which would result in an training error =0 while acting very poorly on new testing datasets.\n",
    "\n",
    "Minimizing the loss-function of the quadratic error leads to the closed mathematical solution from above. Beside of this \n",
    "solution there are numerous other loss-functions which can be minimized in the an equivalent way and which represent further estimation techniques for regression or classification problems (e.g. Ridge Regression, Logistic Regression,...).\n"
   ]
  },
  {
   "cell_type": "code",
   "execution_count": null,
   "metadata": {},
   "outputs": [],
   "source": []
  },
  {
   "cell_type": "markdown",
   "metadata": {},
   "source": [
    "After these theoretical consideration I get back to the genereted datasets from above.\n",
    "\n",
    "The Design-Matrix for the linear Regression problem can be easily generated by this lines of code"
   ]
  },
  {
   "cell_type": "code",
   "execution_count": 8,
   "metadata": {
    "collapsed": true
   },
   "outputs": [
    {
     "name": "stdout",
     "output_type": "stream",
     "text": [
      "[[ 1.          9.12233346]\n",
      " [ 1.          3.41749836]\n",
      " [ 1.          2.60506815]\n",
      " [ 1.          5.37802812]\n",
      " [ 1.          1.14980287]\n",
      " [ 1.          9.1867632 ]\n",
      " [ 1.          0.62954777]\n",
      " [ 1.          0.4562117 ]\n",
      " [ 1.          0.63835373]\n",
      " [ 1.          9.58631784]\n",
      " [ 1.          6.70810358]\n",
      " [ 1.          0.75128616]\n",
      " [ 1.          7.55437791]\n",
      " [ 1.          7.30746305]\n",
      " [ 1.          7.5254804 ]\n",
      " [ 1.          5.38817713]\n",
      " [ 1.          9.12648345]\n",
      " [ 1.          8.83403924]\n",
      " [ 1.          6.90832749]\n",
      " [ 1.          2.70648008]]\n"
     ]
    }
   ],
   "source": [
    "A1=np.zeros((20,2))\n",
    "A1[:,0]=1\n",
    "A1[:,1]=np.ravel(x)\n",
    "print(A1)"
   ]
  },
  {
   "cell_type": "markdown",
   "metadata": {},
   "source": [
    "The solution of the parameter vector $\\vec b$ is done by:"
   ]
  },
  {
   "cell_type": "code",
   "execution_count": 10,
   "metadata": {
    "collapsed": false
   },
   "outputs": [
    {
     "name": "stdout",
     "output_type": "stream",
     "text": [
      "[[ 15.0931049 ]\n",
      " [  6.29945104]]\n"
     ]
    }
   ],
   "source": [
    "b1=np.dot(np.linalg.inv(np.dot(A1.T,A1)),np.dot(A1.T,y))\n",
    "print(b1)"
   ]
  },
  {
   "cell_type": "markdown",
   "metadata": {},
   "source": [
    "the true source function I used to generate the data was $y = 6.3 \\cdot x+15$ so the estimate is pretty close.\n",
    "\n",
    "To controll the result with a build-in function of numeric python, I can use **polyfit()**"
   ]
  },
  {
   "cell_type": "code",
   "execution_count": 15,
   "metadata": {
    "collapsed": true
   },
   "outputs": [
    {
     "name": "stdout",
     "output_type": "stream",
     "text": [
      "numpy polyfit: Slope: [ 6.29945104] und y-offset: [ 15.0931049]\n",
      "own Estimate.: Slope: [ 6.29945104] und y-offset: [ 15.0931049]\n"
     ]
    }
   ],
   "source": [
    "s,p=np.polyfit(np.ravel(x),y,1)\n",
    "print( 'numpy polyfit: Slope: {} und y-offset: {}'.format(s,p))\n",
    "print( 'own Estimate.: Slope: {} und y-offset: {}'.format(b1[1],b1[0]))"
   ]
  },
  {
   "cell_type": "markdown",
   "metadata": {},
   "source": [
    "**Both results are equivalent!!!**"
   ]
  },
  {
   "cell_type": "markdown",
   "metadata": {},
   "source": [
    "We can now extend the Design-Matrix to describe a quadratic model by adding a column with the values of $x^2$\n",
    "\n",
    "see the following lines of code"
   ]
  },
  {
   "cell_type": "code",
   "execution_count": 17,
   "metadata": {
    "collapsed": false
   },
   "outputs": [
    {
     "name": "stdout",
     "output_type": "stream",
     "text": [
      "[[  1.           9.12233346  83.21696778]\n",
      " [  1.           3.41749836  11.67929503]\n",
      " [  1.           2.60506815   6.78638006]\n",
      " [  1.           5.37802812  28.92318646]\n",
      " [  1.           1.14980287   1.32204663]\n",
      " [  1.           9.1867632   84.39661811]\n",
      " [  1.           0.62954777   0.39633039]\n",
      " [  1.           0.4562117    0.20812911]\n",
      " [  1.           0.63835373   0.40749548]\n",
      " [  1.           9.58631784  91.8974897 ]\n",
      " [  1.           6.70810358  44.9986537 ]\n",
      " [  1.           0.75128616   0.56443089]\n",
      " [  1.           7.55437791  57.06862566]\n",
      " [  1.           7.30746305  53.39901626]\n",
      " [  1.           7.5254804   56.63285523]\n",
      " [  1.           5.38817713  29.03245278]\n",
      " [  1.           9.12648345  83.29270011]\n",
      " [  1.           8.83403924  78.04024938]\n",
      " [  1.           6.90832749  47.72498867]\n",
      " [  1.           2.70648008   7.32503443]]\n"
     ]
    }
   ],
   "source": [
    "A2=np.zeros((20,3))\n",
    "A2[:,0:2]=A1\n",
    "A2[:,2]=np.ravel(x*x)\n",
    "print(A2)"
   ]
  },
  {
   "cell_type": "markdown",
   "metadata": {},
   "source": [
    "Solving the same equation for the parameter vector b2 only by using the extended Design-Matrix results in:"
   ]
  },
  {
   "cell_type": "code",
   "execution_count": 24,
   "metadata": {
    "collapsed": false
   },
   "outputs": [
    {
     "name": "stdout",
     "output_type": "stream",
     "text": [
      "[[-14.24530803]\n",
      " [  6.84984242]\n",
      " [  3.03809201]]\n"
     ]
    }
   ],
   "source": [
    "b2=np.dot(np.linalg.inv(np.dot(A2.T,A2)),np.dot(A2.T,yq))\n",
    "print(b2)"
   ]
  },
  {
   "cell_type": "markdown",
   "metadata": {},
   "source": [
    "checking again the results with polyfit()"
   ]
  },
  {
   "cell_type": "code",
   "execution_count": 29,
   "metadata": {
    "collapsed": true
   },
   "outputs": [
    {
     "name": "stdout",
     "output_type": "stream",
     "text": [
      "numpy polyfit: b^2: [ 3.03809201]   b^1: [ 6.84984242] und b^0: [-14.24530803]\n",
      "own Estimate.: b^2: [ 3.03809201]   b^1: [ 6.84984242] und b^0: [-14.24530803]\n"
     ]
    }
   ],
   "source": [
    "qcoefs=np.polyfit(np.ravel(x),yq,2)\n",
    "print( 'numpy polyfit: b^2: {}   b^1: {} und b^0: {}'.format(qcoefs[0],qcoefs[1],qcoefs[2]))\n",
    "print( 'own Estimate.: b^2: {}   b^1: {} und b^0: {}'.format(b2[2],b2[1],b2[0]))"
   ]
  },
  {
   "cell_type": "markdown",
   "metadata": {},
   "source": [
    "and also **Both results are equivalent!!!**"
   ]
  },
  {
   "cell_type": "code",
   "execution_count": null,
   "metadata": {
    "collapsed": false
   },
   "outputs": [],
   "source": []
  },
  {
   "cell_type": "markdown",
   "metadata": {},
   "source": [
    "make the Plots\n",
    "---"
   ]
  },
  {
   "cell_type": "code",
   "execution_count": 40,
   "metadata": {
    "collapsed": true
   },
   "outputs": [],
   "source": [
    "xvals=np.arange(0,10,0.1)\n",
    "yqFit=qcoefs[0]*(xvals*xvals)+qcoefs[1]*xvals+qcoefs[2]"
   ]
  },
  {
   "cell_type": "code",
   "execution_count": null,
   "metadata": {
    "collapsed": false
   },
   "outputs": [],
   "source": []
  },
  {
   "cell_type": "code",
   "execution_count": 44,
   "metadata": {
    "collapsed": false
   },
   "outputs": [
    {
     "data": {
      "image/png": "[encoded data removed]",
      "text/plain": [
       "<matplotlib.figure.Figure at 0x114cbe860>"
      ]
     },
     "metadata": {},
     "output_type": "display_data"
    }
   ],
   "source": [
    "plt.plot(x,y,'b.',x,yq,'r.')\n",
    "plt.plot(xvals,s*xvals+p,'b--',label='Linear Fit')\n",
    "plt.plot(xvals,yqFit,'r--',label='Quadr. Fit')\n",
    "#plt.xlim(0,10)\n",
    "#plt.ylim(-40,350)\n",
    "plt.legend(loc='best')\n",
    "plt.show()"
   ]
  },
  {
   "cell_type": "code",
   "execution_count": null,
   "metadata": {
    "collapsed": true
   },
   "outputs": [],
   "source": []
  },
  {
   "cell_type": "code",
   "execution_count": null,
   "metadata": {},
   "outputs": [],
   "source": []
  }
 ],
 "metadata": {
  "kernelspec": {
   "display_name": "Python 3",
   "language": "python",
   "name": "python3"
  },
  "language_info": {
   "codemirror_mode": {
    "name": "ipython",
    "version": 3
   },
   "file_extension": ".py",
   "mimetype": "text/x-python",
   "name": "python",
   "nbconvert_exporter": "python",
   "pygments_lexer": "ipython3",
   "version": "3.4.5"
  }
 },
 "nbformat": 4,
 "nbformat_minor": 2
}
