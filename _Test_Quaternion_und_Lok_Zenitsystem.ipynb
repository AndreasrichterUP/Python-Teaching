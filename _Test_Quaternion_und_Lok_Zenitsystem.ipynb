{
 "cells": [
  {
   "cell_type": "code",
   "execution_count": 1,
   "metadata": {
    "collapsed": false
   },
   "outputs": [],
   "source": [
    "from QuaternionTools import Q_normalize,Q_conj,Q_rotateVector\n",
    "from QuaternionTools import Q_make, Q_inv, Q_mult\n",
    "import numpy as np\n",
    "from EllipsoidFuncs import *  #BLH2XYZ,XYZ2BLH\n",
    "from RotationMatrixTools import *"
   ]
  },
  {
   "cell_type": "markdown",
   "metadata": {
    "collapsed": true
   },
   "source": [
    "# Chaiten Vulkano\n",
    "# -42.B1=-42.839024° North  und -72.652945° East    H=890m\n",
    "# Chaiten Town\n",
    "# B=-42.922505° North und L=-72.729272° East  H=0m"
   ]
  },
  {
   "cell_type": "code",
   "execution_count": 2,
   "metadata": {
    "collapsed": false
   },
   "outputs": [
    {
     "name": "stdout",
     "output_type": "stream",
     "text": [
      "Chaiten Volcano located at: Lat:-42.839024° Lon:-72.652945° Hight:908.6489m\n",
      " [[ 1396813.96580858]\n",
      " [-4471715.2539631 ]\n",
      " [-4315023.66401024]] \n",
      "\n",
      "Chaiten Town, local Coordinate Origin located at: Lat:-42.922505° Lon:-72.729272° Hight:18.1882m\n",
      " [[ 1388788.28313284]\n",
      " [-4466922.38891514]\n",
      " [-4321213.89921993]] \n",
      "\n",
      "Coordinate diff between the two Point, related to WGS84: \n",
      " [[ 8025.68267574]\n",
      " [-4792.86504795]\n",
      " [ 6190.23520969]]\n",
      "\n",
      "Distance of the two points: 11211.697005 meters\n"
     ]
    }
   ],
   "source": [
    "# Coordinates of Chaiten Vulcano\n",
    "B1=-42.839024\n",
    "L1=-72.652945\n",
    "h1=890.0+18.6489\n",
    "# Chaiten Town will be Origin of local Coordinate-System\n",
    "B2=-42.922505\n",
    "L2=-72.729272\n",
    "h2=0.0+18.1882\n",
    "#http://geographiclib.sourceforge.net/cgi-bin/GeoidEval?input=-42.922505+-72.729272&option=Submit\n",
    "\n",
    "\n",
    "x1,y1,z1=BLH2XYZ(B1,L1,h1,\"WGS84\")\n",
    "Pv=np.array([[x1],[y1],[z1] ])\n",
    "print \"Chaiten Volcano located at: Lat:{}° Lon:{}° Hight:{}m\\n {} \\n\".format(B1,L1,h1,Pv)\n",
    "\n",
    "\n",
    "x2,y2,z2=BLH2XYZ(B2,L2,h2,\"WGS84\")\n",
    "Pchaiten=np.array([[x2],[y2],[z2] ])\n",
    "print \"Chaiten Town, local Coordinate Origin located at: Lat:{}° Lon:{}° Hight:{}m\\n {} \\n\".format(B2,L2,h2,Pchaiten)\n",
    "\n",
    "dx21=x1-x2\n",
    "dy21=y1-y2\n",
    "dz21=z1-z2\n",
    "\n",
    "#dx21=x2-x1\n",
    "#dy21=y2-y1\n",
    "#dz21=z2-z1\n",
    "\n",
    "dx=np.array([[dx21],[dy21],[dz21] ])\n",
    "print \"Coordinate diff between the two Point, related to WGS84: \\n {}\\n\".format(dx)\n",
    "\n",
    "print \"Distance of the two points: {} meters\".format(np.sqrt(np.dot(dx.T,dx))[0][0])\n"
   ]
  },
  {
   "cell_type": "code",
   "execution_count": 3,
   "metadata": {
    "collapsed": false
   },
   "outputs": [
    {
     "name": "stdout",
     "output_type": "stream",
     "text": [
      "[-0.80525991  0.          0.          0.59292198]\n",
      "[ 0.39936916  0.          0.9167902   0.        ]\n",
      "[-0.32159597  0.54358506 -0.7382544   0.23679475]\n",
      "\n",
      "Local Coordinates of the Vulcano in the ENU-Observersystem (East,North,Up) at Chaiten Town: \n",
      "\n",
      "[[ 6027.12140492]\n",
      " [ 9086.76511185]\n",
      " [ 2608.95709111]]\n",
      "11211.697005\n"
     ]
    }
   ],
   "source": [
    "qZ=Q_normalize(Q_make(360+L2,[0,0,1]))  # dreht um Z (R3) um Längengrad L\n",
    "print qZ\n",
    "qY=Q_normalize(Q_make((90-B2),[0,1,0]))  # dreht um Y (R2) um Breitengrad (90-B)\n",
    "print qY\n",
    "qYZ=Q_mult(qY,qZ) # räumliche Drehachse... kann daraus gerechnet werden\n",
    "print qYZ\n",
    "\n",
    "qp1=np.append([0],dx)\n",
    "pr1=Q_mult(Q_mult(qYZ,qp1),Q_inv(qYZ))\n",
    "qRotP1   = np.array([[pr1[1]],[pr1[2]],[pr1[3]]])\n",
    "qRotP1[1]=-qRotP1[1]\n",
    "qRotP1[2]=-qRotP1[2]\n",
    "\n",
    "print \"\\nLocal Coordinates of the Vulcano in the ENU-Observersystem (East,North,Up) at Chaiten Town: \\n\"\n",
    "print qRotP1\n",
    "\n",
    "print np.sqrt(np.dot(qRotP1.T,qRotP1))[0][0]"
   ]
  },
  {
   "cell_type": "code",
   "execution_count": 4,
   "metadata": {
    "collapsed": false
   },
   "outputs": [
    {
     "name": "stdout",
     "output_type": "stream",
     "text": [
      "distance Observer to Sat.:  [[ 11.211697]]  km\n",
      "local coordinates of the Sat [x y z] : \n",
      "[[ 6027.12140492]\n",
      " [ 9086.76511185]\n",
      " [ 2608.95709111]] \n",
      "\n",
      "Elevation of the Sat.:  [[ 13.4560591]] °\n",
      "Azimuth of the Sat.  :  [ 33.55574791] °\n"
     ]
    }
   ],
   "source": [
    "# Zenitwinkel\n",
    "sPS=np.sqrt(np.dot(qRotP1.T,qRotP1))\n",
    "print \"distance Observer to Sat.: \", sPS/1000 , \" km\"\n",
    "print \"local coordinates of the Sat [x y z] : \\n\", qRotP1,\"\\n\"\n",
    "\n",
    "Elev=np.arcsin(qRotP1[2]/sPS)\n",
    "print \"Elevation of the Sat.: \", Elev*180.0/np.pi , \"°\"\n",
    "\n",
    "Az=np.arctan2(qRotP1[0],qRotP1[1])   # qRotP1[0] = East ... Y Geodätisch und qRotP1[1] = North ... X geodätisch\n",
    "#Az=np.arccos(qRotP1[0]/(sPS*np.sin(Elev)))\n",
    "print \"Azimuth of the Sat.  : \",Az*180.0/np.pi, \"°\"\n",
    "\n",
    "#das ist eine Links system mit West, South, Down.... daher sind alle Koord... negativ!!!!\n",
    "\n",
    "# Veranschaulichung\n",
    "# http://www.geodz.com/deu/d/lokales_ellipsoidisches_Koordinatensystem\n"
   ]
  },
  {
   "cell_type": "markdown",
   "metadata": {},
   "source": [
    "# Test with Rot-Matrix"
   ]
  },
  {
   "cell_type": "code",
   "execution_count": null,
   "metadata": {
    "collapsed": false
   },
   "outputs": [],
   "source": [
    "R3L2=Rypr(L2,0,0)\n",
    "R2B2=Rypr(0,90-B2,0)\n",
    "\n",
    "dxz=np.dot(R3L2,dx)\n",
    "print \"local coordinates after Rotation around Z-Axis (R3)\"\n",
    "print \"dxz.T = \\n\",dxz, \"\\n\"\n",
    "\n",
    "dxzy=np.dot(R2B2,dxz)\n",
    "print \"local coordinates after Rotation around Y-Axis(R2)\"\n",
    "print \"dxzy.T = \\n\",dxzy\n",
    "print \"\\nApply S1, x-component negative  \"\n",
    "dxzy[0]=-dxzy[0]\n",
    "print \"\\nLocal coordinates of the Satellite in the ENU-Observersystem (East,North,Up)\"\n",
    "print \"dxzy.T = \\n\",dxzy\n"
   ]
  },
  {
   "cell_type": "code",
   "execution_count": null,
   "metadata": {
    "collapsed": true
   },
   "outputs": [],
   "source": []
  },
  {
   "cell_type": "code",
   "execution_count": null,
   "metadata": {
    "collapsed": true
   },
   "outputs": [],
   "source": []
  },
  {
   "cell_type": "markdown",
   "metadata": {},
   "source": [
    "# First Tests"
   ]
  },
  {
   "cell_type": "code",
   "execution_count": null,
   "metadata": {
    "collapsed": false
   },
   "outputs": [],
   "source": [
    "q1=Q_make(60,[0,0,5])\n",
    "print q1\n",
    "q2=Q_conj(q1)\n",
    "print q2\n",
    "print Q_normalize(q2)"
   ]
  },
  {
   "cell_type": "code",
   "execution_count": null,
   "metadata": {
    "collapsed": false
   },
   "outputs": [],
   "source": [
    "\n",
    "#makeQuat(60,[2,3,4])\n",
    "\n",
    "qE=Q_normalize(Q_make(60,[0,0,-1]))\n",
    "print \"Prüfung: \" , np.sqrt(np.dot(qE,qE))\n",
    "\n",
    "iQE=Q_inv(qE)\n",
    "\n",
    "Q_rotateVector([0,0,-1],60,[0,2,6])"
   ]
  },
  {
   "cell_type": "code",
   "execution_count": null,
   "metadata": {
    "collapsed": false
   },
   "outputs": [],
   "source": [
    "p=np.array([0,0,2,6])\n",
    "pr=Q_mult(Q_mult(qE,p),iQE)\n",
    "print pr"
   ]
  },
  {
   "cell_type": "code",
   "execution_count": null,
   "metadata": {
    "collapsed": false
   },
   "outputs": [],
   "source": [
    "arr=np.array([0,2,6])\n",
    "np.append([0],arr)"
   ]
  },
  {
   "cell_type": "markdown",
   "metadata": {},
   "source": [
    "# Koordinatenten des Ursprungspunktes des Lok. Zenitsystems"
   ]
  },
  {
   "cell_type": "code",
   "execution_count": null,
   "metadata": {
    "collapsed": false
   },
   "outputs": [],
   "source": [
    "print \"X: \",X, \"Y: \",Y,\"Z: \",Z, \"im WGS84 (geozentrisch)\""
   ]
  },
  {
   "cell_type": "code",
   "execution_count": null,
   "metadata": {
    "collapsed": false
   },
   "outputs": [],
   "source": [
    "print np.eye(3)[0,0]\n",
    "S1=np.eye(3)\n",
    "S1[0,0]=-S1[0,0]\n",
    "print S1"
   ]
  },
  {
   "cell_type": "markdown",
   "metadata": {},
   "source": [
    "# Rotationsquaternionen"
   ]
  },
  {
   "cell_type": "code",
   "execution_count": null,
   "metadata": {
    "collapsed": false
   },
   "outputs": [],
   "source": [
    "qZ=Q_normalize(Q_make(L2,[0,0,1]))  # dreht um Z (R3) um Längengrad L\n",
    "print qZ"
   ]
  },
  {
   "cell_type": "code",
   "execution_count": null,
   "metadata": {
    "collapsed": false
   },
   "outputs": [],
   "source": [
    "qY=Q_normalize(Q_make((90-B2),[0,1,0]))  # dreht um Y (R2) um Breitengrad (90-B)\n",
    "print qY"
   ]
  },
  {
   "cell_type": "code",
   "execution_count": null,
   "metadata": {
    "collapsed": false
   },
   "outputs": [],
   "source": [
    "qYZ=Q_mult(qZ,qY) # räumliche Drehachse... kann daraus gerechnet werden\n",
    "print qYZ"
   ]
  },
  {
   "cell_type": "code",
   "execution_count": null,
   "metadata": {
    "collapsed": false
   },
   "outputs": [],
   "source": [
    "arr1=np.array([dx21,dy21,dz21])\n",
    "qp1=np.append([0],arr1)\n",
    "\n",
    "pr1=Q_mult(Q_mult(qYZ,qp1),Q_inv(qYZ))\n",
    "RotP1   = np.array([pr1[1],pr1[2],pr1[3]])\n",
    "RotP1[0]=-RotP1[0]\n",
    "print RotP1\n",
    "print \" das sollten die Koordinaten im lokalen ell. Zenitsystem sein.......bitte validieren!!!\""
   ]
  },
  {
   "cell_type": "code",
   "execution_count": null,
   "metadata": {
    "collapsed": false
   },
   "outputs": [],
   "source": [
    "#687166 Ostwert  5245799 Nordwert\n",
    "#692056 Ostwert  5254192 Nordwert\n",
    "\n",
    "print np.sqrt(pow((692056-687166),2) + pow((5254192-5245799),2))\n",
    "print 844-15\n",
    "print np.sqrt(pow(9713.62697451,2) + pow(829,2))\n",
    "\n",
    "\n",
    "TestL2=Q_rotateVector([0,0,1],L2,[dx21,dy21,dz21])\n",
    "print TestL2\n",
    "TestL2B2=Q_rotateVector([0,1,0],(90-B2),TestL2)\n",
    "print TestL2B2\n"
   ]
  },
  {
   "cell_type": "markdown",
   "metadata": {},
   "source": [
    "# Rotationsmatrix R3"
   ]
  },
  {
   "cell_type": "code",
   "execution_count": null,
   "metadata": {
    "collapsed": false
   },
   "outputs": [],
   "source": [
    "R3=Rypr(L2,0,0)"
   ]
  },
  {
   "cell_type": "code",
   "execution_count": null,
   "metadata": {
    "collapsed": false
   },
   "outputs": [],
   "source": [
    "R2=Rypr(0,(90-B2),0)"
   ]
  },
  {
   "cell_type": "code",
   "execution_count": null,
   "metadata": {
    "collapsed": false
   },
   "outputs": [],
   "source": [
    "R3P=R3*np.array([[x1,y1,z1]]).T\n",
    "#print R3.shape\n",
    "#print R3P\n",
    "print \"   \"\n",
    "R2R3P1=S1*R2*R3P\n",
    "print R2R3P1\n",
    "\n",
    "R3P=R3*np.array([[x2,y2,z2]]).T\n",
    "#print R3.shape\n",
    "#print R3P\n",
    "print \"   \"\n",
    "R2R3P2=S1*R2*R3P\n",
    "print R2R3P2\n",
    "\n",
    "\n",
    "print \"  \"\n",
    "print R2R3P2 -R2R3P1"
   ]
  },
  {
   "cell_type": "markdown",
   "metadata": {},
   "source": [
    "# Der Punkt P(0, 2, 6) soll um 60° bzgl. der z-Achse rotiert werden. "
   ]
  },
  {
   "cell_type": "code",
   "execution_count": 1,
   "metadata": {
    "collapsed": false
   },
   "outputs": [
    {
     "ename": "NameError",
     "evalue": "name 'np' is not defined",
     "output_type": "error",
     "traceback": [
      "\u001b[0;31m---------------------------------------------------------------------------\u001b[0m",
      "\u001b[0;31mNameError\u001b[0m                                 Traceback (most recent call last)",
      "\u001b[0;32m<ipython-input-1-2fc9e86ea4e9>\u001b[0m in \u001b[0;36m<module>\u001b[0;34m()\u001b[0m\n\u001b[1;32m      8\u001b[0m \u001b[0;34m\u001b[0m\u001b[0m\n\u001b[1;32m      9\u001b[0m \u001b[0;31m#Einheitsquaternion erstellen\u001b[0m\u001b[0;34m\u001b[0m\u001b[0;34m\u001b[0m\u001b[0m\n\u001b[0;32m---> 10\u001b[0;31m \u001b[0mq\u001b[0m\u001b[0;34m=\u001b[0m\u001b[0mnp\u001b[0m\u001b[0;34m.\u001b[0m\u001b[0marray\u001b[0m\u001b[0;34m(\u001b[0m\u001b[0;34m[\u001b[0m \u001b[0mnp\u001b[0m\u001b[0;34m.\u001b[0m\u001b[0mcos\u001b[0m\u001b[0;34m(\u001b[0m\u001b[0;34m(\u001b[0m\u001b[0;36m60\u001b[0m\u001b[0;34m*\u001b[0m\u001b[0mmath\u001b[0m\u001b[0;34m.\u001b[0m\u001b[0mpi\u001b[0m\u001b[0;34m)\u001b[0m\u001b[0;34m/\u001b[0m\u001b[0;34m(\u001b[0m\u001b[0;36m2\u001b[0m\u001b[0;34m*\u001b[0m\u001b[0;36m180\u001b[0m\u001b[0;34m)\u001b[0m\u001b[0;34m)\u001b[0m\u001b[0;34m,\u001b[0m\u001b[0;36m0\u001b[0m\u001b[0;34m,\u001b[0m\u001b[0;36m0\u001b[0m\u001b[0;34m,\u001b[0m\u001b[0;34m-\u001b[0m\u001b[0;36m1\u001b[0m\u001b[0;34m*\u001b[0m\u001b[0mnp\u001b[0m\u001b[0;34m.\u001b[0m\u001b[0msin\u001b[0m\u001b[0;34m(\u001b[0m\u001b[0;34m(\u001b[0m\u001b[0;36m60\u001b[0m\u001b[0;34m*\u001b[0m\u001b[0mmath\u001b[0m\u001b[0;34m.\u001b[0m\u001b[0mpi\u001b[0m\u001b[0;34m)\u001b[0m\u001b[0;34m/\u001b[0m\u001b[0;34m(\u001b[0m\u001b[0;36m2\u001b[0m\u001b[0;34m*\u001b[0m\u001b[0;36m180\u001b[0m\u001b[0;34m)\u001b[0m\u001b[0;34m)\u001b[0m \u001b[0;34m]\u001b[0m \u001b[0;34m)\u001b[0m\u001b[0;34m\u001b[0m\u001b[0m\n\u001b[0m\u001b[1;32m     11\u001b[0m \u001b[0;32mprint\u001b[0m \u001b[0mq\u001b[0m\u001b[0;34m\u001b[0m\u001b[0m\n\u001b[1;32m     12\u001b[0m \u001b[0;34m\u001b[0m\u001b[0m\n",
      "\u001b[0;31mNameError\u001b[0m: name 'np' is not defined"
     ]
    }
   ],
   "source": [
    "w=60\n",
    "x=0\n",
    "y=2\n",
    "z=6\n",
    "\n",
    "#Rotationsachse = Z-Achse\n",
    "# --> Quaternion Imaginärteil [0,0,1]  is die Rotationachse um die gedreht wird\n",
    "\n",
    "#Einheitsquaternion erstellen\n",
    "q=np.array([ np.cos((60*math.pi)/(2*180)),0,0,-1*np.sin((60*math.pi)/(2*180)) ] )\n",
    "print q\n",
    "\n",
    "# Normieren des Quaternions\n",
    "print np.sqrt(np.dot(q,q))\n",
    "\n",
    "qE=q/np.sqrt(np.dot(q,q))\n",
    "print qE\n",
    "\n",
    "print \"Prüfung: \" , np.sqrt(np.dot(qE,qE))\n",
    "\n",
    "\n",
    "## Rotation des Vektors [0,2,6] um 60°\n",
    "# Erweitern des Vektors auf 4.Dim, einfach 0 als erste Komponente hinzufügen\n",
    "p=np.array([0,0,2,6])\n",
    "print p\n",
    "# inverse von qE bilden, ist gleich dem konjugierten weil Einheitsquaternion\n",
    "iqE=-qE\n",
    "iqE[0]=-iqE[0]\n",
    "print iqE\n",
    "\n",
    "#ausführen der Rotation als quaternionen Multiplikation\n",
    "pr=q_mult(q_mult(qE,p),iqE)\n",
    "print pr\n",
    "\n",
    "pr=q_mult(qE,q_mult(p,iqE))\n",
    "print pr"
   ]
  },
  {
   "cell_type": "code",
   "execution_count": null,
   "metadata": {
    "collapsed": false
   },
   "outputs": [],
   "source": []
  },
  {
   "cell_type": "code",
   "execution_count": null,
   "metadata": {
    "collapsed": false
   },
   "outputs": [],
   "source": [
    "w1, x1, y1, z1 = qE\n",
    "print w1,x1, y1, z1"
   ]
  },
  {
   "cell_type": "code",
   "execution_count": null,
   "metadata": {
    "collapsed": true
   },
   "outputs": [],
   "source": [
    "#Rotationsmatrix\n",
    "def Rypr(y, p, r):\n",
    "    '''\n",
    "    Rotationsmatrix für y=yaw, p=pitch, r=roll in degrees\n",
    "    '''\n",
    "    # from Degree to Radians\n",
    "    y = y*np.pi/180.0\n",
    "    p = p*np.pi/180.0\n",
    "    r = r*np.pi/180.0\n",
    " \n",
    "    Rr = np.matrix([[1.0, 0.0, 0.0],[0.0, np.cos(r), -np.sin(r)],[0.0, np.sin(r), np.cos(r)]])\n",
    "    Rp = np.matrix([[np.cos(p), 0.0, np.sin(p)],[0.0, 1.0, 0.0],[-np.sin(p), 0.0, np.cos(p)]])\n",
    "    Ry = np.matrix([[np.cos(y), -np.sin(y), 0.0],[np.sin(y), np.cos(y), 0.0],[0.0, 0.0, 1.0]])\n",
    " \n",
    "    return Ry*Rp*Rr"
   ]
  },
  {
   "cell_type": "code",
   "execution_count": null,
   "metadata": {
    "collapsed": true
   },
   "outputs": [],
   "source": [
    "def normQ(q):\n",
    "    '''Calculates the normalized Quaternion\n",
    "    a is the real part\n",
    "    b, c, d are the complex elements'''\n",
    "    # Source: Buchholz, J. J. (2013). Vorlesungsmanuskript Regelungstechnik und Flugregler.\n",
    "    # GRIN Verlag. Retrieved from http://www.grin.com/de/e-book/82818/regelungstechnik-und-flugregler\n",
    "    a, b, c, d = q\n",
    " \n",
    "    # Betrag\n",
    "    Z = np.sqrt(a**2+b**2+c**2+d**2)\n",
    " \n",
    "    return np.array([a/Z,b/Z,c/Z,d/Z])"
   ]
  }
 ],
 "metadata": {
  "kernelspec": {
   "display_name": "Python 2",
   "language": "python",
   "name": "python2"
  },
  "language_info": {
   "codemirror_mode": {
    "name": "ipython",
    "version": 2
   },
   "file_extension": ".py",
   "mimetype": "text/x-python",
   "name": "python",
   "nbconvert_exporter": "python",
   "pygments_lexer": "ipython2",
   "version": "2.7.13"
  }
 },
 "nbformat": 4,
 "nbformat_minor": 0
}
