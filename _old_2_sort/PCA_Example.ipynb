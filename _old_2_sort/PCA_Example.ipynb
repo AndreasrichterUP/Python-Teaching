{
 "cells": [
  {
   "cell_type": "code",
   "execution_count": 23,
   "metadata": {
    "collapsed": true
   },
   "outputs": [],
   "source": [
    "import numpy as np\n",
    "import numpy.linalg as lina\n",
    "import pandas as pd\n",
    "import matplotlib.pyplot as plt\n",
    "%matplotlib inline\n",
    "from sklearn.decomposition import PCA as SKPCA"
   ]
  },
  {
   "cell_type": "code",
   "execution_count": 2,
   "metadata": {
    "collapsed": false
   },
   "outputs": [],
   "source": [
    "from skimage import io as skio"
   ]
  },
  {
   "cell_type": "code",
   "execution_count": 3,
   "metadata": {
    "collapsed": false
   },
   "outputs": [],
   "source": [
    "red=skio.imread(\"_Tif/po_221141_red_sub.tif\")\n",
    "red10x10=red[400:410,50:60]\n",
    "ired=skio.imread(\"_Tif/po_221141_nir_sub.tif\")\n",
    "ired10x10=ired[400:410,50:60]\n",
    "gree=skio.imread(\"_Tif/po_221141_green_sub.tif\")\n",
    "gree10x10=gree[400:410,50:60]\n",
    "\n"
   ]
  },
  {
   "cell_type": "code",
   "execution_count": 4,
   "metadata": {
    "collapsed": false
   },
   "outputs": [
    {
     "data": {
      "image/png": "[encoded data removed]",
      "text/plain": [
       "<matplotlib.figure.Figure at 0x1176494d0>"
      ]
     },
     "metadata": {},
     "output_type": "display_data"
    },
    {
     "data": {
      "image/png": "[encoded data removed]",
      "text/plain": [
       "<matplotlib.figure.Figure at 0x117649490>"
      ]
     },
     "metadata": {},
     "output_type": "display_data"
    }
   ],
   "source": [
    "plt.imshow(red10x10,interpolation='none')\n",
    "plt.show()\n",
    "plt.imshow(gree10x10,interpolation='none')\n",
    "plt.show()"
   ]
  },
  {
   "cell_type": "code",
   "execution_count": 6,
   "metadata": {
    "collapsed": false
   },
   "outputs": [
    {
     "name": "stdout",
     "output_type": "stream",
     "text": [
      "[[614 600 615 627 629 637 671 711 698 657]\n",
      " [616 616 614 617 622 602 605 642 701 689]\n",
      " [625 619 615 615 612 598 586 602 634 662]\n",
      " [614 609 605 602 589 583 590 607 612 645]\n",
      " [606 600 598 582 575 576 585 597 604 616]\n",
      " [597 590 583 568 565 573 587 590 598 609]\n",
      " [599 584 576 574 569 576 590 594 599 612]\n",
      " [600 573 566 577 579 585 595 597 595 602]\n",
      " [607 586 572 580 587 586 593 598 594 595]\n",
      " [605 597 589 586 587 588 587 591 597 594]] \n",
      "\n",
      "[[580 559 594 619 615 626 652 694 695 653]\n",
      " [568 595 600 593 608 597 597 635 672 659]\n",
      " [606 601 601 611 588 566 567 576 620 653]\n",
      " [602 603 598 587 569 557 562 583 598 635]\n",
      " [583 587 576 560 549 539 564 586 587 601]\n",
      " [583 569 557 544 536 553 572 574 579 595]\n",
      " [583 553 546 547 547 558 573 577 574 601]\n",
      " [582 551 545 553 556 560 573 580 576 586]\n",
      " [590 568 556 553 566 578 583 583 573 583]\n",
      " [596 579 572 565 569 574 569 570 574 576]] \n",
      "\n",
      "[[836 792 753 728 718 737 769 794 799 777]\n",
      " [789 726 728 725 721 707 684 717 766 758]\n",
      " [717 719 717 719 696 667 668 696 736 757]\n",
      " [716 726 706 672 662 663 672 688 703 735]\n",
      " [701 694 681 664 646 657 672 683 693 709]\n",
      " [681 671 672 660 648 651 669 685 695 707]\n",
      " [685 667 665 663 658 660 672 695 699 703]\n",
      " [688 663 650 657 664 667 675 686 697 702]\n",
      " [696 672 657 663 671 677 686 683 678 687]\n",
      " [691 678 671 669 665 665 672 681 687 685]]\n"
     ]
    }
   ],
   "source": [
    "print gree10x10, \"\\n\"\n",
    "print red10x10, \"\\n\"\n",
    "print ired10x10"
   ]
  },
  {
   "cell_type": "code",
   "execution_count": null,
   "metadata": {
    "collapsed": true
   },
   "outputs": [],
   "source": []
  },
  {
   "cell_type": "code",
   "execution_count": 45,
   "metadata": {
    "collapsed": false
   },
   "outputs": [
    {
     "name": "stdout",
     "output_type": "stream",
     "text": [
      "[[ 580.  836.  614.]\n",
      " [ 559.  792.  600.]\n",
      " [ 594.  753.  615.]\n",
      " [ 619.  728.  627.]\n",
      " [ 615.  718.  629.]\n",
      " [ 626.  737.  637.]\n",
      " [ 652.  769.  671.]\n",
      " [ 694.  794.  711.]\n",
      " [ 695.  799.  698.]\n",
      " [ 653.  777.  657.]\n",
      " [ 568.  789.  616.]\n",
      " [ 595.  726.  616.]\n",
      " [ 600.  728.  614.]\n",
      " [ 593.  725.  617.]\n",
      " [ 608.  721.  622.]\n",
      " [ 597.  707.  602.]\n",
      " [ 597.  684.  605.]\n",
      " [ 635.  717.  642.]\n",
      " [ 672.  766.  701.]\n",
      " [ 659.  758.  689.]\n",
      " [ 606.  717.  625.]\n",
      " [ 601.  719.  619.]\n",
      " [ 601.  717.  615.]\n",
      " [ 611.  719.  615.]\n",
      " [ 588.  696.  612.]\n",
      " [ 566.  667.  598.]\n",
      " [ 567.  668.  586.]\n",
      " [ 576.  696.  602.]\n",
      " [ 620.  736.  634.]\n",
      " [ 653.  757.  662.]\n",
      " [ 602.  716.  614.]\n",
      " [ 603.  726.  609.]\n",
      " [ 598.  706.  605.]\n",
      " [ 587.  672.  602.]\n",
      " [ 569.  662.  589.]\n",
      " [ 557.  663.  583.]\n",
      " [ 562.  672.  590.]\n",
      " [ 583.  688.  607.]\n",
      " [ 598.  703.  612.]\n",
      " [ 635.  735.  645.]\n",
      " [ 583.  701.  606.]\n",
      " [ 587.  694.  600.]\n",
      " [ 576.  681.  598.]\n",
      " [ 560.  664.  582.]\n",
      " [ 549.  646.  575.]\n",
      " [ 539.  657.  576.]\n",
      " [ 564.  672.  585.]\n",
      " [ 586.  683.  597.]\n",
      " [ 587.  693.  604.]\n",
      " [ 601.  709.  616.]\n",
      " [ 583.  681.  597.]\n",
      " [ 569.  671.  590.]\n",
      " [ 557.  672.  583.]\n",
      " [ 544.  660.  568.]\n",
      " [ 536.  648.  565.]\n",
      " [ 553.  651.  573.]\n",
      " [ 572.  669.  587.]\n",
      " [ 574.  685.  590.]\n",
      " [ 579.  695.  598.]\n",
      " [ 595.  707.  609.]\n",
      " [ 583.  685.  599.]\n",
      " [ 553.  667.  584.]\n",
      " [ 546.  665.  576.]\n",
      " [ 547.  663.  574.]\n",
      " [ 547.  658.  569.]\n",
      " [ 558.  660.  576.]\n",
      " [ 573.  672.  590.]\n",
      " [ 577.  695.  594.]\n",
      " [ 574.  699.  599.]\n",
      " [ 601.  703.  612.]\n",
      " [ 582.  688.  600.]\n",
      " [ 551.  663.  573.]\n",
      " [ 545.  650.  566.]\n",
      " [ 553.  657.  577.]\n",
      " [ 556.  664.  579.]\n",
      " [ 560.  667.  585.]\n",
      " [ 573.  675.  595.]\n",
      " [ 580.  686.  597.]\n",
      " [ 576.  697.  595.]\n",
      " [ 586.  702.  602.]\n",
      " [ 590.  696.  607.]\n",
      " [ 568.  672.  586.]\n",
      " [ 556.  657.  572.]\n",
      " [ 553.  663.  580.]\n",
      " [ 566.  671.  587.]\n",
      " [ 578.  677.  586.]\n",
      " [ 583.  686.  593.]\n",
      " [ 583.  683.  598.]\n",
      " [ 573.  678.  594.]\n",
      " [ 583.  687.  595.]\n",
      " [ 596.  691.  605.]\n",
      " [ 579.  678.  597.]\n",
      " [ 572.  671.  589.]\n",
      " [ 565.  669.  586.]\n",
      " [ 569.  665.  587.]\n",
      " [ 574.  665.  588.]\n",
      " [ 569.  672.  587.]\n",
      " [ 570.  681.  591.]\n",
      " [ 574.  687.  597.]\n",
      " [ 576.  685.  594.]]\n"
     ]
    }
   ],
   "source": [
    "Data=np.zeros([100,3])\n",
    "\n",
    "Data[:,0]=red10x10.reshape(100,1).ravel()\n",
    "Data[:,1]=ired10x10.reshape(100,1).ravel()\n",
    "Data[:,2]=gree10x10.reshape(100,1).ravel()\n",
    "\n",
    "print Data\n"
   ]
  },
  {
   "cell_type": "code",
   "execution_count": 46,
   "metadata": {
    "collapsed": false
   },
   "outputs": [
    {
     "name": "stdout",
     "output_type": "stream",
     "text": [
      "[[  961.2404   888.7172   842.8738]\n",
      " [  888.7172  1414.7896   867.4584]\n",
      " [  842.8738   867.4584   785.8011]]\n",
      "[ 0.8914363   0.10188946  0.00667424]\n"
     ]
    }
   ],
   "source": [
    "pca = SKPCA(n_components=3)\n",
    "pca.fit(Data)\n",
    "print pca.get_covariance()\n",
    "print(pca.explained_variance_ratio_) "
   ]
  },
  {
   "cell_type": "code",
   "execution_count": 32,
   "metadata": {
    "collapsed": false
   },
   "outputs": [
    {
     "name": "stdout",
     "output_type": "stream",
     "text": [
      "[[ 1.         0.7620819]\n",
      " [ 0.7620819  1.       ]]\n"
     ]
    }
   ],
   "source": [
    "print np.corrcoef(Data[:,0],Data[:,1])\n",
    "#print np.corrcoef(Data[:,1],Data[:,2])\n",
    "#print np.corrcoef(Data[:,0],Data[:,2])"
   ]
  },
  {
   "cell_type": "code",
   "execution_count": 36,
   "metadata": {
    "collapsed": false
   },
   "outputs": [
    {
     "name": "stdout",
     "output_type": "stream",
     "text": [
      "[[  970.94989899   897.69414141]\n",
      " [  897.69414141  1429.08040404]]\n",
      "970.94989899\n",
      "1429.08040404\n",
      "Sum of Variances: 2400.03030303\n"
     ]
    }
   ],
   "source": [
    "COV=np.cov(Data[:,0],Data[:,1])\n",
    "print COV\n",
    "print COV[0,0]\n",
    "print COV[1,1]\n",
    "#print COV[2,2]\n",
    "print \"Sum of Variances: {}\".format(COV[0,0]+COV[1,1])\n",
    "#print \"Sum of Variances: {}\".format(COV[0,0]+COV[1,1]+COV[2,2])"
   ]
  },
  {
   "cell_type": "code",
   "execution_count": null,
   "metadata": {
    "collapsed": false
   },
   "outputs": [],
   "source": [
    "plt.plot(Data[:,0],Data[:,1],\".r\")\n",
    "plt.show()"
   ]
  },
  {
   "cell_type": "code",
   "execution_count": 16,
   "metadata": {
    "collapsed": false
   },
   "outputs": [
    {
     "name": "stdout",
     "output_type": "stream",
     "text": [
      "-------------------------------\n",
      "\n",
      "Means of data columns \n",
      " [ 584.86  696.48  603.67]\n",
      "-------------------------------\n",
      "\n"
     ]
    }
   ],
   "source": [
    "print '-------------------------------\\n'\n",
    "print 'Means of data columns \\n {}'.format(np.mean(Data,axis=0))\n",
    "print '-------------------------------\\n'"
   ]
  },
  {
   "cell_type": "code",
   "execution_count": 37,
   "metadata": {
    "collapsed": false
   },
   "outputs": [
    {
     "name": "stdout",
     "output_type": "stream",
     "text": [
      "[[  -4.86  139.52]\n",
      " [ -25.86   95.52]\n",
      " [   9.14   56.52]\n",
      " [  34.14   31.52]\n",
      " [  30.14   21.52]\n",
      " [  41.14   40.52]\n",
      " [  67.14   72.52]\n",
      " [ 109.14   97.52]\n",
      " [ 110.14  102.52]\n",
      " [  68.14   80.52]\n",
      " [ -16.86   92.52]\n",
      " [  10.14   29.52]\n",
      " [  15.14   31.52]\n",
      " [   8.14   28.52]\n",
      " [  23.14   24.52]\n",
      " [  12.14   10.52]\n",
      " [  12.14  -12.48]\n",
      " [  50.14   20.52]\n",
      " [  87.14   69.52]\n",
      " [  74.14   61.52]\n",
      " [  21.14   20.52]\n",
      " [  16.14   22.52]\n",
      " [  16.14   20.52]\n",
      " [  26.14   22.52]\n",
      " [   3.14   -0.48]\n",
      " [ -18.86  -29.48]\n",
      " [ -17.86  -28.48]\n",
      " [  -8.86   -0.48]\n",
      " [  35.14   39.52]\n",
      " [  68.14   60.52]\n",
      " [  17.14   19.52]\n",
      " [  18.14   29.52]\n",
      " [  13.14    9.52]\n",
      " [   2.14  -24.48]\n",
      " [ -15.86  -34.48]\n",
      " [ -27.86  -33.48]\n",
      " [ -22.86  -24.48]\n",
      " [  -1.86   -8.48]\n",
      " [  13.14    6.52]\n",
      " [  50.14   38.52]\n",
      " [  -1.86    4.52]\n",
      " [   2.14   -2.48]\n",
      " [  -8.86  -15.48]\n",
      " [ -24.86  -32.48]\n",
      " [ -35.86  -50.48]\n",
      " [ -45.86  -39.48]\n",
      " [ -20.86  -24.48]\n",
      " [   1.14  -13.48]\n",
      " [   2.14   -3.48]\n",
      " [  16.14   12.52]\n",
      " [  -1.86  -15.48]\n",
      " [ -15.86  -25.48]\n",
      " [ -27.86  -24.48]\n",
      " [ -40.86  -36.48]\n",
      " [ -48.86  -48.48]\n",
      " [ -31.86  -45.48]\n",
      " [ -12.86  -27.48]\n",
      " [ -10.86  -11.48]\n",
      " [  -5.86   -1.48]\n",
      " [  10.14   10.52]\n",
      " [  -1.86  -11.48]\n",
      " [ -31.86  -29.48]\n",
      " [ -38.86  -31.48]\n",
      " [ -37.86  -33.48]\n",
      " [ -37.86  -38.48]\n",
      " [ -26.86  -36.48]\n",
      " [ -11.86  -24.48]\n",
      " [  -7.86   -1.48]\n",
      " [ -10.86    2.52]\n",
      " [  16.14    6.52]\n",
      " [  -2.86   -8.48]\n",
      " [ -33.86  -33.48]\n",
      " [ -39.86  -46.48]\n",
      " [ -31.86  -39.48]\n",
      " [ -28.86  -32.48]\n",
      " [ -24.86  -29.48]\n",
      " [ -11.86  -21.48]\n",
      " [  -4.86  -10.48]\n",
      " [  -8.86    0.52]\n",
      " [   1.14    5.52]\n",
      " [   5.14   -0.48]\n",
      " [ -16.86  -24.48]\n",
      " [ -28.86  -39.48]\n",
      " [ -31.86  -33.48]\n",
      " [ -18.86  -25.48]\n",
      " [  -6.86  -19.48]\n",
      " [  -1.86  -10.48]\n",
      " [  -1.86  -13.48]\n",
      " [ -11.86  -18.48]\n",
      " [  -1.86   -9.48]\n",
      " [  11.14   -5.48]\n",
      " [  -5.86  -18.48]\n",
      " [ -12.86  -25.48]\n",
      " [ -19.86  -27.48]\n",
      " [ -15.86  -31.48]\n",
      " [ -10.86  -31.48]\n",
      " [ -15.86  -24.48]\n",
      " [ -14.86  -15.48]\n",
      " [ -10.86   -9.48]\n",
      " [  -8.86  -11.48]]\n"
     ]
    }
   ],
   "source": [
    "CenterData=Data - np.mean(Data,axis=0 )\n",
    "print CenterData"
   ]
  },
  {
   "cell_type": "code",
   "execution_count": 47,
   "metadata": {
    "collapsed": false
   },
   "outputs": [
    {
     "ename": "ValueError",
     "evalue": "The truth value of an array with more than one element is ambiguous. Use a.any() or a.all()",
     "output_type": "error",
     "traceback": [
      "\u001b[0;31m---------------------------------------------------------------------------\u001b[0m",
      "\u001b[0;31mValueError\u001b[0m                                Traceback (most recent call last)",
      "\u001b[0;32m<ipython-input-47-f673186bf682>\u001b[0m in \u001b[0;36m<module>\u001b[0;34m()\u001b[0m\n\u001b[0;32m----> 1\u001b[0;31m \u001b[0mnp\u001b[0m\u001b[0;34m.\u001b[0m\u001b[0mcorrcoef\u001b[0m\u001b[0;34m(\u001b[0m\u001b[0mCenterData\u001b[0m\u001b[0;34m[\u001b[0m\u001b[0;34m:\u001b[0m\u001b[0;34m,\u001b[0m\u001b[0;36m0\u001b[0m\u001b[0;34m]\u001b[0m\u001b[0;34m,\u001b[0m\u001b[0mCenterData\u001b[0m\u001b[0;34m[\u001b[0m\u001b[0;34m:\u001b[0m\u001b[0;34m,\u001b[0m\u001b[0;36m1\u001b[0m\u001b[0;34m]\u001b[0m\u001b[0;34m,\u001b[0m\u001b[0mCenterData\u001b[0m\u001b[0;34m[\u001b[0m\u001b[0;34m:\u001b[0m\u001b[0;34m,\u001b[0m\u001b[0;36m1\u001b[0m\u001b[0;34m]\u001b[0m\u001b[0;34m)\u001b[0m\u001b[0;34m\u001b[0m\u001b[0m\n\u001b[0m",
      "\u001b[0;32m/Users/andreasrichter/anaconda/lib/python2.7/site-packages/numpy/lib/function_base.pyc\u001b[0m in \u001b[0;36mcorrcoef\u001b[0;34m(x, y, rowvar, bias, ddof)\u001b[0m\n\u001b[1;32m   2143\u001b[0m         warnings.warn('bias and ddof have no affect and are deprecated',\n\u001b[1;32m   2144\u001b[0m                       DeprecationWarning)\n\u001b[0;32m-> 2145\u001b[0;31m     \u001b[0mc\u001b[0m \u001b[0;34m=\u001b[0m \u001b[0mcov\u001b[0m\u001b[0;34m(\u001b[0m\u001b[0mx\u001b[0m\u001b[0;34m,\u001b[0m \u001b[0my\u001b[0m\u001b[0;34m,\u001b[0m \u001b[0mrowvar\u001b[0m\u001b[0;34m)\u001b[0m\u001b[0;34m\u001b[0m\u001b[0m\n\u001b[0m\u001b[1;32m   2146\u001b[0m     \u001b[0;32mtry\u001b[0m\u001b[0;34m:\u001b[0m\u001b[0;34m\u001b[0m\u001b[0m\n\u001b[1;32m   2147\u001b[0m         \u001b[0md\u001b[0m \u001b[0;34m=\u001b[0m \u001b[0mdiag\u001b[0m\u001b[0;34m(\u001b[0m\u001b[0mc\u001b[0m\u001b[0;34m)\u001b[0m\u001b[0;34m\u001b[0m\u001b[0m\n",
      "\u001b[0;32m/Users/andreasrichter/anaconda/lib/python2.7/site-packages/numpy/lib/function_base.pyc\u001b[0m in \u001b[0;36mcov\u001b[0;34m(m, y, rowvar, bias, ddof, fweights, aweights)\u001b[0m\n\u001b[1;32m   2014\u001b[0m         \u001b[0mdtype\u001b[0m \u001b[0;34m=\u001b[0m \u001b[0mnp\u001b[0m\u001b[0;34m.\u001b[0m\u001b[0mresult_type\u001b[0m\u001b[0;34m(\u001b[0m\u001b[0mm\u001b[0m\u001b[0;34m,\u001b[0m \u001b[0my\u001b[0m\u001b[0;34m,\u001b[0m \u001b[0mnp\u001b[0m\u001b[0;34m.\u001b[0m\u001b[0mfloat64\u001b[0m\u001b[0;34m)\u001b[0m\u001b[0;34m\u001b[0m\u001b[0m\n\u001b[1;32m   2015\u001b[0m     \u001b[0mX\u001b[0m \u001b[0;34m=\u001b[0m \u001b[0marray\u001b[0m\u001b[0;34m(\u001b[0m\u001b[0mm\u001b[0m\u001b[0;34m,\u001b[0m \u001b[0mndmin\u001b[0m\u001b[0;34m=\u001b[0m\u001b[0;36m2\u001b[0m\u001b[0;34m,\u001b[0m \u001b[0mdtype\u001b[0m\u001b[0;34m=\u001b[0m\u001b[0mdtype\u001b[0m\u001b[0;34m)\u001b[0m\u001b[0;34m\u001b[0m\u001b[0m\n\u001b[0;32m-> 2016\u001b[0;31m     \u001b[0;32mif\u001b[0m \u001b[0mrowvar\u001b[0m \u001b[0;34m==\u001b[0m \u001b[0;36m0\u001b[0m \u001b[0;32mand\u001b[0m \u001b[0mX\u001b[0m\u001b[0;34m.\u001b[0m\u001b[0mshape\u001b[0m\u001b[0;34m[\u001b[0m\u001b[0;36m0\u001b[0m\u001b[0;34m]\u001b[0m \u001b[0;34m!=\u001b[0m \u001b[0;36m1\u001b[0m\u001b[0;34m:\u001b[0m\u001b[0;34m\u001b[0m\u001b[0m\n\u001b[0m\u001b[1;32m   2017\u001b[0m         \u001b[0mX\u001b[0m \u001b[0;34m=\u001b[0m \u001b[0mX\u001b[0m\u001b[0;34m.\u001b[0m\u001b[0mT\u001b[0m\u001b[0;34m\u001b[0m\u001b[0m\n\u001b[1;32m   2018\u001b[0m     \u001b[0;32mif\u001b[0m \u001b[0mX\u001b[0m\u001b[0;34m.\u001b[0m\u001b[0mshape\u001b[0m\u001b[0;34m[\u001b[0m\u001b[0;36m0\u001b[0m\u001b[0;34m]\u001b[0m \u001b[0;34m==\u001b[0m \u001b[0;36m0\u001b[0m\u001b[0;34m:\u001b[0m\u001b[0;34m\u001b[0m\u001b[0m\n",
      "\u001b[0;31mValueError\u001b[0m: The truth value of an array with more than one element is ambiguous. Use a.any() or a.all()"
     ]
    }
   ],
   "source": [
    "np.corrcoef(CenterData[:,0],CenterData[:,1])"
   ]
  },
  {
   "cell_type": "code",
   "execution_count": 39,
   "metadata": {
    "collapsed": false
   },
   "outputs": [
    {
     "data": {
      "image/png": "[encoded data removed]",
      "text/plain": [
       "<matplotlib.figure.Figure at 0x11763ef90>"
      ]
     },
     "metadata": {},
     "output_type": "display_data"
    }
   ],
   "source": [
    "plt.plot(CenterData[:,0],CenterData[:,1], '.r')\n",
    "plt.show()"
   ]
  },
  {
   "cell_type": "code",
   "execution_count": 40,
   "metadata": {
    "collapsed": false
   },
   "outputs": [
    {
     "name": "stdout",
     "output_type": "stream",
     "text": [
      "SingularValues \n",
      " [ 458.82557472  164.5663756 ]\n",
      "-------------------------------\n",
      "\n",
      "\n",
      "EigenValues \n",
      " [ 210520.90802148   27082.09197852]\n",
      "-------------------------------\n",
      "\n",
      "\n",
      "Right Eigenvectors: \n",
      " [[ 0.61349482  0.78969875]\n",
      " [ 0.78969875 -0.61349482]]\n",
      "-------------------------------\n",
      "\n",
      "\n"
     ]
    }
   ],
   "source": [
    "U1,s1,V1 = lina.svd(CenterData)\n",
    "\n",
    "print 'SingularValues \\n {}'.format(s1)\n",
    "print '-------------------------------\\n\\n'\n",
    "\n",
    "print 'EigenValues \\n {}'.format(s1**2)\n",
    "print '-------------------------------\\n\\n'\n",
    "\n",
    "#print V1\n",
    "print 'Right Eigenvectors: \\n {}'.format(V1)\n",
    "print '-------------------------------\\n\\n'\n",
    "# new observations"
   ]
  },
  {
   "cell_type": "code",
   "execution_count": 41,
   "metadata": {
    "collapsed": false
   },
   "outputs": [
    {
     "name": "stdout",
     "output_type": "stream",
     "text": [
      "(100, 2)\n"
     ]
    },
    {
     "data": {
      "image/png": "[encoded data removed]",
      "text/plain": [
       "<matplotlib.figure.Figure at 0x10b3bb090>"
      ]
     },
     "metadata": {},
     "output_type": "display_data"
    }
   ],
   "source": [
    "newData=np.dot(CenterData,V1)\n",
    "\n",
    "print newData.shape\n",
    "plt.plot(newData[:,0],newData[:,1], '.b')\n",
    "plt.show()"
   ]
  },
  {
   "cell_type": "code",
   "execution_count": 44,
   "metadata": {
    "collapsed": false
   },
   "outputs": [
    {
     "name": "stdout",
     "output_type": "stream",
     "text": [
      "[[  1.00000000e+00   1.56586676e-16]\n",
      " [  1.56586676e-16   1.00000000e+00]] \n",
      "\n",
      "[[  2.12647382e+03   1.19428597e-13]\n",
      " [  1.19428597e-13   2.73556485e+02]] \n",
      "\n",
      "Variance of PC1:  2126.4738184\n",
      "Variance of PC2:  273.556484632\n",
      "Sum of Variances: 2400.03030303 !(compare to Value above before PCA: 2400.03030303 )\n",
      "\n",
      "PC1 explains 88.60% of the variance\n",
      "PC2 explains 11.40% of the variance\n",
      "\n",
      "newData: \n",
      "[[  1.07197184e+02  -8.94327329e+01]\n",
      " [  5.95670481e+01  -7.90226346e+01]\n",
      " [  5.02411157e+01  -2.74568806e+01]\n",
      " [  4.58360175e+01   7.62295849e+00]\n",
      " [  3.54850508e+01   1.05991117e+01]\n",
      " [  5.72377700e+01   7.62939634e+00]\n",
      " [  9.84589951e+01   8.52972952e+00]\n",
      " [  1.43968246e+02   2.63597064e+01]\n",
      " [  1.48530235e+02   2.40819310e+01]\n",
      " [  1.05390080e+02   4.41146972e+00]\n",
      " [  6.27194053e+01  -7.00748614e+01]\n",
      " [  2.95327444e+01  -1.01028218e+01]\n",
      " [  3.41796160e+01  -7.38131767e+00]\n",
      " [  2.75160560e+01  -1.10687244e+01]\n",
      " [  3.35596833e+01   3.23073602e+00]\n",
      " [  1.57554579e+01   3.13297728e+00]\n",
      " [ -2.40761324e+00   1.72433581e+01]\n",
      " [  4.69652484e+01   2.70065814e+01]\n",
      " [  1.08359795e+02   2.61641889e+01]\n",
      " [  9.40667726e+01   2.08060637e+01]\n",
      " [  2.91738987e+01   4.10531780e+00]\n",
      " [  2.76858221e+01  -1.07016556e+00]\n",
      " [  2.61064246e+01   1.56824075e-01]\n",
      " [  3.38207703e+01   6.82682189e+00]\n",
      " [  1.54731833e+00   2.77413157e+00]\n",
      " [ -3.48508313e+01   3.19210891e+00]\n",
      " [ -3.34476377e+01   3.36831284e+00]\n",
      " [ -5.81461949e+00  -6.70225337e+00]\n",
      " [  5.27671023e+01   3.50469868e+00]\n",
      " [  8.95961050e+01   1.66813661e+01]\n",
      " [  2.59302207e+01   1.56001764e+00]\n",
      " [  3.44407030e+01  -3.78523180e+00]\n",
      " [  1.55792540e+01   4.53617084e+00]\n",
      " [ -1.80189464e+01   1.67083085e+01]\n",
      " [ -3.69588405e+01   8.62867924e+00]\n",
      " [ -4.35310796e+01  -1.46120052e+00]\n",
      " [ -3.33563168e+01  -3.03416016e+00]\n",
      " [ -7.83774572e+00   3.73359639e+00]\n",
      " [  1.32101577e+01   6.37665530e+00]\n",
      " [  6.11798258e+01   1.59636747e+01]\n",
      " [  2.42833797e+00  -4.24183624e+00]\n",
      " [ -6.45573977e-01   3.21142246e+00]\n",
      " [ -1.76601007e+01   2.50016891e+00]\n",
      " [ -4.09008964e+01   2.94400895e-01]\n",
      " [ -6.18639168e+01   2.65062143e+00]\n",
      " [ -5.93121788e+01  -1.19948090e+01]\n",
      " [ -3.21293272e+01  -1.45476267e+00]\n",
      " [ -9.94575499e+00   9.17016672e+00]\n",
      " [ -1.43527272e+00   3.82491728e+00]\n",
      " [  1.97888347e+01   5.06478262e+00]\n",
      " [ -1.33656369e+01   8.02806012e+00]\n",
      " [ -2.98515518e+01   3.10722587e+00]\n",
      " [ -3.64237909e+01  -6.98265389e+00]\n",
      " [ -5.38756085e+01  -9.88679975e+00]\n",
      " [ -6.82599520e+01  -8.84245189e+00]\n",
      " [ -5.54614438e+01   2.74194232e+00]\n",
      " [ -2.95904649e+01   6.70331174e+00]\n",
      " [ -1.57282953e+01  -1.53320786e+00]\n",
      " [ -4.76383378e+00  -3.71966232e+00]\n",
      " [  1.45284683e+01   1.55357979e+00]\n",
      " [ -1.02068420e+01   5.57408085e+00]\n",
      " [ -4.28262639e+01  -7.07397478e+00]\n",
      " [ -4.87001251e+01  -1.13748764e+01]\n",
      " [ -4.96660278e+01  -9.35818797e+00]\n",
      " [ -5.36145215e+01  -6.29071388e+00]\n",
      " [ -4.52866810e+01   1.16898268e+00]\n",
      " [ -2.66078738e+01   5.65252603e+00]\n",
      " [ -5.99082341e+00  -5.29905981e+00]\n",
      " [ -4.67251289e+00  -1.01221353e+01]\n",
      " [  1.50506422e+01   8.74575153e+00]\n",
      " [ -8.45124054e+00   2.94389765e+00]\n",
      " [ -4.72120485e+01  -6.19939299e+00]\n",
      " [ -6.11591011e+01  -2.96215283e+00]\n",
      " [ -5.07232514e+01  -9.39026593e-01]\n",
      " [ -4.33548757e+01  -2.86439409e+00]\n",
      " [ -3.85318002e+01  -1.54608356e+00]\n",
      " [ -2.42387776e+01   3.81204158e+00]\n",
      " [ -1.12576277e+01   2.59148979e+00]\n",
      " [ -5.02492074e+00  -7.31574819e+00]\n",
      " [  5.05852117e+00  -2.48623483e+00]\n",
      " [  2.77430797e+00   4.35352906e+00]\n",
      " [ -2.96753479e+01   1.70403231e+00]\n",
      " [ -4.88827669e+01   1.43006964e+00]\n",
      " [ -4.59850589e+01  -4.61999550e+00]\n",
      " [ -3.16920363e+01   7.38129637e-01]\n",
      " [ -1.95919060e+01   6.53354567e+00]\n",
      " [ -9.41714321e+00   4.96058603e+00]\n",
      " [ -1.17862394e+01   6.80107048e+00]\n",
      " [ -2.18696814e+01   1.97155712e+00]\n",
      " [ -8.62744447e+00   4.34709121e+00]\n",
      " [  2.50678315e+00   1.21591956e+01]\n",
      " [ -1.81887124e+01   6.70974960e+00]\n",
      " [ -2.80110674e+01   5.47632211e+00]\n",
      " [ -3.38849286e+01   1.17542053e+00]\n",
      " [ -3.45897443e+01   6.78819478e+00]\n",
      " [ -3.15222702e+01   1.07366885e+01]\n",
      " [ -2.90618531e+01   2.49373105e+00]\n",
      " [ -2.13410696e+01  -2.23802357e+00]\n",
      " [ -1.41488978e+01  -2.76019749e+00]\n",
      " [ -1.45013057e+01   4.61896323e-02]]\n"
     ]
    }
   ],
   "source": [
    "print np.corrcoef(newData[:,0],newData[:,1]), \"\\n\"\n",
    "\n",
    "newCOV=np.cov(newData[:,0],newData[:,1])\n",
    "print newCOV[:3,:3],\"\\n\"\n",
    "print \"Variance of PC1: \",newCOV[0,0]\n",
    "print \"Variance of PC2: \",newCOV[1,1]\n",
    "#print \"Variance of PC3: \",newCOV[2,2]\n",
    "#print np.trace(newData)\n",
    "print \"Sum of Variances: {} !(compare to Value above before PCA: {} )\\n\".format(newCOV[0,0]+newCOV[1,1], COV[0,0]+COV[1,1])\n",
    "\n",
    "print \"PC1 explains {:.2f}% of the variance\".format(newCOV[0,0]*100.0/(newCOV[0,0]+newCOV[1,1]))\n",
    "print \"PC2 explains {:.2f}% of the variance\\n\".format(newCOV[1,1]*100.0/(newCOV[0,0]+newCOV[1,1]))\n",
    "\n",
    "\n",
    "\n",
    "print \"newData: \\n{}\".format(newData)"
   ]
  },
  {
   "cell_type": "markdown",
   "metadata": {},
   "source": [
    "# Add Mean Values and round"
   ]
  },
  {
   "cell_type": "code",
   "execution_count": null,
   "metadata": {
    "collapsed": true
   },
   "outputs": [],
   "source": []
  },
  {
   "cell_type": "code",
   "execution_count": null,
   "metadata": {
    "collapsed": false
   },
   "outputs": [],
   "source": [
    "Data2=np.round(newData+np.mean(Data,axis=0))\n",
    "print Data2\n"
   ]
  },
  {
   "cell_type": "markdown",
   "metadata": {},
   "source": [
    "# Reshape back to Image"
   ]
  },
  {
   "cell_type": "code",
   "execution_count": null,
   "metadata": {
    "collapsed": false
   },
   "outputs": [],
   "source": [
    "PC1  =Data2[:,0].reshape(10,10)\n",
    "PC2  =Data2[:,1].reshape(10,10)\n",
    "print PC1,\"\\n\"\n",
    "print PC2\n"
   ]
  },
  {
   "cell_type": "code",
   "execution_count": null,
   "metadata": {
    "collapsed": false
   },
   "outputs": [],
   "source": [
    "plt.imshow(PC1,interpolation='none')\n",
    "plt.show()\n",
    "plt.imshow(PC2,interpolation='none')\n",
    "plt.show()"
   ]
  },
  {
   "cell_type": "code",
   "execution_count": null,
   "metadata": {
    "collapsed": true
   },
   "outputs": [],
   "source": []
  }
 ],
 "metadata": {
  "kernelspec": {
   "display_name": "Python 2",
   "language": "python",
   "name": "python2"
  },
  "language_info": {
   "codemirror_mode": {
    "name": "ipython",
    "version": 2
   },
   "file_extension": ".py",
   "mimetype": "text/x-python",
   "name": "python",
   "nbconvert_exporter": "python",
   "pygments_lexer": "ipython2",
   "version": "2.7.13"
  }
 },
 "nbformat": 4,
 "nbformat_minor": 0
}
