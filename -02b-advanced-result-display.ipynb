{
 "cells": [
  {
   "cell_type": "markdown",
   "metadata": {},
   "source": [
    "Tuckey-BoxPlot\n"
   ]
  },
  {
   "cell_type": "markdown",
   "metadata": {},
   "source": [
    "ROC AUC"
   ]
  },
  {
   "cell_type": "markdown",
   "metadata": {},
   "source": [
    "In case of unbalanced classes, e.g. only few positive and a lot of negative data-points the classification accuracy is an insuffi- cient performance measure as a classifier that would predict the negative class for the whole dataset would earn a very high accu- racy without any correct prediction of the positive class. Receiver Operator Characteristics (ROC- curves) serve as basis for an in- dependent measure of performance (ROCAUC) which is widely used for such cases in machine learning. The ROC-curve shows a diagram with the false-positive rate ( P(FP), specificity or FPR, horizontal axis) vs. the true-positive rate ( P(TP), sensitivity or TPR, vertical axis) of a classifier. Both relative frequencies speci- ficity & sensitivity are evaluated at any cutpoint between the two class distributions and displayed in a diagram which represents the trade-off between them. (cf. figure 13) For practical usage a two-digit number of cutpoints is sufficient to approximate the ROC-curve. The interpretation of the curve is easy comprehensi- ble if for example the discrimination of the used classifier is very good the false-positive rate is very low while the true-positive rate is relative high. This results in a very steep curve which also means that the area under the curve is high"
   ]
  },
  {
   "cell_type": "code",
   "execution_count": null,
   "metadata": {},
   "outputs": [],
   "source": []
  },
  {
   "cell_type": "code",
   "execution_count": null,
   "metadata": {},
   "outputs": [],
   "source": []
  }
 ],
 "metadata": {
  "kernelspec": {
   "display_name": "Python 3",
   "language": "python",
   "name": "python3"
  },
  "language_info": {
   "codemirror_mode": {
    "name": "ipython",
    "version": 3
   },
   "file_extension": ".py",
   "mimetype": "text/x-python",
   "name": "python",
   "nbconvert_exporter": "python",
   "pygments_lexer": "ipython3",
   "version": "3.6.1"
  }
 },
 "nbformat": 4,
 "nbformat_minor": 2
}
