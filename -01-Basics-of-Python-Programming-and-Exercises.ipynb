{
 "cells": [
  {
   "cell_type": "markdown",
   "metadata": {},
   "source": [
    "-01-Basics-of-Python-Programming-and-Exercises © by A.Richter\n",
    "------------------------------------------"
   ]
  },
  {
   "cell_type": "markdown",
   "metadata": {},
   "source": [
    "\"...A programming language gives you \n",
    "the power to express some ideas, while \n",
    "limiting your abilities to express \n",
    "others.“  (LARRY CUBA, computer-animation artis, https://en.wikipedia.org/wiki/Larry_Cuba)"
   ]
  },
  {
   "cell_type": "markdown",
   "metadata": {},
   "source": [
    "**Overview of the notebook:**\n",
    "    - Basic Library imports and variables\n",
    "    - Printing\n",
    "    - Intro to bits and bytes\n",
    "    - Math in Python\n",
    "    - Python modules closer\n",
    "    - Python datatypes\n",
    "    - If Then-constructs\n",
    "    - Loops\n",
    "    - Folder and File operations\n",
    "    - Functions\n",
    "    - Basics of nummeric python\n",
    "    - Statistics review\n",
    "    - Preprocessing in Data Analysis"
   ]
  },
  {
   "cell_type": "code",
   "execution_count": null,
   "metadata": {},
   "outputs": [],
   "source": []
  },
  {
   "cell_type": "markdown",
   "metadata": {},
   "source": [
    "**Sources: **\n",
    "www.introtopython.org  and    http://www.scipy-lectures.org/   \n"
   ]
  },
  {
   "cell_type": "markdown",
   "metadata": {},
   "source": [
    "But before we start with learning Python\n",
    "\n",
    "you should know at least a bit how to use the Commandline **CMD** for WINDOWS or **Terminal** for LINUX & MAC\n",
    "\n",
    "https://www.thomas-krenn.com/de/wiki/Cmd-Befehle_unter_Windows\n"
   ]
  },
  {
   "cell_type": "markdown",
   "metadata": {},
   "source": [
    "1) How do start the Commandline/Terminal in Windows, Linux, macOS? "
   ]
  },
  {
   "cell_type": "markdown",
   "metadata": {},
   "source": [
    "2) How do you change to a folder?"
   ]
  },
  {
   "cell_type": "markdown",
   "metadata": {},
   "source": [
    "3) How do you create a new txt file in the folder?"
   ]
  },
  {
   "cell_type": "markdown",
   "metadata": {},
   "source": [
    "4) How do you start Jupyter in this folder? \n",
    "\n",
    "\n",
    "==================================================================="
   ]
  },
  {
   "cell_type": "markdown",
   "metadata": {},
   "source": []
  },
  {
   "cell_type": "markdown",
   "metadata": {},
   "source": []
  },
  {
   "cell_type": "markdown",
   "metadata": {},
   "source": [
    "Basic Libray Imports and variables\n",
    "==="
   ]
  },
  {
   "cell_type": "markdown",
   "metadata": {},
   "source": [
    "Basic Python Libraries or modules can be imported like this:"
   ]
  },
  {
   "cell_type": "code",
   "execution_count": 4,
   "metadata": {
    "collapsed": true
   },
   "outputs": [],
   "source": [
    "import sys,math "
   ]
  },
  {
   "cell_type": "markdown",
   "metadata": {},
   "source": [
    "The keyword **'import'** followed by the name of the library you want to use."
   ]
  },
  {
   "cell_type": "markdown",
   "metadata": {},
   "source": [
    "There are some specials hidden in the python libraries, for example here:"
   ]
  },
  {
   "cell_type": "markdown",
   "metadata": {},
   "source": [
    "**The Command \"whos\" is printing out the current use of variables in the RAM.**\n"
   ]
  },
  {
   "cell_type": "code",
   "execution_count": 9,
   "metadata": {
    "collapsed": false
   },
   "outputs": [
    {
     "name": "stdout",
     "output_type": "stream",
     "text": [
      "Variable   Type      Data/Info\n",
      "------------------------------\n",
      "I          int       2\n",
      "X          str       D:\\BHT-BERLIN\\nDaten\\datei1.shp\n",
      "math       module    <module 'math' from '/ana<...>h.cpython-36m-darwin.so'>\n",
      "sys        module    <module 'sys' (built-in)>\n",
      "this       module    <module 'this' from '/ana<...>a/lib/python3.6/this.py'>\n",
      "x          float     6.456789876654544\n",
      "y          str       BHT\n",
      "z          str       Berlin\n"
     ]
    }
   ],
   "source": [
    "whos"
   ]
  },
  {
   "cell_type": "code",
   "execution_count": null,
   "metadata": {},
   "outputs": [],
   "source": []
  },
  {
   "cell_type": "code",
   "execution_count": null,
   "metadata": {},
   "outputs": [],
   "source": []
  },
  {
   "cell_type": "code",
   "execution_count": null,
   "metadata": {},
   "outputs": [],
   "source": []
  },
  {
   "cell_type": "code",
   "execution_count": 8,
   "metadata": {
    "collapsed": false
   },
   "outputs": [
    {
     "name": "stdout",
     "output_type": "stream",
     "text": [
      "Gur Mra bs Clguba, ol Gvz Crgref\n",
      "\n",
      "Ornhgvshy vf orggre guna htyl.\n",
      "Rkcyvpvg vf orggre guna vzcyvpvg.\n",
      "Fvzcyr vf orggre guna pbzcyrk.\n",
      "Pbzcyrk vf orggre guna pbzcyvpngrq.\n",
      "Syng vf orggre guna arfgrq.\n",
      "Fcnefr vf orggre guna qrafr.\n",
      "Ernqnovyvgl pbhagf.\n",
      "Fcrpvny pnfrf nera'g fcrpvny rabhtu gb oernx gur ehyrf.\n",
      "Nygubhtu cenpgvpnyvgl orngf chevgl.\n",
      "Reebef fubhyq arire cnff fvyragyl.\n",
      "Hayrff rkcyvpvgyl fvyraprq.\n",
      "Va gur snpr bs nzovthvgl, ershfr gur grzcgngvba gb thrff.\n",
      "Gurer fubhyq or bar-- naq cersrenoyl bayl bar --boivbhf jnl gb qb vg.\n",
      "Nygubhtu gung jnl znl abg or boivbhf ng svefg hayrff lbh'er Qhgpu.\n",
      "Abj vf orggre guna arire.\n",
      "Nygubhtu arire vf bsgra orggre guna *evtug* abj.\n",
      "Vs gur vzcyrzragngvba vf uneq gb rkcynva, vg'f n onq vqrn.\n",
      "Vs gur vzcyrzragngvba vf rnfl gb rkcynva, vg znl or n tbbq vqrn.\n",
      "Anzrfcnprf ner bar ubaxvat terng vqrn -- yrg'f qb zber bs gubfr!\n"
     ]
    }
   ],
   "source": [
    "import this\n",
    "#import codecs\n",
    "#print(this.s.decode('rot13'))\n",
    "print(this.s)"
   ]
  },
  {
   "cell_type": "code",
   "execution_count": 9,
   "metadata": {},
   "outputs": [
    {
     "name": "stdout",
     "output_type": "stream",
     "text": [
      "The Zen of Python, by Tim Peters\n",
      "\n",
      "Beautiful is better than ugly.\n",
      "Explicit is better than implicit.\n",
      "Simple is better than complex.\n",
      "Complex is better than complicated.\n",
      "Flat is better than nested.\n",
      "Sparse is better than dense.\n",
      "Readability counts.\n",
      "Special cases aren't special enough to break the rules.\n",
      "Although practicality beats purity.\n",
      "Errors should never pass silently.\n",
      "Unless explicitly silenced.\n",
      "In the face of ambiguity, refuse the temptation to guess.\n",
      "There should be one-- and preferably only one --obvious way to do it.\n",
      "Although that way may not be obvious at first unless you're Dutch.\n",
      "Now is better than never.\n",
      "Although never is often better than *right* now.\n",
      "If the implementation is hard to explain, it's a bad idea.\n",
      "If the implementation is easy to explain, it may be a good idea.\n",
      "Namespaces are one honking great idea -- let's do more of those!\n"
     ]
    }
   ],
   "source": [
    "d = {}\n",
    "for c in (65, 97):\n",
    "    for i in range(26):\n",
    "        d[chr(i+c)] = chr((i+13) % 26 + c)\n",
    "\n",
    "print(\"\".join([d.get(c, c) for c in this.s]))\n",
    "\n"
   ]
  },
  {
   "cell_type": "markdown",
   "metadata": {},
   "source": [
    "now print out something in python\n",
    "==="
   ]
  },
  {
   "cell_type": "markdown",
   "metadata": {},
   "source": [
    "Printing of an expression or a variable is easily done in this way:"
   ]
  },
  {
   "cell_type": "code",
   "execution_count": 18,
   "metadata": {
    "collapsed": false
   },
   "outputs": [
    {
     "name": "stdout",
     "output_type": "stream",
     "text": [
      "+-/*   Summe: 100 \n"
     ]
    }
   ],
   "source": [
    "print(\"+-/*   Summe: {} \".format(100))"
   ]
  },
  {
   "cell_type": "code",
   "execution_count": null,
   "metadata": {},
   "outputs": [],
   "source": []
  },
  {
   "cell_type": "markdown",
   "metadata": {},
   "source": [
    "**Intro to Bits and Bytes**\n",
    "==="
   ]
  },
  {
   "cell_type": "markdown",
   "metadata": {},
   "source": [
    "Computer Science is based on the idea of binary states, whether it's **Light: on/off** or **electr. Voltage: high/low** \n",
    "\n",
    "\n",
    "BIT = binary digit – englisch | in german \"binäre Ziffer\" or  \"Binärziffer\""
   ]
  },
  {
   "cell_type": "markdown",
   "metadata": {},
   "source": [
    "one bit can have two conditions $0$ or $1$ and can be expressed in a vector like this\n",
    "\n",
    "1bit = $\\begin{bmatrix}\n",
    "0          \\\\\n",
    "1        \\end{bmatrix}$ \n",
    "\n",
    "\n",
    "Numbers can be used in form of the binary system or in form of the decimal system."
   ]
  },
  {
   "cell_type": "code",
   "execution_count": 5,
   "metadata": {},
   "outputs": [
    {
     "name": "stdout",
     "output_type": "stream",
     "text": [
      "binary equal decimal\n",
      "110001   =    49\n"
     ]
    }
   ],
   "source": [
    "print('binary equal decimal')\n",
    "print('110001   =   ', 1*(2**5)+1*(2**4)+0*(2**3)+0*(2**2)+0*(2**1)+1*(2**0))"
   ]
  },
  {
   "cell_type": "markdown",
   "metadata": {},
   "source": [
    "But how to calculate this:"
   ]
  },
  {
   "cell_type": "code",
   "execution_count": 7,
   "metadata": {},
   "outputs": [
    {
     "name": "stdout",
     "output_type": "stream",
     "text": [
      "49\n"
     ]
    }
   ],
   "source": [
    "x=1*(2**5)+1*(2**4)+0*(2**3)+0*(2**2)+0*(2**1)+1*(2**0)\n",
    "print(x)"
   ]
  },
  {
   "cell_type": "markdown",
   "metadata": {},
   "source": [
    "or"
   ]
  },
  {
   "cell_type": "code",
   "execution_count": 8,
   "metadata": {},
   "outputs": [
    {
     "name": "stdout",
     "output_type": "stream",
     "text": [
      "49\n"
     ]
    }
   ],
   "source": [
    "print(int('110001', 2))"
   ]
  },
  {
   "cell_type": "code",
   "execution_count": null,
   "metadata": {},
   "outputs": [],
   "source": []
  },
  {
   "cell_type": "markdown",
   "metadata": {},
   "source": [
    "1 **Byte** = 8 Bits\n",
    "= $\\begin{bmatrix}\n",
    "0  & 0&0&0&0&0&0&0       \\\\\n",
    "1  & 1&1&1&1&1&1&1     \\end{bmatrix}$\n",
    "\n",
    "so in general 8 options to decide for 1 or 0\n"
   ]
  },
  {
   "cell_type": "code",
   "execution_count": 2,
   "metadata": {},
   "outputs": [
    {
     "name": "stdout",
     "output_type": "stream",
     "text": [
      "10010101\n",
      "149\n"
     ]
    }
   ],
   "source": [
    "print(\"10010101\")\n",
    "print(int('10010101', 2))"
   ]
  },
  {
   "cell_type": "markdown",
   "metadata": {},
   "source": [
    "This means that the binary number: 10010101 represents the decimal number: 49"
   ]
  },
  {
   "cell_type": "markdown",
   "metadata": {},
   "source": [
    "**Gigabytes vs. Gigibytes**"
   ]
  },
  {
   "cell_type": "markdown",
   "metadata": {},
   "source": [
    "There are different aproaches of defining bigger bunches of information.\n",
    "For example are **1000 Bytes** called a **kilobyte** which is based on the well known **decimal scale**.\n",
    "\n",
    "$1000^2$ Bytes = 1MB\n",
    "\n",
    "$1000^3$ Bytes = 1GB\n"
   ]
  },
  {
   "cell_type": "code",
   "execution_count": 11,
   "metadata": {},
   "outputs": [
    {
     "name": "stdout",
     "output_type": "stream",
     "text": [
      "1000000000 Bytes = 1 GB = gigabyte\n"
     ]
    }
   ],
   "source": [
    "print(1000**3, \"Bytes = 1 GB = gigabyte\")"
   ]
  },
  {
   "cell_type": "markdown",
   "metadata": {},
   "source": [
    "On the other hand using a binary scale with"
   ]
  },
  {
   "cell_type": "markdown",
   "metadata": {},
   "source": [
    "1024**3  (GiB)  gibibyte"
   ]
  },
  {
   "cell_type": "markdown",
   "metadata": {},
   "source": [
    "https://en.wikipedia.org/wiki/Gigabyte"
   ]
  },
  {
   "cell_type": "markdown",
   "metadata": {},
   "source": [
    "try it yourself..."
   ]
  },
  {
   "cell_type": "code",
   "execution_count": null,
   "metadata": {},
   "outputs": [],
   "source": []
  },
  {
   "cell_type": "code",
   "execution_count": null,
   "metadata": {},
   "outputs": [],
   "source": []
  },
  {
   "cell_type": "code",
   "execution_count": null,
   "metadata": {},
   "outputs": [],
   "source": []
  },
  {
   "cell_type": "markdown",
   "metadata": {},
   "source": [
    "**A little bit of Math in Python**\n",
    "=="
   ]
  },
  {
   "cell_type": "markdown",
   "metadata": {},
   "source": [
    "Check the Value of a Variable - compare it to another one"
   ]
  },
  {
   "cell_type": "code",
   "execution_count": 15,
   "metadata": {
    "collapsed": true
   },
   "outputs": [],
   "source": [
    "x=3"
   ]
  },
  {
   "cell_type": "markdown",
   "metadata": {},
   "source": [
    "This means that the memory assigned to the variable x is filled with the value 3"
   ]
  },
  {
   "cell_type": "code",
   "execution_count": 16,
   "metadata": {
    "collapsed": false
   },
   "outputs": [
    {
     "data": {
      "text/plain": [
       "False"
      ]
     },
     "execution_count": 16,
     "metadata": {},
     "output_type": "execute_result"
    }
   ],
   "source": [
    "x==5"
   ]
  },
  {
   "cell_type": "markdown",
   "metadata": {},
   "source": [
    "The double equal sign (==) is a completly different operation. It implies the comparison of the value stored in the variable x with the value 5. So in other words is 3 equal to 5? No!"
   ]
  },
  {
   "cell_type": "code",
   "execution_count": 17,
   "metadata": {
    "collapsed": false
   },
   "outputs": [
    {
     "data": {
      "text/plain": [
       "True"
      ]
     },
     "execution_count": 17,
     "metadata": {},
     "output_type": "execute_result"
    }
   ],
   "source": [
    "x==3"
   ]
  },
  {
   "cell_type": "markdown",
   "metadata": {},
   "source": [
    "But 3 is equal to 3. That's right!"
   ]
  },
  {
   "cell_type": "code",
   "execution_count": 34,
   "metadata": {
    "collapsed": true
   },
   "outputs": [
    {
     "name": "stdout",
     "output_type": "stream",
     "text": [
      "8\n",
      "-2\n",
      "15\n",
      "0.6\n"
     ]
    }
   ],
   "source": [
    "x=3\n",
    "y=5\n",
    "print(x+y)\n",
    "print(x-y)\n",
    "print(x*y)\n",
    "print(x/y)"
   ]
  },
  {
   "cell_type": "markdown",
   "metadata": {},
   "source": [
    "Division of values in Python 3 is different compared to Python 2 --> Python-2 is using \"Int\" Python-3 always \"Float\"!!!"
   ]
  },
  {
   "cell_type": "code",
   "execution_count": 13,
   "metadata": {
    "collapsed": false
   },
   "outputs": [
    {
     "data": {
      "text/plain": [
       "1.6666666666666667"
      ]
     },
     "execution_count": 13,
     "metadata": {},
     "output_type": "execute_result"
    }
   ],
   "source": [
    "5/3"
   ]
  },
  {
   "cell_type": "code",
   "execution_count": 14,
   "metadata": {
    "collapsed": false
   },
   "outputs": [
    {
     "data": {
      "text/plain": [
       "1.6666666666666667"
      ]
     },
     "execution_count": 14,
     "metadata": {},
     "output_type": "execute_result"
    }
   ],
   "source": [
    "5.0/3.0"
   ]
  },
  {
   "cell_type": "markdown",
   "metadata": {},
   "source": [
    "Python modules, a little bit closer\n",
    "==="
   ]
  },
  {
   "cell_type": "markdown",
   "metadata": {},
   "source": [
    "In general Python is build modular, which means for special things look for the right module and simply import it..."
   ]
  },
  {
   "cell_type": "markdown",
   "metadata": {},
   "source": [
    "For example see the equation  $10 \\cdot 10$ = $10^2$ = 100\n",
    "\n",
    "That implies that the logarithm to base 10 of 100 must be equal to 2.\n",
    "\n",
    "So how can I calculate this in python?\n"
   ]
  },
  {
   "cell_type": "code",
   "execution_count": 3,
   "metadata": {},
   "outputs": [
    {
     "ename": "NameError",
     "evalue": "name 'log10' is not defined",
     "output_type": "error",
     "traceback": [
      "\u001b[0;31m---------------------------------------------------------------------------\u001b[0m",
      "\u001b[0;31mNameError\u001b[0m                                 Traceback (most recent call last)",
      "\u001b[0;32m<ipython-input-3-332d6b21e3b5>\u001b[0m in \u001b[0;36m<module>\u001b[0;34m()\u001b[0m\n\u001b[0;32m----> 1\u001b[0;31m \u001b[0mlog10\u001b[0m\u001b[0;34m(\u001b[0m\u001b[0;36m100\u001b[0m\u001b[0;34m)\u001b[0m\u001b[0;34m\u001b[0m\u001b[0m\n\u001b[0m",
      "\u001b[0;31mNameError\u001b[0m: name 'log10' is not defined"
     ]
    }
   ],
   "source": [
    "log10(100)"
   ]
  },
  {
   "cell_type": "markdown",
   "metadata": {},
   "source": [
    "this error message means the base python module library does not know the function log10()"
   ]
  },
  {
   "cell_type": "markdown",
   "metadata": {},
   "source": [
    "But the python module **math** has a definition of log10() and is therefor needed to calculate log10(100).\n",
    "\n",
    "So at first I have to import the math module"
   ]
  },
  {
   "cell_type": "code",
   "execution_count": 19,
   "metadata": {},
   "outputs": [],
   "source": [
    "import math"
   ]
  },
  {
   "cell_type": "markdown",
   "metadata": {},
   "source": [
    "and than I can use it in this way:"
   ]
  },
  {
   "cell_type": "code",
   "execution_count": 20,
   "metadata": {},
   "outputs": [
    {
     "data": {
      "text/plain": [
       "2.0"
      ]
     },
     "execution_count": 20,
     "metadata": {},
     "output_type": "execute_result"
    }
   ],
   "source": [
    "math.log10(100)"
   ]
  },
  {
   "cell_type": "markdown",
   "metadata": {},
   "source": [
    "A modular function is always called in the form: **math.log10(100)** = \"**moduleName.functionName(parameters)**\" "
   ]
  },
  {
   "cell_type": "markdown",
   "metadata": {},
   "source": [
    "try it yourself..."
   ]
  },
  {
   "cell_type": "code",
   "execution_count": null,
   "metadata": {},
   "outputs": [],
   "source": []
  },
  {
   "cell_type": "code",
   "execution_count": null,
   "metadata": {},
   "outputs": [],
   "source": []
  },
  {
   "cell_type": "markdown",
   "metadata": {},
   "source": [
    "**Python Datatypes**\n",
    "==="
   ]
  },
  {
   "cell_type": "markdown",
   "metadata": {},
   "source": [
    "We will now have a look at basic Datentypes like integer (\"**int**\") and floating point numbers like \"**float**\" or \"**double**\" and of course character types like \"**string**\"."
   ]
  },
  {
   "cell_type": "markdown",
   "metadata": {},
   "source": [
    "**Typ: Sting**"
   ]
  },
  {
   "cell_type": "code",
   "execution_count": 26,
   "metadata": {
    "collapsed": false
   },
   "outputs": [
    {
     "name": "stdout",
     "output_type": "stream",
     "text": [
      "D:\\BHT-BERLIN\n",
      "Daten\\datei1.shp\n",
      "<class 'str'>\n",
      "Size: 79 Bytes\n"
     ]
    }
   ],
   "source": [
    "import sys\n",
    "S=\"D:\\BHT-BERLIN\\nDaten\\datei1.shp\"\n",
    "print(S)\n",
    "print(type(S))\n",
    "print(\"Size: {} Bytes\".format(sys.getsizeof(S)))"
   ]
  },
  {
   "cell_type": "markdown",
   "metadata": {},
   "source": [
    "oh look What happened here? The String S was cut in the middle...but why???"
   ]
  },
  {
   "cell_type": "markdown",
   "metadata": {},
   "source": [
    "the folder  **\"\\nDaten\"**  has a problem, the **\"\\n\"** is interpreteed as a line break!!! "
   ]
  },
  {
   "cell_type": "markdown",
   "metadata": {},
   "source": [
    "try ist yourself with a different folder..."
   ]
  },
  {
   "cell_type": "code",
   "execution_count": null,
   "metadata": {},
   "outputs": [],
   "source": []
  },
  {
   "cell_type": "markdown",
   "metadata": {},
   "source": [
    "better this way:"
   ]
  },
  {
   "cell_type": "markdown",
   "metadata": {},
   "source": [
    "always use \"/\" instead of \"\\\" to separate folders"
   ]
  },
  {
   "cell_type": "code",
   "execution_count": 24,
   "metadata": {},
   "outputs": [
    {
     "name": "stdout",
     "output_type": "stream",
     "text": [
      "D:/BHT-BERLIN/nDaten/datei1.shp\n"
     ]
    }
   ],
   "source": [
    "S=\"D:/BHT-BERLIN/nDaten/datei1.shp\"\n",
    "print(S)"
   ]
  },
  {
   "cell_type": "markdown",
   "metadata": {},
   "source": [
    "or use a so called raw string format **r\"... \\ ... \\ ...\"**"
   ]
  },
  {
   "cell_type": "code",
   "execution_count": 25,
   "metadata": {},
   "outputs": [
    {
     "name": "stdout",
     "output_type": "stream",
     "text": [
      "D:\\BHT-BERLIN\\nDaten\\datei1.shp\n"
     ]
    }
   ],
   "source": [
    "S=r\"D:\\BHT-BERLIN\\nDaten\\datei1.shp\"\n",
    "print(S)"
   ]
  },
  {
   "cell_type": "code",
   "execution_count": null,
   "metadata": {},
   "outputs": [],
   "source": []
  },
  {
   "cell_type": "code",
   "execution_count": 22,
   "metadata": {
    "collapsed": false
   },
   "outputs": [
    {
     "name": "stdout",
     "output_type": "stream",
     "text": [
      "BHT - Berlin\n",
      "---------------\n",
      "BHT\n",
      "Size: 52 Bytes\n",
      "Berlin\n",
      "Size: 55 Bytes\n"
     ]
    }
   ],
   "source": [
    "y=\"BHT\"\n",
    "z=\"Berlin\"\n",
    "print(y+\" - \"+z)\n",
    "print(15*\"-\")\n",
    "print(y) \n",
    "print(\"Size: {} Bytes\".format(sys.getsizeof(y)))\n",
    "print(z) \n",
    "print(\"Size: {} Bytes\".format(sys.getsizeof(z)))"
   ]
  },
  {
   "cell_type": "code",
   "execution_count": null,
   "metadata": {},
   "outputs": [],
   "source": []
  },
  {
   "cell_type": "markdown",
   "metadata": {},
   "source": [
    "**Tye: Int**"
   ]
  },
  {
   "cell_type": "code",
   "execution_count": 27,
   "metadata": {
    "collapsed": false
   },
   "outputs": [
    {
     "name": "stdout",
     "output_type": "stream",
     "text": [
      "<class 'int'>\n",
      "Size:24 Bytes\n"
     ]
    }
   ],
   "source": [
    "I=0\n",
    "print(type(I))\n",
    "print(\"Size:{} Bytes\".format(sys.getsizeof(I)) )"
   ]
  },
  {
   "cell_type": "code",
   "execution_count": 31,
   "metadata": {},
   "outputs": [
    {
     "name": "stdout",
     "output_type": "stream",
     "text": [
      "<class 'int'>\n",
      "Size:28 Bytes\n"
     ]
    }
   ],
   "source": [
    "I=1\n",
    "print(type(I))\n",
    "print(\"Size:{} Bytes\".format(sys.getsizeof(I)) )"
   ]
  },
  {
   "cell_type": "code",
   "execution_count": 30,
   "metadata": {},
   "outputs": [
    {
     "name": "stdout",
     "output_type": "stream",
     "text": [
      "Size:36 Bytes\n"
     ]
    }
   ],
   "source": [
    "print(\"Size:{} Bytes\".format(sys.getsizeof(2 ** 63)) )"
   ]
  },
  {
   "cell_type": "markdown",
   "metadata": {},
   "source": [
    "**Tye: Float**"
   ]
  },
  {
   "cell_type": "code",
   "execution_count": 31,
   "metadata": {
    "collapsed": false
   },
   "outputs": [
    {
     "name": "stdout",
     "output_type": "stream",
     "text": [
      "<class 'float'>\n",
      "Size:24 Bytes\n"
     ]
    }
   ],
   "source": [
    "F=2.0\n",
    "#x=6.45678987665454433345666\n",
    "print(type(F))\n",
    "print(\"Size:{} Bytes\".format(sys.getsizeof(F)))"
   ]
  },
  {
   "cell_type": "code",
   "execution_count": 30,
   "metadata": {
    "collapsed": false
   },
   "outputs": [
    {
     "name": "stdout",
     "output_type": "stream",
     "text": [
      "<class 'float'>\n",
      "Size:24 Bytes\n"
     ]
    }
   ],
   "source": [
    "F=6.45678987665454433345666\n",
    "print(type(F))\n",
    "print(\"Size:{} Bytes\".format(sys.getsizeof(F)))"
   ]
  },
  {
   "cell_type": "markdown",
   "metadata": {},
   "source": [
    "==> Why are the sizes of INT and FLOAT different?\n",
    "\n",
    "https://stackoverflow.com/questions/10365624/sys-getsizeofint-returns-an-unreasonably-large-value\n",
    "\n",
    "https://stackoverflow.com/questions/29826523/python-float-precision-float"
   ]
  },
  {
   "cell_type": "markdown",
   "metadata": {},
   "source": []
  },
  {
   "cell_type": "markdown",
   "metadata": {},
   "source": [
    "**In every computer language there are decision and loops, the so called:** \n",
    "\n",
    "**If-Then-Else Decision Constructions** \n",
    "==="
   ]
  },
  {
   "cell_type": "markdown",
   "metadata": {},
   "source": [
    "In Python this is used in this way: "
   ]
  },
  {
   "cell_type": "code",
   "execution_count": 10,
   "metadata": {
    "collapsed": false
   },
   "outputs": [
    {
     "name": "stdout",
     "output_type": "stream",
     "text": [
      "95\n"
     ]
    }
   ],
   "source": [
    "x=5\n",
    "\n",
    "if x<0:\n",
    "    print(x)\n",
    "    print(2*x)\n",
    "else:\n",
    "    print(100-x)"
   ]
  },
  {
   "cell_type": "markdown",
   "metadata": {},
   "source": [
    "Loop Constructions\n",
    "=="
   ]
  },
  {
   "cell_type": "markdown",
   "metadata": {},
   "source": [
    "while-Loop"
   ]
  },
  {
   "cell_type": "code",
   "execution_count": 11,
   "metadata": {
    "collapsed": false
   },
   "outputs": [
    {
     "name": "stdout",
     "output_type": "stream",
     "text": [
      "0\n",
      "1\n",
      "2\n",
      "3\n",
      "4\n",
      "5\n",
      "6\n",
      "7\n",
      "8\n",
      "9\n"
     ]
    }
   ],
   "source": [
    "x=0\n",
    "while x<10:\n",
    "    print(x)\n",
    "    x=x+1"
   ]
  },
  {
   "cell_type": "code",
   "execution_count": null,
   "metadata": {},
   "outputs": [],
   "source": []
  },
  {
   "cell_type": "code",
   "execution_count": null,
   "metadata": {},
   "outputs": [],
   "source": []
  },
  {
   "cell_type": "markdown",
   "metadata": {},
   "source": [
    "for-loop"
   ]
  },
  {
   "cell_type": "code",
   "execution_count": 12,
   "metadata": {
    "collapsed": false
   },
   "outputs": [
    {
     "name": "stdout",
     "output_type": "stream",
     "text": [
      "35\n",
      "36\n",
      "37\n",
      "38\n",
      "39\n"
     ]
    }
   ],
   "source": [
    "for i in range(35,40):\n",
    "    print(i)"
   ]
  },
  {
   "cell_type": "code",
   "execution_count": 37,
   "metadata": {},
   "outputs": [
    {
     "name": "stdout",
     "output_type": "stream",
     "text": [
      "35\n",
      "40\n",
      "45\n",
      "50\n"
     ]
    }
   ],
   "source": [
    "for i in range(35,55,5):\n",
    "    print(i)"
   ]
  },
  {
   "cell_type": "markdown",
   "metadata": {},
   "source": [
    "The function **range(START,STOP,STEP)** provides a high flexibility in combination with the for-Loop\n",
    "\n",
    "Be aware that the specified STOP Value is always evaluated at the index before it\n"
   ]
  },
  {
   "cell_type": "markdown",
   "metadata": {},
   "source": [
    "Folder and File Operations \n",
    "==="
   ]
  },
  {
   "cell_type": "markdown",
   "metadata": {},
   "source": [
    "To Search a Folder for a specific File Type, the following construction can be used:"
   ]
  },
  {
   "cell_type": "code",
   "execution_count": 43,
   "metadata": {
    "collapsed": false
   },
   "outputs": [
    {
     "name": "stdout",
     "output_type": "stream",
     "text": [
      "figures/doug.jpg\n",
      "figures/iris_setosa.jpg\n",
      "figures/iris_versicolor.jpg\n",
      "figures/iris_virginica.jpg\n",
      "figures/petal_sepal.jpg\n",
      "-------------------------\n",
      "figures/FE_Class.png\n",
      "figures/feynman.png\n",
      "figures/ml-eng.png\n",
      "figures/supervised_scikit_learn.png\n"
     ]
    }
   ],
   "source": [
    "# list a Folder with Tif + Tfw Files\n",
    "\n",
    "import glob\n",
    "Folder='figures/'\n",
    "#Folder='../../_Data_ori_Tif/AOI2_small_6_Test/'\n",
    "# https://docs.python.org/2/library/glob.html \n",
    "# http://stackoverflow.com/questions/3207219/how-to-list-all-files-of-a-directory-in-python\n",
    "\n",
    "JPGs=glob.glob(Folder+\"*.jpg\")\n",
    "PNGs=glob.glob(Folder+\"*.png\")\n",
    "\n",
    "for j in JPGs:\n",
    "    print(j)\n",
    "\n",
    "print(25*'-') \n",
    "    \n",
    "for p in PNGs:\n",
    "    print(p)"
   ]
  },
  {
   "cell_type": "markdown",
   "metadata": {},
   "source": [
    "Functions\n",
    "---------"
   ]
  },
  {
   "cell_type": "markdown",
   "metadata": {},
   "source": [
    "Functions are a great topic in Python3"
   ]
  },
  {
   "cell_type": "markdown",
   "metadata": {},
   "source": [
    "Simply write the litteral \"def\" at the beginning of a line\n",
    "followed by the name of the function \"MyFunct()\" "
   ]
  },
  {
   "cell_type": "code",
   "execution_count": 44,
   "metadata": {
    "collapsed": false
   },
   "outputs": [
    {
     "name": "stdout",
     "output_type": "stream",
     "text": [
      "a = 4 | b = 4\n",
      "--------------\n",
      "Summe(a,b): 8\n"
     ]
    }
   ],
   "source": [
    "def MyFunct(af,bf):\n",
    "    cf=af+bf\n",
    "    return cf\n",
    "\n",
    "a=4\n",
    "b=4\n",
    "print(\"a =\",a,\"| b =\",b)\n",
    "print(2*\"-------\")\n",
    "su=MyFunct(a,b)\n",
    "print(\"Summe(a,b): {}\".format(su))"
   ]
  },
  {
   "cell_type": "code",
   "execution_count": null,
   "metadata": {},
   "outputs": [],
   "source": []
  },
  {
   "cell_type": "code",
   "execution_count": 48,
   "metadata": {},
   "outputs": [
    {
     "name": "stdout",
     "output_type": "stream",
     "text": [
      "Say yesyesyes\n"
     ]
    }
   ],
   "source": [
    "# Functions: indent blocks with 4 spaces\n",
    "def hello_world(name, times=3):\n",
    "    print(\"Say\",name*times)\n",
    " \n",
    "hello_world(\"yes\")"
   ]
  },
  {
   "cell_type": "code",
   "execution_count": null,
   "metadata": {},
   "outputs": [],
   "source": []
  },
  {
   "cell_type": "code",
   "execution_count": null,
   "metadata": {},
   "outputs": [],
   "source": []
  },
  {
   "cell_type": "markdown",
   "metadata": {},
   "source": [
    "Basics of Nummeric Python (numpy) and Scientific Python (scipy)\n",
    "---------------------------"
   ]
  },
  {
   "cell_type": "markdown",
   "metadata": {},
   "source": [
    "Many scientific problems can be described with algebraic expressions, or short in a Matrix Formalism "
   ]
  },
  {
   "cell_type": "markdown",
   "metadata": {},
   "source": [
    "numpy is a module for Matrix manipulations"
   ]
  },
  {
   "cell_type": "code",
   "execution_count": 2,
   "metadata": {
    "collapsed": true
   },
   "outputs": [],
   "source": [
    "import numpy as np"
   ]
  },
  {
   "cell_type": "code",
   "execution_count": 7,
   "metadata": {},
   "outputs": [
    {
     "name": "stdout",
     "output_type": "stream",
     "text": [
      "[[ 0.  0.  0.  0.  0.]\n",
      " [ 0.  0.  0.  0.  0.]\n",
      " [ 0.  0.  0.  0.  0.]\n",
      " [ 0.  0.  0.  0.  0.]\n",
      " [ 0.  0.  0.  0.  0.]]\n"
     ]
    }
   ],
   "source": [
    "print(np.zeros((5,5)))"
   ]
  },
  {
   "cell_type": "code",
   "execution_count": 6,
   "metadata": {},
   "outputs": [
    {
     "name": "stdout",
     "output_type": "stream",
     "text": [
      "[[ 1.  1.  1.]\n",
      " [ 1.  1.  1.]\n",
      " [ 1.  1.  1.]]\n"
     ]
    }
   ],
   "source": [
    "print(np.ones((3,3)))"
   ]
  },
  {
   "cell_type": "code",
   "execution_count": null,
   "metadata": {},
   "outputs": [],
   "source": []
  },
  {
   "cell_type": "markdown",
   "metadata": {},
   "source": [
    "A simple 4x4 Matrix or an 4x4 Array in nummeric Python is initilized like this:"
   ]
  },
  {
   "cell_type": "code",
   "execution_count": 21,
   "metadata": {
    "collapsed": false
   },
   "outputs": [
    {
     "name": "stdout",
     "output_type": "stream",
     "text": [
      "[[ 2  4  3  7]\n",
      " [ 1  2  3  4]\n",
      " [-2  4  5  7]\n",
      " [ 4  3  7  9]]\n"
     ]
    }
   ],
   "source": [
    "A=np.array([[2,4,3,7],[1,2,3,4],[-2,4,5,7],[4,3,7,9]])\n",
    "print(A)"
   ]
  },
  {
   "cell_type": "markdown",
   "metadata": {},
   "source": [
    "Calculate the sum of each column"
   ]
  },
  {
   "cell_type": "code",
   "execution_count": 22,
   "metadata": {
    "collapsed": false
   },
   "outputs": [
    {
     "name": "stdout",
     "output_type": "stream",
     "text": [
      "[ 5 13 18 27]\n"
     ]
    }
   ],
   "source": [
    "b=np.sum(A, axis=0)\n",
    "print(b)"
   ]
  },
  {
   "cell_type": "markdown",
   "metadata": {},
   "source": [
    "Calculate the sum of each row"
   ]
  },
  {
   "cell_type": "code",
   "execution_count": 23,
   "metadata": {
    "collapsed": false
   },
   "outputs": [
    {
     "name": "stdout",
     "output_type": "stream",
     "text": [
      "[16 10 14 23]\n"
     ]
    }
   ],
   "source": [
    "c=np.sum(A, axis=1)\n",
    "print(c)"
   ]
  },
  {
   "cell_type": "markdown",
   "metadata": {},
   "source": [
    "Pick an element from the Array by its index"
   ]
  },
  {
   "cell_type": "code",
   "execution_count": 24,
   "metadata": {
    "collapsed": false
   },
   "outputs": [
    {
     "name": "stdout",
     "output_type": "stream",
     "text": [
      "[[ 2  4  3  7]\n",
      " [ 1  2  3  4]\n",
      " [-2  4  5  7]\n",
      " [ 4  3  7  9]]\n",
      "  \n",
      "The Value at index [row=2,col=1] is: 4 \n",
      "Size of the Value (.itemsize): 8 Bytes \n",
      "Size of the Value (.nbytes): 8 Bytes \n"
     ]
    }
   ],
   "source": [
    "d=A[2,1]\n",
    "print(A)\n",
    "print(\"  \") \n",
    "print('The Value at index [row=2,col=1] is: {} '.format(d))\n",
    "\n",
    "print('Size of the Value (.itemsize): {} Bytes '.format(d.itemsize))\n",
    "print('Size of the Value (.nbytes): {} Bytes '.format(d.nbytes))"
   ]
  },
  {
   "cell_type": "markdown",
   "metadata": {},
   "source": [
    "Pick a row from the array and play with the index in different ways"
   ]
  },
  {
   "cell_type": "code",
   "execution_count": 26,
   "metadata": {
    "collapsed": false
   },
   "outputs": [
    {
     "name": "stdout",
     "output_type": "stream",
     "text": [
      "Row one to end: all Rows\n",
      "-------------\n",
      "[1 2 3 4]\n",
      " \n",
      "All Rows with specific Index\n",
      "-------------\n",
      "[1 2 3 4]\n",
      " \n",
      "All without the 1st Row \n",
      "-------------\n",
      "[2 3 4]\n",
      "-------------\n"
     ]
    }
   ],
   "source": [
    "print('Row one to end: all Rows')\n",
    "print('-------------')\n",
    "print(A[1,:])\n",
    "print(' ')\n",
    "print('All Rows with specific Index')\n",
    "print('-------------')\n",
    "print(A[1,0:4])\n",
    "print(' ')\n",
    "print('All without the 1st Row ')\n",
    "print('-------------')\n",
    "print(A[1,1:4])\n",
    "print('-------------')"
   ]
  },
  {
   "cell_type": "markdown",
   "metadata": {},
   "source": [
    "Change the Array, **replace the second row**"
   ]
  },
  {
   "cell_type": "code",
   "execution_count": 27,
   "metadata": {
    "collapsed": false
   },
   "outputs": [
    {
     "name": "stdout",
     "output_type": "stream",
     "text": [
      "[[ 2  4  3  7]\n",
      " [ 1  2  3  4]\n",
      " [-2  4  5  7]\n",
      " [ 4  3  7  9]]\n",
      "------------------\n",
      "[[ 2  4  3  7]\n",
      " [ 5  6  7  8]\n",
      " [-2  4  5  7]\n",
      " [ 4  3  7  9]]\n"
     ]
    }
   ],
   "source": [
    "print(A) \n",
    "A2=A\n",
    "print(2*'---------')\n",
    "A2[1,:]=[5,6,7,8]\n",
    "\n",
    "print(A2)"
   ]
  },
  {
   "cell_type": "markdown",
   "metadata": {},
   "source": [
    "Creating a **Vector** in diffenrent ways"
   ]
  },
  {
   "cell_type": "code",
   "execution_count": 29,
   "metadata": {
    "collapsed": false
   },
   "outputs": [
    {
     "name": "stdout",
     "output_type": "stream",
     "text": [
      "[ 0  1  2  3  4  5  6  7  8  9 10]\n"
     ]
    }
   ],
   "source": [
    "e=np.arange(0,11)\n",
    "print(e)"
   ]
  },
  {
   "cell_type": "code",
   "execution_count": 32,
   "metadata": {
    "collapsed": false
   },
   "outputs": [
    {
     "name": "stdout",
     "output_type": "stream",
     "text": [
      "[ 1.   1.5  2.   2.5  3.   3.5  4.   4.5  5.   5.5  6.   6.5  7.   7.5  8. ]\n"
     ]
    }
   ],
   "source": [
    "f=np.arange(1,8.5,0.5)\n",
    "print(f)"
   ]
  },
  {
   "cell_type": "markdown",
   "metadata": {},
   "source": [
    "Matrix multiplication"
   ]
  },
  {
   "cell_type": "code",
   "execution_count": 39,
   "metadata": {
    "collapsed": false
   },
   "outputs": [
    {
     "name": "stdout",
     "output_type": "stream",
     "text": [
      "[[ 2  4  3  7]\n",
      " [ 5  6  7  8]\n",
      " [-2  4  5  7]\n",
      " [ 4  3  7  9]]  \t\n",
      "\n",
      " [[ 2  4  3  7]\n",
      " [ 5  6  7  8]\n",
      " [-2  4  5  7]\n",
      " [ 4  3  7  9]]\n"
     ]
    }
   ],
   "source": [
    "print(A,\" \\t\\n\\n\",A2) "
   ]
  },
  {
   "cell_type": "code",
   "execution_count": 33,
   "metadata": {
    "collapsed": false
   },
   "outputs": [
    {
     "data": {
      "text/plain": [
       "array([[ 46,  65,  98, 130],\n",
       "       [ 58, 108, 148, 204],\n",
       "       [ 34,  57,  96, 116],\n",
       "       [ 45,  89, 131, 182]])"
      ]
     },
     "execution_count": 33,
     "metadata": {},
     "output_type": "execute_result"
    }
   ],
   "source": [
    "np.dot(A,A2)"
   ]
  },
  {
   "cell_type": "markdown",
   "metadata": {},
   "source": [
    "Element-wise multiplication"
   ]
  },
  {
   "cell_type": "code",
   "execution_count": 34,
   "metadata": {
    "collapsed": false
   },
   "outputs": [
    {
     "data": {
      "text/plain": [
       "array([[ 4, 16,  9, 49],\n",
       "       [25, 36, 49, 64],\n",
       "       [ 4, 16, 25, 49],\n",
       "       [16,  9, 49, 81]])"
      ]
     },
     "execution_count": 34,
     "metadata": {},
     "output_type": "execute_result"
    }
   ],
   "source": [
    "A*A2"
   ]
  },
  {
   "cell_type": "markdown",
   "metadata": {},
   "source": [
    "**Revision of Statistic-Tools**\n",
    "----"
   ]
  },
  {
   "cell_type": "markdown",
   "metadata": {},
   "source": [
    "**Mean Value and Standard-deviation**"
   ]
  },
  {
   "cell_type": "markdown",
   "metadata": {},
   "source": [
    "Generate a list of 20 random values,\n",
    "around 50"
   ]
  },
  {
   "cell_type": "code",
   "execution_count": 103,
   "metadata": {
    "collapsed": true
   },
   "outputs": [
    {
     "name": "stdout",
     "output_type": "stream",
     "text": [
      "[[ 41.59482751]\n",
      " [ 59.43655008]\n",
      " [ 33.42469536]\n",
      " [ 40.5579171 ]\n",
      " [ 71.16557896]\n",
      " [ 27.10040817]\n",
      " [ 60.04444181]\n",
      " [ 58.30891218]\n",
      " [ 38.6730831 ]\n",
      " [ 52.00083727]\n",
      " [ 39.15168817]\n",
      " [ 31.5525942 ]\n",
      " [ 52.49034837]\n",
      " [ 36.63040418]\n",
      " [ 55.74190451]\n",
      " [ 55.30373652]\n",
      " [ 52.37174155]\n",
      " [ 57.31837229]\n",
      " [ 37.67475312]\n",
      " [ 50.15780303]]\n"
     ]
    }
   ],
   "source": [
    "x=50+10*np.random.randn(20,1)\n",
    "print(x)"
   ]
  },
  {
   "cell_type": "markdown",
   "metadata": {},
   "source": [
    "**Calculte the Mean of the Values:**"
   ]
  },
  {
   "cell_type": "markdown",
   "metadata": {},
   "source": [
    "$ \\bar{X} =\\frac{\\sum\\nolimits_{i=1}^{20} x_i}{20}$ the long and old-school way"
   ]
  },
  {
   "cell_type": "code",
   "execution_count": 104,
   "metadata": {},
   "outputs": [
    {
     "name": "stdout",
     "output_type": "stream",
     "text": [
      "47.5350298735\n"
     ]
    }
   ],
   "source": [
    "Xmean=np.sum(x)/20\n",
    "\n",
    "print(Xmean)"
   ]
  },
  {
   "cell_type": "markdown",
   "metadata": {},
   "source": [
    "or calculate it with a numpy function:"
   ]
  },
  {
   "cell_type": "code",
   "execution_count": 105,
   "metadata": {
    "collapsed": true
   },
   "outputs": [
    {
     "data": {
      "text/plain": [
       "47.535029873541738"
      ]
     },
     "execution_count": 105,
     "metadata": {},
     "output_type": "execute_result"
    }
   ],
   "source": [
    "np.mean(x)"
   ]
  },
  {
   "cell_type": "markdown",
   "metadata": {},
   "source": [
    "try it  yourself:"
   ]
  },
  {
   "cell_type": "code",
   "execution_count": null,
   "metadata": {},
   "outputs": [],
   "source": []
  },
  {
   "cell_type": "markdown",
   "metadata": {},
   "source": [
    "**Calculate the Standard Deviation of the Values:**"
   ]
  },
  {
   "cell_type": "markdown",
   "metadata": {},
   "source": [
    "$ std = \\sqrt{\\frac{\\sum\\nolimits_{i=1}^{20}(x_i - \\bar{X})^2}{20-1}}$"
   ]
  },
  {
   "cell_type": "code",
   "execution_count": 106,
   "metadata": {},
   "outputs": [
    {
     "data": {
      "text/plain": [
       "11.679563299046686"
      ]
     },
     "execution_count": 106,
     "metadata": {},
     "output_type": "execute_result"
    }
   ],
   "source": [
    "np.sqrt( np.sum((x-np.mean(x))**2)/19 ) "
   ]
  },
  {
   "cell_type": "code",
   "execution_count": 107,
   "metadata": {},
   "outputs": [
    {
     "data": {
      "text/plain": [
       "11.383830151298655"
      ]
     },
     "execution_count": 107,
     "metadata": {},
     "output_type": "execute_result"
    }
   ],
   "source": [
    "np.std(x)"
   ]
  },
  {
   "cell_type": "markdown",
   "metadata": {},
   "source": [
    "but how is numpy calculating here? Be carefull is you use the function and read the documentation first...!!! "
   ]
  },
  {
   "cell_type": "code",
   "execution_count": 108,
   "metadata": {},
   "outputs": [
    {
     "name": "stdout",
     "output_type": "stream",
     "text": [
      "11.679563299\n"
     ]
    }
   ],
   "source": [
    "print(np.std(x,ddof=1) )"
   ]
  },
  {
   "cell_type": "markdown",
   "metadata": {},
   "source": [
    "https://stackoverflow.com/questions/34050491/standard-deviation-in-numpy"
   ]
  },
  {
   "cell_type": "markdown",
   "metadata": {},
   "source": [
    "https://docs.scipy.org/doc/numpy-1.13.0/reference/generated/numpy.std.html"
   ]
  },
  {
   "cell_type": "markdown",
   "metadata": {},
   "source": [
    "ddof : int, optional\n",
    "\n",
    "ddof means **D**elta **D**egrees **o**f **F**reedom. The divisor used in calculations is N - ddof, where N represents the number of elements. **By default ddof is zero.**\n"
   ]
  },
  {
   "cell_type": "code",
   "execution_count": 65,
   "metadata": {},
   "outputs": [
    {
     "name": "stdout",
     "output_type": "stream",
     "text": [
      "[[ 6  7  8  9 10]]\n"
     ]
    }
   ],
   "source": [
    "numbers=np.array([[6,7,8,9,10]])\n",
    "print(numbers)"
   ]
  },
  {
   "cell_type": "code",
   "execution_count": 66,
   "metadata": {},
   "outputs": [
    {
     "data": {
      "text/plain": [
       "8.0"
      ]
     },
     "execution_count": 66,
     "metadata": {},
     "output_type": "execute_result"
    }
   ],
   "source": [
    "np.mean(numbers)"
   ]
  },
  {
   "cell_type": "code",
   "execution_count": 94,
   "metadata": {},
   "outputs": [
    {
     "data": {
      "text/plain": [
       "1.5811388300841898"
      ]
     },
     "execution_count": 94,
     "metadata": {},
     "output_type": "execute_result"
    }
   ],
   "source": [
    "np.std(numbers,ddof=1)"
   ]
  },
  {
   "cell_type": "markdown",
   "metadata": {},
   "source": [
    "is called the proper calculated std, with n-1 degrees of freedom"
   ]
  },
  {
   "cell_type": "code",
   "execution_count": 95,
   "metadata": {},
   "outputs": [
    {
     "data": {
      "text/plain": [
       "1.4142135623730951"
      ]
     },
     "execution_count": 95,
     "metadata": {},
     "output_type": "execute_result"
    }
   ],
   "source": [
    "np.std(numbers)"
   ]
  },
  {
   "cell_type": "markdown",
   "metadata": {},
   "source": [
    "is called a Maximum Likelihood estimation of the std"
   ]
  },
  {
   "cell_type": "markdown",
   "metadata": {},
   "source": [
    "explaind with a very simple example, see source..."
   ]
  },
  {
   "cell_type": "markdown",
   "metadata": {},
   "source": [
    "<img src=\"figures/std.jpg\">"
   ]
  },
  {
   "cell_type": "markdown",
   "metadata": {},
   "source": [
    "source: https://www.frustfrei-lernen.de/mathematik/standardabweichung-berechnen.html"
   ]
  },
  {
   "cell_type": "markdown",
   "metadata": {},
   "source": [
    "In the following notebook **-01a-Optimizing-your-SourceCode** I will show some usefull construction and techniques that ensure a better performance than the classical programming paradigm.\n"
   ]
  },
  {
   "cell_type": "code",
   "execution_count": null,
   "metadata": {},
   "outputs": [],
   "source": []
  },
  {
   "cell_type": "markdown",
   "metadata": {},
   "source": [
    "**Preprocessing in Data Analysis**\n",
    "----"
   ]
  },
  {
   "cell_type": "markdown",
   "metadata": {},
   "source": [
    "Show Data in its original content - just view"
   ]
  },
  {
   "cell_type": "code",
   "execution_count": null,
   "metadata": {},
   "outputs": [],
   "source": [
    "#Anzeigen der Bilder und Histogramme\n",
    "\n",
    "from scripts.BasisFunctions import showImage\n",
    "\n",
    "    \n",
    "    \n",
    "for layer in sorted(LayerTrain):\n",
    "    print layer\n",
    "    showImage( LayerTrain.get(layer))\n",
    "    #print Layers.get(layer)"
   ]
  },
  {
   "cell_type": "code",
   "execution_count": null,
   "metadata": {},
   "outputs": [],
   "source": []
  },
  {
   "cell_type": "code",
   "execution_count": null,
   "metadata": {},
   "outputs": [],
   "source": []
  },
  {
   "cell_type": "code",
   "execution_count": null,
   "metadata": {},
   "outputs": [],
   "source": []
  },
  {
   "cell_type": "markdown",
   "metadata": {},
   "source": [
    "- get number and index of noData Points (NaN)\n",
    "print('Anzahl NaN in Dataset-Name: {}'.format(np.sum(np.isnan(../Path-to-Dataset)*1)))\n",
    "\n",
    "\n",
    "- get number and index of (infinity positions)\n",
    "print('...these positions are set to Zero(0) :')\n",
    "Dataset[np.isinf(Dataset)]=0\n",
    "\n",
    "\n",
    ":Mean od Median insection"
   ]
  },
  {
   "cell_type": "code",
   "execution_count": null,
   "metadata": {},
   "outputs": [],
   "source": [
    "#Prüfung auf Datenvollständigkeit\n",
    "#NaN - Not a Number\n",
    "# Infty....\n",
    "\n",
    "print 'Anzahl infty in TIF_EucDist_faults: {}'.format(np.sum(np.isinf(TIF_r_EucDist_faults)*1))\n",
    "\n",
    "TIF_r_EucDist_roads[np.isinf(TIF_r_EucDist_roads)]=0\n",
    "TIF_r_EucDist_takhar[np.isinf(TIF_r_EucDist_takhar)]=0\n",
    "TIF_r_DistStreams[np.isinf(TIF_r_DistStreams)]=0\n",
    "\n",
    "print 'Anzahl infty in TIF_EucDist_faults: {}'.format(np.sum(np.isinf(TIF_r_EucDist_faults)*1))\n",
    "print 'Anzahl infty in TIF_EucDist_roads: {}'.format(np.sum(np.isinf(TIF_r_EucDist_roads)*1))\n",
    "print 'Anzahl infty in TIF_EucDist_takhar: {}'.format(np.sum(np.isinf(TIF_r_EucDist_takhar)*1))\n",
    "print 'Anzahl infty in TIF_DistStreams: {}'.format(np.sum(np.isinf(TIF_r_DistStreams)*1))\n"
   ]
  },
  {
   "cell_type": "code",
   "execution_count": null,
   "metadata": {},
   "outputs": [],
   "source": []
  },
  {
   "cell_type": "code",
   "execution_count": null,
   "metadata": {},
   "outputs": [],
   "source": []
  },
  {
   "cell_type": "code",
   "execution_count": null,
   "metadata": {},
   "outputs": [],
   "source": []
  },
  {
   "cell_type": "markdown",
   "metadata": {},
   "source": [
    "Change the scaling of the values in case they are unballanced.\n"
   ]
  },
  {
   "cell_type": "code",
   "execution_count": null,
   "metadata": {},
   "outputs": [],
   "source": [
    "\n",
    "print('for example apply a logarithmic scale to Distance Rasters')\n",
    "\n",
    "TIF_r_EucDist_faults =np.log(TIF_r_EucDist_faults)\n"
   ]
  },
  {
   "cell_type": "code",
   "execution_count": null,
   "metadata": {},
   "outputs": [],
   "source": []
  },
  {
   "cell_type": "code",
   "execution_count": null,
   "metadata": {},
   "outputs": [],
   "source": []
  },
  {
   "cell_type": "code",
   "execution_count": null,
   "metadata": {},
   "outputs": [],
   "source": []
  },
  {
   "cell_type": "markdown",
   "metadata": {},
   "source": [
    "Change Datatype of Rasters in case they do not match to the rest of the data"
   ]
  },
  {
   "cell_type": "code",
   "execution_count": null,
   "metadata": {},
   "outputs": [],
   "source": [
    "\n",
    "TIF_r_precip=np.float32(skio.imread(Folder+'TIF_precip.tif'))\n",
    "print 'TIF_r_precip Shape: ', TIF_r_precip.shape,TIF_r_precip.dtype\n",
    "Layers['TIF_r_precip']=TIF_r_precip\n"
   ]
  },
  {
   "cell_type": "code",
   "execution_count": null,
   "metadata": {},
   "outputs": [],
   "source": []
  },
  {
   "cell_type": "code",
   "execution_count": null,
   "metadata": {},
   "outputs": [],
   "source": []
  },
  {
   "cell_type": "code",
   "execution_count": null,
   "metadata": {},
   "outputs": [],
   "source": []
  },
  {
   "cell_type": "markdown",
   "metadata": {},
   "source": [
    "Create a Python dictionary to work efficintly with a bunch of raster arrays"
   ]
  },
  {
   "cell_type": "code",
   "execution_count": null,
   "metadata": {},
   "outputs": [],
   "source": [
    "Layers=dict()\n",
    "Layers['TIF_r_dem'] = TIF_r_dem\n",
    "Layers['TIF_r_precip']=TIF_r_precip"
   ]
  },
  {
   "cell_type": "code",
   "execution_count": null,
   "metadata": {},
   "outputs": [],
   "source": []
  },
  {
   "cell_type": "code",
   "execution_count": null,
   "metadata": {},
   "outputs": [],
   "source": []
  },
  {
   "cell_type": "code",
   "execution_count": null,
   "metadata": {},
   "outputs": [],
   "source": []
  },
  {
   "cell_type": "markdown",
   "metadata": {},
   "source": [
    "Generate/Split off new layers from specific numbers of a single array or reorganize the layers"
   ]
  },
  {
   "cell_type": "code",
   "execution_count": null,
   "metadata": {},
   "outputs": [],
   "source": [
    "Layers['TIF_n_LanduseRAL']=((Layers.get('TIF_n_lc93_32') ==1) | (Layers.get('TIF_n_lc93_32') ==5))*1.0\n",
    "print 'TIF_n_LanduseRAL ', Layers['TIF_n_LanduseRAL'].shape\n",
    "        \n",
    "Layers['TIF_n_LanduseRL']=(Layers.get('TIF_n_lc93_32') ==2)*1.0\n",
    "print 'TIF_n_LanduseRL ', Layers['TIF_n_LanduseRL'].shape\n",
    "        \n",
    "Layers['TIF_n_LanduseIRA']=((Layers.get('TIF_n_lc93_32') ==4) | (Layers.get('TIF_n_lc93_32') ==9) |(Layers.get('TIF_n_lc93_32') ==10))*1.0\n",
    "print 'TIF_n_LanduseIRA' ,Layers['TIF_n_LanduseIRA'].shape\n"
   ]
  },
  {
   "cell_type": "code",
   "execution_count": null,
   "metadata": {},
   "outputs": [],
   "source": [
    "Layers['TIF_n_VOLC']= (Layers.get('TIF_n_lith_type') == 1)*1.0  # % Volcanic ...... Vulkanisches Gestein\n",
    "print 'TIF_n_VOLC ', Layers['TIF_n_VOLC'].shape\n",
    "        \n",
    "Layers['TIF_n_SEDI']= (Layers.get('TIF_n_lith_type') == 2)*1.0  # % Sedimentary ... Sedimente\n",
    "print 'TIF_n_SEDI ', Layers['TIF_n_SEDI'].shape\n",
    "       \n",
    "Layers['TIF_n_PLUT']= (Layers.get('TIF_n_lith_type') == 3)*1.0  # % Plutonic....... Plutonisches Gestein\n",
    "print 'TIF_n_PLUT ', Layers['TIF_n_PLUT'].shape\n"
   ]
  },
  {
   "cell_type": "code",
   "execution_count": null,
   "metadata": {},
   "outputs": [],
   "source": []
  },
  {
   "cell_type": "code",
   "execution_count": null,
   "metadata": {},
   "outputs": [],
   "source": []
  },
  {
   "cell_type": "code",
   "execution_count": null,
   "metadata": {},
   "outputs": [],
   "source": []
  },
  {
   "cell_type": "code",
   "execution_count": null,
   "metadata": {},
   "outputs": [],
   "source": []
  },
  {
   "cell_type": "code",
   "execution_count": null,
   "metadata": {},
   "outputs": [],
   "source": []
  },
  {
   "cell_type": "markdown",
   "metadata": {},
   "source": [
    "Reshaping Arrays and Vectors "
   ]
  },
  {
   "cell_type": "code",
   "execution_count": null,
   "metadata": {},
   "outputs": [],
   "source": []
  },
  {
   "cell_type": "code",
   "execution_count": null,
   "metadata": {},
   "outputs": [],
   "source": []
  }
 ],
 "metadata": {
  "kernelspec": {
   "display_name": "Python 3",
   "language": "python",
   "name": "python3"
  },
  "language_info": {
   "codemirror_mode": {
    "name": "ipython",
    "version": 3
   },
   "file_extension": ".py",
   "mimetype": "text/x-python",
   "name": "python",
   "nbconvert_exporter": "python",
   "pygments_lexer": "ipython3",
   "version": "3.6.1"
  }
 },
 "nbformat": 4,
 "nbformat_minor": 2
}
