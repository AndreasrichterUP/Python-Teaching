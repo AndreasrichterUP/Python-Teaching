{
 "cells": [
  {
   "cell_type": "markdown",
   "metadata": {},
   "source": [
    "# **-01-Basics-of-Python-Programming** "
   ]
  },
  {
   "cell_type": "markdown",
   "metadata": {},
   "source": [
    "© by A.Richter (under construction)\n",
    "\n",
    "<img src=88x31.png  width=\"10%\" style=\"float: left;\"> "
   ]
  },
  {
   "cell_type": "markdown",
   "metadata": {},
   "source": [
    " "
   ]
  },
  {
   "cell_type": "markdown",
   "metadata": {},
   "source": [
    "**Preface:** \"...A programming language gives you the power to express some ideas, while \n",
    "limiting your abilities to express others.“  [LARRY CUBA, computer-animation artis](https://en.wikipedia.org/wiki/Larry_Cuba)\n",
    "\n",
    "This statement independent of a programming language points to the expression of ideas and creativity. The computer today is used as a tool in the hands of engineers, scientists or any other creative person. Just like a craftsman uses a screwdriver todays knowledgeworker use a specific programming language. But as we all know the toolbox of a craftsman accomodates much more tools than only screwdrivers.\n",
    "\n",
    "These notebooks are collections of usefull tools including explanations of theory ranging from computerscience to earthsciences, mathmatics and physics. The start is an introduction to the python language. Every notebook has a preface describing roughly the content and the pupose of the discussed topics."
   ]
  },
  {
   "cell_type": "markdown",
   "metadata": {},
   "source": [
    "# Overview of the notebook:\n",
    "    \n",
    "   1. [Basic Libray Imports, variables and printing](#basiclibraryimports)\n",
    "   2. [The Zen of Python](#zen)\n",
    "   3. [Intro to bits and bytes](#bits)\n",
    "   4. [A little bit of math in Python](#math)\n",
    "   5. [Python datatypes Part 1](#datatypes)\n",
    "   6. [If-Else Decision Constructions](#ifthen)\n",
    "   7. [Loop Constructions](#loops)\n",
    "   8. [Python datatypes Part 2](#datatypes2)\n",
    "   9. [Folder and File operations](#folders)\n",
    "   10. [Functions and methods](#functions)\n",
    "   11. [Basics of nummeric python (numpy), scientific python (scipy) and TensorFLow](#numpybasics)\n",
    "   12. [Revision of statistical tools](#stats)\n",
    "   13. [Preprocessing in Data Analysis](#preprocessing)"
   ]
  },
  {
   "cell_type": "markdown",
   "metadata": {},
   "source": [
    "**Sources: **\n",
    "www.introtopython.org  and    http://www.scipy-lectures.org/   \n"
   ]
  },
  {
   "cell_type": "markdown",
   "metadata": {},
   "source": [
    "But before we start with learning Python\n",
    "\n",
    "you should know at least a bit how to use the Commandline **CMD** for WINDOWS or **Terminal** for LINUX & MAC\n",
    "\n",
    "https://www.thomas-krenn.com/de/wiki/Cmd-Befehle_unter_Windows\n"
   ]
  },
  {
   "cell_type": "markdown",
   "metadata": {},
   "source": [
    "1) How do start the Commandline/Terminal in Windows, Linux, macOS? "
   ]
  },
  {
   "cell_type": "markdown",
   "metadata": {},
   "source": [
    "2) How do you change your position in the filesystem to a specific folder?"
   ]
  },
  {
   "cell_type": "markdown",
   "metadata": {},
   "source": [
    "3) How do you create a new txt file in that folder?"
   ]
  },
  {
   "cell_type": "markdown",
   "metadata": {},
   "source": [
    "4) How do you start Jupyter Notebook in this folder? \n",
    "\n",
    "\n",
    "==================================================================="
   ]
  },
  {
   "cell_type": "markdown",
   "metadata": {},
   "source": [
    "## 1. Basic Libray Imports, variables and printing <a name=\"basiclibraryimports\" ></a>"
   ]
  },
  {
   "cell_type": "markdown",
   "metadata": {},
   "source": [
    "In general Python is build modular, which means for special things look for the right module and simply import it..."
   ]
  },
  {
   "cell_type": "markdown",
   "metadata": {},
   "source": [
    "Basic Python Libraries or modules can be imported like this:"
   ]
  },
  {
   "cell_type": "code",
   "execution_count": 7,
   "metadata": {
    "collapsed": true,
    "jupyter": {
     "outputs_hidden": true
    }
   },
   "outputs": [],
   "source": [
    "import sys"
   ]
  },
  {
   "cell_type": "markdown",
   "metadata": {},
   "source": [
    "The keyword **'import'** followed by the name of the library you want to use."
   ]
  },
  {
   "cell_type": "markdown",
   "metadata": {},
   "source": [
    "There are some specials hidden in the python libraries, for example here:"
   ]
  },
  {
   "cell_type": "markdown",
   "metadata": {},
   "source": [
    "https://wiki.python.org/moin/UsefulModules                           # Overview\n",
    "\n",
    "https://www.glowscript.org/#/user/GlowScriptDemos/folder/Examples/   # 3D Examples\n",
    "\n",
    "https://pypi.org/project/geopy/                                      # Geo tools "
   ]
  },
  {
   "cell_type": "code",
   "execution_count": null,
   "metadata": {},
   "outputs": [],
   "source": []
  },
  {
   "cell_type": "markdown",
   "metadata": {},
   "source": [
    "When is a special module needed???\n",
    "\n",
    "For example see the equation  $10 \\cdot 10$ = $10^2$ = 100\n",
    "\n",
    "That implies that the logarithm to base 10 of 100 must be equal to 2.\n",
    "\n",
    "So how can I calculate this in python?\n"
   ]
  },
  {
   "cell_type": "code",
   "execution_count": 8,
   "metadata": {},
   "outputs": [],
   "source": [
    "#log10(100)"
   ]
  },
  {
   "cell_type": "markdown",
   "metadata": {},
   "source": [
    "this error message means the base python module library does not know the function log10()"
   ]
  },
  {
   "cell_type": "markdown",
   "metadata": {},
   "source": [
    "But the python module **math** has a definition of log10() and is therefor needed to calculate log10(100).\n",
    "\n",
    "So at first I have to import the **math** module"
   ]
  },
  {
   "cell_type": "code",
   "execution_count": 9,
   "metadata": {},
   "outputs": [],
   "source": [
    "import math"
   ]
  },
  {
   "cell_type": "markdown",
   "metadata": {},
   "source": [
    "and than I can use it in this way:"
   ]
  },
  {
   "cell_type": "code",
   "execution_count": 10,
   "metadata": {},
   "outputs": [
    {
     "data": {
      "text/plain": [
       "2.0"
      ]
     },
     "execution_count": 10,
     "metadata": {},
     "output_type": "execute_result"
    }
   ],
   "source": [
    "math.log10(100)"
   ]
  },
  {
   "cell_type": "markdown",
   "metadata": {},
   "source": [
    "A modular function is always called in the form: \"**moduleName.functionName(parameters)**\" "
   ]
  },
  {
   "cell_type": "code",
   "execution_count": null,
   "metadata": {},
   "outputs": [],
   "source": []
  },
  {
   "cell_type": "markdown",
   "metadata": {},
   "source": [
    "### Variables in Python"
   ]
  },
  {
   "cell_type": "code",
   "execution_count": 11,
   "metadata": {},
   "outputs": [],
   "source": [
    "x=3"
   ]
  },
  {
   "cell_type": "markdown",
   "metadata": {},
   "source": [
    "Python is very humble concerning variables. There is no need for prior definitions or declaration of the datatype (like in C/C++). Variable are simply assigned to values and can be used immediately."
   ]
  },
  {
   "cell_type": "markdown",
   "metadata": {},
   "source": [
    "**The Command \"whos\" is displaying the current use of variables in the main memory(RAM)**\n"
   ]
  },
  {
   "cell_type": "code",
   "execution_count": 12,
   "metadata": {
    "collapsed": false,
    "jupyter": {
     "outputs_hidden": false
    }
   },
   "outputs": [
    {
     "name": "stdout",
     "output_type": "stream",
     "text": [
      "Variable   Type      Data/Info\n",
      "------------------------------\n",
      "math       module    <module 'math' from '/ana<...>h.cpython-36m-darwin.so'>\n",
      "sys        module    <module 'sys' (built-in)>\n",
      "x          int       3\n"
     ]
    }
   ],
   "source": [
    "whos"
   ]
  },
  {
   "cell_type": "code",
   "execution_count": null,
   "metadata": {},
   "outputs": [],
   "source": []
  },
  {
   "cell_type": "code",
   "execution_count": null,
   "metadata": {},
   "outputs": [],
   "source": []
  },
  {
   "cell_type": "markdown",
   "metadata": {},
   "source": [
    "### Print out something in python"
   ]
  },
  {
   "cell_type": "markdown",
   "metadata": {},
   "source": [
    "Printing of an expression or a variable is easily done in this way:"
   ]
  },
  {
   "cell_type": "code",
   "execution_count": 13,
   "metadata": {
    "collapsed": false,
    "jupyter": {
     "outputs_hidden": false
    }
   },
   "outputs": [
    {
     "name": "stdout",
     "output_type": "stream",
     "text": [
      "HELLO WORLD!\n",
      "-------------\n",
      "+-/* Sum: 100 \n"
     ]
    }
   ],
   "source": [
    "print(\"HELLO WORLD!\")\n",
    "print(\"-------------\")\n",
    "print(\"+-/* Sum: {} \".format(100))"
   ]
  },
  {
   "cell_type": "markdown",
   "metadata": {},
   "source": [
    "Keep in mind that the older versions of python (e.g. Python 2.7) was not using the brackets. Python 3 is very strict in this case and forcing the use of **print(\"Text2print\", variabes)** "
   ]
  },
  {
   "cell_type": "code",
   "execution_count": 14,
   "metadata": {},
   "outputs": [
    {
     "name": "stdout",
     "output_type": "stream",
     "text": [
      "The number assigned to the Variable x is 3\n"
     ]
    }
   ],
   "source": [
    "print(\"The number assigned to the Variable x is\",x)"
   ]
  },
  {
   "cell_type": "code",
   "execution_count": null,
   "metadata": {},
   "outputs": [],
   "source": []
  },
  {
   "cell_type": "code",
   "execution_count": null,
   "metadata": {},
   "outputs": [],
   "source": []
  },
  {
   "cell_type": "markdown",
   "metadata": {},
   "source": [
    "## The Zen of Python <a name=\"zen\" ></a>\n"
   ]
  },
  {
   "cell_type": "markdown",
   "metadata": {},
   "source": []
  },
  {
   "cell_type": "code",
   "execution_count": 15,
   "metadata": {
    "collapsed": false,
    "jupyter": {
     "outputs_hidden": false
    }
   },
   "outputs": [
    {
     "name": "stdout",
     "output_type": "stream",
     "text": [
      "The Zen of Python, by Tim Peters\n",
      "\n",
      "Beautiful is better than ugly.\n",
      "Explicit is better than implicit.\n",
      "Simple is better than complex.\n",
      "Complex is better than complicated.\n",
      "Flat is better than nested.\n",
      "Sparse is better than dense.\n",
      "Readability counts.\n",
      "Special cases aren't special enough to break the rules.\n",
      "Although practicality beats purity.\n",
      "Errors should never pass silently.\n",
      "Unless explicitly silenced.\n",
      "In the face of ambiguity, refuse the temptation to guess.\n",
      "There should be one-- and preferably only one --obvious way to do it.\n",
      "Although that way may not be obvious at first unless you're Dutch.\n",
      "Now is better than never.\n",
      "Although never is often better than *right* now.\n",
      "If the implementation is hard to explain, it's a bad idea.\n",
      "If the implementation is easy to explain, it may be a good idea.\n",
      "Namespaces are one honking great idea -- let's do more of those!\n",
      "Gur Mra bs Clguba, ol Gvz Crgref\n",
      "\n",
      "Ornhgvshy vf orggre guna htyl.\n",
      "Rkcyvpvg vf orggre guna vzcyvpvg.\n",
      "Fvzcyr vf orggre guna pbzcyrk.\n",
      "Pbzcyrk vf orggre guna pbzcyvpngrq.\n",
      "Syng vf orggre guna arfgrq.\n",
      "Fcnefr vf orggre guna qrafr.\n",
      "Ernqnovyvgl pbhagf.\n",
      "Fcrpvny pnfrf nera'g fcrpvny rabhtu gb oernx gur ehyrf.\n",
      "Nygubhtu cenpgvpnyvgl orngf chevgl.\n",
      "Reebef fubhyq arire cnff fvyragyl.\n",
      "Hayrff rkcyvpvgyl fvyraprq.\n",
      "Va gur snpr bs nzovthvgl, ershfr gur grzcgngvba gb thrff.\n",
      "Gurer fubhyq or bar-- naq cersrenoyl bayl bar --boivbhf jnl gb qb vg.\n",
      "Nygubhtu gung jnl znl abg or boivbhf ng svefg hayrff lbh'er Qhgpu.\n",
      "Abj vf orggre guna arire.\n",
      "Nygubhtu arire vf bsgra orggre guna *evtug* abj.\n",
      "Vs gur vzcyrzragngvba vf uneq gb rkcynva, vg'f n onq vqrn.\n",
      "Vs gur vzcyrzragngvba vf rnfl gb rkcynva, vg znl or n tbbq vqrn.\n",
      "Anzrfcnprf ner bar ubaxvat terng vqrn -- yrg'f qb zber bs gubfr!\n",
      "======================================================================\n"
     ]
    }
   ],
   "source": [
    "import this\n",
    "#import codecs\n",
    "#print(this.s.decode('rot13'))\n",
    "print(this.s)\n",
    "print(70*'=')"
   ]
  },
  {
   "cell_type": "code",
   "execution_count": null,
   "metadata": {},
   "outputs": [],
   "source": []
  },
  {
   "cell_type": "code",
   "execution_count": 16,
   "metadata": {},
   "outputs": [
    {
     "name": "stdout",
     "output_type": "stream",
     "text": [
      "The Zen of Python, by Tim Peters\n",
      "\n",
      "Beautiful is better than ugly.\n",
      "Explicit is better than implicit.\n",
      "Simple is better than complex.\n",
      "Complex is better than complicated.\n",
      "Flat is better than nested.\n",
      "Sparse is better than dense.\n",
      "Readability counts.\n",
      "Special cases aren't special enough to break the rules.\n",
      "Although practicality beats purity.\n",
      "Errors should never pass silently.\n",
      "Unless explicitly silenced.\n",
      "In the face of ambiguity, refuse the temptation to guess.\n",
      "There should be one-- and preferably only one --obvious way to do it.\n",
      "Although that way may not be obvious at first unless you're Dutch.\n",
      "Now is better than never.\n",
      "Although never is often better than *right* now.\n",
      "If the implementation is hard to explain, it's a bad idea.\n",
      "If the implementation is easy to explain, it may be a good idea.\n",
      "Namespaces are one honking great idea -- let's do more of those!\n"
     ]
    }
   ],
   "source": [
    "d = {}\n",
    "for c in (65, 97):\n",
    "    for i in range(26):\n",
    "        d[chr(i+c)] = chr((i+13) % 26 + c)\n",
    "\n",
    "print(\"\".join([d.get(c, c) for c in this.s]))"
   ]
  },
  {
   "cell_type": "code",
   "execution_count": null,
   "metadata": {},
   "outputs": [],
   "source": []
  },
  {
   "cell_type": "markdown",
   "metadata": {},
   "source": [
    "## Intro to Bits and Bytes <a name=\"bits\" ></a>\n"
   ]
  },
  {
   "cell_type": "markdown",
   "metadata": {},
   "source": [
    "Computer Science is based on the idea of binary states, whether it's **Light: on/off** or **electr. Voltage: high/low** \n",
    "\n",
    "\n",
    "BIT = binary digit – englisch | in german \"binäre Ziffer\" or  \"Binärziffer\""
   ]
  },
  {
   "cell_type": "markdown",
   "metadata": {},
   "source": [
    "one bit can have two conditions $0$ or $1$ and can be expressed in a vector like this\n",
    "\n",
    "1bit = $\\begin{bmatrix}\n",
    "0          \\\\\n",
    "1        \\end{bmatrix}$ \n",
    "\n",
    "\n",
    "On a computer numbers can be used in form of the binary system or in form of the decimal system."
   ]
  },
  {
   "cell_type": "code",
   "execution_count": 17,
   "metadata": {},
   "outputs": [
    {
     "name": "stdout",
     "output_type": "stream",
     "text": [
      "binary equal decimal\n",
      "110001   =    49\n"
     ]
    }
   ],
   "source": [
    "print('binary equal decimal')\n",
    "print('110001   =   ', 1*(2**5)+1*(2**4)+0*(2**3)+0*(2**2)+0*(2**1)+1*(2**0))"
   ]
  },
  {
   "cell_type": "markdown",
   "metadata": {},
   "source": [
    "But how to calculate this:"
   ]
  },
  {
   "cell_type": "code",
   "execution_count": 18,
   "metadata": {},
   "outputs": [
    {
     "name": "stdout",
     "output_type": "stream",
     "text": [
      "49\n"
     ]
    }
   ],
   "source": [
    "x=1*(2**5)+1*(2**4)+0*(2**3)+0*(2**2)+0*(2**1)+1*(2**0)\n",
    "print(x)"
   ]
  },
  {
   "cell_type": "markdown",
   "metadata": {},
   "source": [
    "or"
   ]
  },
  {
   "cell_type": "code",
   "execution_count": 19,
   "metadata": {},
   "outputs": [
    {
     "name": "stdout",
     "output_type": "stream",
     "text": [
      "49\n"
     ]
    }
   ],
   "source": [
    "print(int('110001', 2))"
   ]
  },
  {
   "cell_type": "code",
   "execution_count": null,
   "metadata": {},
   "outputs": [],
   "source": []
  },
  {
   "cell_type": "markdown",
   "metadata": {},
   "source": [
    "1 **Byte** = 8 Bits\n",
    "= $\\begin{bmatrix}\n",
    "0  & 0&0&0&0&0&0&0       \\\\\n",
    "1  & 1&1&1&1&1&1&1     \\end{bmatrix}$\n",
    "\n",
    "so in general 8 options to decide for 1 or 0\n"
   ]
  },
  {
   "cell_type": "code",
   "execution_count": 20,
   "metadata": {},
   "outputs": [
    {
     "name": "stdout",
     "output_type": "stream",
     "text": [
      "10010101\n",
      "149\n"
     ]
    }
   ],
   "source": [
    "print(\"10010101\")\n",
    "print(int('10010101', 2))"
   ]
  },
  {
   "cell_type": "markdown",
   "metadata": {},
   "source": [
    "This means that the binary number: 10010101 represents the decimal number: 49"
   ]
  },
  {
   "cell_type": "markdown",
   "metadata": {},
   "source": [
    "**Gigabytes vs. Gigibytes**"
   ]
  },
  {
   "cell_type": "markdown",
   "metadata": {},
   "source": [
    "There are different aproaches of defining bigger bunches of information.\n",
    "For example are **1000 Bytes** called a **kilobyte** which is based on the well known **decimal scale**.\n",
    "\n",
    "$1000^2$ Bytes = 1MB\n",
    "\n",
    "$1000^3$ Bytes = 1GB\n"
   ]
  },
  {
   "cell_type": "code",
   "execution_count": 21,
   "metadata": {},
   "outputs": [
    {
     "name": "stdout",
     "output_type": "stream",
     "text": [
      "1000000000 Bytes = 1 GB = gigabyte\n"
     ]
    }
   ],
   "source": [
    "print(1000**3, \"Bytes = 1 GB = gigabyte\")"
   ]
  },
  {
   "cell_type": "markdown",
   "metadata": {},
   "source": [
    "On the other hand using a binary scale with"
   ]
  },
  {
   "cell_type": "markdown",
   "metadata": {},
   "source": [
    "1024**3  (GiB)  gibibyte"
   ]
  },
  {
   "cell_type": "markdown",
   "metadata": {},
   "source": [
    "https://en.wikipedia.org/wiki/Gigabyte"
   ]
  },
  {
   "cell_type": "markdown",
   "metadata": {},
   "source": [
    "try it yourself..."
   ]
  },
  {
   "cell_type": "code",
   "execution_count": 22,
   "metadata": {},
   "outputs": [
    {
     "name": "stdout",
     "output_type": "stream",
     "text": [
      "1073741824 Bytes = 1 GiB = Gigibyte\n"
     ]
    }
   ],
   "source": [
    "print(1024**3, \"Bytes = 1 GiB = Gigibyte\")"
   ]
  },
  {
   "cell_type": "code",
   "execution_count": null,
   "metadata": {},
   "outputs": [],
   "source": []
  },
  {
   "cell_type": "code",
   "execution_count": null,
   "metadata": {},
   "outputs": [],
   "source": []
  },
  {
   "cell_type": "markdown",
   "metadata": {},
   "source": [
    "## A little bit of math in Python <a name=\"math\" ></a>"
   ]
  },
  {
   "cell_type": "markdown",
   "metadata": {},
   "source": [
    "Check the Value of a Variable - compare it to another one"
   ]
  },
  {
   "cell_type": "code",
   "execution_count": 23,
   "metadata": {
    "collapsed": true,
    "jupyter": {
     "outputs_hidden": true
    }
   },
   "outputs": [],
   "source": [
    "x=3"
   ]
  },
  {
   "cell_type": "markdown",
   "metadata": {},
   "source": [
    "This means that the memory assigned to the variable x is filled with the value 3"
   ]
  },
  {
   "cell_type": "code",
   "execution_count": 24,
   "metadata": {
    "collapsed": false,
    "jupyter": {
     "outputs_hidden": false
    }
   },
   "outputs": [
    {
     "data": {
      "text/plain": [
       "False"
      ]
     },
     "execution_count": 24,
     "metadata": {},
     "output_type": "execute_result"
    }
   ],
   "source": [
    "x==5"
   ]
  },
  {
   "cell_type": "markdown",
   "metadata": {},
   "source": [
    "The double equal sign (==) is a completly different operation. It implies the comparison of the value stored in the variable x with the value 5. So in other words is 3 equal to 5? No!"
   ]
  },
  {
   "cell_type": "code",
   "execution_count": 25,
   "metadata": {
    "collapsed": false,
    "jupyter": {
     "outputs_hidden": false
    }
   },
   "outputs": [
    {
     "data": {
      "text/plain": [
       "True"
      ]
     },
     "execution_count": 25,
     "metadata": {},
     "output_type": "execute_result"
    }
   ],
   "source": [
    "x==3"
   ]
  },
  {
   "cell_type": "markdown",
   "metadata": {},
   "source": [
    "But 3 is equal to 3. That's right!\n",
    "\n",
    "The basic mathmatical operations are expressed for example like this:"
   ]
  },
  {
   "cell_type": "code",
   "execution_count": 26,
   "metadata": {
    "collapsed": true,
    "jupyter": {
     "outputs_hidden": true
    }
   },
   "outputs": [
    {
     "name": "stdout",
     "output_type": "stream",
     "text": [
      "8\n",
      "-2\n",
      "15\n",
      "0.6\n"
     ]
    }
   ],
   "source": [
    "x=3\n",
    "y=5\n",
    "print(x+y)\n",
    "print(x-y)\n",
    "print(x*y)\n",
    "print(x/y)"
   ]
  },
  {
   "cell_type": "markdown",
   "metadata": {},
   "source": [
    "Division of values in Python 3 is different compared to Python 2 --> Python-2 is using \"Int\" Python-3 always converts to \"Float\" before any calculation is done!!!"
   ]
  },
  {
   "cell_type": "code",
   "execution_count": 27,
   "metadata": {
    "collapsed": false,
    "jupyter": {
     "outputs_hidden": false
    }
   },
   "outputs": [
    {
     "data": {
      "text/plain": [
       "1.6666666666666667"
      ]
     },
     "execution_count": 27,
     "metadata": {},
     "output_type": "execute_result"
    }
   ],
   "source": [
    "5/3"
   ]
  },
  {
   "cell_type": "code",
   "execution_count": 28,
   "metadata": {
    "collapsed": false,
    "jupyter": {
     "outputs_hidden": false
    }
   },
   "outputs": [
    {
     "data": {
      "text/plain": [
       "1.6666666666666667"
      ]
     },
     "execution_count": 28,
     "metadata": {},
     "output_type": "execute_result"
    }
   ],
   "source": [
    "5.0/3.0"
   ]
  },
  {
   "cell_type": "code",
   "execution_count": 29,
   "metadata": {},
   "outputs": [
    {
     "data": {
      "text/plain": [
       "125"
      ]
     },
     "execution_count": 29,
     "metadata": {},
     "output_type": "execute_result"
    }
   ],
   "source": [
    "5**3"
   ]
  },
  {
   "cell_type": "markdown",
   "metadata": {},
   "source": [
    "calculates the the power: $5^3 =5 * 5 * 5=125$\n"
   ]
  },
  {
   "cell_type": "code",
   "execution_count": null,
   "metadata": {},
   "outputs": [],
   "source": []
  },
  {
   "cell_type": "code",
   "execution_count": null,
   "metadata": {},
   "outputs": [],
   "source": []
  },
  {
   "cell_type": "markdown",
   "metadata": {},
   "source": [
    "## Python Datatypes <a name=\"datatypes\" ></a>"
   ]
  },
  {
   "cell_type": "markdown",
   "metadata": {},
   "source": [
    "We will now have a look at basic Datentypes like integer (\"**int**\") and floating point numbers like \"**float**\" or \"**double**\" and of course character types like \"**string**\"."
   ]
  },
  {
   "cell_type": "markdown",
   "metadata": {},
   "source": [
    "### Typ: Sting"
   ]
  },
  {
   "cell_type": "code",
   "execution_count": 30,
   "metadata": {
    "collapsed": false,
    "jupyter": {
     "outputs_hidden": false
    }
   },
   "outputs": [
    {
     "name": "stdout",
     "output_type": "stream",
     "text": [
      "D:\\BHT-BERLIN\n",
      "Daten\\datei1.shp\n",
      "<class 'str'>\n",
      "Size: 79 Bytes\n"
     ]
    }
   ],
   "source": [
    "import sys\n",
    "S=\"D:\\BHT-BERLIN\\nDaten\\datei1.shp\"\n",
    "print(S)\n",
    "print(type(S))\n",
    "print(\"Size: {} Bytes\".format(sys.getsizeof(S)))"
   ]
  },
  {
   "cell_type": "markdown",
   "metadata": {},
   "source": [
    "oh look what happened here? The String S was cut in the middle...but why???"
   ]
  },
  {
   "cell_type": "markdown",
   "metadata": {},
   "source": [
    "the folder  **\"\\nDaten\"**  has a problem, the **\"\\n\"** is interpreteed as a line break!!! "
   ]
  },
  {
   "cell_type": "markdown",
   "metadata": {},
   "source": [
    "try ist yourself with a different folder path of your choice..."
   ]
  },
  {
   "cell_type": "code",
   "execution_count": null,
   "metadata": {},
   "outputs": [],
   "source": []
  },
  {
   "cell_type": "markdown",
   "metadata": {},
   "source": [
    "...better use it this way: \" / \" instead of \" \\ \" to separate folders"
   ]
  },
  {
   "cell_type": "markdown",
   "metadata": {},
   "source": []
  },
  {
   "cell_type": "code",
   "execution_count": 31,
   "metadata": {},
   "outputs": [
    {
     "name": "stdout",
     "output_type": "stream",
     "text": [
      "D:/BHT-BERLIN/nDaten/datei1.shp\n",
      "<class 'str'>\n",
      "Size: 80 Bytes\n"
     ]
    }
   ],
   "source": [
    "S=\"D:/BHT-BERLIN/nDaten/datei1.shp\"\n",
    "print(S)\n",
    "print(type(S))\n",
    "print(\"Size: {} Bytes\".format(sys.getsizeof(S)))\n"
   ]
  },
  {
   "cell_type": "markdown",
   "metadata": {},
   "source": [
    "or use a so called raw string format **r\"... \\ ... \\ ...\"**"
   ]
  },
  {
   "cell_type": "code",
   "execution_count": 32,
   "metadata": {},
   "outputs": [
    {
     "name": "stdout",
     "output_type": "stream",
     "text": [
      "D:\\BHT-BERLIN\\nDaten\\datei1.shp\n",
      "<class 'str'>\n",
      "Size: 80 Bytes\n"
     ]
    }
   ],
   "source": [
    "S=r\"D:\\BHT-BERLIN\\nDaten\\datei1.shp\"\n",
    "print(S)\n",
    "print(type(S))\n",
    "print(\"Size: {} Bytes\".format(sys.getsizeof(S)))"
   ]
  },
  {
   "cell_type": "markdown",
   "metadata": {},
   "source": [
    "which will work in the same way"
   ]
  },
  {
   "cell_type": "code",
   "execution_count": 33,
   "metadata": {
    "collapsed": false,
    "jupyter": {
     "outputs_hidden": false
    }
   },
   "outputs": [
    {
     "name": "stdout",
     "output_type": "stream",
     "text": [
      "BHT - Berlin\n",
      "---------------\n",
      "BHT\n",
      "Size: 52 Bytes\n",
      "Berlin\n",
      "Size: 55 Bytes\n"
     ]
    }
   ],
   "source": [
    "y=\"BHT\"\n",
    "z=\"Berlin\"\n",
    "print(y+\" - \"+z)\n",
    "print(15*\"-\")\n",
    "print(y) \n",
    "print(\"Size: {} Bytes\".format(sys.getsizeof(y)))\n",
    "print(z) \n",
    "print(\"Size: {} Bytes\".format(sys.getsizeof(z)))"
   ]
  },
  {
   "cell_type": "markdown",
   "metadata": {},
   "source": [
    "Strings can be separated or splitted into sub-strings just by calling the character index. For example the index [0:14] give this sub-string:"
   ]
  },
  {
   "cell_type": "code",
   "execution_count": 34,
   "metadata": {},
   "outputs": [
    {
     "name": "stdout",
     "output_type": "stream",
     "text": [
      "D:\\BHT-BERLIN\\nDaten\\datei1.shp\n",
      "----------------------------------------\n",
      "D:\\BHT-BERLIN\\\n"
     ]
    }
   ],
   "source": [
    "print(S)\n",
    "print(40*'-')\n",
    "print(S[0:14])"
   ]
  },
  {
   "cell_type": "markdown",
   "metadata": {},
   "source": [
    "A very useful trick in playing with indices is that python supports negativ values:"
   ]
  },
  {
   "cell_type": "code",
   "execution_count": 35,
   "metadata": {},
   "outputs": [
    {
     "name": "stdout",
     "output_type": "stream",
     "text": [
      "D:\\BHT-BERLIN\\nDaten\\datei1.shp\n",
      "----------------------------------------\n",
      "D:\\BHT-BERLIN\\nDaten\\datei1\n"
     ]
    }
   ],
   "source": [
    "print(S)\n",
    "print(40*'-')\n",
    "print(S[0:-4])"
   ]
  },
  {
   "cell_type": "markdown",
   "metadata": {},
   "source": [
    "which can be used to get a filename without any file extension\n",
    "\n",
    "and to get just the file extension without knowing how long the path to the file is:"
   ]
  },
  {
   "cell_type": "code",
   "execution_count": 36,
   "metadata": {},
   "outputs": [
    {
     "name": "stdout",
     "output_type": "stream",
     "text": [
      "D:\\BHT-BERLIN\\nDaten\\datei1.shp\n",
      "----------------------------------------\n",
      ".shp\n"
     ]
    }
   ],
   "source": [
    "print(S)\n",
    "print(40*'-')\n",
    "print(S[-4:])"
   ]
  },
  {
   "cell_type": "markdown",
   "metadata": {},
   "source": [
    "### Type: Integer "
   ]
  },
  {
   "cell_type": "code",
   "execution_count": 37,
   "metadata": {
    "collapsed": false,
    "jupyter": {
     "outputs_hidden": false
    }
   },
   "outputs": [
    {
     "name": "stdout",
     "output_type": "stream",
     "text": [
      "<class 'int'>\n",
      "Size:24 Bytes\n"
     ]
    }
   ],
   "source": [
    "I=0\n",
    "print(type(I))\n",
    "print(\"Size:{} Bytes\".format(sys.getsizeof(I)) )"
   ]
  },
  {
   "cell_type": "code",
   "execution_count": 38,
   "metadata": {},
   "outputs": [
    {
     "name": "stdout",
     "output_type": "stream",
     "text": [
      "<class 'int'>\n",
      "Size:28 Bytes\n"
     ]
    }
   ],
   "source": [
    "I=1\n",
    "print(type(I))\n",
    "print(\"Size:{} Bytes\".format(sys.getsizeof(I)) )"
   ]
  },
  {
   "cell_type": "code",
   "execution_count": 39,
   "metadata": {},
   "outputs": [
    {
     "name": "stdout",
     "output_type": "stream",
     "text": [
      "Size:36 Bytes\n"
     ]
    }
   ],
   "source": [
    "print(\"Size:{} Bytes\".format(sys.getsizeof(2 ** 63)) )"
   ]
  },
  {
   "cell_type": "code",
   "execution_count": null,
   "metadata": {},
   "outputs": [],
   "source": []
  },
  {
   "cell_type": "markdown",
   "metadata": {},
   "source": [
    "### Type: Floating point"
   ]
  },
  {
   "cell_type": "code",
   "execution_count": 40,
   "metadata": {
    "collapsed": false,
    "jupyter": {
     "outputs_hidden": false
    }
   },
   "outputs": [
    {
     "name": "stdout",
     "output_type": "stream",
     "text": [
      "<class 'float'>\n",
      "Size:24 Bytes\n"
     ]
    }
   ],
   "source": [
    "F=2.0\n",
    "#x=6.45678987665454433345666\n",
    "print(type(F))\n",
    "print(\"Size:{} Bytes\".format(sys.getsizeof(F)))"
   ]
  },
  {
   "cell_type": "code",
   "execution_count": 41,
   "metadata": {
    "collapsed": false,
    "jupyter": {
     "outputs_hidden": false
    }
   },
   "outputs": [
    {
     "name": "stdout",
     "output_type": "stream",
     "text": [
      "<class 'float'>\n",
      "Size:24 Bytes\n"
     ]
    }
   ],
   "source": [
    "F=6.45678987665454433345666\n",
    "print(type(F))\n",
    "print(\"Size:{} Bytes\".format(sys.getsizeof(F)))"
   ]
  },
  {
   "cell_type": "markdown",
   "metadata": {},
   "source": [
    "==> Why are the sizes of INT and FLOAT different?\n",
    "\n",
    "https://stackoverflow.com/questions/10365624/sys-getsizeofint-returns-an-unreasonably-large-value\n",
    "\n",
    "https://stackoverflow.com/questions/29826523/python-float-precision-float"
   ]
  },
  {
   "cell_type": "markdown",
   "metadata": {},
   "source": []
  },
  {
   "cell_type": "markdown",
   "metadata": {},
   "source": [
    "## If-Else Decision Constructions <a name=\"ifthen\" ></a>"
   ]
  },
  {
   "cell_type": "markdown",
   "metadata": {},
   "source": [
    "In Python this is used in this way: "
   ]
  },
  {
   "cell_type": "code",
   "execution_count": 42,
   "metadata": {
    "collapsed": false,
    "jupyter": {
     "outputs_hidden": false
    }
   },
   "outputs": [
    {
     "name": "stdout",
     "output_type": "stream",
     "text": [
      "95\n"
     ]
    }
   ],
   "source": [
    "x=5\n",
    "\n",
    "if x<0:\n",
    "    print(x)\n",
    "    print(2*x)\n",
    "else:\n",
    "    print(100-x)"
   ]
  },
  {
   "cell_type": "markdown",
   "metadata": {},
   "source": [
    "Keep an eye on the block that is executed when the if condition (here $x<0$) was evaluated successfully. All statements have to start in the same column (greater than column 1) otherwise python will rise an error."
   ]
  },
  {
   "cell_type": "code",
   "execution_count": 43,
   "metadata": {},
   "outputs": [
    {
     "ename": "IndentationError",
     "evalue": "unexpected indent (<ipython-input-43-e92e48d70095>, line 5)",
     "output_type": "error",
     "traceback": [
      "\u001b[0;36m  File \u001b[0;32m\"<ipython-input-43-e92e48d70095>\"\u001b[0;36m, line \u001b[0;32m5\u001b[0m\n\u001b[0;31m    print(2*x)\u001b[0m\n\u001b[0m    ^\u001b[0m\n\u001b[0;31mIndentationError\u001b[0m\u001b[0;31m:\u001b[0m unexpected indent\n"
     ]
    }
   ],
   "source": [
    "x=-5\n",
    "\n",
    "if x<0:\n",
    "    print(x)\n",
    "     print(2*x)\n",
    "else:\n",
    "    print(100-x)"
   ]
  },
  {
   "cell_type": "code",
   "execution_count": null,
   "metadata": {},
   "outputs": [],
   "source": [
    "x=-5\n",
    "\n",
    "if x<0:\n",
    "    print(x)\n",
    "    print(2*x)\n",
    "else:\n",
    "    print(100-x)"
   ]
  },
  {
   "cell_type": "markdown",
   "metadata": {},
   "source": [
    "this is also mandatory for the **else** block but obviously we have here only on line of code.\n",
    "\n",
    "Other programming languages like C or Java require brackets to start or to end a block construktion. Python just interpretes all statements in the same column to be part of the current block. \n",
    "\n",
    "Regarding the condition that is evaluated in the first if-statement all sorts of logic examples like **...and...**,  **...or...**, **not...**, **...greater than...** constructions can be used:\n",
    "\n",
    "\n",
    "   - Equals: a == b\n",
    "   - Not Equals: a != b\n",
    "   - Less than: a < b\n",
    "   - Less than or equal to: a <= b\n",
    "   - Greater than: a > b\n",
    "   - Greater than or equal to: a >= b\n",
    "   - ..."
   ]
  },
  {
   "cell_type": "markdown",
   "metadata": {},
   "source": [
    "Different cases can also be expressed with the **elif** branch: "
   ]
  },
  {
   "cell_type": "code",
   "execution_count": null,
   "metadata": {},
   "outputs": [],
   "source": [
    "a = 33\n",
    "b = 33\n",
    "if b > a:\n",
    "    print(\"b is greater than a\")\n",
    "elif a == b:\n",
    "    print(\"a and b are equal\")"
   ]
  },
  {
   "cell_type": "code",
   "execution_count": null,
   "metadata": {},
   "outputs": [],
   "source": []
  },
  {
   "cell_type": "code",
   "execution_count": null,
   "metadata": {},
   "outputs": [],
   "source": []
  },
  {
   "cell_type": "markdown",
   "metadata": {},
   "source": [
    "## Loop Constructions <a name=\"loops\" ></a>"
   ]
  },
  {
   "cell_type": "markdown",
   "metadata": {},
   "source": [
    "Loops are the second basic pillar used in programming languages next to conditionals."
   ]
  },
  {
   "cell_type": "markdown",
   "metadata": {},
   "source": [
    "There are different loops available in python, but the most widely used loop is the **for-loop** "
   ]
  },
  {
   "cell_type": "markdown",
   "metadata": {},
   "source": [
    "### while-Loop"
   ]
  },
  {
   "cell_type": "markdown",
   "metadata": {},
   "source": [
    "This is a simple example for a while-loop construction:"
   ]
  },
  {
   "cell_type": "code",
   "execution_count": null,
   "metadata": {
    "collapsed": false,
    "jupyter": {
     "outputs_hidden": false
    }
   },
   "outputs": [],
   "source": [
    "x=0\n",
    "while x<10:\n",
    "    print(x)\n",
    "    x=x+1"
   ]
  },
  {
   "cell_type": "markdown",
   "metadata": {},
   "source": [
    "The while-loop is mainly helpful in cases of permanently running codes. Accordingly we can choose a condition which is always true so the codes in the while-block are repeated until an external break signal is sent. [Embedded codes](#https://micropython.org/) for example make use of that.  "
   ]
  },
  {
   "cell_type": "markdown",
   "metadata": {},
   "source": [
    "### for-loop"
   ]
  },
  {
   "cell_type": "markdown",
   "metadata": {},
   "source": [
    "The power of the for-loop construction is mainly that it is implemented as a **for-each algorithm**.\n",
    "This means that the user does not need to know how many item there are to be iterarted over before the loop starts. The for loop works on python lists that inherrently know their start, end and their number of items in between."
   ]
  },
  {
   "cell_type": "code",
   "execution_count": null,
   "metadata": {
    "collapsed": false,
    "jupyter": {
     "outputs_hidden": false
    }
   },
   "outputs": [],
   "source": [
    "for i in range(35,40):\n",
    "    print(i)"
   ]
  },
  {
   "cell_type": "code",
   "execution_count": null,
   "metadata": {},
   "outputs": [],
   "source": [
    "for i in range(35,55,5):\n",
    "    print(i)"
   ]
  },
  {
   "cell_type": "markdown",
   "metadata": {},
   "source": [
    "The function **range(START,STOP,STEP)** provides a highly flexible tool in combination with the for-Loop\n",
    "\n",
    "Be aware that the specified STOP Value is always evaluated at the index before the value itself.\n"
   ]
  },
  {
   "cell_type": "markdown",
   "metadata": {},
   "source": [
    "References: \n",
    "\n",
    "   - http://introtopython.org/while_input.html\n",
    "   - https://www.geeksforgeeks.org/loops-in-python/"
   ]
  },
  {
   "cell_type": "code",
   "execution_count": null,
   "metadata": {},
   "outputs": [],
   "source": []
  },
  {
   "cell_type": "code",
   "execution_count": null,
   "metadata": {},
   "outputs": [],
   "source": []
  },
  {
   "cell_type": "markdown",
   "metadata": {},
   "source": [
    "## Python Datatypes Part 2 <a name=\"datatypes2\" ></a>"
   ]
  },
  {
   "cell_type": "markdown",
   "metadata": {},
   "source": [
    "### Type: list"
   ]
  },
  {
   "cell_type": "markdown",
   "metadata": {},
   "source": [
    "A python list can be created by asigning a name to the squared brackets just like in the following line: "
   ]
  },
  {
   "cell_type": "code",
   "execution_count": null,
   "metadata": {},
   "outputs": [],
   "source": [
    "usernames = []"
   ]
  },
  {
   "cell_type": "code",
   "execution_count": null,
   "metadata": {},
   "outputs": [],
   "source": [
    "whos"
   ]
  },
  {
   "cell_type": "markdown",
   "metadata": {},
   "source": [
    "This is an empty list-object. We can check the type of constructed object by the command **whos**.\n",
    "\n",
    "A List can also be created already filled with values like this example shows. The for-loop as shown in the previous section can deal with list objects in that way: "
   ]
  },
  {
   "cell_type": "code",
   "execution_count": null,
   "metadata": {},
   "outputs": [],
   "source": [
    "names = ['peter', 'paul', 'jenny']\n",
    "\n",
    "for name in names:\n",
    "    print(\"Hello, \" + name.title() + \"!\") name."
   ]
  },
  {
   "cell_type": "markdown",
   "metadata": {},
   "source": [
    "The List-object has inherrited a lot of methods from its super-class. Just type **\"name.\"** + TAB key to see all the options:"
   ]
  },
  {
   "cell_type": "code",
   "execution_count": null,
   "metadata": {},
   "outputs": [],
   "source": [
    "name."
   ]
  },
  {
   "cell_type": "code",
   "execution_count": null,
   "metadata": {},
   "outputs": [],
   "source": [
    "names."
   ]
  },
  {
   "cell_type": "markdown",
   "metadata": {},
   "source": [
    "For example the **append()** method can be used to add an entry to the list."
   ]
  },
  {
   "cell_type": "code",
   "execution_count": null,
   "metadata": {},
   "outputs": [],
   "source": [
    "names.append(\"julia\")"
   ]
  },
  {
   "cell_type": "code",
   "execution_count": null,
   "metadata": {},
   "outputs": [],
   "source": [
    "for name in names:\n",
    "    print(\"Hello, \" + name.title() + \"!\")"
   ]
  },
  {
   "cell_type": "code",
   "execution_count": null,
   "metadata": {},
   "outputs": [],
   "source": [
    "for name in names:\n",
    "    print(name)"
   ]
  },
  {
   "cell_type": "markdown",
   "metadata": {},
   "source": [
    "The List values are enumerated thats why we can do something like that:"
   ]
  },
  {
   "cell_type": "code",
   "execution_count": null,
   "metadata": {},
   "outputs": [],
   "source": [
    "for index, name in enumerate(names):\n",
    "    print(\"Index: \" + str(index) + \" Name: \" + name.title())"
   ]
  },
  {
   "cell_type": "markdown",
   "metadata": {},
   "source": [
    "Lists can also be created with numeric values instead of strings:"
   ]
  },
  {
   "cell_type": "code",
   "execution_count": null,
   "metadata": {},
   "outputs": [],
   "source": [
    "numbers = [1, 3, 4, 2, 7, 9, 24, 8, 5, 11]\n",
    "print(numbers)"
   ]
  },
  {
   "cell_type": "code",
   "execution_count": null,
   "metadata": {},
   "outputs": [],
   "source": [
    "numbers.sort()\n",
    "print(numbers)"
   ]
  },
  {
   "cell_type": "code",
   "execution_count": null,
   "metadata": {},
   "outputs": [],
   "source": [
    "numbers.sort(reverse=True)\n",
    "print(numbers)"
   ]
  },
  {
   "cell_type": "code",
   "execution_count": null,
   "metadata": {},
   "outputs": [],
   "source": []
  },
  {
   "cell_type": "code",
   "execution_count": null,
   "metadata": {},
   "outputs": [],
   "source": [
    "number_count = len(numbers)\n",
    "print(number_count)"
   ]
  },
  {
   "cell_type": "code",
   "execution_count": null,
   "metadata": {},
   "outputs": [],
   "source": []
  },
  {
   "cell_type": "code",
   "execution_count": null,
   "metadata": {},
   "outputs": [],
   "source": []
  },
  {
   "cell_type": "markdown",
   "metadata": {},
   "source": [
    "### Type: tuple"
   ]
  },
  {
   "cell_type": "markdown",
   "metadata": {},
   "source": [
    "Comparing the type **tuple** to the type **list** we can easily see a difference in the used brackets. Tuples are generated via the curved **()** brackets as parentheses and not with squared brackets.\n",
    "\n",
    "Tuples are basically list that cannot be changed. As we have seen before in a list elements can be added or deleted from it. This is not possible with tuples as there are no such methods to append or delete in that class."
   ]
  },
  {
   "cell_type": "code",
   "execution_count": null,
   "metadata": {},
   "outputs": [],
   "source": [
    "colors = ('red', 'green', 'blue')\n",
    "print(\"The first color is: \" + colors[0])\n",
    "\n",
    "print(\"\\nThe available colors are:\")\n",
    "for color in colors:\n",
    "    print(\"- \" + color)"
   ]
  },
  {
   "cell_type": "code",
   "execution_count": null,
   "metadata": {},
   "outputs": [],
   "source": [
    "colors.append(\"yellow\")"
   ]
  },
  {
   "cell_type": "code",
   "execution_count": null,
   "metadata": {},
   "outputs": [],
   "source": []
  },
  {
   "cell_type": "markdown",
   "metadata": {},
   "source": [
    "### Type: dictionary"
   ]
  },
  {
   "cell_type": "markdown",
   "metadata": {},
   "source": [
    "is a list of object saved in a key - value pair structure."
   ]
  },
  {
   "cell_type": "raw",
   "metadata": {},
   "source": [
    "\n",
    "dictionary_name = {key_1: value_1, key_2: value_2, key_3: value_3}\n",
    "\n"
   ]
  },
  {
   "cell_type": "code",
   "execution_count": null,
   "metadata": {},
   "outputs": [],
   "source": []
  },
  {
   "cell_type": "code",
   "execution_count": null,
   "metadata": {},
   "outputs": [],
   "source": []
  },
  {
   "cell_type": "code",
   "execution_count": null,
   "metadata": {},
   "outputs": [],
   "source": []
  },
  {
   "cell_type": "code",
   "execution_count": null,
   "metadata": {},
   "outputs": [],
   "source": []
  },
  {
   "cell_type": "code",
   "execution_count": null,
   "metadata": {},
   "outputs": [],
   "source": []
  },
  {
   "cell_type": "code",
   "execution_count": null,
   "metadata": {},
   "outputs": [],
   "source": []
  },
  {
   "cell_type": "code",
   "execution_count": null,
   "metadata": {},
   "outputs": [],
   "source": []
  },
  {
   "cell_type": "code",
   "execution_count": null,
   "metadata": {},
   "outputs": [],
   "source": []
  },
  {
   "cell_type": "markdown",
   "metadata": {},
   "source": [
    "## Folder and File Operations <a name=\"folders\" ></a>"
   ]
  },
  {
   "cell_type": "markdown",
   "metadata": {},
   "source": [
    "To Search a Folder for a specific File Type, the following construction can be used.\n",
    "\n",
    "glob is a module to search folderpaths and make lists of the contents."
   ]
  },
  {
   "cell_type": "code",
   "execution_count": null,
   "metadata": {
    "collapsed": false,
    "jupyter": {
     "outputs_hidden": false
    }
   },
   "outputs": [],
   "source": [
    "import glob\n",
    "Folder='figures/'\n",
    "#Folder='../../_Data_ori_Tif/AOI2_small_6_Test/'\n",
    "# https://docs.python.org/2/library/glob.html \n",
    "# http://stackoverflow.com/questions/3207219/how-to-list-all-files-of-a-directory-in-python\n",
    "\n",
    "JPGs=glob.glob(Folder+\"*.jpg\")\n",
    "PNGs=glob.glob(Folder+\"*.png\")\n",
    "\n",
    "for j in JPGs:\n",
    "    print(j)\n",
    "\n",
    "print(30*'-') \n",
    "    \n",
    "for p in PNGs:\n",
    "    print(p)"
   ]
  },
  {
   "cell_type": "markdown",
   "metadata": {},
   "source": [
    "In this little example the **for-each** character is shown best. All we need to do is generating a python list befor using it in the for-loop construction. Data can be easily manipulated this way."
   ]
  },
  {
   "cell_type": "code",
   "execution_count": null,
   "metadata": {},
   "outputs": [],
   "source": []
  },
  {
   "cell_type": "markdown",
   "metadata": {},
   "source": [
    "## Functions and methods <a name=\"functions\" ></a>"
   ]
  },
  {
   "cell_type": "markdown",
   "metadata": {},
   "source": [
    "Functions are a great and important topic in Python. We have already used some of them in all the examples before like **print(..)** or **math.log10(...)**. Those are so called build-in functions which can be used right from scratch or after import of specific module. \n",
    "\n",
    "Python is build modular and open so that every user can write his own functions just as needed to solve the specific requirements"
   ]
  },
  {
   "cell_type": "markdown",
   "metadata": {},
   "source": [
    "Of course python supports the **Object-Oriented-Programming paradigm (OOP)**"
   ]
  },
  {
   "cell_type": "markdown",
   "metadata": {},
   "source": [
    "\n",
    "   - Method is called by its name, but it is associated to an object (dependent).\n",
    "   - A method is implicitly passed the object on which it is invoked.\n",
    "   - It may or may not return any data.\n",
    "   - A method can operate on the data (instance variables) that is contained by the corresponding class\n"
   ]
  },
  {
   "cell_type": "markdown",
   "metadata": {},
   "source": [
    "To summerize the functions:\n",
    "    \n",
    "    \n",
    "    \n",
    "   - Function is block of code that is also called by its name. (independent)\n",
    "   - The function can have different parameters or may not have any at all. If any data (parameters) are passed, they are passed explicitly.\n",
    "   - It may or may not return any data.\n",
    "   - Function does not deal with Class and its instance concept.\n",
    "\n",
    "\n",
    "\n",
    "   - Simply, function and method both look similar as they perform in almost similar way, but the key difference is the concept of ‘Class and its Object‘.\n",
    "   - Functions can be called only by its name, as it is defined independently. But methods can’t be called by its name only, we need to invoke the class by a reference of that class in which it is defined, i.e. method is defined within a class and hence they are dependent on that class.\n"
   ]
  },
  {
   "cell_type": "markdown",
   "metadata": {},
   "source": [
    "Simply write the literal **\"def\"** at the beginning of a line\n",
    "followed by the name of the function e.g. **\"MyFunct()\"** (a list of input parameter is separeted by comma) than the colon to start the function-block. All statements need to be aligned to the same column just like in case of conditionals or loops. The end of a function is marked by the literal **return** follow by the variable(s) that is given back. "
   ]
  },
  {
   "cell_type": "code",
   "execution_count": null,
   "metadata": {
    "collapsed": false,
    "jupyter": {
     "outputs_hidden": false
    }
   },
   "outputs": [],
   "source": [
    "def MyFunct(af,bf):\n",
    "    cf=af+bf\n",
    "    return cf\n",
    "\n",
    "a=4\n",
    "b=4\n",
    "print(\"a =\",a,\"| b =\",b)\n",
    "print(2*\"-------\")\n",
    "\n",
    "print(\"Summe(a,b): {}\".format(MyFunct(a,b)))"
   ]
  },
  {
   "cell_type": "code",
   "execution_count": null,
   "metadata": {},
   "outputs": [],
   "source": []
  },
  {
   "cell_type": "code",
   "execution_count": null,
   "metadata": {},
   "outputs": [],
   "source": [
    "# Functions: indent blocks with 4 spaces\n",
    "def hello_world(name, times=3):\n",
    "    print(\"Say\",name*times)\n",
    "    return \n",
    "\n",
    "hello_world(\"yes\")"
   ]
  },
  {
   "cell_type": "code",
   "execution_count": null,
   "metadata": {},
   "outputs": [],
   "source": []
  },
  {
   "cell_type": "markdown",
   "metadata": {},
   "source": [
    "A function to compute the exponential $f(x)=e^x$ by a taylor approximation:\n",
    "\n",
    "$$e^x= \\sum_{n=0}^{\\infty} \\frac{x^n}{n!} =1+x+\\frac{x^2}{2!}+\\frac{x^3}{3!}+\\frac{x^4}{4!}+...$$"
   ]
  },
  {
   "cell_type": "code",
   "execution_count": 3,
   "metadata": {},
   "outputs": [],
   "source": [
    "import math\n",
    "def taylorexp(inp, acc):\n",
    "    sum=0\n",
    "    for i in range(0,acc):\n",
    "        sum=sum+(inp**i)/math.factorial(i)\n",
    "    return sum"
   ]
  },
  {
   "cell_type": "code",
   "execution_count": 4,
   "metadata": {},
   "outputs": [
    {
     "data": {
      "text/plain": [
       "54.598150033144236"
      ]
     },
     "execution_count": 4,
     "metadata": {},
     "output_type": "execute_result"
    }
   ],
   "source": [
    "math.exp(4)"
   ]
  },
  {
   "cell_type": "code",
   "execution_count": 5,
   "metadata": {},
   "outputs": [
    {
     "name": "stdout",
     "output_type": "stream",
     "text": [
      "54.598150033144265\n",
      "2.842170943040401e-14\n"
     ]
    }
   ],
   "source": [
    "print(taylorexp(4,100))\n",
    "print(taylorexp(4,100) - math.exp(4))"
   ]
  },
  {
   "cell_type": "code",
   "execution_count": null,
   "metadata": {},
   "outputs": [],
   "source": []
  },
  {
   "cell_type": "code",
   "execution_count": null,
   "metadata": {},
   "outputs": [],
   "source": []
  },
  {
   "cell_type": "markdown",
   "metadata": {},
   "source": [
    "#### on methods..."
   ]
  },
  {
   "cell_type": "markdown",
   "metadata": {},
   "source": [
    "For example the use of the build-in functions from the **math module** refers to the class definitions and uses the \"functions\" call in a object-oriented way:  **modulename.functionname(parameter)** in case of the build-in functions I will call them **methods** from now on to use a clear language."
   ]
  },
  {
   "cell_type": "code",
   "execution_count": null,
   "metadata": {},
   "outputs": [],
   "source": [
    "import math\n",
    "math.log10(100)"
   ]
  },
  {
   "cell_type": "raw",
   "metadata": {},
   "source": [
    "# Basic Python method \n",
    "class class_name \n",
    "    def method_name () :  \n",
    "        ...... \n",
    "       # method body \n",
    "        ...... \n"
   ]
  },
  {
   "cell_type": "code",
   "execution_count": null,
   "metadata": {},
   "outputs": [],
   "source": [
    "# Python 3 User-Defined Method \n",
    "class ABC : \n",
    "    def method_abc (self): \n",
    "        print(\"I am in method_abc of ABC class. \") \n",
    "\n",
    "class_ref = ABC() # object of ABC class \n",
    "class_ref.method_abc() \n"
   ]
  },
  {
   "cell_type": "code",
   "execution_count": null,
   "metadata": {},
   "outputs": [],
   "source": []
  },
  {
   "cell_type": "code",
   "execution_count": 1,
   "metadata": {},
   "outputs": [],
   "source": [
    "class TaylorTools:\n",
    "    \n",
    "    def taylorexp(inp, acc):\n",
    "        import math\n",
    "        sum=0\n",
    "        for i in range(0,acc):\n",
    "            sum=sum+(inp**i)/math.factorial(i)\n",
    "        return sum"
   ]
  },
  {
   "cell_type": "code",
   "execution_count": 2,
   "metadata": {},
   "outputs": [
    {
     "data": {
      "text/plain": [
       "54.598150033144265"
      ]
     },
     "execution_count": 2,
     "metadata": {},
     "output_type": "execute_result"
    }
   ],
   "source": [
    "TaylorTools.taylorexp(4,100)"
   ]
  },
  {
   "cell_type": "markdown",
   "metadata": {},
   "source": [
    "References:\n",
    "    \n",
    "   - https://www.geeksforgeeks.org/difference-method-function-python/\n",
    "   - http://introtopython.org/classes.html"
   ]
  },
  {
   "cell_type": "code",
   "execution_count": null,
   "metadata": {},
   "outputs": [],
   "source": []
  },
  {
   "cell_type": "code",
   "execution_count": null,
   "metadata": {},
   "outputs": [],
   "source": []
  },
  {
   "cell_type": "markdown",
   "metadata": {},
   "source": [
    "## Basics of Nummeric Python (numpy), Scientific Python (scipy) and TensorFlow <a name=\"numpybasics\" ></a>\n"
   ]
  },
  {
   "cell_type": "markdown",
   "metadata": {},
   "source": [
    "Many scientific problems can be described with algebraic expressions in form of a [**tensor formalism**](#https://en.wikipedia.org/wiki/Tensor). Very general speaking we have used tensors in the examples above and also in daily life without knowing it maybe. Tensors are divided into classes according to their dimensionality:\n",
    "\n",
    "   - tensor 0. order: **Scalar**, e.g. a single real number like **42**\n",
    "   - tensor 1. order: **Vector**, e.g. a row or column array of numbers $a_i=[a_1 a_2 a_3]$\n",
    "   - tensor 2. order: **Matrix**, e.g. a 2-D array of numbers $A_{i,j}$\n",
    "   - tensor 3. order: **3D-Tensor**, e.g. a 3-D array of numbers aranged like a cube $A_{i,j,k}$\n",
    "   - tensor 4. order: **4D-Tensor**, e.g. a vector of 3D-Tensors (Cubes)  $A_{i,j,k,n}$\n",
    "   - tensor 5. order: **5D-Tensor**, e.g. a matrix of 3D-Tensors (Cubes)  $A_{i,j,k,n,l}$\n",
    "\n",
    "\n",
    "[Numpy](#https://www.numpy.org/) and [Scipy](#https://www.scipy.org/) as well as [Googles Tensorflow](#https://www.tensorflow.org/) make use of this approach.\n",
    "\n",
    "Data structures like that can be found in daily life for example:\n",
    "\n",
    " - any kind of table has the character of a matrix or sec. order tensor\n",
    " - a layer of grids in a GIS-Analysis can be seen as a 3D-Tensor\n",
    " - or an imagefile with two or more channels can be a 3D-Tensor\n",
    " - when we look at series of Images (each one with multiple channels) we have a 4D-Tensor data structure\n",
    " - video streams are seqeunces of images over time which can be organized as a 5D-Tensor\n",
    "\n",
    "<img src=\"https://hackernoon.com/hn-images/1*_D5ZvufDS38WkhK9rK32hQ.jpeg\"  width=\"70%\" style=\"float: left;\"> \n",
    "\n",
    "References: \n",
    "  - https://hackernoon.com/learning-ai-if-you-suck-at-math-p4-tensors-illustrated-with-cats-27f0002c9b32\n",
    "  - https://simplyml.com/linear-algebra-shootout-numpy-vs-theano-vs-tensorflow-2/"
   ]
  },
  {
   "cell_type": "markdown",
   "metadata": {},
   "source": [
    "In numeric python the basic datastructure that we will use is the **array**. Here we need to distinguish between the used dimensions of arrays. A numpy array is in general implemented as a multi-dimensional array (ndarray) but has a special subclass of called **matrix objects** which are strictly 2-dimensional and therefor they inherit all the attributes and methods of ndarrays. If $a$ and $b$ are defined as numpy matrices of the same dimensions, then the product $a*b$ is their matrix product. When $a$ and $b$ are defined as numpy arrays, then their product $a*b$ is the element-wise product of their values."
   ]
  },
  {
   "cell_type": "markdown",
   "metadata": {},
   "source": [
    "The exact differences between np.array and np.matrix will be discussed in the examples below. To start we will have a look at the basic methods **np.arange()**, **np.zeros()** and **np.ones()** which can be used to create array structures from scratch."
   ]
  },
  {
   "cell_type": "code",
   "execution_count": 44,
   "metadata": {},
   "outputs": [],
   "source": [
    "import numpy as np"
   ]
  },
  {
   "cell_type": "markdown",
   "metadata": {},
   "source": [
    "### Creating arrays"
   ]
  },
  {
   "cell_type": "markdown",
   "metadata": {},
   "source": [
    "We can easily create a **Vector** or **a 1d array** in diffenrent ways. For example the method **np.arange(a,b)** generates a vector with 64bit integer values between the numbers a and b. "
   ]
  },
  {
   "cell_type": "code",
   "execution_count": 45,
   "metadata": {
    "collapsed": false,
    "jupyter": {
     "outputs_hidden": false
    }
   },
   "outputs": [
    {
     "name": "stdout",
     "output_type": "stream",
     "text": [
      "[ 4  5  6  7  8  9 10]\n",
      "Dimensions:  (7,)\n",
      "Datatype:  int64\n"
     ]
    }
   ],
   "source": [
    "e=np.arange(4,11)\n",
    "print(e)\n",
    "print(\"Dimensions: \", e.shape)\n",
    "print(\"Datatype: \",e.dtype)"
   ]
  },
  {
   "cell_type": "code",
   "execution_count": 46,
   "metadata": {},
   "outputs": [
    {
     "data": {
      "text/plain": [
       "array([ 4,  5,  6,  7,  8,  9, 10])"
      ]
     },
     "execution_count": 46,
     "metadata": {},
     "output_type": "execute_result"
    }
   ],
   "source": [
    "e"
   ]
  },
  {
   "cell_type": "markdown",
   "metadata": {},
   "source": [
    "It is an array structure with dimension 1\n",
    "\n",
    "**np.arange(START,STOP,STEP)** is as flexible as the regular range() function used in [section 7 (for loops](#loops)) to use different step sizes."
   ]
  },
  {
   "cell_type": "code",
   "execution_count": 47,
   "metadata": {
    "collapsed": false,
    "jupyter": {
     "outputs_hidden": false
    }
   },
   "outputs": [
    {
     "name": "stdout",
     "output_type": "stream",
     "text": [
      "[ 1.   1.5  2.   2.5  3.   3.5  4.   4.5  5.   5.5  6.   6.5  7.   7.5  8. ]\n"
     ]
    }
   ],
   "source": [
    "f=np.arange(1,8.5,0.5)\n",
    "print(f)"
   ]
  },
  {
   "cell_type": "markdown",
   "metadata": {},
   "source": [
    "The method **np.ones(dim,dim)** can be used in the same way to create vectors or multi-dimensional arrays (matrix) with **equal values of 1** ."
   ]
  },
  {
   "cell_type": "code",
   "execution_count": 48,
   "metadata": {},
   "outputs": [
    {
     "name": "stdout",
     "output_type": "stream",
     "text": [
      "x: \n",
      " [[ 1.]\n",
      " [ 1.]\n",
      " [ 1.]]\n",
      "--------------------\n",
      "y:  [[ 1.  1.  1.]]\n"
     ]
    }
   ],
   "source": [
    "x=np.ones((3,1))\n",
    "y=np.ones((1,3))\n",
    "print(\"x: \\n\",x)\n",
    "print(20*'-') \n",
    "print(\"y: \",y)"
   ]
  },
  {
   "cell_type": "markdown",
   "metadata": {},
   "source": [
    "We can see here that depending on the choice of the dimensions np.ones((3,1)) or np.ones((1,3)) a column or a row of values is generated.\n",
    "\n",
    "In the same way arrays with values of 0 can be created by the method **np.zeros(dim,dim)**"
   ]
  },
  {
   "cell_type": "code",
   "execution_count": 49,
   "metadata": {},
   "outputs": [
    {
     "data": {
      "text/plain": [
       "array([[ 0.,  0.,  0.,  0.,  0.],\n",
       "       [ 0.,  0.,  0.,  0.,  0.],\n",
       "       [ 0.,  0.,  0.,  0.,  0.],\n",
       "       [ 0.,  0.,  0.,  0.,  0.],\n",
       "       [ 0.,  0.,  0.,  0.,  0.]])"
      ]
     },
     "execution_count": 49,
     "metadata": {},
     "output_type": "execute_result"
    }
   ],
   "source": [
    "np.zeros((5,5))"
   ]
  },
  {
   "cell_type": "code",
   "execution_count": 50,
   "metadata": {},
   "outputs": [
    {
     "name": "stdout",
     "output_type": "stream",
     "text": [
      "[[ 1.  1.  1.  1.  1.]\n",
      " [ 1.  1.  1.  1.  1.]\n",
      " [ 1.  1.  1.  1.  1.]\n",
      " [ 1.  1.  1.  1.  1.]\n",
      " [ 1.  1.  1.  1.  1.]]\n"
     ]
    }
   ],
   "source": [
    "print(np.ones((5,5)))"
   ]
  },
  {
   "cell_type": "code",
   "execution_count": 51,
   "metadata": {},
   "outputs": [
    {
     "data": {
      "text/plain": [
       "array([[ 1.,  1.,  1.],\n",
       "       [ 1.,  1.,  1.],\n",
       "       [ 1.,  1.,  1.]])"
      ]
     },
     "execution_count": 51,
     "metadata": {},
     "output_type": "execute_result"
    }
   ],
   "source": [
    "np.ones((3,3))"
   ]
  },
  {
   "cell_type": "markdown",
   "metadata": {},
   "source": [
    "just note: The print-out of the arrays hides the dtype.\n",
    "\n",
    "If more than 2 indices are given in np.zeros() than a multidimensional array is generated."
   ]
  },
  {
   "cell_type": "code",
   "execution_count": 52,
   "metadata": {},
   "outputs": [
    {
     "data": {
      "text/plain": [
       "array([[[ 1.,  1.,  1.],\n",
       "        [ 1.,  1.,  1.],\n",
       "        [ 1.,  1.,  1.]],\n",
       "\n",
       "       [[ 1.,  1.,  1.],\n",
       "        [ 1.,  1.,  1.],\n",
       "        [ 1.,  1.,  1.]],\n",
       "\n",
       "       [[ 1.,  1.,  1.],\n",
       "        [ 1.,  1.,  1.],\n",
       "        [ 1.,  1.,  1.]]])"
      ]
     },
     "execution_count": 52,
     "metadata": {},
     "output_type": "execute_result"
    }
   ],
   "source": [
    "np.ones((3,3,3))"
   ]
  },
  {
   "cell_type": "code",
   "execution_count": 53,
   "metadata": {},
   "outputs": [
    {
     "data": {
      "text/plain": [
       "array([[[[ 1.,  1.,  1.],\n",
       "         [ 1.,  1.,  1.],\n",
       "         [ 1.,  1.,  1.]],\n",
       "\n",
       "        [[ 1.,  1.,  1.],\n",
       "         [ 1.,  1.,  1.],\n",
       "         [ 1.,  1.,  1.]],\n",
       "\n",
       "        [[ 1.,  1.,  1.],\n",
       "         [ 1.,  1.,  1.],\n",
       "         [ 1.,  1.,  1.]]],\n",
       "\n",
       "\n",
       "       [[[ 1.,  1.,  1.],\n",
       "         [ 1.,  1.,  1.],\n",
       "         [ 1.,  1.,  1.]],\n",
       "\n",
       "        [[ 1.,  1.,  1.],\n",
       "         [ 1.,  1.,  1.],\n",
       "         [ 1.,  1.,  1.]],\n",
       "\n",
       "        [[ 1.,  1.,  1.],\n",
       "         [ 1.,  1.,  1.],\n",
       "         [ 1.,  1.,  1.]]],\n",
       "\n",
       "\n",
       "       [[[ 1.,  1.,  1.],\n",
       "         [ 1.,  1.,  1.],\n",
       "         [ 1.,  1.,  1.]],\n",
       "\n",
       "        [[ 1.,  1.,  1.],\n",
       "         [ 1.,  1.,  1.],\n",
       "         [ 1.,  1.,  1.]],\n",
       "\n",
       "        [[ 1.,  1.,  1.],\n",
       "         [ 1.,  1.,  1.],\n",
       "         [ 1.,  1.,  1.]]]])"
      ]
     },
     "execution_count": 53,
     "metadata": {},
     "output_type": "execute_result"
    }
   ],
   "source": [
    "np.ones((3,3,3,3))"
   ]
  },
  {
   "cell_type": "markdown",
   "metadata": {},
   "source": [
    "### Manipulating arrays"
   ]
  },
  {
   "cell_type": "markdown",
   "metadata": {},
   "source": [
    "A simple 4x4 array can also be initilized manually in this way:"
   ]
  },
  {
   "cell_type": "code",
   "execution_count": 54,
   "metadata": {
    "collapsed": false,
    "jupyter": {
     "outputs_hidden": false
    }
   },
   "outputs": [
    {
     "name": "stdout",
     "output_type": "stream",
     "text": [
      "A: \n",
      " [[ 2  4  3  7]\n",
      " [ 1  2  3  4]\n",
      " [-2  4  5  7]\n",
      " [ 4  3  7  9]]\n"
     ]
    }
   ],
   "source": [
    "A=np.array([[2,4,3,7],[1,2,3,4],[-2,4,5,7],[4,3,7,9]])\n",
    "print(\"A: \\n\",A)"
   ]
  },
  {
   "cell_type": "markdown",
   "metadata": {},
   "source": [
    "The transposed array (col and row exchanged) is called with the method **\".T\"** "
   ]
  },
  {
   "cell_type": "code",
   "execution_count": 55,
   "metadata": {},
   "outputs": [
    {
     "name": "stdout",
     "output_type": "stream",
     "text": [
      "Transpose(A): \n",
      " [[ 2  1 -2  4]\n",
      " [ 4  2  4  3]\n",
      " [ 3  3  5  7]\n",
      " [ 7  4  7  9]]\n"
     ]
    }
   ],
   "source": [
    "print(\"Transpose(A): \\n\",A.T)"
   ]
  },
  {
   "cell_type": "markdown",
   "metadata": {},
   "source": [
    "Arrays can be manipulated or data can be extracted out of the structures. For example we can calculate the sum of each column or each row by the following statements:"
   ]
  },
  {
   "cell_type": "code",
   "execution_count": 56,
   "metadata": {
    "collapsed": false,
    "jupyter": {
     "outputs_hidden": false
    }
   },
   "outputs": [
    {
     "name": "stdout",
     "output_type": "stream",
     "text": [
      "b:  [ 5 13 18 27]\n"
     ]
    }
   ],
   "source": [
    "b=np.sum(A, axis=0)\n",
    "print(\"b: \",b)"
   ]
  },
  {
   "cell_type": "markdown",
   "metadata": {},
   "source": [
    "... or the sum of each row"
   ]
  },
  {
   "cell_type": "code",
   "execution_count": 57,
   "metadata": {
    "collapsed": false,
    "jupyter": {
     "outputs_hidden": false
    }
   },
   "outputs": [
    {
     "name": "stdout",
     "output_type": "stream",
     "text": [
      "c:  [16 10 14 23]\n"
     ]
    }
   ],
   "source": [
    "c=np.sum(A, axis=1)\n",
    "print(\"c: \",c)"
   ]
  },
  {
   "cell_type": "markdown",
   "metadata": {},
   "source": [
    "... the parameter **axis=0/1** is specifying the sum:  axis=0 for columns and axis=1 for rows\n",
    "\n",
    "We can pick an element from the array by its index. Note that all indexing in Python starts with 0."
   ]
  },
  {
   "cell_type": "code",
   "execution_count": 58,
   "metadata": {
    "collapsed": false,
    "jupyter": {
     "outputs_hidden": false
    }
   },
   "outputs": [
    {
     "name": "stdout",
     "output_type": "stream",
     "text": [
      "A: \n",
      " [[ 2  4  3  7]\n",
      " [ 1  2  3  4]\n",
      " [-2  4  5  7]\n",
      " [ 4  3  7  9]]\n",
      "  \n",
      "The Value at index [row=2,col=0] is: -2 \n",
      "Size of the Value (by .itemsize): 8 Bytes \n",
      "Size of the Value (by .nbytes): 8 Bytes \n"
     ]
    }
   ],
   "source": [
    "d=A[2,0]\n",
    "print(\"A: \\n\",A)\n",
    "print(\"  \") \n",
    "print('The Value at index [row=2,col=0] is: {} '.format(d))\n",
    "\n",
    "print('Size of the Value (by .itemsize): {} Bytes '.format(d.itemsize))\n",
    "print('Size of the Value (by .nbytes): {} Bytes '.format(d.nbytes))"
   ]
  },
  {
   "cell_type": "markdown",
   "metadata": {},
   "source": [
    "We can also pick a complete row from the array and play with the index in different ways:"
   ]
  },
  {
   "cell_type": "code",
   "execution_count": 59,
   "metadata": {
    "collapsed": false,
    "jupyter": {
     "outputs_hidden": false
    }
   },
   "outputs": [
    {
     "name": "stdout",
     "output_type": "stream",
     "text": [
      "A: \n",
      " [[ 2  4  3  7]\n",
      " [ 1  2  3  4]\n",
      " [-2  4  5  7]\n",
      " [ 4  3  7  9]]\n",
      "---------------------\n",
      "Row:1 by Col:0 to end := all Cols A[1,:]\n",
      "-------------\n",
      "[1 2 3 4]\n",
      " \n",
      "All Cols with specific Index A[0:4]\n",
      "-------------\n",
      "[1 2 3 4]\n",
      " \n",
      "All without the 1st Col, A[1,1:4] \n",
      "-------------\n",
      "[2 3 4]\n",
      "-------------\n"
     ]
    }
   ],
   "source": [
    "print(\"A: \\n\",A)\n",
    "print('---------------------')\n",
    "print('Row:1 by Col:0 to end := all Cols A[1,:]')\n",
    "print('-------------')\n",
    "print(A[1,:])\n",
    "print(' ')\n",
    "print('All Cols with specific Index A[0:4]')\n",
    "print('-------------')\n",
    "print(A[1,0:4])\n",
    "print(' ')\n",
    "print('All without the 1st Col, A[1,1:4] ')\n",
    "print('-------------')\n",
    "print(A[1,1:4])\n",
    "print('-------------')"
   ]
  },
  {
   "cell_type": "markdown",
   "metadata": {},
   "source": [
    "Now we want to change the arrays values by **replacing the second row**"
   ]
  },
  {
   "cell_type": "code",
   "execution_count": 60,
   "metadata": {
    "collapsed": false,
    "jupyter": {
     "outputs_hidden": false
    }
   },
   "outputs": [
    {
     "name": "stdout",
     "output_type": "stream",
     "text": [
      "[[ 2  4  3  7]\n",
      " [ 1  2  3  4]\n",
      " [-2  4  5  7]\n",
      " [ 4  3  7  9]]\n",
      "------------------\n",
      "[[ 2  4  3  7]\n",
      " [ 5  6  7  8]\n",
      " [-2  4  5  7]\n",
      " [ 4  3  7  9]]\n"
     ]
    }
   ],
   "source": [
    "print(A) \n",
    "A2=A\n",
    "print(2*'---------')\n",
    "A2[1,:]=[5,6,7,8]\n",
    "\n",
    "print(A2)"
   ]
  },
  {
   "cell_type": "markdown",
   "metadata": {},
   "source": [
    "### The Matrix product of arrays"
   ]
  },
  {
   "cell_type": "markdown",
   "metadata": {},
   "source": [
    "In case of numpy arrays the matrix product is calculated by a method called **np.dot()**. "
   ]
  },
  {
   "cell_type": "code",
   "execution_count": 61,
   "metadata": {
    "collapsed": false,
    "jupyter": {
     "outputs_hidden": false
    }
   },
   "outputs": [
    {
     "name": "stdout",
     "output_type": "stream",
     "text": [
      "[[ 46  65  98 130]\n",
      " [ 58 108 148 204]\n",
      " [ 34  57  96 116]\n",
      " [ 45  89 131 182]]\n"
     ]
    }
   ],
   "source": [
    "print(np.dot(A,A2))"
   ]
  },
  {
   "cell_type": "markdown",
   "metadata": {},
   "source": [
    "When we use the normal multiplication operator $*$ instead of np.dot() an element-wise multiplication of the two arrays is calculated (presupposed both have the same dimensions)."
   ]
  },
  {
   "cell_type": "code",
   "execution_count": 62,
   "metadata": {
    "collapsed": false,
    "jupyter": {
     "outputs_hidden": false
    }
   },
   "outputs": [
    {
     "name": "stdout",
     "output_type": "stream",
     "text": [
      "[[ 4 16  9 49]\n",
      " [25 36 49 64]\n",
      " [ 4 16 25 49]\n",
      " [16  9 49 81]]\n"
     ]
    }
   ],
   "source": [
    "print(A*A2)"
   ]
  },
  {
   "cell_type": "code",
   "execution_count": null,
   "metadata": {},
   "outputs": [],
   "source": []
  },
  {
   "cell_type": "markdown",
   "metadata": {},
   "source": [
    "As already said above the general numpy array structure has the subclass numpy matrix which is defined for the special case of 2-dimensional arrays. A numpy matrix is created by the method **np.mat()** as shown in the following example."
   ]
  },
  {
   "cell_type": "code",
   "execution_count": 63,
   "metadata": {
    "collapsed": true,
    "jupyter": {
     "outputs_hidden": true
    }
   },
   "outputs": [
    {
     "name": "stdout",
     "output_type": "stream",
     "text": [
      "a: \n",
      " [[4 3]\n",
      " [2 1]]\n",
      "==========\n",
      "b: \n",
      " [[1 2]\n",
      " [3 4]]\n",
      "==========\n",
      "a*b: \n",
      " [[13 20]\n",
      " [ 5  8]]\n"
     ]
    }
   ],
   "source": [
    "import numpy as np\n",
    "\n",
    "a=np.mat('4 3; 2 1')\n",
    "b=np.mat('1 2; 3 4')\n",
    "print(\"a: \\n\",a)\n",
    "print(10*'=')\n",
    "print(\"b: \\n\",b)\n",
    "print(10*'=')\n",
    "print(\"a*b: \\n\",a*b)"
   ]
  },
  {
   "cell_type": "markdown",
   "metadata": {},
   "source": [
    "When we use the np.mat() method the matrix product is calculated by the $*$ operator. The transposed matrix is displayed analog to the array by the **\".T\"** operator."
   ]
  },
  {
   "cell_type": "code",
   "execution_count": 64,
   "metadata": {},
   "outputs": [
    {
     "name": "stdout",
     "output_type": "stream",
     "text": [
      "Transpose(a): \n",
      " [[4 2]\n",
      " [3 1]]\n",
      "==========\n",
      "conjugate Transpose(a): \n",
      " [[4 2]\n",
      " [3 1]]\n",
      "==========\n",
      "Inverse(a): \n",
      " [[-0.5  1.5]\n",
      " [ 1.  -2. ]]\n"
     ]
    }
   ],
   "source": [
    "print(\"Transpose(a): \\n\",a.T) # Transpose\n",
    "print(10*'=')\n",
    "print(\"conjugate Transpose(a): \\n\",a.H) # conjugate Transpose in case of complex arrays\n",
    "print(10*'=')\n",
    "print(\"Inverse(a): \\n\",a.I) # Inverse"
   ]
  },
  {
   "cell_type": "markdown",
   "metadata": {},
   "source": [
    "#### In Python >= 3.5 the @ operator is working to compute the matrix product of arrays"
   ]
  },
  {
   "cell_type": "code",
   "execution_count": 22,
   "metadata": {},
   "outputs": [
    {
     "name": "stdout",
     "output_type": "stream",
     "text": [
      "[[13 20]\n",
      " [ 5  8]]\n"
     ]
    }
   ],
   "source": [
    "a=np.array([[4, 3], [2, 1]])\n",
    "b=np.array([[1, 2], [3, 4]])\n",
    "print(a@b)"
   ]
  },
  {
   "cell_type": "code",
   "execution_count": 23,
   "metadata": {},
   "outputs": [
    {
     "name": "stdout",
     "output_type": "stream",
     "text": [
      "a: \n",
      " [[4 3]\n",
      " [2 1]]\n",
      "==========\n",
      "Transpose(a): \n",
      " [[4 2]\n",
      " [3 1]]\n",
      "==========\n",
      "b: \n",
      " [[1 2]\n",
      " [3 4]]\n",
      "==========\n",
      "a*b: \n",
      " [[13 20]\n",
      " [ 5  8]]\n",
      "==========\n",
      "Inverse(a): \n",
      " [[-0.5  1.5]\n",
      " [ 1.  -2. ]]\n"
     ]
    }
   ],
   "source": [
    "print(\"a: \\n\",a) \n",
    "print(10*'=')\n",
    "print(\"Transpose(a): \\n\",a.T)\n",
    "print(10*'=')\n",
    "print(\"b: \\n\",b)\n",
    "print(10*'=')\n",
    "print(\"a*b: \\n\",np.dot(a,b))\n",
    "print(10*'=')\n",
    "print(\"Inverse(a): \\n\",np.linalg.inv(a))"
   ]
  },
  {
   "cell_type": "markdown",
   "metadata": {},
   "source": [
    "### The Identity Matrix (I or E) Symmetric and Orthogonal Matrixes"
   ]
  },
  {
   "cell_type": "code",
   "execution_count": 20,
   "metadata": {},
   "outputs": [
    {
     "name": "stdout",
     "output_type": "stream",
     "text": [
      "[[1. 0.]\n",
      " [0. 1.]]\n"
     ]
    }
   ],
   "source": [
    "import numpy as np\n",
    "\n",
    "I=np.mat('1. 0.; 0. 1.')\n",
    "print(I)"
   ]
  },
  {
   "cell_type": "code",
   "execution_count": 3,
   "metadata": {},
   "outputs": [
    {
     "name": "stdout",
     "output_type": "stream",
     "text": [
      "[[1. 0. 0.]\n",
      " [0. 1. 0.]\n",
      " [0. 0. 1.]]\n"
     ]
    }
   ],
   "source": [
    "print(np.identity(3))"
   ]
  },
  {
   "cell_type": "code",
   "execution_count": 4,
   "metadata": {},
   "outputs": [
    {
     "name": "stdout",
     "output_type": "stream",
     "text": [
      "[[1. 0. 0.]\n",
      " [0. 1. 0.]\n",
      " [0. 0. 1.]]\n"
     ]
    }
   ],
   "source": [
    "print(np.eye(3))"
   ]
  },
  {
   "cell_type": "markdown",
   "metadata": {},
   "source": [
    "**Matrix diagonals** and **determinant**"
   ]
  },
  {
   "cell_type": "markdown",
   "metadata": {},
   "source": [
    "Quadratic matrixes have a main diagonal from the upper left corner to the lower right corner. In case of the identity matrix this is where the ones are sitting. The opposit is the secondary diagonal from the lower left corner to the upper right corner. The main diagonal is the mirroring axis for the transpose operation (exchange of rows and cols... see above) "
   ]
  },
  {
   "cell_type": "code",
   "execution_count": 31,
   "metadata": {},
   "outputs": [
    {
     "name": "stdout",
     "output_type": "stream",
     "text": [
      "-2.0000000000000004\n"
     ]
    }
   ],
   "source": [
    "a = np.array([[1, 2], [3, 4]])\n",
    "print(np.linalg.det(a))"
   ]
  },
  {
   "cell_type": "markdown",
   "metadata": {},
   "source": [
    "The **trace of a matrix** is the sum of the elements on the main diagonal."
   ]
  },
  {
   "cell_type": "code",
   "execution_count": 5,
   "metadata": {},
   "outputs": [
    {
     "name": "stdout",
     "output_type": "stream",
     "text": [
      "[[1. 0. 0.]\n",
      " [0. 1. 0.]\n",
      " [0. 0. 1.]]\n",
      "==========\n",
      "trace of Matrix: 3.0\n"
     ]
    }
   ],
   "source": [
    "import numpy as np\n",
    "print(np.eye(3))\n",
    "print(10*\"=\")\n",
    "print(\"trace of Matrix:\",np.trace(np.eye(3)))"
   ]
  },
  {
   "cell_type": "code",
   "execution_count": null,
   "metadata": {},
   "outputs": [],
   "source": []
  },
  {
   "cell_type": "markdown",
   "metadata": {},
   "source": [
    "**Symmetric matrix** are independent of the transpose operation which means $A^T=A$\n"
   ]
  },
  {
   "cell_type": "code",
   "execution_count": 21,
   "metadata": {},
   "outputs": [
    {
     "name": "stdout",
     "output_type": "stream",
     "text": [
      "[[-10  42  65]\n",
      " [-80  38  67]\n",
      " [-47  54 -86]]\n",
      "====================\n",
      "[[-10.  -19.    9. ]\n",
      " [-19.   38.   60.5]\n",
      " [  9.   60.5 -86. ]]\n",
      "====================\n",
      "[[-10.  -19.    9. ]\n",
      " [-19.   38.   60.5]\n",
      " [  9.   60.5 -86. ]]\n"
     ]
    }
   ],
   "source": [
    "import numpy as np\n",
    "\n",
    "b = np.random.randint(-100,100,size=(3,3))\n",
    "print(b)\n",
    "print(20*\"=\")\n",
    "b_symm = (b + b.T)/2\n",
    "\n",
    "print(b_symm)\n",
    "print(20*\"=\")\n",
    "print(b_symm.T)"
   ]
  },
  {
   "cell_type": "markdown",
   "metadata": {},
   "source": [
    "An **Orthogonal matrix** are a special kind of matrix where the transpose is equal to the inverse matrix $A^T=A^{-1}$\n",
    "\n",
    "\n",
    "so the matrix product $A \\times  A^T = I $ and results in the identity matrix $I$"
   ]
  },
  {
   "cell_type": "code",
   "execution_count": 30,
   "metadata": {},
   "outputs": [
    {
     "name": "stdout",
     "output_type": "stream",
     "text": [
      "[[ 0.6  0.8]\n",
      " [-0.8  0.6]]\n",
      "====================\n",
      "Inverse(a): \n",
      " [[ 0.6 -0.8]\n",
      " [ 0.8  0.6]]\n",
      "====================\n",
      "Transpose(a): \n",
      " [[ 0.6 -0.8]\n",
      " [ 0.8  0.6]]\n",
      "====================\n",
      "a x a.T\n",
      " [[1. 0.]\n",
      " [0. 1.]]\n"
     ]
    }
   ],
   "source": [
    "a=1/5*np.array([[3, 4], [-4, 3]])\n",
    "print(a)\n",
    "print(20*'=')\n",
    "ainv=np.linalg.inv(a)\n",
    "print(\"Inverse(a): \\n\",ainv)\n",
    "print(20*'=')\n",
    "print(\"Transpose(a): \\n\",a.T)\n",
    "print(20*'=')\n",
    "print(\"a x a.T\\n\",np.round(a@a.T))"
   ]
  },
  {
   "cell_type": "markdown",
   "metadata": {},
   "source": []
  },
  {
   "cell_type": "code",
   "execution_count": null,
   "metadata": {},
   "outputs": [],
   "source": []
  },
  {
   "cell_type": "markdown",
   "metadata": {},
   "source": [
    "### Scientific Python (scipy)\n",
    "SciPy contains additional routines needed in scientific work: for example, routines for computing integrals numerically, solving differential equations, optimization, and sparse matrices."
   ]
  },
  {
   "cell_type": "code",
   "execution_count": null,
   "metadata": {},
   "outputs": [],
   "source": []
  },
  {
   "cell_type": "code",
   "execution_count": null,
   "metadata": {},
   "outputs": [],
   "source": []
  },
  {
   "cell_type": "code",
   "execution_count": null,
   "metadata": {},
   "outputs": [],
   "source": [
    "from scipy.spatial import ConvexHull\n",
    "import matplotlib.pyplot as plt\n",
    "\n",
    "points = np.random.rand(30, 2) # 30 random points in 2-D\n",
    "plt.plot(points[:,0], points[:,1], 'o')\n",
    "plt.show()\n",
    "\n",
    "hull = ConvexHull(points)\n",
    "plt.plot(points[:,0], points[:,1], 'o')\n",
    "for simplex in hull.simplices:\n",
    "    plt.plot(points[simplex,0], points[simplex,1], 'k-')\n",
    "plt.show()"
   ]
  },
  {
   "cell_type": "code",
   "execution_count": null,
   "metadata": {},
   "outputs": [],
   "source": []
  },
  {
   "cell_type": "code",
   "execution_count": null,
   "metadata": {},
   "outputs": [],
   "source": [
    "from scipy.interpolate import interp1d\n",
    "\n",
    "x  = np.linspace(0, 10, num=11, endpoint=True)\n",
    "y  = np.cos(-x**2/9.0)\n",
    "f  = interp1d(x, y)\n",
    "f2 = interp1d(x, y, kind='cubic')\n",
    "\n",
    "xnew = np.linspace(0, 10, num=41, endpoint=True)\n",
    "plt.plot(x, y, 'o', xnew, f(xnew), '-', xnew, f2(xnew), '--')\n",
    "plt.legend(['data', 'linear', 'cubic'], loc='best')\n",
    "plt.show()"
   ]
  },
  {
   "cell_type": "code",
   "execution_count": null,
   "metadata": {},
   "outputs": [],
   "source": []
  },
  {
   "cell_type": "code",
   "execution_count": null,
   "metadata": {},
   "outputs": [],
   "source": []
  },
  {
   "cell_type": "markdown",
   "metadata": {},
   "source": [
    "### TensorFlow"
   ]
  },
  {
   "cell_type": "markdown",
   "metadata": {},
   "source": [
    "pip install tensorflow==2.0.0-beta1 "
   ]
  },
  {
   "cell_type": "markdown",
   "metadata": {},
   "source": [
    "#### On TensorFlow and KERAS\n",
    "\n",
    "\n",
    "xyz"
   ]
  },
  {
   "cell_type": "code",
   "execution_count": 2,
   "metadata": {},
   "outputs": [
    {
     "name": "stdout",
     "output_type": "stream",
     "text": [
      "Train on 60000 samples\n",
      "Epoch 1/5\n",
      "60000/60000 [==============================] - 3s 58us/sample - loss: 0.3001 - accuracy: 0.9122\n",
      "Epoch 2/5\n",
      "60000/60000 [==============================] - 3s 55us/sample - loss: 0.1460 - accuracy: 0.9553\n",
      "Epoch 3/5\n",
      "60000/60000 [==============================] - 3s 54us/sample - loss: 0.1082 - accuracy: 0.9669\n",
      "Epoch 4/5\n",
      "60000/60000 [==============================] - 3s 56us/sample - loss: 0.0874 - accuracy: 0.9731\n",
      "Epoch 5/5\n",
      "60000/60000 [==============================] - 3s 56us/sample - loss: 0.0747 - accuracy: 0.9772\n",
      "10000/10000 [==============================] - 0s 35us/sample - loss: 0.0762 - accuracy: 0.9759s - loss: 0.0868 - accuracy: 0.\n"
     ]
    },
    {
     "data": {
      "text/plain": [
       "[0.07623121768273414, 0.9759]"
      ]
     },
     "execution_count": 2,
     "metadata": {},
     "output_type": "execute_result"
    }
   ],
   "source": [
    "import tensorflow as tf\n",
    "mnist = tf.keras.datasets.mnist\n",
    "\n",
    "(x_train, y_train),(x_test, y_test) = mnist.load_data()\n",
    "x_train, x_test = x_train / 255.0, x_test / 255.0\n",
    "\n",
    "model = tf.keras.models.Sequential([\n",
    "  tf.keras.layers.Flatten(input_shape=(28, 28)),\n",
    "  tf.keras.layers.Dense(128, activation='relu'),\n",
    "  tf.keras.layers.Dropout(0.2),\n",
    "  tf.keras.layers.Dense(10, activation='softmax')\n",
    "])\n",
    "\n",
    "model.compile(optimizer='adam',\n",
    "              loss='sparse_categorical_crossentropy',\n",
    "              metrics=['accuracy'])\n",
    "\n",
    "model.fit(x_train, y_train, epochs=5)\n",
    "model.evaluate(x_test, y_test)\n"
   ]
  },
  {
   "cell_type": "code",
   "execution_count": null,
   "metadata": {},
   "outputs": [],
   "source": []
  },
  {
   "cell_type": "code",
   "execution_count": null,
   "metadata": {},
   "outputs": [],
   "source": []
  },
  {
   "cell_type": "markdown",
   "metadata": {},
   "source": [
    "References: \n",
    "\n",
    " - https://stackoverflow.com/questions/4151128/what-are-the-differences-between-numpy-arrays-and-matrices-which-one-should-i-u\n",
    " \n",
    " - http://scipy-lectures.org/index.html\n",
    " - https://www.tutorialspoint.com/scipy\n",
    " - https://docs.scipy.org/doc/scipy/reference/tutorial/index.html"
   ]
  },
  {
   "cell_type": "code",
   "execution_count": null,
   "metadata": {},
   "outputs": [],
   "source": []
  },
  {
   "cell_type": "code",
   "execution_count": null,
   "metadata": {},
   "outputs": [],
   "source": []
  },
  {
   "cell_type": "code",
   "execution_count": null,
   "metadata": {},
   "outputs": [],
   "source": []
  },
  {
   "cell_type": "code",
   "execution_count": null,
   "metadata": {},
   "outputs": [],
   "source": []
  },
  {
   "cell_type": "markdown",
   "metadata": {},
   "source": [
    "## Revision of statistical tools <a name=\"stats\" ></a>"
   ]
  },
  {
   "cell_type": "markdown",
   "metadata": {},
   "source": [
    "Statistical methods are a working field with a long history of over 200 years. The great variety of branches ranges from bayesian analysis over optimization to parts of machine learning but here we will only focus on a few tools with general application in multiple scientific diciplines: Mean and standard-deviation. Later on in the following notebooks we will get back to more sophisticated statistpts."
   ]
  },
  {
   "cell_type": "markdown",
   "metadata": {},
   "source": [
    "### Mean Value and Standard-deviation"
   ]
  },
  {
   "cell_type": "markdown",
   "metadata": {},
   "source": [
    "The term standard deviation was first used[17] in writing by Karl Pearson[18] in 1894, following his use of it in lectures. This was as a replacement for earlier alternative names for the same idea: for example, Gauss used mean error.[19]\n",
    "\n",
    "\n",
    "We start with random values, compute their mean and accordingly the standard deviation.\n",
    "\n",
    "\n",
    "We can generate a list of 20 random values,\n",
    "around 50 with the numpy method **np.random.randn(20,1)**"
   ]
  },
  {
   "cell_type": "code",
   "execution_count": null,
   "metadata": {
    "collapsed": true,
    "jupyter": {
     "outputs_hidden": true
    }
   },
   "outputs": [],
   "source": [
    "x=50+10*np.random.randn(20,1)\n",
    "print(x)"
   ]
  },
  {
   "cell_type": "markdown",
   "metadata": {},
   "source": [
    "#### Calculting the Mean of the values"
   ]
  },
  {
   "cell_type": "markdown",
   "metadata": {},
   "source": [
    "according to the formal definition: $ \\bar{X} =\\frac{\\sum\\nolimits_{i=1}^{20} x_i}{20}$ "
   ]
  },
  {
   "cell_type": "code",
   "execution_count": null,
   "metadata": {},
   "outputs": [],
   "source": [
    "Xmean=np.sum(x)/20\n",
    "\n",
    "print(Xmean)"
   ]
  },
  {
   "cell_type": "markdown",
   "metadata": {},
   "source": [
    "or calculate it with a numpy method **np.mean()**:"
   ]
  },
  {
   "cell_type": "code",
   "execution_count": null,
   "metadata": {
    "collapsed": true,
    "jupyter": {
     "outputs_hidden": true
    }
   },
   "outputs": [],
   "source": [
    "np.mean(x)"
   ]
  },
  {
   "cell_type": "markdown",
   "metadata": {},
   "source": [
    "try it  yourself:"
   ]
  },
  {
   "cell_type": "code",
   "execution_count": null,
   "metadata": {},
   "outputs": [],
   "source": []
  },
  {
   "cell_type": "markdown",
   "metadata": {},
   "source": [
    "#### Calculating the Standard Deviation of the values"
   ]
  },
  {
   "cell_type": "markdown",
   "metadata": {},
   "source": [
    "according to the formal definition: $ std = \\sqrt{\\frac{\\sum\\nolimits_{i=1}^{20}(x_i - \\bar{X})^2}{20-1}}$ where $\\bar{X}$ is the Mean value of x"
   ]
  },
  {
   "cell_type": "code",
   "execution_count": null,
   "metadata": {},
   "outputs": [],
   "source": [
    "np.sqrt( np.sum((x-np.mean(x))**2)/19 ) "
   ]
  },
  {
   "cell_type": "code",
   "execution_count": null,
   "metadata": {},
   "outputs": [],
   "source": [
    "np.std(x)"
   ]
  },
  {
   "cell_type": "markdown",
   "metadata": {},
   "source": [
    "**!!! NOT** the same value, but how is numpy calculating here? Be carefull when you use this method !!! \n",
    "\n",
    "Read the documentation first...!!! (RTFM :-)"
   ]
  },
  {
   "cell_type": "code",
   "execution_count": null,
   "metadata": {},
   "outputs": [],
   "source": [
    "print(np.std(x,ddof=1) )"
   ]
  },
  {
   "cell_type": "markdown",
   "metadata": {},
   "source": [
    "The parameter **ddof : int, optional** means \"**D**elta **D**egrees **o**f **F**reedom\". The divisor used in calculations is **(N - ddof)**, where N represents the number of elements. **By default ddof is zero.**\n"
   ]
  },
  {
   "cell_type": "code",
   "execution_count": null,
   "metadata": {},
   "outputs": [],
   "source": [
    "np.sqrt( np.sum((x-np.mean(x))**2)/20 ) "
   ]
  },
  {
   "cell_type": "markdown",
   "metadata": {},
   "source": [
    "This is value form before calculated with the defaults of np.std()\n",
    "\n",
    "To explain this with a very simple dataset we can have a look at this."
   ]
  },
  {
   "cell_type": "code",
   "execution_count": null,
   "metadata": {},
   "outputs": [],
   "source": [
    "numbers=np.array([[6,7,8,9,10]])\n",
    "print(numbers)"
   ]
  },
  {
   "cell_type": "code",
   "execution_count": null,
   "metadata": {},
   "outputs": [],
   "source": [
    "np.mean(numbers)"
   ]
  },
  {
   "cell_type": "code",
   "execution_count": null,
   "metadata": {},
   "outputs": [],
   "source": [
    "np.std(numbers,ddof=1)"
   ]
  },
  {
   "cell_type": "markdown",
   "metadata": {},
   "source": [
    "is called the standard deviation, with (n-1) degrees of freedom. \n",
    "\n",
    "**But why do we have to use (n-1) instead of n???**\n",
    "\n",
    "The reasoning in the natural or engineering sciences is this: \n",
    "\n",
    "If we assume every random value in this dataset represents a meassurement we can say that every independent meassurement is equal to an independent information.\n",
    "\n",
    "In the formal definition of the mean value (cp. the calculation above) we have n independent information available and spent one information to calculate the mean. The mean value is more likely to be near to the true value (that we try to meassure) than every single meassurement is.\n",
    "\n",
    "In the formal definition of the standard deviation (cp. the calculation above) the mean value is used and this is the reason why for this calculation there are no more n information available but still (n-1) independent information. For every further calculation of more sophisticated statistical parameters (e.g. coefficient of variation ) we spent in the same way an independent information.\n",
    "\n",
    "In economics for example this reasoning is different and the default values (ddof=0) is used."
   ]
  },
  {
   "cell_type": "code",
   "execution_count": null,
   "metadata": {},
   "outputs": [],
   "source": [
    "print(\"Standard deviation : \",np.std(numbers))\n",
    "\n",
    "print(\"Variance           : \",np.var(numbers))"
   ]
  },
  {
   "cell_type": "markdown",
   "metadata": {},
   "source": [
    "$s^2=\\frac{(6-8)^2+(7-8)^2+(8-8)^2+(9-8)^2+(10-8)^2 }{5}=\\frac{4+1+0+1+4 }{5} =\\frac{10 }{5}=2$"
   ]
  },
  {
   "cell_type": "markdown",
   "metadata": {},
   "source": [
    "by the way this is called a **Maximum Likelihood estimation** of the standard deviation. More later."
   ]
  },
  {
   "cell_type": "markdown",
   "metadata": {},
   "source": [
    "References: \n",
    "\n",
    " - https://www.frustfrei-lernen.de/mathematik/standardabweichung-berechnen.html\n",
    " - https://stackoverflow.com/questions/34050491/standard-deviation-in-numpy\n",
    " - https://docs.scipy.org/doc/numpy-1.13.0/reference/generated/numpy.std.html\n",
    " - https://en.wikipedia.org/wiki/Standard_deviation"
   ]
  },
  {
   "cell_type": "markdown",
   "metadata": {},
   "source": [
    "## Preprocessing in Data Analysis <a name=\"preprocessing\" ></a>"
   ]
  },
  {
   "cell_type": "markdown",
   "metadata": {},
   "source": [
    "Most data in its raw form is not adequate for analysis methods as shown above.\n",
    "\n",
    "A dataset can have single points of no data, points of infinity or the values can simply be in the wrong range. \n",
    "\n"
   ]
  },
  {
   "cell_type": "code",
   "execution_count": null,
   "metadata": {},
   "outputs": [],
   "source": []
  },
  {
   "cell_type": "markdown",
   "metadata": {},
   "source": [
    "- get number and index of noData Points (NaN)\n",
    "print('Anzahl NaN in Dataset-Name: {}'.format(np.sum(np.isnan(../Path-to-Dataset)*1)))\n",
    "\n",
    "\n",
    "- get number and index of (infinity positions)\n",
    "print('...these positions are set to Zero(0) :')\n",
    "Dataset[np.isinf(Dataset)]=0\n",
    "\n",
    "\n",
    ":Mean od Median insection"
   ]
  },
  {
   "cell_type": "code",
   "execution_count": null,
   "metadata": {},
   "outputs": [],
   "source": [
    "#Anzeigen der Bilder und Histogramme\n",
    "\n",
    "from scripts.BasisFunctions import showImage\n",
    "\n",
    "    \n",
    "    \n",
    "for layer in sorted(LayerTrain):\n",
    "    print layer\n",
    "    showImage( LayerTrain.get(layer))\n",
    "    #print Layers.get(layer)"
   ]
  },
  {
   "cell_type": "code",
   "execution_count": null,
   "metadata": {},
   "outputs": [],
   "source": []
  },
  {
   "cell_type": "code",
   "execution_count": null,
   "metadata": {},
   "outputs": [],
   "source": []
  },
  {
   "cell_type": "code",
   "execution_count": null,
   "metadata": {},
   "outputs": [],
   "source": [
    "#Prüfung auf Datenvollständigkeit\n",
    "#NaN - Not a Number\n",
    "# Infty....\n",
    "\n",
    "print 'Anzahl infty in TIF_EucDist_faults: {}'.format(np.sum(np.isinf(TIF_r_EucDist_faults)*1))\n",
    "\n",
    "TIF_r_EucDist_roads[np.isinf(TIF_r_EucDist_roads)]=0\n",
    "TIF_r_EucDist_takhar[np.isinf(TIF_r_EucDist_takhar)]=0\n",
    "TIF_r_DistStreams[np.isinf(TIF_r_DistStreams)]=0\n",
    "\n",
    "print 'Anzahl infty in TIF_EucDist_faults: {}'.format(np.sum(np.isinf(TIF_r_EucDist_faults)*1))\n",
    "print 'Anzahl infty in TIF_EucDist_roads: {}'.format(np.sum(np.isinf(TIF_r_EucDist_roads)*1))\n",
    "print 'Anzahl infty in TIF_EucDist_takhar: {}'.format(np.sum(np.isinf(TIF_r_EucDist_takhar)*1))\n",
    "print 'Anzahl infty in TIF_DistStreams: {}'.format(np.sum(np.isinf(TIF_r_DistStreams)*1))\n"
   ]
  },
  {
   "cell_type": "code",
   "execution_count": null,
   "metadata": {},
   "outputs": [],
   "source": []
  },
  {
   "cell_type": "code",
   "execution_count": null,
   "metadata": {},
   "outputs": [],
   "source": []
  },
  {
   "cell_type": "code",
   "execution_count": null,
   "metadata": {},
   "outputs": [],
   "source": []
  },
  {
   "cell_type": "markdown",
   "metadata": {},
   "source": [
    "Change the scaling of the values in case they are unballanced.\n"
   ]
  },
  {
   "cell_type": "code",
   "execution_count": null,
   "metadata": {},
   "outputs": [],
   "source": [
    "\n",
    "print('for example apply a logarithmic scale to Distance Rasters')\n",
    "\n",
    "TIF_r_EucDist_faults =np.log(TIF_r_EucDist_faults)\n"
   ]
  },
  {
   "cell_type": "code",
   "execution_count": null,
   "metadata": {},
   "outputs": [],
   "source": []
  },
  {
   "cell_type": "code",
   "execution_count": null,
   "metadata": {},
   "outputs": [],
   "source": []
  },
  {
   "cell_type": "code",
   "execution_count": null,
   "metadata": {},
   "outputs": [],
   "source": []
  },
  {
   "cell_type": "markdown",
   "metadata": {},
   "source": [
    "Change Datatype of Rasters in case they do not match to the rest of the data"
   ]
  },
  {
   "cell_type": "code",
   "execution_count": null,
   "metadata": {},
   "outputs": [],
   "source": [
    "\n",
    "TIF_r_precip=np.float32(skio.imread(Folder+'TIF_precip.tif'))\n",
    "print 'TIF_r_precip Shape: ', TIF_r_precip.shape,TIF_r_precip.dtype\n",
    "Layers['TIF_r_precip']=TIF_r_precip\n"
   ]
  },
  {
   "cell_type": "code",
   "execution_count": null,
   "metadata": {},
   "outputs": [],
   "source": []
  },
  {
   "cell_type": "code",
   "execution_count": null,
   "metadata": {},
   "outputs": [],
   "source": []
  },
  {
   "cell_type": "code",
   "execution_count": null,
   "metadata": {},
   "outputs": [],
   "source": []
  },
  {
   "cell_type": "markdown",
   "metadata": {},
   "source": [
    "Create a Python dictionary to work efficintly with a bunch of raster arrays"
   ]
  },
  {
   "cell_type": "code",
   "execution_count": null,
   "metadata": {},
   "outputs": [],
   "source": [
    "Layers=dict()\n",
    "Layers['TIF_r_dem'] = TIF_r_dem\n",
    "Layers['TIF_r_precip']=TIF_r_precip"
   ]
  },
  {
   "cell_type": "code",
   "execution_count": null,
   "metadata": {},
   "outputs": [],
   "source": []
  },
  {
   "cell_type": "code",
   "execution_count": null,
   "metadata": {},
   "outputs": [],
   "source": []
  },
  {
   "cell_type": "code",
   "execution_count": null,
   "metadata": {},
   "outputs": [],
   "source": []
  },
  {
   "cell_type": "markdown",
   "metadata": {},
   "source": [
    "Generate/Split off new layers from specific numbers of a single array or reorganize the layers"
   ]
  },
  {
   "cell_type": "code",
   "execution_count": null,
   "metadata": {},
   "outputs": [],
   "source": [
    "Layers['TIF_n_LanduseRAL']=((Layers.get('TIF_n_lc93_32') ==1) | (Layers.get('TIF_n_lc93_32') ==5))*1.0\n",
    "print 'TIF_n_LanduseRAL ', Layers['TIF_n_LanduseRAL'].shape\n",
    "        \n",
    "Layers['TIF_n_LanduseRL']=(Layers.get('TIF_n_lc93_32') ==2)*1.0\n",
    "print 'TIF_n_LanduseRL ', Layers['TIF_n_LanduseRL'].shape\n",
    "        \n",
    "Layers['TIF_n_LanduseIRA']=((Layers.get('TIF_n_lc93_32') ==4) | (Layers.get('TIF_n_lc93_32') ==9) |(Layers.get('TIF_n_lc93_32') ==10))*1.0\n",
    "print 'TIF_n_LanduseIRA' ,Layers['TIF_n_LanduseIRA'].shape\n"
   ]
  },
  {
   "cell_type": "code",
   "execution_count": null,
   "metadata": {},
   "outputs": [],
   "source": [
    "Layers['TIF_n_VOLC']= (Layers.get('TIF_n_lith_type') == 1)*1.0  # % Volcanic ...... Vulkanisches Gestein\n",
    "print 'TIF_n_VOLC ', Layers['TIF_n_VOLC'].shape\n",
    "        \n",
    "Layers['TIF_n_SEDI']= (Layers.get('TIF_n_lith_type') == 2)*1.0  # % Sedimentary ... Sedimente\n",
    "print 'TIF_n_SEDI ', Layers['TIF_n_SEDI'].shape\n",
    "       \n",
    "Layers['TIF_n_PLUT']= (Layers.get('TIF_n_lith_type') == 3)*1.0  # % Plutonic....... Plutonisches Gestein\n",
    "print 'TIF_n_PLUT ', Layers['TIF_n_PLUT'].shape\n"
   ]
  },
  {
   "cell_type": "code",
   "execution_count": null,
   "metadata": {},
   "outputs": [],
   "source": []
  },
  {
   "cell_type": "code",
   "execution_count": null,
   "metadata": {},
   "outputs": [],
   "source": []
  },
  {
   "cell_type": "code",
   "execution_count": null,
   "metadata": {},
   "outputs": [],
   "source": []
  },
  {
   "cell_type": "code",
   "execution_count": null,
   "metadata": {},
   "outputs": [],
   "source": []
  },
  {
   "cell_type": "code",
   "execution_count": null,
   "metadata": {},
   "outputs": [],
   "source": []
  },
  {
   "cell_type": "markdown",
   "metadata": {},
   "source": [
    "Reshaping Arrays and Vectors "
   ]
  },
  {
   "cell_type": "code",
   "execution_count": null,
   "metadata": {},
   "outputs": [],
   "source": []
  },
  {
   "cell_type": "code",
   "execution_count": null,
   "metadata": {},
   "outputs": [],
   "source": []
  },
  {
   "cell_type": "markdown",
   "metadata": {},
   "source": [
    "In the following notebook **-01a-Optimizing-your-SourceCode** I will show some usefull construction and techniques that ensure a better performance than the classical programming paradigm.\n"
   ]
  }
 ],
 "metadata": {
  "kernelspec": {
   "display_name": "Python 3",
   "language": "python",
   "name": "python3"
  },
  "language_info": {
   "codemirror_mode": {
    "name": "ipython",
    "version": 3
   },
   "file_extension": ".py",
   "mimetype": "text/x-python",
   "name": "python",
   "nbconvert_exporter": "python",
   "pygments_lexer": "ipython3",
   "version": "3.6.8"
  }
 },
 "nbformat": 4,
 "nbformat_minor": 4
}
