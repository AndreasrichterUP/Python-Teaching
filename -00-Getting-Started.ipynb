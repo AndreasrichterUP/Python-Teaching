{
 "cells": [
  {
   "cell_type": "markdown",
   "metadata": {},
   "source": [
    "# **Getting Started - Install Instructions** "
   ]
  },
  {
   "cell_type": "markdown",
   "metadata": {},
   "source": [
    "to set up a computing environment"
   ]
  },
  {
   "cell_type": "markdown",
   "metadata": {},
   "source": [
    "© by A.Richter\n",
    "\n",
    "<img src=88x31.png  width=\"10%\" style=\"float: left;\"> "
   ]
  },
  {
   "cell_type": "markdown",
   "metadata": {},
   "source": [
    "\n",
    "\n",
    "## Virtual Environment setup\n",
    "\n",
    "https://www.anaconda.com/   (July 2019)\n",
    "\n",
    "conda create -n py3.6 python=3.6 numpy scipy matplotlib pandas\n",
    "\n",
    "\n",
    "## Basics modules\n",
    "\n",
    " pip install --upgrade pip\n",
    "\n",
    " pip install jupyterlab (https://jupyterlab.readthedocs.io/en/stable/   July 2019)\n",
    "\n",
    " pip install seaborn (https://seaborn.pydata.org/installing.html   July 2019) \n",
    " \n",
    " pip install h5py (https://www.h5py.org/ | http://docs.h5py.org/en/stable/index.html  August 2019)\n",
    "\n",
    " pip install tables  (for PyTables: http://www.pytables.org/usersguide/installation.html  July 2019)\n",
    "\n",
    " pip install mpi4py\n",
    "  \n",
    "## Jupyter Matplotlib (interactive Plots)\n",
    "\n",
    " pip install ipympl     (https://github.com/matplotlib/jupyter-matplotlib    August 2019)\n",
    "\n",
    " jupyter labextension install @jupyter-widgets/jupyterlab-manager\n",
    "\n",
    " jupyter labextension install jupyter-matplotlib\n",
    " \n",
    " \n",
    "## Geo modules\n",
    "\n",
    "  conda install -c conda-forge cartopy (https://scitools.org.uk/cartopy/docs/latest/   July 2019)\n",
    "\n",
    "  pip install geoplotlib (https://github.com/andrea-cuttone/geoplotlib    July 2019)\n",
    "\n",
    "  pip install pyglet (https://github.com/pyglet/pyglet  | https://bitbucket.org/pyglet/pyglet/wiki/Home    July 2019)\n",
    "\n",
    "  pip install geopy (https://github.com/geopy/geopy | https://geopy.readthedocs.io/en/stable/    July 2019)\n",
    "\n",
    "  conda install -c conda-forge iris (https://scitools.org.uk/iris/docs/latest/   July 2019)\n",
    "\n",
    "  conda install -c conda-forge iris-sample-data\n",
    "\n",
    "  pip install descartes (https://pypi.org/project/descartes/  July 2019)\n",
    "\n",
    "  pip install geopandas  (http://geopandas.org/index.html July 2019)\n",
    "\n",
    "  brew install gdal (https://formulae.brew.sh/formula/gdal July 2019)   \n",
    "\n",
    "  pip install gdal (https://pypi.org/project/GDAL/  July 2019)\n",
    "\n",
    "\n",
    "\n",
    "=======================\n",
    "**for the interactive maps:**\n",
    "\n",
    "  pip install ipyleaflet (https://ipyleaflet.readthedocs.io/en/latest/   July 2019)\n",
    "\n",
    "  conda install -c conda-forge nodejs   (https://anaconda.org/conda-forge/nodejs   July 2019)\n",
    "\n",
    "  jupyter nbextension enable --py --sys-prefix ipyleaflet  # can be skipped for notebook 5.3 and above   (July 2019)\n",
    "\n",
    "  jupyter labextension install jupyter-leaflet  (July 2019)\n",
    "\n",
    "  jupyter labextension install @jupyter-widgets/jupyterlab-manager  (July 2019)\n",
    "\n",
    "=======================\n",
    "\n",
    "\n",
    "https://github.com/OpenGeoscience/geonotebook   (July 2019)\n",
    "\n",
    "https://geonotebook.readthedocs.io/en/latest/   (July 2019)\n",
    "\n",
    "\n",
    "## Computer Vision\n",
    "\n",
    "  pip install opencv-python  (https://pypi.org/project/opencv-python/   |  https://opencv.org/    July 2019)\n",
    "\n",
    "  pip install scikit-image  (https://scikit-image.org/  | https://github.com/scikit-image/scikit-image   August 2019)\n",
    "\n",
    "## Machine Learning\n",
    "\n",
    "  pip install -U scikit-learn (https://scikit-learn.org/stable/install.html    July 2019)\n",
    "\n",
    "  pip install tensorflow==2.0.0-beta1  (https://www.tensorflow.org/install   July 2019)\n",
    "\n"
   ]
  },
  {
   "cell_type": "markdown",
   "metadata": {},
   "source": []
  },
  {
   "cell_type": "markdown",
   "metadata": {},
   "source": []
  },
  {
   "cell_type": "code",
   "execution_count": null,
   "metadata": {},
   "outputs": [],
   "source": []
  }
 ],
 "metadata": {
  "kernelspec": {
   "display_name": "Python 3",
   "language": "python",
   "name": "python3"
  },
  "language_info": {
   "codemirror_mode": {
    "name": "ipython",
    "version": 3
   },
   "file_extension": ".py",
   "mimetype": "text/x-python",
   "name": "python",
   "nbconvert_exporter": "python",
   "pygments_lexer": "ipython3",
   "version": "3.6.8"
  }
 },
 "nbformat": 4,
 "nbformat_minor": 4
}
