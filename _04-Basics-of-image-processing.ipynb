{
 "cells": [
  {
   "cell_type": "markdown",
   "metadata": {},
   "source": [
    "-04-Basics-of-image-processing  © by A.Richter\n",
    "------------------------------------------"
   ]
  },
  {
   "cell_type": "markdown",
   "metadata": {},
   "source": [
    "Intro to Image Analysis\n",
    "--"
   ]
  },
  {
   "cell_type": "code",
   "execution_count": 1,
   "metadata": {
    "collapsed": true
   },
   "outputs": [],
   "source": [
    "import skimage\n",
    "import skimage.io as skio\n",
    "from skimage import exposure\n",
    "from scipy.misc import bytescale\n",
    "\n",
    "import cv2\n",
    "import numpy as np\n",
    "import matplotlib.pyplot as plt\n",
    "import scipy as sp\n",
    "\n",
    "%matplotlib inline"
   ]
  },
  {
   "cell_type": "markdown",
   "metadata": {},
   "source": [
    "Import of Images with **Scikit-Image**\n",
    "--"
   ]
  },
  {
   "cell_type": "markdown",
   "metadata": {},
   "source": [
    "The following images are multi-channel IKONOS with a resolution of 4m multi and 1m pan"
   ]
  },
  {
   "cell_type": "code",
   "execution_count": 3,
   "metadata": {
    "collapsed": false
   },
   "outputs": [
    {
     "name": "stdout",
     "output_type": "stream",
     "text": [
      "(1764, 1874) uint16\n"
     ]
    }
   ],
   "source": [
    "Folder='FE-ImageData/'\n",
    "#IKOPan=skio.imread(Folder+'po_221141_pan_sub.TIF')\n",
    "IKORed=skio.imread(Folder+'po_221141_red_sub.TIF')\n",
    "IKOGreen=skio.imread(Folder+'po_221141_green_sub.TIF')\n",
    "IKOBlue=skio.imread(Folder+'po_221141_blue_sub.TIF')\n",
    "#IKONir=skio.imread(Folder+'IKONOS2_dodola_MS_Kanaele/_Tif/po_221141_nir_sub.TIF')\n",
    "print(IKORed.shape, IKORed.dtype)\n"
   ]
  },
  {
   "cell_type": "markdown",
   "metadata": {},
   "source": [
    "Import of Images with **OpenCV (CV2)**\n",
    "--"
   ]
  },
  {
   "cell_type": "code",
   "execution_count": 4,
   "metadata": {},
   "outputs": [
    {
     "name": "stdout",
     "output_type": "stream",
     "text": [
      "(1764, 1874) uint16\n"
     ]
    }
   ],
   "source": [
    "Folder='FE-ImageData/'\n",
    "#IKOPan=skio.imread(Folder+'IKONOS2_dodola_Pan_Kanal/_Tif/po_221141_pan_sub.TIF')\n",
    "IKORedcv2=cv2.imread(Folder+'po_221141_red_sub.TIF',-1)\n",
    "print(IKORedcv2.shape,IKORedcv2.dtype)"
   ]
  },
  {
   "cell_type": "markdown",
   "metadata": {},
   "source": [
    "the parameter **cv2.imread(...,-1)** is needed to import the data unchanged. Try to import the same image and you will have an 8bit instead of a 16bit array"
   ]
  },
  {
   "cell_type": "code",
   "execution_count": 5,
   "metadata": {},
   "outputs": [
    {
     "name": "stdout",
     "output_type": "stream",
     "text": [
      "(1764, 1874, 3) uint8\n"
     ]
    }
   ],
   "source": [
    "IKORedcv2=cv2.imread(Folder+'po_221141_red_sub.TIF')\n",
    "print(IKORedcv2.shape,IKORedcv2.dtype)"
   ]
  },
  {
   "cell_type": "code",
   "execution_count": 6,
   "metadata": {},
   "outputs": [
    {
     "name": "stdout",
     "output_type": "stream",
     "text": [
      "[[2 2 2 1 1 1 1 1 1 1]\n",
      " [2 2 2 2 1 1 1 1 1 1]\n",
      " [2 2 2 2 1 1 1 1 1 1]\n",
      " [1 2 2 2 1 1 1 1 1 1]\n",
      " [1 2 2 2 2 1 1 1 1 1]\n",
      " [1 2 2 2 1 1 1 2 2 2]\n",
      " [1 2 2 2 2 1 1 1 1 1]\n",
      " [1 1 1 2 2 1 1 2 1 1]\n",
      " [1 1 1 1 2 2 1 1 1 1]\n",
      " [1 1 1 1 1 2 2 1 1 1]]\n"
     ]
    }
   ],
   "source": [
    "print(IKORedcv2[100:110,100:110,1])"
   ]
  },
  {
   "cell_type": "markdown",
   "metadata": {},
   "source": [
    "Loops to read and plot images\n",
    "---"
   ]
  },
  {
   "cell_type": "code",
   "execution_count": null,
   "metadata": {},
   "outputs": [],
   "source": [
    "Folder='../../_032_LV_2016_04_14/_0322_Uebung/AOI_large_2/'             # define Folder\n",
    "\n",
    "TIFs=glob.glob(Folder+\"*.tif\")                    # generate list of the files with the Ending .tif\n",
    "#TFWs=glob.glob(Folder+\"*.tfw\")\n",
    "#OVRs=glob.glob(Folder+\"*.ovr\")\n",
    "\n",
    "for filename in TIFs:                             # For loop to print the list of images\n",
    "        print filename\n",
    "        Bild=skio.imread(filename)\n",
    "        plt.imshow(Bild, cmap = 'gray')\n",
    "        plt.show()"
   ]
  },
  {
   "cell_type": "code",
   "execution_count": null,
   "metadata": {
    "collapsed": false
   },
   "outputs": [],
   "source": [
    "print IKOPan[1000:1010,1000:1010]\n",
    "print '-----'\n",
    "\n",
    "print 'max Value: {}'.format(np.max(IKOPan))"
   ]
  },
  {
   "cell_type": "markdown",
   "metadata": {},
   "source": [
    "Import with **OpenCV**\n",
    "---"
   ]
  },
  {
   "cell_type": "markdown",
   "metadata": {},
   "source": [
    "8-bit Daten vs. 16-Bit Daten "
   ]
  },
  {
   "cell_type": "code",
   "execution_count": null,
   "metadata": {
    "collapsed": false
   },
   "outputs": [],
   "source": [
    "# 8bit version aus den 16bit Kanälen machen\n",
    "\n",
    "IKOPan8bit=bytescale(IKOPan)\n",
    "\n",
    "#IKOPan8bit=skimage.img_as_ubyte(np.float32(IKOPan))\n",
    "#IKORed8bit=skimage.img_as_ubyte(np.float32(IKORed))\n",
    "#IKOGreen8bit=skimage.img_as_ubyte(IKOGreen)\n",
    "#IKOBlue8bit=skimage.img_as_ubyte(IKOBlue)\n",
    "\n",
    "print IKOPan8bit.shape, IKOPan8bit.dtype\n",
    "print IKOPan8bit[1000:1010,1000:1010]\n",
    "print '-----'\n",
    "\n",
    "print 'max Value: {}'.format(np.max(IKOPan8bit))"
   ]
  },
  {
   "cell_type": "markdown",
   "metadata": {},
   "source": [
    "Output of Histogramms of the PAN or Red Channel\n",
    "---"
   ]
  },
  {
   "cell_type": "code",
   "execution_count": null,
   "metadata": {
    "collapsed": false
   },
   "outputs": [],
   "source": [
    "print('16 bit - Histogramm')\n",
    "\n",
    "fig=plt.figure(figsize=(10,3))\n",
    "#hist, bins = np.histogram(IKOPan, bins=100)         #Anzahl der Intervalle, \"bins\" verändern\n",
    "hist, bins = np.histogram(IKOPan, bins=100)         #Anzahl der Intervalle, \"bins\" verändern\n",
    "\n",
    "width = 0.7 * (bins[1] - bins[0])\n",
    "center = (bins[:-1] + bins[1:]) / 2\n",
    "plt.bar(center, hist, align='center', width=width)\n",
    "plt.show()\n",
    "\n",
    "print '----------------'\n",
    "print '8 bit - Histogramm'\n",
    "\n",
    "\n",
    "fig=plt.figure(figsize=(10,3))\n",
    "#hist, bins = np.histogram(IKOPan, bins=100)         #Anzahl der Intervalle, \"bins\" verändern\n",
    "hist, bins = np.histogram(IKOPan8bit, bins=100)         #Anzahl der Intervalle, \"bins\" verändern\n",
    "\n",
    "width = 0.7 * (bins[1] - bins[0])\n",
    "center = (bins[:-1] + bins[1:]) / 2\n",
    "plt.bar(center, hist, align='center', width=width)\n",
    "plt.show()"
   ]
  },
  {
   "cell_type": "markdown",
   "metadata": {},
   "source": [
    "Function to build an RBG TrueColor Image from scratch\n",
    "---"
   ]
  },
  {
   "cell_type": "markdown",
   "metadata": {},
   "source": [
    "http://gis.stackexchange.com/questions/120951/merging-multiple-16-bit-image-bands-to-create-a-true-color-tiff'\n"
   ]
  },
  {
   "cell_type": "code",
   "execution_count": null,
   "metadata": {
    "collapsed": false
   },
   "outputs": [],
   "source": [
    "def create_composite(red_band, green_band, blue_band):\n",
    "\n",
    "    img=np.dstack((red_band,green_band,blue_band))\n",
    "    \n",
    "    #p2, p98 = np.percentile(img, (2, 98)) \n",
    "    #img_rescale = exposure.rescale_intensity(img, in_range=(p2, p98))\n",
    "    img_rescale = exposure.rescale_intensity(img, in_range='uint16')\n",
    "\n",
    "    return bytescale(img_rescale)   # Konverting to 8bit for output in jupyter\n",
    "    #return img_rescale\n",
    "\n",
    "\n",
    "image = create_composite(IKORed, IKOGreen, IKOBlue)\n",
    "plt.figure(figsize=(20,10))  \n",
    "plt.imshow(image)\n",
    "plt.show()\n",
    "\n",
    "# see http://stackoverflow.com/questions/10388462/matplotlib-different-size-subplots\n",
    "  \n",
    "f, ((ax1, ax2), (ax3, ax4)) = plt.subplots(2, 2)\n",
    "ax1.imshow(image[0:50,0:50,0:3])\n",
    "ax1.set_title('Details of the Scene')\n",
    "ax2.imshow(image[0:400,0:400,0:3])\n",
    "ax3.imshow(image[0:500,0:500,0:3])\n",
    "ax4.imshow(image[0:500,0:500,0:3])\n",
    "plt.show()"
   ]
  },
  {
   "cell_type": "code",
   "execution_count": null,
   "metadata": {
    "collapsed": false
   },
   "outputs": [],
   "source": [
    "image.dtype"
   ]
  },
  {
   "cell_type": "code",
   "execution_count": null,
   "metadata": {
    "collapsed": true
   },
   "outputs": [],
   "source": []
  },
  {
   "cell_type": "markdown",
   "metadata": {},
   "source": [
    "Analyse the Correlation between two Channels\n",
    "---"
   ]
  },
  {
   "cell_type": "code",
   "execution_count": null,
   "metadata": {
    "collapsed": false
   },
   "outputs": [],
   "source": [
    "np.corrcoef(np.ravel(IKORed),np.ravel(IKOGreen))"
   ]
  },
  {
   "cell_type": "markdown",
   "metadata": {},
   "source": [
    "Filtering\n",
    "---"
   ]
  },
  {
   "cell_type": "code",
   "execution_count": null,
   "metadata": {
    "collapsed": false
   },
   "outputs": [],
   "source": [
    "from skimage import data,filters,feature\n",
    "image = data.coins() # or any NumPy array!\n",
    "#edges = filters.median(image)\n",
    "plt.imshow(image,cmap='gray')\n",
    "plt.show()\n",
    "\n",
    "edges = filters.prewitt(image)\n",
    "skio.imshow(edges)\n",
    "skio.show()\n",
    "\n",
    "\n",
    "edges = filters.sobel(image)\n",
    "skio.imshow(edges)\n",
    "skio.show()\n",
    "\n",
    "edges = feature.canny(image)\n",
    "skio.imshow(edges)\n",
    "skio.show()"
   ]
  },
  {
   "cell_type": "code",
   "execution_count": null,
   "metadata": {
    "collapsed": true
   },
   "outputs": [],
   "source": []
  },
  {
   "cell_type": "code",
   "execution_count": null,
   "metadata": {
    "collapsed": true
   },
   "outputs": [],
   "source": []
  }
 ],
 "metadata": {
  "kernelspec": {
   "display_name": "Python 3",
   "language": "python",
   "name": "python3"
  },
  "language_info": {
   "codemirror_mode": {
    "name": "ipython",
    "version": 3
   },
   "file_extension": ".py",
   "mimetype": "text/x-python",
   "name": "python",
   "nbconvert_exporter": "python",
   "pygments_lexer": "ipython3",
   "version": "3.4.5"
  }
 },
 "nbformat": 4,
 "nbformat_minor": 2
}
