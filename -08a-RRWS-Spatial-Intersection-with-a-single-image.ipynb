{
 "cells": [
  {
   "cell_type": "code",
   "execution_count": 2,
   "metadata": {},
   "outputs": [],
   "source": [
    "###\n",
    "import sys\n",
    "import numpy as np\n",
    "import pandas as pd\n",
    "import scripts.rrws as RRWS\n",
    "import scripts.RotationMatrixTools as rotMat\n",
    "\n",
    "#as spin\n",
    "# https://mail.python.org/pipermail/tutor/2004-November/033608.html \n",
    "    \n",
    "    \n",
    "    "
   ]
  },
  {
   "cell_type": "code",
   "execution_count": 3,
   "metadata": {},
   "outputs": [
    {
     "name": "stdout",
     "output_type": "stream",
     "text": [
      "                                 c[m]  x0[m]   y0[m]\n",
      "0                                  0.15  0.0     0.0\n",
      "1            PNR X[m]     Y[m]    Z[m]   x[m]   y[m]\n",
      "2         5 1361.29  -1402.17  200   0.110   0.110  \n",
      "3           6 1337.27  -1019.37  210   0.080   0.110\n",
      "4           7  977.48  -1029.61  205   0.080   0.080\n",
      "5           8  999.37  -1421.83  190   0.110   0.080\n",
      "6  X0[m]  Y0[m]   Z0[m]     omega[gon] phi[gon] k...\n",
      "7  1.132  1.132  2002.264  -2.0          1.0     ...\n"
     ]
    }
   ],
   "source": [
    "#\n",
    "\n",
    "\n",
    "inputFile=pd.read_csv('figures/Beo.dat')\n",
    "\n",
    "print(inputFile)\n"
   ]
  },
  {
   "cell_type": "code",
   "execution_count": null,
   "metadata": {},
   "outputs": [],
   "source": []
  },
  {
   "cell_type": "markdown",
   "metadata": {},
   "source": [
    "**reading input data**"
   ]
  },
  {
   "cell_type": "code",
   "execution_count": 25,
   "metadata": {},
   "outputs": [
    {
     "name": "stdout",
     "output_type": "stream",
     "text": [
      "[[ 0.  0.  0.  0.  0.  0.  0.  0.  0.  0.  0.]\n",
      " [ 0.  0.  0.  0.  0.  0.  0.  0.  0.  0.  0.]\n",
      " [ 0.  0.  0.  0.  0.  0.  0.  0.  0.  0.  0.]\n",
      " [ 0.  0.  0.  0.  0.  0.  0.  0.  0.  0.  0.]\n",
      " [ 0.  0.  0.  0.  0.  0.  0.  0.  0.  0.  0.]\n",
      " [ 0.  0.  0.  0.  0.  0.  0.  0.  0.  0.  0.]]\n",
      "[[  1.50000000e-01   0.00000000e+00   0.00000000e+00   0.00000000e+00\n",
      "    0.00000000e+00   0.00000000e+00   0.00000000e+00   0.00000000e+00\n",
      "    0.00000000e+00   0.00000000e+00   0.00000000e+00]\n",
      " [  1.00000000e+00   1.36129000e+03  -1.40217000e+03   2.00000000e+02\n",
      "    1.10000000e-01   1.10000000e-01   0.00000000e+00   0.00000000e+00\n",
      "    0.00000000e+00   0.00000000e+00   0.00000000e+00]\n",
      " [  2.00000000e+00   1.03853000e+03   1.02625000e+03   5.00000000e+02\n",
      "   -1.10000000e-01   1.10000000e-01   0.00000000e+00   0.00000000e+00\n",
      "    0.00000000e+00   0.00000000e+00   0.00000000e+00]\n",
      " [  3.00000000e+00  -1.25346000e+03   1.13902000e+03   3.00000000e+02\n",
      "   -1.10000000e-01  -1.10000000e-01   0.00000000e+00   0.00000000e+00\n",
      "    0.00000000e+00   0.00000000e+00   0.00000000e+00]\n",
      " [  4.00000000e+00  -1.32527000e+03  -1.42183000e+03   2.50000000e+02\n",
      "    1.10000000e-01  -1.10000000e-01   0.00000000e+00   0.00000000e+00\n",
      "    0.00000000e+00   0.00000000e+00   0.00000000e+00]\n",
      " [  0.00000000e+00   1.13200000e+00   1.13200000e+00   2.00226400e+03\n",
      "   -2.00000000e+00   1.00000000e+00  -9.80000000e+01   0.00000000e+00\n",
      "    0.00000000e+00   0.00000000e+00   0.00000000e+00]]\n",
      "calc deltas of Points\n",
      "===========================\n",
      "[[  1.50000000e-01   0.00000000e+00   0.00000000e+00   0.00000000e+00\n",
      "    0.00000000e+00   0.00000000e+00   0.00000000e+00   0.00000000e+00\n",
      "    0.00000000e+00   0.00000000e+00   0.00000000e+00]\n",
      " [  1.00000000e+00   1.36015800e+03  -1.40330200e+03  -1.80226400e+03\n",
      "    1.10000000e-01   1.10000000e-01   0.00000000e+00   0.00000000e+00\n",
      "    0.00000000e+00   0.00000000e+00   0.00000000e+00]\n",
      " [  2.00000000e+00   1.03739800e+03   1.02511800e+03  -1.50226400e+03\n",
      "   -1.10000000e-01   1.10000000e-01   0.00000000e+00   0.00000000e+00\n",
      "    0.00000000e+00   0.00000000e+00   0.00000000e+00]\n",
      " [  3.00000000e+00  -1.25459200e+03   1.13788800e+03  -1.70226400e+03\n",
      "   -1.10000000e-01  -1.10000000e-01   0.00000000e+00   0.00000000e+00\n",
      "    0.00000000e+00   0.00000000e+00   0.00000000e+00]\n",
      " [  4.00000000e+00  -1.32640200e+03  -1.42296200e+03  -1.75226400e+03\n",
      "    1.10000000e-01  -1.10000000e-01   0.00000000e+00   0.00000000e+00\n",
      "    0.00000000e+00   0.00000000e+00   0.00000000e+00]\n",
      " [  0.00000000e+00   1.13200000e+00   1.13200000e+00   2.00226400e+03\n",
      "   -2.00000000e+00   1.00000000e+00  -9.80000000e+01   0.00000000e+00\n",
      "    0.00000000e+00   0.00000000e+00   0.00000000e+00]]\n",
      "calc UVW\n",
      "===========================\n",
      "[[  1.50000000e-01   0.00000000e+00   0.00000000e+00   0.00000000e+00\n",
      "    0.00000000e+00   0.00000000e+00   0.00000000e+00   0.00000000e+00\n",
      "    0.00000000e+00   0.00000000e+00   0.00000000e+00]\n",
      " [  1.00000000e+00   1.36015800e+03  -1.40330200e+03  -1.80226400e+03\n",
      "    1.10000000e-01   1.10000000e-01   1.47346358e+03   1.37064939e+03\n",
      "   -1.73714339e+03   0.00000000e+00   0.00000000e+00]\n",
      " [  2.00000000e+00   1.03739800e+03   1.02511800e+03  -1.50226400e+03\n",
      "   -1.10000000e-01   1.10000000e-01  -9.68307786e+02   1.11622919e+03\n",
      "   -1.48333108e+03   0.00000000e+00   0.00000000e+00]\n",
      " [  3.00000000e+00  -1.25459200e+03   1.13788800e+03  -1.70226400e+03\n",
      "   -1.10000000e-01  -1.10000000e-01  -1.14985104e+03  -1.16358650e+03\n",
      "   -1.75795391e+03   0.00000000e+00   0.00000000e+00]\n",
      " [  4.00000000e+00  -1.32640200e+03  -1.42296200e+03  -1.75226400e+03\n",
      "    1.10000000e-01  -1.10000000e-01   1.40794961e+03  -1.31541559e+03\n",
      "   -1.77255521e+03   0.00000000e+00   0.00000000e+00]\n",
      " [  0.00000000e+00   1.13200000e+00   1.13200000e+00   2.00226400e+03\n",
      "   -2.00000000e+00   1.00000000e+00  -9.80000000e+01   0.00000000e+00\n",
      "    0.00000000e+00   0.00000000e+00   0.00000000e+00]]\n",
      "calc lger\n",
      "===========================\n",
      "[[  1.50000000e-01   0.00000000e+00   0.00000000e+00   0.00000000e+00\n",
      "    0.00000000e+00   0.00000000e+00   0.00000000e+00   0.00000000e+00\n",
      "    0.00000000e+00   0.00000000e+00   0.00000000e+00]\n",
      " [  1.00000000e+00   1.36015800e+03  -1.40330200e+03  -1.80226400e+03\n",
      "    1.10000000e-01   1.10000000e-01   1.47346358e+03   1.37064939e+03\n",
      "   -1.73714339e+03   1.27231602e-01   1.18353735e-01]\n",
      " [  2.00000000e+00   1.03739800e+03   1.02511800e+03  -1.50226400e+03\n",
      "   -1.10000000e-01   1.10000000e-01  -9.68307786e+02   1.11622919e+03\n",
      "   -1.48333108e+03  -9.79189139e-02   1.12877281e-01]\n",
      " [  3.00000000e+00  -1.25459200e+03   1.13788800e+03  -1.70226400e+03\n",
      "   -1.10000000e-01  -1.10000000e-01  -1.14985104e+03  -1.16358650e+03\n",
      "   -1.75795391e+03  -9.81127288e-02  -9.92847275e-02]\n",
      " [  4.00000000e+00  -1.32640200e+03  -1.42296200e+03  -1.75226400e+03\n",
      "    1.10000000e-01  -1.10000000e-01   1.40794961e+03  -1.31541559e+03\n",
      "   -1.77255521e+03   1.19145762e-01  -1.11315200e-01]\n",
      " [  0.00000000e+00   1.13200000e+00   1.13200000e+00   2.00226400e+03\n",
      "   -2.00000000e+00   1.00000000e+00  -9.80000000e+01   0.00000000e+00\n",
      "    0.00000000e+00   0.00000000e+00   0.00000000e+00]]\n"
     ]
    }
   ],
   "source": [
    "p1 = RRWS.Point(1,    1361.29,  -1402.17,       200,   0.110,   0.110)  \n",
    "p2 = RRWS.Point(2,    1038.53,    1026.25,      500,  -0.110,   0.110)\n",
    "p3 = RRWS.Point(3,   -1253.46,    1139.02,      300,  -0.110,  -0.110)\n",
    "p4 = RRWS.Point(4,   -1325.27,   -1421.83,      250,   0.110,  -0.110)\n",
    "pEO= RRWS.Point('EO',   1.132,      1.132, 2002.264,       0,       0)  \n",
    " \n",
    "\n",
    "c=0.15  \n",
    "x0IO=0.0     \n",
    "y0IO=0.0\n",
    "#1.132  1.132  2002.264    -2.0        1.0     -98.0\n",
    "\n",
    "omegaEO=-2.0          \n",
    "phiEO=1.0     \n",
    "kappaEO=-98.0\n",
    "\n",
    "\n",
    "PointMatIn=np.zeros((6,11))\n",
    "print(PointMatIn)\n",
    "PointMatIn[0,:]=[c,x0IO,y0IO,0,0,0,0,0,0,0,0]\n",
    "PointMatIn[1,:]=[1,    1361.29,  -1402.17,       200,   0.110,   0.110,0,0,0,0,0]\n",
    "PointMatIn[2,:]=[2,    1038.53,    1026.25,      500,  -0.110,   0.110,0,0,0,0,0]\n",
    "PointMatIn[3,:]=[3,   -1253.46,    1139.02,      300,  -0.110,  -0.110,0,0,0,0,0]\n",
    "PointMatIn[4,:]=[4,   -1325.27,   -1421.83,      250,   0.110,  -0.110,0,0,0,0,0]\n",
    "PointMatIn[5,:]=[0,      1.132,      1.132, 2002.264,  omegaEO,  phiEO,kappaEO,0,0,0,0]  \n",
    "\n",
    "print(PointMatIn)\n",
    "\n",
    "\n",
    "print('calc deltas of Points')\n",
    "PointMatIn[1,1:4]=PointMatIn[1,1:4]-PointMatIn[5,1:4]\n",
    "PointMatIn[2,1:4]=PointMatIn[2,1:4]-PointMatIn[5,1:4]\n",
    "PointMatIn[3,1:4]=PointMatIn[3,1:4]-PointMatIn[5,1:4]\n",
    "PointMatIn[4,1:4]=PointMatIn[4,1:4]-PointMatIn[5,1:4]\n",
    "\n",
    "\n",
    "print('===========================')\n",
    "print(PointMatIn)\n",
    "\n",
    "print('calc UVW')\n",
    "R=rotMat.RyprG(kappaEO,phiEO,omegaEO).T\n",
    "\n",
    "\n",
    "PointMatIn[1,6:9]=np.dot(R,PointMatIn[1,1:4])\n",
    "PointMatIn[2,6:9]=np.dot(R,PointMatIn[2,1:4])\n",
    "PointMatIn[3,6:9]=np.dot(R,PointMatIn[3,1:4])\n",
    "PointMatIn[4,6:9]=np.dot(R,PointMatIn[4,1:4])\n",
    "\n",
    "\n",
    "print('===========================')\n",
    "print(PointMatIn)\n",
    "\n",
    "print('calc lger')\n",
    "\n",
    "PointMatIn[1,9:11]=[ PointMatIn[0,1] - PointMatIn[0,0]*PointMatIn[1,6]/PointMatIn[1,8], PointMatIn[0,2] - PointMatIn[0,0]*PointMatIn[1,7]/PointMatIn[1,8] ]\n",
    "PointMatIn[2,9:11]=[ PointMatIn[0,1] - PointMatIn[0,0]*PointMatIn[2,6]/PointMatIn[2,8], PointMatIn[0,2] - PointMatIn[0,0]*PointMatIn[2,7]/PointMatIn[2,8] ]\n",
    "PointMatIn[3,9:11]=[ PointMatIn[0,1] - PointMatIn[0,0]*PointMatIn[3,6]/PointMatIn[3,8], PointMatIn[0,2] - PointMatIn[0,0]*PointMatIn[3,7]/PointMatIn[3,8] ]\n",
    "PointMatIn[4,9:11]=[ PointMatIn[0,1] - PointMatIn[0,0]*PointMatIn[4,6]/PointMatIn[4,8], PointMatIn[0,2] - PointMatIn[0,0]*PointMatIn[4,7]/PointMatIn[4,8] ]\n",
    "\n",
    "\n",
    "print('===========================')\n",
    "print(PointMatIn)\n",
    "\n",
    "\n",
    "\n",
    "\n",
    "#Storring all input data in a Matrix Structure"
   ]
  },
  {
   "cell_type": "code",
   "execution_count": 28,
   "metadata": {},
   "outputs": [
    {
     "name": "stdout",
     "output_type": "stream",
     "text": [
      "[ 0.1272316   0.11835373 -0.09791891  0.11287728 -0.09811273 -0.09928473\n",
      "  0.11914576 -0.1113152 ]\n"
     ]
    }
   ],
   "source": [
    "print(PointMatIn[1:5,9:11].ravel())"
   ]
  },
  {
   "cell_type": "code",
   "execution_count": 5,
   "metadata": {},
   "outputs": [
    {
     "data": {
      "text/plain": [
       "'EO'"
      ]
     },
     "execution_count": 5,
     "metadata": {},
     "output_type": "execute_result"
    }
   ],
   "source": [
    "1360.158 -1403.3020000000001 -1802.264\n",
    "pEO.No\n",
    "\n",
    "[[ 1473.46357578]\n",
    " [ 1370.64938835]\n",
    " [-1737.14339043]\n"
   ]
  },
  {
   "cell_type": "markdown",
   "metadata": {},
   "source": [
    "**make observation vector**"
   ]
  },
  {
   "cell_type": "code",
   "execution_count": 6,
   "metadata": {},
   "outputs": [
    {
     "name": "stdout",
     "output_type": "stream",
     "text": [
      "(8, 1)\n",
      "[[ 0.11]\n",
      " [-0.11]\n",
      " [-0.11]\n",
      " [ 0.11]\n",
      " [ 0.11]\n",
      " [ 0.11]\n",
      " [-0.11]\n",
      " [-0.11]]\n"
     ]
    }
   ],
   "source": [
    "lgem=np.zeros((8,1))\n",
    "print(lgem.shape)\n",
    "lgem=np.array([[p1.xI],[p2.xI],[p3.xI],[p4.xI],[p1.yI],[p2.yI],[p3.yI],[p4.yI]   ])\n",
    "print(lgem)\n"
   ]
  },
  {
   "cell_type": "markdown",
   "metadata": {},
   "source": [
    "**calculate observations from stereo view equations**"
   ]
  },
  {
   "cell_type": "code",
   "execution_count": 7,
   "metadata": {},
   "outputs": [
    {
     "data": {
      "text/plain": [
       "matrix([[ 0.03140688, -0.99938325, -0.01570732],\n",
       "        [ 0.99899787,  0.0318884 , -0.03140688],\n",
       "        [ 0.0318884 , -0.01470518,  0.99938325]])"
      ]
     },
     "execution_count": 7,
     "metadata": {},
     "output_type": "execute_result"
    }
   ],
   "source": [
    "rotMat.RyprG(kappaEO,phiEO,omegaEO).T\n",
    "#https://support.pcigeomatics.com/hc/en-us/articles/203483349-Heading-Pitch-Roll-vs-Omega-Phi-Kappa"
   ]
  },
  {
   "cell_type": "code",
   "execution_count": 8,
   "metadata": {},
   "outputs": [
    {
     "data": {
      "text/plain": [
       "matrix([[ 0.03140688,  0.99899787,  0.0318884 ],\n",
       "        [-0.99938325,  0.0318884 , -0.01470518],\n",
       "        [-0.01570732, -0.03140688,  0.99938325]])"
      ]
     },
     "execution_count": 8,
     "metadata": {},
     "output_type": "execute_result"
    }
   ],
   "source": [
    "rotMat.RyprG(kappaEO,phiEO,omegaEO)\n"
   ]
  },
  {
   "cell_type": "code",
   "execution_count": 9,
   "metadata": {},
   "outputs": [
    {
     "name": "stdout",
     "output_type": "stream",
     "text": [
      "( 1, 1360.158,-1403.3020000000001, -1802.264, 0.11, 0.11)\n",
      "1361.29 -1402.17 200\n",
      "1.132 1.132 2002.264\n",
      "1360.158 -1403.3020000000001 -1802.264\n",
      "[[ 1360.158]\n",
      " [-1403.302]\n",
      " [-1802.264]]\n",
      "[[ 1473.46357578]\n",
      " [ 1370.64938835]\n",
      " [-1737.14339043]]\n",
      "[[ 0.1272316]]\n",
      "[[ 0.11835373]]\n"
     ]
    }
   ],
   "source": [
    "\n",
    "\n",
    "deltaP1=RRWS.Point.subtr(p1,pEO)\n",
    "RRWS.Point.println(deltaP1) \n",
    "\n",
    "#deltaP2=RRWS.Point.subtr(p2,pEO)\n",
    "#deltaP3=RRWS.Point.subtr(p3,pEO)\n",
    "\n",
    "print(p1.Xw,p1.Yw,p1.Zw)\n",
    "print(pEO.Xw,pEO.Yw,pEO.Zw)\n",
    "\n",
    "print(deltaP1.Xw,deltaP1.Yw,deltaP1.Zw)\n",
    "\n",
    "delta = np.zeros((3,1))\n",
    "delta[0]=deltaP1.Xw\n",
    "delta[1]=deltaP1.Yw\n",
    "delta[2]=deltaP1.Zw\n",
    "print(delta)\n",
    "\n",
    "#UVW=np.zeros((3,1))\n",
    "R=rotMat.RyprG(kappaEO,phiEO,omegaEO).T\n",
    "         \n",
    "UVW=np.dot(R,delta)\n",
    "print(UVW)\n",
    "\n",
    "print(   x0IO - c*UVW[0]/UVW[2] )\n",
    "print(   y0IO - c*UVW[1]/UVW[2] )\n",
    "\n",
    "\n",
    "#U=1360.158*0.99938325 + (-1403.302*(-0.03140688))+ (-1802.264* ( -0.01570732))\n",
    "#print(U)\n",
    " \n",
    "#W= 1360.158*   0.0318884+ (-1403.302*  0.99899787)+(-1802.264*   0.03140688)\n",
    "#print(W)\n",
    "#print(c*U/W)\n",
    "\n",
    "#print(deltaP2)\n",
    "#print(deltaP3)\n",
    "#RRWS.Point.println(p1)\n",
    "\n",
    "#RRWS.Point.println(pEO)\n",
    "\n",
    "lger=np.zeros((8,1))\n",
    "\n",
    "\n",
    "#U= r11*dX[i]+r21*dY[i]+r31*dZ[i];\n",
    "\n",
    "\n",
    "#V[i]= r12*dX[i]+r22*dY[i]+r32*dZ[i];\n",
    "\n",
    "#W[i]= r13*dX[i]+r23*dY[i]+r33*dZ[i];\n",
    "\n",
    "#lger[i][0]=    xo - c*U[i]/W[i];\n",
    "\n",
    "#lger[i+anz][0]=yo - c*V[i]/W[i];"
   ]
  },
  {
   "cell_type": "code",
   "execution_count": 10,
   "metadata": {},
   "outputs": [
    {
     "name": "stdout",
     "output_type": "stream",
     "text": [
      "[ 0.]\n"
     ]
    }
   ],
   "source": [
    "delta = np.zeros((3,1))\n",
    "print(delta[1])"
   ]
  },
  {
   "cell_type": "markdown",
   "metadata": {},
   "source": [
    "make A-Matrix\n",
    "==="
   ]
  },
  {
   "cell_type": "code",
   "execution_count": 29,
   "metadata": {},
   "outputs": [],
   "source": [
    "A=np.zeros((8,6))"
   ]
  },
  {
   "cell_type": "code",
   "execution_count": 30,
   "metadata": {},
   "outputs": [
    {
     "data": {
      "text/plain": [
       "array([[ 0.,  0.,  0.,  0.,  0.,  0.],\n",
       "       [ 0.,  0.,  0.,  0.,  0.,  0.],\n",
       "       [ 0.,  0.,  0.,  0.,  0.,  0.],\n",
       "       [ 0.,  0.,  0.,  0.,  0.,  0.],\n",
       "       [ 0.,  0.,  0.,  0.,  0.,  0.],\n",
       "       [ 0.,  0.,  0.,  0.,  0.,  0.],\n",
       "       [ 0.,  0.,  0.,  0.,  0.,  0.],\n",
       "       [ 0.,  0.,  0.,  0.,  0.,  0.]])"
      ]
     },
     "execution_count": 30,
     "metadata": {},
     "output_type": "execute_result"
    }
   ],
   "source": [
    "A"
   ]
  },
  {
   "cell_type": "code",
   "execution_count": null,
   "metadata": {},
   "outputs": [],
   "source": []
  }
 ],
 "metadata": {
  "kernelspec": {
   "display_name": "Python 3",
   "language": "python",
   "name": "python3"
  },
  "language_info": {
   "codemirror_mode": {
    "name": "ipython",
    "version": 3
   },
   "file_extension": ".py",
   "mimetype": "text/x-python",
   "name": "python",
   "nbconvert_exporter": "python",
   "pygments_lexer": "ipython3",
   "version": "3.6.1"
  }
 },
 "nbformat": 4,
 "nbformat_minor": 2
}
