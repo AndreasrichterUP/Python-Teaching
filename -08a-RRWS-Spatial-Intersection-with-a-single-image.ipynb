{
 "cells": [
  {
   "cell_type": "code",
   "execution_count": 1,
   "metadata": {},
   "outputs": [],
   "source": [
    "###\n",
    "import sys\n",
    "import numpy as np\n",
    "import pandas as pd\n",
    "import scripts.rrws as RRWS\n",
    "import scripts.RotationMatrixTools as rotMat\n",
    "\n",
    "#as spin\n",
    "# https://mail.python.org/pipermail/tutor/2004-November/033608.html \n",
    "    \n",
    "    \n",
    "    "
   ]
  },
  {
   "cell_type": "code",
   "execution_count": 2,
   "metadata": {},
   "outputs": [
    {
     "name": "stdout",
     "output_type": "stream",
     "text": [
      "                                 c[m]  x0[m]   y0[m]\n",
      "0                                  0.15  0.0     0.0\n",
      "1            PNR X[m]     Y[m]    Z[m]   x[m]   y[m]\n",
      "2         5 1361.29  -1402.17  200   0.110   0.110  \n",
      "3           6 1337.27  -1019.37  210   0.080   0.110\n",
      "4           7  977.48  -1029.61  205   0.080   0.080\n",
      "5           8  999.37  -1421.83  190   0.110   0.080\n",
      "6  X0[m]  Y0[m]   Z0[m]     omega[gon] phi[gon] k...\n",
      "7  1.132  1.132  2002.264  -2.0          1.0     ...\n"
     ]
    }
   ],
   "source": [
    "#\n",
    "\n",
    "\n",
    "inputFile=pd.read_csv('figures/Beo.dat')\n",
    "\n",
    "print(inputFile)\n"
   ]
  },
  {
   "cell_type": "code",
   "execution_count": null,
   "metadata": {},
   "outputs": [],
   "source": []
  },
  {
   "cell_type": "markdown",
   "metadata": {},
   "source": [
    "**reading input data**"
   ]
  },
  {
   "cell_type": "code",
   "execution_count": 3,
   "metadata": {},
   "outputs": [],
   "source": [
    "p1 = RRWS.Point(1,    1361.29,  -1402.17,       200,   0.110,   0.110)  \n",
    "p2 = RRWS.Point(2,    1038.53,    1026.25,      500,  -0.110,   0.110)\n",
    "p3 = RRWS.Point(3,   -1253.46,    1139.02,      300,  -0.110,  -0.110)\n",
    "p4 = RRWS.Point(4,   -1325.27,   -1421.83,      250,   0.110,  -0.110)\n",
    "pEO= RRWS.Point('EO',   1.132,      1.132, 2002.264,       0,       0)  \n",
    " \n",
    "\n",
    "c=0.15  \n",
    "x0IO=0.0     \n",
    "y0IO=0.0\n",
    "#1.132  1.132  2002.264    -2.0        1.0     -98.0\n",
    "\n",
    "omegaEO=-2.0          \n",
    "phiEO=1.0     \n",
    "kappaEO=-98.0"
   ]
  },
  {
   "cell_type": "code",
   "execution_count": 4,
   "metadata": {},
   "outputs": [
    {
     "data": {
      "text/plain": [
       "'EO'"
      ]
     },
     "execution_count": 4,
     "metadata": {},
     "output_type": "execute_result"
    }
   ],
   "source": [
    "pEO.No\n"
   ]
  },
  {
   "cell_type": "markdown",
   "metadata": {},
   "source": [
    "**make observation vector**"
   ]
  },
  {
   "cell_type": "code",
   "execution_count": 5,
   "metadata": {},
   "outputs": [
    {
     "name": "stdout",
     "output_type": "stream",
     "text": [
      "(8, 1)\n",
      "[[ 0.11]\n",
      " [-0.11]\n",
      " [-0.11]\n",
      " [ 0.11]\n",
      " [ 0.11]\n",
      " [ 0.11]\n",
      " [-0.11]\n",
      " [-0.11]]\n"
     ]
    }
   ],
   "source": [
    "lgem=np.zeros((8,1))\n",
    "print(lgem.shape)\n",
    "lgem=np.array([[p1.xI],[p2.xI],[p3.xI],[p4.xI],[p1.yI],[p2.yI],[p3.yI],[p4.yI]   ])\n",
    "print(lgem)\n"
   ]
  },
  {
   "cell_type": "markdown",
   "metadata": {},
   "source": [
    "**calculate observations from stereo view equations**"
   ]
  },
  {
   "cell_type": "code",
   "execution_count": 13,
   "metadata": {},
   "outputs": [
    {
     "data": {
      "text/plain": [
       "matrix([[ 0.03140688, -0.99938325, -0.01570732],\n",
       "        [ 0.99899787,  0.0318884 , -0.03140688],\n",
       "        [ 0.0318884 , -0.01470518,  0.99938325]])"
      ]
     },
     "execution_count": 13,
     "metadata": {},
     "output_type": "execute_result"
    }
   ],
   "source": [
    "rotMat.RyprG(kappaEO,phiEO,omegaEO).T\n",
    "#https://support.pcigeomatics.com/hc/en-us/articles/203483349-Heading-Pitch-Roll-vs-Omega-Phi-Kappa"
   ]
  },
  {
   "cell_type": "code",
   "execution_count": 14,
   "metadata": {},
   "outputs": [
    {
     "data": {
      "text/plain": [
       "matrix([[ 0.03140688,  0.99899787,  0.0318884 ],\n",
       "        [-0.99938325,  0.0318884 , -0.01470518],\n",
       "        [-0.01570732, -0.03140688,  0.99938325]])"
      ]
     },
     "execution_count": 14,
     "metadata": {},
     "output_type": "execute_result"
    }
   ],
   "source": [
    "rotMat.RyprG(kappaEO,phiEO,omegaEO)\n"
   ]
  },
  {
   "cell_type": "code",
   "execution_count": 19,
   "metadata": {},
   "outputs": [
    {
     "name": "stdout",
     "output_type": "stream",
     "text": [
      "1361.29 -1402.17 200\n",
      "1.132 1.132 2002.264\n",
      "1360.158 -1403.3020000000001 -1802.264\n",
      "[[ 1360.158]\n",
      " [-1403.302]\n",
      " [-1802.264]]\n",
      "[[ 1473.46357578]\n",
      " [ 1370.64938835]\n",
      " [-1737.14339043]]\n",
      "[[ 0.1272316]]\n",
      "[[ 0.11835373]]\n",
      "( 1, 1361.29,-1402.17, 200, 0.11, 0.11)\n",
      "( EO, 1.132,1.132, 2002.264, 0, 0)\n"
     ]
    }
   ],
   "source": [
    "deltaP1=RRWS.Point.subtr(p1,pEO)\n",
    "deltaP2=RRWS.Point.subtr(p2,pEO)\n",
    "deltaP3=RRWS.Point.subtr(p3,pEO)\n",
    "\n",
    "print(p1.Xw,p1.Yw,p1.Zw)\n",
    "print(pEO.Xw,pEO.Yw,pEO.Zw)\n",
    "\n",
    "print(deltaP1.Xw,deltaP1.Yw,deltaP1.Zw)\n",
    "\n",
    "delta = np.zeros((3,1))\n",
    "delta[0]=deltaP1.Xw\n",
    "delta[1]=deltaP1.Yw\n",
    "delta[2]=deltaP1.Zw\n",
    "print(delta)\n",
    "\n",
    "#UVW=np.zeros((3,1))\n",
    "\n",
    "UVW=np.dot(rotMat.RyprG(kappaEO,phiEO,omegaEO).T,delta)\n",
    "print(UVW)\n",
    "\n",
    "print(   x0IO - c*UVW[0]/UVW[2] )\n",
    "print(   y0IO - c*UVW[1]/UVW[2] )\n",
    "\n",
    "\n",
    "#U=1360.158*0.99938325 + (-1403.302*(-0.03140688))+ (-1802.264* ( -0.01570732))\n",
    "#print(U)\n",
    " \n",
    "#W= 1360.158*   0.0318884+ (-1403.302*  0.99899787)+(-1802.264*   0.03140688)\n",
    "#print(W)\n",
    "#print(c*U/W)\n",
    "\n",
    "#print(deltaP2)\n",
    "#print(deltaP3)\n",
    "RRWS.Point.println(p1)\n",
    "\n",
    "RRWS.Point.println(pEO)\n",
    "\n",
    "lger=np.zeros((8,1))\n",
    "\n",
    "\n",
    "#U= r11*dX[i]+r21*dY[i]+r31*dZ[i];\n",
    "\n",
    "\n",
    "#V[i]= r12*dX[i]+r22*dY[i]+r32*dZ[i];\n",
    "\n",
    "#W[i]= r13*dX[i]+r23*dY[i]+r33*dZ[i];\n",
    "\n",
    "#lger[i][0]=    xo - c*U[i]/W[i];\n",
    "\n",
    "#lger[i+anz][0]=yo - c*V[i]/W[i];"
   ]
  },
  {
   "cell_type": "code",
   "execution_count": 9,
   "metadata": {},
   "outputs": [
    {
     "name": "stdout",
     "output_type": "stream",
     "text": [
      "[ 0.]\n"
     ]
    }
   ],
   "source": [
    "delta = np.zeros((3,1))\n",
    "print(delta[1])"
   ]
  },
  {
   "cell_type": "code",
   "execution_count": null,
   "metadata": {},
   "outputs": [],
   "source": []
  }
 ],
 "metadata": {
  "kernelspec": {
   "display_name": "Python 3",
   "language": "python",
   "name": "python3"
  },
  "language_info": {
   "codemirror_mode": {
    "name": "ipython",
    "version": 3
   },
   "file_extension": ".py",
   "mimetype": "text/x-python",
   "name": "python",
   "nbconvert_exporter": "python",
   "pygments_lexer": "ipython3",
   "version": "3.4.5"
  }
 },
 "nbformat": 4,
 "nbformat_minor": 2
}
