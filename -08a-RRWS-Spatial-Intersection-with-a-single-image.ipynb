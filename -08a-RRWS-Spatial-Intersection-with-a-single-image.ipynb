{
 "cells": [
  {
   "cell_type": "markdown",
   "metadata": {},
   "source": [
    "Spatial Intersection in Photogrammetry\n",
    "==="
   ]
  },
  {
   "cell_type": "markdown",
   "metadata": {},
   "source": [
    "**Overview of the notebook:**\n",
    "    - Reading the input files\n",
    "    - making the observations vector\n",
    "    - calculate observations from stereo view equations\n",
    "    - make the Delta Vector between observations and calculated observations\n",
    "    - generate A-Matrix\n",
    "    - Adjustment Iterations"
   ]
  },
  {
   "cell_type": "markdown",
   "metadata": {},
   "source": [
    "**Todos**\n",
    " - documentation of matrix structure and computing strategy\n",
    " - script rrws.py function calcDifferentials\n",
    " - compare results of python with old protocolls\n",
    " - "
   ]
  },
  {
   "cell_type": "code",
   "execution_count": 4,
   "metadata": {},
   "outputs": [],
   "source": [
    "###\n",
    "import sys,math\n",
    "import numpy as np\n",
    "import pandas as pd\n",
    "import scripts.rrws as RRWS\n",
    "import scripts.RotationMatrixTools as rotMat\n",
    "\n",
    "#as spin\n",
    "# https://mail.python.org/pipermail/tutor/2004-November/033608.html \n",
    "    \n",
    "    \n",
    "    "
   ]
  },
  {
   "cell_type": "code",
   "execution_count": 2,
   "metadata": {},
   "outputs": [],
   "source": [
    "#inputFile=pd.read_csv('figures/Beo.dat')\n",
    "\n",
    "#print(inputFile)\n"
   ]
  },
  {
   "cell_type": "code",
   "execution_count": 3,
   "metadata": {},
   "outputs": [],
   "source": [
    "#np.dot(PointMatIn[1,1:4],PointMatIn[1,1:4])"
   ]
  },
  {
   "cell_type": "code",
   "execution_count": 4,
   "metadata": {},
   "outputs": [],
   "source": [
    "#PointMatIn[1,1]**2 +PointMatIn[1,2]**2+PointMatIn[1,3]**2"
   ]
  },
  {
   "cell_type": "markdown",
   "metadata": {},
   "source": [
    "**reading input data**"
   ]
  },
  {
   "cell_type": "code",
   "execution_count": 7,
   "metadata": {},
   "outputs": [
    {
     "name": "stdout",
     "output_type": "stream",
     "text": [
      "sin(omega)= -0.03141075907812829\n",
      "cos(omega)= 0.9995065603657316\n",
      "--------------------\n",
      "sin(phi)= 0.015707317311820675\n",
      "cos(phi)= 0.9998766324816606\n",
      "--------------------\n",
      "sin(kappa)= -0.9995065603657316\n",
      "cos(kappa)= 0.031410759078128396\n",
      "--------------------\n",
      "--------------------\n",
      "[[ 1.          0.          0.        ]\n",
      " [ 0.          0.99950656  0.03141076]\n",
      " [ 0.         -0.03141076  0.99950656]]\n",
      "--------------------\n",
      "[[ 0.99987663  0.          0.01570732]\n",
      " [ 0.          1.          0.        ]\n",
      " [-0.01570732  0.          0.99987663]]\n",
      "--------------------\n",
      "[[ 0.03141076  0.99950656  0.        ]\n",
      " [-0.99950656  0.03141076  0.        ]\n",
      " [ 0.          0.          1.        ]]\n",
      "--------------------\n",
      "[[ 0.03140688  0.99899787  0.0318884 ]\n",
      " [-0.99938325  0.0318884  -0.01470518]\n",
      " [-0.01570732 -0.03140688  0.99938325]]\n",
      "--------------------\n",
      "0.03140688401073177 0.9993832537218154 0.015707317311820675\n",
      "-0.9990288616154956 0.030902124457446292 0.03140688401073167\n",
      "0.030902124457446185 -0.01667845569632513 0.9993832537218154\n",
      "--------------------\n",
      "[[ 0.03140688  0.99938325  0.01570732]\n",
      " [-0.99902886  0.03090212  0.03140688]\n",
      " [ 0.03090212 -0.01667846  0.99938325]]\n"
     ]
    }
   ],
   "source": [
    "#p1 = RRWS.Point(1,    1361.29,  -1402.17,       200,   0.110,   0.110)  \n",
    "#p2 = RRWS.Point(2,    1038.53,    1026.25,      500,  -0.110,   0.110)\n",
    "#p3 = RRWS.Point(3,   -1253.46,    1139.02,      300,  -0.110,  -0.110)\n",
    "#p4 = RRWS.Point(4,   -1325.27,   -1421.83,      250,   0.110,  -0.110)\n",
    "#pEO= RRWS.Point('EO',   1.132,      1.132, 2002.264,       0,       0)  \n",
    " \n",
    "\n",
    "c=0.15  \n",
    "x0IO=0.0     \n",
    "y0IO=0.0\n",
    "#1.132  1.132  2002.264    -2.0        1.0     -98.0\n",
    "\n",
    "omegaEO=-2.0*np.pi/200.0          \n",
    "phiEO=1.0*np.pi/200.0     \n",
    "kappaEO=-98.0*np.pi/200.0\n",
    "\n",
    "\n",
    "PointMatIn=np.zeros((6,23))\n",
    "#print(PointMatIn)\n",
    "PointMatIn[0,:]=[c,x0IO,y0IO,0,0,0,0,0,0,0,0,0,0,0,0,0,0,0,0,0,0,0,0]\n",
    "PointMatIn[1,:]=[1,    1361.29,  -1402.17,       200,   0.110,   0.110,0,0,0,0,0,0,0,0,0,0,0,0,0,0,0,0,0]\n",
    "PointMatIn[2,:]=[2,    1038.53,    1026.25,      500,  -0.110,   0.110,0,0,0,0,0,0,0,0,0,0,0,0,0,0,0,0,0]\n",
    "PointMatIn[3,:]=[3,   -1253.46,    1139.02,      300,  -0.110,  -0.110,0,0,0,0,0,0,0,0,0,0,0,0,0,0,0,0,0]\n",
    "PointMatIn[4,:]=[4,   -1325.27,   -1421.83,      250,   0.110,  -0.110,0,0,0,0,0,0,0,0,0,0,0,0,0,0,0,0,0]\n",
    "PointMatIn[5,:]=[0,      1.132,      1.132, 2002.264,  omegaEO,  phiEO,kappaEO,0,0,0,0,0,0,0,0,0,0,0,0,0,0,0,0]  \n",
    "\n",
    "#print(PointMatIn)\n",
    "#print('Input Array has Dims: {} '.format(PointMatIn.shape))\n",
    "# rotMat.RyprG(   kappaEO     ,   phiEO       , omegaEO       )\n",
    "#Ra =rotMat.RyprG(PointMatIn[5,6],PointMatIn[5,5],PointMatIn[5,4])\n",
    "#print(Ra)\n",
    "#print(20*\"-\")\n",
    "#print(Rb)\n",
    "#print(20*\"=\")\n",
    "\n",
    "\n",
    "\n",
    "r=omegaEO\n",
    "p=phiEO\n",
    "y=kappaEO\n",
    "print('sin(omega)=',math.sin(r))\n",
    "print('cos(omega)=',math.cos(r))\n",
    "print(20*\"-\")\n",
    "print('sin(phi)=',math.sin(p))\n",
    "print('cos(phi)=',math.cos(p))\n",
    "print(20*\"-\")\n",
    "print('sin(kappa)=',math.sin(y))\n",
    "print('cos(kappa)=',math.cos(y))\n",
    "print(20*\"-\")\n",
    "Rr = np.array([[1.0, 0.0, 0.0],[0.0, math.cos(r), -math.sin(r)],[0.0, math.sin(r), math.cos(r)]])\n",
    "Rp = np.matrix([[math.cos(p), 0.0, math.sin(p)],[0.0, 1.0, 0.0],[-math.sin(p), 0.0, math.cos(p)]])\n",
    "Ry = np.matrix([[math.cos(y), -math.sin(y), 0.0],[math.sin(y), math.cos(y), 0.0],[0.0, 0.0, 1.0]])\n",
    "\n",
    "print(20*\"-\")\n",
    "print(Rr)\n",
    "print(20*\"-\")\n",
    "print(Rp)\n",
    "print(20*\"-\")\n",
    "print(Ry)\n",
    "print(20*\"-\")\n",
    "print(Ry*Rp*Rr) #ZYX-rotationsreihenfolge\n",
    "print(20*\"-\")\n",
    "\n",
    "r11= math.cos(phiEO)*math.cos(kappaEO);\n",
    "r12=-math.cos(phiEO)*math.sin(kappaEO);\n",
    "r13= math.sin(phiEO);\n",
    "\n",
    "r21= math.cos(omegaEO)*math.sin(kappaEO)+math.sin(omegaEO)*math.sin(phiEO)*math.cos(kappaEO);\n",
    "r22= math.cos(omegaEO)*math.cos(kappaEO)-math.sin(omegaEO)*math.sin(phiEO)*math.sin(kappaEO);\n",
    "r23=-math.sin(omegaEO)*math.cos(phiEO);\n",
    "\n",
    "r31= math.sin(omegaEO)*math.sin(kappaEO)-math.cos(omegaEO)*math.sin(phiEO)*math.cos(kappaEO);\n",
    "r32= math.sin(omegaEO)*math.cos(kappaEO)+math.cos(omegaEO)*math.sin(phiEO)*math.sin(kappaEO);\n",
    "r33= math.cos(omegaEO)*math.cos(phiEO);\n",
    "\n",
    "print(r11,r12,r13)\n",
    "print(r21,r22,r23)\n",
    "print(r31,r32,r33)\n",
    "print(20*\"-\")\n",
    "R2=np.array([[r11,r12,r13],[r21,r22,r23],[r31,r32,r33]])\n",
    "print(R2)\n",
    "\n",
    "\n"
   ]
  },
  {
   "cell_type": "code",
   "execution_count": 8,
   "metadata": {},
   "outputs": [
    {
     "name": "stdout",
     "output_type": "stream",
     "text": [
      "Input Array has Dims: (6, 23) \n",
      "calc deltas of Points\n",
      "===========================\n",
      "calc U, V and W\n",
      "===========================\n",
      "calc lger\n",
      "calc A-Matrix x-equations\n",
      "calc A-Matrix y-equations\n",
      "===========================\n",
      "[[  1.50000000e-01   0.00000000e+00   0.00000000e+00   0.00000000e+00\n",
      "    0.00000000e+00   0.00000000e+00   0.00000000e+00   0.00000000e+00\n",
      "    0.00000000e+00   0.00000000e+00   0.00000000e+00   0.00000000e+00\n",
      "    0.00000000e+00   0.00000000e+00   0.00000000e+00   0.00000000e+00\n",
      "    0.00000000e+00   0.00000000e+00   0.00000000e+00   0.00000000e+00\n",
      "    0.00000000e+00   0.00000000e+00   0.00000000e+00]\n",
      " [  1.00000000e+00   1.36015800e+03  -1.40330200e+03  -1.80226400e+03\n",
      "    1.10000000e-01   1.10000000e-01   1.38896374e+03   1.34601309e+03\n",
      "   -1.82386137e+03   1.14232674e-01   1.10700280e-01  -3.56678504e-06\n",
      "    8.01961373e-05  -6.51351806e-05   2.35938940e-01   9.17064896e-02\n",
      "    1.10700280e-01  -3.53636363e-06   8.02569651e-05  -6.31996085e-05\n",
      "    9.48975040e-02   2.24637479e-01  -1.14232674e-01]\n",
      " [  2.00000000e+00   1.03739800e+03   1.02511800e+03  -1.50226400e+03\n",
      "   -1.10000000e-01   1.10000000e-01  -1.03796418e+03   1.09349196e+03\n",
      "   -1.45284698e+03  -1.07165193e-01   1.12898189e-01  -2.08401501e-06\n",
      "    1.05461935e-04   7.05262024e-05   2.30729348e-01  -7.35020738e-02\n",
      "    1.12898189e-01  -4.46320938e-06   1.00704720e-04  -8.08508258e-05\n",
      "   -6.12219392e-02   4.07818180e-01   1.07165193e-01]\n",
      " [  3.00000000e+00  -1.25459200e+03   1.13788800e+03  -1.70226400e+03\n",
      "   -1.10000000e-01  -1.10000000e-01  -1.22878935e+03  -1.19026394e+03\n",
      "   -1.68518289e+03  -1.09375904e-01  -1.05946715e-01  -1.77608649e-06\n",
      "    9.09631152e-05   6.21138091e-05   2.25521794e-01   8.44320769e-02\n",
      "   -1.05946715e-01  -1.80804941e-06   9.08992051e-05   6.00801577e-05\n",
      "    9.27997609e-02   2.84591910e-01   1.09375904e-01]\n",
      " [  4.00000000e+00  -1.32640200e+03  -1.42296200e+03  -1.75226400e+03\n",
      "    1.10000000e-01  -1.10000000e-01   1.32577327e+03  -1.34033144e+03\n",
      "   -1.81670832e+03   1.09465008e-01  -1.10667031e-01  -3.53960741e-06\n",
      "    8.05943216e-05  -6.27689177e-05   2.30540313e-01  -7.35004372e-02\n",
      "   -1.10667031e-01  -1.63633887e-06   8.43999196e-05   5.83271722e-05\n",
      "   -7.01375587e-02   2.28996873e-01  -1.09465008e-01]\n",
      " [  0.00000000e+00   1.13200000e+00   1.13200000e+00   2.00226400e+03\n",
      "   -3.14159265e-02   1.57079633e-02  -1.53938040e+00   0.00000000e+00\n",
      "    0.00000000e+00   0.00000000e+00   0.00000000e+00   0.00000000e+00\n",
      "    0.00000000e+00   0.00000000e+00   0.00000000e+00   0.00000000e+00\n",
      "    0.00000000e+00   0.00000000e+00   0.00000000e+00   0.00000000e+00\n",
      "    0.00000000e+00   0.00000000e+00   0.00000000e+00]]\n"
     ]
    }
   ],
   "source": [
    "Alger=RRWS.calcDifferentials(PointMatIn,R2)\n",
    "\n",
    "print('===========================')\n",
    "print(Alger)\n",
    "#Storring all input data in a Matrix Structure"
   ]
  },
  {
   "cell_type": "code",
   "execution_count": 9,
   "metadata": {},
   "outputs": [
    {
     "name": "stdout",
     "output_type": "stream",
     "text": [
      "-0.00000356679 0.00008019614 -0.00006513518\n"
     ]
    }
   ],
   "source": [
    "print(\"%0.11f\" % PointMatIn[1,11],  \"%0.11f\" %PointMatIn[1,12] , \"%0.11f\" %PointMatIn[1,13])"
   ]
  },
  {
   "cell_type": "code",
   "execution_count": 10,
   "metadata": {},
   "outputs": [
    {
     "data": {
      "text/plain": [
       "array([[ -3.56678504e-06,   8.01961373e-05,  -6.51351806e-05],\n",
       "       [ -2.08401501e-06,   1.05461935e-04,   7.05262024e-05],\n",
       "       [ -1.77608649e-06,   9.09631152e-05,   6.21138091e-05],\n",
       "       [ -3.53960741e-06,   8.05943216e-05,  -6.27689177e-05]])"
      ]
     },
     "execution_count": 10,
     "metadata": {},
     "output_type": "execute_result"
    }
   ],
   "source": [
    "PointMatIn[1:5,11:14]"
   ]
  },
  {
   "cell_type": "markdown",
   "metadata": {},
   "source": [
    "**make observation vector**"
   ]
  },
  {
   "cell_type": "code",
   "execution_count": 11,
   "metadata": {},
   "outputs": [
    {
     "name": "stdout",
     "output_type": "stream",
     "text": [
      "[[ 0.11]\n",
      " [-0.11]\n",
      " [-0.11]\n",
      " [ 0.11]\n",
      " [ 0.11]\n",
      " [ 0.11]\n",
      " [-0.11]\n",
      " [-0.11]]\n"
     ]
    }
   ],
   "source": [
    "lgem=np.zeros((8,1))\n",
    "lgem[0:4,0]=Alger[1:5,4]\n",
    "lgem[4:9,0]=Alger[1:5,5]\n",
    "\n",
    "print(lgem)\n"
   ]
  },
  {
   "cell_type": "markdown",
   "metadata": {},
   "source": [
    "**calculate observations from stereo view equations**"
   ]
  },
  {
   "cell_type": "code",
   "execution_count": 12,
   "metadata": {},
   "outputs": [
    {
     "name": "stdout",
     "output_type": "stream",
     "text": [
      "===========================\n",
      "[[ 0.11423267]\n",
      " [-0.10716519]\n",
      " [-0.1093759 ]\n",
      " [ 0.10946501]\n",
      " [ 0.11070028]\n",
      " [ 0.11289819]\n",
      " [-0.10594671]\n",
      " [-0.11066703]]\n",
      "[[-0.00423267]\n",
      " [-0.00283481]\n",
      " [-0.0006241 ]\n",
      " [ 0.00053499]\n",
      " [-0.00070028]\n",
      " [-0.00289819]\n",
      " [-0.00405329]\n",
      " [ 0.00066703]]\n"
     ]
    }
   ],
   "source": [
    "lger=np.zeros((8,1))\n",
    "lger[0:4,0]=Alger[1:5,9]\n",
    "lger[4:9,0]=Alger[1:5,10]\n",
    "\n",
    "print('===========================')\n",
    "print(lger)\n",
    "\n",
    "dl=lgem - lger\n",
    "print(dl)\n",
    "\n",
    "#https://support.pcigeomatics.com/hc/en-us/articles/203483349-Heading-Pitch-Roll-vs-Omega-Phi-Kappa"
   ]
  },
  {
   "cell_type": "code",
   "execution_count": 7,
   "metadata": {},
   "outputs": [
    {
     "data": {
      "text/plain": [
       "matrix([[ 0.03140688,  0.99899787,  0.0318884 ],\n",
       "        [-0.99938325,  0.0318884 , -0.01470518],\n",
       "        [-0.01570732, -0.03140688,  0.99938325]])"
      ]
     },
     "execution_count": 7,
     "metadata": {},
     "output_type": "execute_result"
    }
   ],
   "source": [
    "omegaEO=-2.0*math.pi/200.0          \n",
    "phiEO=1.0*math.pi/200.0     \n",
    "kappaEO=-98.0*math.pi/200.0\n",
    "\n",
    "rotMat.RyprG(kappaEO,phiEO,omegaEO)\n"
   ]
  },
  {
   "cell_type": "code",
   "execution_count": 8,
   "metadata": {},
   "outputs": [
    {
     "name": "stdout",
     "output_type": "stream",
     "text": [
      "[[ 0.03140688  0.99899787  0.0318884 ]\n",
      " [-0.99938325  0.0318884  -0.01470518]\n",
      " [-0.01570732 -0.03140688  0.99938325]]\n"
     ]
    }
   ],
   "source": [
    "r=omegaEO\n",
    "p=phiEO\n",
    "y=kappaEO\n",
    "Rr = np.matrix([[1.0, 0.0, 0.0],[0.0, math.cos(r), -math.sin(r)],[0.0, math.sin(r), math.cos(r)]])\n",
    "Rp = np.matrix([[math.cos(p), 0.0, math.sin(p)],[0.0, 1.0, 0.0],[-math.sin(p), 0.0, math.cos(p)]])\n",
    "Ry = np.matrix([[math.cos(y), -math.sin(y), 0.0],[math.sin(y), math.cos(y), 0.0],[0.0, 0.0, 1.0]])\n",
    "\n",
    "R= np.dot(np.dot(Ry,Rp),Rr)\n",
    "\n",
    "print(R)\n"
   ]
  },
  {
   "cell_type": "code",
   "execution_count": 11,
   "metadata": {},
   "outputs": [
    {
     "name": "stdout",
     "output_type": "stream",
     "text": [
      "[ 0.]\n"
     ]
    }
   ],
   "source": [
    "delta = np.zeros((3,1))\n",
    "print(delta[1])"
   ]
  },
  {
   "cell_type": "markdown",
   "metadata": {},
   "source": [
    "generate A-Matrix\n",
    "==="
   ]
  },
  {
   "cell_type": "code",
   "execution_count": 13,
   "metadata": {},
   "outputs": [
    {
     "name": "stdout",
     "output_type": "stream",
     "text": [
      "(8, 6)\n",
      "[[-0.00000357  0.0000802  -0.00006514  0.23593894  0.09170649  0.11070028]\n",
      " [-0.00000208  0.00010546  0.00007053  0.23072935 -0.07350207  0.11289819]\n",
      " [-0.00000178  0.00009096  0.00006211  0.22552179  0.08443208 -0.10594671]\n",
      " [-0.00000354  0.00008059 -0.00006277  0.23054031 -0.07350044 -0.11066703]\n",
      " [-0.00000354  0.00008026 -0.0000632   0.0948975   0.22463748 -0.11423267]\n",
      " [-0.00000446  0.0001007  -0.00008085 -0.06122194  0.40781818  0.10716519]\n",
      " [-0.00000181  0.0000909   0.00006008  0.09279976  0.28459191  0.1093759 ]\n",
      " [-0.00000164  0.0000844   0.00005833 -0.07013756  0.22899687 -0.10946501]]\n"
     ]
    }
   ],
   "source": [
    "A1=Alger[1:5,11:17]\n",
    "A2=Alger[1:5,17:23]\n",
    "A=np.concatenate(( A1,A2),axis=0)\n",
    "\n",
    "print(A.shape)\n",
    "np.set_printoptions(precision=8,suppress=True)\n",
    "print(A)\n",
    "#print in a better formated way"
   ]
  },
  {
   "cell_type": "markdown",
   "metadata": {},
   "source": [
    "Cal Adjustment Interation\n",
    "==="
   ]
  },
  {
   "cell_type": "code",
   "execution_count": 14,
   "metadata": {},
   "outputs": [
    {
     "name": "stdout",
     "output_type": "stream",
     "text": [
      "[[-12288.        ]\n",
      " [  -512.        ]\n",
      " [   224.        ]\n",
      " [    -0.00970913]\n",
      " [    -0.00730498]\n",
      " [    -0.0138185 ]]\n"
     ]
    }
   ],
   "source": [
    "N=np.dot(A.T,A)\n",
    "Qxx=np.linalg.inv(N)\n",
    "dx=np.dot(Qxx,np.dot(A.T,dl))\n",
    "print(dx)"
   ]
  },
  {
   "cell_type": "markdown",
   "metadata": {},
   "source": [
    "Update Unknowns\n",
    "==="
   ]
  },
  {
   "cell_type": "code",
   "execution_count": 66,
   "metadata": {},
   "outputs": [
    {
     "name": "stdout",
     "output_type": "stream",
     "text": [
      "(6, 23)\n",
      "(6, 23)\n"
     ]
    }
   ],
   "source": [
    "print(PointMatIn.shape)\n",
    "PointMatUpdate=PointMatIn\n",
    "print(PointMatUpdate.shape)\n",
    "PointMatUpdate[5,:]=[0,      dx[0,0],      dx[1,0], dx[2,0],  dx[3,0],  dx[5,0],dx[5,0],0,0,0,0,0,0,0,0,0,0,0,0,0,0,0,0]  \n"
   ]
  },
  {
   "cell_type": "code",
   "execution_count": 67,
   "metadata": {},
   "outputs": [
    {
     "name": "stdout",
     "output_type": "stream",
     "text": [
      "0.0138185018571\n"
     ]
    }
   ],
   "source": [
    "print(dx[5,0])"
   ]
  },
  {
   "cell_type": "code",
   "execution_count": 16,
   "metadata": {},
   "outputs": [
    {
     "name": "stdout",
     "output_type": "stream",
     "text": [
      "Input Array has Dims: (6, 23) \n",
      "calc deltas of Points\n",
      "===========================\n",
      "calc UVW\n",
      "===========================\n",
      "calc lger\n",
      "calc A-Matrix x-equations\n",
      "calc A-Matrix y-equations\n",
      "===========================\n",
      "[[  1.50000000e-01   0.00000000e+00   0.00000000e+00   0.00000000e+00\n",
      "    0.00000000e+00   0.00000000e+00   0.00000000e+00   0.00000000e+00\n",
      "    0.00000000e+00   0.00000000e+00   0.00000000e+00   0.00000000e+00\n",
      "    0.00000000e+00   0.00000000e+00   0.00000000e+00   0.00000000e+00\n",
      "    0.00000000e+00   0.00000000e+00   0.00000000e+00   0.00000000e+00\n",
      "    0.00000000e+00   0.00000000e+00   0.00000000e+00]\n",
      " [  1.00000000e+00   9.55215800e+03  -1.03130200e+03  -2.01026400e+03\n",
      "    1.10000000e-01   1.10000000e-01   9.55527931e+03  -1.17038043e+03\n",
      "   -1.91711101e+03   7.47631144e-01  -9.15737603e-02  -7.95955227e-05\n",
      "    2.12662251e-05  -3.89123473e-04   4.43319760e-01   3.87774507e+00\n",
      "   -9.16539024e-02  -7.80760804e-05  -2.89411889e-06   4.79511940e-05\n",
      "    7.65734282e+00  -4.57803268e-01  -7.48285444e-01]\n",
      " [  2.00000000e+00   9.22939800e+03   1.39711800e+03  -1.71026400e+03\n",
      "   -1.10000000e-01   1.10000000e-01   9.23953433e+03   1.27188880e+03\n",
      "   -1.75272170e+03   7.90730294e-01   1.08849751e-01  -8.71462095e-05\n",
      "    2.46179850e-05  -4.50171916e-04  -5.88673427e-01   4.62366847e+00\n",
      "    1.08952037e-01  -8.57958209e-05   3.14572808e-06  -6.17263067e-05\n",
      "    8.86820257e+00   5.71248867e-01  -7.91473343e-01]\n",
      " [  3.00000000e+00   6.93740800e+03   1.50988800e+03  -1.91026400e+03\n",
      "   -1.10000000e-01  -1.10000000e-01   6.94859954e+03   1.38056765e+03\n",
      "   -1.96659539e+03   5.29997139e-01   1.05301349e-01  -7.72085760e-05\n",
      "    1.46231839e-05  -2.68836152e-04  -3.83773591e-01   3.66175579e+00\n",
      "    1.05367905e-01  -7.64589815e-05   2.70403343e-06  -5.32117925e-05\n",
      "    5.60644298e+00   3.65564061e-01  -5.30332126e-01]\n",
      " [  4.00000000e+00   6.86559800e+03  -1.05096200e+03  -1.96026400e+03\n",
      "    1.10000000e-01  -1.10000000e-01   6.86851899e+03  -1.17890201e+03\n",
      "   -1.87542767e+03   5.49356215e-01  -9.42906542e-02  -8.09976458e-05\n",
      "    1.59037684e-05  -2.92211422e-04   3.31644852e-01   4.05077179e+00\n",
      "   -9.43511146e-02  -7.98063742e-05  -3.03840038e-06   5.04634219e-05\n",
      "    6.12004141e+00  -3.52616219e-01  -5.49708470e-01]\n",
      " [  0.00000000e+00  -8.19200000e+03  -3.72000000e+02   2.08000000e+02\n",
      "    5.52320040e-02   3.29426194e-03   3.29426194e-03   0.00000000e+00\n",
      "    0.00000000e+00   0.00000000e+00   0.00000000e+00   0.00000000e+00\n",
      "    0.00000000e+00   0.00000000e+00   0.00000000e+00   0.00000000e+00\n",
      "    0.00000000e+00   0.00000000e+00   0.00000000e+00   0.00000000e+00\n",
      "    0.00000000e+00   0.00000000e+00   0.00000000e+00]]\n"
     ]
    }
   ],
   "source": [
    "R=rotMat.RyprG(PointMatUpdate[5,6],PointMatUpdate[5,5],PointMatUpdate[5,4])\n",
    "\n",
    "Alger2=RRWS.calcDifferentials(PointMatUpdate,R)\n",
    "\n",
    "print('===========================')\n",
    "print(Alger2)\n"
   ]
  },
  {
   "cell_type": "code",
   "execution_count": 17,
   "metadata": {},
   "outputs": [
    {
     "name": "stdout",
     "output_type": "stream",
     "text": [
      "(8, 6)\n"
     ]
    }
   ],
   "source": [
    "A1=Alger2[1:5,11:17]\n",
    "A2=Alger2[1:5,17:23]\n",
    "A=np.concatenate(( A1,A2),axis=0)\n",
    "\n",
    "print(A.shape)"
   ]
  },
  {
   "cell_type": "markdown",
   "metadata": {},
   "source": [
    "**make the Delta Vector between observations and calculated observations**"
   ]
  },
  {
   "cell_type": "code",
   "execution_count": 18,
   "metadata": {},
   "outputs": [
    {
     "name": "stdout",
     "output_type": "stream",
     "text": [
      "===========================\n",
      "[[ 0.74763114]\n",
      " [ 0.79073029]\n",
      " [ 0.52999714]\n",
      " [ 0.54935622]\n",
      " [-0.09157376]\n",
      " [ 0.10884975]\n",
      " [ 0.10530135]\n",
      " [-0.09429065]]\n",
      "[[ 0.63763114]\n",
      " [ 0.90073029]\n",
      " [ 0.63999714]\n",
      " [ 0.43935622]\n",
      " [-0.20157376]\n",
      " [-0.00115025]\n",
      " [ 0.21530135]\n",
      " [ 0.01570935]]\n"
     ]
    }
   ],
   "source": [
    "lger=np.zeros((8,1))\n",
    "lger[0:4,0]=Alger2[1:5,9]\n",
    "lger[4:9,0]=Alger2[1:5,10]\n",
    "\n",
    "print('===========================')\n",
    "print(lger)\n",
    "\n",
    "dl=lger - lgem\n",
    "print(dl)\n"
   ]
  },
  {
   "cell_type": "code",
   "execution_count": 19,
   "metadata": {},
   "outputs": [
    {
     "name": "stdout",
     "output_type": "stream",
     "text": [
      "[[ -3.90400000e+03]\n",
      " [ -7.53664000e+05]\n",
      " [ -4.50560000e+04]\n",
      " [  5.03911598e-02]\n",
      " [ -1.41308375e-01]\n",
      " [  1.30878805e+00]]\n"
     ]
    }
   ],
   "source": [
    "N=np.dot(A.T,A)\n",
    "Qxx=np.linalg.inv(N)\n",
    "dx=np.dot(Qxx,np.dot(A.T,dl))\n",
    "print(dx)"
   ]
  },
  {
   "cell_type": "code",
   "execution_count": 20,
   "metadata": {},
   "outputs": [
    {
     "name": "stdout",
     "output_type": "stream",
     "text": [
      "-45056.0\n"
     ]
    }
   ],
   "source": [
    "print(dx[2,0])"
   ]
  },
  {
   "cell_type": "code",
   "execution_count": null,
   "metadata": {},
   "outputs": [],
   "source": []
  }
 ],
 "metadata": {
  "kernelspec": {
   "display_name": "Python 3",
   "language": "python",
   "name": "python3"
  },
  "language_info": {
   "codemirror_mode": {
    "name": "ipython",
    "version": 3
   },
   "file_extension": ".py",
   "mimetype": "text/x-python",
   "name": "python",
   "nbconvert_exporter": "python",
   "pygments_lexer": "ipython3",
   "version": "3.4.5"
  }
 },
 "nbformat": 4,
 "nbformat_minor": 2
}
