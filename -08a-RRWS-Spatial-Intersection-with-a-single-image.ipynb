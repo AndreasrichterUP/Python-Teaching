{
 "cells": [
  {
   "cell_type": "code",
   "execution_count": 3,
   "metadata": {},
   "outputs": [],
   "source": [
    "###\n",
    "import sys\n",
    "import numpy as np\n",
    "import pandas as pd\n",
    "import scripts.rrws as RRWS\n",
    "import scripts.RotationMatrixTools as rotMat\n",
    "\n",
    "#as spin\n",
    "# https://mail.python.org/pipermail/tutor/2004-November/033608.html \n",
    "    \n",
    "    \n",
    "    "
   ]
  },
  {
   "cell_type": "code",
   "execution_count": 4,
   "metadata": {},
   "outputs": [
    {
     "name": "stdout",
     "output_type": "stream",
     "text": [
      "                                 c[m]  x0[m]   y0[m]\n",
      "0                                  0.15  0.0     0.0\n",
      "1            PNR X[m]     Y[m]    Z[m]   x[m]   y[m]\n",
      "2         5 1361.29  -1402.17  200   0.110   0.110  \n",
      "3           6 1337.27  -1019.37  210   0.080   0.110\n",
      "4           7  977.48  -1029.61  205   0.080   0.080\n",
      "5           8  999.37  -1421.83  190   0.110   0.080\n",
      "6  X0[m]  Y0[m]   Z0[m]     omega[gon] phi[gon] k...\n",
      "7  1.132  1.132  2002.264  -2.0          1.0     ...\n"
     ]
    }
   ],
   "source": [
    "#\n",
    "\n",
    "\n",
    "inputFile=pd.read_csv('figures/Beo.dat')\n",
    "\n",
    "print(inputFile)\n"
   ]
  },
  {
   "cell_type": "code",
   "execution_count": null,
   "metadata": {},
   "outputs": [],
   "source": []
  },
  {
   "cell_type": "markdown",
   "metadata": {},
   "source": [
    "**reading input data**"
   ]
  },
  {
   "cell_type": "code",
   "execution_count": 5,
   "metadata": {},
   "outputs": [],
   "source": [
    "p1 = RRWS.Point(1,  1361.29,  -1402.17,   200,   0.110,   0.110)  \n",
    "p2 = RRWS.Point(2,  1038.53,    1026.25,  500,  -0.110,   0.110)\n",
    "p3 = RRWS.Point(3, -1253.46,    1139.02,  300,  -0.110,  -0.110)\n",
    "p4 = RRWS.Point(4, -1325.27,   -1421.83,  250,   0.110,  -0.110)\n",
    "\n",
    "\n",
    "c=0.15  \n",
    "x0IO=0.0     \n",
    "y0IO=0.0\n",
    "#1.132  1.132  2002.264    -2.0        1.0     -98.0\n",
    "\n",
    "X0EO=1.132  \n",
    "Y0EO=1.132  \n",
    "Z0EO=2002.264  \n",
    "omegaEO=-2.0          \n",
    "phiEO=1.0     \n",
    "kappaEO=-98.0"
   ]
  },
  {
   "cell_type": "code",
   "execution_count": 6,
   "metadata": {},
   "outputs": [
    {
     "data": {
      "text/plain": [
       "0.11"
      ]
     },
     "execution_count": 6,
     "metadata": {},
     "output_type": "execute_result"
    }
   ],
   "source": [
    "p1.xI\n"
   ]
  },
  {
   "cell_type": "markdown",
   "metadata": {},
   "source": [
    "**make observation vector**"
   ]
  },
  {
   "cell_type": "code",
   "execution_count": 5,
   "metadata": {},
   "outputs": [
    {
     "name": "stdout",
     "output_type": "stream",
     "text": [
      "(8, 1)\n",
      "[[ 0.11]\n",
      " [-0.11]\n",
      " [-0.11]\n",
      " [ 0.11]\n",
      " [ 0.11]\n",
      " [ 0.11]\n",
      " [-0.11]\n",
      " [-0.11]]\n"
     ]
    }
   ],
   "source": [
    "lgem=np.zeros((8,1))\n",
    "print(lgem.shape)\n",
    "lgem=np.array([[p1.xI],[p2.xI],[p3.xI],[p4.xI],[p1.yI],[p2.yI],[p3.yI],[p4.yI]   ])\n",
    "print(lgem)\n"
   ]
  },
  {
   "cell_type": "markdown",
   "metadata": {},
   "source": [
    "**calculate observations from stereo view equations**"
   ]
  },
  {
   "cell_type": "code",
   "execution_count": 7,
   "metadata": {},
   "outputs": [
    {
     "data": {
      "text/plain": [
       "matrix([[ 0.99938325, -0.03140688, -0.01570732],\n",
       "        [-0.01470518,  0.0318884 , -0.99938325],\n",
       "        [ 0.0318884 ,  0.99899787,  0.03140688]])"
      ]
     },
     "execution_count": 7,
     "metadata": {},
     "output_type": "execute_result"
    }
   ],
   "source": [
    "rotMat.RyprG(omegaEO,phiEO,kappaEO).T\n"
   ]
  },
  {
   "cell_type": "code",
   "execution_count": 8,
   "metadata": {},
   "outputs": [
    {
     "data": {
      "text/plain": [
       "matrix([[ 0.99938325, -0.01470518,  0.0318884 ],\n",
       "        [-0.03140688,  0.0318884 ,  0.99899787],\n",
       "        [-0.01570732, -0.99938325,  0.03140688]])"
      ]
     },
     "execution_count": 8,
     "metadata": {},
     "output_type": "execute_result"
    }
   ],
   "source": [
    "rotMat.RyprG(omegaEO,phiEO,kappaEO)\n"
   ]
  },
  {
   "cell_type": "code",
   "execution_count": 9,
   "metadata": {},
   "outputs": [
    {
     "name": "stdout",
     "output_type": "stream",
     "text": [
      "1360.158\n",
      "-1403.3020000000001\n",
      "-1802.264\n"
     ]
    }
   ],
   "source": [
    "dx1=p1.Xw-X0EO\n",
    "dy1=p1.Yw-Y0EO\n",
    "dz1=p1.Zw-Z0EO\n",
    "print(dx1)\n",
    "print(dy1)\n",
    "print(dz1)\n",
    "\n",
    "\n",
    "\n",
    "#dx2=\n",
    "#dx3=\n",
    "#dx4=\n",
    "\n",
    "\n",
    "\n",
    "#U[i]= r11*dX[i]+r21*dY[i]+r31*dZ[i];\n",
    "#V[i]= r12*dX[i]+r22*dY[i]+r32*dZ[i];\n",
    "#W[i]= r13*dX[i]+r23*dY[i]+r33*dZ[i];\n",
    "\n",
    "#lger[i][0]=    xo - c*U[i]/W[i];\n",
    "#lger[i+anz][0]=yo - c*V[i]/W[i];"
   ]
  },
  {
   "cell_type": "code",
   "execution_count": null,
   "metadata": {},
   "outputs": [],
   "source": []
  }
 ],
 "metadata": {
  "kernelspec": {
   "display_name": "Python 3",
   "language": "python",
   "name": "python3"
  },
  "language_info": {
   "codemirror_mode": {
    "name": "ipython",
    "version": 3
   },
   "file_extension": ".py",
   "mimetype": "text/x-python",
   "name": "python",
   "nbconvert_exporter": "python",
   "pygments_lexer": "ipython3",
   "version": "3.6.1"
  }
 },
 "nbformat": 4,
 "nbformat_minor": 2
}
